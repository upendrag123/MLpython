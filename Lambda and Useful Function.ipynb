{
  "cells": [
    {
      "metadata": {
        "collapsed": true
      },
      "cell_type": "markdown",
      "source": "# Lambda"
    },
    {
      "metadata": {},
      "cell_type": "markdown",
      "source": "The **lambda** operator or lambda function is a way to create small anonymous functions, i.e. functions without a name. These functions are throw-away functions, i.e. they are just needed where they have been created. Lambda functions are mainly used in combination with the functions `filter(), map() and reduce()`."
    },
    {
      "metadata": {},
      "cell_type": "markdown",
      "source": "## Syntax"
    },
    {
      "metadata": {},
      "cell_type": "markdown",
      "source": "The general syntax of a `lambda` function is quite simple:  \n**lambda argument_list: expression** "
    },
    {
      "metadata": {
        "trusted": true
      },
      "cell_type": "code",
      "source": "def addtwo(x,y):\n    return(x+y)\naddtwo(10,20)",
      "execution_count": 1,
      "outputs": [
        {
          "output_type": "execute_result",
          "execution_count": 1,
          "data": {
            "text/plain": "30"
          },
          "metadata": {}
        }
      ]
    },
    {
      "metadata": {
        "trusted": true
      },
      "cell_type": "code",
      "source": "f=lambda x,y:x+y\nf(10,20)",
      "execution_count": 5,
      "outputs": [
        {
          "output_type": "execute_result",
          "execution_count": 5,
          "data": {
            "text/plain": "30"
          },
          "metadata": {}
        }
      ]
    },
    {
      "metadata": {
        "trusted": true
      },
      "cell_type": "code",
      "source": "f1=lambda x: x**2\nf1(144)",
      "execution_count": 8,
      "outputs": [
        {
          "output_type": "execute_result",
          "execution_count": 8,
          "data": {
            "text/plain": "20736"
          },
          "metadata": {}
        }
      ]
    },
    {
      "metadata": {},
      "cell_type": "markdown",
      "source": "## The map() Function"
    },
    {
      "metadata": {},
      "cell_type": "markdown",
      "source": "The advantage of the `lambda` operator can be seen when it is used in combination with the `map()` function.  \n**map()** is a function with two arguments:"
    },
    {
      "metadata": {},
      "cell_type": "markdown",
      "source": "### `r = map(func, seq)`"
    },
    {
      "metadata": {},
      "cell_type": "markdown",
      "source": "The first argument func is the name of a function and the second a sequence (e.g. a list) seq. **map()** applies the function func to all the elements of the sequence seq.   It returns a new list with the elements changed by func"
    },
    {
      "metadata": {
        "trusted": true
      },
      "cell_type": "code",
      "source": "lst = [1,2,3,4,5,6]",
      "execution_count": 9,
      "outputs": []
    },
    {
      "metadata": {
        "trusted": true
      },
      "cell_type": "code",
      "source": "def sq_num(x):\n    return(x**2)",
      "execution_count": 4,
      "outputs": []
    },
    {
      "metadata": {
        "trusted": true
      },
      "cell_type": "code",
      "source": "sq_num(12)",
      "execution_count": 5,
      "outputs": [
        {
          "output_type": "execute_result",
          "execution_count": 5,
          "data": {
            "text/plain": "144"
          },
          "metadata": {}
        }
      ]
    },
    {
      "metadata": {
        "trusted": true
      },
      "cell_type": "code",
      "source": "sq_lst=list(map(sq_num,lst))\nsq_lst",
      "execution_count": 9,
      "outputs": [
        {
          "output_type": "execute_result",
          "execution_count": 9,
          "data": {
            "text/plain": "[1, 4, 9, 16, 25, 36]"
          },
          "metadata": {}
        }
      ]
    },
    {
      "metadata": {
        "trusted": true
      },
      "cell_type": "code",
      "source": "for i in map(sq_num,lst):\n    print(i)",
      "execution_count": 10,
      "outputs": [
        {
          "output_type": "stream",
          "text": "1\n4\n9\n16\n25\n36\n",
          "name": "stdout"
        }
      ]
    },
    {
      "metadata": {
        "trusted": true
      },
      "cell_type": "code",
      "source": "for i in map(lambda x:x**2,lst):\n    print(i)",
      "execution_count": 12,
      "outputs": [
        {
          "output_type": "stream",
          "text": "1\n4\n9\n16\n25\n36\n",
          "name": "stdout"
        }
      ]
    },
    {
      "metadata": {
        "trusted": true
      },
      "cell_type": "code",
      "source": "result = map(lambda x:x**2,lst)\nresult= list(result)\nprint(result)",
      "execution_count": 8,
      "outputs": [
        {
          "output_type": "stream",
          "text": "[1, 4, 9, 16, 25, 36]\n",
          "name": "stdout"
        }
      ]
    },
    {
      "metadata": {
        "trusted": true
      },
      "cell_type": "code",
      "source": "for i in result:\n    print(i)",
      "execution_count": 9,
      "outputs": [
        {
          "output_type": "stream",
          "text": "1\n4\n9\n16\n25\n36\n",
          "name": "stdout"
        }
      ]
    },
    {
      "metadata": {
        "trusted": true
      },
      "cell_type": "code",
      "source": "list_a = [10,20,30]\nlist_b = [40,50,60]",
      "execution_count": 21,
      "outputs": []
    },
    {
      "metadata": {
        "trusted": true
      },
      "cell_type": "code",
      "source": "",
      "execution_count": null,
      "outputs": []
    },
    {
      "metadata": {
        "trusted": true
      },
      "cell_type": "code",
      "source": "result = map(lambda x,y : x+y, list_a,list_b)\nfor i in result:\n    print(i)",
      "execution_count": 22,
      "outputs": [
        {
          "output_type": "stream",
          "text": "50\n70\n90\n",
          "name": "stdout"
        }
      ]
    },
    {
      "metadata": {
        "trusted": true
      },
      "cell_type": "code",
      "source": "def fahrenheit(T):\n    return ((9/5)*T + 32)\n\ndef celsius(T):\n    return ((5/9)*(T-32))\n\ntemp = [36.5, 37, 37.5,39]\n# for i in map(fahrenheit, temp):\n#     print(i)\n\nF = list(map(fahrenheit, temp))\nprint(F)\n\nC = list(map(celsius,F))\nprint(C)\n",
      "execution_count": 17,
      "outputs": [
        {
          "output_type": "stream",
          "text": "[97.7, 98.60000000000001, 99.5, 102.2]\n[36.5, 37.00000000000001, 37.5, 39.0]\n",
          "name": "stdout"
        }
      ]
    },
    {
      "metadata": {
        "trusted": true
      },
      "cell_type": "code",
      "source": "",
      "execution_count": null,
      "outputs": []
    },
    {
      "metadata": {},
      "cell_type": "markdown",
      "source": "In the example above we haven't used lambda. By using lambda, we wouldn't have had to define and name the functions `fahrenheit()` and `celsius()`."
    },
    {
      "metadata": {
        "trusted": true
      },
      "cell_type": "code",
      "source": "temp = (36.5, 37, 37.5,39)\nFahrenheit = list(map(lambda T : (9/5)*T + 32,temp))\nCelcius = list(map(lambda T:(5/9)*(T -32),Fahrenheit))\nprint(Celcius)\nprint(Fahrenheit)",
      "execution_count": 11,
      "outputs": [
        {
          "output_type": "stream",
          "text": "[36.5, 37.00000000000001, 37.5, 39.0]\n[97.7, 98.60000000000001, 99.5, 102.2]\n",
          "name": "stdout"
        }
      ]
    },
    {
      "metadata": {},
      "cell_type": "markdown",
      "source": "**map()** can be applied to more than one list. The lists don't need to have the same length. `map()` will apply its `lambda` function to the elements of the argument lists, i.e. it first applies to the elements with the 0th index, then to the elements with the 1st index until the n-th index is reached:"
    },
    {
      "metadata": {
        "trusted": false
      },
      "cell_type": "code",
      "source": "f=lambda t1,t2:(9/5)*t1+t2\ntemp1=[40,50,60]\ntemp2=[60,50,60,70]\nr=list(map(f,temp1,temp2))  # map function return list of results return by a function on the base of different parameters\nprint(r)\n",
      "execution_count": 9,
      "outputs": [
        {
          "name": "stdout",
          "output_type": "stream",
          "text": "[132.0, 140.0, 168.0]\n"
        }
      ]
    },
    {
      "metadata": {
        "trusted": false
      },
      "cell_type": "code",
      "source": "a = [1,2,3,4]\nb = [17,12,11,10]\nc = [-1,-4,5,9]\nfunc1 = list(map(lambda x,y:x+y, a,b))\nfunc2 = list(map(lambda x,y,z:x+y+z, a,b,c))\nfunc3 = list(map(lambda x,y,z:x+y-z, a,b,c))\nprint(func1)\nprint(func2)\nprint(func3)",
      "execution_count": 52,
      "outputs": [
        {
          "name": "stdout",
          "output_type": "stream",
          "text": "[18, 14, 14, 14]\n[17, 10, 19, 23]\n[19, 18, 9, 5]\n"
        }
      ]
    },
    {
      "metadata": {
        "trusted": true
      },
      "cell_type": "code",
      "source": "",
      "execution_count": null,
      "outputs": []
    },
    {
      "metadata": {},
      "cell_type": "markdown",
      "source": "We can see in the example above that the parameter x gets its values from the list a, while y gets its values from b and z from list c."
    },
    {
      "metadata": {},
      "cell_type": "markdown",
      "source": "### Filtering\n"
    },
    {
      "metadata": {},
      "cell_type": "markdown",
      "source": "The function **filter(function, list)** offers an elegant way to filter out all the elements of a list, for which the function function returns `True`.   \nThe function **filter(f,l)** needs a function f as its first argument. f returns a Boolean value, i.e. either True or False.     \n  \nThis function will be applied to every element of the list l.  \n\nOnly if f returns True will the element of the list be included in the result list."
    },
    {
      "metadata": {
        "trusted": true
      },
      "cell_type": "code",
      "source": "fib = [0,1,1,2,3,5,8,13,21,34,55]\nresult = list(filter(lambda x: x % 2!=0, fib))\nprint(result)\n\nresult2 = list(filter(lambda x: x % 2 == 0, fib))\nprint(result2)\n",
      "execution_count": 15,
      "outputs": [
        {
          "output_type": "stream",
          "text": "[1, 1, 3, 5, 13, 21, 55]\n[0, 2, 8, 34]\n",
          "name": "stdout"
        }
      ]
    },
    {
      "metadata": {},
      "cell_type": "markdown",
      "source": "## Reducing a List"
    },
    {
      "metadata": {},
      "cell_type": "markdown",
      "source": "The function reduce(func, seq) continually applies the function func() to the sequence seq. It returns a single value. \n\nIf seq = [ s1, s2, s3, ... , sn ], calling `reduce(func, seq)` works like this:  \n+ At first the first two elements of seq will be applied to func, i.e. func(s1,s2).The list on which reduce() works looks now like this: [ func(s1, s2), s3, ... , sn ]\n+ In the next step func will be applied on the previous result and the third element of the list, i.e. func(func(s1, s2),s3)\nThe list looks like this now: [ func(func(s1, s2),s3), ... , sn ]  \n+ Continue like this until just one element is left and return this element as the result of `reduce()`"
    },
    {
      "metadata": {
        "trusted": true
      },
      "cell_type": "code",
      "source": "from functools import reduce",
      "execution_count": 23,
      "outputs": []
    },
    {
      "metadata": {
        "trusted": true
      },
      "cell_type": "code",
      "source": "reduce(lambda x,y: x+y, [47,11,42,13])",
      "execution_count": 24,
      "outputs": [
        {
          "output_type": "execute_result",
          "execution_count": 24,
          "data": {
            "text/plain": "113"
          },
          "metadata": {}
        }
      ]
    },
    {
      "metadata": {
        "trusted": true
      },
      "cell_type": "markdown",
      "source": "## Combining lambda, map and reduce in one"
    },
    {
      "metadata": {
        "trusted": true
      },
      "cell_type": "markdown",
      "source": "### Exercise : A store maintains a list of all customers with the customer number and the price of each item purchased by the customer. Find the total amount for each customer. "
    },
    {
      "metadata": {
        "trusted": true
      },
      "cell_type": "code",
      "source": "orders = [[1,(100,500.50,450)],[2,(200,300.75,450.50)],[3,(400,300.50,650.50)]]\nprint(orders)",
      "execution_count": 6,
      "outputs": [
        {
          "output_type": "stream",
          "text": "[[1, (100, 500.5, 450)], [2, (200, 300.75, 450.5)], [3, (400, 300.5, 650.5)]]\n",
          "name": "stdout"
        }
      ]
    },
    {
      "metadata": {
        "trusted": true
      },
      "cell_type": "code",
      "source": "list(map(lambda x: [x[0]],orders))",
      "execution_count": 9,
      "outputs": [
        {
          "output_type": "execute_result",
          "execution_count": 9,
          "data": {
            "text/plain": "[[1], [2], [3]]"
          },
          "metadata": {}
        }
      ]
    },
    {
      "metadata": {
        "trusted": true
      },
      "cell_type": "code",
      "source": "reduce(lambda a,b: a + b, orders[0][1])",
      "execution_count": 25,
      "outputs": [
        {
          "output_type": "execute_result",
          "execution_count": 25,
          "data": {
            "text/plain": "1050.5"
          },
          "metadata": {}
        }
      ]
    },
    {
      "metadata": {
        "trusted": true
      },
      "cell_type": "code",
      "source": "invoice_totals = list(map(lambda x: [x[0]] + [reduce(lambda a,b: a + b, x[1])], orders))\nprint (invoice_totals)",
      "execution_count": 7,
      "outputs": [
        {
          "output_type": "stream",
          "text": "[[1, 1050.5], [2, 951.25], [3, 1351.0]]\n",
          "name": "stdout"
        }
      ]
    },
    {
      "metadata": {},
      "cell_type": "markdown",
      "source": "## enumerate() function:\n### enumerate() adds a counter to an iterable and returns a function object. "
    },
    {
      "metadata": {
        "trusted": true
      },
      "cell_type": "code",
      "source": "l1 = ['Hello','World','hi']\nprint(list(enumerate(l1,start=10)))",
      "execution_count": 16,
      "outputs": [
        {
          "output_type": "stream",
          "text": "[(10, 'Hello'), (11, 'World'), (12, 'hi')]\n",
          "name": "stdout"
        }
      ]
    },
    {
      "metadata": {},
      "cell_type": "markdown",
      "source": "## zip() function:\n### zip() takes number of iterables as input and returns list of tuples with first element of list 1 and first element of list2 and so on....."
    },
    {
      "metadata": {
        "trusted": true
      },
      "cell_type": "code",
      "source": "l1 = [1,2,3,4]\nl2 = ['a','b','c','d']\nl3 = [1.1,2.1,3.1,4.1]\nprint(list(zip(l1,l2,l3)))",
      "execution_count": 17,
      "outputs": [
        {
          "output_type": "stream",
          "text": "[(1, 'a', 1.1), (2, 'b', 2.1), (3, 'c', 3.1), (4, 'd', 4.1)]\n",
          "name": "stdout"
        }
      ]
    }
  ],
  "metadata": {
    "kernelspec": {
      "name": "python36",
      "display_name": "Python 3.6",
      "language": "python"
    },
    "language_info": {
      "mimetype": "text/x-python",
      "nbconvert_exporter": "python",
      "name": "python",
      "pygments_lexer": "ipython3",
      "version": "3.6.6",
      "file_extension": ".py",
      "codemirror_mode": {
        "version": 3,
        "name": "ipython"
      }
    }
  },
  "nbformat": 4,
  "nbformat_minor": 2
}