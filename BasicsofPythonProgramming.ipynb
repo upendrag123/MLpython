{
  "cells": [
    {
      "metadata": {
        "collapsed": true
      },
      "cell_type": "markdown",
      "source": "## Basic Data Types\n1. Numeric - int, float\n2. Strings\n3. Boolean - True, False"
    },
    {
      "metadata": {
        "trusted": true
      },
      "cell_type": "code",
      "source": "# Variable is a reserved memory space use to store a value. \nroll = 1                            # assigning intger value to the roll variable\nheight = 5.5                        # assigning float value to the height variable\nname = \"Parth\"                      # assigning string value to the roll variable  (either ' ' or \" \")\nprint('Roll is : ', roll)\nprint('Height is : ', height)\nprint('Name is : ', name)",
      "execution_count": 2,
      "outputs": [
        {
          "output_type": "stream",
          "text": "Roll is :  1\nHeight is :  5.5\nName is :  Parth\n",
          "name": "stdout"
        }
      ]
    },
    {
      "metadata": {
        "trusted": true
      },
      "cell_type": "code",
      "source": "# type() is used to check the data type of the variable. \nprint(type(roll))\nprint(type(height))\nprint(type(name))",
      "execution_count": 3,
      "outputs": [
        {
          "output_type": "stream",
          "text": "<class 'int'>\n<class 'float'>\n<class 'str'>\n",
          "name": "stdout"
        }
      ]
    },
    {
      "metadata": {},
      "cell_type": "markdown",
      "source": "## Arithmetic Operators in Python"
    },
    {
      "metadata": {
        "trusted": true
      },
      "cell_type": "code",
      "source": "num1 = 10\nnum2 = 2",
      "execution_count": 4,
      "outputs": []
    },
    {
      "metadata": {
        "trusted": true
      },
      "cell_type": "code",
      "source": "print(\"Addition : \", num1 + num2)                                   # Addition Operator\nprint(\"Subtraction : \", num1 - num2)                                # Subtraction Operator\nprint(\"Multiplication : \", num1 *  num2)                            # Multiplication Operator\nprint(\"Division : \", num1 / num2)                                   # Division Operator\nprint(\"Raise to Power : \", num1 ** num2)                            # Power Operator\nprint(\"Modulus : \", num1 % num2)                                   # Modulus Operator",
      "execution_count": 5,
      "outputs": [
        {
          "output_type": "stream",
          "text": "Addition :  12\nSubtraction :  8\nMultiplication :  20\nDivision :  5.0\nRaise to Power :  100\nModulus :  0\n",
          "name": "stdout"
        }
      ]
    },
    {
      "metadata": {},
      "cell_type": "markdown",
      "source": "## Comparision Operators in Python\nAlways return a boolean value"
    },
    {
      "metadata": {
        "trusted": true
      },
      "cell_type": "code",
      "source": "print(\"Equal to : \", num1 == num2)                                    # Equality Operator\nprint(\"Not Equal to : \", num1 != num2)                                # Not Equals Operator\nprint(\"Greater Than : \", num1 >  num2)                                # Greater than Operator\nprint(\"Less Than : \", num1 < num2)                                   # Less than Operator\nprint(\"Greater Than Equal to : \", num1 >= num2)                      # Greater than equals to Operator\nprint(\"Less Than Equal to : \", num1 <= num2)                         # Less than equals to Operator",
      "execution_count": 38,
      "outputs": [
        {
          "output_type": "stream",
          "text": "Equal to :  False\nNot Equal to :  True\nGreater Than :  True\nLess Than :  False\nGreater Than Equal to :  True\nLess Than Equal to :  False\n",
          "name": "stdout"
        }
      ]
    },
    {
      "metadata": {},
      "cell_type": "markdown",
      "source": "## Assignment Operators in Python"
    },
    {
      "metadata": {
        "trusted": true
      },
      "cell_type": "code",
      "source": "result = num1 + num2                       # Assignment Operator\nprint(result)",
      "execution_count": 7,
      "outputs": [
        {
          "output_type": "stream",
          "text": "12\n",
          "name": "stdout"
        }
      ]
    },
    {
      "metadata": {
        "trusted": true
      },
      "cell_type": "code",
      "source": "num3 = 1\nprint(num3)",
      "execution_count": 8,
      "outputs": [
        {
          "output_type": "stream",
          "text": "1\n",
          "name": "stdout"
        }
      ]
    },
    {
      "metadata": {
        "trusted": true
      },
      "cell_type": "code",
      "source": "num3 += 1                                 # Increment by Operator\nprint(num3)",
      "execution_count": 11,
      "outputs": [
        {
          "output_type": "stream",
          "text": "4\n",
          "name": "stdout"
        }
      ]
    },
    {
      "metadata": {
        "trusted": true
      },
      "cell_type": "code",
      "source": "num3 -= 1                                 # Decrement by Operator\nprint(num3)",
      "execution_count": 13,
      "outputs": [
        {
          "output_type": "stream",
          "text": "2\n",
          "name": "stdout"
        }
      ]
    },
    {
      "metadata": {},
      "cell_type": "markdown",
      "source": "## Data Type Conversion (Type Casting)\nThere are several built-in functions to perform conversion from one data type to another. These functions return a new object representing the converted value."
    },
    {
      "metadata": {
        "trusted": true
      },
      "cell_type": "code",
      "source": "num1 = 20.5\nnum2 = 10.5\nresult = num1 + num2\nprint(result)",
      "execution_count": 16,
      "outputs": [
        {
          "output_type": "stream",
          "text": "31.0\n",
          "name": "stdout"
        }
      ]
    },
    {
      "metadata": {
        "trusted": true
      },
      "cell_type": "code",
      "source": "string1 = \"Learning\"\nstring2 = \"Python\"\nresult = string1 + \" \" + string2                     # python understands the operands and behave accordingly\nprint(result)",
      "execution_count": 17,
      "outputs": [
        {
          "output_type": "stream",
          "text": "Learning Python\n",
          "name": "stdout"
        }
      ]
    },
    {
      "metadata": {
        "trusted": true
      },
      "cell_type": "code",
      "source": "num1 = 20\nstring1 = '100'\nresult = str(num1) + string1\nprint(result)",
      "execution_count": 30,
      "outputs": [
        {
          "output_type": "stream",
          "text": "20100\n",
          "name": "stdout"
        }
      ]
    },
    {
      "metadata": {
        "trusted": true
      },
      "cell_type": "code",
      "source": "var = 0\nbool(var)",
      "execution_count": 28,
      "outputs": [
        {
          "output_type": "execute_result",
          "execution_count": 28,
          "data": {
            "text/plain": "False"
          },
          "metadata": {}
        }
      ]
    },
    {
      "metadata": {},
      "cell_type": "markdown",
      "source": "## Accepting input from user : input()\nAlways returns a string object"
    },
    {
      "metadata": {
        "trusted": true
      },
      "cell_type": "code",
      "source": "name = input('what is your name?')\nname",
      "execution_count": 31,
      "outputs": [
        {
          "output_type": "stream",
          "name": "stdout",
          "text": "what is your name?Pranali\n"
        },
        {
          "output_type": "execute_result",
          "execution_count": 31,
          "data": {
            "text/plain": "'Pranali'"
          },
          "metadata": {}
        }
      ]
    },
    {
      "metadata": {
        "trusted": true
      },
      "cell_type": "code",
      "source": "marks = input(\"Enter marks : \")\nprint(type(marks))\nprint(marks)",
      "execution_count": null,
      "outputs": [
        {
          "output_type": "stream",
          "name": "stdout",
          "text": "Enter marks : 67\n"
        }
      ]
    },
    {
      "metadata": {
        "trusted": true
      },
      "cell_type": "code",
      "source": "percentage = (int(marks)/150)*100\npercentage",
      "execution_count": 1,
      "outputs": [
        {
          "output_type": "error",
          "ename": "NameError",
          "evalue": "name 'marks' is not defined",
          "traceback": [
            "\u001b[0;31m---------------------------------------------------------------------------\u001b[0m",
            "\u001b[0;31mNameError\u001b[0m                                 Traceback (most recent call last)",
            "\u001b[0;32m<ipython-input-1-e7a479455551>\u001b[0m in \u001b[0;36m<module>\u001b[0;34m\u001b[0m\n\u001b[0;32m----> 1\u001b[0;31m \u001b[0mpercentage\u001b[0m \u001b[0;34m=\u001b[0m \u001b[0;34m(\u001b[0m\u001b[0mmarks\u001b[0m\u001b[0;34m/\u001b[0m\u001b[0;36m150\u001b[0m\u001b[0;34m)\u001b[0m\u001b[0;34m*\u001b[0m\u001b[0;36m100\u001b[0m\u001b[0;34m\u001b[0m\u001b[0m\n\u001b[0m\u001b[1;32m      2\u001b[0m \u001b[0mpercentage\u001b[0m\u001b[0;34m\u001b[0m\u001b[0m\n",
            "\u001b[0;31mNameError\u001b[0m: name 'marks' is not defined"
          ]
        }
      ]
    },
    {
      "metadata": {},
      "cell_type": "markdown",
      "source": "### Exercise 1: Write a program to prompt the user for hours and rate per hour to compute gross pay."
    },
    {
      "metadata": {
        "trusted": true
      },
      "cell_type": "code",
      "source": "hours=int(input(\"Enter number of hours \"))\nrate=float(input(\"Enter rate \"))\npay=hours*rate\nprint(pay)",
      "execution_count": 1,
      "outputs": [
        {
          "output_type": "stream",
          "name": "stdout",
          "text": "Enter number of hours 45\nEnter rate 12.5\n562.5\n"
        }
      ]
    },
    {
      "metadata": {},
      "cell_type": "markdown",
      "source": "## Conditional statements"
    },
    {
      "metadata": {},
      "cell_type": "markdown",
      "source": "#### 1. Multiple if's"
    },
    {
      "metadata": {
        "trusted": true
      },
      "cell_type": "code",
      "source": "x = 5\nif x < 10:\n    print('smaller')\n    print('First if block')\nif x > 10:\n    print('bigger')\nprint('done')",
      "execution_count": 72,
      "outputs": [
        {
          "output_type": "stream",
          "text": "bigger\ndone\n",
          "name": "stdout"
        }
      ]
    },
    {
      "metadata": {},
      "cell_type": "markdown",
      "source": "#### 2. Nested if's"
    },
    {
      "metadata": {
        "trusted": true
      },
      "cell_type": "code",
      "source": "x=150\nif x>1:\n    print('more than one')\n    if x<100:\n        print('less than 100')\nprint('all done')",
      "execution_count": 3,
      "outputs": [
        {
          "output_type": "stream",
          "text": "more than one\nall done\n",
          "name": "stdout"
        }
      ]
    },
    {
      "metadata": {},
      "cell_type": "markdown",
      "source": "#### 3. If else "
    },
    {
      "metadata": {
        "trusted": true
      },
      "cell_type": "code",
      "source": "x=12\nif x>=2:\n    print('Bigger')\nelse:\n    print('Smaller')\nprint('all done')",
      "execution_count": 74,
      "outputs": [
        {
          "output_type": "stream",
          "text": "Smaller\nall done\n",
          "name": "stdout"
        }
      ]
    },
    {
      "metadata": {},
      "cell_type": "markdown",
      "source": "#### 4. Nested if... else ..."
    },
    {
      "metadata": {
        "trusted": true
      },
      "cell_type": "code",
      "source": "x = 80\nif x<2:\n    print('small')\nelif x<10:\n    print('medium')\nelse:\n    print('large')\nprint('all done')",
      "execution_count": 75,
      "outputs": [
        {
          "output_type": "stream",
          "text": "small\nall done\n",
          "name": "stdout"
        }
      ]
    },
    {
      "metadata": {},
      "cell_type": "markdown",
      "source": "### Exercise 2: Rewrite your pay computation to give the employee 1.5 times the hourly rate for hours worked above 40 hours"
    },
    {
      "metadata": {
        "trusted": true
      },
      "cell_type": "code",
      "source": "hours=int(input(\"Enter Hours\"))\nrates=int(input(\"Enter Rates\"))\nextraHours=0\nif hours >40:\n    extraHours=hours-40\n    pay = extraHours*1.5*rates + 40*rates\nelse: \n    pay= hours * rate  \nprint(pay)",
      "execution_count": 4,
      "outputs": [
        {
          "output_type": "stream",
          "name": "stdout",
          "text": "Enter Hours45\nEnter Rates10\n475.0\n"
        }
      ]
    },
    {
      "metadata": {},
      "cell_type": "markdown",
      "source": "## Exception Handling : try and except structure\nA critical operation which can raise exception is placed inside the try clause and the code that handles exception is written in except clause."
    },
    {
      "metadata": {
        "trusted": true
      },
      "cell_type": "code",
      "source": "astr = \"Hello World\" \nistr = int(astr)\nprint('First', istr)",
      "execution_count": 6,
      "outputs": [
        {
          "output_type": "error",
          "ename": "ValueError",
          "evalue": "invalid literal for int() with base 10: 'Hello World'",
          "traceback": [
            "\u001b[0;31m---------------------------------------------------------------------------\u001b[0m",
            "\u001b[0;31mValueError\u001b[0m                                Traceback (most recent call last)",
            "\u001b[0;32m<ipython-input-6-034a66910d49>\u001b[0m in \u001b[0;36m<module>\u001b[0;34m\u001b[0m\n\u001b[1;32m      1\u001b[0m \u001b[0mastr\u001b[0m \u001b[0;34m=\u001b[0m \u001b[0;34m\"Hello World\"\u001b[0m\u001b[0;34m\u001b[0m\u001b[0m\n\u001b[0;32m----> 2\u001b[0;31m \u001b[0mistr\u001b[0m \u001b[0;34m=\u001b[0m \u001b[0mint\u001b[0m\u001b[0;34m(\u001b[0m\u001b[0mastr\u001b[0m\u001b[0;34m)\u001b[0m\u001b[0;34m\u001b[0m\u001b[0m\n\u001b[0m\u001b[1;32m      3\u001b[0m \u001b[0mprint\u001b[0m\u001b[0;34m(\u001b[0m\u001b[0;34m'First'\u001b[0m\u001b[0;34m,\u001b[0m \u001b[0mistr\u001b[0m\u001b[0;34m)\u001b[0m\u001b[0;34m\u001b[0m\u001b[0m\n",
            "\u001b[0;31mValueError\u001b[0m: invalid literal for int() with base 10: 'Hello World'"
          ]
        }
      ]
    },
    {
      "metadata": {
        "trusted": true
      },
      "cell_type": "code",
      "source": "astr = '123'\nistr = int(astr)\nprint('Second', istr)",
      "execution_count": 5,
      "outputs": [
        {
          "output_type": "stream",
          "text": "Second 123\n",
          "name": "stdout"
        }
      ]
    },
    {
      "metadata": {
        "trusted": true
      },
      "cell_type": "code",
      "source": "astr = input(\"Enter a number:\")\ntry:\n    ival=int(astr)\n    print('Number entered is: ', ival)\nexcept:\n    print('Not a number')\n",
      "execution_count": 8,
      "outputs": [
        {
          "output_type": "stream",
          "name": "stdout",
          "text": "Enter a number:four\nNot a number\n"
        }
      ]
    },
    {
      "metadata": {},
      "cell_type": "markdown",
      "source": "### Excercise 3: Rewrite the pay computation code to handle non numeric input values"
    },
    {
      "metadata": {
        "trusted": true
      },
      "cell_type": "code",
      "source": "hours = 0\nrate = 0\ntry:\n    hours = float(input('enter hours'))\nexcept:\n    print('enter a numeric value for hours')\ntry:\n    rate = float(input(\"enter rate\"))\nexcept:\n    print('enter a numeric value for rate')\nif hours > 40:\n    pay = 40 * rate + (hours-40)*1.5*rate\nelse:    \n    pay=hours * rate\nprint(pay)",
      "execution_count": 11,
      "outputs": [
        {
          "output_type": "stream",
          "name": "stdout",
          "text": "enter hours50\nenter rateten\nenter a numeric value for rate\n0.0\n"
        }
      ]
    },
    {
      "metadata": {},
      "cell_type": "markdown",
      "source": "### Assignment 1: Write a program to prompt for a score between 0.0 and 1.0. If the score is out of range, print an error. If the score is between 0.0 and 1.0, print a grade using the following table:\nScore Grade\n#### >= 0.9 A\n#### >= 0.8 B\n#### >= 0.7 C\n#### >= 0.6 D\n#### < 0.6 F If the user enters a value out of range, print a suitable error message and exit. For the test, enter a score of 0.85.\""
    },
    {
      "metadata": {
        "trusted": true
      },
      "cell_type": "code",
      "source": "score = float(input(\"Enter the score between 0.0 and 1.0\"))\nif score>=0.0 and score <=1.0:\n    print(\"Score is in the range\")\n    if score < 0.6:\n        grade = \"F\"\n    elif score >=0.6 and score < 0.7:\n        grade = \"D\"\n    elif score >=0.7 and score<0.8:\n        grade = \"C\"\n    elif score >=0.8 and score<0.9:\n        grade = \"B\"\n    elif score >=0.9 and score <1.0:\n        grade = \"A\"\n    print(\"Grade is\", grade)\nelse:\n    print(\"Score is out of range\")",
      "execution_count": 87,
      "outputs": [
        {
          "output_type": "stream",
          "name": "stdout",
          "text": "Enter the score between 0.0 and 1.00.8\nScore is in the range\nGrade is B\n"
        }
      ]
    },
    {
      "metadata": {
        "trusted": true
      },
      "cell_type": "code",
      "source": "try:\n    score=float(input('Prompt a score between 0.0 and 1.0'))\n    if (score < 0.0 or score > 1.0):\n        print(\"Score not in range\")\n    else:\n        print(\"Score is in range\")\n    if score < 0.6:\n        grade = \"F\"\n    elif score >=0.6 and score < 0.7:\n        grade = \"D\"\n    elif score >=0.7 and score<0.8:\n        grade = \"C\"\n    elif score >=0.8 and score<0.9:\n        grade = \"B\"\n    elif score >=0.9 and score <1.0:\n        grade = \"A\"\n    print(\"Grade is\", grade)\nexcept:\n    print(\"Enter numeric value for score\")\n\n",
      "execution_count": 93,
      "outputs": [
        {
          "output_type": "stream",
          "name": "stdout",
          "text": "Prompt a score between 0.0 and 1.00.4\nScore is in range\nGrade is F\n"
        }
      ]
    },
    {
      "metadata": {
        "trusted": true
      },
      "cell_type": "markdown",
      "source": "## Iterative Statements"
    },
    {
      "metadata": {},
      "cell_type": "markdown",
      "source": "### 1. While Loop"
    },
    {
      "metadata": {
        "trusted": true
      },
      "cell_type": "code",
      "source": "n = 5\nwhile n > 0 :\n    print(n)\n    n = n - 1 \nprint('Blastoff!')\nprint(n)",
      "execution_count": 12,
      "outputs": [
        {
          "output_type": "stream",
          "text": "5\n4\n3\n2\n1\nBlastoff!\n0\n",
          "name": "stdout"
        }
      ]
    },
    {
      "metadata": {},
      "cell_type": "markdown",
      "source": "#### Observe the following while loops and state the output"
    },
    {
      "metadata": {
        "trusted": true
      },
      "cell_type": "code",
      "source": "n = 0\nwhile n > 0 :\n    print('Lather')\n    print('Rinse')\nprint('Dry off!')",
      "execution_count": null,
      "outputs": []
    },
    {
      "metadata": {
        "trusted": true
      },
      "cell_type": "code",
      "source": "n = 5\nwhile n > 0 :\n    print('Lather')\n    print('Rinse')\nprint('Dry off!')",
      "execution_count": null,
      "outputs": []
    },
    {
      "metadata": {},
      "cell_type": "markdown",
      "source": "### break and continue statements"
    },
    {
      "metadata": {
        "trusted": true
      },
      "cell_type": "code",
      "source": "while True:\n    line = input('> ')\n    if line == 'done' :\n        break               # Terminates the loop statement and transfers execution to the statement immediately following the loop.\n    print(line)\nprint('All Done!')",
      "execution_count": 13,
      "outputs": [
        {
          "output_type": "stream",
          "name": "stdout",
          "text": "> hello\nhello\n> pranali\npranali\n> done\nAll Done!\n"
        }
      ]
    },
    {
      "metadata": {
        "trusted": true
      },
      "cell_type": "code",
      "source": "while True:\n    line = input('Enter some value ')\n    if line[0] == '#':\n        continue             # Skips the current iteration and immediately start the next iteration\n    if line == 'done' :\n        break\n    print(line)\nprint('Done!')",
      "execution_count": 14,
      "outputs": [
        {
          "output_type": "stream",
          "name": "stdout",
          "text": "Enter some value Pranali\nPranali\nEnter some value #hello\nEnter some value done\nDone!\n"
        }
      ]
    },
    {
      "metadata": {},
      "cell_type": "markdown",
      "source": "### 2. For Loop"
    },
    {
      "metadata": {
        "trusted": true
      },
      "cell_type": "code",
      "source": "for i in [5,4,3,2,1]:\n    print(i)\nprint(\"Blast Off\")",
      "execution_count": 15,
      "outputs": [
        {
          "output_type": "stream",
          "text": "5\n4\n3\n2\n1\nBlast Off\n",
          "name": "stdout"
        }
      ]
    },
    {
      "metadata": {},
      "cell_type": "markdown",
      "source": "### Excercise 4: Find the maximum element out of the list given as: [3,41,12,74,15,42,98] "
    },
    {
      "metadata": {
        "trusted": true
      },
      "cell_type": "code",
      "source": "largest = 0\nnum_list = [3,41,12,74,15,42,98]\nfor i in num_list:\n    if i > largest:\n        largest = i\nprint(largest)",
      "execution_count": 16,
      "outputs": [
        {
          "output_type": "stream",
          "text": "98\n",
          "name": "stdout"
        }
      ]
    },
    {
      "metadata": {},
      "cell_type": "markdown",
      "source": "### Assignment 2: For the list [3,41,12,74,15,42,98]. Find the number of elements, sum of all the elements and average of all the elements in the list."
    },
    {
      "metadata": {
        "trusted": true
      },
      "cell_type": "code",
      "source": "count = 0\ntotal = 0\navg = 0\nnum_list = [3,41,12,74,15,42,98]\nfor i in num_list:\n    count = count + 1\n    total = total + i\navg = total/count\nprint(\"Total no. of elements are \", count)\nprint(\"sum of the numbers is \", total)\nprint(\"Average is \", avg)",
      "execution_count": 117,
      "outputs": [
        {
          "output_type": "stream",
          "text": "Total no. of elements are  7\nsum of the numbers is  285\nAverage is  40.714285714285715\n",
          "name": "stdout"
        }
      ]
    },
    {
      "metadata": {
        "trusted": true
      },
      "cell_type": "code",
      "source": "",
      "execution_count": null,
      "outputs": []
    }
  ],
  "metadata": {
    "kernelspec": {
      "name": "python36",
      "display_name": "Python 3.6",
      "language": "python"
    },
    "language_info": {
      "mimetype": "text/x-python",
      "nbconvert_exporter": "python",
      "name": "python",
      "pygments_lexer": "ipython3",
      "version": "3.6.6",
      "file_extension": ".py",
      "codemirror_mode": {
        "version": 3,
        "name": "ipython"
      }
    }
  },
  "nbformat": 4,
  "nbformat_minor": 2
}