{
  "cells": [
    {
      "metadata": {
        "colab_type": "text",
        "id": "zU2cD4oeJ2aB"
      },
      "cell_type": "markdown",
      "source": "## Hitter's Case Study"
    },
    {
      "metadata": {
        "colab": {},
        "colab_type": "code",
        "id": "D1P7UcZNKQX6",
        "trusted": true
      },
      "cell_type": "code",
      "source": "import numpy as np\nimport pandas as pd",
      "execution_count": 1,
      "outputs": []
    },
    {
      "metadata": {
        "colab": {},
        "colab_type": "code",
        "id": "Ue_Vs-AVC-sK",
        "trusted": true
      },
      "cell_type": "code",
      "source": "# Load Dataset\nHitters = pd.read_csv(\"https://storage.googleapis.com/dimensionless/Analytics/Hitters.csv\", index_col=0)",
      "execution_count": 2,
      "outputs": []
    },
    {
      "metadata": {
        "colab": {
          "base_uri": "https://localhost:8080/",
          "height": 299
        },
        "colab_type": "code",
        "executionInfo": {
          "elapsed": 994,
          "status": "ok",
          "timestamp": 1559290751953,
          "user": {
            "displayName": "Pranali Chaudhari",
            "photoUrl": "",
            "userId": "09199364828146898293"
          },
          "user_tz": -330
        },
        "id": "zhApHeSCC-a2",
        "outputId": "59957458-1de0-4ad3-ceb2-c30305898186",
        "trusted": true
      },
      "cell_type": "code",
      "source": "Hitters .head()",
      "execution_count": 3,
      "outputs": [
        {
          "output_type": "execute_result",
          "execution_count": 3,
          "data": {
            "text/plain": "                   AtBat  Hits  HmRun  Runs  RBI  Walks  Years  CAtBat  CHits  \\\n-Andy Allanson       293    66      1    30   29     14      1     293     66   \n-Alan Ashby          315    81      7    24   38     39     14    3449    835   \n-Alvin Davis         479   130     18    66   72     76      3    1624    457   \n-Andre Dawson        496   141     20    65   78     37     11    5628   1575   \n-Andres Galarraga    321    87     10    39   42     30      2     396    101   \n\n                   CHmRun  CRuns  CRBI  CWalks League Division  PutOuts  \\\n-Andy Allanson          1     30    29      14      A        E      446   \n-Alan Ashby            69    321   414     375      N        W      632   \n-Alvin Davis           63    224   266     263      A        W      880   \n-Andre Dawson         225    828   838     354      N        E      200   \n-Andres Galarraga      12     48    46      33      N        E      805   \n\n                   Assists  Errors  Salary NewLeague  \n-Andy Allanson          33      20     NaN         A  \n-Alan Ashby             43      10   475.0         N  \n-Alvin Davis            82      14   480.0         A  \n-Andre Dawson           11       3   500.0         N  \n-Andres Galarraga       40       4    91.5         N  ",
            "text/html": "<div>\n<table border=\"1\" class=\"dataframe\">\n  <thead>\n    <tr style=\"text-align: right;\">\n      <th></th>\n      <th>AtBat</th>\n      <th>Hits</th>\n      <th>HmRun</th>\n      <th>Runs</th>\n      <th>RBI</th>\n      <th>Walks</th>\n      <th>Years</th>\n      <th>CAtBat</th>\n      <th>CHits</th>\n      <th>CHmRun</th>\n      <th>CRuns</th>\n      <th>CRBI</th>\n      <th>CWalks</th>\n      <th>League</th>\n      <th>Division</th>\n      <th>PutOuts</th>\n      <th>Assists</th>\n      <th>Errors</th>\n      <th>Salary</th>\n      <th>NewLeague</th>\n    </tr>\n  </thead>\n  <tbody>\n    <tr>\n      <th>-Andy Allanson</th>\n      <td>293</td>\n      <td>66</td>\n      <td>1</td>\n      <td>30</td>\n      <td>29</td>\n      <td>14</td>\n      <td>1</td>\n      <td>293</td>\n      <td>66</td>\n      <td>1</td>\n      <td>30</td>\n      <td>29</td>\n      <td>14</td>\n      <td>A</td>\n      <td>E</td>\n      <td>446</td>\n      <td>33</td>\n      <td>20</td>\n      <td>NaN</td>\n      <td>A</td>\n    </tr>\n    <tr>\n      <th>-Alan Ashby</th>\n      <td>315</td>\n      <td>81</td>\n      <td>7</td>\n      <td>24</td>\n      <td>38</td>\n      <td>39</td>\n      <td>14</td>\n      <td>3449</td>\n      <td>835</td>\n      <td>69</td>\n      <td>321</td>\n      <td>414</td>\n      <td>375</td>\n      <td>N</td>\n      <td>W</td>\n      <td>632</td>\n      <td>43</td>\n      <td>10</td>\n      <td>475.0</td>\n      <td>N</td>\n    </tr>\n    <tr>\n      <th>-Alvin Davis</th>\n      <td>479</td>\n      <td>130</td>\n      <td>18</td>\n      <td>66</td>\n      <td>72</td>\n      <td>76</td>\n      <td>3</td>\n      <td>1624</td>\n      <td>457</td>\n      <td>63</td>\n      <td>224</td>\n      <td>266</td>\n      <td>263</td>\n      <td>A</td>\n      <td>W</td>\n      <td>880</td>\n      <td>82</td>\n      <td>14</td>\n      <td>480.0</td>\n      <td>A</td>\n    </tr>\n    <tr>\n      <th>-Andre Dawson</th>\n      <td>496</td>\n      <td>141</td>\n      <td>20</td>\n      <td>65</td>\n      <td>78</td>\n      <td>37</td>\n      <td>11</td>\n      <td>5628</td>\n      <td>1575</td>\n      <td>225</td>\n      <td>828</td>\n      <td>838</td>\n      <td>354</td>\n      <td>N</td>\n      <td>E</td>\n      <td>200</td>\n      <td>11</td>\n      <td>3</td>\n      <td>500.0</td>\n      <td>N</td>\n    </tr>\n    <tr>\n      <th>-Andres Galarraga</th>\n      <td>321</td>\n      <td>87</td>\n      <td>10</td>\n      <td>39</td>\n      <td>42</td>\n      <td>30</td>\n      <td>2</td>\n      <td>396</td>\n      <td>101</td>\n      <td>12</td>\n      <td>48</td>\n      <td>46</td>\n      <td>33</td>\n      <td>N</td>\n      <td>E</td>\n      <td>805</td>\n      <td>40</td>\n      <td>4</td>\n      <td>91.5</td>\n      <td>N</td>\n    </tr>\n  </tbody>\n</table>\n</div>"
          },
          "metadata": {}
        }
      ]
    },
    {
      "metadata": {
        "colab": {
          "base_uri": "https://localhost:8080/",
          "height": 34
        },
        "colab_type": "code",
        "executionInfo": {
          "elapsed": 949,
          "status": "ok",
          "timestamp": 1559291488818,
          "user": {
            "displayName": "Pranali Chaudhari",
            "photoUrl": "",
            "userId": "09199364828146898293"
          },
          "user_tz": -330
        },
        "id": "gnZdT-llJDba",
        "outputId": "fcb17322-fd77-49f0-9dab-9a2dc4ed0334",
        "trusted": true
      },
      "cell_type": "code",
      "source": "Hitters.shape",
      "execution_count": 6,
      "outputs": [
        {
          "output_type": "execute_result",
          "execution_count": 6,
          "data": {
            "text/plain": "(263, 20)"
          },
          "metadata": {}
        }
      ]
    },
    {
      "metadata": {
        "colab": {
          "base_uri": "https://localhost:8080/",
          "height": 304
        },
        "colab_type": "code",
        "executionInfo": {
          "elapsed": 939,
          "status": "ok",
          "timestamp": 1559290764430,
          "user": {
            "displayName": "Pranali Chaudhari",
            "photoUrl": "",
            "userId": "09199364828146898293"
          },
          "user_tz": -330
        },
        "id": "QoOHH-xdJDST",
        "outputId": "dc522394-3be4-4332-9eca-9ab000623e06",
        "trusted": false
      },
      "cell_type": "code",
      "source": "Hitters.describe()",
      "execution_count": 5,
      "outputs": [
        {
          "data": {
            "text/html": "<div>\n<style scoped>\n    .dataframe tbody tr th:only-of-type {\n        vertical-align: middle;\n    }\n\n    .dataframe tbody tr th {\n        vertical-align: top;\n    }\n\n    .dataframe thead th {\n        text-align: right;\n    }\n</style>\n<table border=\"1\" class=\"dataframe\">\n  <thead>\n    <tr style=\"text-align: right;\">\n      <th></th>\n      <th>AtBat</th>\n      <th>Hits</th>\n      <th>HmRun</th>\n      <th>Runs</th>\n      <th>RBI</th>\n      <th>Walks</th>\n      <th>Years</th>\n      <th>CAtBat</th>\n      <th>CHits</th>\n      <th>CHmRun</th>\n      <th>CRuns</th>\n      <th>CRBI</th>\n      <th>CWalks</th>\n      <th>PutOuts</th>\n      <th>Assists</th>\n      <th>Errors</th>\n      <th>Salary</th>\n    </tr>\n  </thead>\n  <tbody>\n    <tr>\n      <th>count</th>\n      <td>322.000000</td>\n      <td>322.000000</td>\n      <td>322.000000</td>\n      <td>322.000000</td>\n      <td>322.000000</td>\n      <td>322.000000</td>\n      <td>322.000000</td>\n      <td>322.00000</td>\n      <td>322.000000</td>\n      <td>322.000000</td>\n      <td>322.000000</td>\n      <td>322.000000</td>\n      <td>322.000000</td>\n      <td>322.000000</td>\n      <td>322.000000</td>\n      <td>322.000000</td>\n      <td>263.000000</td>\n    </tr>\n    <tr>\n      <th>mean</th>\n      <td>380.928571</td>\n      <td>101.024845</td>\n      <td>10.770186</td>\n      <td>50.909938</td>\n      <td>48.027950</td>\n      <td>38.742236</td>\n      <td>7.444099</td>\n      <td>2648.68323</td>\n      <td>717.571429</td>\n      <td>69.490683</td>\n      <td>358.795031</td>\n      <td>330.118012</td>\n      <td>260.239130</td>\n      <td>288.937888</td>\n      <td>106.913043</td>\n      <td>8.040373</td>\n      <td>535.925882</td>\n    </tr>\n    <tr>\n      <th>std</th>\n      <td>153.404981</td>\n      <td>46.454741</td>\n      <td>8.709037</td>\n      <td>26.024095</td>\n      <td>26.166895</td>\n      <td>21.639327</td>\n      <td>4.926087</td>\n      <td>2324.20587</td>\n      <td>654.472627</td>\n      <td>86.266061</td>\n      <td>334.105886</td>\n      <td>333.219617</td>\n      <td>267.058085</td>\n      <td>280.704614</td>\n      <td>136.854876</td>\n      <td>6.368359</td>\n      <td>451.118681</td>\n    </tr>\n    <tr>\n      <th>min</th>\n      <td>16.000000</td>\n      <td>1.000000</td>\n      <td>0.000000</td>\n      <td>0.000000</td>\n      <td>0.000000</td>\n      <td>0.000000</td>\n      <td>1.000000</td>\n      <td>19.00000</td>\n      <td>4.000000</td>\n      <td>0.000000</td>\n      <td>1.000000</td>\n      <td>0.000000</td>\n      <td>0.000000</td>\n      <td>0.000000</td>\n      <td>0.000000</td>\n      <td>0.000000</td>\n      <td>67.500000</td>\n    </tr>\n    <tr>\n      <th>25%</th>\n      <td>255.250000</td>\n      <td>64.000000</td>\n      <td>4.000000</td>\n      <td>30.250000</td>\n      <td>28.000000</td>\n      <td>22.000000</td>\n      <td>4.000000</td>\n      <td>816.75000</td>\n      <td>209.000000</td>\n      <td>14.000000</td>\n      <td>100.250000</td>\n      <td>88.750000</td>\n      <td>67.250000</td>\n      <td>109.250000</td>\n      <td>7.000000</td>\n      <td>3.000000</td>\n      <td>190.000000</td>\n    </tr>\n    <tr>\n      <th>50%</th>\n      <td>379.500000</td>\n      <td>96.000000</td>\n      <td>8.000000</td>\n      <td>48.000000</td>\n      <td>44.000000</td>\n      <td>35.000000</td>\n      <td>6.000000</td>\n      <td>1928.00000</td>\n      <td>508.000000</td>\n      <td>37.500000</td>\n      <td>247.000000</td>\n      <td>220.500000</td>\n      <td>170.500000</td>\n      <td>212.000000</td>\n      <td>39.500000</td>\n      <td>6.000000</td>\n      <td>425.000000</td>\n    </tr>\n    <tr>\n      <th>75%</th>\n      <td>512.000000</td>\n      <td>137.000000</td>\n      <td>16.000000</td>\n      <td>69.000000</td>\n      <td>64.750000</td>\n      <td>53.000000</td>\n      <td>11.000000</td>\n      <td>3924.25000</td>\n      <td>1059.250000</td>\n      <td>90.000000</td>\n      <td>526.250000</td>\n      <td>426.250000</td>\n      <td>339.250000</td>\n      <td>325.000000</td>\n      <td>166.000000</td>\n      <td>11.000000</td>\n      <td>750.000000</td>\n    </tr>\n    <tr>\n      <th>max</th>\n      <td>687.000000</td>\n      <td>238.000000</td>\n      <td>40.000000</td>\n      <td>130.000000</td>\n      <td>121.000000</td>\n      <td>105.000000</td>\n      <td>24.000000</td>\n      <td>14053.00000</td>\n      <td>4256.000000</td>\n      <td>548.000000</td>\n      <td>2165.000000</td>\n      <td>1659.000000</td>\n      <td>1566.000000</td>\n      <td>1378.000000</td>\n      <td>492.000000</td>\n      <td>32.000000</td>\n      <td>2460.000000</td>\n    </tr>\n  </tbody>\n</table>\n</div>",
            "text/plain": "            AtBat        Hits       HmRun        Runs         RBI       Walks  \\\ncount  322.000000  322.000000  322.000000  322.000000  322.000000  322.000000   \nmean   380.928571  101.024845   10.770186   50.909938   48.027950   38.742236   \nstd    153.404981   46.454741    8.709037   26.024095   26.166895   21.639327   \nmin     16.000000    1.000000    0.000000    0.000000    0.000000    0.000000   \n25%    255.250000   64.000000    4.000000   30.250000   28.000000   22.000000   \n50%    379.500000   96.000000    8.000000   48.000000   44.000000   35.000000   \n75%    512.000000  137.000000   16.000000   69.000000   64.750000   53.000000   \nmax    687.000000  238.000000   40.000000  130.000000  121.000000  105.000000   \n\n            Years       CAtBat        CHits      CHmRun        CRuns  \\\ncount  322.000000    322.00000   322.000000  322.000000   322.000000   \nmean     7.444099   2648.68323   717.571429   69.490683   358.795031   \nstd      4.926087   2324.20587   654.472627   86.266061   334.105886   \nmin      1.000000     19.00000     4.000000    0.000000     1.000000   \n25%      4.000000    816.75000   209.000000   14.000000   100.250000   \n50%      6.000000   1928.00000   508.000000   37.500000   247.000000   \n75%     11.000000   3924.25000  1059.250000   90.000000   526.250000   \nmax     24.000000  14053.00000  4256.000000  548.000000  2165.000000   \n\n              CRBI       CWalks      PutOuts     Assists      Errors  \\\ncount   322.000000   322.000000   322.000000  322.000000  322.000000   \nmean    330.118012   260.239130   288.937888  106.913043    8.040373   \nstd     333.219617   267.058085   280.704614  136.854876    6.368359   \nmin       0.000000     0.000000     0.000000    0.000000    0.000000   \n25%      88.750000    67.250000   109.250000    7.000000    3.000000   \n50%     220.500000   170.500000   212.000000   39.500000    6.000000   \n75%     426.250000   339.250000   325.000000  166.000000   11.000000   \nmax    1659.000000  1566.000000  1378.000000  492.000000   32.000000   \n\n            Salary  \ncount   263.000000  \nmean    535.925882  \nstd     451.118681  \nmin      67.500000  \n25%     190.000000  \n50%     425.000000  \n75%     750.000000  \nmax    2460.000000  "
          },
          "execution_count": 5,
          "metadata": {},
          "output_type": "execute_result"
        }
      ]
    },
    {
      "metadata": {
        "colab": {},
        "colab_type": "code",
        "id": "opCM4QTxJDKf",
        "trusted": true
      },
      "cell_type": "code",
      "source": "Hitters = Hitters.dropna()",
      "execution_count": 5,
      "outputs": []
    },
    {
      "metadata": {
        "colab": {},
        "colab_type": "code",
        "id": "OHpQiIlVJDCl",
        "trusted": false
      },
      "cell_type": "code",
      "source": "import matplotlib.pyplot as plt",
      "execution_count": 7,
      "outputs": []
    },
    {
      "metadata": {
        "colab": {
          "base_uri": "https://localhost:8080/",
          "height": 314
        },
        "colab_type": "code",
        "executionInfo": {
          "elapsed": 1248,
          "status": "ok",
          "timestamp": 1559290794960,
          "user": {
            "displayName": "Pranali Chaudhari",
            "photoUrl": "",
            "userId": "09199364828146898293"
          },
          "user_tz": -330
        },
        "id": "QBPSRB4bJC5g",
        "outputId": "258aba61-5e5c-4c5a-816a-28468d2b460f",
        "trusted": false
      },
      "cell_type": "code",
      "source": "%matplotlib inline\nHitters.hist('Salary')",
      "execution_count": 8,
      "outputs": [
        {
          "data": {
            "text/plain": "array([[<matplotlib.axes._subplots.AxesSubplot object at 0x0000019B82142F60>]],\n      dtype=object)"
          },
          "execution_count": 8,
          "metadata": {},
          "output_type": "execute_result"
        },
        {
          "data": {
            "image/png": "[encoded data removed]",
            "text/plain": "<Figure size 432x288 with 1 Axes>"
          },
          "metadata": {
            "needs_background": "light"
          },
          "output_type": "display_data"
        }
      ]
    },
    {
      "metadata": {
        "colab": {},
        "colab_type": "code",
        "id": "Bnx7-geSJCsx",
        "trusted": true
      },
      "cell_type": "code",
      "source": "Hitters.Salary = np.log(Hitters.Salary)",
      "execution_count": 7,
      "outputs": []
    },
    {
      "metadata": {
        "colab": {
          "base_uri": "https://localhost:8080/",
          "height": 314
        },
        "colab_type": "code",
        "executionInfo": {
          "elapsed": 1062,
          "status": "ok",
          "timestamp": 1559291499978,
          "user": {
            "displayName": "Pranali Chaudhari",
            "photoUrl": "",
            "userId": "09199364828146898293"
          },
          "user_tz": -330
        },
        "id": "7hz-xWnqC9XS",
        "outputId": "69fe9492-65ee-4497-8ae1-9a47bcd4689f",
        "trusted": false
      },
      "cell_type": "code",
      "source": "Hitters.hist('Salary')",
      "execution_count": 10,
      "outputs": [
        {
          "data": {
            "text/plain": "array([[<matplotlib.axes._subplots.AxesSubplot object at 0x0000019B82484E80>]],\n      dtype=object)"
          },
          "execution_count": 10,
          "metadata": {},
          "output_type": "execute_result"
        },
        {
          "data": {
            "image/png": "[encoded data removed]",
            "text/plain": "<Figure size 432x288 with 1 Axes>"
          },
          "metadata": {
            "needs_background": "light"
          },
          "output_type": "display_data"
        }
      ]
    },
    {
      "metadata": {},
      "cell_type": "markdown",
      "source": "## Creating feature matrix (X) and target array (y)"
    },
    {
      "metadata": {
        "colab": {},
        "colab_type": "code",
        "id": "O3sdsc0cONZ4",
        "trusted": true
      },
      "cell_type": "code",
      "source": "X = Hitters.copy() ",
      "execution_count": 8,
      "outputs": []
    },
    {
      "metadata": {
        "colab": {},
        "colab_type": "code",
        "id": "kimtIauJONXq",
        "trusted": true
      },
      "cell_type": "code",
      "source": "del X['Salary']",
      "execution_count": 9,
      "outputs": []
    },
    {
      "metadata": {
        "colab": {},
        "colab_type": "code",
        "id": "0iFoLsegONVA",
        "trusted": true
      },
      "cell_type": "code",
      "source": "X = pd.get_dummies(X,columns=['League','Division','NewLeague'],drop_first=True)",
      "execution_count": 10,
      "outputs": []
    },
    {
      "metadata": {
        "colab": {
          "base_uri": "https://localhost:8080/",
          "height": 34
        },
        "colab_type": "code",
        "executionInfo": {
          "elapsed": 807,
          "status": "ok",
          "timestamp": 1559291514163,
          "user": {
            "displayName": "Pranali Chaudhari",
            "photoUrl": "",
            "userId": "09199364828146898293"
          },
          "user_tz": -330
        },
        "id": "h9cbIGy7ONSw",
        "outputId": "3abb9178-1e18-4b7e-abd7-ed00bc2b1bc2",
        "trusted": true
      },
      "cell_type": "code",
      "source": "X.shape",
      "execution_count": 11,
      "outputs": [
        {
          "output_type": "execute_result",
          "execution_count": 11,
          "data": {
            "text/plain": "(263, 19)"
          },
          "metadata": {}
        }
      ]
    },
    {
      "metadata": {
        "colab": {
          "base_uri": "https://localhost:8080/",
          "height": 299
        },
        "colab_type": "code",
        "executionInfo": {
          "elapsed": 1032,
          "status": "ok",
          "timestamp": 1559290819657,
          "user": {
            "displayName": "Pranali Chaudhari",
            "photoUrl": "",
            "userId": "09199364828146898293"
          },
          "user_tz": -330
        },
        "id": "BFvsp524ONQV",
        "outputId": "a26465fc-bd2c-496f-ad53-0fe145d614fd",
        "trusted": true
      },
      "cell_type": "code",
      "source": "X.head()",
      "execution_count": 12,
      "outputs": [
        {
          "output_type": "execute_result",
          "execution_count": 12,
          "data": {
            "text/plain": "                   AtBat  Hits  HmRun  Runs  RBI  Walks  Years  CAtBat  CHits  \\\n-Alan Ashby          315    81      7    24   38     39     14    3449    835   \n-Alvin Davis         479   130     18    66   72     76      3    1624    457   \n-Andre Dawson        496   141     20    65   78     37     11    5628   1575   \n-Andres Galarraga    321    87     10    39   42     30      2     396    101   \n-Alfredo Griffin     594   169      4    74   51     35     11    4408   1133   \n\n                   CHmRun  CRuns  CRBI  CWalks  PutOuts  Assists  Errors  \\\n-Alan Ashby            69    321   414     375      632       43      10   \n-Alvin Davis           63    224   266     263      880       82      14   \n-Andre Dawson         225    828   838     354      200       11       3   \n-Andres Galarraga      12     48    46      33      805       40       4   \n-Alfredo Griffin       19    501   336     194      282      421      25   \n\n                   League_N  Division_W  NewLeague_N  \n-Alan Ashby               1           1            1  \n-Alvin Davis              0           1            0  \n-Andre Dawson             1           0            1  \n-Andres Galarraga         1           0            1  \n-Alfredo Griffin          0           1            0  ",
            "text/html": "<div>\n<table border=\"1\" class=\"dataframe\">\n  <thead>\n    <tr style=\"text-align: right;\">\n      <th></th>\n      <th>AtBat</th>\n      <th>Hits</th>\n      <th>HmRun</th>\n      <th>Runs</th>\n      <th>RBI</th>\n      <th>Walks</th>\n      <th>Years</th>\n      <th>CAtBat</th>\n      <th>CHits</th>\n      <th>CHmRun</th>\n      <th>CRuns</th>\n      <th>CRBI</th>\n      <th>CWalks</th>\n      <th>PutOuts</th>\n      <th>Assists</th>\n      <th>Errors</th>\n      <th>League_N</th>\n      <th>Division_W</th>\n      <th>NewLeague_N</th>\n    </tr>\n  </thead>\n  <tbody>\n    <tr>\n      <th>-Alan Ashby</th>\n      <td>315</td>\n      <td>81</td>\n      <td>7</td>\n      <td>24</td>\n      <td>38</td>\n      <td>39</td>\n      <td>14</td>\n      <td>3449</td>\n      <td>835</td>\n      <td>69</td>\n      <td>321</td>\n      <td>414</td>\n      <td>375</td>\n      <td>632</td>\n      <td>43</td>\n      <td>10</td>\n      <td>1</td>\n      <td>1</td>\n      <td>1</td>\n    </tr>\n    <tr>\n      <th>-Alvin Davis</th>\n      <td>479</td>\n      <td>130</td>\n      <td>18</td>\n      <td>66</td>\n      <td>72</td>\n      <td>76</td>\n      <td>3</td>\n      <td>1624</td>\n      <td>457</td>\n      <td>63</td>\n      <td>224</td>\n      <td>266</td>\n      <td>263</td>\n      <td>880</td>\n      <td>82</td>\n      <td>14</td>\n      <td>0</td>\n      <td>1</td>\n      <td>0</td>\n    </tr>\n    <tr>\n      <th>-Andre Dawson</th>\n      <td>496</td>\n      <td>141</td>\n      <td>20</td>\n      <td>65</td>\n      <td>78</td>\n      <td>37</td>\n      <td>11</td>\n      <td>5628</td>\n      <td>1575</td>\n      <td>225</td>\n      <td>828</td>\n      <td>838</td>\n      <td>354</td>\n      <td>200</td>\n      <td>11</td>\n      <td>3</td>\n      <td>1</td>\n      <td>0</td>\n      <td>1</td>\n    </tr>\n    <tr>\n      <th>-Andres Galarraga</th>\n      <td>321</td>\n      <td>87</td>\n      <td>10</td>\n      <td>39</td>\n      <td>42</td>\n      <td>30</td>\n      <td>2</td>\n      <td>396</td>\n      <td>101</td>\n      <td>12</td>\n      <td>48</td>\n      <td>46</td>\n      <td>33</td>\n      <td>805</td>\n      <td>40</td>\n      <td>4</td>\n      <td>1</td>\n      <td>0</td>\n      <td>1</td>\n    </tr>\n    <tr>\n      <th>-Alfredo Griffin</th>\n      <td>594</td>\n      <td>169</td>\n      <td>4</td>\n      <td>74</td>\n      <td>51</td>\n      <td>35</td>\n      <td>11</td>\n      <td>4408</td>\n      <td>1133</td>\n      <td>19</td>\n      <td>501</td>\n      <td>336</td>\n      <td>194</td>\n      <td>282</td>\n      <td>421</td>\n      <td>25</td>\n      <td>0</td>\n      <td>1</td>\n      <td>0</td>\n    </tr>\n  </tbody>\n</table>\n</div>"
          },
          "metadata": {}
        }
      ]
    },
    {
      "metadata": {
        "colab": {},
        "colab_type": "code",
        "id": "9_Pq-j3hONNk",
        "trusted": true
      },
      "cell_type": "code",
      "source": "y=Hitters.Salary\n",
      "execution_count": 15,
      "outputs": []
    },
    {
      "metadata": {},
      "cell_type": "markdown",
      "source": "## Spliting Dataset into train and test"
    },
    {
      "metadata": {
        "colab": {},
        "colab_type": "code",
        "id": "kbGuGE4eONKM",
        "trusted": true
      },
      "cell_type": "code",
      "source": "from sklearn.model_selection import train_test_split",
      "execution_count": 13,
      "outputs": []
    },
    {
      "metadata": {
        "colab": {},
        "colab_type": "code",
        "id": "E0W2mnA0ONG2",
        "trusted": true
      },
      "cell_type": "code",
      "source": "X_train,X_test,y_train,y_test = train_test_split(X,y,test_size=0.2,random_state=42)",
      "execution_count": 16,
      "outputs": []
    },
    {
      "metadata": {
        "colab": {
          "base_uri": "https://localhost:8080/",
          "height": 34
        },
        "colab_type": "code",
        "executionInfo": {
          "elapsed": 1365,
          "status": "ok",
          "timestamp": 1559291530937,
          "user": {
            "displayName": "Pranali Chaudhari",
            "photoUrl": "",
            "userId": "09199364828146898293"
          },
          "user_tz": -330
        },
        "id": "usRLcfGoONEm",
        "outputId": "48d270cf-799b-45fc-9911-5ceb62312100",
        "trusted": true
      },
      "cell_type": "code",
      "source": "X_train.shape, X_test.shape, y_train.shape, y_test.shape",
      "execution_count": 17,
      "outputs": [
        {
          "output_type": "execute_result",
          "execution_count": 17,
          "data": {
            "text/plain": "((210, 19), (53, 19), (210,), (53,))"
          },
          "metadata": {}
        }
      ]
    },
    {
      "metadata": {},
      "cell_type": "markdown",
      "source": "## PCA"
    },
    {
      "metadata": {
        "trusted": true
      },
      "cell_type": "code",
      "source": "from sklearn.decomposition import PCA\nfrom sklearn.preprocessing import StandardScaler",
      "execution_count": 18,
      "outputs": []
    },
    {
      "metadata": {
        "trusted": true
      },
      "cell_type": "code",
      "source": "# Apply scaling \nscalar = StandardScaler()",
      "execution_count": 19,
      "outputs": []
    },
    {
      "metadata": {
        "trusted": true
      },
      "cell_type": "code",
      "source": "X_train.head()",
      "execution_count": 20,
      "outputs": [
        {
          "output_type": "execute_result",
          "execution_count": 20,
          "data": {
            "text/plain": "                AtBat  Hits  HmRun  Runs  RBI  Walks  Years  CAtBat  CHits  \\\n-Ozzie Guillen    547   137      2    58   47     12      2    1038    271   \n-Milt Thompson    299    75      6    38   23     26      3     580    160   \n-Glenn Wilson     584   158     15    70   84     42      5    2358    636   \n-Mookie Wilson    381   110      9    61   45     32      7    3015    834   \n-Davey Lopes      255    70      7    49   35     43     15    6311   1661   \n\n                CHmRun  CRuns  CRBI  CWalks  PutOuts  Assists  Errors  \\\n-Ozzie Guillen       3    129    80      24      261      459      22   \n-Milt Thompson       8     71    33      44      212        1       2   \n-Glenn Wilson       58    265   316     134      331       20       4   \n-Mookie Wilson      40    451   249     168      228        7       5   \n-Davey Lopes       154   1019   608     820       51       54       8   \n\n                League_N  Division_W  NewLeague_N  \n-Ozzie Guillen         0           1            0  \n-Milt Thompson         1           0            1  \n-Glenn Wilson          1           0            1  \n-Mookie Wilson         1           0            1  \n-Davey Lopes           1           0            1  ",
            "text/html": "<div>\n<table border=\"1\" class=\"dataframe\">\n  <thead>\n    <tr style=\"text-align: right;\">\n      <th></th>\n      <th>AtBat</th>\n      <th>Hits</th>\n      <th>HmRun</th>\n      <th>Runs</th>\n      <th>RBI</th>\n      <th>Walks</th>\n      <th>Years</th>\n      <th>CAtBat</th>\n      <th>CHits</th>\n      <th>CHmRun</th>\n      <th>CRuns</th>\n      <th>CRBI</th>\n      <th>CWalks</th>\n      <th>PutOuts</th>\n      <th>Assists</th>\n      <th>Errors</th>\n      <th>League_N</th>\n      <th>Division_W</th>\n      <th>NewLeague_N</th>\n    </tr>\n  </thead>\n  <tbody>\n    <tr>\n      <th>-Ozzie Guillen</th>\n      <td>547</td>\n      <td>137</td>\n      <td>2</td>\n      <td>58</td>\n      <td>47</td>\n      <td>12</td>\n      <td>2</td>\n      <td>1038</td>\n      <td>271</td>\n      <td>3</td>\n      <td>129</td>\n      <td>80</td>\n      <td>24</td>\n      <td>261</td>\n      <td>459</td>\n      <td>22</td>\n      <td>0</td>\n      <td>1</td>\n      <td>0</td>\n    </tr>\n    <tr>\n      <th>-Milt Thompson</th>\n      <td>299</td>\n      <td>75</td>\n      <td>6</td>\n      <td>38</td>\n      <td>23</td>\n      <td>26</td>\n      <td>3</td>\n      <td>580</td>\n      <td>160</td>\n      <td>8</td>\n      <td>71</td>\n      <td>33</td>\n      <td>44</td>\n      <td>212</td>\n      <td>1</td>\n      <td>2</td>\n      <td>1</td>\n      <td>0</td>\n      <td>1</td>\n    </tr>\n    <tr>\n      <th>-Glenn Wilson</th>\n      <td>584</td>\n      <td>158</td>\n      <td>15</td>\n      <td>70</td>\n      <td>84</td>\n      <td>42</td>\n      <td>5</td>\n      <td>2358</td>\n      <td>636</td>\n      <td>58</td>\n      <td>265</td>\n      <td>316</td>\n      <td>134</td>\n      <td>331</td>\n      <td>20</td>\n      <td>4</td>\n      <td>1</td>\n      <td>0</td>\n      <td>1</td>\n    </tr>\n    <tr>\n      <th>-Mookie Wilson</th>\n      <td>381</td>\n      <td>110</td>\n      <td>9</td>\n      <td>61</td>\n      <td>45</td>\n      <td>32</td>\n      <td>7</td>\n      <td>3015</td>\n      <td>834</td>\n      <td>40</td>\n      <td>451</td>\n      <td>249</td>\n      <td>168</td>\n      <td>228</td>\n      <td>7</td>\n      <td>5</td>\n      <td>1</td>\n      <td>0</td>\n      <td>1</td>\n    </tr>\n    <tr>\n      <th>-Davey Lopes</th>\n      <td>255</td>\n      <td>70</td>\n      <td>7</td>\n      <td>49</td>\n      <td>35</td>\n      <td>43</td>\n      <td>15</td>\n      <td>6311</td>\n      <td>1661</td>\n      <td>154</td>\n      <td>1019</td>\n      <td>608</td>\n      <td>820</td>\n      <td>51</td>\n      <td>54</td>\n      <td>8</td>\n      <td>1</td>\n      <td>0</td>\n      <td>1</td>\n    </tr>\n  </tbody>\n</table>\n</div>"
          },
          "metadata": {}
        }
      ]
    },
    {
      "metadata": {
        "trusted": true
      },
      "cell_type": "code",
      "source": "scalar.fit(X_train)",
      "execution_count": 21,
      "outputs": [
        {
          "output_type": "execute_result",
          "execution_count": 21,
          "data": {
            "text/plain": "StandardScaler(copy=True, with_mean=True, with_std=True)"
          },
          "metadata": {}
        }
      ]
    },
    {
      "metadata": {
        "trusted": true
      },
      "cell_type": "code",
      "source": "scalar.transform(X_train)",
      "execution_count": 22,
      "outputs": [
        {
          "output_type": "execute_result",
          "execution_count": 22,
          "data": {
            "text/plain": "array([[ 1.00043399,  0.67991177, -1.10503803, ..., -1.        ,\n         0.98113038, -0.95346259],\n       [-0.72361889, -0.73534822, -0.64845567, ...,  1.        ,\n        -1.01923253,  1.04880885],\n       [ 1.25765155,  1.15927402,  0.37885465, ...,  1.        ,\n        -1.01923253,  1.04880885],\n       ...,\n       [ 0.75016825,  0.70273854,  1.52031056, ..., -1.        ,\n         0.98113038, -0.95346259],\n       [-0.41773854, -0.09619855, -0.64845567, ..., -1.        ,\n        -1.01923253, -0.95346259],\n       [ 0.29134772, -0.18750564, -1.21918362, ..., -1.        ,\n         0.98113038, -0.95346259]])"
          },
          "metadata": {}
        }
      ]
    },
    {
      "metadata": {
        "trusted": true
      },
      "cell_type": "code",
      "source": "Scale_X = pd.DataFrame(scalar.transform(X_train),columns=X_train.columns)\nScale_X.head()",
      "execution_count": 23,
      "outputs": [
        {
          "output_type": "execute_result",
          "execution_count": 23,
          "data": {
            "text/plain": "      AtBat      Hits     HmRun      Runs       RBI     Walks     Years  \\\n0  1.000434  0.679912 -1.105038  0.147801 -0.189856 -1.405276 -1.110994   \n1 -0.723619 -0.735348 -0.648456 -0.658387 -1.136317 -0.740404 -0.899472   \n2  1.257652  1.159274  0.378855  0.631514  1.269272  0.019449 -0.476428   \n3 -0.153569  0.063589 -0.306019  0.268730 -0.268727 -0.455460 -0.053384   \n4 -1.029499 -0.849482 -0.534310 -0.214984 -0.663086  0.066939  1.638792   \n\n     CAtBat     CHits    CHmRun     CRuns      CRBI    CWalks   PutOuts  \\\n0 -0.698876 -0.686170 -0.794495 -0.692556 -0.769664 -0.888912 -0.141681   \n1 -0.896033 -0.853703 -0.736728 -0.862898 -0.911585 -0.813165 -0.303922   \n2 -0.130651 -0.135270 -0.159053 -0.293133 -0.057041 -0.472302  0.090092   \n3  0.152170  0.163574 -0.367016  0.253135 -0.259354 -0.343532 -0.250945   \n4  1.571012  1.411775  0.950082  1.921311  0.824678  2.125828 -0.836999   \n\n    Assists    Errors  League_N  Division_W  NewLeague_N  \n0  2.453172  2.135975      -1.0    0.981130    -0.953463  \n1 -0.800359 -1.016202       1.0   -1.019233     1.048809  \n2 -0.665387 -0.700984       1.0   -1.019233     1.048809  \n3 -0.757736 -0.543375       1.0   -1.019233     1.048809  \n4 -0.423859 -0.070549       1.0   -1.019233     1.048809  ",
            "text/html": "<div>\n<table border=\"1\" class=\"dataframe\">\n  <thead>\n    <tr style=\"text-align: right;\">\n      <th></th>\n      <th>AtBat</th>\n      <th>Hits</th>\n      <th>HmRun</th>\n      <th>Runs</th>\n      <th>RBI</th>\n      <th>Walks</th>\n      <th>Years</th>\n      <th>CAtBat</th>\n      <th>CHits</th>\n      <th>CHmRun</th>\n      <th>CRuns</th>\n      <th>CRBI</th>\n      <th>CWalks</th>\n      <th>PutOuts</th>\n      <th>Assists</th>\n      <th>Errors</th>\n      <th>League_N</th>\n      <th>Division_W</th>\n      <th>NewLeague_N</th>\n    </tr>\n  </thead>\n  <tbody>\n    <tr>\n      <th>0</th>\n      <td>1.000434</td>\n      <td>0.679912</td>\n      <td>-1.105038</td>\n      <td>0.147801</td>\n      <td>-0.189856</td>\n      <td>-1.405276</td>\n      <td>-1.110994</td>\n      <td>-0.698876</td>\n      <td>-0.686170</td>\n      <td>-0.794495</td>\n      <td>-0.692556</td>\n      <td>-0.769664</td>\n      <td>-0.888912</td>\n      <td>-0.141681</td>\n      <td>2.453172</td>\n      <td>2.135975</td>\n      <td>-1.0</td>\n      <td>0.981130</td>\n      <td>-0.953463</td>\n    </tr>\n    <tr>\n      <th>1</th>\n      <td>-0.723619</td>\n      <td>-0.735348</td>\n      <td>-0.648456</td>\n      <td>-0.658387</td>\n      <td>-1.136317</td>\n      <td>-0.740404</td>\n      <td>-0.899472</td>\n      <td>-0.896033</td>\n      <td>-0.853703</td>\n      <td>-0.736728</td>\n      <td>-0.862898</td>\n      <td>-0.911585</td>\n      <td>-0.813165</td>\n      <td>-0.303922</td>\n      <td>-0.800359</td>\n      <td>-1.016202</td>\n      <td>1.0</td>\n      <td>-1.019233</td>\n      <td>1.048809</td>\n    </tr>\n    <tr>\n      <th>2</th>\n      <td>1.257652</td>\n      <td>1.159274</td>\n      <td>0.378855</td>\n      <td>0.631514</td>\n      <td>1.269272</td>\n      <td>0.019449</td>\n      <td>-0.476428</td>\n      <td>-0.130651</td>\n      <td>-0.135270</td>\n      <td>-0.159053</td>\n      <td>-0.293133</td>\n      <td>-0.057041</td>\n      <td>-0.472302</td>\n      <td>0.090092</td>\n      <td>-0.665387</td>\n      <td>-0.700984</td>\n      <td>1.0</td>\n      <td>-1.019233</td>\n      <td>1.048809</td>\n    </tr>\n    <tr>\n      <th>3</th>\n      <td>-0.153569</td>\n      <td>0.063589</td>\n      <td>-0.306019</td>\n      <td>0.268730</td>\n      <td>-0.268727</td>\n      <td>-0.455460</td>\n      <td>-0.053384</td>\n      <td>0.152170</td>\n      <td>0.163574</td>\n      <td>-0.367016</td>\n      <td>0.253135</td>\n      <td>-0.259354</td>\n      <td>-0.343532</td>\n      <td>-0.250945</td>\n      <td>-0.757736</td>\n      <td>-0.543375</td>\n      <td>1.0</td>\n      <td>-1.019233</td>\n      <td>1.048809</td>\n    </tr>\n    <tr>\n      <th>4</th>\n      <td>-1.029499</td>\n      <td>-0.849482</td>\n      <td>-0.534310</td>\n      <td>-0.214984</td>\n      <td>-0.663086</td>\n      <td>0.066939</td>\n      <td>1.638792</td>\n      <td>1.571012</td>\n      <td>1.411775</td>\n      <td>0.950082</td>\n      <td>1.921311</td>\n      <td>0.824678</td>\n      <td>2.125828</td>\n      <td>-0.836999</td>\n      <td>-0.423859</td>\n      <td>-0.070549</td>\n      <td>1.0</td>\n      <td>-1.019233</td>\n      <td>1.048809</td>\n    </tr>\n  </tbody>\n</table>\n</div>"
          },
          "metadata": {}
        }
      ]
    },
    {
      "metadata": {
        "trusted": true
      },
      "cell_type": "code",
      "source": "Scale_X.mean(), Scale_X.std()",
      "execution_count": 24,
      "outputs": [
        {
          "output_type": "execute_result",
          "execution_count": 24,
          "data": {
            "text/plain": "(AtBat          3.409971e-17\n Hits           1.312442e-16\n HmRun          7.718693e-17\n Runs          -9.965573e-17\n RBI           -9.198991e-17\n Walks          1.083789e-16\n Years         -1.163091e-17\n CAtBat         3.172066e-17\n CHits         -3.119198e-17\n CHmRun         2.960595e-17\n CRuns          3.912214e-17\n CRBI           5.286776e-18\n CWalks         9.516197e-17\n PutOuts        8.115202e-17\n Assists       -4.017950e-17\n Errors        -2.643388e-17\n League_N       0.000000e+00\n Division_W     3.256654e-16\n NewLeague_N    2.114711e-18\n dtype: float64, AtBat          1.002389\n Hits           1.002389\n HmRun          1.002389\n Runs           1.002389\n RBI            1.002389\n Walks          1.002389\n Years          1.002389\n CAtBat         1.002389\n CHits          1.002389\n CHmRun         1.002389\n CRuns          1.002389\n CRBI           1.002389\n CWalks         1.002389\n PutOuts        1.002389\n Assists        1.002389\n Errors         1.002389\n League_N       1.002389\n Division_W     1.002389\n NewLeague_N    1.002389\n dtype: float64)"
          },
          "metadata": {}
        }
      ]
    },
    {
      "metadata": {
        "trusted": true
      },
      "cell_type": "code",
      "source": "pca_hitters = PCA()",
      "execution_count": 25,
      "outputs": []
    },
    {
      "metadata": {
        "trusted": true
      },
      "cell_type": "code",
      "source": "pca_hitters.fit(Scale_X)",
      "execution_count": 26,
      "outputs": [
        {
          "output_type": "execute_result",
          "execution_count": 26,
          "data": {
            "text/plain": "PCA(copy=True, iterated_power='auto', n_components=None, random_state=None,\n  svd_solver='auto', tol=0.0, whiten=False)"
          },
          "metadata": {}
        }
      ]
    },
    {
      "metadata": {
        "trusted": false
      },
      "cell_type": "code",
      "source": "pca_hitters.components_",
      "execution_count": 29,
      "outputs": [
        {
          "data": {
            "text/plain": "array([[ 2.04754179e-01,  2.02979783e-01,  2.07514797e-01,\n         2.04589978e-01,  2.38576821e-01,  2.09941742e-01,\n         2.81119516e-01,  3.27743272e-01,  3.26834789e-01,\n         3.17113044e-01,  3.34415352e-01,  3.38669034e-01,\n         3.16258066e-01,  8.66869874e-02,  1.30614657e-02,\n         8.60140095e-03, -3.85947744e-02, -2.67962898e-02,\n        -2.48843008e-02],\n       [-3.76885855e-01, -3.69432754e-01, -2.31531047e-01,\n        -3.73211917e-01, -3.11066645e-01, -2.40078774e-01,\n         2.70065491e-01,  2.00688202e-01,  1.93304429e-01,\n         1.29852646e-01,  1.83917744e-01,  1.71663159e-01,\n         1.95861811e-01, -1.75765862e-01, -1.47937937e-01,\n        -1.65797029e-01,  1.20905080e-01,  2.98662531e-02,\n         9.64843891e-02],\n       [ 1.14161417e-01,  1.04261274e-01, -2.25714897e-01,\n        -1.39243646e-02, -6.19967178e-02,  3.69174247e-03,\n         2.89075313e-02,  7.74876924e-02,  7.92131094e-02,\n        -1.15414282e-01,  3.52029021e-02,  5.90750229e-04,\n         1.34075140e-02,  5.31737762e-02,  4.32198787e-01,\n         4.06458346e-01,  5.16798113e-01,  2.68572815e-02,\n         5.20202542e-01],\n       [ 4.85750727e-02,  3.18249595e-02, -2.22484317e-01,\n        -5.38050593e-02, -1.18655371e-01, -1.47887468e-01,\n         9.23925654e-02,  8.82342956e-02,  8.06006603e-02,\n        -5.77083928e-02,  6.03042454e-02,  1.01854820e-02,\n         1.33116305e-02, -2.68722797e-01,  4.80636640e-01,\n         4.02234896e-01, -4.30995723e-01,  1.76660616e-01,\n        -4.42984098e-01],\n       [-1.18968336e-02, -3.59114368e-02,  1.77638159e-01,\n        -5.52456916e-02,  7.12263746e-02, -6.21403931e-02,\n        -4.97339083e-03, -7.50603624e-03, -8.58883746e-03,\n         6.36916696e-02, -3.56788402e-02,  3.28651753e-02,\n        -5.45185003e-02,  1.65836074e-01, -1.17724759e-01,\n         5.89846522e-02,  5.39706857e-02,  9.46311198e-01,\n         4.72476306e-02],\n       [-9.33548877e-02, -9.05155933e-02, -1.12975821e-01,\n        -1.70793374e-01, -6.85913267e-02, -9.82163173e-02,\n         2.07187180e-02,  2.33798232e-02,  3.50739062e-02,\n        -9.91380606e-03,  5.44501757e-03,  3.32324440e-02,\n         1.60292446e-02,  9.01863734e-01, -1.19256133e-03,\n         2.13844819e-01, -1.27952414e-01, -1.49699101e-01,\n        -1.58872512e-01],\n       [ 1.34611514e-01,  1.61900388e-01, -5.18957186e-01,\n         1.89680461e-01, -3.54076019e-01,  4.32329326e-01,\n         3.52761486e-03,  3.91853511e-02,  5.21775396e-02,\n        -2.27078096e-01,  8.13370539e-02, -1.02864223e-01,\n         1.42381944e-01,  1.35332442e-01,  4.51409646e-03,\n        -4.20249476e-01, -6.21585796e-02,  2.10833150e-01,\n        -3.91259791e-02],\n       [ 2.50967430e-01,  3.64668296e-01, -1.33365099e-01,\n         8.89322146e-02,  6.35101632e-02, -6.93154117e-01,\n         1.25304954e-01,  1.34010129e-01,  1.83340074e-01,\n        -2.00268524e-01,  7.90198647e-02,  1.20529237e-02,\n        -2.91035479e-01,  5.09026165e-02, -1.13047594e-01,\n        -2.72696038e-01, -3.31904220e-02, -7.85029017e-03,\n         6.68704439e-02],\n       [-4.43656006e-02, -6.52085537e-02,  1.57264902e-01,\n        -2.00492808e-01,  1.68246205e-01, -5.27532874e-02,\n         3.29204065e-02, -6.17972919e-02, -9.34083547e-02,\n         1.42998224e-01, -9.85762780e-02,  4.19689394e-02,\n         8.00296505e-03,  1.29090215e-01,  7.03919174e-01,\n        -5.82369509e-01,  1.06373563e-02,  2.42018574e-02,\n         1.10281063e-02],\n       [ 1.67293399e-01,  1.14258850e-01, -2.63577331e-01,\n         4.71855092e-02, -2.31590920e-01, -1.58246778e-01,\n        -5.02694079e-01, -1.02382808e-01, -1.13167334e-01,\n         6.75842189e-01, -1.97703110e-02,  2.67276874e-01,\n        -2.84505692e-02, -8.14709667e-03, -1.65976908e-02,\n         1.96033672e-03, -2.25368136e-02,  2.19004385e-03,\n         4.83035804e-02],\n       [ 5.40857287e-02,  1.03421178e-01, -1.14727075e-01,\n        -5.20323369e-02,  8.14595861e-02, -1.18527071e-02,\n         8.28729415e-02, -2.56003143e-02, -5.22120663e-02,\n         5.11274645e-02, -8.61987186e-02,  4.64717487e-02,\n        -1.03562358e-02, -2.05694533e-02, -4.58665195e-02,\n        -1.82855714e-02,  6.89705309e-01,  7.12400843e-04,\n        -6.80159791e-01],\n       [-1.45833684e-01, -1.17205259e-01,  3.97247796e-01,\n         4.44176263e-01, -3.93883637e-01, -2.65312227e-01,\n        -3.38425647e-01,  6.53895020e-02,  8.72752400e-02,\n        -1.41707566e-01,  2.60763747e-01, -1.63521633e-01,\n         2.67716256e-01,  5.97508363e-02,  1.52895656e-01,\n        -3.94768067e-02,  1.62111627e-01,  5.51217296e-03,\n        -1.28962084e-01],\n       [ 5.19980068e-02,  2.01073565e-02, -8.05628712e-02,\n        -4.37266191e-01,  3.61967969e-01,  4.74818139e-02,\n        -6.38450964e-01,  1.50939518e-01,  2.64816092e-01,\n        -2.73693264e-01,  2.15379459e-01, -1.29758047e-04,\n         1.84757961e-01, -5.60647655e-02, -4.76893957e-02,\n        -4.33033570e-02,  1.72237690e-03,  1.33057750e-02,\n        -4.98996373e-02],\n       [ 2.38323454e-01,  2.11566138e-01,  1.95789093e-03,\n        -2.05595128e-01,  1.46314001e-02, -2.41705403e-01,\n         1.54463298e-01, -1.99433474e-01, -3.08690409e-01,\n         2.97341777e-02, -8.24692269e-02, -2.73252609e-01,\n         7.34889760e-01, -7.98590647e-03, -9.29962776e-02,\n         3.33353282e-02, -4.67124527e-02,  1.20688957e-02,\n         6.35945047e-02],\n       [-4.94921692e-01, -4.77298522e-02, -4.05561140e-01,\n         4.67575872e-01,  5.10859706e-01, -1.59626056e-01,\n        -3.93580452e-02, -1.16840188e-01, -8.53870391e-02,\n        -1.43809279e-02, -1.87510943e-02,  9.20603917e-02,\n         2.14739806e-01,  1.39184034e-02,  2.61606238e-02,\n         4.89295123e-03, -2.30157914e-02,  5.40700784e-02,\n         3.48646008e-02],\n       [-5.62079879e-01,  7.25765912e-01,  1.67355402e-01,\n        -1.77458406e-01, -1.94874127e-01,  8.71857016e-02,\n        -3.25703543e-02, -6.62652475e-02,  9.49166107e-02,\n        -2.77282902e-02, -1.30493042e-01,  1.32009815e-01,\n         1.74646896e-02, -1.81568220e-02,  1.32269772e-02,\n         3.02537137e-02, -2.53043865e-02, -3.67744064e-03,\n         1.37747485e-02],\n       [ 1.54811926e-01, -1.33564409e-01,  7.00591468e-02,\n         9.05832807e-02, -1.11694440e-01, -5.69018512e-02,\n        -7.99289426e-02,  1.33483707e-01,  4.55462789e-02,\n        -3.24957404e-01, -6.19992069e-01,  5.98260478e-01,\n         2.31261003e-01, -1.63761408e-02, -1.61962355e-02,\n        -1.47854904e-02, -2.75297370e-02, -1.12824024e-02,\n         8.16797726e-03],\n       [ 9.98236361e-02, -3.79590214e-02,  4.27993625e-02,\n        -5.12439545e-02, -5.12022805e-02, -2.14512894e-03,\n         7.77684531e-02, -7.30434226e-01,  1.14319613e-02,\n        -2.33717525e-01,  4.25717860e-01,  4.53078435e-01,\n        -1.77757679e-02, -7.28843835e-03,  1.17662304e-02,\n         7.13302417e-03,  8.07049106e-03,  4.27855313e-03,\n        -4.00777533e-03],\n       [-4.70753635e-02,  8.09850281e-02,  2.38225683e-02,\n        -5.30289096e-02, -1.44125220e-02,  1.29181868e-02,\n        -2.80484105e-02,  4.08947759e-01, -7.67856486e-01,\n        -1.82221948e-01,  3.37002705e-01,  2.77413894e-01,\n        -7.74049918e-02,  3.30802968e-03, -5.87632757e-03,\n         2.91607587e-03, -5.66759845e-03,  2.43207974e-03,\n         4.99127807e-03]])"
          },
          "execution_count": 29,
          "metadata": {},
          "output_type": "execute_result"
        }
      ]
    },
    {
      "metadata": {
        "trusted": true
      },
      "cell_type": "code",
      "source": "pca_loadings = pd.DataFrame(pca_hitters.components_,columns=X_train.columns)\npca_loadings\npca_loadings.T",
      "execution_count": 27,
      "outputs": [
        {
          "output_type": "execute_result",
          "execution_count": 27,
          "data": {
            "text/plain": "                   0         1         2         3         4         5   \\\nAtBat        0.204754 -0.376886  0.114161  0.048575 -0.011897 -0.093355   \nHits         0.202980 -0.369433  0.104261  0.031825 -0.035911 -0.090516   \nHmRun        0.207515 -0.231531 -0.225715 -0.222484  0.177638 -0.112976   \nRuns         0.204590 -0.373212 -0.013924 -0.053805 -0.055246 -0.170793   \nRBI          0.238577 -0.311067 -0.061997 -0.118655  0.071226 -0.068591   \nWalks        0.209942 -0.240079  0.003692 -0.147887 -0.062140 -0.098216   \nYears        0.281120  0.270065  0.028908  0.092393 -0.004973  0.020719   \nCAtBat       0.327743  0.200688  0.077488  0.088234 -0.007506  0.023380   \nCHits        0.326835  0.193304  0.079213  0.080601 -0.008589  0.035074   \nCHmRun       0.317113  0.129853 -0.115414 -0.057708  0.063692 -0.009914   \nCRuns        0.334415  0.183918  0.035203  0.060304 -0.035679  0.005445   \nCRBI         0.338669  0.171663  0.000591  0.010185  0.032865  0.033232   \nCWalks       0.316258  0.195862  0.013408  0.013312 -0.054519  0.016029   \nPutOuts      0.086687 -0.175766  0.053174 -0.268723  0.165836  0.901864   \nAssists      0.013061 -0.147938  0.432199  0.480637 -0.117725 -0.001193   \nErrors       0.008601 -0.165797  0.406458  0.402235  0.058985  0.213845   \nLeague_N    -0.038595  0.120905  0.516798 -0.430996  0.053971 -0.127952   \nDivision_W  -0.026796  0.029866  0.026857  0.176661  0.946311 -0.149699   \nNewLeague_N -0.024884  0.096484  0.520203 -0.442984  0.047248 -0.158873   \n\n                   6         7         8         9         10        11  \\\nAtBat        0.134612  0.250967 -0.044366  0.167293  0.054086 -0.145834   \nHits         0.161900  0.364668 -0.065209  0.114259  0.103421 -0.117205   \nHmRun       -0.518957 -0.133365  0.157265 -0.263577 -0.114727  0.397248   \nRuns         0.189680  0.088932 -0.200493  0.047186 -0.052032  0.444176   \nRBI         -0.354076  0.063510  0.168246 -0.231591  0.081460 -0.393884   \nWalks        0.432329 -0.693154 -0.052753 -0.158247 -0.011853 -0.265312   \nYears        0.003528  0.125305  0.032920 -0.502694  0.082873 -0.338426   \nCAtBat       0.039185  0.134010 -0.061797 -0.102383 -0.025600  0.065390   \nCHits        0.052178  0.183340 -0.093408 -0.113167 -0.052212  0.087275   \nCHmRun      -0.227078 -0.200269  0.142998  0.675842  0.051127 -0.141708   \nCRuns        0.081337  0.079020 -0.098576 -0.019770 -0.086199  0.260764   \nCRBI        -0.102864  0.012053  0.041969  0.267277  0.046472 -0.163522   \nCWalks       0.142382 -0.291035  0.008003 -0.028451 -0.010356  0.267716   \nPutOuts      0.135332  0.050903  0.129090 -0.008147 -0.020569  0.059751   \nAssists      0.004514 -0.113048  0.703919 -0.016598 -0.045867  0.152896   \nErrors      -0.420249 -0.272696 -0.582370  0.001960 -0.018286 -0.039477   \nLeague_N    -0.062159 -0.033190  0.010637 -0.022537  0.689705  0.162112   \nDivision_W   0.210833 -0.007850  0.024202  0.002190  0.000712  0.005512   \nNewLeague_N -0.039126  0.066870  0.011028  0.048304 -0.680160 -0.128962   \n\n                   12        13        14        15        16        17  \\\nAtBat        0.051998  0.238323 -0.494922 -0.562080  0.154812  0.099824   \nHits         0.020107  0.211566 -0.047730  0.725766 -0.133564 -0.037959   \nHmRun       -0.080563  0.001958 -0.405561  0.167355  0.070059  0.042799   \nRuns        -0.437266 -0.205595  0.467576 -0.177458  0.090583 -0.051244   \nRBI          0.361968  0.014631  0.510860 -0.194874 -0.111694 -0.051202   \nWalks        0.047482 -0.241705 -0.159626  0.087186 -0.056902 -0.002145   \nYears       -0.638451  0.154463 -0.039358 -0.032570 -0.079929  0.077768   \nCAtBat       0.150940 -0.199433 -0.116840 -0.066265  0.133484 -0.730434   \nCHits        0.264816 -0.308690 -0.085387  0.094917  0.045546  0.011432   \nCHmRun      -0.273693  0.029734 -0.014381 -0.027728 -0.324957 -0.233718   \nCRuns        0.215379 -0.082469 -0.018751 -0.130493 -0.619992  0.425718   \nCRBI        -0.000130 -0.273253  0.092060  0.132010  0.598260  0.453078   \nCWalks       0.184758  0.734890  0.214740  0.017465  0.231261 -0.017776   \nPutOuts     -0.056065 -0.007986  0.013918 -0.018157 -0.016376 -0.007288   \nAssists     -0.047689 -0.092996  0.026161  0.013227 -0.016196  0.011766   \nErrors      -0.043303  0.033335  0.004893  0.030254 -0.014785  0.007133   \nLeague_N     0.001722 -0.046712 -0.023016 -0.025304 -0.027530  0.008070   \nDivision_W   0.013306  0.012069  0.054070 -0.003677 -0.011282  0.004279   \nNewLeague_N -0.049900  0.063595  0.034865  0.013775  0.008168 -0.004008   \n\n                   18  \nAtBat       -0.047075  \nHits         0.080985  \nHmRun        0.023823  \nRuns        -0.053029  \nRBI         -0.014413  \nWalks        0.012918  \nYears       -0.028048  \nCAtBat       0.408948  \nCHits       -0.767856  \nCHmRun      -0.182222  \nCRuns        0.337003  \nCRBI         0.277414  \nCWalks      -0.077405  \nPutOuts      0.003308  \nAssists     -0.005876  \nErrors       0.002916  \nLeague_N    -0.005668  \nDivision_W   0.002432  \nNewLeague_N  0.004991  ",
            "text/html": "<div>\n<table border=\"1\" class=\"dataframe\">\n  <thead>\n    <tr style=\"text-align: right;\">\n      <th></th>\n      <th>0</th>\n      <th>1</th>\n      <th>2</th>\n      <th>3</th>\n      <th>4</th>\n      <th>5</th>\n      <th>6</th>\n      <th>7</th>\n      <th>8</th>\n      <th>9</th>\n      <th>10</th>\n      <th>11</th>\n      <th>12</th>\n      <th>13</th>\n      <th>14</th>\n      <th>15</th>\n      <th>16</th>\n      <th>17</th>\n      <th>18</th>\n    </tr>\n  </thead>\n  <tbody>\n    <tr>\n      <th>AtBat</th>\n      <td>0.204754</td>\n      <td>-0.376886</td>\n      <td>0.114161</td>\n      <td>0.048575</td>\n      <td>-0.011897</td>\n      <td>-0.093355</td>\n      <td>0.134612</td>\n      <td>0.250967</td>\n      <td>-0.044366</td>\n      <td>0.167293</td>\n      <td>0.054086</td>\n      <td>-0.145834</td>\n      <td>0.051998</td>\n      <td>0.238323</td>\n      <td>-0.494922</td>\n      <td>-0.562080</td>\n      <td>0.154812</td>\n      <td>0.099824</td>\n      <td>-0.047075</td>\n    </tr>\n    <tr>\n      <th>Hits</th>\n      <td>0.202980</td>\n      <td>-0.369433</td>\n      <td>0.104261</td>\n      <td>0.031825</td>\n      <td>-0.035911</td>\n      <td>-0.090516</td>\n      <td>0.161900</td>\n      <td>0.364668</td>\n      <td>-0.065209</td>\n      <td>0.114259</td>\n      <td>0.103421</td>\n      <td>-0.117205</td>\n      <td>0.020107</td>\n      <td>0.211566</td>\n      <td>-0.047730</td>\n      <td>0.725766</td>\n      <td>-0.133564</td>\n      <td>-0.037959</td>\n      <td>0.080985</td>\n    </tr>\n    <tr>\n      <th>HmRun</th>\n      <td>0.207515</td>\n      <td>-0.231531</td>\n      <td>-0.225715</td>\n      <td>-0.222484</td>\n      <td>0.177638</td>\n      <td>-0.112976</td>\n      <td>-0.518957</td>\n      <td>-0.133365</td>\n      <td>0.157265</td>\n      <td>-0.263577</td>\n      <td>-0.114727</td>\n      <td>0.397248</td>\n      <td>-0.080563</td>\n      <td>0.001958</td>\n      <td>-0.405561</td>\n      <td>0.167355</td>\n      <td>0.070059</td>\n      <td>0.042799</td>\n      <td>0.023823</td>\n    </tr>\n    <tr>\n      <th>Runs</th>\n      <td>0.204590</td>\n      <td>-0.373212</td>\n      <td>-0.013924</td>\n      <td>-0.053805</td>\n      <td>-0.055246</td>\n      <td>-0.170793</td>\n      <td>0.189680</td>\n      <td>0.088932</td>\n      <td>-0.200493</td>\n      <td>0.047186</td>\n      <td>-0.052032</td>\n      <td>0.444176</td>\n      <td>-0.437266</td>\n      <td>-0.205595</td>\n      <td>0.467576</td>\n      <td>-0.177458</td>\n      <td>0.090583</td>\n      <td>-0.051244</td>\n      <td>-0.053029</td>\n    </tr>\n    <tr>\n      <th>RBI</th>\n      <td>0.238577</td>\n      <td>-0.311067</td>\n      <td>-0.061997</td>\n      <td>-0.118655</td>\n      <td>0.071226</td>\n      <td>-0.068591</td>\n      <td>-0.354076</td>\n      <td>0.063510</td>\n      <td>0.168246</td>\n      <td>-0.231591</td>\n      <td>0.081460</td>\n      <td>-0.393884</td>\n      <td>0.361968</td>\n      <td>0.014631</td>\n      <td>0.510860</td>\n      <td>-0.194874</td>\n      <td>-0.111694</td>\n      <td>-0.051202</td>\n      <td>-0.014413</td>\n    </tr>\n    <tr>\n      <th>Walks</th>\n      <td>0.209942</td>\n      <td>-0.240079</td>\n      <td>0.003692</td>\n      <td>-0.147887</td>\n      <td>-0.062140</td>\n      <td>-0.098216</td>\n      <td>0.432329</td>\n      <td>-0.693154</td>\n      <td>-0.052753</td>\n      <td>-0.158247</td>\n      <td>-0.011853</td>\n      <td>-0.265312</td>\n      <td>0.047482</td>\n      <td>-0.241705</td>\n      <td>-0.159626</td>\n      <td>0.087186</td>\n      <td>-0.056902</td>\n      <td>-0.002145</td>\n      <td>0.012918</td>\n    </tr>\n    <tr>\n      <th>Years</th>\n      <td>0.281120</td>\n      <td>0.270065</td>\n      <td>0.028908</td>\n      <td>0.092393</td>\n      <td>-0.004973</td>\n      <td>0.020719</td>\n      <td>0.003528</td>\n      <td>0.125305</td>\n      <td>0.032920</td>\n      <td>-0.502694</td>\n      <td>0.082873</td>\n      <td>-0.338426</td>\n      <td>-0.638451</td>\n      <td>0.154463</td>\n      <td>-0.039358</td>\n      <td>-0.032570</td>\n      <td>-0.079929</td>\n      <td>0.077768</td>\n      <td>-0.028048</td>\n    </tr>\n    <tr>\n      <th>CAtBat</th>\n      <td>0.327743</td>\n      <td>0.200688</td>\n      <td>0.077488</td>\n      <td>0.088234</td>\n      <td>-0.007506</td>\n      <td>0.023380</td>\n      <td>0.039185</td>\n      <td>0.134010</td>\n      <td>-0.061797</td>\n      <td>-0.102383</td>\n      <td>-0.025600</td>\n      <td>0.065390</td>\n      <td>0.150940</td>\n      <td>-0.199433</td>\n      <td>-0.116840</td>\n      <td>-0.066265</td>\n      <td>0.133484</td>\n      <td>-0.730434</td>\n      <td>0.408948</td>\n    </tr>\n    <tr>\n      <th>CHits</th>\n      <td>0.326835</td>\n      <td>0.193304</td>\n      <td>0.079213</td>\n      <td>0.080601</td>\n      <td>-0.008589</td>\n      <td>0.035074</td>\n      <td>0.052178</td>\n      <td>0.183340</td>\n      <td>-0.093408</td>\n      <td>-0.113167</td>\n      <td>-0.052212</td>\n      <td>0.087275</td>\n      <td>0.264816</td>\n      <td>-0.308690</td>\n      <td>-0.085387</td>\n      <td>0.094917</td>\n      <td>0.045546</td>\n      <td>0.011432</td>\n      <td>-0.767856</td>\n    </tr>\n    <tr>\n      <th>CHmRun</th>\n      <td>0.317113</td>\n      <td>0.129853</td>\n      <td>-0.115414</td>\n      <td>-0.057708</td>\n      <td>0.063692</td>\n      <td>-0.009914</td>\n      <td>-0.227078</td>\n      <td>-0.200269</td>\n      <td>0.142998</td>\n      <td>0.675842</td>\n      <td>0.051127</td>\n      <td>-0.141708</td>\n      <td>-0.273693</td>\n      <td>0.029734</td>\n      <td>-0.014381</td>\n      <td>-0.027728</td>\n      <td>-0.324957</td>\n      <td>-0.233718</td>\n      <td>-0.182222</td>\n    </tr>\n    <tr>\n      <th>CRuns</th>\n      <td>0.334415</td>\n      <td>0.183918</td>\n      <td>0.035203</td>\n      <td>0.060304</td>\n      <td>-0.035679</td>\n      <td>0.005445</td>\n      <td>0.081337</td>\n      <td>0.079020</td>\n      <td>-0.098576</td>\n      <td>-0.019770</td>\n      <td>-0.086199</td>\n      <td>0.260764</td>\n      <td>0.215379</td>\n      <td>-0.082469</td>\n      <td>-0.018751</td>\n      <td>-0.130493</td>\n      <td>-0.619992</td>\n      <td>0.425718</td>\n      <td>0.337003</td>\n    </tr>\n    <tr>\n      <th>CRBI</th>\n      <td>0.338669</td>\n      <td>0.171663</td>\n      <td>0.000591</td>\n      <td>0.010185</td>\n      <td>0.032865</td>\n      <td>0.033232</td>\n      <td>-0.102864</td>\n      <td>0.012053</td>\n      <td>0.041969</td>\n      <td>0.267277</td>\n      <td>0.046472</td>\n      <td>-0.163522</td>\n      <td>-0.000130</td>\n      <td>-0.273253</td>\n      <td>0.092060</td>\n      <td>0.132010</td>\n      <td>0.598260</td>\n      <td>0.453078</td>\n      <td>0.277414</td>\n    </tr>\n    <tr>\n      <th>CWalks</th>\n      <td>0.316258</td>\n      <td>0.195862</td>\n      <td>0.013408</td>\n      <td>0.013312</td>\n      <td>-0.054519</td>\n      <td>0.016029</td>\n      <td>0.142382</td>\n      <td>-0.291035</td>\n      <td>0.008003</td>\n      <td>-0.028451</td>\n      <td>-0.010356</td>\n      <td>0.267716</td>\n      <td>0.184758</td>\n      <td>0.734890</td>\n      <td>0.214740</td>\n      <td>0.017465</td>\n      <td>0.231261</td>\n      <td>-0.017776</td>\n      <td>-0.077405</td>\n    </tr>\n    <tr>\n      <th>PutOuts</th>\n      <td>0.086687</td>\n      <td>-0.175766</td>\n      <td>0.053174</td>\n      <td>-0.268723</td>\n      <td>0.165836</td>\n      <td>0.901864</td>\n      <td>0.135332</td>\n      <td>0.050903</td>\n      <td>0.129090</td>\n      <td>-0.008147</td>\n      <td>-0.020569</td>\n      <td>0.059751</td>\n      <td>-0.056065</td>\n      <td>-0.007986</td>\n      <td>0.013918</td>\n      <td>-0.018157</td>\n      <td>-0.016376</td>\n      <td>-0.007288</td>\n      <td>0.003308</td>\n    </tr>\n    <tr>\n      <th>Assists</th>\n      <td>0.013061</td>\n      <td>-0.147938</td>\n      <td>0.432199</td>\n      <td>0.480637</td>\n      <td>-0.117725</td>\n      <td>-0.001193</td>\n      <td>0.004514</td>\n      <td>-0.113048</td>\n      <td>0.703919</td>\n      <td>-0.016598</td>\n      <td>-0.045867</td>\n      <td>0.152896</td>\n      <td>-0.047689</td>\n      <td>-0.092996</td>\n      <td>0.026161</td>\n      <td>0.013227</td>\n      <td>-0.016196</td>\n      <td>0.011766</td>\n      <td>-0.005876</td>\n    </tr>\n    <tr>\n      <th>Errors</th>\n      <td>0.008601</td>\n      <td>-0.165797</td>\n      <td>0.406458</td>\n      <td>0.402235</td>\n      <td>0.058985</td>\n      <td>0.213845</td>\n      <td>-0.420249</td>\n      <td>-0.272696</td>\n      <td>-0.582370</td>\n      <td>0.001960</td>\n      <td>-0.018286</td>\n      <td>-0.039477</td>\n      <td>-0.043303</td>\n      <td>0.033335</td>\n      <td>0.004893</td>\n      <td>0.030254</td>\n      <td>-0.014785</td>\n      <td>0.007133</td>\n      <td>0.002916</td>\n    </tr>\n    <tr>\n      <th>League_N</th>\n      <td>-0.038595</td>\n      <td>0.120905</td>\n      <td>0.516798</td>\n      <td>-0.430996</td>\n      <td>0.053971</td>\n      <td>-0.127952</td>\n      <td>-0.062159</td>\n      <td>-0.033190</td>\n      <td>0.010637</td>\n      <td>-0.022537</td>\n      <td>0.689705</td>\n      <td>0.162112</td>\n      <td>0.001722</td>\n      <td>-0.046712</td>\n      <td>-0.023016</td>\n      <td>-0.025304</td>\n      <td>-0.027530</td>\n      <td>0.008070</td>\n      <td>-0.005668</td>\n    </tr>\n    <tr>\n      <th>Division_W</th>\n      <td>-0.026796</td>\n      <td>0.029866</td>\n      <td>0.026857</td>\n      <td>0.176661</td>\n      <td>0.946311</td>\n      <td>-0.149699</td>\n      <td>0.210833</td>\n      <td>-0.007850</td>\n      <td>0.024202</td>\n      <td>0.002190</td>\n      <td>0.000712</td>\n      <td>0.005512</td>\n      <td>0.013306</td>\n      <td>0.012069</td>\n      <td>0.054070</td>\n      <td>-0.003677</td>\n      <td>-0.011282</td>\n      <td>0.004279</td>\n      <td>0.002432</td>\n    </tr>\n    <tr>\n      <th>NewLeague_N</th>\n      <td>-0.024884</td>\n      <td>0.096484</td>\n      <td>0.520203</td>\n      <td>-0.442984</td>\n      <td>0.047248</td>\n      <td>-0.158873</td>\n      <td>-0.039126</td>\n      <td>0.066870</td>\n      <td>0.011028</td>\n      <td>0.048304</td>\n      <td>-0.680160</td>\n      <td>-0.128962</td>\n      <td>-0.049900</td>\n      <td>0.063595</td>\n      <td>0.034865</td>\n      <td>0.013775</td>\n      <td>0.008168</td>\n      <td>-0.004008</td>\n      <td>0.004991</td>\n    </tr>\n  </tbody>\n</table>\n</div>"
          },
          "metadata": {}
        }
      ]
    },
    {
      "metadata": {
        "trusted": false
      },
      "cell_type": "code",
      "source": "pca_hitters.explained_variance_",
      "execution_count": 31,
      "outputs": [
        {
          "data": {
            "text/plain": "array([7.39299540e+00, 4.06075122e+00, 2.07889484e+00, 1.56010465e+00,\n       1.00161201e+00, 8.09355837e-01, 6.79470934e-01, 5.25551260e-01,\n       2.84978806e-01, 1.80495506e-01, 1.39448234e-01, 1.27983750e-01,\n       9.20153279e-02, 5.92385951e-02, 4.96958504e-02, 3.09919837e-02,\n       1.20798838e-02, 4.16179035e-03, 1.08321527e-03])"
          },
          "execution_count": 31,
          "metadata": {},
          "output_type": "execute_result"
        }
      ]
    },
    {
      "metadata": {
        "trusted": false
      },
      "cell_type": "code",
      "source": "pca_hitters.explained_variance_ratio_",
      "execution_count": 32,
      "outputs": [
        {
          "data": {
            "text/plain": "array([3.87252140e-01, 2.12706016e-01, 1.08894492e-01, 8.17197674e-02,\n       5.24653911e-02, 4.23948296e-02, 3.55913347e-02, 2.75288755e-02,\n       1.49274612e-02, 9.45452651e-03, 7.30443128e-03, 6.70391074e-03,\n       4.81985051e-03, 3.10297403e-03, 2.60311597e-03, 1.62338962e-03,\n       6.32755816e-04, 2.17998542e-04, 5.67398476e-05])"
          },
          "execution_count": 32,
          "metadata": {},
          "output_type": "execute_result"
        }
      ]
    },
    {
      "metadata": {
        "trusted": false
      },
      "cell_type": "code",
      "source": "PCscore = pd.DataFrame(pca_hitters.fit_transform(Scale_X),columns=pca_loadings.T.columns)\nPCscore",
      "execution_count": 33,
      "outputs": [
        {
          "data": {
            "text/html": "<div>\n<style scoped>\n    .dataframe tbody tr th:only-of-type {\n        vertical-align: middle;\n    }\n\n    .dataframe tbody tr th {\n        vertical-align: top;\n    }\n\n    .dataframe thead th {\n        text-align: right;\n    }\n</style>\n<table border=\"1\" class=\"dataframe\">\n  <thead>\n    <tr style=\"text-align: right;\">\n      <th></th>\n      <th>0</th>\n      <th>1</th>\n      <th>2</th>\n      <th>3</th>\n      <th>4</th>\n      <th>5</th>\n      <th>6</th>\n      <th>7</th>\n      <th>8</th>\n      <th>9</th>\n      <th>10</th>\n      <th>11</th>\n      <th>12</th>\n      <th>13</th>\n      <th>14</th>\n      <th>15</th>\n      <th>16</th>\n      <th>17</th>\n      <th>18</th>\n    </tr>\n  </thead>\n  <tbody>\n    <tr>\n      <th>0</th>\n      <td>-1.913351</td>\n      <td>-2.016561</td>\n      <td>1.287834</td>\n      <td>3.406292</td>\n      <td>0.490089</td>\n      <td>0.455181</td>\n      <td>-0.283912</td>\n      <td>0.711415</td>\n      <td>0.203215</td>\n      <td>0.756903</td>\n      <td>0.009705</td>\n      <td>0.187534</td>\n      <td>0.138280</td>\n      <td>0.298862</td>\n      <td>0.179133</td>\n      <td>-0.244704</td>\n      <td>0.026670</td>\n      <td>0.051182</td>\n      <td>-0.008064</td>\n    </tr>\n    <tr>\n      <th>1</th>\n      <td>-2.989787</td>\n      <td>0.845543</td>\n      <td>0.204023</td>\n      <td>-1.682557</td>\n      <td>-0.939066</td>\n      <td>-0.272220</td>\n      <td>0.133924</td>\n      <td>0.332007</td>\n      <td>-0.014876</td>\n      <td>0.293909</td>\n      <td>-0.057416</td>\n      <td>0.188574</td>\n      <td>-0.045094</td>\n      <td>0.023119</td>\n      <td>-0.204411</td>\n      <td>0.001452</td>\n      <td>0.030056</td>\n      <td>-0.012457</td>\n      <td>-0.033561</td>\n    </tr>\n    <tr>\n      <th>2</th>\n      <td>0.425130</td>\n      <td>-1.592587</td>\n      <td>0.525885</td>\n      <td>-1.957221</td>\n      <td>-0.715332</td>\n      <td>-0.698986</td>\n      <td>-0.238121</td>\n      <td>1.170505</td>\n      <td>-0.031878</td>\n      <td>0.175267</td>\n      <td>0.222160</td>\n      <td>-0.470954</td>\n      <td>0.377041</td>\n      <td>0.157408</td>\n      <td>-0.005288</td>\n      <td>-0.160390</td>\n      <td>0.097488</td>\n      <td>-0.061852</td>\n      <td>0.006159</td>\n    </tr>\n    <tr>\n      <th>3</th>\n      <td>-0.400385</td>\n      <td>0.570671</td>\n      <td>0.612446</td>\n      <td>-1.392644</td>\n      <td>-0.930434</td>\n      <td>-0.424112</td>\n      <td>0.066543</td>\n      <td>0.848055</td>\n      <td>-0.489832</td>\n      <td>-0.071178</td>\n      <td>-0.037561</td>\n      <td>0.262017</td>\n      <td>-0.016993</td>\n      <td>-0.213262</td>\n      <td>0.063858</td>\n      <td>-0.038701</td>\n      <td>-0.196735</td>\n      <td>-0.072623</td>\n      <td>0.032909</td>\n    </tr>\n    <tr>\n      <th>4</th>\n      <td>2.534096</td>\n      <td>3.574579</td>\n      <td>1.005409</td>\n      <td>-0.459106</td>\n      <td>-1.174625</td>\n      <td>-0.419727</td>\n      <td>0.119879</td>\n      <td>-0.507515</td>\n      <td>-0.599658</td>\n      <td>-0.336387</td>\n      <td>-0.191138</td>\n      <td>0.566551</td>\n      <td>-0.053243</td>\n      <td>0.354355</td>\n      <td>0.366295</td>\n      <td>-0.108279</td>\n      <td>-0.390342</td>\n      <td>-0.120644</td>\n      <td>0.036410</td>\n    </tr>\n    <tr>\n      <th>5</th>\n      <td>-3.304390</td>\n      <td>2.489801</td>\n      <td>0.059596</td>\n      <td>-1.155543</td>\n      <td>1.111055</td>\n      <td>-0.188694</td>\n      <td>-0.331007</td>\n      <td>0.020078</td>\n      <td>0.550708</td>\n      <td>-0.396933</td>\n      <td>-0.103523</td>\n      <td>-0.019065</td>\n      <td>-0.480035</td>\n      <td>0.001820</td>\n      <td>0.078758</td>\n      <td>0.090915</td>\n      <td>-0.104371</td>\n      <td>0.028849</td>\n      <td>-0.034294</td>\n    </tr>\n    <tr>\n      <th>6</th>\n      <td>6.521557</td>\n      <td>0.021132</td>\n      <td>-1.772704</td>\n      <td>-0.378048</td>\n      <td>-0.912035</td>\n      <td>-0.458344</td>\n      <td>0.183359</td>\n      <td>-1.537043</td>\n      <td>-0.126260</td>\n      <td>-0.083394</td>\n      <td>-0.005179</td>\n      <td>-0.206642</td>\n      <td>0.142868</td>\n      <td>0.351754</td>\n      <td>0.156782</td>\n      <td>-0.145872</td>\n      <td>-0.229758</td>\n      <td>-0.067475</td>\n      <td>-0.026690</td>\n    </tr>\n    <tr>\n      <th>7</th>\n      <td>6.902668</td>\n      <td>-0.640337</td>\n      <td>-1.272993</td>\n      <td>0.152812</td>\n      <td>-0.770252</td>\n      <td>-0.255327</td>\n      <td>-0.580407</td>\n      <td>0.761973</td>\n      <td>-0.458869</td>\n      <td>1.445924</td>\n      <td>0.302146</td>\n      <td>-0.759936</td>\n      <td>0.100595</td>\n      <td>-0.607217</td>\n      <td>0.500999</td>\n      <td>0.251061</td>\n      <td>-0.240072</td>\n      <td>0.051941</td>\n      <td>-0.047821</td>\n    </tr>\n    <tr>\n      <th>8</th>\n      <td>-0.196502</td>\n      <td>-2.187854</td>\n      <td>-1.081183</td>\n      <td>0.246926</td>\n      <td>0.639011</td>\n      <td>0.018139</td>\n      <td>1.993105</td>\n      <td>-0.067013</td>\n      <td>-0.896210</td>\n      <td>-0.029632</td>\n      <td>0.093326</td>\n      <td>-0.252109</td>\n      <td>-0.175172</td>\n      <td>0.007296</td>\n      <td>0.515867</td>\n      <td>-0.384965</td>\n      <td>0.004728</td>\n      <td>-0.011116</td>\n      <td>0.004269</td>\n    </tr>\n    <tr>\n      <th>9</th>\n      <td>0.978522</td>\n      <td>-2.523678</td>\n      <td>3.206865</td>\n      <td>0.913715</td>\n      <td>0.470862</td>\n      <td>-0.630439</td>\n      <td>1.362772</td>\n      <td>0.516797</td>\n      <td>0.177312</td>\n      <td>0.189062</td>\n      <td>0.079040</td>\n      <td>0.266366</td>\n      <td>-0.106746</td>\n      <td>0.187707</td>\n      <td>0.097926</td>\n      <td>0.494138</td>\n      <td>-0.154426</td>\n      <td>-0.081158</td>\n      <td>0.005145</td>\n    </tr>\n    <tr>\n      <th>10</th>\n      <td>-1.126674</td>\n      <td>0.183662</td>\n      <td>-0.662307</td>\n      <td>-0.897320</td>\n      <td>1.347981</td>\n      <td>1.122989</td>\n      <td>-0.050417</td>\n      <td>-0.387266</td>\n      <td>1.003947</td>\n      <td>-0.116749</td>\n      <td>1.253658</td>\n      <td>0.372921</td>\n      <td>0.259377</td>\n      <td>0.044978</td>\n      <td>-0.187652</td>\n      <td>-0.082239</td>\n      <td>-0.064664</td>\n      <td>-0.010309</td>\n      <td>0.011153</td>\n    </tr>\n    <tr>\n      <th>11</th>\n      <td>1.721284</td>\n      <td>2.492690</td>\n      <td>2.290508</td>\n      <td>1.115198</td>\n      <td>0.947167</td>\n      <td>-0.218175</td>\n      <td>-0.995376</td>\n      <td>-0.348413</td>\n      <td>-1.349695</td>\n      <td>-0.378478</td>\n      <td>-0.135454</td>\n      <td>0.119759</td>\n      <td>-0.139829</td>\n      <td>-0.012708</td>\n      <td>0.168251</td>\n      <td>0.077833</td>\n      <td>0.169215</td>\n      <td>0.031841</td>\n      <td>0.136593</td>\n    </tr>\n    <tr>\n      <th>12</th>\n      <td>-3.615447</td>\n      <td>1.307573</td>\n      <td>0.214012</td>\n      <td>-1.488859</td>\n      <td>-0.997276</td>\n      <td>-0.355454</td>\n      <td>-0.125818</td>\n      <td>0.030075</td>\n      <td>-0.004117</td>\n      <td>0.308555</td>\n      <td>-0.047823</td>\n      <td>-0.054959</td>\n      <td>0.235103</td>\n      <td>-0.110966</td>\n      <td>0.315347</td>\n      <td>-0.079213</td>\n      <td>-0.004839</td>\n      <td>-0.002762</td>\n      <td>-0.007516</td>\n    </tr>\n    <tr>\n      <th>13</th>\n      <td>-2.505310</td>\n      <td>-0.327611</td>\n      <td>0.576326</td>\n      <td>-1.389476</td>\n      <td>-0.844787</td>\n      <td>-0.586674</td>\n      <td>-0.631526</td>\n      <td>-0.084899</td>\n      <td>-0.197027</td>\n      <td>0.145683</td>\n      <td>-0.086202</td>\n      <td>0.252478</td>\n      <td>0.001735</td>\n      <td>-0.046756</td>\n      <td>0.031168</td>\n      <td>0.102464</td>\n      <td>0.014231</td>\n      <td>0.005605</td>\n      <td>-0.007669</td>\n    </tr>\n    <tr>\n      <th>14</th>\n      <td>1.508435</td>\n      <td>-0.570243</td>\n      <td>3.201725</td>\n      <td>0.884864</td>\n      <td>-1.665695</td>\n      <td>-0.329795</td>\n      <td>1.402008</td>\n      <td>-0.844774</td>\n      <td>0.327999</td>\n      <td>-0.532833</td>\n      <td>-0.030047</td>\n      <td>-0.175971</td>\n      <td>0.435175</td>\n      <td>-0.038025</td>\n      <td>0.192815</td>\n      <td>0.021736</td>\n      <td>0.041772</td>\n      <td>-0.159291</td>\n      <td>0.114694</td>\n    </tr>\n    <tr>\n      <th>15</th>\n      <td>1.498990</td>\n      <td>-1.735127</td>\n      <td>-1.643698</td>\n      <td>0.035575</td>\n      <td>1.113545</td>\n      <td>-0.499027</td>\n      <td>0.021892</td>\n      <td>0.173182</td>\n      <td>-0.099492</td>\n      <td>0.363498</td>\n      <td>0.085357</td>\n      <td>-0.140084</td>\n      <td>0.204561</td>\n      <td>0.469108</td>\n      <td>-0.482722</td>\n      <td>-0.030787</td>\n      <td>0.034799</td>\n      <td>-0.092673</td>\n      <td>-0.009808</td>\n    </tr>\n    <tr>\n      <th>16</th>\n      <td>-2.487839</td>\n      <td>1.217249</td>\n      <td>-0.898358</td>\n      <td>1.400540</td>\n      <td>-1.299288</td>\n      <td>0.459945</td>\n      <td>-0.238920</td>\n      <td>-0.014759</td>\n      <td>-0.227905</td>\n      <td>-0.269966</td>\n      <td>-0.118104</td>\n      <td>0.083171</td>\n      <td>-0.545363</td>\n      <td>-0.130196</td>\n      <td>0.322090</td>\n      <td>-0.250002</td>\n      <td>0.067499</td>\n      <td>0.036068</td>\n      <td>-0.029455</td>\n    </tr>\n    <tr>\n      <th>17</th>\n      <td>-0.442532</td>\n      <td>1.668180</td>\n      <td>0.621441</td>\n      <td>-0.787306</td>\n      <td>0.979196</td>\n      <td>-0.656750</td>\n      <td>0.085326</td>\n      <td>0.920784</td>\n      <td>-0.251522</td>\n      <td>0.183690</td>\n      <td>0.103513</td>\n      <td>-0.210899</td>\n      <td>-0.367888</td>\n      <td>0.064934</td>\n      <td>0.317548</td>\n      <td>-0.058904</td>\n      <td>0.053223</td>\n      <td>0.047619</td>\n      <td>0.016650</td>\n    </tr>\n    <tr>\n      <th>18</th>\n      <td>1.983281</td>\n      <td>-2.283163</td>\n      <td>-0.301620</td>\n      <td>-0.090398</td>\n      <td>-0.744987</td>\n      <td>3.040797</td>\n      <td>1.415958</td>\n      <td>-0.468098</td>\n      <td>-0.296795</td>\n      <td>0.156334</td>\n      <td>-0.005110</td>\n      <td>-0.226833</td>\n      <td>-0.399567</td>\n      <td>-0.220401</td>\n      <td>-0.023341</td>\n      <td>-0.274729</td>\n      <td>-0.048118</td>\n      <td>-0.017430</td>\n      <td>0.006194</td>\n    </tr>\n    <tr>\n      <th>19</th>\n      <td>-3.744795</td>\n      <td>2.002918</td>\n      <td>0.095055</td>\n      <td>-1.452828</td>\n      <td>-0.981137</td>\n      <td>-0.272421</td>\n      <td>-0.150320</td>\n      <td>0.014768</td>\n      <td>0.063109</td>\n      <td>0.278684</td>\n      <td>-0.145275</td>\n      <td>0.290626</td>\n      <td>-0.008503</td>\n      <td>-0.094662</td>\n      <td>-0.138639</td>\n      <td>0.005939</td>\n      <td>0.055563</td>\n      <td>-0.003402</td>\n      <td>-0.011305</td>\n    </tr>\n    <tr>\n      <th>20</th>\n      <td>-3.128770</td>\n      <td>0.669574</td>\n      <td>0.696920</td>\n      <td>-1.509409</td>\n      <td>-0.819367</td>\n      <td>0.736415</td>\n      <td>0.096442</td>\n      <td>-0.235821</td>\n      <td>0.116349</td>\n      <td>0.181152</td>\n      <td>0.008346</td>\n      <td>-0.506959</td>\n      <td>0.302029</td>\n      <td>0.118956</td>\n      <td>-0.335261</td>\n      <td>0.018033</td>\n      <td>-0.038217</td>\n      <td>0.033981</td>\n      <td>0.015281</td>\n    </tr>\n    <tr>\n      <th>21</th>\n      <td>0.599641</td>\n      <td>-0.558534</td>\n      <td>1.789028</td>\n      <td>-0.119187</td>\n      <td>-0.821883</td>\n      <td>-0.683684</td>\n      <td>-1.573331</td>\n      <td>-0.452726</td>\n      <td>0.296631</td>\n      <td>0.088099</td>\n      <td>-0.027913</td>\n      <td>-0.211437</td>\n      <td>0.122386</td>\n      <td>-0.034093</td>\n      <td>-0.315594</td>\n      <td>-0.128023</td>\n      <td>0.025289</td>\n      <td>-0.081509</td>\n      <td>-0.035296</td>\n    </tr>\n    <tr>\n      <th>22</th>\n      <td>0.814201</td>\n      <td>-1.768399</td>\n      <td>2.357478</td>\n      <td>-0.030230</td>\n      <td>-1.401638</td>\n      <td>-0.749763</td>\n      <td>0.768002</td>\n      <td>0.569984</td>\n      <td>1.815315</td>\n      <td>-0.051336</td>\n      <td>0.141233</td>\n      <td>-0.376493</td>\n      <td>0.519108</td>\n      <td>-0.191881</td>\n      <td>0.148021</td>\n      <td>0.147964</td>\n      <td>-0.035770</td>\n      <td>-0.039175</td>\n      <td>-0.002697</td>\n    </tr>\n    <tr>\n      <th>23</th>\n      <td>5.439599</td>\n      <td>-0.671895</td>\n      <td>1.530794</td>\n      <td>-2.009158</td>\n      <td>-0.757560</td>\n      <td>1.786575</td>\n      <td>1.878574</td>\n      <td>-0.456819</td>\n      <td>0.312714</td>\n      <td>-0.471475</td>\n      <td>-0.001625</td>\n      <td>0.153766</td>\n      <td>0.272761</td>\n      <td>0.196794</td>\n      <td>0.628699</td>\n      <td>0.165004</td>\n      <td>0.251682</td>\n      <td>0.248686</td>\n      <td>0.044540</td>\n    </tr>\n    <tr>\n      <th>24</th>\n      <td>0.719232</td>\n      <td>-3.985640</td>\n      <td>0.875175</td>\n      <td>-2.524112</td>\n      <td>1.952957</td>\n      <td>1.448782</td>\n      <td>-0.514108</td>\n      <td>-0.195107</td>\n      <td>0.492265</td>\n      <td>-0.449162</td>\n      <td>-0.100472</td>\n      <td>0.368832</td>\n      <td>-0.132306</td>\n      <td>-0.061124</td>\n      <td>0.109405</td>\n      <td>-0.139761</td>\n      <td>-0.055630</td>\n      <td>0.002942</td>\n      <td>0.007468</td>\n    </tr>\n    <tr>\n      <th>25</th>\n      <td>3.293751</td>\n      <td>-1.781259</td>\n      <td>0.220160</td>\n      <td>1.732267</td>\n      <td>-1.379564</td>\n      <td>-0.226837</td>\n      <td>0.254492</td>\n      <td>-0.239844</td>\n      <td>0.867970</td>\n      <td>-0.469467</td>\n      <td>-0.185964</td>\n      <td>0.866300</td>\n      <td>-0.057194</td>\n      <td>0.042888</td>\n      <td>0.046210</td>\n      <td>-0.070548</td>\n      <td>0.092128</td>\n      <td>0.054316</td>\n      <td>-0.014969</td>\n    </tr>\n    <tr>\n      <th>26</th>\n      <td>1.836066</td>\n      <td>-1.424867</td>\n      <td>-2.329407</td>\n      <td>-0.818069</td>\n      <td>-0.792104</td>\n      <td>-0.789717</td>\n      <td>-0.464364</td>\n      <td>-0.576741</td>\n      <td>0.207359</td>\n      <td>-0.488118</td>\n      <td>-0.085220</td>\n      <td>0.115458</td>\n      <td>-0.151951</td>\n      <td>-0.314395</td>\n      <td>0.093051</td>\n      <td>-0.051431</td>\n      <td>-0.047329</td>\n      <td>-0.013508</td>\n      <td>-0.027849</td>\n    </tr>\n    <tr>\n      <th>27</th>\n      <td>1.402666</td>\n      <td>-0.870932</td>\n      <td>0.635314</td>\n      <td>-1.679155</td>\n      <td>-0.923465</td>\n      <td>-1.100705</td>\n      <td>0.217721</td>\n      <td>0.849471</td>\n      <td>-0.251442</td>\n      <td>0.045332</td>\n      <td>0.299754</td>\n      <td>-0.790040</td>\n      <td>0.054121</td>\n      <td>0.282715</td>\n      <td>0.035967</td>\n      <td>-0.114918</td>\n      <td>0.231445</td>\n      <td>0.038702</td>\n      <td>-0.043868</td>\n    </tr>\n    <tr>\n      <th>28</th>\n      <td>0.975417</td>\n      <td>-1.802703</td>\n      <td>0.004531</td>\n      <td>-2.485404</td>\n      <td>-0.527477</td>\n      <td>-1.175454</td>\n      <td>-0.908373</td>\n      <td>-0.891635</td>\n      <td>0.039977</td>\n      <td>-0.140458</td>\n      <td>-0.031727</td>\n      <td>-0.082363</td>\n      <td>0.296337</td>\n      <td>-0.108746</td>\n      <td>0.077211</td>\n      <td>-0.065963</td>\n      <td>-0.011310</td>\n      <td>0.001524</td>\n      <td>0.016182</td>\n    </tr>\n    <tr>\n      <th>29</th>\n      <td>3.395671</td>\n      <td>0.854485</td>\n      <td>0.294260</td>\n      <td>-1.658589</td>\n      <td>-0.616178</td>\n      <td>-0.857535</td>\n      <td>-0.942902</td>\n      <td>1.087376</td>\n      <td>0.122379</td>\n      <td>0.691700</td>\n      <td>0.108107</td>\n      <td>-0.163027</td>\n      <td>0.076143</td>\n      <td>-0.389410</td>\n      <td>-0.171304</td>\n      <td>0.014047</td>\n      <td>-0.238695</td>\n      <td>-0.020500</td>\n      <td>0.056873</td>\n    </tr>\n    <tr>\n      <th>...</th>\n      <td>...</td>\n      <td>...</td>\n      <td>...</td>\n      <td>...</td>\n      <td>...</td>\n      <td>...</td>\n      <td>...</td>\n      <td>...</td>\n      <td>...</td>\n      <td>...</td>\n      <td>...</td>\n      <td>...</td>\n      <td>...</td>\n      <td>...</td>\n      <td>...</td>\n      <td>...</td>\n      <td>...</td>\n      <td>...</td>\n      <td>...</td>\n    </tr>\n    <tr>\n      <th>180</th>\n      <td>-2.596373</td>\n      <td>0.993185</td>\n      <td>-1.983424</td>\n      <td>0.267060</td>\n      <td>-1.175717</td>\n      <td>-0.121382</td>\n      <td>-0.161999</td>\n      <td>0.747995</td>\n      <td>0.124961</td>\n      <td>-0.106338</td>\n      <td>0.045266</td>\n      <td>-0.211339</td>\n      <td>0.010313</td>\n      <td>0.166294</td>\n      <td>0.348225</td>\n      <td>0.073745</td>\n      <td>0.013249</td>\n      <td>-0.027084</td>\n      <td>-0.009293</td>\n    </tr>\n    <tr>\n      <th>181</th>\n      <td>0.186987</td>\n      <td>-3.302098</td>\n      <td>0.838170</td>\n      <td>2.100238</td>\n      <td>-1.678566</td>\n      <td>-0.034986</td>\n      <td>1.211848</td>\n      <td>-0.022484</td>\n      <td>0.452890</td>\n      <td>0.175398</td>\n      <td>0.088669</td>\n      <td>-0.115441</td>\n      <td>-0.293400</td>\n      <td>-0.074410</td>\n      <td>0.244776</td>\n      <td>0.008575</td>\n      <td>0.052782</td>\n      <td>-0.012183</td>\n      <td>-0.054528</td>\n    </tr>\n    <tr>\n      <th>182</th>\n      <td>-0.316807</td>\n      <td>-0.174416</td>\n      <td>0.658714</td>\n      <td>-1.615797</td>\n      <td>-0.959277</td>\n      <td>-0.354697</td>\n      <td>0.583139</td>\n      <td>1.138726</td>\n      <td>-0.363833</td>\n      <td>0.333583</td>\n      <td>0.063283</td>\n      <td>0.031693</td>\n      <td>0.227059</td>\n      <td>-0.188108</td>\n      <td>-0.125882</td>\n      <td>-0.223129</td>\n      <td>0.108159</td>\n      <td>0.047267</td>\n      <td>0.009509</td>\n    </tr>\n    <tr>\n      <th>183</th>\n      <td>1.237805</td>\n      <td>0.020286</td>\n      <td>-0.220302</td>\n      <td>1.754659</td>\n      <td>-1.301406</td>\n      <td>-0.020077</td>\n      <td>-0.257790</td>\n      <td>0.137471</td>\n      <td>-0.741668</td>\n      <td>-0.126617</td>\n      <td>-0.078055</td>\n      <td>0.126819</td>\n      <td>0.258998</td>\n      <td>-0.052225</td>\n      <td>0.083174</td>\n      <td>-0.020761</td>\n      <td>-0.307143</td>\n      <td>-0.006264</td>\n      <td>-0.007167</td>\n    </tr>\n    <tr>\n      <th>184</th>\n      <td>-3.119179</td>\n      <td>0.522514</td>\n      <td>1.791382</td>\n      <td>0.098046</td>\n      <td>-1.208301</td>\n      <td>-0.129661</td>\n      <td>-0.362683</td>\n      <td>-0.193353</td>\n      <td>0.379678</td>\n      <td>0.120741</td>\n      <td>-0.008518</td>\n      <td>-0.276758</td>\n      <td>-0.248989</td>\n      <td>0.024247</td>\n      <td>0.155113</td>\n      <td>-0.155115</td>\n      <td>-0.085571</td>\n      <td>0.084432</td>\n      <td>-0.029851</td>\n    </tr>\n    <tr>\n      <th>185</th>\n      <td>0.183439</td>\n      <td>-2.817337</td>\n      <td>3.113071</td>\n      <td>0.881001</td>\n      <td>-0.893325</td>\n      <td>-0.202447</td>\n      <td>-1.764822</td>\n      <td>0.491928</td>\n      <td>-0.041024</td>\n      <td>0.341859</td>\n      <td>-0.069653</td>\n      <td>0.634944</td>\n      <td>-0.289830</td>\n      <td>-0.004972</td>\n      <td>0.371248</td>\n      <td>-0.257470</td>\n      <td>-0.104982</td>\n      <td>0.021314</td>\n      <td>-0.001833</td>\n    </tr>\n    <tr>\n      <th>186</th>\n      <td>4.078041</td>\n      <td>2.535875</td>\n      <td>-1.421951</td>\n      <td>0.955990</td>\n      <td>1.101871</td>\n      <td>0.540948</td>\n      <td>-0.373159</td>\n      <td>0.922310</td>\n      <td>0.402701</td>\n      <td>0.673755</td>\n      <td>0.123178</td>\n      <td>-0.408423</td>\n      <td>-0.228513</td>\n      <td>0.307239</td>\n      <td>-0.123080</td>\n      <td>-0.432830</td>\n      <td>-0.266353</td>\n      <td>0.097593</td>\n      <td>0.028582</td>\n    </tr>\n    <tr>\n      <th>187</th>\n      <td>-1.942672</td>\n      <td>-0.319804</td>\n      <td>-2.399764</td>\n      <td>-0.307100</td>\n      <td>-0.915069</td>\n      <td>-0.710440</td>\n      <td>-0.913222</td>\n      <td>0.562227</td>\n      <td>0.478793</td>\n      <td>-0.044598</td>\n      <td>-0.023507</td>\n      <td>0.051401</td>\n      <td>0.405647</td>\n      <td>0.116571</td>\n      <td>-0.076303</td>\n      <td>0.069486</td>\n      <td>0.055748</td>\n      <td>-0.007610</td>\n      <td>-0.005495</td>\n    </tr>\n    <tr>\n      <th>188</th>\n      <td>-3.014675</td>\n      <td>1.285409</td>\n      <td>0.878815</td>\n      <td>-0.787969</td>\n      <td>-1.201046</td>\n      <td>-0.416896</td>\n      <td>0.200166</td>\n      <td>-0.079449</td>\n      <td>0.487351</td>\n      <td>0.235462</td>\n      <td>-0.026585</td>\n      <td>-0.162377</td>\n      <td>0.110061</td>\n      <td>-0.038554</td>\n      <td>-0.062090</td>\n      <td>0.107615</td>\n      <td>0.002206</td>\n      <td>-0.018388</td>\n      <td>-0.005868</td>\n    </tr>\n    <tr>\n      <th>189</th>\n      <td>-1.189396</td>\n      <td>-1.703281</td>\n      <td>1.267136</td>\n      <td>-1.311715</td>\n      <td>-1.273906</td>\n      <td>-0.563563</td>\n      <td>1.722030</td>\n      <td>0.310432</td>\n      <td>-1.446577</td>\n      <td>0.797803</td>\n      <td>0.067269</td>\n      <td>0.176828</td>\n      <td>-0.356553</td>\n      <td>-0.032488</td>\n      <td>-0.088087</td>\n      <td>-0.525172</td>\n      <td>0.151964</td>\n      <td>-0.006828</td>\n      <td>-0.025655</td>\n    </tr>\n    <tr>\n      <th>190</th>\n      <td>0.431046</td>\n      <td>-2.536892</td>\n      <td>-0.820223</td>\n      <td>0.101983</td>\n      <td>1.268159</td>\n      <td>1.516133</td>\n      <td>0.461737</td>\n      <td>-1.235304</td>\n      <td>-0.356020</td>\n      <td>-0.067203</td>\n      <td>-0.086145</td>\n      <td>-0.193593</td>\n      <td>0.405840</td>\n      <td>-0.034846</td>\n      <td>-0.029291</td>\n      <td>0.152904</td>\n      <td>0.054025</td>\n      <td>-0.010201</td>\n      <td>0.006667</td>\n    </tr>\n    <tr>\n      <th>191</th>\n      <td>2.833285</td>\n      <td>3.951274</td>\n      <td>2.110756</td>\n      <td>0.998231</td>\n      <td>0.617452</td>\n      <td>-0.131027</td>\n      <td>0.495569</td>\n      <td>0.620925</td>\n      <td>-0.033917</td>\n      <td>-0.530211</td>\n      <td>-0.145580</td>\n      <td>0.405016</td>\n      <td>0.065643</td>\n      <td>-0.293143</td>\n      <td>0.196312</td>\n      <td>-0.028183</td>\n      <td>0.467219</td>\n      <td>-0.148577</td>\n      <td>0.077010</td>\n    </tr>\n    <tr>\n      <th>192</th>\n      <td>1.692730</td>\n      <td>-1.194146</td>\n      <td>0.843501</td>\n      <td>-2.526981</td>\n      <td>-0.244828</td>\n      <td>2.167298</td>\n      <td>0.216480</td>\n      <td>-0.457699</td>\n      <td>0.426886</td>\n      <td>0.029921</td>\n      <td>-0.097419</td>\n      <td>0.187899</td>\n      <td>-0.121631</td>\n      <td>-0.018834</td>\n      <td>-0.309663</td>\n      <td>0.042372</td>\n      <td>0.021153</td>\n      <td>0.018624</td>\n      <td>-0.005405</td>\n    </tr>\n    <tr>\n      <th>193</th>\n      <td>-1.520431</td>\n      <td>-0.247366</td>\n      <td>-1.696120</td>\n      <td>0.200257</td>\n      <td>-0.969470</td>\n      <td>0.162227</td>\n      <td>-0.420494</td>\n      <td>0.897283</td>\n      <td>-0.220992</td>\n      <td>-0.024454</td>\n      <td>0.011010</td>\n      <td>0.019677</td>\n      <td>-0.172653</td>\n      <td>0.136112</td>\n      <td>-0.001370</td>\n      <td>-0.371043</td>\n      <td>0.037805</td>\n      <td>0.014694</td>\n      <td>0.002466</td>\n    </tr>\n    <tr>\n      <th>194</th>\n      <td>0.399886</td>\n      <td>2.346086</td>\n      <td>-1.723536</td>\n      <td>0.507145</td>\n      <td>-1.112834</td>\n      <td>0.315320</td>\n      <td>-0.004947</td>\n      <td>0.536121</td>\n      <td>-0.022490</td>\n      <td>-0.325124</td>\n      <td>-0.048885</td>\n      <td>-0.205472</td>\n      <td>0.006917</td>\n      <td>-0.285081</td>\n      <td>-0.192405</td>\n      <td>-0.059973</td>\n      <td>-0.016582</td>\n      <td>-0.120413</td>\n      <td>-0.026083</td>\n    </tr>\n    <tr>\n      <th>195</th>\n      <td>-3.201356</td>\n      <td>2.446806</td>\n      <td>0.060924</td>\n      <td>-1.126993</td>\n      <td>1.012461</td>\n      <td>-0.434787</td>\n      <td>-0.131896</td>\n      <td>0.213999</td>\n      <td>0.543804</td>\n      <td>-0.493495</td>\n      <td>0.003445</td>\n      <td>-0.362310</td>\n      <td>-0.456517</td>\n      <td>0.088470</td>\n      <td>0.349912</td>\n      <td>0.009187</td>\n      <td>-0.142632</td>\n      <td>0.100340</td>\n      <td>0.009169</td>\n    </tr>\n    <tr>\n      <th>196</th>\n      <td>-0.394797</td>\n      <td>0.369009</td>\n      <td>1.627438</td>\n      <td>-0.102750</td>\n      <td>-0.849966</td>\n      <td>-0.344705</td>\n      <td>-1.540796</td>\n      <td>0.103513</td>\n      <td>0.018891</td>\n      <td>-0.199632</td>\n      <td>-0.105243</td>\n      <td>0.241807</td>\n      <td>0.020297</td>\n      <td>-0.276225</td>\n      <td>0.307879</td>\n      <td>0.375271</td>\n      <td>0.098856</td>\n      <td>-0.086176</td>\n      <td>0.002838</td>\n    </tr>\n    <tr>\n      <th>197</th>\n      <td>0.840258</td>\n      <td>2.656460</td>\n      <td>-2.105804</td>\n      <td>0.328448</td>\n      <td>-1.118832</td>\n      <td>-0.254642</td>\n      <td>-0.374828</td>\n      <td>0.141535</td>\n      <td>0.354134</td>\n      <td>-0.996898</td>\n      <td>-0.021039</td>\n      <td>-0.169629</td>\n      <td>-0.119838</td>\n      <td>0.474116</td>\n      <td>0.275596</td>\n      <td>0.214609</td>\n      <td>-0.003919</td>\n      <td>-0.055316</td>\n      <td>-0.093111</td>\n    </tr>\n    <tr>\n      <th>198</th>\n      <td>3.454876</td>\n      <td>3.374939</td>\n      <td>-1.621103</td>\n      <td>1.096918</td>\n      <td>0.990080</td>\n      <td>0.021926</td>\n      <td>-0.488009</td>\n      <td>0.345881</td>\n      <td>-0.047143</td>\n      <td>0.523054</td>\n      <td>-0.041829</td>\n      <td>-0.056931</td>\n      <td>-0.349128</td>\n      <td>-0.533791</td>\n      <td>0.136963</td>\n      <td>0.074022</td>\n      <td>0.091475</td>\n      <td>-0.009242</td>\n      <td>-0.002181</td>\n    </tr>\n    <tr>\n      <th>199</th>\n      <td>1.245983</td>\n      <td>-0.357790</td>\n      <td>0.956395</td>\n      <td>0.954556</td>\n      <td>-1.061417</td>\n      <td>-0.304083</td>\n      <td>-0.931010</td>\n      <td>0.326404</td>\n      <td>-0.322262</td>\n      <td>-0.505182</td>\n      <td>1.545007</td>\n      <td>-0.537389</td>\n      <td>0.238082</td>\n      <td>0.004661</td>\n      <td>-0.038550</td>\n      <td>0.184551</td>\n      <td>0.102210</td>\n      <td>-0.044436</td>\n      <td>-0.027765</td>\n    </tr>\n    <tr>\n      <th>200</th>\n      <td>-0.410730</td>\n      <td>-2.208903</td>\n      <td>0.064777</td>\n      <td>-2.172869</td>\n      <td>1.311270</td>\n      <td>-1.367016</td>\n      <td>-0.161806</td>\n      <td>-0.833311</td>\n      <td>-0.333591</td>\n      <td>-0.398756</td>\n      <td>-0.198188</td>\n      <td>0.715700</td>\n      <td>-0.463993</td>\n      <td>-0.430268</td>\n      <td>0.304572</td>\n      <td>0.001041</td>\n      <td>-0.027291</td>\n      <td>0.005215</td>\n      <td>-0.002909</td>\n    </tr>\n    <tr>\n      <th>201</th>\n      <td>-2.249340</td>\n      <td>-1.014858</td>\n      <td>-1.800252</td>\n      <td>0.286560</td>\n      <td>1.044811</td>\n      <td>-0.300051</td>\n      <td>-0.421791</td>\n      <td>0.454787</td>\n      <td>-0.090447</td>\n      <td>0.186885</td>\n      <td>-0.058926</td>\n      <td>0.248250</td>\n      <td>0.416779</td>\n      <td>0.168556</td>\n      <td>0.030228</td>\n      <td>0.010381</td>\n      <td>0.087587</td>\n      <td>0.000264</td>\n      <td>0.008541</td>\n    </tr>\n    <tr>\n      <th>202</th>\n      <td>-1.946236</td>\n      <td>0.719106</td>\n      <td>0.194432</td>\n      <td>-1.883350</td>\n      <td>-1.054009</td>\n      <td>-0.528056</td>\n      <td>0.669301</td>\n      <td>-0.870672</td>\n      <td>-0.002853</td>\n      <td>-0.396967</td>\n      <td>0.002016</td>\n      <td>-0.550651</td>\n      <td>-0.011984</td>\n      <td>-0.159530</td>\n      <td>0.189049</td>\n      <td>-0.075501</td>\n      <td>-0.061562</td>\n      <td>-0.008130</td>\n      <td>-0.019266</td>\n    </tr>\n    <tr>\n      <th>203</th>\n      <td>-2.221064</td>\n      <td>-0.328039</td>\n      <td>-1.519870</td>\n      <td>0.544443</td>\n      <td>0.621493</td>\n      <td>-0.227103</td>\n      <td>1.230343</td>\n      <td>0.535933</td>\n      <td>-0.278514</td>\n      <td>0.157595</td>\n      <td>0.083058</td>\n      <td>-0.239815</td>\n      <td>-0.227860</td>\n      <td>0.138171</td>\n      <td>0.137703</td>\n      <td>-0.172536</td>\n      <td>0.029899</td>\n      <td>0.018816</td>\n      <td>-0.026295</td>\n    </tr>\n    <tr>\n      <th>204</th>\n      <td>1.769424</td>\n      <td>-0.382070</td>\n      <td>-0.966938</td>\n      <td>0.814845</td>\n      <td>0.671673</td>\n      <td>0.023205</td>\n      <td>1.673174</td>\n      <td>2.307533</td>\n      <td>-0.743638</td>\n      <td>-0.262867</td>\n      <td>0.064446</td>\n      <td>0.294781</td>\n      <td>0.031734</td>\n      <td>0.078283</td>\n      <td>-0.611173</td>\n      <td>-0.202300</td>\n      <td>-0.236095</td>\n      <td>0.067279</td>\n      <td>0.031103</td>\n    </tr>\n    <tr>\n      <th>205</th>\n      <td>5.888069</td>\n      <td>-0.434815</td>\n      <td>0.028508</td>\n      <td>0.912719</td>\n      <td>-0.473800</td>\n      <td>2.566775</td>\n      <td>-0.666658</td>\n      <td>1.784598</td>\n      <td>-0.132778</td>\n      <td>-0.660866</td>\n      <td>0.121999</td>\n      <td>-0.666928</td>\n      <td>0.106255</td>\n      <td>-0.771047</td>\n      <td>-0.111560</td>\n      <td>-0.242336</td>\n      <td>0.140234</td>\n      <td>-0.073120</td>\n      <td>-0.052369</td>\n    </tr>\n    <tr>\n      <th>206</th>\n      <td>7.503924</td>\n      <td>8.077222</td>\n      <td>1.917969</td>\n      <td>0.724344</td>\n      <td>0.660651</td>\n      <td>1.472360</td>\n      <td>1.611970</td>\n      <td>0.716189</td>\n      <td>-0.792166</td>\n      <td>-1.348693</td>\n      <td>-0.472417</td>\n      <td>1.321953</td>\n      <td>1.932444</td>\n      <td>0.308346</td>\n      <td>0.094593</td>\n      <td>-0.271387</td>\n      <td>-0.207382</td>\n      <td>0.024805</td>\n      <td>-0.133645</td>\n    </tr>\n    <tr>\n      <th>207</th>\n      <td>-0.326851</td>\n      <td>-3.015095</td>\n      <td>-1.811963</td>\n      <td>-0.171218</td>\n      <td>1.120149</td>\n      <td>-1.087164</td>\n      <td>-0.425476</td>\n      <td>-0.318924</td>\n      <td>-0.244472</td>\n      <td>-0.555697</td>\n      <td>0.042752</td>\n      <td>-0.354858</td>\n      <td>0.395343</td>\n      <td>0.039260</td>\n      <td>0.165164</td>\n      <td>-0.039856</td>\n      <td>0.004640</td>\n      <td>0.018273</td>\n      <td>-0.000154</td>\n    </tr>\n    <tr>\n      <th>208</th>\n      <td>0.908425</td>\n      <td>1.334545</td>\n      <td>-0.623933</td>\n      <td>1.384804</td>\n      <td>-1.205046</td>\n      <td>0.615505</td>\n      <td>0.080225</td>\n      <td>0.164765</td>\n      <td>-1.027747</td>\n      <td>-0.722186</td>\n      <td>0.009507</td>\n      <td>-0.439888</td>\n      <td>-0.612984</td>\n      <td>-0.069367</td>\n      <td>-0.171213</td>\n      <td>0.176678</td>\n      <td>-0.190047</td>\n      <td>-0.029915</td>\n      <td>-0.002211</td>\n    </tr>\n    <tr>\n      <th>209</th>\n      <td>-2.506545</td>\n      <td>-0.945305</td>\n      <td>0.670840</td>\n      <td>2.834961</td>\n      <td>0.407478</td>\n      <td>0.520115</td>\n      <td>0.524516</td>\n      <td>-0.179151</td>\n      <td>0.565872</td>\n      <td>0.407268</td>\n      <td>-0.076767</td>\n      <td>0.102834</td>\n      <td>-0.299662</td>\n      <td>0.122173</td>\n      <td>-0.180515</td>\n      <td>-0.213167</td>\n      <td>0.030523</td>\n      <td>0.095095</td>\n      <td>-0.020754</td>\n    </tr>\n  </tbody>\n</table>\n<p>210 rows × 19 columns</p>\n</div>",
            "text/plain": "           0         1         2         3         4         5         6   \\\n0   -1.913351 -2.016561  1.287834  3.406292  0.490089  0.455181 -0.283912   \n1   -2.989787  0.845543  0.204023 -1.682557 -0.939066 -0.272220  0.133924   \n2    0.425130 -1.592587  0.525885 -1.957221 -0.715332 -0.698986 -0.238121   \n3   -0.400385  0.570671  0.612446 -1.392644 -0.930434 -0.424112  0.066543   \n4    2.534096  3.574579  1.005409 -0.459106 -1.174625 -0.419727  0.119879   \n5   -3.304390  2.489801  0.059596 -1.155543  1.111055 -0.188694 -0.331007   \n6    6.521557  0.021132 -1.772704 -0.378048 -0.912035 -0.458344  0.183359   \n7    6.902668 -0.640337 -1.272993  0.152812 -0.770252 -0.255327 -0.580407   \n8   -0.196502 -2.187854 -1.081183  0.246926  0.639011  0.018139  1.993105   \n9    0.978522 -2.523678  3.206865  0.913715  0.470862 -0.630439  1.362772   \n10  -1.126674  0.183662 -0.662307 -0.897320  1.347981  1.122989 -0.050417   \n11   1.721284  2.492690  2.290508  1.115198  0.947167 -0.218175 -0.995376   \n12  -3.615447  1.307573  0.214012 -1.488859 -0.997276 -0.355454 -0.125818   \n13  -2.505310 -0.327611  0.576326 -1.389476 -0.844787 -0.586674 -0.631526   \n14   1.508435 -0.570243  3.201725  0.884864 -1.665695 -0.329795  1.402008   \n15   1.498990 -1.735127 -1.643698  0.035575  1.113545 -0.499027  0.021892   \n16  -2.487839  1.217249 -0.898358  1.400540 -1.299288  0.459945 -0.238920   \n17  -0.442532  1.668180  0.621441 -0.787306  0.979196 -0.656750  0.085326   \n18   1.983281 -2.283163 -0.301620 -0.090398 -0.744987  3.040797  1.415958   \n19  -3.744795  2.002918  0.095055 -1.452828 -0.981137 -0.272421 -0.150320   \n20  -3.128770  0.669574  0.696920 -1.509409 -0.819367  0.736415  0.096442   \n21   0.599641 -0.558534  1.789028 -0.119187 -0.821883 -0.683684 -1.573331   \n22   0.814201 -1.768399  2.357478 -0.030230 -1.401638 -0.749763  0.768002   \n23   5.439599 -0.671895  1.530794 -2.009158 -0.757560  1.786575  1.878574   \n24   0.719232 -3.985640  0.875175 -2.524112  1.952957  1.448782 -0.514108   \n25   3.293751 -1.781259  0.220160  1.732267 -1.379564 -0.226837  0.254492   \n26   1.836066 -1.424867 -2.329407 -0.818069 -0.792104 -0.789717 -0.464364   \n27   1.402666 -0.870932  0.635314 -1.679155 -0.923465 -1.100705  0.217721   \n28   0.975417 -1.802703  0.004531 -2.485404 -0.527477 -1.175454 -0.908373   \n29   3.395671  0.854485  0.294260 -1.658589 -0.616178 -0.857535 -0.942902   \n..        ...       ...       ...       ...       ...       ...       ...   \n180 -2.596373  0.993185 -1.983424  0.267060 -1.175717 -0.121382 -0.161999   \n181  0.186987 -3.302098  0.838170  2.100238 -1.678566 -0.034986  1.211848   \n182 -0.316807 -0.174416  0.658714 -1.615797 -0.959277 -0.354697  0.583139   \n183  1.237805  0.020286 -0.220302  1.754659 -1.301406 -0.020077 -0.257790   \n184 -3.119179  0.522514  1.791382  0.098046 -1.208301 -0.129661 -0.362683   \n185  0.183439 -2.817337  3.113071  0.881001 -0.893325 -0.202447 -1.764822   \n186  4.078041  2.535875 -1.421951  0.955990  1.101871  0.540948 -0.373159   \n187 -1.942672 -0.319804 -2.399764 -0.307100 -0.915069 -0.710440 -0.913222   \n188 -3.014675  1.285409  0.878815 -0.787969 -1.201046 -0.416896  0.200166   \n189 -1.189396 -1.703281  1.267136 -1.311715 -1.273906 -0.563563  1.722030   \n190  0.431046 -2.536892 -0.820223  0.101983  1.268159  1.516133  0.461737   \n191  2.833285  3.951274  2.110756  0.998231  0.617452 -0.131027  0.495569   \n192  1.692730 -1.194146  0.843501 -2.526981 -0.244828  2.167298  0.216480   \n193 -1.520431 -0.247366 -1.696120  0.200257 -0.969470  0.162227 -0.420494   \n194  0.399886  2.346086 -1.723536  0.507145 -1.112834  0.315320 -0.004947   \n195 -3.201356  2.446806  0.060924 -1.126993  1.012461 -0.434787 -0.131896   \n196 -0.394797  0.369009  1.627438 -0.102750 -0.849966 -0.344705 -1.540796   \n197  0.840258  2.656460 -2.105804  0.328448 -1.118832 -0.254642 -0.374828   \n198  3.454876  3.374939 -1.621103  1.096918  0.990080  0.021926 -0.488009   \n199  1.245983 -0.357790  0.956395  0.954556 -1.061417 -0.304083 -0.931010   \n200 -0.410730 -2.208903  0.064777 -2.172869  1.311270 -1.367016 -0.161806   \n201 -2.249340 -1.014858 -1.800252  0.286560  1.044811 -0.300051 -0.421791   \n202 -1.946236  0.719106  0.194432 -1.883350 -1.054009 -0.528056  0.669301   \n203 -2.221064 -0.328039 -1.519870  0.544443  0.621493 -0.227103  1.230343   \n204  1.769424 -0.382070 -0.966938  0.814845  0.671673  0.023205  1.673174   \n205  5.888069 -0.434815  0.028508  0.912719 -0.473800  2.566775 -0.666658   \n206  7.503924  8.077222  1.917969  0.724344  0.660651  1.472360  1.611970   \n207 -0.326851 -3.015095 -1.811963 -0.171218  1.120149 -1.087164 -0.425476   \n208  0.908425  1.334545 -0.623933  1.384804 -1.205046  0.615505  0.080225   \n209 -2.506545 -0.945305  0.670840  2.834961  0.407478  0.520115  0.524516   \n\n           7         8         9         10        11        12        13  \\\n0    0.711415  0.203215  0.756903  0.009705  0.187534  0.138280  0.298862   \n1    0.332007 -0.014876  0.293909 -0.057416  0.188574 -0.045094  0.023119   \n2    1.170505 -0.031878  0.175267  0.222160 -0.470954  0.377041  0.157408   \n3    0.848055 -0.489832 -0.071178 -0.037561  0.262017 -0.016993 -0.213262   \n4   -0.507515 -0.599658 -0.336387 -0.191138  0.566551 -0.053243  0.354355   \n5    0.020078  0.550708 -0.396933 -0.103523 -0.019065 -0.480035  0.001820   \n6   -1.537043 -0.126260 -0.083394 -0.005179 -0.206642  0.142868  0.351754   \n7    0.761973 -0.458869  1.445924  0.302146 -0.759936  0.100595 -0.607217   \n8   -0.067013 -0.896210 -0.029632  0.093326 -0.252109 -0.175172  0.007296   \n9    0.516797  0.177312  0.189062  0.079040  0.266366 -0.106746  0.187707   \n10  -0.387266  1.003947 -0.116749  1.253658  0.372921  0.259377  0.044978   \n11  -0.348413 -1.349695 -0.378478 -0.135454  0.119759 -0.139829 -0.012708   \n12   0.030075 -0.004117  0.308555 -0.047823 -0.054959  0.235103 -0.110966   \n13  -0.084899 -0.197027  0.145683 -0.086202  0.252478  0.001735 -0.046756   \n14  -0.844774  0.327999 -0.532833 -0.030047 -0.175971  0.435175 -0.038025   \n15   0.173182 -0.099492  0.363498  0.085357 -0.140084  0.204561  0.469108   \n16  -0.014759 -0.227905 -0.269966 -0.118104  0.083171 -0.545363 -0.130196   \n17   0.920784 -0.251522  0.183690  0.103513 -0.210899 -0.367888  0.064934   \n18  -0.468098 -0.296795  0.156334 -0.005110 -0.226833 -0.399567 -0.220401   \n19   0.014768  0.063109  0.278684 -0.145275  0.290626 -0.008503 -0.094662   \n20  -0.235821  0.116349  0.181152  0.008346 -0.506959  0.302029  0.118956   \n21  -0.452726  0.296631  0.088099 -0.027913 -0.211437  0.122386 -0.034093   \n22   0.569984  1.815315 -0.051336  0.141233 -0.376493  0.519108 -0.191881   \n23  -0.456819  0.312714 -0.471475 -0.001625  0.153766  0.272761  0.196794   \n24  -0.195107  0.492265 -0.449162 -0.100472  0.368832 -0.132306 -0.061124   \n25  -0.239844  0.867970 -0.469467 -0.185964  0.866300 -0.057194  0.042888   \n26  -0.576741  0.207359 -0.488118 -0.085220  0.115458 -0.151951 -0.314395   \n27   0.849471 -0.251442  0.045332  0.299754 -0.790040  0.054121  0.282715   \n28  -0.891635  0.039977 -0.140458 -0.031727 -0.082363  0.296337 -0.108746   \n29   1.087376  0.122379  0.691700  0.108107 -0.163027  0.076143 -0.389410   \n..        ...       ...       ...       ...       ...       ...       ...   \n180  0.747995  0.124961 -0.106338  0.045266 -0.211339  0.010313  0.166294   \n181 -0.022484  0.452890  0.175398  0.088669 -0.115441 -0.293400 -0.074410   \n182  1.138726 -0.363833  0.333583  0.063283  0.031693  0.227059 -0.188108   \n183  0.137471 -0.741668 -0.126617 -0.078055  0.126819  0.258998 -0.052225   \n184 -0.193353  0.379678  0.120741 -0.008518 -0.276758 -0.248989  0.024247   \n185  0.491928 -0.041024  0.341859 -0.069653  0.634944 -0.289830 -0.004972   \n186  0.922310  0.402701  0.673755  0.123178 -0.408423 -0.228513  0.307239   \n187  0.562227  0.478793 -0.044598 -0.023507  0.051401  0.405647  0.116571   \n188 -0.079449  0.487351  0.235462 -0.026585 -0.162377  0.110061 -0.038554   \n189  0.310432 -1.446577  0.797803  0.067269  0.176828 -0.356553 -0.032488   \n190 -1.235304 -0.356020 -0.067203 -0.086145 -0.193593  0.405840 -0.034846   \n191  0.620925 -0.033917 -0.530211 -0.145580  0.405016  0.065643 -0.293143   \n192 -0.457699  0.426886  0.029921 -0.097419  0.187899 -0.121631 -0.018834   \n193  0.897283 -0.220992 -0.024454  0.011010  0.019677 -0.172653  0.136112   \n194  0.536121 -0.022490 -0.325124 -0.048885 -0.205472  0.006917 -0.285081   \n195  0.213999  0.543804 -0.493495  0.003445 -0.362310 -0.456517  0.088470   \n196  0.103513  0.018891 -0.199632 -0.105243  0.241807  0.020297 -0.276225   \n197  0.141535  0.354134 -0.996898 -0.021039 -0.169629 -0.119838  0.474116   \n198  0.345881 -0.047143  0.523054 -0.041829 -0.056931 -0.349128 -0.533791   \n199  0.326404 -0.322262 -0.505182  1.545007 -0.537389  0.238082  0.004661   \n200 -0.833311 -0.333591 -0.398756 -0.198188  0.715700 -0.463993 -0.430268   \n201  0.454787 -0.090447  0.186885 -0.058926  0.248250  0.416779  0.168556   \n202 -0.870672 -0.002853 -0.396967  0.002016 -0.550651 -0.011984 -0.159530   \n203  0.535933 -0.278514  0.157595  0.083058 -0.239815 -0.227860  0.138171   \n204  2.307533 -0.743638 -0.262867  0.064446  0.294781  0.031734  0.078283   \n205  1.784598 -0.132778 -0.660866  0.121999 -0.666928  0.106255 -0.771047   \n206  0.716189 -0.792166 -1.348693 -0.472417  1.321953  1.932444  0.308346   \n207 -0.318924 -0.244472 -0.555697  0.042752 -0.354858  0.395343  0.039260   \n208  0.164765 -1.027747 -0.722186  0.009507 -0.439888 -0.612984 -0.069367   \n209 -0.179151  0.565872  0.407268 -0.076767  0.102834 -0.299662  0.122173   \n\n           14        15        16        17        18  \n0    0.179133 -0.244704  0.026670  0.051182 -0.008064  \n1   -0.204411  0.001452  0.030056 -0.012457 -0.033561  \n2   -0.005288 -0.160390  0.097488 -0.061852  0.006159  \n3    0.063858 -0.038701 -0.196735 -0.072623  0.032909  \n4    0.366295 -0.108279 -0.390342 -0.120644  0.036410  \n5    0.078758  0.090915 -0.104371  0.028849 -0.034294  \n6    0.156782 -0.145872 -0.229758 -0.067475 -0.026690  \n7    0.500999  0.251061 -0.240072  0.051941 -0.047821  \n8    0.515867 -0.384965  0.004728 -0.011116  0.004269  \n9    0.097926  0.494138 -0.154426 -0.081158  0.005145  \n10  -0.187652 -0.082239 -0.064664 -0.010309  0.011153  \n11   0.168251  0.077833  0.169215  0.031841  0.136593  \n12   0.315347 -0.079213 -0.004839 -0.002762 -0.007516  \n13   0.031168  0.102464  0.014231  0.005605 -0.007669  \n14   0.192815  0.021736  0.041772 -0.159291  0.114694  \n15  -0.482722 -0.030787  0.034799 -0.092673 -0.009808  \n16   0.322090 -0.250002  0.067499  0.036068 -0.029455  \n17   0.317548 -0.058904  0.053223  0.047619  0.016650  \n18  -0.023341 -0.274729 -0.048118 -0.017430  0.006194  \n19  -0.138639  0.005939  0.055563 -0.003402 -0.011305  \n20  -0.335261  0.018033 -0.038217  0.033981  0.015281  \n21  -0.315594 -0.128023  0.025289 -0.081509 -0.035296  \n22   0.148021  0.147964 -0.035770 -0.039175 -0.002697  \n23   0.628699  0.165004  0.251682  0.248686  0.044540  \n24   0.109405 -0.139761 -0.055630  0.002942  0.007468  \n25   0.046210 -0.070548  0.092128  0.054316 -0.014969  \n26   0.093051 -0.051431 -0.047329 -0.013508 -0.027849  \n27   0.035967 -0.114918  0.231445  0.038702 -0.043868  \n28   0.077211 -0.065963 -0.011310  0.001524  0.016182  \n29  -0.171304  0.014047 -0.238695 -0.020500  0.056873  \n..        ...       ...       ...       ...       ...  \n180  0.348225  0.073745  0.013249 -0.027084 -0.009293  \n181  0.244776  0.008575  0.052782 -0.012183 -0.054528  \n182 -0.125882 -0.223129  0.108159  0.047267  0.009509  \n183  0.083174 -0.020761 -0.307143 -0.006264 -0.007167  \n184  0.155113 -0.155115 -0.085571  0.084432 -0.029851  \n185  0.371248 -0.257470 -0.104982  0.021314 -0.001833  \n186 -0.123080 -0.432830 -0.266353  0.097593  0.028582  \n187 -0.076303  0.069486  0.055748 -0.007610 -0.005495  \n188 -0.062090  0.107615  0.002206 -0.018388 -0.005868  \n189 -0.088087 -0.525172  0.151964 -0.006828 -0.025655  \n190 -0.029291  0.152904  0.054025 -0.010201  0.006667  \n191  0.196312 -0.028183  0.467219 -0.148577  0.077010  \n192 -0.309663  0.042372  0.021153  0.018624 -0.005405  \n193 -0.001370 -0.371043  0.037805  0.014694  0.002466  \n194 -0.192405 -0.059973 -0.016582 -0.120413 -0.026083  \n195  0.349912  0.009187 -0.142632  0.100340  0.009169  \n196  0.307879  0.375271  0.098856 -0.086176  0.002838  \n197  0.275596  0.214609 -0.003919 -0.055316 -0.093111  \n198  0.136963  0.074022  0.091475 -0.009242 -0.002181  \n199 -0.038550  0.184551  0.102210 -0.044436 -0.027765  \n200  0.304572  0.001041 -0.027291  0.005215 -0.002909  \n201  0.030228  0.010381  0.087587  0.000264  0.008541  \n202  0.189049 -0.075501 -0.061562 -0.008130 -0.019266  \n203  0.137703 -0.172536  0.029899  0.018816 -0.026295  \n204 -0.611173 -0.202300 -0.236095  0.067279  0.031103  \n205 -0.111560 -0.242336  0.140234 -0.073120 -0.052369  \n206  0.094593 -0.271387 -0.207382  0.024805 -0.133645  \n207  0.165164 -0.039856  0.004640  0.018273 -0.000154  \n208 -0.171213  0.176678 -0.190047 -0.029915 -0.002211  \n209 -0.180515 -0.213167  0.030523  0.095095 -0.020754  \n\n[210 rows x 19 columns]"
          },
          "execution_count": 33,
          "metadata": {},
          "output_type": "execute_result"
        }
      ]
    },
    {
      "metadata": {
        "trusted": false
      },
      "cell_type": "code",
      "source": "plt.plot(np.arange(1,20), np.cumsum(pca_hitters.explained_variance_ratio_), '-s', label='Cumulative')\nplt.ylabel('Proportion of Variance Explained')\nplt.xlabel('Principal Component')\n#plt.xlim(0.75,4.25)\n#plt.ylim(0.3,1.05)\nplt.xticks(np.arange(1,20))\nplt.legend(loc=2);",
      "execution_count": 34,
      "outputs": [
        {
          "data": {
            "image/png": "[encoded data removed]",
            "text/plain": "<Figure size 432x288 with 1 Axes>"
          },
          "metadata": {
            "needs_background": "light"
          },
          "output_type": "display_data"
        }
      ]
    },
    {
      "metadata": {
        "trusted": false
      },
      "cell_type": "code",
      "source": "from sklearn.linear_model import LinearRegression\nfrom sklearn.metrics import mean_squared_error, r2_score",
      "execution_count": 36,
      "outputs": []
    },
    {
      "metadata": {
        "trusted": false
      },
      "cell_type": "code",
      "source": "pca_lm =LinearRegression()",
      "execution_count": 37,
      "outputs": []
    },
    {
      "metadata": {
        "trusted": false
      },
      "cell_type": "code",
      "source": "pca_lm.fit(PCscore.iloc[:,:11],y_train)",
      "execution_count": 38,
      "outputs": [
        {
          "data": {
            "text/plain": "LinearRegression(copy_X=True, fit_intercept=True, n_jobs=None,\n         normalize=False)"
          },
          "execution_count": 38,
          "metadata": {},
          "output_type": "execute_result"
        }
      ]
    },
    {
      "metadata": {
        "trusted": false
      },
      "cell_type": "code",
      "source": "pca_lm.coef_",
      "execution_count": 39,
      "outputs": [
        {
          "data": {
            "text/plain": "array([ 0.23683683, -0.02680584,  0.05066554, -0.0450442 , -0.08690322,\n        0.03561553,  0.07220147,  0.1287593 ,  0.04964748, -0.2254469 ,\n        0.21205756])"
          },
          "execution_count": 39,
          "metadata": {},
          "output_type": "execute_result"
        }
      ]
    },
    {
      "metadata": {
        "trusted": false
      },
      "cell_type": "code",
      "source": "pca_lm.intercept_",
      "execution_count": 40,
      "outputs": [
        {
          "data": {
            "text/plain": "5.930476405176759"
          },
          "execution_count": 40,
          "metadata": {},
          "output_type": "execute_result"
        }
      ]
    },
    {
      "metadata": {
        "trusted": false
      },
      "cell_type": "code",
      "source": "pca_lm.score(PCscore.iloc[:,:11],y_train)",
      "execution_count": 41,
      "outputs": [
        {
          "data": {
            "text/plain": "0.559406817911936"
          },
          "execution_count": 41,
          "metadata": {},
          "output_type": "execute_result"
        }
      ]
    },
    {
      "metadata": {
        "trusted": false
      },
      "cell_type": "code",
      "source": "Scale_Xtest = scalar.transform(X_test)\nScale_Xtest",
      "execution_count": 42,
      "outputs": [
        {
          "name": "stderr",
          "output_type": "stream",
          "text": "D:\\DataScience\\Anaconda\\lib\\site-packages\\ipykernel_launcher.py:1: DataConversionWarning: Data with input dtype uint8, int64 were all converted to float64 by StandardScaler.\n  \"\"\"Entry point for launching an IPython kernel.\n"
        },
        {
          "data": {
            "text/plain": "array([[ 0.65284268,  0.65708499, -0.53431007, ..., -1.        ,\n        -1.01923253, -0.95346259],\n       [ 0.93091573,  0.90817951,  1.29201938, ...,  1.        ,\n        -1.01923253,  1.04880885],\n       [ 0.61808355,  0.65708499, -0.76260126, ..., -1.        ,\n        -1.01923253, -0.95346259],\n       ...,\n       [ 0.61113172,  0.77121886, -0.07772771, ..., -1.        ,\n        -1.01923253, -0.95346259],\n       [-1.30062046, -1.16905693, -0.87674685, ..., -1.        ,\n        -1.01923253, -0.95346259],\n       [ 1.36192894,  1.72994337, -0.1918733 , ..., -1.        ,\n        -1.01923253, -0.95346259]])"
          },
          "execution_count": 42,
          "metadata": {},
          "output_type": "execute_result"
        }
      ]
    },
    {
      "metadata": {
        "trusted": false
      },
      "cell_type": "code",
      "source": "pca_test = pca_hitters.transform(Scale_Xtest)\npca_test",
      "execution_count": 43,
      "outputs": [
        {
          "data": {
            "text/plain": "array([[ 5.54749394e-01, -1.82524354e-01,  2.22611104e-01, ...,\n         1.29185278e-01, -2.34710866e-02, -3.08965263e-02],\n       [ 1.12143548e+00, -1.56902564e+00,  1.97327649e+00, ...,\n        -1.53545708e-01, -3.74460746e-02, -5.42994814e-02],\n       [ 3.24989456e+00, -5.29720895e-01,  1.18315284e+00, ...,\n        -8.59910040e-02,  5.10986722e-02,  6.10717069e-02],\n       ...,\n       [ 1.84341709e+00,  3.43578816e-01, -1.44599819e+00, ...,\n        -9.59991035e-02, -2.97217282e-03, -9.50532117e-02],\n       [-1.46864071e+00,  2.33237552e+00, -1.44866741e+00, ...,\n         1.43242391e-01, -5.60212012e-02,  3.83886226e-02],\n       [ 5.28400958e-01, -2.69363362e+00,  6.97005002e-01, ...,\n         1.25454787e-01,  8.20644865e-02,  6.51579569e-02]])"
          },
          "execution_count": 43,
          "metadata": {},
          "output_type": "execute_result"
        }
      ]
    },
    {
      "metadata": {
        "trusted": false
      },
      "cell_type": "code",
      "source": "pca_test.shape",
      "execution_count": 44,
      "outputs": [
        {
          "data": {
            "text/plain": "(53, 19)"
          },
          "execution_count": 44,
          "metadata": {},
          "output_type": "execute_result"
        }
      ]
    },
    {
      "metadata": {
        "trusted": false
      },
      "cell_type": "code",
      "source": "y_pred_pca = pca_lm.predict(pca_test[:,:11])\ny_pred_pca",
      "execution_count": 45,
      "outputs": [
        {
          "data": {
            "text/plain": "array([6.36056717, 6.32773804, 6.86513103, 5.47495086, 6.0298173 ,\n       5.40030873, 6.02532314, 5.51411729, 6.74881188, 6.45157398,\n       5.996553  , 7.18742907, 6.38612824, 5.63664758, 5.42640988,\n       6.47277453, 6.46802232, 4.9167955 , 6.51838457, 5.52030579,\n       5.74890697, 6.39845538, 6.03143982, 5.81120426, 6.48625073,\n       4.85905842, 6.91358963, 5.44452608, 6.41784853, 4.6989961 ,\n       5.00138245, 4.59774483, 5.61200932, 5.68243374, 5.36406725,\n       6.2453201 , 7.34768743, 5.38216904, 4.84397354, 5.3818124 ,\n       4.73398325, 5.45651036, 5.91057549, 5.92268459, 6.96716939,\n       6.36128168, 6.07961487, 5.11030069, 5.30765567, 6.18522887,\n       6.72334331, 5.71834883, 6.23105693])"
          },
          "execution_count": 45,
          "metadata": {},
          "output_type": "execute_result"
        }
      ]
    },
    {
      "metadata": {
        "trusted": false
      },
      "cell_type": "code",
      "source": "SSE_pca= sum((y_test-y_pred_pca)**2)\nSST= sum((y_test-np.mean(y_train))**2)\nr2_pca = 1-SSE_pca/SST\nr2_pca",
      "execution_count": 46,
      "outputs": [
        {
          "data": {
            "text/plain": "0.34484009851872754"
          },
          "execution_count": 46,
          "metadata": {},
          "output_type": "execute_result"
        }
      ]
    },
    {
      "metadata": {
        "trusted": false
      },
      "cell_type": "code",
      "source": "",
      "execution_count": null,
      "outputs": []
    }
  ],
  "metadata": {
    "colab": {
      "name": "HittersCaseStudy.ipynb",
      "provenance": [],
      "version": "0.3.2"
    },
    "kernelspec": {
      "name": "python3",
      "display_name": "Python 3",
      "language": "python"
    },
    "language_info": {
      "mimetype": "text/x-python",
      "nbconvert_exporter": "python",
      "name": "python",
      "pygments_lexer": "ipython3",
      "version": "3.5.4",
      "file_extension": ".py",
      "codemirror_mode": {
        "version": 3,
        "name": "ipython"
      }
    }
  },
  "nbformat": 4,
  "nbformat_minor": 1
}