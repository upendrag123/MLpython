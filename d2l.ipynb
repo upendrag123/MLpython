{
  "cells": [
    {
      "metadata": {
        "trusted": true
      },
      "cell_type": "code",
      "source": "!pip install mxnet",
      "execution_count": null,
      "outputs": [
        {
          "output_type": "stream",
          "text": "Collecting mxnet\n\u001b[?25l  Downloading https://files.pythonhosted.org/packages/81/f5/d79b5b40735086ff1100c680703e0f3efc830fa455e268e9e96f3c857e93/mxnet-1.6.0-py2.py3-none-any.whl (68.7MB)\n\u001b[K     |██████████████████████████████  | 64.6MB 2.7MB/s eta 0:00:021    |████████████▌                   | 26.7MB 3.1MB/s eta 0:00:14     |█████████████▋                  | 29.2MB 3.9MB/s eta 0:00:11███▊                  | 29.5MB 3.9MB/s eta 0:00:11     |██████████████▊                 | 31.5MB 3.3MB/s eta 0:00:12| 32.6MB 2.1MB/s eta 0:00:18            | 33.9MB 2.1MB/s eta 0:00:17�███████████▋               | 35.8MB 1.5MB/s eta 0:00:22�████████████               | 36.4MB 1.5MB/s eta 0:00:22/s eta 0:00:10     |██████████████████              | 38.5MB 3.4MB/s eta 0:00:09��███             | 41.0MB 2.8MB/s eta 0:00:10��███████████████▉            | 42.7MB 725kB/s eta 0:00:36MB/s eta 0:00:15��███▉          | 46.9MB 3.7MB/s eta 0:00:06████████████████▏         | 47.7MB 1.3MB/s eta 0:00:17    | 48.0MB 1.3MB/s eta 0:00:16█████████████████         | 49.2MB 1.3MB/s eta 0:00:15:00:09:00:09███        | 51.7MB 42.2MB/s eta 0:00:01��▊       | 53.0MB 1.2MB/s eta 0:00:13███████████████       | 53.8MB 1.2MB/s eta 0:00:13�████████████▌      | 54.8MB 1.2MB/s eta 0:00:12�████████████▊      | 55.2MB 1.1MB/s eta 0:00:1355.4MB 1.1MB/s eta 0:00:12██████      | 55.7MB 1.1MB/s eta 0:00:12█████████████████████████     | 58.1MB 156kB/s eta 0:01:08kB/s eta 0:00:42��████▋   | 61.5MB 3.9MB/s eta 0:00:02��█████████████████████   | 62.1MB 3.9MB/s eta 0:00:02��███████████████▎  | 62.8MB 654kB/s eta 0:00:10��███████████████▉  | 64.0MB 654kB/s eta 0:00:08��██████████████████████████  | 64.3MB 2.7MB/s eta 0:00:02",
          "name": "stdout"
        }
      ]
    },
    {
      "metadata": {
        "trusted": true
      },
      "cell_type": "code",
      "source": "from mxnet import autograd,np,npx",
      "execution_count": 1,
      "outputs": [
        {
          "output_type": "error",
          "ename": "ModuleNotFoundError",
          "evalue": "No module named 'mxnet'",
          "traceback": [
            "\u001b[0;31m---------------------------------------------------------------------------\u001b[0m",
            "\u001b[0;31mModuleNotFoundError\u001b[0m                       Traceback (most recent call last)",
            "\u001b[0;32m<ipython-input-1-b0d0fdc2404a>\u001b[0m in \u001b[0;36m<module>\u001b[0;34m\u001b[0m\n\u001b[0;32m----> 1\u001b[0;31m \u001b[0;32mfrom\u001b[0m \u001b[0mmxnet\u001b[0m \u001b[0;32mimport\u001b[0m \u001b[0mautograd\u001b[0m\u001b[0;34m,\u001b[0m\u001b[0mnp\u001b[0m\u001b[0;34m,\u001b[0m\u001b[0mnpx\u001b[0m\u001b[0;34m\u001b[0m\u001b[0m\n\u001b[0m",
            "\u001b[0;31mModuleNotFoundError\u001b[0m: No module named 'mxnet'"
          ]
        }
      ]
    }
  ],
  "metadata": {
    "kernelspec": {
      "name": "python36",
      "display_name": "Python 3.6",
      "language": "python"
    },
    "language_info": {
      "mimetype": "text/x-python",
      "nbconvert_exporter": "python",
      "name": "python",
      "pygments_lexer": "ipython3",
      "version": "3.6.6",
      "file_extension": ".py",
      "codemirror_mode": {
        "version": 3,
        "name": "ipython"
      }
    }
  },
  "nbformat": 4,
  "nbformat_minor": 2
}