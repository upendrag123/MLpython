{
 "cells": [
  {
   "cell_type": "markdown",
   "metadata": {},
   "source": [
    "<p><h1><font color = DarkBlue> Healthcare Case Study</font></h1></p>\n",
    "\n",
    "D2Hawkeye, a medical data mining company. The company receives claims data. These are data that are generated when an insured patient goes to a medical provider to receive a diagnosis or to have a procedure, for example an x-ray, or to obtain drugs. The medical providers need to get compensated, so the claims data provide the means for them to be paid. An important question is whether we can assess the quality of health care given this claims data. \n",
    "\n",
    "<b> Why assessing the quality of healthcare is an important objective. </b>\n",
    "\n",
    "Critical decisions are often made by people with expert knowledge\n",
    "<p><h4><font color = Purple> Healthcare Quality Assessment </font></h4></p>\n",
    "<ul> \n",
    "<li>Good quality care educates patients and controls costs</li>\n",
    "<li>Need to assess quality for proper medical interventions </li>\n",
    "<li>No single set of guidelines for defining quality of healthcare </li>\n",
    "<li>Health protessionals are experts in quality of care assessment </li>\n",
    "</ul>\n",
    "\n",
    "<b> Experts are Humans </b>\n",
    "<p><h4><font color = Purple> Healthcare Quality Assessment </font></h4></p>\n",
    "<ul> \n",
    "<li>Expert physicians can evaluate quality by examining a patient’s records</li>\n",
    "<li>This process is time consuming and inefficient </li>\n",
    "<li>Physicians cannot assess quality tor millions of patients </li>\n",
    "</ul>\n",
    "\n",
    "<b> Can we develop analytical tools that replicate expert assessment on a large scale? </b>\n",
    "\n",
    "Learn from expert human judgment\n",
    "- Develop a model, interpret results, and adjust the model\n",
    "Make predictions/evaluations on a large scale\n",
    "\n",
    "<p><h4><font color = Purple>Healthcare Quality Assessment  </font></h4></p>\n",
    "<ul><li> Let’s identity poor healthcare quality using analytics</li></ul>\n",
    "\n",
    "<p><h4><font color = Purple>Building the dataset </font></h4></p>\n",
    "\n",
    "<ul><li><b> Claims Data </b></li>\n",
    "<ul> <li> Electronically available </li>\n",
    "<li>Standardized </li>\n",
    "<li>Not 100% accurate </li>\n",
    "<li>Under-reporting is common </li>\n",
    "<li>Claims for hospital visits can be vague </li> </ul></ul>\n",
    "    \n",
    "<ul><li><b> Creating the Dataset- Claims Sample </b> </li>\n",
    "<ul> <li> Large health insurance claims database </li>\n",
    "<li>Randomly selected 131 diabetes patients</li>\n",
    "<li>Ages range from 35 to 55 </li>\n",
    "<li>Costs \\$10,000 - \\$20,000 </li>\n",
    "    <li>September 1, 2003 — August 31, 2005 </li> </ul></ul>\n",
    "    \n",
    "<ul><li><b> Creating the Dataset- Expert Review </b></li>\n",
    "    <ul> <li> Expert physician reviewed claims and wrote descriptive notes: </li> \n",
    "    <ul><li>“Ongoing use of narcotics”</li>\n",
    "    <li>“Only on Avandia, not a good first choice drug” </li>\n",
    "    <li>“Had regular visits, mammogram and immunizations”</li>\n",
    "    <li>“Was given hometesting supplies”</li> </ul></ul></ul>    \n",
    "    \n",
    "<ul><li><b> Creating the Dataset- Expert Assessment </b></li>\n",
    "    <ul> <li> Rated quality on a two-point scale (poor/good) </li> \n",
    "    <ul><li>“I'd say care was poor — poorly treated diabetes”</li>\n",
    "    <li>“No eye care, but overall I'd say high quality” </li></ul></ul></ul>   "
   ]
  },
  {
   "cell_type": "markdown",
   "metadata": {},
   "source": [
    "<p><h2><font color = Blue>Importing the Required Libraries </font></h2></p>"
   ]
  },
  {
   "cell_type": "code",
   "execution_count": 1,
   "metadata": {
    "scrolled": true
   },
   "outputs": [],
   "source": [
    "# Logistic regression using scikit-Learn \n",
    "import numpy as np\n",
    "import pandas as pd\n",
    "from sklearn.model_selection import train_test_split\n",
    "from sklearn.linear_model import LogisticRegression \n",
    "from sklearn.metrics import accuracy_score, auc, confusion_matrix, precision_score, recall_score, roc_curve,classification_report\n",
    "import matplotlib.pyplot as plt\n",
    "import seaborn as sns"
   ]
  },
  {
   "cell_type": "markdown",
   "metadata": {},
   "source": [
    "<p><h2><font color = Blue>Reading the Dataset </font></h2></p>"
   ]
  },
  {
   "cell_type": "code",
   "execution_count": 2,
   "metadata": {},
   "outputs": [],
   "source": [
    "# Read the Dataset\n",
    "quality = pd.read_csv(\"https://storage.googleapis.com/dimensionless/Analytics/quality.csv\")"
   ]
  },
  {
   "cell_type": "code",
   "execution_count": 3,
   "metadata": {},
   "outputs": [
    {
     "data": {
      "text/html": [
       "<div>\n",
       "<style scoped>\n",
       "    .dataframe tbody tr th:only-of-type {\n",
       "        vertical-align: middle;\n",
       "    }\n",
       "\n",
       "    .dataframe tbody tr th {\n",
       "        vertical-align: top;\n",
       "    }\n",
       "\n",
       "    .dataframe thead th {\n",
       "        text-align: right;\n",
       "    }\n",
       "</style>\n",
       "<table border=\"1\" class=\"dataframe\">\n",
       "  <thead>\n",
       "    <tr style=\"text-align: right;\">\n",
       "      <th></th>\n",
       "      <th>MemberID</th>\n",
       "      <th>InpatientDays</th>\n",
       "      <th>ERVisits</th>\n",
       "      <th>OfficeVisits</th>\n",
       "      <th>Narcotics</th>\n",
       "      <th>DaysSinceLastERVisit</th>\n",
       "      <th>Pain</th>\n",
       "      <th>TotalVisits</th>\n",
       "      <th>ProviderCount</th>\n",
       "      <th>MedicalClaims</th>\n",
       "      <th>ClaimLines</th>\n",
       "      <th>StartedOnCombination</th>\n",
       "      <th>AcuteDrugGapSmall</th>\n",
       "      <th>PoorCare</th>\n",
       "    </tr>\n",
       "  </thead>\n",
       "  <tbody>\n",
       "    <tr>\n",
       "      <th>0</th>\n",
       "      <td>1</td>\n",
       "      <td>0</td>\n",
       "      <td>0</td>\n",
       "      <td>18</td>\n",
       "      <td>1</td>\n",
       "      <td>731.0</td>\n",
       "      <td>10</td>\n",
       "      <td>18</td>\n",
       "      <td>21</td>\n",
       "      <td>93</td>\n",
       "      <td>222</td>\n",
       "      <td>False</td>\n",
       "      <td>0</td>\n",
       "      <td>0</td>\n",
       "    </tr>\n",
       "    <tr>\n",
       "      <th>1</th>\n",
       "      <td>2</td>\n",
       "      <td>1</td>\n",
       "      <td>1</td>\n",
       "      <td>6</td>\n",
       "      <td>1</td>\n",
       "      <td>411.0</td>\n",
       "      <td>0</td>\n",
       "      <td>8</td>\n",
       "      <td>27</td>\n",
       "      <td>19</td>\n",
       "      <td>115</td>\n",
       "      <td>False</td>\n",
       "      <td>1</td>\n",
       "      <td>0</td>\n",
       "    </tr>\n",
       "    <tr>\n",
       "      <th>2</th>\n",
       "      <td>3</td>\n",
       "      <td>0</td>\n",
       "      <td>0</td>\n",
       "      <td>5</td>\n",
       "      <td>3</td>\n",
       "      <td>731.0</td>\n",
       "      <td>10</td>\n",
       "      <td>5</td>\n",
       "      <td>16</td>\n",
       "      <td>27</td>\n",
       "      <td>148</td>\n",
       "      <td>False</td>\n",
       "      <td>5</td>\n",
       "      <td>0</td>\n",
       "    </tr>\n",
       "    <tr>\n",
       "      <th>3</th>\n",
       "      <td>4</td>\n",
       "      <td>0</td>\n",
       "      <td>1</td>\n",
       "      <td>19</td>\n",
       "      <td>0</td>\n",
       "      <td>158.0</td>\n",
       "      <td>34</td>\n",
       "      <td>20</td>\n",
       "      <td>14</td>\n",
       "      <td>59</td>\n",
       "      <td>242</td>\n",
       "      <td>False</td>\n",
       "      <td>0</td>\n",
       "      <td>0</td>\n",
       "    </tr>\n",
       "    <tr>\n",
       "      <th>4</th>\n",
       "      <td>5</td>\n",
       "      <td>8</td>\n",
       "      <td>2</td>\n",
       "      <td>19</td>\n",
       "      <td>3</td>\n",
       "      <td>449.0</td>\n",
       "      <td>10</td>\n",
       "      <td>29</td>\n",
       "      <td>24</td>\n",
       "      <td>51</td>\n",
       "      <td>204</td>\n",
       "      <td>False</td>\n",
       "      <td>0</td>\n",
       "      <td>0</td>\n",
       "    </tr>\n",
       "  </tbody>\n",
       "</table>\n",
       "</div>"
      ],
      "text/plain": [
       "   MemberID  InpatientDays  ERVisits  OfficeVisits  Narcotics  \\\n",
       "0         1              0         0            18          1   \n",
       "1         2              1         1             6          1   \n",
       "2         3              0         0             5          3   \n",
       "3         4              0         1            19          0   \n",
       "4         5              8         2            19          3   \n",
       "\n",
       "   DaysSinceLastERVisit  Pain  TotalVisits  ProviderCount  MedicalClaims  \\\n",
       "0                 731.0    10           18             21             93   \n",
       "1                 411.0     0            8             27             19   \n",
       "2                 731.0    10            5             16             27   \n",
       "3                 158.0    34           20             14             59   \n",
       "4                 449.0    10           29             24             51   \n",
       "\n",
       "   ClaimLines  StartedOnCombination  AcuteDrugGapSmall  PoorCare  \n",
       "0         222                 False                  0         0  \n",
       "1         115                 False                  1         0  \n",
       "2         148                 False                  5         0  \n",
       "3         242                 False                  0         0  \n",
       "4         204                 False                  0         0  "
      ]
     },
     "execution_count": 3,
     "metadata": {},
     "output_type": "execute_result"
    }
   ],
   "source": [
    "quality.head()"
   ]
  },
  {
   "cell_type": "markdown",
   "metadata": {},
   "source": [
    "<p><h2><font color = DarkBlue> Data Set Description </font></h2></p>\n",
    "\n",
    "The variables in the dataset quality.csv are as follows: \n",
    "<ul>\n",
    "    <li><b>MemberID: </b> numbers the patients from 1 to 131, and is just an identifying number. </li>\n",
    "<li><b>InpatientDays: </b> is the number of inpatient visits, or number of days the person spent in the hospital. </li>\n",
    "<li><b>ERVisits: </b> is the number of times the patient visited the emergency room. </li>\n",
    "<li><b>OfficeVisits: </b> is the number of times the patient visited any doctor's office. </li>\n",
    "<li><b>Narcotics: </b>is the number of prescriptions the patient had for narcotics. </li>\n",
    "<li><b>DaysSinceLastERVisit: </b> is the number of days between the patient's last emergency room visit and the end of the study period (set to the length of the study period if they never visited the ER). </li>\n",
    "<li><b>Pain: </b> is the number of visits for which the patient complained about pain. </li>\n",
    "<li><b>TotalVisits: </b> is the total number of times the patient visited any healthcare provider. </li>\n",
    "<li><b>ProviderCount: </b> is the number of providers that served the patient. </li>\n",
    "<li><b>MedicalClaims: </b> is the number of days on which the patient had a medical claim. </li>\n",
    "<li><b>ClaimLines:</b> is the total number of medical claims. </li>\n",
    "<li><b>StartedOnCombination: </b> is whether or not the patient was started on a combination of drugs to treat their diabetes (TRUE or FALSE). </li>\n",
    "<li><b>AcuteDrugGapSmall: </b> is the fraction of acute drugs that were refilled quickly after the prescription ran out. </li>\n",
    "<li><b>PoorCare: </b> is the outcome or dependent variable, and is equal to 1 if the patient had poor care, and equal to 0 if the patient had good care. </li>\n",
    "\n",
    "<font color = purple><b> The dependent variable is modeled as a binary variable: </font></b>\n",
    "\n",
    "<ul><li> 1 if low-quality care, 0 if high-quality care </li></ul>"
   ]
  },
  {
   "cell_type": "code",
   "execution_count": 4,
   "metadata": {},
   "outputs": [
    {
     "data": {
      "text/html": [
       "<div>\n",
       "<style scoped>\n",
       "    .dataframe tbody tr th:only-of-type {\n",
       "        vertical-align: middle;\n",
       "    }\n",
       "\n",
       "    .dataframe tbody tr th {\n",
       "        vertical-align: top;\n",
       "    }\n",
       "\n",
       "    .dataframe thead th {\n",
       "        text-align: right;\n",
       "    }\n",
       "</style>\n",
       "<table border=\"1\" class=\"dataframe\">\n",
       "  <thead>\n",
       "    <tr style=\"text-align: right;\">\n",
       "      <th></th>\n",
       "      <th>MemberID</th>\n",
       "      <th>InpatientDays</th>\n",
       "      <th>ERVisits</th>\n",
       "      <th>OfficeVisits</th>\n",
       "      <th>Narcotics</th>\n",
       "      <th>DaysSinceLastERVisit</th>\n",
       "      <th>Pain</th>\n",
       "      <th>TotalVisits</th>\n",
       "      <th>ProviderCount</th>\n",
       "      <th>MedicalClaims</th>\n",
       "      <th>ClaimLines</th>\n",
       "      <th>AcuteDrugGapSmall</th>\n",
       "      <th>PoorCare</th>\n",
       "    </tr>\n",
       "  </thead>\n",
       "  <tbody>\n",
       "    <tr>\n",
       "      <th>count</th>\n",
       "      <td>131.000000</td>\n",
       "      <td>131.000000</td>\n",
       "      <td>131.000000</td>\n",
       "      <td>131.000000</td>\n",
       "      <td>131.000000</td>\n",
       "      <td>131.000000</td>\n",
       "      <td>131.000000</td>\n",
       "      <td>131.000000</td>\n",
       "      <td>131.000000</td>\n",
       "      <td>131.000000</td>\n",
       "      <td>131.000000</td>\n",
       "      <td>131.000000</td>\n",
       "      <td>131.000000</td>\n",
       "    </tr>\n",
       "    <tr>\n",
       "      <th>mean</th>\n",
       "      <td>66.000000</td>\n",
       "      <td>2.717557</td>\n",
       "      <td>1.496183</td>\n",
       "      <td>13.229008</td>\n",
       "      <td>4.572519</td>\n",
       "      <td>480.567112</td>\n",
       "      <td>15.557252</td>\n",
       "      <td>17.442748</td>\n",
       "      <td>23.984733</td>\n",
       "      <td>43.244275</td>\n",
       "      <td>142.862595</td>\n",
       "      <td>2.694656</td>\n",
       "      <td>0.251908</td>\n",
       "    </tr>\n",
       "    <tr>\n",
       "      <th>std</th>\n",
       "      <td>37.960506</td>\n",
       "      <td>5.099434</td>\n",
       "      <td>2.167501</td>\n",
       "      <td>9.077076</td>\n",
       "      <td>9.713615</td>\n",
       "      <td>274.767240</td>\n",
       "      <td>20.418001</td>\n",
       "      <td>12.298318</td>\n",
       "      <td>13.670285</td>\n",
       "      <td>28.886540</td>\n",
       "      <td>91.629921</td>\n",
       "      <td>6.983379</td>\n",
       "      <td>0.435775</td>\n",
       "    </tr>\n",
       "    <tr>\n",
       "      <th>min</th>\n",
       "      <td>1.000000</td>\n",
       "      <td>0.000000</td>\n",
       "      <td>0.000000</td>\n",
       "      <td>0.000000</td>\n",
       "      <td>0.000000</td>\n",
       "      <td>6.000000</td>\n",
       "      <td>0.000000</td>\n",
       "      <td>0.000000</td>\n",
       "      <td>5.000000</td>\n",
       "      <td>11.000000</td>\n",
       "      <td>20.000000</td>\n",
       "      <td>0.000000</td>\n",
       "      <td>0.000000</td>\n",
       "    </tr>\n",
       "    <tr>\n",
       "      <th>25%</th>\n",
       "      <td>33.500000</td>\n",
       "      <td>0.000000</td>\n",
       "      <td>0.000000</td>\n",
       "      <td>7.000000</td>\n",
       "      <td>0.000000</td>\n",
       "      <td>206.958333</td>\n",
       "      <td>1.000000</td>\n",
       "      <td>8.000000</td>\n",
       "      <td>15.000000</td>\n",
       "      <td>25.500000</td>\n",
       "      <td>83.500000</td>\n",
       "      <td>0.000000</td>\n",
       "      <td>0.000000</td>\n",
       "    </tr>\n",
       "    <tr>\n",
       "      <th>50%</th>\n",
       "      <td>66.000000</td>\n",
       "      <td>0.000000</td>\n",
       "      <td>1.000000</td>\n",
       "      <td>12.000000</td>\n",
       "      <td>1.000000</td>\n",
       "      <td>640.958333</td>\n",
       "      <td>8.000000</td>\n",
       "      <td>15.000000</td>\n",
       "      <td>20.000000</td>\n",
       "      <td>37.000000</td>\n",
       "      <td>120.000000</td>\n",
       "      <td>1.000000</td>\n",
       "      <td>0.000000</td>\n",
       "    </tr>\n",
       "    <tr>\n",
       "      <th>75%</th>\n",
       "      <td>98.500000</td>\n",
       "      <td>3.000000</td>\n",
       "      <td>2.000000</td>\n",
       "      <td>18.500000</td>\n",
       "      <td>3.000000</td>\n",
       "      <td>731.000000</td>\n",
       "      <td>23.000000</td>\n",
       "      <td>22.500000</td>\n",
       "      <td>30.000000</td>\n",
       "      <td>49.500000</td>\n",
       "      <td>185.000000</td>\n",
       "      <td>3.000000</td>\n",
       "      <td>0.500000</td>\n",
       "    </tr>\n",
       "    <tr>\n",
       "      <th>max</th>\n",
       "      <td>131.000000</td>\n",
       "      <td>30.000000</td>\n",
       "      <td>11.000000</td>\n",
       "      <td>46.000000</td>\n",
       "      <td>59.000000</td>\n",
       "      <td>731.000000</td>\n",
       "      <td>104.000000</td>\n",
       "      <td>69.000000</td>\n",
       "      <td>82.000000</td>\n",
       "      <td>194.000000</td>\n",
       "      <td>577.000000</td>\n",
       "      <td>71.000000</td>\n",
       "      <td>1.000000</td>\n",
       "    </tr>\n",
       "  </tbody>\n",
       "</table>\n",
       "</div>"
      ],
      "text/plain": [
       "         MemberID  InpatientDays    ERVisits  OfficeVisits   Narcotics  \\\n",
       "count  131.000000     131.000000  131.000000    131.000000  131.000000   \n",
       "mean    66.000000       2.717557    1.496183     13.229008    4.572519   \n",
       "std     37.960506       5.099434    2.167501      9.077076    9.713615   \n",
       "min      1.000000       0.000000    0.000000      0.000000    0.000000   \n",
       "25%     33.500000       0.000000    0.000000      7.000000    0.000000   \n",
       "50%     66.000000       0.000000    1.000000     12.000000    1.000000   \n",
       "75%     98.500000       3.000000    2.000000     18.500000    3.000000   \n",
       "max    131.000000      30.000000   11.000000     46.000000   59.000000   \n",
       "\n",
       "       DaysSinceLastERVisit        Pain  TotalVisits  ProviderCount  \\\n",
       "count            131.000000  131.000000   131.000000     131.000000   \n",
       "mean             480.567112   15.557252    17.442748      23.984733   \n",
       "std              274.767240   20.418001    12.298318      13.670285   \n",
       "min                6.000000    0.000000     0.000000       5.000000   \n",
       "25%              206.958333    1.000000     8.000000      15.000000   \n",
       "50%              640.958333    8.000000    15.000000      20.000000   \n",
       "75%              731.000000   23.000000    22.500000      30.000000   \n",
       "max              731.000000  104.000000    69.000000      82.000000   \n",
       "\n",
       "       MedicalClaims  ClaimLines  AcuteDrugGapSmall    PoorCare  \n",
       "count     131.000000  131.000000         131.000000  131.000000  \n",
       "mean       43.244275  142.862595           2.694656    0.251908  \n",
       "std        28.886540   91.629921           6.983379    0.435775  \n",
       "min        11.000000   20.000000           0.000000    0.000000  \n",
       "25%        25.500000   83.500000           0.000000    0.000000  \n",
       "50%        37.000000  120.000000           1.000000    0.000000  \n",
       "75%        49.500000  185.000000           3.000000    0.500000  \n",
       "max       194.000000  577.000000          71.000000    1.000000  "
      ]
     },
     "execution_count": 4,
     "metadata": {},
     "output_type": "execute_result"
    }
   ],
   "source": [
    "quality.describe()"
   ]
  },
  {
   "cell_type": "markdown",
   "metadata": {},
   "source": [
    "<p><h3><font color = Purple> Quiz 1: Create a baseline model.\n",
    "\n",
    "Find out how many patients received poor care and how many patients received good care. </font></h3></p>\n"
   ]
  },
  {
   "cell_type": "code",
   "execution_count": 5,
   "metadata": {
    "scrolled": true
   },
   "outputs": [
    {
     "data": {
      "text/plain": [
       "0    98\n",
       "1    33\n",
       "Name: PoorCare, dtype: int64"
      ]
     },
     "execution_count": 5,
     "metadata": {},
     "output_type": "execute_result"
    }
   ],
   "source": [
    "quality.PoorCare.value_counts()"
   ]
  },
  {
   "cell_type": "markdown",
   "metadata": {},
   "source": [
    "<p><h4><font color = Purple>Since good care is more common than poor care, we would predict that all patients are receiving good care. <br><br>\n",
    "    We would get 98 out of the 131 observations correct, or have an accuracy of about 75%. </font></h4></p>"
   ]
  },
  {
   "cell_type": "markdown",
   "metadata": {},
   "source": [
    "<p><h2><font color = Blue>Creating Feature matrix and Target array </font></h2></p>"
   ]
  },
  {
   "cell_type": "code",
   "execution_count": 6,
   "metadata": {},
   "outputs": [],
   "source": [
    "X = quality.iloc[:,0:13]"
   ]
  },
  {
   "cell_type": "code",
   "execution_count": 7,
   "metadata": {
    "scrolled": true
   },
   "outputs": [
    {
     "data": {
      "text/html": [
       "<div>\n",
       "<style scoped>\n",
       "    .dataframe tbody tr th:only-of-type {\n",
       "        vertical-align: middle;\n",
       "    }\n",
       "\n",
       "    .dataframe tbody tr th {\n",
       "        vertical-align: top;\n",
       "    }\n",
       "\n",
       "    .dataframe thead th {\n",
       "        text-align: right;\n",
       "    }\n",
       "</style>\n",
       "<table border=\"1\" class=\"dataframe\">\n",
       "  <thead>\n",
       "    <tr style=\"text-align: right;\">\n",
       "      <th></th>\n",
       "      <th>MemberID</th>\n",
       "      <th>InpatientDays</th>\n",
       "      <th>ERVisits</th>\n",
       "      <th>OfficeVisits</th>\n",
       "      <th>Narcotics</th>\n",
       "      <th>DaysSinceLastERVisit</th>\n",
       "      <th>Pain</th>\n",
       "      <th>TotalVisits</th>\n",
       "      <th>ProviderCount</th>\n",
       "      <th>MedicalClaims</th>\n",
       "      <th>ClaimLines</th>\n",
       "      <th>StartedOnCombination</th>\n",
       "      <th>AcuteDrugGapSmall</th>\n",
       "    </tr>\n",
       "  </thead>\n",
       "  <tbody>\n",
       "    <tr>\n",
       "      <th>0</th>\n",
       "      <td>1</td>\n",
       "      <td>0</td>\n",
       "      <td>0</td>\n",
       "      <td>18</td>\n",
       "      <td>1</td>\n",
       "      <td>731.0</td>\n",
       "      <td>10</td>\n",
       "      <td>18</td>\n",
       "      <td>21</td>\n",
       "      <td>93</td>\n",
       "      <td>222</td>\n",
       "      <td>False</td>\n",
       "      <td>0</td>\n",
       "    </tr>\n",
       "    <tr>\n",
       "      <th>1</th>\n",
       "      <td>2</td>\n",
       "      <td>1</td>\n",
       "      <td>1</td>\n",
       "      <td>6</td>\n",
       "      <td>1</td>\n",
       "      <td>411.0</td>\n",
       "      <td>0</td>\n",
       "      <td>8</td>\n",
       "      <td>27</td>\n",
       "      <td>19</td>\n",
       "      <td>115</td>\n",
       "      <td>False</td>\n",
       "      <td>1</td>\n",
       "    </tr>\n",
       "    <tr>\n",
       "      <th>2</th>\n",
       "      <td>3</td>\n",
       "      <td>0</td>\n",
       "      <td>0</td>\n",
       "      <td>5</td>\n",
       "      <td>3</td>\n",
       "      <td>731.0</td>\n",
       "      <td>10</td>\n",
       "      <td>5</td>\n",
       "      <td>16</td>\n",
       "      <td>27</td>\n",
       "      <td>148</td>\n",
       "      <td>False</td>\n",
       "      <td>5</td>\n",
       "    </tr>\n",
       "    <tr>\n",
       "      <th>3</th>\n",
       "      <td>4</td>\n",
       "      <td>0</td>\n",
       "      <td>1</td>\n",
       "      <td>19</td>\n",
       "      <td>0</td>\n",
       "      <td>158.0</td>\n",
       "      <td>34</td>\n",
       "      <td>20</td>\n",
       "      <td>14</td>\n",
       "      <td>59</td>\n",
       "      <td>242</td>\n",
       "      <td>False</td>\n",
       "      <td>0</td>\n",
       "    </tr>\n",
       "    <tr>\n",
       "      <th>4</th>\n",
       "      <td>5</td>\n",
       "      <td>8</td>\n",
       "      <td>2</td>\n",
       "      <td>19</td>\n",
       "      <td>3</td>\n",
       "      <td>449.0</td>\n",
       "      <td>10</td>\n",
       "      <td>29</td>\n",
       "      <td>24</td>\n",
       "      <td>51</td>\n",
       "      <td>204</td>\n",
       "      <td>False</td>\n",
       "      <td>0</td>\n",
       "    </tr>\n",
       "  </tbody>\n",
       "</table>\n",
       "</div>"
      ],
      "text/plain": [
       "   MemberID  InpatientDays  ERVisits  OfficeVisits  Narcotics  \\\n",
       "0         1              0         0            18          1   \n",
       "1         2              1         1             6          1   \n",
       "2         3              0         0             5          3   \n",
       "3         4              0         1            19          0   \n",
       "4         5              8         2            19          3   \n",
       "\n",
       "   DaysSinceLastERVisit  Pain  TotalVisits  ProviderCount  MedicalClaims  \\\n",
       "0                 731.0    10           18             21             93   \n",
       "1                 411.0     0            8             27             19   \n",
       "2                 731.0    10            5             16             27   \n",
       "3                 158.0    34           20             14             59   \n",
       "4                 449.0    10           29             24             51   \n",
       "\n",
       "   ClaimLines  StartedOnCombination  AcuteDrugGapSmall  \n",
       "0         222                 False                  0  \n",
       "1         115                 False                  1  \n",
       "2         148                 False                  5  \n",
       "3         242                 False                  0  \n",
       "4         204                 False                  0  "
      ]
     },
     "execution_count": 7,
     "metadata": {},
     "output_type": "execute_result"
    }
   ],
   "source": [
    "X.head()"
   ]
  },
  {
   "cell_type": "code",
   "execution_count": 8,
   "metadata": {},
   "outputs": [],
   "source": [
    "y = quality['PoorCare']"
   ]
  },
  {
   "cell_type": "code",
   "execution_count": 9,
   "metadata": {},
   "outputs": [
    {
     "data": {
      "text/plain": [
       "0    0\n",
       "1    0\n",
       "2    0\n",
       "3    0\n",
       "4    0\n",
       "Name: PoorCare, dtype: int64"
      ]
     },
     "execution_count": 9,
     "metadata": {},
     "output_type": "execute_result"
    }
   ],
   "source": [
    "y.head()"
   ]
  },
  {
   "cell_type": "markdown",
   "metadata": {},
   "source": [
    "<p><h2><font color = Blue>Splitting data into train and test  </font></h2></p>"
   ]
  },
  {
   "cell_type": "code",
   "execution_count": 10,
   "metadata": {},
   "outputs": [],
   "source": [
    "train_test_split?"
   ]
  },
  {
   "cell_type": "code",
   "execution_count": 11,
   "metadata": {},
   "outputs": [],
   "source": [
    "X_train, X_test, y_train, y_test = train_test_split(X,y,test_size=0.3, random_state=88, stratify=y)"
   ]
  },
  {
   "cell_type": "code",
   "execution_count": 12,
   "metadata": {},
   "outputs": [
    {
     "data": {
      "text/plain": [
       "(91, 13)"
      ]
     },
     "execution_count": 12,
     "metadata": {},
     "output_type": "execute_result"
    }
   ],
   "source": [
    "X_train.shape"
   ]
  },
  {
   "cell_type": "code",
   "execution_count": 13,
   "metadata": {},
   "outputs": [
    {
     "data": {
      "text/plain": [
       "(91,)"
      ]
     },
     "execution_count": 13,
     "metadata": {},
     "output_type": "execute_result"
    }
   ],
   "source": [
    "y_train.shape"
   ]
  },
  {
   "cell_type": "code",
   "execution_count": 14,
   "metadata": {},
   "outputs": [
    {
     "data": {
      "text/plain": [
       "(40, 13)"
      ]
     },
     "execution_count": 14,
     "metadata": {},
     "output_type": "execute_result"
    }
   ],
   "source": [
    "X_test.shape"
   ]
  },
  {
   "cell_type": "code",
   "execution_count": 15,
   "metadata": {},
   "outputs": [
    {
     "data": {
      "text/plain": [
       "(40,)"
      ]
     },
     "execution_count": 15,
     "metadata": {},
     "output_type": "execute_result"
    }
   ],
   "source": [
    "y_test.shape"
   ]
  },
  {
   "cell_type": "code",
   "execution_count": 16,
   "metadata": {},
   "outputs": [
    {
     "data": {
      "text/plain": [
       "0    68\n",
       "1    23\n",
       "Name: PoorCare, dtype: int64"
      ]
     },
     "execution_count": 16,
     "metadata": {},
     "output_type": "execute_result"
    }
   ],
   "source": [
    "y_train.value_counts()"
   ]
  },
  {
   "cell_type": "code",
   "execution_count": 17,
   "metadata": {},
   "outputs": [
    {
     "data": {
      "text/plain": [
       "0    30\n",
       "1    10\n",
       "Name: PoorCare, dtype: int64"
      ]
     },
     "execution_count": 17,
     "metadata": {},
     "output_type": "execute_result"
    }
   ],
   "source": [
    "y_test.value_counts()"
   ]
  },
  {
   "cell_type": "markdown",
   "metadata": {},
   "source": [
    "<p><h2><font color = Blue>Building the Model  </font></h2></p>"
   ]
  },
  {
   "cell_type": "code",
   "execution_count": 18,
   "metadata": {},
   "outputs": [],
   "source": [
    "model = LogisticRegression()  # create an instance of logistic regression"
   ]
  },
  {
   "cell_type": "code",
   "execution_count": 19,
   "metadata": {},
   "outputs": [
    {
     "name": "stderr",
     "output_type": "stream",
     "text": [
      "D:\\DataScience\\Anaconda\\lib\\site-packages\\sklearn\\linear_model\\logistic.py:433: FutureWarning: Default solver will be changed to 'lbfgs' in 0.22. Specify a solver to silence this warning.\n",
      "  FutureWarning)\n"
     ]
    },
    {
     "data": {
      "text/plain": [
       "LogisticRegression(C=1.0, class_weight=None, dual=False, fit_intercept=True,\n",
       "          intercept_scaling=1, max_iter=100, multi_class='warn',\n",
       "          n_jobs=None, penalty='l2', random_state=None, solver='warn',\n",
       "          tol=0.0001, verbose=0, warm_start=False)"
      ]
     },
     "execution_count": 19,
     "metadata": {},
     "output_type": "execute_result"
    }
   ],
   "source": [
    "model.fit(X_train[['Narcotics','OfficeVisits']],y_train)  # building model on PoorCare ~ Narcotics + OfficeVisits "
   ]
  },
  {
   "cell_type": "code",
   "execution_count": 20,
   "metadata": {},
   "outputs": [
    {
     "data": {
      "text/plain": [
       "0.8241758241758241"
      ]
     },
     "execution_count": 20,
     "metadata": {},
     "output_type": "execute_result"
    }
   ],
   "source": [
    "model.score(X_train[['Narcotics','OfficeVisits']],y_train)   # Accuracy score for train"
   ]
  },
  {
   "cell_type": "code",
   "execution_count": 21,
   "metadata": {},
   "outputs": [
    {
     "data": {
      "text/plain": [
       "Text(0.5, 1.0, 'Model 1 Visualization')"
      ]
     },
     "execution_count": 21,
     "metadata": {},
     "output_type": "execute_result"
    },
    {
     "data": {
      "image/png": "[encoded data removed]",
      "text/plain": [
       "<Figure size 413.375x360 with 1 Axes>"
      ]
     },
     "metadata": {
      "needs_background": "light"
     },
     "output_type": "display_data"
    }
   ],
   "source": [
    "sns.lmplot(\"Narcotics\",\"OfficeVisits\",quality, fit_reg=False,hue=\"PoorCare\",height=5, legend=True)\n",
    "plt.title(\"Model 1 Visualization\")"
   ]
  },
  {
   "cell_type": "markdown",
   "metadata": {},
   "source": [
    "<p><h2><font color = Blue>Predictions on Train  </font></h2></p>"
   ]
  },
  {
   "cell_type": "code",
   "execution_count": 22,
   "metadata": {},
   "outputs": [
    {
     "data": {
      "text/plain": [
       "array([0, 0, 0, 0, 0, 0, 1, 0, 0, 0, 0, 0, 0, 0, 0, 0, 0, 0, 0, 0, 0, 0,\n",
       "       0, 0, 0, 0, 0, 1, 1, 0, 0, 0, 0, 0, 0, 0, 0, 0, 0, 0, 0, 0, 0, 0,\n",
       "       0, 0, 0, 0, 0, 0, 1, 0, 0, 1, 0, 0, 0, 0, 0, 0, 0, 1, 1, 0, 1, 0,\n",
       "       0, 0, 0, 0, 0, 0, 0, 0, 1, 0, 0, 1, 0, 0, 0, 0, 0, 0, 0, 1, 0, 0,\n",
       "       0, 0, 0], dtype=int64)"
      ]
     },
     "execution_count": 22,
     "metadata": {},
     "output_type": "execute_result"
    }
   ],
   "source": [
    "y_pred_train =model.predict(X_train[['Narcotics','OfficeVisits']])\n",
    "y_pred_train"
   ]
  },
  {
   "cell_type": "markdown",
   "metadata": {},
   "source": [
    "<img src = https://dim-mlp-images.s3.amazonaws.com/Chapter4/ConfusionMatrix.png>\n",
    "TN:- Actually good care and for which we predict good care. <br>\n",
    "TP:- Actually Poor care and for which we predict poor care. <br>\n",
    "FP :- Predict poor care, but they're actually good care. <br>\n",
    "FN:- Predict good care, but they're actually poor care . <br>"
   ]
  },
  {
   "cell_type": "code",
   "execution_count": 23,
   "metadata": {},
   "outputs": [
    {
     "data": {
      "text/plain": [
       "array([[66,  2],\n",
       "       [14,  9]], dtype=int64)"
      ]
     },
     "execution_count": 23,
     "metadata": {},
     "output_type": "execute_result"
    }
   ],
   "source": [
    "confusion_matrix(y_train, y_pred_train)    # create a confusion matrix "
   ]
  },
  {
   "cell_type": "code",
   "execution_count": 24,
   "metadata": {},
   "outputs": [
    {
     "data": {
      "text/plain": [
       "0.8241758241758241"
      ]
     },
     "execution_count": 24,
     "metadata": {},
     "output_type": "execute_result"
    }
   ],
   "source": [
    "acc_score = (66+9)/91\n",
    "acc_score"
   ]
  },
  {
   "cell_type": "code",
   "execution_count": 25,
   "metadata": {},
   "outputs": [
    {
     "data": {
      "text/plain": [
       "0.8241758241758241"
      ]
     },
     "execution_count": 25,
     "metadata": {},
     "output_type": "execute_result"
    }
   ],
   "source": [
    "accuracy_score(y_train, y_pred_train)    # calculates the accuracy score"
   ]
  },
  {
   "cell_type": "code",
   "execution_count": 26,
   "metadata": {},
   "outputs": [
    {
     "data": {
      "text/plain": [
       "0.391304347826087"
      ]
     },
     "execution_count": 26,
     "metadata": {},
     "output_type": "execute_result"
    }
   ],
   "source": [
    "sensitivity = (9/(9+14))\n",
    "sensitivity"
   ]
  },
  {
   "cell_type": "code",
   "execution_count": 27,
   "metadata": {},
   "outputs": [
    {
     "data": {
      "text/plain": [
       "0.9705882352941176"
      ]
     },
     "execution_count": 27,
     "metadata": {},
     "output_type": "execute_result"
    }
   ],
   "source": [
    "specificity = (66/(66+2))\n",
    "specificity"
   ]
  },
  {
   "cell_type": "code",
   "execution_count": 28,
   "metadata": {},
   "outputs": [
    {
     "data": {
      "text/plain": [
       "0.8181818181818182"
      ]
     },
     "execution_count": 28,
     "metadata": {},
     "output_type": "execute_result"
    }
   ],
   "source": [
    "precision_score(y_train, y_pred_train)"
   ]
  },
  {
   "cell_type": "code",
   "execution_count": 29,
   "metadata": {},
   "outputs": [
    {
     "data": {
      "text/plain": [
       "0.391304347826087"
      ]
     },
     "execution_count": 29,
     "metadata": {},
     "output_type": "execute_result"
    }
   ],
   "source": [
    "recall_score(y_train, y_pred_train)"
   ]
  },
  {
   "cell_type": "code",
   "execution_count": 30,
   "metadata": {},
   "outputs": [
    {
     "name": "stdout",
     "output_type": "stream",
     "text": [
      "              precision    recall  f1-score   support\n",
      "\n",
      "           0       0.82      0.97      0.89        68\n",
      "           1       0.82      0.39      0.53        23\n",
      "\n",
      "   micro avg       0.82      0.82      0.82        91\n",
      "   macro avg       0.82      0.68      0.71        91\n",
      "weighted avg       0.82      0.82      0.80        91\n",
      "\n"
     ]
    }
   ],
   "source": [
    "summary =classification_report(y_train, y_pred_train)\n",
    "print(summary)"
   ]
  },
  {
   "cell_type": "markdown",
   "metadata": {},
   "source": [
    "<p><h2><font color = Blue>Thresholding  </font></h2></p>"
   ]
  },
  {
   "cell_type": "markdown",
   "metadata": {},
   "source": [
    "<p><h4><font color=purple> Did this patient receive poor care or good care</font></h4><p>\n",
    "    \n",
    "<font color = brown> <b>We can do this using a threshold value t: </b></font>\n",
    "<ul>\n",
    "    <li> If P(PoorCare = 1) = t, predict poor quality </li>\n",
    "    <li> If P(PoorCare = 1) &lt; t, predict good quality </li> </ul>\n",
    "    \n",
    "<font color = brown> <b>If t is large, predict poor care rarely (when P(y=1) is large)</b></font> </li>\n",
    "    <ul><li> More errors where we say good care, but it is actually poor care </li>\n",
    "        <li> Detects patients who are receiving the worst care </li></ul>\n",
    "<font color = brown> <b>If t is small, predict good care rarely (when P(y=1) is small)</b></font></li>\n",
    "<ul><li>More errors where we say poor care, but it is actually good care </li>\n",
    "<li>Detects all patients who might be receiving poor care </li></ul>\n",
    "\n",
    "<font color = brown> <b>With no preference between the errors, select t = 0.5</b></font>\n",
    "<ul><li>Predicts the more likely outcome</li>"
   ]
  },
  {
   "cell_type": "code",
   "execution_count": 31,
   "metadata": {},
   "outputs": [
    {
     "data": {
      "text/plain": [
       "array([[0.81612454, 0.18387546],\n",
       "       [0.83341812, 0.16658188],\n",
       "       [0.84784713, 0.15215287],\n",
       "       [0.80878721, 0.19121279],\n",
       "       [0.67558948, 0.32441052]])"
      ]
     },
     "execution_count": 31,
     "metadata": {},
     "output_type": "execute_result"
    }
   ],
   "source": [
    "pred_train_prob = model.predict_proba(X_train[['Narcotics','OfficeVisits']])\n",
    "pred_train_prob[:5]"
   ]
  },
  {
   "cell_type": "markdown",
   "metadata": {},
   "source": [
    "<p><h3><font color = Blue> Plot Receiver Operator Characteristic (ROC) Curve </font></h3></p>"
   ]
  },
  {
   "cell_type": "markdown",
   "metadata": {},
   "source": [
    "The line shows how the two outcome measures vary with different threshold values.\n",
    "\n",
    "<ul><li>True positive rate (sensitivity) on y-axis </li> \n",
    "    <ul><li>Proportion of poor care caught </li></ul></ul>\n",
    "<ul><li>False positive rate (1-specificity) on x-axis </li> \n",
    " <ul><li>Proportion of good care labeled as poor care. </li></ul></ul>\n",
    "\n",
    "<img src = \"https://dim-mlp-images.s3.amazonaws.com/Chapter4/ROCcurve.png\">\n",
    "\n",
    "<ul>\n",
    "    <li><b>The ROC curve always starts at the point (0, 0). This corresponds to a threshold value of 1. </b></li>\n",
    "    <ul><li>If threshold is 1, you will not catch any poor care cases, or have a sensitivity of 0. But you will correctly label all the good care cases, meaning you have a false positive rate of 0. </li></ul>\n",
    "<br>\n",
    "   <li><b> The ROC curve always ends at the point (1,1) which corresponds to a threshold value of 0.</b> </li>\n",
    "    <ul><li> If threshold of 0, you'll catch all of the poor care cases, or have a sensitivity of 1, but you'll label all of the good care cases as poor care cases too, meaning you have a false positive rate of 1.</li></ul>\n",
    "<br>    \n",
    " <li> <b>The threshold decreases as you move from (0,0) to (1,1). </b></li>\n",
    "    <ul><li> At the point (0, 0.4), you're correctly labelling about 40% of the poor care cases with a very small false positive rate. </li> \n",
    "    <li> On the other hand, at the point (0.6, 0.9), you're correctly labeling about 90% of the poor care cases, but have a false positive rate of 60%. </li>\n",
    "    <li>In the middle, around (0.3, 0.8), you're correctly labeling about 80% of the poor care cases, with a 30% false positive rate.</li> </ul>"
   ]
  },
  {
   "cell_type": "code",
   "execution_count": 32,
   "metadata": {},
   "outputs": [],
   "source": [
    "roc_curve?"
   ]
  },
  {
   "cell_type": "code",
   "execution_count": 33,
   "metadata": {},
   "outputs": [],
   "source": [
    "fpr,tpr,t = roc_curve(y_train, pred_train_prob[:,1],pos_label=1)"
   ]
  },
  {
   "cell_type": "code",
   "execution_count": 34,
   "metadata": {},
   "outputs": [
    {
     "data": {
      "text/plain": [
       "array([1.99000921, 0.99000921, 0.96141774, 0.87338633, 0.74625033,\n",
       "       0.73240692, 0.67751769, 0.59450976, 0.36500586, 0.27890534,\n",
       "       0.25084462, 0.2375389 , 0.23537706, 0.22691265, 0.21446853,\n",
       "       0.2125022 , 0.20847876, 0.20068548, 0.19687147, 0.19494377,\n",
       "       0.19311244, 0.19121279, 0.18757669, 0.18749646, 0.18387546,\n",
       "       0.18212458, 0.18030886, 0.1785459 , 0.17679646, 0.17509853,\n",
       "       0.1750605 , 0.17333801, 0.17166637, 0.16993324, 0.16825091,\n",
       "       0.16658188, 0.16496239, 0.16492613, 0.15370399, 0.14757651,\n",
       "       0.1211864 ])"
      ]
     },
     "execution_count": 34,
     "metadata": {},
     "output_type": "execute_result"
    }
   ],
   "source": [
    "t"
   ]
  },
  {
   "cell_type": "code",
   "execution_count": 35,
   "metadata": {},
   "outputs": [
    {
     "data": {
      "text/plain": [
       "array([0.        , 0.        , 0.        , 0.01470588, 0.01470588,\n",
       "       0.01470588, 0.01470588, 0.02941176, 0.02941176, 0.08823529,\n",
       "       0.11764706, 0.11764706, 0.16176471, 0.20588235, 0.26470588,\n",
       "       0.27941176, 0.29411765, 0.33823529, 0.33823529, 0.36764706,\n",
       "       0.36764706, 0.39705882, 0.42647059, 0.45588235, 0.48529412,\n",
       "       0.51470588, 0.57352941, 0.61764706, 0.69117647, 0.72058824,\n",
       "       0.76470588, 0.79411765, 0.80882353, 0.83823529, 0.83823529,\n",
       "       0.86764706, 0.88235294, 0.92647059, 0.97058824, 0.97058824,\n",
       "       1.        ])"
      ]
     },
     "execution_count": 35,
     "metadata": {},
     "output_type": "execute_result"
    }
   ],
   "source": [
    "fpr"
   ]
  },
  {
   "cell_type": "code",
   "execution_count": 36,
   "metadata": {},
   "outputs": [
    {
     "data": {
      "text/plain": [
       "array([0.        , 0.04347826, 0.08695652, 0.08695652, 0.26086957,\n",
       "       0.34782609, 0.39130435, 0.39130435, 0.43478261, 0.43478261,\n",
       "       0.43478261, 0.47826087, 0.47826087, 0.47826087, 0.56521739,\n",
       "       0.56521739, 0.60869565, 0.60869565, 0.65217391, 0.65217391,\n",
       "       0.69565217, 0.69565217, 0.69565217, 0.69565217, 0.69565217,\n",
       "       0.7826087 , 0.7826087 , 0.7826087 , 0.7826087 , 0.7826087 ,\n",
       "       0.82608696, 0.82608696, 0.86956522, 0.86956522, 0.91304348,\n",
       "       0.91304348, 0.91304348, 0.91304348, 0.91304348, 1.        ,\n",
       "       1.        ])"
      ]
     },
     "execution_count": 36,
     "metadata": {},
     "output_type": "execute_result"
    }
   ],
   "source": [
    "tpr"
   ]
  },
  {
   "cell_type": "code",
   "execution_count": 37,
   "metadata": {},
   "outputs": [
    {
     "data": {
      "text/plain": [
       "<matplotlib.colorbar.Colorbar at 0x186845f8668>"
      ]
     },
     "execution_count": 37,
     "metadata": {},
     "output_type": "execute_result"
    },
    {
     "data": {
      "image/png": "[encoded data removed]",
      "text/plain": [
       "<Figure size 432x288 with 2 Axes>"
      ]
     },
     "metadata": {
      "needs_background": "light"
     },
     "output_type": "display_data"
    }
   ],
   "source": [
    "#plt.plot(fpr,tpr)\n",
    "%matplotlib inline\n",
    "#plt.figure(figsize=(5,5))\n",
    "plt.scatter(fpr,tpr,c=t,s=100)\n",
    "plt.colorbar(ticks=np.arange(0,1,0.1))\n",
    "#plt.annotate(t,(fpr,tpr))\n",
    "#ax = plt.gca()\n",
    "#ax.annotate()"
   ]
  },
  {
   "cell_type": "markdown",
   "metadata": {},
   "source": [
    "<p><h3><font color = Purple> Quiz 2: Selecting Threshold\n",
    "    \n",
    "  <img src = https://dim-mlp-images.s3.amazonaws.com/Chapter4/ROCQuiz1.png width =500 height=600>    \n",
    "Which threshold would you pick if you wanted to correctly identify a small group of patients who are receiving the worst care with high confidence? </font></h3></p>\n",
    "<p><h4><b><font color = purple>\n",
    "1. 0.2 <br><br>\n",
    "2. 0.3 <br><br>\n",
    "3. 0.7 <br><br>\n",
    "4. 0.8 <br><br>\n",
    "    </font></b></h4></p>\n"
   ]
  },
  {
   "cell_type": "markdown",
   "metadata": {},
   "source": [
    "<p><h3><font color = Purple> Quiz 3: Selecting Threshold\n",
    "<img src = https://dim-mlp-images.s3.amazonaws.com/Chapter4/ROCQuiz1.png width =500 height=600>    \n",
    "Which threshold would you pick if you wanted to correctly identify half of the patients receiving poor care, while making as few errors as possible? </font></h3></p>\n",
    "<p><h4><b><font color = purple>\n",
    "1. 0.2 <br><br>\n",
    "2. 0.3 <br><br>\n",
    "3. 0.7 <br><br>\n",
    "4. 0.8 <br><br>\n",
    "    </font></b></h4></p>"
   ]
  },
  {
   "cell_type": "markdown",
   "metadata": {},
   "source": [
    "<p><h3><font color = Blue> Applying Threshold on predictions </font></h3></p>"
   ]
  },
  {
   "cell_type": "code",
   "execution_count": 38,
   "metadata": {},
   "outputs": [
    {
     "data": {
      "text/plain": [
       "array([0, 0, 0, 0, 1, 0, 1, 0, 0, 0, 0, 0, 0, 0, 0, 0, 0, 0, 0, 0, 0, 0,\n",
       "       0, 0, 0, 0, 0, 1, 1, 0, 0, 0, 0, 0, 0, 0, 0, 1, 0, 0, 0, 0, 0, 0,\n",
       "       0, 0, 0, 0, 0, 0, 1, 0, 0, 1, 0, 0, 0, 0, 0, 0, 0, 1, 1, 0, 1, 0,\n",
       "       0, 0, 0, 0, 0, 0, 0, 0, 1, 0, 1, 1, 0, 0, 0, 0, 0, 0, 0, 1, 0, 0,\n",
       "       0, 0, 0])"
      ]
     },
     "execution_count": 38,
     "metadata": {},
     "output_type": "execute_result"
    }
   ],
   "source": [
    "pred_t_train = np.where(pred_train_prob[:,1]>0.3,1,0)\n",
    "pred_t_train"
   ]
  },
  {
   "cell_type": "code",
   "execution_count": 39,
   "metadata": {},
   "outputs": [
    {
     "data": {
      "text/plain": [
       "array([[64,  4],\n",
       "       [13, 10]], dtype=int64)"
      ]
     },
     "execution_count": 39,
     "metadata": {},
     "output_type": "execute_result"
    }
   ],
   "source": [
    "confusion_matrix(y_train, pred_t_train) "
   ]
  },
  {
   "cell_type": "code",
   "execution_count": 40,
   "metadata": {},
   "outputs": [
    {
     "data": {
      "text/plain": [
       "0.8131868131868132"
      ]
     },
     "execution_count": 40,
     "metadata": {},
     "output_type": "execute_result"
    }
   ],
   "source": [
    "accuracy_score(y_train, pred_t_train)"
   ]
  },
  {
   "cell_type": "code",
   "execution_count": 41,
   "metadata": {},
   "outputs": [
    {
     "data": {
      "text/plain": [
       "0.6940537084398977"
      ]
     },
     "execution_count": 41,
     "metadata": {},
     "output_type": "execute_result"
    }
   ],
   "source": [
    "auc(fpr,tpr)    # Area under Curve for the model"
   ]
  },
  {
   "cell_type": "markdown",
   "metadata": {},
   "source": [
    "<p><h3><font color = Blue> Predictions on Test Data </font></h3></p>"
   ]
  },
  {
   "cell_type": "code",
   "execution_count": 42,
   "metadata": {},
   "outputs": [
    {
     "data": {
      "text/plain": [
       "0.8"
      ]
     },
     "execution_count": 42,
     "metadata": {},
     "output_type": "execute_result"
    }
   ],
   "source": [
    "model.score(X_test[['Narcotics','OfficeVisits']],y_test)   # Accuracy score for test"
   ]
  },
  {
   "cell_type": "code",
   "execution_count": 43,
   "metadata": {},
   "outputs": [
    {
     "data": {
      "text/plain": [
       "array([0, 0, 0, 0, 0, 0, 0, 0, 0, 0, 0, 0, 0, 0, 0, 0, 1, 0, 1, 0, 0, 0,\n",
       "       0, 0, 0, 0, 0, 0, 0, 0, 0, 0, 0, 0, 0, 0, 0, 0, 0, 0], dtype=int64)"
      ]
     },
     "execution_count": 43,
     "metadata": {},
     "output_type": "execute_result"
    }
   ],
   "source": [
    "pred_test = model.predict(X_test[['Narcotics','OfficeVisits']])\n",
    "pred_test"
   ]
  },
  {
   "cell_type": "code",
   "execution_count": 44,
   "metadata": {},
   "outputs": [
    {
     "data": {
      "text/plain": [
       "array([[30,  0],\n",
       "       [ 8,  2]], dtype=int64)"
      ]
     },
     "execution_count": 44,
     "metadata": {},
     "output_type": "execute_result"
    }
   ],
   "source": [
    "confusion_matrix(y_test, pred_test)"
   ]
  },
  {
   "cell_type": "code",
   "execution_count": 45,
   "metadata": {},
   "outputs": [
    {
     "data": {
      "text/plain": [
       "0.8"
      ]
     },
     "execution_count": 45,
     "metadata": {},
     "output_type": "execute_result"
    }
   ],
   "source": [
    "accuracy_score(y_test,pred_test)"
   ]
  },
  {
   "cell_type": "code",
   "execution_count": 46,
   "metadata": {},
   "outputs": [
    {
     "data": {
      "text/plain": [
       "array([[0.78350729, 0.21649271],\n",
       "       [0.8553456 , 0.1446544 ],\n",
       "       [0.80692858, 0.19307142],\n",
       "       [0.8214541 , 0.1785459 ],\n",
       "       [0.8214541 , 0.1785459 ]])"
      ]
     },
     "execution_count": 46,
     "metadata": {},
     "output_type": "execute_result"
    }
   ],
   "source": [
    "pred_test_prob = model.predict_proba(X_test[['Narcotics','OfficeVisits']])\n",
    "pred_test_prob[:5,]"
   ]
  },
  {
   "cell_type": "code",
   "execution_count": 47,
   "metadata": {},
   "outputs": [
    {
     "data": {
      "text/plain": [
       "array([False, False, False, False, False, False, False, False, False,\n",
       "       False, False, False, False, False, False, False,  True, False,\n",
       "        True,  True, False, False, False,  True, False, False, False,\n",
       "       False, False, False, False,  True, False, False, False, False,\n",
       "       False, False, False,  True])"
      ]
     },
     "execution_count": 47,
     "metadata": {},
     "output_type": "execute_result"
    }
   ],
   "source": [
    "pred_t= pred_test_prob[:,1]>0.3\n",
    "pred_t"
   ]
  },
  {
   "cell_type": "code",
   "execution_count": 48,
   "metadata": {},
   "outputs": [
    {
     "data": {
      "text/plain": [
       "array([0, 0, 0, 0, 0, 0, 0, 0, 0, 0, 0, 0, 0, 0, 0, 0, 1, 0, 1, 1, 0, 0,\n",
       "       0, 1, 0, 0, 0, 0, 0, 0, 0, 1, 0, 0, 0, 0, 0, 0, 0, 1])"
      ]
     },
     "execution_count": 48,
     "metadata": {},
     "output_type": "execute_result"
    }
   ],
   "source": [
    "pred_t_test = np.where(pred_test_prob[:,1]>0.3,1,0)\n",
    "pred_t_test"
   ]
  },
  {
   "cell_type": "code",
   "execution_count": 49,
   "metadata": {},
   "outputs": [
    {
     "data": {
      "text/plain": [
       "array([[27,  3],\n",
       "       [ 7,  3]], dtype=int64)"
      ]
     },
     "execution_count": 49,
     "metadata": {},
     "output_type": "execute_result"
    }
   ],
   "source": [
    "confusion_matrix(y_test, pred_t_test)"
   ]
  },
  {
   "cell_type": "code",
   "execution_count": 50,
   "metadata": {},
   "outputs": [
    {
     "data": {
      "text/plain": [
       "0.75"
      ]
     },
     "execution_count": 50,
     "metadata": {},
     "output_type": "execute_result"
    }
   ],
   "source": [
    "accuracy_score(y_test, pred_t_test)"
   ]
  },
  {
   "cell_type": "code",
   "execution_count": null,
   "metadata": {},
   "outputs": [],
   "source": []
  },
  {
   "cell_type": "code",
   "execution_count": null,
   "metadata": {},
   "outputs": [],
   "source": []
  },
  {
   "cell_type": "code",
   "execution_count": null,
   "metadata": {},
   "outputs": [],
   "source": []
  },
  {
   "cell_type": "code",
   "execution_count": null,
   "metadata": {},
   "outputs": [],
   "source": []
  }
 ],
 "metadata": {
  "kernelspec": {
   "display_name": "Python 3",
   "language": "python",
   "name": "python3"
  },
  "language_info": {
   "codemirror_mode": {
    "name": "ipython",
    "version": 3
   },
   "file_extension": ".py",
   "mimetype": "text/x-python",
   "name": "python",
   "nbconvert_exporter": "python",
   "pygments_lexer": "ipython3",
   "version": "3.7.1"
  }
 },
 "nbformat": 4,
 "nbformat_minor": 2
}
