{
  "cells": [
    {
      "metadata": {},
      "cell_type": "markdown",
      "source": "<p><h1><font color = DarkBlue> Healthcare Case Study</font></h1></p>\n\nD2Hawkeye, a medical data mining company. The company receives claims data. These are data that are generated when an insured patient goes to a medical provider to receive a diagnosis or to have a procedure, for example an x-ray, or to obtain drugs. The medical providers need to get compensated, so the claims data provide the means for them to be paid. An important question is whether we can assess the quality of health care given this claims data. \n\n<b> Why assessing the quality of healthcare is an important objective. </b>\n\nCritical decisions are often made by people with expert knowledge\n<p><h4><font color = Purple> Healthcare Quality Assessment </font></h4></p>\n<ul> \n<li>Good quality care educates patients and controls costs</li>\n<li>Need to assess quality for proper medical interventions </li>\n<li>No single set of guidelines for defining quality of healthcare </li>\n<li>Health protessionals are experts in quality of care assessment </li>\n</ul>\n\n<b> Experts are Humans </b>\n<p><h4><font color = Purple> Healthcare Quality Assessment </font></h4></p>\n<ul> \n<li>Expert physicians can evaluate quality by examining a patient’s records</li>\n<li>This process is time consuming and inefficient </li>\n<li>Physicians cannot assess quality tor millions of patients </li>\n</ul>\n\n<b> Can we develop analytical tools that replicate expert assessment on a large scale? </b>\n\nLearn from expert human judgment\n- Develop a model, interpret results, and adjust the model\nMake predictions/evaluations on a large scale\n\n<p><h4><font color = Purple>Healthcare Quality Assessment  </font></h4></p>\n<ul><li> Let’s identity poor healthcare quality using analytics</li></ul>\n\n<p><h4><font color = Purple>Building the dataset </font></h4></p>\n\n<ul><li><b> Claims Data </b></li>\n<ul> <li> Electronically available </li>\n<li>Standardized </li>\n<li>Not 100% accurate </li>\n<li>Under-reporting is common </li>\n<li>Claims for hospital visits can be vague </li> </ul></ul>\n    \n<ul><li><b> Creating the Dataset- Claims Sample </b> </li>\n<ul> <li> Large health insurance claims database </li>\n<li>Randomly selected 131 diabetes patients</li>\n<li>Ages range from 35 to 55 </li>\n<li>Costs \\$10,000 - \\$20,000 </li>\n    <li>September 1, 2003 — August 31, 2005 </li> </ul></ul>\n    \n<ul><li><b> Creating the Dataset- Expert Review </b></li>\n    <ul> <li> Expert physician reviewed claims and wrote descriptive notes: </li> \n    <ul><li>“Ongoing use of narcotics”</li>\n    <li>“Only on Avandia, not a good first choice drug” </li>\n    <li>“Had regular visits, mammogram and immunizations”</li>\n    <li>“Was given hometesting supplies”</li> </ul></ul></ul>    \n    \n<ul><li><b> Creating the Dataset- Expert Assessment </b></li>\n    <ul> <li> Rated quality on a two-point scale (poor/good) </li> \n    <ul><li>“I'd say care was poor — poorly treated diabetes”</li>\n    <li>“No eye care, but overall I'd say high quality” </li></ul></ul></ul>   "
    },
    {
      "metadata": {},
      "cell_type": "markdown",
      "source": "<p><h2><font color = Blue>Importing the Required Libraries </font></h2></p>"
    },
    {
      "metadata": {
        "scrolled": true,
        "trusted": true
      },
      "cell_type": "code",
      "source": "# Logistic regression using scikit-Learn \nimport numpy as np\nimport pandas as pd\nfrom sklearn.model_selection import train_test_split\nfrom sklearn.linear_model import LogisticRegression \nfrom sklearn.metrics import accuracy_score, auc, confusion_matrix, precision_score, recall_score, roc_curve,classification_report\nimport matplotlib.pyplot as plt\nimport seaborn as sns",
      "execution_count": 1,
      "outputs": []
    },
    {
      "metadata": {},
      "cell_type": "markdown",
      "source": "<p><h2><font color = Blue>Reading the Dataset </font></h2></p>"
    },
    {
      "metadata": {
        "trusted": true
      },
      "cell_type": "code",
      "source": "# Read the Dataset\nquality = pd.read_csv(\"https://storage.googleapis.com/dimensionless/Analytics/quality.csv\")",
      "execution_count": 2,
      "outputs": []
    },
    {
      "metadata": {
        "trusted": true
      },
      "cell_type": "code",
      "source": "quality.head()",
      "execution_count": 3,
      "outputs": [
        {
          "output_type": "execute_result",
          "execution_count": 3,
          "data": {
            "text/html": "<div>\n<style scoped>\n    .dataframe tbody tr th:only-of-type {\n        vertical-align: middle;\n    }\n\n    .dataframe tbody tr th {\n        vertical-align: top;\n    }\n\n    .dataframe thead th {\n        text-align: right;\n    }\n</style>\n<table border=\"1\" class=\"dataframe\">\n  <thead>\n    <tr style=\"text-align: right;\">\n      <th></th>\n      <th>MemberID</th>\n      <th>InpatientDays</th>\n      <th>ERVisits</th>\n      <th>OfficeVisits</th>\n      <th>Narcotics</th>\n      <th>DaysSinceLastERVisit</th>\n      <th>Pain</th>\n      <th>TotalVisits</th>\n      <th>ProviderCount</th>\n      <th>MedicalClaims</th>\n      <th>ClaimLines</th>\n      <th>StartedOnCombination</th>\n      <th>AcuteDrugGapSmall</th>\n      <th>PoorCare</th>\n    </tr>\n  </thead>\n  <tbody>\n    <tr>\n      <th>0</th>\n      <td>1</td>\n      <td>0</td>\n      <td>0</td>\n      <td>18</td>\n      <td>1</td>\n      <td>731.0</td>\n      <td>10</td>\n      <td>18</td>\n      <td>21</td>\n      <td>93</td>\n      <td>222</td>\n      <td>False</td>\n      <td>0</td>\n      <td>0</td>\n    </tr>\n    <tr>\n      <th>1</th>\n      <td>2</td>\n      <td>1</td>\n      <td>1</td>\n      <td>6</td>\n      <td>1</td>\n      <td>411.0</td>\n      <td>0</td>\n      <td>8</td>\n      <td>27</td>\n      <td>19</td>\n      <td>115</td>\n      <td>False</td>\n      <td>1</td>\n      <td>0</td>\n    </tr>\n    <tr>\n      <th>2</th>\n      <td>3</td>\n      <td>0</td>\n      <td>0</td>\n      <td>5</td>\n      <td>3</td>\n      <td>731.0</td>\n      <td>10</td>\n      <td>5</td>\n      <td>16</td>\n      <td>27</td>\n      <td>148</td>\n      <td>False</td>\n      <td>5</td>\n      <td>0</td>\n    </tr>\n    <tr>\n      <th>3</th>\n      <td>4</td>\n      <td>0</td>\n      <td>1</td>\n      <td>19</td>\n      <td>0</td>\n      <td>158.0</td>\n      <td>34</td>\n      <td>20</td>\n      <td>14</td>\n      <td>59</td>\n      <td>242</td>\n      <td>False</td>\n      <td>0</td>\n      <td>0</td>\n    </tr>\n    <tr>\n      <th>4</th>\n      <td>5</td>\n      <td>8</td>\n      <td>2</td>\n      <td>19</td>\n      <td>3</td>\n      <td>449.0</td>\n      <td>10</td>\n      <td>29</td>\n      <td>24</td>\n      <td>51</td>\n      <td>204</td>\n      <td>False</td>\n      <td>0</td>\n      <td>0</td>\n    </tr>\n  </tbody>\n</table>\n</div>",
            "text/plain": "   MemberID  InpatientDays  ERVisits  OfficeVisits  Narcotics  \\\n0         1              0         0            18          1   \n1         2              1         1             6          1   \n2         3              0         0             5          3   \n3         4              0         1            19          0   \n4         5              8         2            19          3   \n\n   DaysSinceLastERVisit  Pain  TotalVisits  ProviderCount  MedicalClaims  \\\n0                 731.0    10           18             21             93   \n1                 411.0     0            8             27             19   \n2                 731.0    10            5             16             27   \n3                 158.0    34           20             14             59   \n4                 449.0    10           29             24             51   \n\n   ClaimLines  StartedOnCombination  AcuteDrugGapSmall  PoorCare  \n0         222                 False                  0         0  \n1         115                 False                  1         0  \n2         148                 False                  5         0  \n3         242                 False                  0         0  \n4         204                 False                  0         0  "
          },
          "metadata": {}
        }
      ]
    },
    {
      "metadata": {},
      "cell_type": "markdown",
      "source": "<p><h2><font color = DarkBlue> Data Set Description </font></h2></p>\n\nThe variables in the dataset quality.csv are as follows: \n<ul>\n    <li><b>MemberID: </b> numbers the patients from 1 to 131, and is just an identifying number. </li>\n<li><b>InpatientDays: </b> is the number of inpatient visits, or number of days the person spent in the hospital. </li>\n<li><b>ERVisits: </b> is the number of times the patient visited the emergency room. </li>\n<li><b>OfficeVisits: </b> is the number of times the patient visited any doctor's office. </li>\n<li><b>Narcotics: </b>is the number of prescriptions the patient had for narcotics. </li>\n<li><b>DaysSinceLastERVisit: </b> is the number of days between the patient's last emergency room visit and the end of the study period (set to the length of the study period if they never visited the ER). </li>\n<li><b>Pain: </b> is the number of visits for which the patient complained about pain. </li>\n<li><b>TotalVisits: </b> is the total number of times the patient visited any healthcare provider. </li>\n<li><b>ProviderCount: </b> is the number of providers that served the patient. </li>\n<li><b>MedicalClaims: </b> is the number of days on which the patient had a medical claim. </li>\n<li><b>ClaimLines:</b> is the total number of medical claims. </li>\n<li><b>StartedOnCombination: </b> is whether or not the patient was started on a combination of drugs to treat their diabetes (TRUE or FALSE). </li>\n<li><b>AcuteDrugGapSmall: </b> is the fraction of acute drugs that were refilled quickly after the prescription ran out. </li>\n<li><b>PoorCare: </b> is the outcome or dependent variable, and is equal to 1 if the patient had poor care, and equal to 0 if the patient had good care. </li>\n\n<font color = purple><b> The dependent variable is modeled as a binary variable: </font></b>\n\n<ul><li> 1 if low-quality care, 0 if high-quality care </li></ul>"
    },
    {
      "metadata": {
        "trusted": true
      },
      "cell_type": "code",
      "source": "quality.describe()",
      "execution_count": 4,
      "outputs": [
        {
          "output_type": "execute_result",
          "execution_count": 4,
          "data": {
            "text/html": "<div>\n<style scoped>\n    .dataframe tbody tr th:only-of-type {\n        vertical-align: middle;\n    }\n\n    .dataframe tbody tr th {\n        vertical-align: top;\n    }\n\n    .dataframe thead th {\n        text-align: right;\n    }\n</style>\n<table border=\"1\" class=\"dataframe\">\n  <thead>\n    <tr style=\"text-align: right;\">\n      <th></th>\n      <th>MemberID</th>\n      <th>InpatientDays</th>\n      <th>ERVisits</th>\n      <th>OfficeVisits</th>\n      <th>Narcotics</th>\n      <th>DaysSinceLastERVisit</th>\n      <th>Pain</th>\n      <th>TotalVisits</th>\n      <th>ProviderCount</th>\n      <th>MedicalClaims</th>\n      <th>ClaimLines</th>\n      <th>AcuteDrugGapSmall</th>\n      <th>PoorCare</th>\n    </tr>\n  </thead>\n  <tbody>\n    <tr>\n      <th>count</th>\n      <td>131.000000</td>\n      <td>131.000000</td>\n      <td>131.000000</td>\n      <td>131.000000</td>\n      <td>131.000000</td>\n      <td>131.000000</td>\n      <td>131.000000</td>\n      <td>131.000000</td>\n      <td>131.000000</td>\n      <td>131.000000</td>\n      <td>131.000000</td>\n      <td>131.000000</td>\n      <td>131.000000</td>\n    </tr>\n    <tr>\n      <th>mean</th>\n      <td>66.000000</td>\n      <td>2.717557</td>\n      <td>1.496183</td>\n      <td>13.229008</td>\n      <td>4.572519</td>\n      <td>480.567112</td>\n      <td>15.557252</td>\n      <td>17.442748</td>\n      <td>23.984733</td>\n      <td>43.244275</td>\n      <td>142.862595</td>\n      <td>2.694656</td>\n      <td>0.251908</td>\n    </tr>\n    <tr>\n      <th>std</th>\n      <td>37.960506</td>\n      <td>5.099434</td>\n      <td>2.167501</td>\n      <td>9.077076</td>\n      <td>9.713615</td>\n      <td>274.767240</td>\n      <td>20.418001</td>\n      <td>12.298318</td>\n      <td>13.670285</td>\n      <td>28.886540</td>\n      <td>91.629921</td>\n      <td>6.983379</td>\n      <td>0.435775</td>\n    </tr>\n    <tr>\n      <th>min</th>\n      <td>1.000000</td>\n      <td>0.000000</td>\n      <td>0.000000</td>\n      <td>0.000000</td>\n      <td>0.000000</td>\n      <td>6.000000</td>\n      <td>0.000000</td>\n      <td>0.000000</td>\n      <td>5.000000</td>\n      <td>11.000000</td>\n      <td>20.000000</td>\n      <td>0.000000</td>\n      <td>0.000000</td>\n    </tr>\n    <tr>\n      <th>25%</th>\n      <td>33.500000</td>\n      <td>0.000000</td>\n      <td>0.000000</td>\n      <td>7.000000</td>\n      <td>0.000000</td>\n      <td>206.958333</td>\n      <td>1.000000</td>\n      <td>8.000000</td>\n      <td>15.000000</td>\n      <td>25.500000</td>\n      <td>83.500000</td>\n      <td>0.000000</td>\n      <td>0.000000</td>\n    </tr>\n    <tr>\n      <th>50%</th>\n      <td>66.000000</td>\n      <td>0.000000</td>\n      <td>1.000000</td>\n      <td>12.000000</td>\n      <td>1.000000</td>\n      <td>640.958333</td>\n      <td>8.000000</td>\n      <td>15.000000</td>\n      <td>20.000000</td>\n      <td>37.000000</td>\n      <td>120.000000</td>\n      <td>1.000000</td>\n      <td>0.000000</td>\n    </tr>\n    <tr>\n      <th>75%</th>\n      <td>98.500000</td>\n      <td>3.000000</td>\n      <td>2.000000</td>\n      <td>18.500000</td>\n      <td>3.000000</td>\n      <td>731.000000</td>\n      <td>23.000000</td>\n      <td>22.500000</td>\n      <td>30.000000</td>\n      <td>49.500000</td>\n      <td>185.000000</td>\n      <td>3.000000</td>\n      <td>0.500000</td>\n    </tr>\n    <tr>\n      <th>max</th>\n      <td>131.000000</td>\n      <td>30.000000</td>\n      <td>11.000000</td>\n      <td>46.000000</td>\n      <td>59.000000</td>\n      <td>731.000000</td>\n      <td>104.000000</td>\n      <td>69.000000</td>\n      <td>82.000000</td>\n      <td>194.000000</td>\n      <td>577.000000</td>\n      <td>71.000000</td>\n      <td>1.000000</td>\n    </tr>\n  </tbody>\n</table>\n</div>",
            "text/plain": "         MemberID  InpatientDays    ERVisits  OfficeVisits   Narcotics  \\\ncount  131.000000     131.000000  131.000000    131.000000  131.000000   \nmean    66.000000       2.717557    1.496183     13.229008    4.572519   \nstd     37.960506       5.099434    2.167501      9.077076    9.713615   \nmin      1.000000       0.000000    0.000000      0.000000    0.000000   \n25%     33.500000       0.000000    0.000000      7.000000    0.000000   \n50%     66.000000       0.000000    1.000000     12.000000    1.000000   \n75%     98.500000       3.000000    2.000000     18.500000    3.000000   \nmax    131.000000      30.000000   11.000000     46.000000   59.000000   \n\n       DaysSinceLastERVisit        Pain  TotalVisits  ProviderCount  \\\ncount            131.000000  131.000000   131.000000     131.000000   \nmean             480.567112   15.557252    17.442748      23.984733   \nstd              274.767240   20.418001    12.298318      13.670285   \nmin                6.000000    0.000000     0.000000       5.000000   \n25%              206.958333    1.000000     8.000000      15.000000   \n50%              640.958333    8.000000    15.000000      20.000000   \n75%              731.000000   23.000000    22.500000      30.000000   \nmax              731.000000  104.000000    69.000000      82.000000   \n\n       MedicalClaims  ClaimLines  AcuteDrugGapSmall    PoorCare  \ncount     131.000000  131.000000         131.000000  131.000000  \nmean       43.244275  142.862595           2.694656    0.251908  \nstd        28.886540   91.629921           6.983379    0.435775  \nmin        11.000000   20.000000           0.000000    0.000000  \n25%        25.500000   83.500000           0.000000    0.000000  \n50%        37.000000  120.000000           1.000000    0.000000  \n75%        49.500000  185.000000           3.000000    0.500000  \nmax       194.000000  577.000000          71.000000    1.000000  "
          },
          "metadata": {}
        }
      ]
    },
    {
      "metadata": {},
      "cell_type": "markdown",
      "source": "<p><h3><font color = Purple> Quiz 1: Create a baseline model.\n\nFind out how many patients received poor care and how many patients received good care. </font></h3></p>\n"
    },
    {
      "metadata": {
        "scrolled": true,
        "trusted": true
      },
      "cell_type": "code",
      "source": "quality.PoorCare.value_counts()",
      "execution_count": 5,
      "outputs": [
        {
          "output_type": "execute_result",
          "execution_count": 5,
          "data": {
            "text/plain": "0    98\n1    33\nName: PoorCare, dtype: int64"
          },
          "metadata": {}
        }
      ]
    },
    {
      "metadata": {},
      "cell_type": "markdown",
      "source": "<p><h4><font color = Purple>Since good care is more common than poor care, we would predict that all patients are receiving good care. <br><br>\n    We would get 98 out of the 131 observations correct, or have an accuracy of about 75%. </font></h4></p>"
    },
    {
      "metadata": {},
      "cell_type": "markdown",
      "source": "<p><h2><font color = Blue>Creating Feature matrix and Target array </font></h2></p>"
    },
    {
      "metadata": {
        "trusted": true
      },
      "cell_type": "code",
      "source": "X = quality.iloc[:,0:13]",
      "execution_count": 6,
      "outputs": []
    },
    {
      "metadata": {
        "scrolled": true,
        "trusted": true
      },
      "cell_type": "code",
      "source": "X.head()",
      "execution_count": 7,
      "outputs": [
        {
          "output_type": "execute_result",
          "execution_count": 7,
          "data": {
            "text/html": "<div>\n<style scoped>\n    .dataframe tbody tr th:only-of-type {\n        vertical-align: middle;\n    }\n\n    .dataframe tbody tr th {\n        vertical-align: top;\n    }\n\n    .dataframe thead th {\n        text-align: right;\n    }\n</style>\n<table border=\"1\" class=\"dataframe\">\n  <thead>\n    <tr style=\"text-align: right;\">\n      <th></th>\n      <th>MemberID</th>\n      <th>InpatientDays</th>\n      <th>ERVisits</th>\n      <th>OfficeVisits</th>\n      <th>Narcotics</th>\n      <th>DaysSinceLastERVisit</th>\n      <th>Pain</th>\n      <th>TotalVisits</th>\n      <th>ProviderCount</th>\n      <th>MedicalClaims</th>\n      <th>ClaimLines</th>\n      <th>StartedOnCombination</th>\n      <th>AcuteDrugGapSmall</th>\n    </tr>\n  </thead>\n  <tbody>\n    <tr>\n      <th>0</th>\n      <td>1</td>\n      <td>0</td>\n      <td>0</td>\n      <td>18</td>\n      <td>1</td>\n      <td>731.0</td>\n      <td>10</td>\n      <td>18</td>\n      <td>21</td>\n      <td>93</td>\n      <td>222</td>\n      <td>False</td>\n      <td>0</td>\n    </tr>\n    <tr>\n      <th>1</th>\n      <td>2</td>\n      <td>1</td>\n      <td>1</td>\n      <td>6</td>\n      <td>1</td>\n      <td>411.0</td>\n      <td>0</td>\n      <td>8</td>\n      <td>27</td>\n      <td>19</td>\n      <td>115</td>\n      <td>False</td>\n      <td>1</td>\n    </tr>\n    <tr>\n      <th>2</th>\n      <td>3</td>\n      <td>0</td>\n      <td>0</td>\n      <td>5</td>\n      <td>3</td>\n      <td>731.0</td>\n      <td>10</td>\n      <td>5</td>\n      <td>16</td>\n      <td>27</td>\n      <td>148</td>\n      <td>False</td>\n      <td>5</td>\n    </tr>\n    <tr>\n      <th>3</th>\n      <td>4</td>\n      <td>0</td>\n      <td>1</td>\n      <td>19</td>\n      <td>0</td>\n      <td>158.0</td>\n      <td>34</td>\n      <td>20</td>\n      <td>14</td>\n      <td>59</td>\n      <td>242</td>\n      <td>False</td>\n      <td>0</td>\n    </tr>\n    <tr>\n      <th>4</th>\n      <td>5</td>\n      <td>8</td>\n      <td>2</td>\n      <td>19</td>\n      <td>3</td>\n      <td>449.0</td>\n      <td>10</td>\n      <td>29</td>\n      <td>24</td>\n      <td>51</td>\n      <td>204</td>\n      <td>False</td>\n      <td>0</td>\n    </tr>\n  </tbody>\n</table>\n</div>",
            "text/plain": "   MemberID  InpatientDays  ERVisits  OfficeVisits  Narcotics  \\\n0         1              0         0            18          1   \n1         2              1         1             6          1   \n2         3              0         0             5          3   \n3         4              0         1            19          0   \n4         5              8         2            19          3   \n\n   DaysSinceLastERVisit  Pain  TotalVisits  ProviderCount  MedicalClaims  \\\n0                 731.0    10           18             21             93   \n1                 411.0     0            8             27             19   \n2                 731.0    10            5             16             27   \n3                 158.0    34           20             14             59   \n4                 449.0    10           29             24             51   \n\n   ClaimLines  StartedOnCombination  AcuteDrugGapSmall  \n0         222                 False                  0  \n1         115                 False                  1  \n2         148                 False                  5  \n3         242                 False                  0  \n4         204                 False                  0  "
          },
          "metadata": {}
        }
      ]
    },
    {
      "metadata": {
        "trusted": true
      },
      "cell_type": "code",
      "source": "y = quality['PoorCare']",
      "execution_count": 8,
      "outputs": []
    },
    {
      "metadata": {
        "trusted": true
      },
      "cell_type": "code",
      "source": "y.head()",
      "execution_count": 9,
      "outputs": [
        {
          "output_type": "execute_result",
          "execution_count": 9,
          "data": {
            "text/plain": "0    0\n1    0\n2    0\n3    0\n4    0\nName: PoorCare, dtype: int64"
          },
          "metadata": {}
        }
      ]
    },
    {
      "metadata": {},
      "cell_type": "markdown",
      "source": "<p><h2><font color = Blue>Splitting data into train and test  </font></h2></p>"
    },
    {
      "metadata": {
        "trusted": true
      },
      "cell_type": "code",
      "source": "train_test_split?",
      "execution_count": 10,
      "outputs": []
    },
    {
      "metadata": {
        "trusted": true
      },
      "cell_type": "code",
      "source": "X_train, X_test, y_train, y_test = train_test_split(X,y,test_size=0.3, random_state=88, stratify=y)",
      "execution_count": 11,
      "outputs": []
    },
    {
      "metadata": {
        "trusted": true
      },
      "cell_type": "code",
      "source": "X_train.shape",
      "execution_count": 12,
      "outputs": [
        {
          "output_type": "execute_result",
          "execution_count": 12,
          "data": {
            "text/plain": "(91, 13)"
          },
          "metadata": {}
        }
      ]
    },
    {
      "metadata": {
        "trusted": true
      },
      "cell_type": "code",
      "source": "y_train.shape",
      "execution_count": 13,
      "outputs": [
        {
          "output_type": "execute_result",
          "execution_count": 13,
          "data": {
            "text/plain": "(91,)"
          },
          "metadata": {}
        }
      ]
    },
    {
      "metadata": {
        "trusted": true
      },
      "cell_type": "code",
      "source": "X_test.shape",
      "execution_count": 14,
      "outputs": [
        {
          "output_type": "execute_result",
          "execution_count": 14,
          "data": {
            "text/plain": "(40, 13)"
          },
          "metadata": {}
        }
      ]
    },
    {
      "metadata": {
        "trusted": true
      },
      "cell_type": "code",
      "source": "y_test.shape",
      "execution_count": 15,
      "outputs": [
        {
          "output_type": "execute_result",
          "execution_count": 15,
          "data": {
            "text/plain": "(40,)"
          },
          "metadata": {}
        }
      ]
    },
    {
      "metadata": {
        "trusted": true
      },
      "cell_type": "code",
      "source": "y_train.value_counts()",
      "execution_count": 16,
      "outputs": [
        {
          "output_type": "execute_result",
          "execution_count": 16,
          "data": {
            "text/plain": "0    68\n1    23\nName: PoorCare, dtype: int64"
          },
          "metadata": {}
        }
      ]
    },
    {
      "metadata": {
        "trusted": true
      },
      "cell_type": "code",
      "source": "y_test.value_counts()",
      "execution_count": 17,
      "outputs": [
        {
          "output_type": "execute_result",
          "execution_count": 17,
          "data": {
            "text/plain": "0    30\n1    10\nName: PoorCare, dtype: int64"
          },
          "metadata": {}
        }
      ]
    },
    {
      "metadata": {},
      "cell_type": "markdown",
      "source": "<p><h2><font color = Blue>Building the Model  </font></h2></p>"
    },
    {
      "metadata": {
        "trusted": true
      },
      "cell_type": "code",
      "source": "model = LogisticRegression()  # create an instance of logistic regression",
      "execution_count": 18,
      "outputs": []
    },
    {
      "metadata": {
        "trusted": true
      },
      "cell_type": "code",
      "source": "model.fit(X_train[['Narcotics','OfficeVisits']],y_train)  # building model on PoorCare ~ Narcotics + OfficeVisits ",
      "execution_count": 19,
      "outputs": [
        {
          "output_type": "stream",
          "text": "/home/nbuser/anaconda3_501/lib/python3.6/site-packages/sklearn/linear_model/logistic.py:433: FutureWarning: Default solver will be changed to 'lbfgs' in 0.22. Specify a solver to silence this warning.\n  FutureWarning)\n",
          "name": "stderr"
        },
        {
          "output_type": "execute_result",
          "execution_count": 19,
          "data": {
            "text/plain": "LogisticRegression(C=1.0, class_weight=None, dual=False, fit_intercept=True,\n          intercept_scaling=1, max_iter=100, multi_class='warn',\n          n_jobs=None, penalty='l2', random_state=None, solver='warn',\n          tol=0.0001, verbose=0, warm_start=False)"
          },
          "metadata": {}
        }
      ]
    },
    {
      "metadata": {
        "trusted": true
      },
      "cell_type": "code",
      "source": "model.score(X_train[['Narcotics','OfficeVisits']],y_train)   # Accuracy score for train",
      "execution_count": 20,
      "outputs": [
        {
          "output_type": "execute_result",
          "execution_count": 20,
          "data": {
            "text/plain": "0.8241758241758241"
          },
          "metadata": {}
        }
      ]
    },
    {
      "metadata": {
        "trusted": true
      },
      "cell_type": "code",
      "source": "sns.lmplot(\"Narcotics\",\"OfficeVisits\",quality, fit_reg=False,hue=\"PoorCare\",height=5, legend=True)\nplt.title(\"Model 1 Visualization\")",
      "execution_count": 21,
      "outputs": [
        {
          "output_type": "execute_result",
          "execution_count": 21,
          "data": {
            "text/plain": "Text(0.5, 1.0, 'Model 1 Visualization')"
          },
          "metadata": {}
        },
        {
          "output_type": "display_data",
          "data": {
            "image/png": "[encoded data removed]",
            "text/plain": "<Figure size 413.375x360 with 1 Axes>"
          },
          "metadata": {
            "needs_background": "light"
          }
        }
      ]
    },
    {
      "metadata": {},
      "cell_type": "markdown",
      "source": "<p><h2><font color = Blue>Predictions on Train  </font></h2></p>"
    },
    {
      "metadata": {
        "trusted": true
      },
      "cell_type": "code",
      "source": "y_pred_train =model.predict(X_train[['Narcotics','OfficeVisits']])\ny_pred_train",
      "execution_count": 22,
      "outputs": [
        {
          "output_type": "execute_result",
          "execution_count": 22,
          "data": {
            "text/plain": "array([0, 0, 0, 0, 0, 0, 1, 0, 0, 0, 0, 0, 0, 0, 0, 0, 0, 0, 0, 0, 0, 0,\n       0, 0, 0, 0, 0, 1, 1, 0, 0, 0, 0, 0, 0, 0, 0, 0, 0, 0, 0, 0, 0, 0,\n       0, 0, 0, 0, 0, 0, 1, 0, 0, 1, 0, 0, 0, 0, 0, 0, 0, 1, 1, 0, 1, 0,\n       0, 0, 0, 0, 0, 0, 0, 0, 1, 0, 0, 1, 0, 0, 0, 0, 0, 0, 0, 1, 0, 0,\n       0, 0, 0])"
          },
          "metadata": {}
        }
      ]
    },
    {
      "metadata": {
        "trusted": true
      },
      "cell_type": "code",
      "source": "y_train",
      "execution_count": 23,
      "outputs": [
        {
          "output_type": "execute_result",
          "execution_count": 23,
          "data": {
            "text/plain": "85     0\n18     0\n124    1\n120    0\n118    0\n88     0\n58     0\n22     0\n81     0\n76     0\n80     0\n112    0\n68     0\n33     0\n93     0\n56     0\n30     0\n7      0\n100    1\n39     0\n59     1\n94     0\n48     0\n35     0\n27     1\n84     1\n125    0\n113    1\n57     0\n99     0\n      ..\n83     1\n45     1\n16     0\n109    1\n17     1\n8      1\n70     0\n67     0\n102    1\n41     0\n24     0\n62     0\n32     0\n105    1\n37     0\n103    1\n104    1\n78     0\n69     0\n73     0\n54     0\n74     0\n11     0\n96     0\n61     1\n36     0\n51     0\n92     0\n122    0\n77     0\nName: PoorCare, Length: 91, dtype: int64"
          },
          "metadata": {}
        }
      ]
    },
    {
      "metadata": {},
      "cell_type": "markdown",
      "source": "<img src = https://dim-mlp-images.s3.amazonaws.com/Chapter4/ConfusionMatrix.png>\nTN:- Actually good care and for which we predict good care. <br>\nTP:- Actually Poor care and for which we predict poor care. <br>\nFP :- Predict poor care, but they're actually good care. <br>\nFN:- Predict good care, but they're actually poor care . <br>"
    },
    {
      "metadata": {
        "trusted": true
      },
      "cell_type": "code",
      "source": "confusion_matrix(y_train, y_pred_train)    # create a confusion matrix ",
      "execution_count": 24,
      "outputs": [
        {
          "output_type": "execute_result",
          "execution_count": 24,
          "data": {
            "text/plain": "array([[66,  2],\n       [14,  9]])"
          },
          "metadata": {}
        }
      ]
    },
    {
      "metadata": {
        "trusted": true
      },
      "cell_type": "code",
      "source": "acc_score = (66+9)/91\nacc_score",
      "execution_count": 25,
      "outputs": [
        {
          "output_type": "execute_result",
          "execution_count": 25,
          "data": {
            "text/plain": "0.8241758241758241"
          },
          "metadata": {}
        }
      ]
    },
    {
      "metadata": {
        "trusted": true
      },
      "cell_type": "code",
      "source": "accuracy_score(y_train, y_pred_train)    # calculates the accuracy score",
      "execution_count": 26,
      "outputs": [
        {
          "output_type": "execute_result",
          "execution_count": 26,
          "data": {
            "text/plain": "0.8241758241758241"
          },
          "metadata": {}
        }
      ]
    },
    {
      "metadata": {
        "trusted": true
      },
      "cell_type": "code",
      "source": "sensitivity = (9/(9+14))\nsensitivity",
      "execution_count": 27,
      "outputs": [
        {
          "output_type": "execute_result",
          "execution_count": 27,
          "data": {
            "text/plain": "0.391304347826087"
          },
          "metadata": {}
        }
      ]
    },
    {
      "metadata": {
        "trusted": true
      },
      "cell_type": "code",
      "source": "specificity = (66/(66+2))\nspecificity",
      "execution_count": 28,
      "outputs": [
        {
          "output_type": "execute_result",
          "execution_count": 28,
          "data": {
            "text/plain": "0.9705882352941176"
          },
          "metadata": {}
        }
      ]
    },
    {
      "metadata": {
        "trusted": true
      },
      "cell_type": "code",
      "source": "precision_score(y_train, y_pred_train)",
      "execution_count": 29,
      "outputs": [
        {
          "output_type": "execute_result",
          "execution_count": 29,
          "data": {
            "text/plain": "0.8181818181818182"
          },
          "metadata": {}
        }
      ]
    },
    {
      "metadata": {
        "trusted": true
      },
      "cell_type": "code",
      "source": "recall_score(y_train, y_pred_train)",
      "execution_count": 30,
      "outputs": [
        {
          "output_type": "execute_result",
          "execution_count": 30,
          "data": {
            "text/plain": "0.391304347826087"
          },
          "metadata": {}
        }
      ]
    },
    {
      "metadata": {
        "trusted": true
      },
      "cell_type": "code",
      "source": "summary =classification_report(y_train, y_pred_train)\nprint(summary)",
      "execution_count": 31,
      "outputs": [
        {
          "output_type": "stream",
          "text": "              precision    recall  f1-score   support\n\n           0       0.82      0.97      0.89        68\n           1       0.82      0.39      0.53        23\n\n   micro avg       0.82      0.82      0.82        91\n   macro avg       0.82      0.68      0.71        91\nweighted avg       0.82      0.82      0.80        91\n\n",
          "name": "stdout"
        }
      ]
    },
    {
      "metadata": {},
      "cell_type": "markdown",
      "source": "<p><h2><font color = Blue>Thresholding  </font></h2></p>"
    },
    {
      "metadata": {},
      "cell_type": "markdown",
      "source": "<p><h4><font color=purple> Did this patient receive poor care or good care</font></h4><p>\n    \n<font color = brown> <b>We can do this using a threshold value t: </b></font>\n<ul>\n    <li> If P(PoorCare = 1) = t, predict poor quality </li>\n    <li> If P(PoorCare = 1) &lt; t, predict good quality </li> </ul>\n    \n<font color = brown> <b>If t is large, predict poor care rarely (when P(y=1) is large)</b></font> </li>\n    <ul><li> More errors where we say good care, but it is actually poor care </li>\n        <li> Detects patients who are receiving the worst care </li></ul>\n<font color = brown> <b>If t is small, predict good care rarely (when P(y=1) is small)</b></font></li>\n<ul><li>More errors where we say poor care, but it is actually good care </li>\n<li>Detects all patients who might be receiving poor care </li></ul>\n\n<font color = brown> <b>With no preference between the errors, select t = 0.5</b></font>\n<ul><li>Predicts the more likely outcome</li>"
    },
    {
      "metadata": {
        "trusted": true
      },
      "cell_type": "code",
      "source": "pred_train_prob = model.predict_proba(X_train[['Narcotics','OfficeVisits']])\npred_train_prob[:5]",
      "execution_count": 32,
      "outputs": [
        {
          "output_type": "execute_result",
          "execution_count": 32,
          "data": {
            "text/plain": "array([[0.81612454, 0.18387546],\n       [0.83341812, 0.16658188],\n       [0.84784713, 0.15215287],\n       [0.80878721, 0.19121279],\n       [0.67558948, 0.32441052]])"
          },
          "metadata": {}
        }
      ]
    },
    {
      "metadata": {
        "trusted": true
      },
      "cell_type": "code",
      "source": "pred_t_0_3 = np.where(pred_train_prob[:,1]>=0.3,1,0)\npred_t_0_3",
      "execution_count": 33,
      "outputs": [
        {
          "output_type": "execute_result",
          "execution_count": 33,
          "data": {
            "text/plain": "array([0, 0, 0, 0, 1, 0, 1, 0, 0, 0, 0, 0, 0, 0, 0, 0, 0, 0, 0, 0, 0, 0,\n       0, 0, 0, 0, 0, 1, 1, 0, 0, 0, 0, 0, 0, 0, 0, 1, 0, 0, 0, 0, 0, 0,\n       0, 0, 0, 0, 0, 0, 1, 0, 0, 1, 0, 0, 0, 0, 0, 0, 0, 1, 1, 0, 1, 0,\n       0, 0, 0, 0, 0, 0, 0, 0, 1, 0, 1, 1, 0, 0, 0, 0, 0, 0, 0, 1, 0, 0,\n       0, 0, 0])"
          },
          "metadata": {}
        }
      ]
    },
    {
      "metadata": {
        "trusted": true
      },
      "cell_type": "code",
      "source": "confusion_matrix(y_train,pred_t_0_3)",
      "execution_count": 34,
      "outputs": [
        {
          "output_type": "execute_result",
          "execution_count": 34,
          "data": {
            "text/plain": "array([[64,  4],\n       [13, 10]])"
          },
          "metadata": {}
        }
      ]
    },
    {
      "metadata": {
        "trusted": true
      },
      "cell_type": "code",
      "source": "accuracy = (64+10)/91\naccuracy",
      "execution_count": 35,
      "outputs": [
        {
          "output_type": "execute_result",
          "execution_count": 35,
          "data": {
            "text/plain": "0.8131868131868132"
          },
          "metadata": {}
        }
      ]
    },
    {
      "metadata": {
        "trusted": true
      },
      "cell_type": "code",
      "source": "sens = 10/(10+13)\nsens",
      "execution_count": 36,
      "outputs": [
        {
          "output_type": "execute_result",
          "execution_count": 36,
          "data": {
            "text/plain": "0.43478260869565216"
          },
          "metadata": {}
        }
      ]
    },
    {
      "metadata": {
        "trusted": true
      },
      "cell_type": "code",
      "source": "spec = 64/68\nspec",
      "execution_count": 37,
      "outputs": [
        {
          "output_type": "execute_result",
          "execution_count": 37,
          "data": {
            "text/plain": "0.9411764705882353"
          },
          "metadata": {}
        }
      ]
    },
    {
      "metadata": {
        "trusted": true
      },
      "cell_type": "code",
      "source": "print(classification_report(y_train,pred_t_0_3))",
      "execution_count": 38,
      "outputs": [
        {
          "output_type": "stream",
          "text": "              precision    recall  f1-score   support\n\n           0       0.83      0.94      0.88        68\n           1       0.71      0.43      0.54        23\n\n   micro avg       0.81      0.81      0.81        91\n   macro avg       0.77      0.69      0.71        91\nweighted avg       0.80      0.81      0.80        91\n\n",
          "name": "stdout"
        }
      ]
    },
    {
      "metadata": {
        "trusted": true
      },
      "cell_type": "code",
      "source": "pred_t_0_7 = np.where(pred_train_prob[:,1]>=0.7,1,0)\npred_t_0_7",
      "execution_count": 39,
      "outputs": [
        {
          "output_type": "execute_result",
          "execution_count": 39,
          "data": {
            "text/plain": "array([0, 0, 0, 0, 0, 0, 0, 0, 0, 0, 0, 0, 0, 0, 0, 0, 0, 0, 0, 0, 0, 0,\n       0, 0, 0, 0, 0, 1, 1, 0, 0, 0, 0, 0, 0, 0, 0, 0, 0, 0, 0, 0, 0, 0,\n       0, 0, 0, 0, 0, 0, 1, 0, 0, 1, 0, 0, 0, 0, 0, 0, 0, 1, 1, 0, 0, 0,\n       0, 0, 0, 0, 0, 0, 0, 0, 1, 0, 0, 1, 0, 0, 0, 0, 0, 0, 0, 1, 0, 0,\n       0, 0, 0])"
          },
          "metadata": {}
        }
      ]
    },
    {
      "metadata": {
        "trusted": true
      },
      "cell_type": "code",
      "source": "confusion_matrix(y_train,pred_t_0_7)",
      "execution_count": 40,
      "outputs": [
        {
          "output_type": "execute_result",
          "execution_count": 40,
          "data": {
            "text/plain": "array([[67,  1],\n       [15,  8]])"
          },
          "metadata": {}
        }
      ]
    },
    {
      "metadata": {
        "trusted": true
      },
      "cell_type": "code",
      "source": "accuracy = (67+8)/91\naccuracy",
      "execution_count": 41,
      "outputs": [
        {
          "output_type": "execute_result",
          "execution_count": 41,
          "data": {
            "text/plain": "0.8241758241758241"
          },
          "metadata": {}
        }
      ]
    },
    {
      "metadata": {
        "trusted": true
      },
      "cell_type": "code",
      "source": "sens = 8/(15+8)\nsens",
      "execution_count": 42,
      "outputs": [
        {
          "output_type": "execute_result",
          "execution_count": 42,
          "data": {
            "text/plain": "0.34782608695652173"
          },
          "metadata": {}
        }
      ]
    },
    {
      "metadata": {
        "trusted": true
      },
      "cell_type": "code",
      "source": "spec = 67/68\nspec",
      "execution_count": 43,
      "outputs": [
        {
          "output_type": "execute_result",
          "execution_count": 43,
          "data": {
            "text/plain": "0.9852941176470589"
          },
          "metadata": {}
        }
      ]
    },
    {
      "metadata": {},
      "cell_type": "markdown",
      "source": "<p><h3><font color = Blue> Plot Receiver Operator Characteristic (ROC) Curve </font></h3></p>"
    },
    {
      "metadata": {},
      "cell_type": "markdown",
      "source": "The line shows how the two outcome measures vary with different threshold values.\n\n<ul><li>True positive rate (sensitivity) on y-axis </li> \n    <ul><li>Proportion of poor care caught </li></ul></ul>\n<ul><li>False positive rate (1-specificity) on x-axis </li> \n <ul><li>Proportion of good care labeled as poor care. </li></ul></ul>\n\n<img src = \"https://dim-mlp-images.s3.amazonaws.com/Chapter4/ROCcurve.png\">\n\n<ul>\n    <li><b>The ROC curve always starts at the point (0, 0). This corresponds to a threshold value of 1. </b></li>\n    <ul><li>If threshold is 1, you will not catch any poor care cases, or have a sensitivity of 0. But you will correctly label all the good care cases, meaning you have a false positive rate of 0. </li></ul>\n<br>\n   <li><b> The ROC curve always ends at the point (1,1) which corresponds to a threshold value of 0.</b> </li>\n    <ul><li> If threshold of 0, you'll catch all of the poor care cases, or have a sensitivity of 1, but you'll label all of the good care cases as poor care cases too, meaning you have a false positive rate of 1.</li></ul>\n<br>    \n <li> <b>The threshold decreases as you move from (0,0) to (1,1). </b></li>\n    <ul><li> At the point (0, 0.4), you're correctly labelling about 40% of the poor care cases with a very small false positive rate. </li> \n    <li> On the other hand, at the point (0.6, 0.9), you're correctly labeling about 90% of the poor care cases, but have a false positive rate of 60%. </li>\n    <li>In the middle, around (0.3, 0.8), you're correctly labeling about 80% of the poor care cases, with a 30% false positive rate.</li> </ul>"
    },
    {
      "metadata": {
        "trusted": true
      },
      "cell_type": "code",
      "source": "roc_curve?",
      "execution_count": 44,
      "outputs": []
    },
    {
      "metadata": {
        "trusted": true
      },
      "cell_type": "code",
      "source": "fpr,tpr,t = roc_curve(y_train, pred_train_prob[:,1],pos_label=1)",
      "execution_count": 45,
      "outputs": []
    },
    {
      "metadata": {
        "trusted": true
      },
      "cell_type": "code",
      "source": "t[0]=1\nt",
      "execution_count": 46,
      "outputs": [
        {
          "output_type": "execute_result",
          "execution_count": 46,
          "data": {
            "text/plain": "array([1.        , 0.99000921, 0.96141774, 0.87338633, 0.74625033,\n       0.73240692, 0.67751769, 0.59450976, 0.36500586, 0.27890534,\n       0.25084462, 0.2375389 , 0.23537706, 0.22691265, 0.21446853,\n       0.2125022 , 0.20847876, 0.20068548, 0.19687147, 0.19494377,\n       0.19311244, 0.19121279, 0.18757669, 0.18749646, 0.18387546,\n       0.18212458, 0.18030886, 0.1785459 , 0.17679646, 0.17509853,\n       0.1750605 , 0.17333801, 0.17166637, 0.16993324, 0.16825091,\n       0.16658188, 0.16496239, 0.16492613, 0.15370399, 0.14757651,\n       0.1211864 ])"
          },
          "metadata": {}
        }
      ]
    },
    {
      "metadata": {
        "trusted": true
      },
      "cell_type": "code",
      "source": "fpr",
      "execution_count": 47,
      "outputs": [
        {
          "output_type": "execute_result",
          "execution_count": 47,
          "data": {
            "text/plain": "array([0.        , 0.        , 0.        , 0.01470588, 0.01470588,\n       0.01470588, 0.01470588, 0.02941176, 0.02941176, 0.08823529,\n       0.11764706, 0.11764706, 0.16176471, 0.20588235, 0.26470588,\n       0.27941176, 0.29411765, 0.33823529, 0.33823529, 0.36764706,\n       0.36764706, 0.39705882, 0.42647059, 0.45588235, 0.48529412,\n       0.51470588, 0.57352941, 0.61764706, 0.69117647, 0.72058824,\n       0.76470588, 0.79411765, 0.80882353, 0.83823529, 0.83823529,\n       0.86764706, 0.88235294, 0.92647059, 0.97058824, 0.97058824,\n       1.        ])"
          },
          "metadata": {}
        }
      ]
    },
    {
      "metadata": {
        "trusted": true
      },
      "cell_type": "code",
      "source": "tpr",
      "execution_count": 48,
      "outputs": [
        {
          "output_type": "execute_result",
          "execution_count": 48,
          "data": {
            "text/plain": "array([0.        , 0.04347826, 0.08695652, 0.08695652, 0.26086957,\n       0.34782609, 0.39130435, 0.39130435, 0.43478261, 0.43478261,\n       0.43478261, 0.47826087, 0.47826087, 0.47826087, 0.56521739,\n       0.56521739, 0.60869565, 0.60869565, 0.65217391, 0.65217391,\n       0.69565217, 0.69565217, 0.69565217, 0.69565217, 0.69565217,\n       0.7826087 , 0.7826087 , 0.7826087 , 0.7826087 , 0.7826087 ,\n       0.82608696, 0.82608696, 0.86956522, 0.86956522, 0.91304348,\n       0.91304348, 0.91304348, 0.91304348, 0.91304348, 1.        ,\n       1.        ])"
          },
          "metadata": {}
        }
      ]
    },
    {
      "metadata": {
        "trusted": true
      },
      "cell_type": "code",
      "source": "#plt.plot(fpr,tpr)\n%matplotlib inline\n#plt.figure(figsize=(5,5))\nplt.scatter(fpr,tpr,c=t,s=100)\nplt.colorbar(ticks=np.arange(0,1,0.1))\n#plt.annotate(t,(fpr,tpr))\n#ax = plt.gca()\n#ax.annotate()",
      "execution_count": 49,
      "outputs": [
        {
          "output_type": "execute_result",
          "execution_count": 49,
          "data": {
            "text/plain": "<matplotlib.colorbar.Colorbar at 0x7f5a0efd4da0>"
          },
          "metadata": {}
        },
        {
          "output_type": "display_data",
          "data": {
            "image/png": "[encoded data removed]",
            "text/plain": "<Figure size 432x288 with 2 Axes>"
          },
          "metadata": {
            "needs_background": "light"
          }
        }
      ]
    },
    {
      "metadata": {},
      "cell_type": "markdown",
      "source": "<p><h3><font color = Purple> Quiz 2: Selecting Threshold\n    \n  <img src = https://dim-mlp-images.s3.amazonaws.com/Chapter4/ROCQuiz1.png width =500 height=600>    \nWhich threshold would you pick if you wanted to correctly identify a small group of patients who are receiving the worst care with high confidence? </font></h3></p>\n<p><h4><b><font color = purple>\n1. 0.2 <br><br>\n2. 0.3 <br><br>\n3. 0.7 <br><br>\n4. 0.8 <br><br>\n    </font></b></h4></p>\n"
    },
    {
      "metadata": {},
      "cell_type": "markdown",
      "source": "<p><h3><font color = Purple> Quiz 3: Selecting Threshold\n<img src = https://dim-mlp-images.s3.amazonaws.com/Chapter4/ROCQuiz1.png width =500 height=600>    \nWhich threshold would you pick if you wanted to correctly identify half of the patients receiving poor care, while making as few errors as possible? </font></h3></p>\n<p><h4><b><font color = purple>\n1. 0.2 <br><br>\n2. 0.3 <br><br>\n3. 0.7 <br><br>\n4. 0.8 <br><br>\n    </font></b></h4></p>"
    },
    {
      "metadata": {},
      "cell_type": "markdown",
      "source": "<p><h3><font color = Blue> Applying Threshold on predictions </font></h3></p>"
    },
    {
      "metadata": {
        "trusted": true
      },
      "cell_type": "code",
      "source": "pred_t_train = np.where(pred_train_prob[:,1]>0.3,1,0)\npred_t_train",
      "execution_count": 50,
      "outputs": [
        {
          "output_type": "execute_result",
          "execution_count": 50,
          "data": {
            "text/plain": "array([0, 0, 0, 0, 1, 0, 1, 0, 0, 0, 0, 0, 0, 0, 0, 0, 0, 0, 0, 0, 0, 0,\n       0, 0, 0, 0, 0, 1, 1, 0, 0, 0, 0, 0, 0, 0, 0, 1, 0, 0, 0, 0, 0, 0,\n       0, 0, 0, 0, 0, 0, 1, 0, 0, 1, 0, 0, 0, 0, 0, 0, 0, 1, 1, 0, 1, 0,\n       0, 0, 0, 0, 0, 0, 0, 0, 1, 0, 1, 1, 0, 0, 0, 0, 0, 0, 0, 1, 0, 0,\n       0, 0, 0])"
          },
          "metadata": {}
        }
      ]
    },
    {
      "metadata": {
        "trusted": true
      },
      "cell_type": "code",
      "source": "confusion_matrix(y_train, pred_t_train) ",
      "execution_count": 51,
      "outputs": [
        {
          "output_type": "execute_result",
          "execution_count": 51,
          "data": {
            "text/plain": "array([[64,  4],\n       [13, 10]])"
          },
          "metadata": {}
        }
      ]
    },
    {
      "metadata": {
        "trusted": true
      },
      "cell_type": "code",
      "source": "accuracy_score(y_train, pred_t_train)",
      "execution_count": 52,
      "outputs": [
        {
          "output_type": "execute_result",
          "execution_count": 52,
          "data": {
            "text/plain": "0.8131868131868132"
          },
          "metadata": {}
        }
      ]
    },
    {
      "metadata": {
        "trusted": true
      },
      "cell_type": "code",
      "source": "auc(fpr,tpr)    # Area under Curve for the model",
      "execution_count": 65,
      "outputs": [
        {
          "output_type": "execute_result",
          "execution_count": 65,
          "data": {
            "text/plain": "0.6940537084398977"
          },
          "metadata": {}
        }
      ]
    },
    {
      "metadata": {},
      "cell_type": "markdown",
      "source": "<p><h3><font color = Blue> Predictions on Test Data </font></h3></p>"
    },
    {
      "metadata": {
        "trusted": true
      },
      "cell_type": "code",
      "source": "model.score(X_test[['Narcotics','OfficeVisits']],y_test)   # Accuracy score for test",
      "execution_count": 54,
      "outputs": [
        {
          "output_type": "execute_result",
          "execution_count": 54,
          "data": {
            "text/plain": "0.8"
          },
          "metadata": {}
        }
      ]
    },
    {
      "metadata": {
        "trusted": true
      },
      "cell_type": "code",
      "source": "pred_test = model.predict(X_test[['Narcotics','OfficeVisits']])\npred_test",
      "execution_count": 55,
      "outputs": [
        {
          "output_type": "execute_result",
          "execution_count": 55,
          "data": {
            "text/plain": "array([0, 0, 0, 0, 0, 0, 0, 0, 0, 0, 0, 0, 0, 0, 0, 0, 1, 0, 1, 0, 0, 0,\n       0, 0, 0, 0, 0, 0, 0, 0, 0, 0, 0, 0, 0, 0, 0, 0, 0, 0])"
          },
          "metadata": {}
        }
      ]
    },
    {
      "metadata": {
        "trusted": true
      },
      "cell_type": "code",
      "source": "confusion_matrix(y_test, pred_test)",
      "execution_count": 56,
      "outputs": [
        {
          "output_type": "execute_result",
          "execution_count": 56,
          "data": {
            "text/plain": "array([[30,  0],\n       [ 8,  2]])"
          },
          "metadata": {}
        }
      ]
    },
    {
      "metadata": {
        "trusted": true
      },
      "cell_type": "code",
      "source": "accuracy_score(y_test,pred_test)",
      "execution_count": 57,
      "outputs": [
        {
          "output_type": "execute_result",
          "execution_count": 57,
          "data": {
            "text/plain": "0.8"
          },
          "metadata": {}
        }
      ]
    },
    {
      "metadata": {
        "trusted": true
      },
      "cell_type": "code",
      "source": "pred_test_prob = model.predict_proba(X_test[['Narcotics','OfficeVisits']])\npred_test_prob[:5,]",
      "execution_count": 58,
      "outputs": [
        {
          "output_type": "execute_result",
          "execution_count": 58,
          "data": {
            "text/plain": "array([[0.78350729, 0.21649271],\n       [0.8553456 , 0.1446544 ],\n       [0.80692858, 0.19307142],\n       [0.8214541 , 0.1785459 ],\n       [0.8214541 , 0.1785459 ]])"
          },
          "metadata": {}
        }
      ]
    },
    {
      "metadata": {
        "trusted": true
      },
      "cell_type": "code",
      "source": "pred_t= pred_test_prob[:,1]>0.3\npred_t",
      "execution_count": 59,
      "outputs": [
        {
          "output_type": "execute_result",
          "execution_count": 59,
          "data": {
            "text/plain": "array([False, False, False, False, False, False, False, False, False,\n       False, False, False, False, False, False, False,  True, False,\n        True,  True, False, False, False,  True, False, False, False,\n       False, False, False, False,  True, False, False, False, False,\n       False, False, False,  True])"
          },
          "metadata": {}
        }
      ]
    },
    {
      "metadata": {
        "trusted": true
      },
      "cell_type": "code",
      "source": "pred_t_test = np.where(pred_test_prob[:,1]>0.3,1,0)\npred_t_test",
      "execution_count": 60,
      "outputs": [
        {
          "output_type": "execute_result",
          "execution_count": 60,
          "data": {
            "text/plain": "array([0, 0, 0, 0, 0, 0, 0, 0, 0, 0, 0, 0, 0, 0, 0, 0, 1, 0, 1, 1, 0, 0,\n       0, 1, 0, 0, 0, 0, 0, 0, 0, 1, 0, 0, 0, 0, 0, 0, 0, 1])"
          },
          "metadata": {}
        }
      ]
    },
    {
      "metadata": {
        "trusted": true
      },
      "cell_type": "code",
      "source": "confusion_matrix(y_test, pred_t_test)",
      "execution_count": 61,
      "outputs": [
        {
          "output_type": "execute_result",
          "execution_count": 61,
          "data": {
            "text/plain": "array([[27,  3],\n       [ 7,  3]])"
          },
          "metadata": {}
        }
      ]
    },
    {
      "metadata": {
        "trusted": true
      },
      "cell_type": "code",
      "source": "accuracy_score(y_test, pred_t_test)",
      "execution_count": 62,
      "outputs": [
        {
          "output_type": "execute_result",
          "execution_count": 62,
          "data": {
            "text/plain": "0.75"
          },
          "metadata": {}
        }
      ]
    },
    {
      "metadata": {
        "trusted": true
      },
      "cell_type": "code",
      "source": "sens = 3/10\nsens",
      "execution_count": 63,
      "outputs": [
        {
          "output_type": "execute_result",
          "execution_count": 63,
          "data": {
            "text/plain": "0.3"
          },
          "metadata": {}
        }
      ]
    },
    {
      "metadata": {
        "trusted": true
      },
      "cell_type": "code",
      "source": "spec = 27/30\nspec",
      "execution_count": 64,
      "outputs": [
        {
          "output_type": "execute_result",
          "execution_count": 64,
          "data": {
            "text/plain": "0.9"
          },
          "metadata": {}
        }
      ]
    },
    {
      "metadata": {
        "trusted": true
      },
      "cell_type": "code",
      "source": "fpr,tpr,t = roc_curve(y_test, pred_test_prob[:,1],pos_label=1)\n",
      "execution_count": 69,
      "outputs": []
    },
    {
      "metadata": {
        "trusted": true
      },
      "cell_type": "code",
      "source": "auc(fpr,tpr)",
      "execution_count": 70,
      "outputs": [
        {
          "output_type": "execute_result",
          "execution_count": 70,
          "data": {
            "text/plain": "0.5566666666666666"
          },
          "metadata": {}
        }
      ]
    }
  ],
  "metadata": {
    "kernelspec": {
      "name": "python36",
      "display_name": "Python 3.6",
      "language": "python"
    },
    "language_info": {
      "mimetype": "text/x-python",
      "nbconvert_exporter": "python",
      "name": "python",
      "pygments_lexer": "ipython3",
      "version": "3.6.6",
      "file_extension": ".py",
      "codemirror_mode": {
        "version": 3,
        "name": "ipython"
      }
    }
  },
  "nbformat": 4,
  "nbformat_minor": 2
}