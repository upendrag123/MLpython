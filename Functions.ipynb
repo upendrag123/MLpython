{
  "cells": [
    {
      "metadata": {},
      "cell_type": "markdown",
      "source": "## Functions\n1. Built-in Functions\n2. User defined Functions"
    },
    {
      "metadata": {
        "trusted": true
      },
      "cell_type": "code",
      "source": "result = max('Hello world')             # apply a in-built function max() on 'Hello world' and returns the maximum character \nprint(result)",
      "execution_count": 1,
      "outputs": [
        {
          "output_type": "stream",
          "text": "w\n",
          "name": "stdout"
        }
      ]
    },
    {
      "metadata": {
        "trusted": true
      },
      "cell_type": "code",
      "source": "def thing():                            # define a function thing that prints \"Hello\" and \"Fun\"\n    print(\"Hello\")\n    print(\"Fun\")",
      "execution_count": 8,
      "outputs": []
    },
    {
      "metadata": {
        "trusted": true
      },
      "cell_type": "code",
      "source": "type(thing)                             ",
      "execution_count": 3,
      "outputs": [
        {
          "output_type": "execute_result",
          "execution_count": 3,
          "data": {
            "text/plain": "function"
          },
          "metadata": {}
        }
      ]
    },
    {
      "metadata": {
        "trusted": true
      },
      "cell_type": "code",
      "source": "thing()                              # Function call",
      "execution_count": 9,
      "outputs": [
        {
          "output_type": "stream",
          "text": "Hello\nFun\n",
          "name": "stdout"
        }
      ]
    },
    {
      "metadata": {
        "trusted": true
      },
      "cell_type": "code",
      "source": "thing = 10                           # variables used to define a function acts as a new reserved keywords",
      "execution_count": 5,
      "outputs": []
    },
    {
      "metadata": {
        "trusted": true
      },
      "cell_type": "code",
      "source": "type(thing)",
      "execution_count": 6,
      "outputs": [
        {
          "output_type": "execute_result",
          "execution_count": 6,
          "data": {
            "text/plain": "int"
          },
          "metadata": {}
        }
      ]
    },
    {
      "metadata": {
        "trusted": true
      },
      "cell_type": "code",
      "source": "thing()",
      "execution_count": 10,
      "outputs": [
        {
          "output_type": "stream",
          "text": "Hello\nFun\n",
          "name": "stdout"
        }
      ]
    },
    {
      "metadata": {
        "trusted": true
      },
      "cell_type": "code",
      "source": "def greet(lang):\n    if lang == 'es':\n        return (\"Hola\")\n    elif lang == 'fr':\n        return (\"Bonjour\")\n    else:\n        return (\"Hello\")",
      "execution_count": 11,
      "outputs": []
    },
    {
      "metadata": {
        "trusted": true
      },
      "cell_type": "code",
      "source": "greet('en')",
      "execution_count": 16,
      "outputs": [
        {
          "output_type": "execute_result",
          "execution_count": 16,
          "data": {
            "text/plain": "'Hello'"
          },
          "metadata": {}
        }
      ]
    },
    {
      "metadata": {
        "trusted": true
      },
      "cell_type": "code",
      "source": "print(greet('en') + ' Pranali')",
      "execution_count": 17,
      "outputs": [
        {
          "output_type": "stream",
          "text": "Hello Pranali\n",
          "name": "stdout"
        }
      ]
    },
    {
      "metadata": {
        "trusted": true
      },
      "cell_type": "code",
      "source": "max()",
      "execution_count": 18,
      "outputs": []
    },
    {
      "metadata": {
        "trusted": true
      },
      "cell_type": "code",
      "source": "greet()",
      "execution_count": 22,
      "outputs": [
        {
          "output_type": "execute_result",
          "execution_count": 22,
          "data": {
            "text/plain": "'Hello'"
          },
          "metadata": {}
        }
      ]
    },
    {
      "metadata": {},
      "cell_type": "markdown",
      "source": "<h1>\n              Function Design Recipe\n          </h1>\n          <h3>\n              The Six Steps\n          </h3>\n          <ol>\n              <li>\n                  <b>Examples</b>\n                  <ul>\n                      <li>What should your function do?\n                      </li>\n                      <li>Type a couple of example calls.\n                      </li>\n                      <li>Pick a name (often a verb or verb phrase): What is a short answer to \"What does your function do\"?\n                      </li>\n                  </ul>\n              </li>\n              <li>\n                  <b>Type Contract</b>\n                  <ul>\n                      <li>What are the parameter types?\n                      </li>\n                      <li>What type of value is returned?\n                      </li>\n                  </ul>\n              </li>\n              <li>\n                  <b>Header</b>\n                  <ul>\n                      <li>Pick meaningful parameter names.\n                      </li>\n                  </ul>\n              </li>\n              <li>\n                  <b>Description</b>\n                  <ul>\n                      <li>Mention every parameter in your description.\n                      </li>\n                      <li>Describe the return value.\n                      </li>\n                  </ul>\n              </li>\n              <li>\n                  <b>Body</b>\n                  <ul>\n                      <li>Write the body of your function.\n                      </li>\n                  </ul>\n              </li>\n              <li>\n                  <b>Test</b>\n                  <ul>\n                      <li>Run the examples.\n                      </li>\n                  </ul>\n              </li>\n          </ol>\n               "
    },
    {
      "metadata": {},
      "cell_type": "markdown",
      "source": "<p>\n              <b>The problem:</b>\n          </p>\n          <p>\n              The United States measures temperature in Fahrenheit and Canada measures it in Celsius. When travelling between the two countries it helps to have a conversion function. Write a function that converts from Fahrenheit to Celsius."
    },
    {
      "metadata": {
        "trusted": true
      },
      "cell_type": "code",
      "source": "def convert_to_celsius(fahrenheit):\n    ''' (number) -> number\n\n     Return the number of Celsius degrees equivalent to fahrenheit degrees.\n\n     >>> convert_to_celsius(32)\n     0\n     >>> convert_to_celsius(212)\n     100\n     '''\n    return (fahrenheit - 32) * 5 / 9       ",
      "execution_count": 24,
      "outputs": []
    },
    {
      "metadata": {
        "trusted": true
      },
      "cell_type": "code",
      "source": "convert_to_celsius(100)",
      "execution_count": 25,
      "outputs": [
        {
          "output_type": "execute_result",
          "execution_count": 25,
          "data": {
            "text/plain": "37.77777777777778"
          },
          "metadata": {}
        }
      ]
    },
    {
      "metadata": {},
      "cell_type": "markdown",
      "source": "### Exercise 1: Rewrite your pay computation with time-and-a-half for overtime and create a function called computepay which takes two parameters ( hours and rate)."
    },
    {
      "metadata": {
        "trusted": true
      },
      "cell_type": "code",
      "source": "def computepay(hours,rate):\n    if hours>40:\n        pay = 40*rate + (hours-40)*1.5*rate\n    else:\n        pay= hours*rate\n    return pay",
      "execution_count": 26,
      "outputs": []
    },
    {
      "metadata": {
        "trusted": true
      },
      "cell_type": "code",
      "source": "computepay(45,10)",
      "execution_count": 27,
      "outputs": [
        {
          "output_type": "execute_result",
          "execution_count": 27,
          "data": {
            "text/plain": "475.0"
          },
          "metadata": {}
        }
      ]
    },
    {
      "metadata": {},
      "cell_type": "markdown",
      "source": "### Assignment 1: Create a user defined function using function design recipe for calculating the area of a triangle."
    },
    {
      "metadata": {
        "trusted": true
      },
      "cell_type": "code",
      "source": "def area_of_triangle(base, height):\n    '''\n        (number,number) -> number\n        \n        calculates the area of triangle for the given base and height\n        \n        >>> area_of_triangle(10,5)\n        25.0\n        \n    '''\n    return 0.5*base*height",
      "execution_count": 1,
      "outputs": []
    },
    {
      "metadata": {
        "trusted": true
      },
      "cell_type": "code",
      "source": "base = float(input(\"Enter the base of triangle\"))\nheight = float(input(\"enter the height of triangle\"))\narea_of_triangle(base,height)",
      "execution_count": 4,
      "outputs": [
        {
          "output_type": "stream",
          "name": "stdout",
          "text": "Enter the base of triangle6.8\nenter the height of triangle3.5\n"
        },
        {
          "output_type": "execute_result",
          "execution_count": 4,
          "data": {
            "text/plain": "11.9"
          },
          "metadata": {}
        }
      ]
    },
    {
      "metadata": {
        "trusted": true
      },
      "cell_type": "code",
      "source": "max(area_of_triangle(7,3.8),area_of_triangle(6.8,3.5))",
      "execution_count": 5,
      "outputs": [
        {
          "output_type": "execute_result",
          "execution_count": 5,
          "data": {
            "text/plain": "13.299999999999999"
          },
          "metadata": {}
        }
      ]
    },
    {
      "metadata": {},
      "cell_type": "markdown",
      "source": "## Calling functions within other function definitions"
    },
    {
      "metadata": {
        "trusted": true
      },
      "cell_type": "code",
      "source": "def perimeter(side1,side2,side3):\n    return side1+side2+side3\n\ndef semiperimeter(side1,side2,side3):\n    return perimeter(side1,side2,side3)/2",
      "execution_count": 28,
      "outputs": []
    },
    {
      "metadata": {
        "trusted": true
      },
      "cell_type": "code",
      "source": "perimeter(10,20,30)",
      "execution_count": 29,
      "outputs": [
        {
          "output_type": "execute_result",
          "execution_count": 29,
          "data": {
            "text/plain": "60"
          },
          "metadata": {}
        }
      ]
    },
    {
      "metadata": {
        "trusted": true
      },
      "cell_type": "code",
      "source": "semiperimeter(10,20,30)",
      "execution_count": 30,
      "outputs": [
        {
          "output_type": "execute_result",
          "execution_count": 30,
          "data": {
            "text/plain": "30.0"
          },
          "metadata": {}
        }
      ]
    },
    {
      "metadata": {
        "trusted": true
      },
      "cell_type": "code",
      "source": "",
      "execution_count": null,
      "outputs": []
    }
  ],
  "metadata": {
    "kernelspec": {
      "name": "python36",
      "display_name": "Python 3.6",
      "language": "python"
    },
    "language_info": {
      "mimetype": "text/x-python",
      "nbconvert_exporter": "python",
      "name": "python",
      "pygments_lexer": "ipython3",
      "version": "3.6.6",
      "file_extension": ".py",
      "codemirror_mode": {
        "version": 3,
        "name": "ipython"
      }
    }
  },
  "nbformat": 4,
  "nbformat_minor": 2
}