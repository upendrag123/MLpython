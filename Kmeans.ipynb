{
  "cells": [
    {
      "metadata": {
        "trusted": true
      },
      "cell_type": "code",
      "source": "import numpy as np\nimport pandas as pd\nfrom scipy.spatial import distance\nfrom scipy.spatial.distance import pdist\nfrom sklearn.cluster import KMeans as kmeans,AgglomerativeClustering as hclust\nfrom scipy.cluster.hierarchy import dendrogram,ward",
      "execution_count": 50,
      "outputs": []
    },
    {
      "metadata": {
        "trusted": true
      },
      "cell_type": "code",
      "source": "movies = pd.read_csv(\"http://files.grouplens.org/datasets/movielens/ml-100k/u.item\",header=None,sep='|',encoding='iso-8859-1')",
      "execution_count": 51,
      "outputs": []
    },
    {
      "metadata": {
        "trusted": true
      },
      "cell_type": "code",
      "source": "movies.head()",
      "execution_count": 52,
      "outputs": [
        {
          "output_type": "execute_result",
          "execution_count": 52,
          "data": {
            "text/html": "<div>\n<style scoped>\n    .dataframe tbody tr th:only-of-type {\n        vertical-align: middle;\n    }\n\n    .dataframe tbody tr th {\n        vertical-align: top;\n    }\n\n    .dataframe thead th {\n        text-align: right;\n    }\n</style>\n<table border=\"1\" class=\"dataframe\">\n  <thead>\n    <tr style=\"text-align: right;\">\n      <th></th>\n      <th>0</th>\n      <th>1</th>\n      <th>2</th>\n      <th>3</th>\n      <th>4</th>\n      <th>5</th>\n      <th>6</th>\n      <th>7</th>\n      <th>8</th>\n      <th>9</th>\n      <th>...</th>\n      <th>14</th>\n      <th>15</th>\n      <th>16</th>\n      <th>17</th>\n      <th>18</th>\n      <th>19</th>\n      <th>20</th>\n      <th>21</th>\n      <th>22</th>\n      <th>23</th>\n    </tr>\n  </thead>\n  <tbody>\n    <tr>\n      <th>0</th>\n      <td>1</td>\n      <td>Toy Story (1995)</td>\n      <td>01-Jan-1995</td>\n      <td>NaN</td>\n      <td>http://us.imdb.com/M/title-exact?Toy%20Story%2...</td>\n      <td>0</td>\n      <td>0</td>\n      <td>0</td>\n      <td>1</td>\n      <td>1</td>\n      <td>...</td>\n      <td>0</td>\n      <td>0</td>\n      <td>0</td>\n      <td>0</td>\n      <td>0</td>\n      <td>0</td>\n      <td>0</td>\n      <td>0</td>\n      <td>0</td>\n      <td>0</td>\n    </tr>\n    <tr>\n      <th>1</th>\n      <td>2</td>\n      <td>GoldenEye (1995)</td>\n      <td>01-Jan-1995</td>\n      <td>NaN</td>\n      <td>http://us.imdb.com/M/title-exact?GoldenEye%20(...</td>\n      <td>0</td>\n      <td>1</td>\n      <td>1</td>\n      <td>0</td>\n      <td>0</td>\n      <td>...</td>\n      <td>0</td>\n      <td>0</td>\n      <td>0</td>\n      <td>0</td>\n      <td>0</td>\n      <td>0</td>\n      <td>0</td>\n      <td>1</td>\n      <td>0</td>\n      <td>0</td>\n    </tr>\n    <tr>\n      <th>2</th>\n      <td>3</td>\n      <td>Four Rooms (1995)</td>\n      <td>01-Jan-1995</td>\n      <td>NaN</td>\n      <td>http://us.imdb.com/M/title-exact?Four%20Rooms%...</td>\n      <td>0</td>\n      <td>0</td>\n      <td>0</td>\n      <td>0</td>\n      <td>0</td>\n      <td>...</td>\n      <td>0</td>\n      <td>0</td>\n      <td>0</td>\n      <td>0</td>\n      <td>0</td>\n      <td>0</td>\n      <td>0</td>\n      <td>1</td>\n      <td>0</td>\n      <td>0</td>\n    </tr>\n    <tr>\n      <th>3</th>\n      <td>4</td>\n      <td>Get Shorty (1995)</td>\n      <td>01-Jan-1995</td>\n      <td>NaN</td>\n      <td>http://us.imdb.com/M/title-exact?Get%20Shorty%...</td>\n      <td>0</td>\n      <td>1</td>\n      <td>0</td>\n      <td>0</td>\n      <td>0</td>\n      <td>...</td>\n      <td>0</td>\n      <td>0</td>\n      <td>0</td>\n      <td>0</td>\n      <td>0</td>\n      <td>0</td>\n      <td>0</td>\n      <td>0</td>\n      <td>0</td>\n      <td>0</td>\n    </tr>\n    <tr>\n      <th>4</th>\n      <td>5</td>\n      <td>Copycat (1995)</td>\n      <td>01-Jan-1995</td>\n      <td>NaN</td>\n      <td>http://us.imdb.com/M/title-exact?Copycat%20(1995)</td>\n      <td>0</td>\n      <td>0</td>\n      <td>0</td>\n      <td>0</td>\n      <td>0</td>\n      <td>...</td>\n      <td>0</td>\n      <td>0</td>\n      <td>0</td>\n      <td>0</td>\n      <td>0</td>\n      <td>0</td>\n      <td>0</td>\n      <td>1</td>\n      <td>0</td>\n      <td>0</td>\n    </tr>\n  </tbody>\n</table>\n<p>5 rows × 24 columns</p>\n</div>",
            "text/plain": "   0                  1            2   3   \\\n0   1   Toy Story (1995)  01-Jan-1995 NaN   \n1   2   GoldenEye (1995)  01-Jan-1995 NaN   \n2   3  Four Rooms (1995)  01-Jan-1995 NaN   \n3   4  Get Shorty (1995)  01-Jan-1995 NaN   \n4   5     Copycat (1995)  01-Jan-1995 NaN   \n\n                                                  4   5   6   7   8   9  ...  \\\n0  http://us.imdb.com/M/title-exact?Toy%20Story%2...   0   0   0   1   1 ...   \n1  http://us.imdb.com/M/title-exact?GoldenEye%20(...   0   1   1   0   0 ...   \n2  http://us.imdb.com/M/title-exact?Four%20Rooms%...   0   0   0   0   0 ...   \n3  http://us.imdb.com/M/title-exact?Get%20Shorty%...   0   1   0   0   0 ...   \n4  http://us.imdb.com/M/title-exact?Copycat%20(1995)   0   0   0   0   0 ...   \n\n   14  15  16  17  18  19  20  21  22  23  \n0   0   0   0   0   0   0   0   0   0   0  \n1   0   0   0   0   0   0   0   1   0   0  \n2   0   0   0   0   0   0   0   1   0   0  \n3   0   0   0   0   0   0   0   0   0   0  \n4   0   0   0   0   0   0   0   1   0   0  \n\n[5 rows x 24 columns]"
          },
          "metadata": {}
        }
      ]
    },
    {
      "metadata": {
        "trusted": true
      },
      "cell_type": "code",
      "source": "movies.shape",
      "execution_count": 53,
      "outputs": [
        {
          "output_type": "execute_result",
          "execution_count": 53,
          "data": {
            "text/plain": "(1682, 24)"
          },
          "metadata": {}
        }
      ]
    },
    {
      "metadata": {
        "trusted": true
      },
      "cell_type": "code",
      "source": "movies.columns=[\"ID\", \"Title\", \"ReleaseDate\", \"VideoReleaseDate\", \"IMDB\", \"Unknown\", \"Action\", \"Adventure\", \"Animation\", \"Children\", \"Comedy\", \"Crime\", \"Documentary\", \"Drama\", \"Fantasy\", \"FilmNoir\", \"Horror\", \"Musical\", \"Mystery\", \"Romance\", \"SciFi\", \"Thriller\", \"War\", \"Western\"]",
      "execution_count": 54,
      "outputs": []
    },
    {
      "metadata": {
        "trusted": true
      },
      "cell_type": "code",
      "source": "movies.head()",
      "execution_count": 55,
      "outputs": [
        {
          "output_type": "execute_result",
          "execution_count": 55,
          "data": {
            "text/html": "<div>\n<style scoped>\n    .dataframe tbody tr th:only-of-type {\n        vertical-align: middle;\n    }\n\n    .dataframe tbody tr th {\n        vertical-align: top;\n    }\n\n    .dataframe thead th {\n        text-align: right;\n    }\n</style>\n<table border=\"1\" class=\"dataframe\">\n  <thead>\n    <tr style=\"text-align: right;\">\n      <th></th>\n      <th>ID</th>\n      <th>Title</th>\n      <th>ReleaseDate</th>\n      <th>VideoReleaseDate</th>\n      <th>IMDB</th>\n      <th>Unknown</th>\n      <th>Action</th>\n      <th>Adventure</th>\n      <th>Animation</th>\n      <th>Children</th>\n      <th>...</th>\n      <th>Fantasy</th>\n      <th>FilmNoir</th>\n      <th>Horror</th>\n      <th>Musical</th>\n      <th>Mystery</th>\n      <th>Romance</th>\n      <th>SciFi</th>\n      <th>Thriller</th>\n      <th>War</th>\n      <th>Western</th>\n    </tr>\n  </thead>\n  <tbody>\n    <tr>\n      <th>0</th>\n      <td>1</td>\n      <td>Toy Story (1995)</td>\n      <td>01-Jan-1995</td>\n      <td>NaN</td>\n      <td>http://us.imdb.com/M/title-exact?Toy%20Story%2...</td>\n      <td>0</td>\n      <td>0</td>\n      <td>0</td>\n      <td>1</td>\n      <td>1</td>\n      <td>...</td>\n      <td>0</td>\n      <td>0</td>\n      <td>0</td>\n      <td>0</td>\n      <td>0</td>\n      <td>0</td>\n      <td>0</td>\n      <td>0</td>\n      <td>0</td>\n      <td>0</td>\n    </tr>\n    <tr>\n      <th>1</th>\n      <td>2</td>\n      <td>GoldenEye (1995)</td>\n      <td>01-Jan-1995</td>\n      <td>NaN</td>\n      <td>http://us.imdb.com/M/title-exact?GoldenEye%20(...</td>\n      <td>0</td>\n      <td>1</td>\n      <td>1</td>\n      <td>0</td>\n      <td>0</td>\n      <td>...</td>\n      <td>0</td>\n      <td>0</td>\n      <td>0</td>\n      <td>0</td>\n      <td>0</td>\n      <td>0</td>\n      <td>0</td>\n      <td>1</td>\n      <td>0</td>\n      <td>0</td>\n    </tr>\n    <tr>\n      <th>2</th>\n      <td>3</td>\n      <td>Four Rooms (1995)</td>\n      <td>01-Jan-1995</td>\n      <td>NaN</td>\n      <td>http://us.imdb.com/M/title-exact?Four%20Rooms%...</td>\n      <td>0</td>\n      <td>0</td>\n      <td>0</td>\n      <td>0</td>\n      <td>0</td>\n      <td>...</td>\n      <td>0</td>\n      <td>0</td>\n      <td>0</td>\n      <td>0</td>\n      <td>0</td>\n      <td>0</td>\n      <td>0</td>\n      <td>1</td>\n      <td>0</td>\n      <td>0</td>\n    </tr>\n    <tr>\n      <th>3</th>\n      <td>4</td>\n      <td>Get Shorty (1995)</td>\n      <td>01-Jan-1995</td>\n      <td>NaN</td>\n      <td>http://us.imdb.com/M/title-exact?Get%20Shorty%...</td>\n      <td>0</td>\n      <td>1</td>\n      <td>0</td>\n      <td>0</td>\n      <td>0</td>\n      <td>...</td>\n      <td>0</td>\n      <td>0</td>\n      <td>0</td>\n      <td>0</td>\n      <td>0</td>\n      <td>0</td>\n      <td>0</td>\n      <td>0</td>\n      <td>0</td>\n      <td>0</td>\n    </tr>\n    <tr>\n      <th>4</th>\n      <td>5</td>\n      <td>Copycat (1995)</td>\n      <td>01-Jan-1995</td>\n      <td>NaN</td>\n      <td>http://us.imdb.com/M/title-exact?Copycat%20(1995)</td>\n      <td>0</td>\n      <td>0</td>\n      <td>0</td>\n      <td>0</td>\n      <td>0</td>\n      <td>...</td>\n      <td>0</td>\n      <td>0</td>\n      <td>0</td>\n      <td>0</td>\n      <td>0</td>\n      <td>0</td>\n      <td>0</td>\n      <td>1</td>\n      <td>0</td>\n      <td>0</td>\n    </tr>\n  </tbody>\n</table>\n<p>5 rows × 24 columns</p>\n</div>",
            "text/plain": "   ID              Title  ReleaseDate  VideoReleaseDate  \\\n0   1   Toy Story (1995)  01-Jan-1995               NaN   \n1   2   GoldenEye (1995)  01-Jan-1995               NaN   \n2   3  Four Rooms (1995)  01-Jan-1995               NaN   \n3   4  Get Shorty (1995)  01-Jan-1995               NaN   \n4   5     Copycat (1995)  01-Jan-1995               NaN   \n\n                                                IMDB  Unknown  Action  \\\n0  http://us.imdb.com/M/title-exact?Toy%20Story%2...        0       0   \n1  http://us.imdb.com/M/title-exact?GoldenEye%20(...        0       1   \n2  http://us.imdb.com/M/title-exact?Four%20Rooms%...        0       0   \n3  http://us.imdb.com/M/title-exact?Get%20Shorty%...        0       1   \n4  http://us.imdb.com/M/title-exact?Copycat%20(1995)        0       0   \n\n   Adventure  Animation  Children   ...     Fantasy  FilmNoir  Horror  \\\n0          0          1         1   ...           0         0       0   \n1          1          0         0   ...           0         0       0   \n2          0          0         0   ...           0         0       0   \n3          0          0         0   ...           0         0       0   \n4          0          0         0   ...           0         0       0   \n\n   Musical  Mystery  Romance  SciFi  Thriller  War  Western  \n0        0        0        0      0         0    0        0  \n1        0        0        0      0         1    0        0  \n2        0        0        0      0         1    0        0  \n3        0        0        0      0         0    0        0  \n4        0        0        0      0         1    0        0  \n\n[5 rows x 24 columns]"
          },
          "metadata": {}
        }
      ]
    },
    {
      "metadata": {
        "trusted": true
      },
      "cell_type": "code",
      "source": "del movies['ID']",
      "execution_count": 56,
      "outputs": []
    },
    {
      "metadata": {
        "trusted": true
      },
      "cell_type": "code",
      "source": "del movies['ReleaseDate']",
      "execution_count": 57,
      "outputs": []
    },
    {
      "metadata": {
        "trusted": true
      },
      "cell_type": "code",
      "source": "del movies['VideoReleaseDate']",
      "execution_count": 58,
      "outputs": []
    },
    {
      "metadata": {
        "trusted": true
      },
      "cell_type": "code",
      "source": "del movies['IMDB']",
      "execution_count": 59,
      "outputs": []
    },
    {
      "metadata": {
        "trusted": true
      },
      "cell_type": "code",
      "source": "movies.head()",
      "execution_count": 60,
      "outputs": [
        {
          "output_type": "execute_result",
          "execution_count": 60,
          "data": {
            "text/html": "<div>\n<style scoped>\n    .dataframe tbody tr th:only-of-type {\n        vertical-align: middle;\n    }\n\n    .dataframe tbody tr th {\n        vertical-align: top;\n    }\n\n    .dataframe thead th {\n        text-align: right;\n    }\n</style>\n<table border=\"1\" class=\"dataframe\">\n  <thead>\n    <tr style=\"text-align: right;\">\n      <th></th>\n      <th>Title</th>\n      <th>Unknown</th>\n      <th>Action</th>\n      <th>Adventure</th>\n      <th>Animation</th>\n      <th>Children</th>\n      <th>Comedy</th>\n      <th>Crime</th>\n      <th>Documentary</th>\n      <th>Drama</th>\n      <th>Fantasy</th>\n      <th>FilmNoir</th>\n      <th>Horror</th>\n      <th>Musical</th>\n      <th>Mystery</th>\n      <th>Romance</th>\n      <th>SciFi</th>\n      <th>Thriller</th>\n      <th>War</th>\n      <th>Western</th>\n    </tr>\n  </thead>\n  <tbody>\n    <tr>\n      <th>0</th>\n      <td>Toy Story (1995)</td>\n      <td>0</td>\n      <td>0</td>\n      <td>0</td>\n      <td>1</td>\n      <td>1</td>\n      <td>1</td>\n      <td>0</td>\n      <td>0</td>\n      <td>0</td>\n      <td>0</td>\n      <td>0</td>\n      <td>0</td>\n      <td>0</td>\n      <td>0</td>\n      <td>0</td>\n      <td>0</td>\n      <td>0</td>\n      <td>0</td>\n      <td>0</td>\n    </tr>\n    <tr>\n      <th>1</th>\n      <td>GoldenEye (1995)</td>\n      <td>0</td>\n      <td>1</td>\n      <td>1</td>\n      <td>0</td>\n      <td>0</td>\n      <td>0</td>\n      <td>0</td>\n      <td>0</td>\n      <td>0</td>\n      <td>0</td>\n      <td>0</td>\n      <td>0</td>\n      <td>0</td>\n      <td>0</td>\n      <td>0</td>\n      <td>0</td>\n      <td>1</td>\n      <td>0</td>\n      <td>0</td>\n    </tr>\n    <tr>\n      <th>2</th>\n      <td>Four Rooms (1995)</td>\n      <td>0</td>\n      <td>0</td>\n      <td>0</td>\n      <td>0</td>\n      <td>0</td>\n      <td>0</td>\n      <td>0</td>\n      <td>0</td>\n      <td>0</td>\n      <td>0</td>\n      <td>0</td>\n      <td>0</td>\n      <td>0</td>\n      <td>0</td>\n      <td>0</td>\n      <td>0</td>\n      <td>1</td>\n      <td>0</td>\n      <td>0</td>\n    </tr>\n    <tr>\n      <th>3</th>\n      <td>Get Shorty (1995)</td>\n      <td>0</td>\n      <td>1</td>\n      <td>0</td>\n      <td>0</td>\n      <td>0</td>\n      <td>1</td>\n      <td>0</td>\n      <td>0</td>\n      <td>1</td>\n      <td>0</td>\n      <td>0</td>\n      <td>0</td>\n      <td>0</td>\n      <td>0</td>\n      <td>0</td>\n      <td>0</td>\n      <td>0</td>\n      <td>0</td>\n      <td>0</td>\n    </tr>\n    <tr>\n      <th>4</th>\n      <td>Copycat (1995)</td>\n      <td>0</td>\n      <td>0</td>\n      <td>0</td>\n      <td>0</td>\n      <td>0</td>\n      <td>0</td>\n      <td>1</td>\n      <td>0</td>\n      <td>1</td>\n      <td>0</td>\n      <td>0</td>\n      <td>0</td>\n      <td>0</td>\n      <td>0</td>\n      <td>0</td>\n      <td>0</td>\n      <td>1</td>\n      <td>0</td>\n      <td>0</td>\n    </tr>\n  </tbody>\n</table>\n</div>",
            "text/plain": "               Title  Unknown  Action  Adventure  Animation  Children  Comedy  \\\n0   Toy Story (1995)        0       0          0          1         1       1   \n1   GoldenEye (1995)        0       1          1          0         0       0   \n2  Four Rooms (1995)        0       0          0          0         0       0   \n3  Get Shorty (1995)        0       1          0          0         0       1   \n4     Copycat (1995)        0       0          0          0         0       0   \n\n   Crime  Documentary  Drama  Fantasy  FilmNoir  Horror  Musical  Mystery  \\\n0      0            0      0        0         0       0        0        0   \n1      0            0      0        0         0       0        0        0   \n2      0            0      0        0         0       0        0        0   \n3      0            0      1        0         0       0        0        0   \n4      1            0      1        0         0       0        0        0   \n\n   Romance  SciFi  Thriller  War  Western  \n0        0      0         0    0        0  \n1        0      0         1    0        0  \n2        0      0         1    0        0  \n3        0      0         0    0        0  \n4        0      0         1    0        0  "
          },
          "metadata": {}
        }
      ]
    },
    {
      "metadata": {
        "trusted": true
      },
      "cell_type": "code",
      "source": "movies.shape",
      "execution_count": 61,
      "outputs": [
        {
          "output_type": "execute_result",
          "execution_count": 61,
          "data": {
            "text/plain": "(1682, 20)"
          },
          "metadata": {}
        }
      ]
    },
    {
      "metadata": {
        "trusted": true
      },
      "cell_type": "code",
      "source": "movies.drop_duplicates(inplace=True)",
      "execution_count": 62,
      "outputs": []
    },
    {
      "metadata": {
        "trusted": true
      },
      "cell_type": "code",
      "source": "movies.shape",
      "execution_count": 63,
      "outputs": [
        {
          "output_type": "execute_result",
          "execution_count": 63,
          "data": {
            "text/plain": "(1664, 20)"
          },
          "metadata": {}
        }
      ]
    },
    {
      "metadata": {
        "trusted": true
      },
      "cell_type": "code",
      "source": "movies.Romance.value_counts()\n",
      "execution_count": 64,
      "outputs": [
        {
          "output_type": "execute_result",
          "execution_count": 64,
          "data": {
            "text/plain": "0    1420\n1     244\nName: Romance, dtype: int64"
          },
          "metadata": {}
        }
      ]
    },
    {
      "metadata": {
        "trusted": true
      },
      "cell_type": "code",
      "source": "movies.groupby(['Action','Drama'])['Drama'].count()",
      "execution_count": 65,
      "outputs": [
        {
          "output_type": "execute_result",
          "execution_count": 65,
          "data": {
            "text/plain": "Action  Drama\n0       0        745\n        1        670\n1       0        203\n        1         46\nName: Drama, dtype: int64"
          },
          "metadata": {}
        }
      ]
    },
    {
      "metadata": {
        "trusted": true
      },
      "cell_type": "code",
      "source": "is_action = movies['Action'] == 1\nis_drama = movies['Drama'] == 1\nmovies[is_action & is_drama]['Title'].count()",
      "execution_count": 66,
      "outputs": [
        {
          "output_type": "execute_result",
          "execution_count": 66,
          "data": {
            "text/plain": "46"
          },
          "metadata": {}
        }
      ]
    },
    {
      "metadata": {
        "trusted": true
      },
      "cell_type": "code",
      "source": "dist = pdist(movies.iloc[:,1:20],'euclidean')",
      "execution_count": 67,
      "outputs": []
    },
    {
      "metadata": {
        "trusted": true
      },
      "cell_type": "code",
      "source": "dist",
      "execution_count": 68,
      "outputs": [
        {
          "output_type": "execute_result",
          "execution_count": 68,
          "data": {
            "text/plain": "array([2.44948974, 2.        , 2.        , ..., 1.73205081, 1.73205081,\n       1.41421356])"
          },
          "metadata": {}
        }
      ]
    },
    {
      "metadata": {
        "trusted": true
      },
      "cell_type": "code",
      "source": "dist.min(),dist.max(),len(dist),dist.std()",
      "execution_count": 69,
      "outputs": [
        {
          "output_type": "execute_result",
          "execution_count": 69,
          "data": {
            "text/plain": "(0.0, 3.1622776601683795, 1383616, 0.5700099571050707)"
          },
          "metadata": {}
        }
      ]
    },
    {
      "metadata": {
        "trusted": true
      },
      "cell_type": "code",
      "source": "model = hclust(affinity='euclidean',linkage=\"ward\",n_clusters=10)",
      "execution_count": 70,
      "outputs": []
    },
    {
      "metadata": {
        "trusted": true
      },
      "cell_type": "code",
      "source": "model.fit(movies.iloc[:,1:20])",
      "execution_count": 71,
      "outputs": [
        {
          "output_type": "execute_result",
          "execution_count": 71,
          "data": {
            "text/plain": "AgglomerativeClustering(affinity='euclidean', compute_full_tree='auto',\n            connectivity=None, linkage='ward', memory=None, n_clusters=10,\n            pooling_func='deprecated')"
          },
          "metadata": {}
        }
      ]
    },
    {
      "metadata": {
        "trusted": true
      },
      "cell_type": "code",
      "source": "model.n_clusters",
      "execution_count": 72,
      "outputs": [
        {
          "output_type": "execute_result",
          "execution_count": 72,
          "data": {
            "text/plain": "10"
          },
          "metadata": {}
        }
      ]
    },
    {
      "metadata": {
        "trusted": true
      },
      "cell_type": "code",
      "source": "model.labels_",
      "execution_count": 73,
      "outputs": [
        {
          "output_type": "execute_result",
          "execution_count": 73,
          "data": {
            "text/plain": "array([6, 3, 7, ..., 5, 0, 9])"
          },
          "metadata": {}
        }
      ]
    },
    {
      "metadata": {
        "trusted": true
      },
      "cell_type": "code",
      "source": "np.unique(model.labels_,return_counts=True)",
      "execution_count": 74,
      "outputs": [
        {
          "output_type": "execute_result",
          "execution_count": 74,
          "data": {
            "text/plain": "(array([0, 1, 2, 3, 4, 5, 6, 7, 8, 9]),\n array([433, 119, 146,  96,  69, 121,  88, 161,  61, 370]))"
          },
          "metadata": {}
        }
      ]
    },
    {
      "metadata": {
        "trusted": true
      },
      "cell_type": "code",
      "source": "z=ward(movies.iloc[:,1:20])\nz",
      "execution_count": 75,
      "outputs": [
        {
          "output_type": "execute_result",
          "execution_count": 75,
          "data": {
            "text/plain": "array([[0.00000000e+00, 4.18000000e+02, 0.00000000e+00, 2.00000000e+00],\n       [1.00000000e+00, 1.16000000e+02, 0.00000000e+00, 2.00000000e+00],\n       [2.00000000e+00, 1.97000000e+02, 0.00000000e+00, 2.00000000e+00],\n       ...,\n       [3.32000000e+03, 3.32200000e+03, 1.53134543e+01, 6.79000000e+02],\n       [3.32300000e+03, 3.32400000e+03, 2.13607769e+01, 1.23100000e+03],\n       [3.31700000e+03, 3.32500000e+03, 2.39336022e+01, 1.66400000e+03]])"
          },
          "metadata": {}
        }
      ]
    },
    {
      "metadata": {
        "trusted": true
      },
      "cell_type": "code",
      "source": "%matplotlib inline\nimport matplotlib.pyplot as plt\nplt.figure(figsize=(8,8))\nx= dendrogram(z)",
      "execution_count": 76,
      "outputs": [
        {
          "output_type": "display_data",
          "data": {
            "image/png": "[encoded data removed]",
            "text/plain": "<Figure size 576x576 with 1 Axes>"
          },
          "metadata": {
            "needs_background": "light"
          }
        }
      ]
    },
    {
      "metadata": {
        "trusted": true
      },
      "cell_type": "code",
      "source": "movies['clusters'] = model.labels_",
      "execution_count": 77,
      "outputs": []
    },
    {
      "metadata": {
        "trusted": true
      },
      "cell_type": "code",
      "source": "movies",
      "execution_count": 78,
      "outputs": [
        {
          "output_type": "execute_result",
          "execution_count": 78,
          "data": {
            "text/html": "<div>\n<style scoped>\n    .dataframe tbody tr th:only-of-type {\n        vertical-align: middle;\n    }\n\n    .dataframe tbody tr th {\n        vertical-align: top;\n    }\n\n    .dataframe thead th {\n        text-align: right;\n    }\n</style>\n<table border=\"1\" class=\"dataframe\">\n  <thead>\n    <tr style=\"text-align: right;\">\n      <th></th>\n      <th>Title</th>\n      <th>Unknown</th>\n      <th>Action</th>\n      <th>Adventure</th>\n      <th>Animation</th>\n      <th>Children</th>\n      <th>Comedy</th>\n      <th>Crime</th>\n      <th>Documentary</th>\n      <th>Drama</th>\n      <th>...</th>\n      <th>FilmNoir</th>\n      <th>Horror</th>\n      <th>Musical</th>\n      <th>Mystery</th>\n      <th>Romance</th>\n      <th>SciFi</th>\n      <th>Thriller</th>\n      <th>War</th>\n      <th>Western</th>\n      <th>clusters</th>\n    </tr>\n  </thead>\n  <tbody>\n    <tr>\n      <th>0</th>\n      <td>Toy Story (1995)</td>\n      <td>0</td>\n      <td>0</td>\n      <td>0</td>\n      <td>1</td>\n      <td>1</td>\n      <td>1</td>\n      <td>0</td>\n      <td>0</td>\n      <td>0</td>\n      <td>...</td>\n      <td>0</td>\n      <td>0</td>\n      <td>0</td>\n      <td>0</td>\n      <td>0</td>\n      <td>0</td>\n      <td>0</td>\n      <td>0</td>\n      <td>0</td>\n      <td>6</td>\n    </tr>\n    <tr>\n      <th>1</th>\n      <td>GoldenEye (1995)</td>\n      <td>0</td>\n      <td>1</td>\n      <td>1</td>\n      <td>0</td>\n      <td>0</td>\n      <td>0</td>\n      <td>0</td>\n      <td>0</td>\n      <td>0</td>\n      <td>...</td>\n      <td>0</td>\n      <td>0</td>\n      <td>0</td>\n      <td>0</td>\n      <td>0</td>\n      <td>0</td>\n      <td>1</td>\n      <td>0</td>\n      <td>0</td>\n      <td>3</td>\n    </tr>\n    <tr>\n      <th>2</th>\n      <td>Four Rooms (1995)</td>\n      <td>0</td>\n      <td>0</td>\n      <td>0</td>\n      <td>0</td>\n      <td>0</td>\n      <td>0</td>\n      <td>0</td>\n      <td>0</td>\n      <td>0</td>\n      <td>...</td>\n      <td>0</td>\n      <td>0</td>\n      <td>0</td>\n      <td>0</td>\n      <td>0</td>\n      <td>0</td>\n      <td>1</td>\n      <td>0</td>\n      <td>0</td>\n      <td>7</td>\n    </tr>\n    <tr>\n      <th>3</th>\n      <td>Get Shorty (1995)</td>\n      <td>0</td>\n      <td>1</td>\n      <td>0</td>\n      <td>0</td>\n      <td>0</td>\n      <td>1</td>\n      <td>0</td>\n      <td>0</td>\n      <td>1</td>\n      <td>...</td>\n      <td>0</td>\n      <td>0</td>\n      <td>0</td>\n      <td>0</td>\n      <td>0</td>\n      <td>0</td>\n      <td>0</td>\n      <td>0</td>\n      <td>0</td>\n      <td>0</td>\n    </tr>\n    <tr>\n      <th>4</th>\n      <td>Copycat (1995)</td>\n      <td>0</td>\n      <td>0</td>\n      <td>0</td>\n      <td>0</td>\n      <td>0</td>\n      <td>0</td>\n      <td>1</td>\n      <td>0</td>\n      <td>1</td>\n      <td>...</td>\n      <td>0</td>\n      <td>0</td>\n      <td>0</td>\n      <td>0</td>\n      <td>0</td>\n      <td>0</td>\n      <td>1</td>\n      <td>0</td>\n      <td>0</td>\n      <td>4</td>\n    </tr>\n    <tr>\n      <th>5</th>\n      <td>Shanghai Triad (Yao a yao yao dao waipo qiao) ...</td>\n      <td>0</td>\n      <td>0</td>\n      <td>0</td>\n      <td>0</td>\n      <td>0</td>\n      <td>0</td>\n      <td>0</td>\n      <td>0</td>\n      <td>1</td>\n      <td>...</td>\n      <td>0</td>\n      <td>0</td>\n      <td>0</td>\n      <td>0</td>\n      <td>0</td>\n      <td>0</td>\n      <td>0</td>\n      <td>0</td>\n      <td>0</td>\n      <td>9</td>\n    </tr>\n    <tr>\n      <th>6</th>\n      <td>Twelve Monkeys (1995)</td>\n      <td>0</td>\n      <td>0</td>\n      <td>0</td>\n      <td>0</td>\n      <td>0</td>\n      <td>0</td>\n      <td>0</td>\n      <td>0</td>\n      <td>1</td>\n      <td>...</td>\n      <td>0</td>\n      <td>0</td>\n      <td>0</td>\n      <td>0</td>\n      <td>0</td>\n      <td>1</td>\n      <td>0</td>\n      <td>0</td>\n      <td>0</td>\n      <td>2</td>\n    </tr>\n    <tr>\n      <th>7</th>\n      <td>Babe (1995)</td>\n      <td>0</td>\n      <td>0</td>\n      <td>0</td>\n      <td>0</td>\n      <td>1</td>\n      <td>1</td>\n      <td>0</td>\n      <td>0</td>\n      <td>1</td>\n      <td>...</td>\n      <td>0</td>\n      <td>0</td>\n      <td>0</td>\n      <td>0</td>\n      <td>0</td>\n      <td>0</td>\n      <td>0</td>\n      <td>0</td>\n      <td>0</td>\n      <td>6</td>\n    </tr>\n    <tr>\n      <th>8</th>\n      <td>Dead Man Walking (1995)</td>\n      <td>0</td>\n      <td>0</td>\n      <td>0</td>\n      <td>0</td>\n      <td>0</td>\n      <td>0</td>\n      <td>0</td>\n      <td>0</td>\n      <td>1</td>\n      <td>...</td>\n      <td>0</td>\n      <td>0</td>\n      <td>0</td>\n      <td>0</td>\n      <td>0</td>\n      <td>0</td>\n      <td>0</td>\n      <td>0</td>\n      <td>0</td>\n      <td>9</td>\n    </tr>\n    <tr>\n      <th>9</th>\n      <td>Richard III (1995)</td>\n      <td>0</td>\n      <td>0</td>\n      <td>0</td>\n      <td>0</td>\n      <td>0</td>\n      <td>0</td>\n      <td>0</td>\n      <td>0</td>\n      <td>1</td>\n      <td>...</td>\n      <td>0</td>\n      <td>0</td>\n      <td>0</td>\n      <td>0</td>\n      <td>0</td>\n      <td>0</td>\n      <td>0</td>\n      <td>1</td>\n      <td>0</td>\n      <td>8</td>\n    </tr>\n    <tr>\n      <th>10</th>\n      <td>Seven (Se7en) (1995)</td>\n      <td>0</td>\n      <td>0</td>\n      <td>0</td>\n      <td>0</td>\n      <td>0</td>\n      <td>0</td>\n      <td>1</td>\n      <td>0</td>\n      <td>0</td>\n      <td>...</td>\n      <td>0</td>\n      <td>0</td>\n      <td>0</td>\n      <td>0</td>\n      <td>0</td>\n      <td>0</td>\n      <td>1</td>\n      <td>0</td>\n      <td>0</td>\n      <td>7</td>\n    </tr>\n    <tr>\n      <th>11</th>\n      <td>Usual Suspects, The (1995)</td>\n      <td>0</td>\n      <td>0</td>\n      <td>0</td>\n      <td>0</td>\n      <td>0</td>\n      <td>0</td>\n      <td>1</td>\n      <td>0</td>\n      <td>0</td>\n      <td>...</td>\n      <td>0</td>\n      <td>0</td>\n      <td>0</td>\n      <td>0</td>\n      <td>0</td>\n      <td>0</td>\n      <td>1</td>\n      <td>0</td>\n      <td>0</td>\n      <td>7</td>\n    </tr>\n    <tr>\n      <th>12</th>\n      <td>Mighty Aphrodite (1995)</td>\n      <td>0</td>\n      <td>0</td>\n      <td>0</td>\n      <td>0</td>\n      <td>0</td>\n      <td>1</td>\n      <td>0</td>\n      <td>0</td>\n      <td>0</td>\n      <td>...</td>\n      <td>0</td>\n      <td>0</td>\n      <td>0</td>\n      <td>0</td>\n      <td>0</td>\n      <td>0</td>\n      <td>0</td>\n      <td>0</td>\n      <td>0</td>\n      <td>0</td>\n    </tr>\n    <tr>\n      <th>13</th>\n      <td>Postino, Il (1994)</td>\n      <td>0</td>\n      <td>0</td>\n      <td>0</td>\n      <td>0</td>\n      <td>0</td>\n      <td>0</td>\n      <td>0</td>\n      <td>0</td>\n      <td>1</td>\n      <td>...</td>\n      <td>0</td>\n      <td>0</td>\n      <td>0</td>\n      <td>0</td>\n      <td>1</td>\n      <td>0</td>\n      <td>0</td>\n      <td>0</td>\n      <td>0</td>\n      <td>5</td>\n    </tr>\n    <tr>\n      <th>14</th>\n      <td>Mr. Holland's Opus (1995)</td>\n      <td>0</td>\n      <td>0</td>\n      <td>0</td>\n      <td>0</td>\n      <td>0</td>\n      <td>0</td>\n      <td>0</td>\n      <td>0</td>\n      <td>1</td>\n      <td>...</td>\n      <td>0</td>\n      <td>0</td>\n      <td>0</td>\n      <td>0</td>\n      <td>0</td>\n      <td>0</td>\n      <td>0</td>\n      <td>0</td>\n      <td>0</td>\n      <td>9</td>\n    </tr>\n    <tr>\n      <th>15</th>\n      <td>French Twist (Gazon maudit) (1995)</td>\n      <td>0</td>\n      <td>0</td>\n      <td>0</td>\n      <td>0</td>\n      <td>0</td>\n      <td>1</td>\n      <td>0</td>\n      <td>0</td>\n      <td>0</td>\n      <td>...</td>\n      <td>0</td>\n      <td>0</td>\n      <td>0</td>\n      <td>0</td>\n      <td>1</td>\n      <td>0</td>\n      <td>0</td>\n      <td>0</td>\n      <td>0</td>\n      <td>0</td>\n    </tr>\n    <tr>\n      <th>16</th>\n      <td>From Dusk Till Dawn (1996)</td>\n      <td>0</td>\n      <td>1</td>\n      <td>0</td>\n      <td>0</td>\n      <td>0</td>\n      <td>1</td>\n      <td>1</td>\n      <td>0</td>\n      <td>0</td>\n      <td>...</td>\n      <td>0</td>\n      <td>1</td>\n      <td>0</td>\n      <td>0</td>\n      <td>0</td>\n      <td>0</td>\n      <td>1</td>\n      <td>0</td>\n      <td>0</td>\n      <td>4</td>\n    </tr>\n    <tr>\n      <th>17</th>\n      <td>White Balloon, The (1995)</td>\n      <td>0</td>\n      <td>0</td>\n      <td>0</td>\n      <td>0</td>\n      <td>0</td>\n      <td>0</td>\n      <td>0</td>\n      <td>0</td>\n      <td>1</td>\n      <td>...</td>\n      <td>0</td>\n      <td>0</td>\n      <td>0</td>\n      <td>0</td>\n      <td>0</td>\n      <td>0</td>\n      <td>0</td>\n      <td>0</td>\n      <td>0</td>\n      <td>9</td>\n    </tr>\n    <tr>\n      <th>18</th>\n      <td>Antonia's Line (1995)</td>\n      <td>0</td>\n      <td>0</td>\n      <td>0</td>\n      <td>0</td>\n      <td>0</td>\n      <td>0</td>\n      <td>0</td>\n      <td>0</td>\n      <td>1</td>\n      <td>...</td>\n      <td>0</td>\n      <td>0</td>\n      <td>0</td>\n      <td>0</td>\n      <td>0</td>\n      <td>0</td>\n      <td>0</td>\n      <td>0</td>\n      <td>0</td>\n      <td>9</td>\n    </tr>\n    <tr>\n      <th>19</th>\n      <td>Angels and Insects (1995)</td>\n      <td>0</td>\n      <td>0</td>\n      <td>0</td>\n      <td>0</td>\n      <td>0</td>\n      <td>0</td>\n      <td>0</td>\n      <td>0</td>\n      <td>1</td>\n      <td>...</td>\n      <td>0</td>\n      <td>0</td>\n      <td>0</td>\n      <td>0</td>\n      <td>1</td>\n      <td>0</td>\n      <td>0</td>\n      <td>0</td>\n      <td>0</td>\n      <td>5</td>\n    </tr>\n    <tr>\n      <th>20</th>\n      <td>Muppet Treasure Island (1996)</td>\n      <td>0</td>\n      <td>1</td>\n      <td>1</td>\n      <td>0</td>\n      <td>0</td>\n      <td>1</td>\n      <td>0</td>\n      <td>0</td>\n      <td>0</td>\n      <td>...</td>\n      <td>0</td>\n      <td>0</td>\n      <td>1</td>\n      <td>0</td>\n      <td>0</td>\n      <td>0</td>\n      <td>1</td>\n      <td>0</td>\n      <td>0</td>\n      <td>0</td>\n    </tr>\n    <tr>\n      <th>21</th>\n      <td>Braveheart (1995)</td>\n      <td>0</td>\n      <td>1</td>\n      <td>0</td>\n      <td>0</td>\n      <td>0</td>\n      <td>0</td>\n      <td>0</td>\n      <td>0</td>\n      <td>1</td>\n      <td>...</td>\n      <td>0</td>\n      <td>0</td>\n      <td>0</td>\n      <td>0</td>\n      <td>0</td>\n      <td>0</td>\n      <td>0</td>\n      <td>1</td>\n      <td>0</td>\n      <td>8</td>\n    </tr>\n    <tr>\n      <th>22</th>\n      <td>Taxi Driver (1976)</td>\n      <td>0</td>\n      <td>0</td>\n      <td>0</td>\n      <td>0</td>\n      <td>0</td>\n      <td>0</td>\n      <td>0</td>\n      <td>0</td>\n      <td>1</td>\n      <td>...</td>\n      <td>0</td>\n      <td>0</td>\n      <td>0</td>\n      <td>0</td>\n      <td>0</td>\n      <td>0</td>\n      <td>1</td>\n      <td>0</td>\n      <td>0</td>\n      <td>7</td>\n    </tr>\n    <tr>\n      <th>23</th>\n      <td>Rumble in the Bronx (1995)</td>\n      <td>0</td>\n      <td>1</td>\n      <td>1</td>\n      <td>0</td>\n      <td>0</td>\n      <td>0</td>\n      <td>1</td>\n      <td>0</td>\n      <td>0</td>\n      <td>...</td>\n      <td>0</td>\n      <td>0</td>\n      <td>0</td>\n      <td>0</td>\n      <td>0</td>\n      <td>0</td>\n      <td>0</td>\n      <td>0</td>\n      <td>0</td>\n      <td>4</td>\n    </tr>\n    <tr>\n      <th>24</th>\n      <td>Birdcage, The (1996)</td>\n      <td>0</td>\n      <td>0</td>\n      <td>0</td>\n      <td>0</td>\n      <td>0</td>\n      <td>1</td>\n      <td>0</td>\n      <td>0</td>\n      <td>0</td>\n      <td>...</td>\n      <td>0</td>\n      <td>0</td>\n      <td>0</td>\n      <td>0</td>\n      <td>0</td>\n      <td>0</td>\n      <td>0</td>\n      <td>0</td>\n      <td>0</td>\n      <td>0</td>\n    </tr>\n    <tr>\n      <th>25</th>\n      <td>Brothers McMullen, The (1995)</td>\n      <td>0</td>\n      <td>0</td>\n      <td>0</td>\n      <td>0</td>\n      <td>0</td>\n      <td>1</td>\n      <td>0</td>\n      <td>0</td>\n      <td>0</td>\n      <td>...</td>\n      <td>0</td>\n      <td>0</td>\n      <td>0</td>\n      <td>0</td>\n      <td>0</td>\n      <td>0</td>\n      <td>0</td>\n      <td>0</td>\n      <td>0</td>\n      <td>0</td>\n    </tr>\n    <tr>\n      <th>26</th>\n      <td>Bad Boys (1995)</td>\n      <td>0</td>\n      <td>1</td>\n      <td>0</td>\n      <td>0</td>\n      <td>0</td>\n      <td>0</td>\n      <td>0</td>\n      <td>0</td>\n      <td>0</td>\n      <td>...</td>\n      <td>0</td>\n      <td>0</td>\n      <td>0</td>\n      <td>0</td>\n      <td>0</td>\n      <td>0</td>\n      <td>0</td>\n      <td>0</td>\n      <td>0</td>\n      <td>2</td>\n    </tr>\n    <tr>\n      <th>27</th>\n      <td>Apollo 13 (1995)</td>\n      <td>0</td>\n      <td>1</td>\n      <td>0</td>\n      <td>0</td>\n      <td>0</td>\n      <td>0</td>\n      <td>0</td>\n      <td>0</td>\n      <td>1</td>\n      <td>...</td>\n      <td>0</td>\n      <td>0</td>\n      <td>0</td>\n      <td>0</td>\n      <td>0</td>\n      <td>0</td>\n      <td>1</td>\n      <td>0</td>\n      <td>0</td>\n      <td>2</td>\n    </tr>\n    <tr>\n      <th>28</th>\n      <td>Batman Forever (1995)</td>\n      <td>0</td>\n      <td>1</td>\n      <td>1</td>\n      <td>0</td>\n      <td>0</td>\n      <td>1</td>\n      <td>1</td>\n      <td>0</td>\n      <td>0</td>\n      <td>...</td>\n      <td>0</td>\n      <td>0</td>\n      <td>0</td>\n      <td>0</td>\n      <td>0</td>\n      <td>0</td>\n      <td>0</td>\n      <td>0</td>\n      <td>0</td>\n      <td>4</td>\n    </tr>\n    <tr>\n      <th>29</th>\n      <td>Belle de jour (1967)</td>\n      <td>0</td>\n      <td>0</td>\n      <td>0</td>\n      <td>0</td>\n      <td>0</td>\n      <td>0</td>\n      <td>0</td>\n      <td>0</td>\n      <td>1</td>\n      <td>...</td>\n      <td>0</td>\n      <td>0</td>\n      <td>0</td>\n      <td>0</td>\n      <td>0</td>\n      <td>0</td>\n      <td>0</td>\n      <td>0</td>\n      <td>0</td>\n      <td>9</td>\n    </tr>\n    <tr>\n      <th>...</th>\n      <td>...</td>\n      <td>...</td>\n      <td>...</td>\n      <td>...</td>\n      <td>...</td>\n      <td>...</td>\n      <td>...</td>\n      <td>...</td>\n      <td>...</td>\n      <td>...</td>\n      <td>...</td>\n      <td>...</td>\n      <td>...</td>\n      <td>...</td>\n      <td>...</td>\n      <td>...</td>\n      <td>...</td>\n      <td>...</td>\n      <td>...</td>\n      <td>...</td>\n      <td>...</td>\n    </tr>\n    <tr>\n      <th>1648</th>\n      <td>Big One, The (1997)</td>\n      <td>0</td>\n      <td>0</td>\n      <td>0</td>\n      <td>0</td>\n      <td>0</td>\n      <td>1</td>\n      <td>0</td>\n      <td>1</td>\n      <td>0</td>\n      <td>...</td>\n      <td>0</td>\n      <td>0</td>\n      <td>0</td>\n      <td>0</td>\n      <td>0</td>\n      <td>0</td>\n      <td>0</td>\n      <td>0</td>\n      <td>0</td>\n      <td>1</td>\n    </tr>\n    <tr>\n      <th>1650</th>\n      <td>Spanish Prisoner, The (1997)</td>\n      <td>0</td>\n      <td>0</td>\n      <td>0</td>\n      <td>0</td>\n      <td>0</td>\n      <td>0</td>\n      <td>0</td>\n      <td>0</td>\n      <td>1</td>\n      <td>...</td>\n      <td>0</td>\n      <td>0</td>\n      <td>0</td>\n      <td>0</td>\n      <td>0</td>\n      <td>0</td>\n      <td>1</td>\n      <td>0</td>\n      <td>0</td>\n      <td>7</td>\n    </tr>\n    <tr>\n      <th>1651</th>\n      <td>Temptress Moon (Feng Yue) (1996)</td>\n      <td>0</td>\n      <td>0</td>\n      <td>0</td>\n      <td>0</td>\n      <td>0</td>\n      <td>0</td>\n      <td>0</td>\n      <td>0</td>\n      <td>0</td>\n      <td>...</td>\n      <td>0</td>\n      <td>0</td>\n      <td>0</td>\n      <td>0</td>\n      <td>1</td>\n      <td>0</td>\n      <td>0</td>\n      <td>0</td>\n      <td>0</td>\n      <td>5</td>\n    </tr>\n    <tr>\n      <th>1652</th>\n      <td>Entertaining Angels: The Dorothy Day Story (1996)</td>\n      <td>0</td>\n      <td>0</td>\n      <td>0</td>\n      <td>0</td>\n      <td>0</td>\n      <td>0</td>\n      <td>0</td>\n      <td>0</td>\n      <td>1</td>\n      <td>...</td>\n      <td>0</td>\n      <td>0</td>\n      <td>0</td>\n      <td>0</td>\n      <td>0</td>\n      <td>0</td>\n      <td>0</td>\n      <td>0</td>\n      <td>0</td>\n      <td>9</td>\n    </tr>\n    <tr>\n      <th>1654</th>\n      <td>Favor, The (1994)</td>\n      <td>0</td>\n      <td>0</td>\n      <td>0</td>\n      <td>0</td>\n      <td>0</td>\n      <td>1</td>\n      <td>0</td>\n      <td>0</td>\n      <td>0</td>\n      <td>...</td>\n      <td>0</td>\n      <td>0</td>\n      <td>0</td>\n      <td>0</td>\n      <td>1</td>\n      <td>0</td>\n      <td>0</td>\n      <td>0</td>\n      <td>0</td>\n      <td>0</td>\n    </tr>\n    <tr>\n      <th>1655</th>\n      <td>Little City (1998)</td>\n      <td>0</td>\n      <td>0</td>\n      <td>0</td>\n      <td>0</td>\n      <td>0</td>\n      <td>1</td>\n      <td>0</td>\n      <td>0</td>\n      <td>0</td>\n      <td>...</td>\n      <td>0</td>\n      <td>0</td>\n      <td>0</td>\n      <td>0</td>\n      <td>1</td>\n      <td>0</td>\n      <td>0</td>\n      <td>0</td>\n      <td>0</td>\n      <td>0</td>\n    </tr>\n    <tr>\n      <th>1656</th>\n      <td>Target (1995)</td>\n      <td>0</td>\n      <td>1</td>\n      <td>0</td>\n      <td>0</td>\n      <td>0</td>\n      <td>0</td>\n      <td>0</td>\n      <td>0</td>\n      <td>1</td>\n      <td>...</td>\n      <td>0</td>\n      <td>0</td>\n      <td>0</td>\n      <td>0</td>\n      <td>0</td>\n      <td>0</td>\n      <td>0</td>\n      <td>0</td>\n      <td>0</td>\n      <td>2</td>\n    </tr>\n    <tr>\n      <th>1658</th>\n      <td>Getting Away With Murder (1996)</td>\n      <td>0</td>\n      <td>0</td>\n      <td>0</td>\n      <td>0</td>\n      <td>0</td>\n      <td>1</td>\n      <td>0</td>\n      <td>0</td>\n      <td>0</td>\n      <td>...</td>\n      <td>0</td>\n      <td>0</td>\n      <td>0</td>\n      <td>0</td>\n      <td>0</td>\n      <td>0</td>\n      <td>0</td>\n      <td>0</td>\n      <td>0</td>\n      <td>0</td>\n    </tr>\n    <tr>\n      <th>1659</th>\n      <td>Small Faces (1995)</td>\n      <td>0</td>\n      <td>0</td>\n      <td>0</td>\n      <td>0</td>\n      <td>0</td>\n      <td>0</td>\n      <td>0</td>\n      <td>0</td>\n      <td>1</td>\n      <td>...</td>\n      <td>0</td>\n      <td>0</td>\n      <td>0</td>\n      <td>0</td>\n      <td>0</td>\n      <td>0</td>\n      <td>0</td>\n      <td>0</td>\n      <td>0</td>\n      <td>9</td>\n    </tr>\n    <tr>\n      <th>1660</th>\n      <td>New Age, The (1994)</td>\n      <td>0</td>\n      <td>0</td>\n      <td>0</td>\n      <td>0</td>\n      <td>0</td>\n      <td>0</td>\n      <td>0</td>\n      <td>0</td>\n      <td>1</td>\n      <td>...</td>\n      <td>0</td>\n      <td>0</td>\n      <td>0</td>\n      <td>0</td>\n      <td>0</td>\n      <td>0</td>\n      <td>0</td>\n      <td>0</td>\n      <td>0</td>\n      <td>9</td>\n    </tr>\n    <tr>\n      <th>1661</th>\n      <td>Rough Magic (1995)</td>\n      <td>0</td>\n      <td>0</td>\n      <td>0</td>\n      <td>0</td>\n      <td>0</td>\n      <td>0</td>\n      <td>0</td>\n      <td>0</td>\n      <td>1</td>\n      <td>...</td>\n      <td>0</td>\n      <td>0</td>\n      <td>0</td>\n      <td>0</td>\n      <td>1</td>\n      <td>0</td>\n      <td>0</td>\n      <td>0</td>\n      <td>0</td>\n      <td>5</td>\n    </tr>\n    <tr>\n      <th>1662</th>\n      <td>Nothing Personal (1995)</td>\n      <td>0</td>\n      <td>0</td>\n      <td>0</td>\n      <td>0</td>\n      <td>0</td>\n      <td>0</td>\n      <td>0</td>\n      <td>0</td>\n      <td>1</td>\n      <td>...</td>\n      <td>0</td>\n      <td>0</td>\n      <td>0</td>\n      <td>0</td>\n      <td>0</td>\n      <td>0</td>\n      <td>0</td>\n      <td>1</td>\n      <td>0</td>\n      <td>8</td>\n    </tr>\n    <tr>\n      <th>1663</th>\n      <td>8 Heads in a Duffel Bag (1997)</td>\n      <td>0</td>\n      <td>0</td>\n      <td>0</td>\n      <td>0</td>\n      <td>0</td>\n      <td>1</td>\n      <td>0</td>\n      <td>0</td>\n      <td>0</td>\n      <td>...</td>\n      <td>0</td>\n      <td>0</td>\n      <td>0</td>\n      <td>0</td>\n      <td>0</td>\n      <td>0</td>\n      <td>0</td>\n      <td>0</td>\n      <td>0</td>\n      <td>0</td>\n    </tr>\n    <tr>\n      <th>1664</th>\n      <td>Brother's Kiss, A (1997)</td>\n      <td>0</td>\n      <td>0</td>\n      <td>0</td>\n      <td>0</td>\n      <td>0</td>\n      <td>0</td>\n      <td>0</td>\n      <td>0</td>\n      <td>1</td>\n      <td>...</td>\n      <td>0</td>\n      <td>0</td>\n      <td>0</td>\n      <td>0</td>\n      <td>0</td>\n      <td>0</td>\n      <td>0</td>\n      <td>0</td>\n      <td>0</td>\n      <td>9</td>\n    </tr>\n    <tr>\n      <th>1665</th>\n      <td>Ripe (1996)</td>\n      <td>0</td>\n      <td>0</td>\n      <td>0</td>\n      <td>0</td>\n      <td>0</td>\n      <td>0</td>\n      <td>0</td>\n      <td>0</td>\n      <td>1</td>\n      <td>...</td>\n      <td>0</td>\n      <td>0</td>\n      <td>0</td>\n      <td>0</td>\n      <td>0</td>\n      <td>0</td>\n      <td>0</td>\n      <td>0</td>\n      <td>0</td>\n      <td>9</td>\n    </tr>\n    <tr>\n      <th>1666</th>\n      <td>Next Step, The (1995)</td>\n      <td>0</td>\n      <td>0</td>\n      <td>0</td>\n      <td>0</td>\n      <td>0</td>\n      <td>0</td>\n      <td>0</td>\n      <td>0</td>\n      <td>1</td>\n      <td>...</td>\n      <td>0</td>\n      <td>0</td>\n      <td>0</td>\n      <td>0</td>\n      <td>0</td>\n      <td>0</td>\n      <td>0</td>\n      <td>0</td>\n      <td>0</td>\n      <td>9</td>\n    </tr>\n    <tr>\n      <th>1667</th>\n      <td>Wedding Bell Blues (1996)</td>\n      <td>0</td>\n      <td>0</td>\n      <td>0</td>\n      <td>0</td>\n      <td>0</td>\n      <td>1</td>\n      <td>0</td>\n      <td>0</td>\n      <td>0</td>\n      <td>...</td>\n      <td>0</td>\n      <td>0</td>\n      <td>0</td>\n      <td>0</td>\n      <td>0</td>\n      <td>0</td>\n      <td>0</td>\n      <td>0</td>\n      <td>0</td>\n      <td>0</td>\n    </tr>\n    <tr>\n      <th>1668</th>\n      <td>MURDER and murder (1996)</td>\n      <td>0</td>\n      <td>0</td>\n      <td>0</td>\n      <td>0</td>\n      <td>0</td>\n      <td>0</td>\n      <td>1</td>\n      <td>0</td>\n      <td>1</td>\n      <td>...</td>\n      <td>0</td>\n      <td>0</td>\n      <td>0</td>\n      <td>1</td>\n      <td>0</td>\n      <td>0</td>\n      <td>0</td>\n      <td>0</td>\n      <td>0</td>\n      <td>7</td>\n    </tr>\n    <tr>\n      <th>1669</th>\n      <td>Tainted (1998)</td>\n      <td>0</td>\n      <td>0</td>\n      <td>0</td>\n      <td>0</td>\n      <td>0</td>\n      <td>1</td>\n      <td>0</td>\n      <td>0</td>\n      <td>0</td>\n      <td>...</td>\n      <td>0</td>\n      <td>0</td>\n      <td>0</td>\n      <td>0</td>\n      <td>0</td>\n      <td>0</td>\n      <td>1</td>\n      <td>0</td>\n      <td>0</td>\n      <td>7</td>\n    </tr>\n    <tr>\n      <th>1670</th>\n      <td>Further Gesture, A (1996)</td>\n      <td>0</td>\n      <td>0</td>\n      <td>0</td>\n      <td>0</td>\n      <td>0</td>\n      <td>0</td>\n      <td>0</td>\n      <td>0</td>\n      <td>1</td>\n      <td>...</td>\n      <td>0</td>\n      <td>0</td>\n      <td>0</td>\n      <td>0</td>\n      <td>0</td>\n      <td>0</td>\n      <td>0</td>\n      <td>0</td>\n      <td>0</td>\n      <td>9</td>\n    </tr>\n    <tr>\n      <th>1671</th>\n      <td>Kika (1993)</td>\n      <td>0</td>\n      <td>0</td>\n      <td>0</td>\n      <td>0</td>\n      <td>0</td>\n      <td>0</td>\n      <td>0</td>\n      <td>0</td>\n      <td>1</td>\n      <td>...</td>\n      <td>0</td>\n      <td>0</td>\n      <td>0</td>\n      <td>0</td>\n      <td>0</td>\n      <td>0</td>\n      <td>0</td>\n      <td>0</td>\n      <td>0</td>\n      <td>9</td>\n    </tr>\n    <tr>\n      <th>1672</th>\n      <td>Mirage (1995)</td>\n      <td>0</td>\n      <td>1</td>\n      <td>0</td>\n      <td>0</td>\n      <td>0</td>\n      <td>0</td>\n      <td>0</td>\n      <td>0</td>\n      <td>0</td>\n      <td>...</td>\n      <td>0</td>\n      <td>0</td>\n      <td>0</td>\n      <td>0</td>\n      <td>0</td>\n      <td>0</td>\n      <td>1</td>\n      <td>0</td>\n      <td>0</td>\n      <td>2</td>\n    </tr>\n    <tr>\n      <th>1673</th>\n      <td>Mamma Roma (1962)</td>\n      <td>0</td>\n      <td>0</td>\n      <td>0</td>\n      <td>0</td>\n      <td>0</td>\n      <td>0</td>\n      <td>0</td>\n      <td>0</td>\n      <td>1</td>\n      <td>...</td>\n      <td>0</td>\n      <td>0</td>\n      <td>0</td>\n      <td>0</td>\n      <td>0</td>\n      <td>0</td>\n      <td>0</td>\n      <td>0</td>\n      <td>0</td>\n      <td>9</td>\n    </tr>\n    <tr>\n      <th>1674</th>\n      <td>Sunchaser, The (1996)</td>\n      <td>0</td>\n      <td>0</td>\n      <td>0</td>\n      <td>0</td>\n      <td>0</td>\n      <td>0</td>\n      <td>0</td>\n      <td>0</td>\n      <td>1</td>\n      <td>...</td>\n      <td>0</td>\n      <td>0</td>\n      <td>0</td>\n      <td>0</td>\n      <td>0</td>\n      <td>0</td>\n      <td>0</td>\n      <td>0</td>\n      <td>0</td>\n      <td>9</td>\n    </tr>\n    <tr>\n      <th>1675</th>\n      <td>War at Home, The (1996)</td>\n      <td>0</td>\n      <td>0</td>\n      <td>0</td>\n      <td>0</td>\n      <td>0</td>\n      <td>0</td>\n      <td>0</td>\n      <td>0</td>\n      <td>1</td>\n      <td>...</td>\n      <td>0</td>\n      <td>0</td>\n      <td>0</td>\n      <td>0</td>\n      <td>0</td>\n      <td>0</td>\n      <td>0</td>\n      <td>0</td>\n      <td>0</td>\n      <td>9</td>\n    </tr>\n    <tr>\n      <th>1676</th>\n      <td>Sweet Nothing (1995)</td>\n      <td>0</td>\n      <td>0</td>\n      <td>0</td>\n      <td>0</td>\n      <td>0</td>\n      <td>0</td>\n      <td>0</td>\n      <td>0</td>\n      <td>1</td>\n      <td>...</td>\n      <td>0</td>\n      <td>0</td>\n      <td>0</td>\n      <td>0</td>\n      <td>0</td>\n      <td>0</td>\n      <td>0</td>\n      <td>0</td>\n      <td>0</td>\n      <td>9</td>\n    </tr>\n    <tr>\n      <th>1677</th>\n      <td>Mat' i syn (1997)</td>\n      <td>0</td>\n      <td>0</td>\n      <td>0</td>\n      <td>0</td>\n      <td>0</td>\n      <td>0</td>\n      <td>0</td>\n      <td>0</td>\n      <td>1</td>\n      <td>...</td>\n      <td>0</td>\n      <td>0</td>\n      <td>0</td>\n      <td>0</td>\n      <td>0</td>\n      <td>0</td>\n      <td>0</td>\n      <td>0</td>\n      <td>0</td>\n      <td>9</td>\n    </tr>\n    <tr>\n      <th>1678</th>\n      <td>B. Monkey (1998)</td>\n      <td>0</td>\n      <td>0</td>\n      <td>0</td>\n      <td>0</td>\n      <td>0</td>\n      <td>0</td>\n      <td>0</td>\n      <td>0</td>\n      <td>0</td>\n      <td>...</td>\n      <td>0</td>\n      <td>0</td>\n      <td>0</td>\n      <td>0</td>\n      <td>1</td>\n      <td>0</td>\n      <td>1</td>\n      <td>0</td>\n      <td>0</td>\n      <td>5</td>\n    </tr>\n    <tr>\n      <th>1680</th>\n      <td>You So Crazy (1994)</td>\n      <td>0</td>\n      <td>0</td>\n      <td>0</td>\n      <td>0</td>\n      <td>0</td>\n      <td>1</td>\n      <td>0</td>\n      <td>0</td>\n      <td>0</td>\n      <td>...</td>\n      <td>0</td>\n      <td>0</td>\n      <td>0</td>\n      <td>0</td>\n      <td>0</td>\n      <td>0</td>\n      <td>0</td>\n      <td>0</td>\n      <td>0</td>\n      <td>0</td>\n    </tr>\n    <tr>\n      <th>1681</th>\n      <td>Scream of Stone (Schrei aus Stein) (1991)</td>\n      <td>0</td>\n      <td>0</td>\n      <td>0</td>\n      <td>0</td>\n      <td>0</td>\n      <td>0</td>\n      <td>0</td>\n      <td>0</td>\n      <td>1</td>\n      <td>...</td>\n      <td>0</td>\n      <td>0</td>\n      <td>0</td>\n      <td>0</td>\n      <td>0</td>\n      <td>0</td>\n      <td>0</td>\n      <td>0</td>\n      <td>0</td>\n      <td>9</td>\n    </tr>\n  </tbody>\n</table>\n<p>1664 rows × 21 columns</p>\n</div>",
            "text/plain": "                                                  Title  Unknown  Action  \\\n0                                      Toy Story (1995)        0       0   \n1                                      GoldenEye (1995)        0       1   \n2                                     Four Rooms (1995)        0       0   \n3                                     Get Shorty (1995)        0       1   \n4                                        Copycat (1995)        0       0   \n5     Shanghai Triad (Yao a yao yao dao waipo qiao) ...        0       0   \n6                                 Twelve Monkeys (1995)        0       0   \n7                                           Babe (1995)        0       0   \n8                               Dead Man Walking (1995)        0       0   \n9                                    Richard III (1995)        0       0   \n10                                 Seven (Se7en) (1995)        0       0   \n11                           Usual Suspects, The (1995)        0       0   \n12                              Mighty Aphrodite (1995)        0       0   \n13                                   Postino, Il (1994)        0       0   \n14                            Mr. Holland's Opus (1995)        0       0   \n15                   French Twist (Gazon maudit) (1995)        0       0   \n16                           From Dusk Till Dawn (1996)        0       1   \n17                            White Balloon, The (1995)        0       0   \n18                                Antonia's Line (1995)        0       0   \n19                            Angels and Insects (1995)        0       0   \n20                        Muppet Treasure Island (1996)        0       1   \n21                                    Braveheart (1995)        0       1   \n22                                   Taxi Driver (1976)        0       0   \n23                           Rumble in the Bronx (1995)        0       1   \n24                                 Birdcage, The (1996)        0       0   \n25                        Brothers McMullen, The (1995)        0       0   \n26                                      Bad Boys (1995)        0       1   \n27                                     Apollo 13 (1995)        0       1   \n28                                Batman Forever (1995)        0       1   \n29                                 Belle de jour (1967)        0       0   \n...                                                 ...      ...     ...   \n1648                                Big One, The (1997)        0       0   \n1650                       Spanish Prisoner, The (1997)        0       0   \n1651                   Temptress Moon (Feng Yue) (1996)        0       0   \n1652  Entertaining Angels: The Dorothy Day Story (1996)        0       0   \n1654                                  Favor, The (1994)        0       0   \n1655                                 Little City (1998)        0       0   \n1656                                      Target (1995)        0       1   \n1658                    Getting Away With Murder (1996)        0       0   \n1659                                 Small Faces (1995)        0       0   \n1660                                New Age, The (1994)        0       0   \n1661                                 Rough Magic (1995)        0       0   \n1662                            Nothing Personal (1995)        0       0   \n1663                     8 Heads in a Duffel Bag (1997)        0       0   \n1664                           Brother's Kiss, A (1997)        0       0   \n1665                                        Ripe (1996)        0       0   \n1666                              Next Step, The (1995)        0       0   \n1667                          Wedding Bell Blues (1996)        0       0   \n1668                           MURDER and murder (1996)        0       0   \n1669                                     Tainted (1998)        0       0   \n1670                          Further Gesture, A (1996)        0       0   \n1671                                        Kika (1993)        0       0   \n1672                                      Mirage (1995)        0       1   \n1673                                  Mamma Roma (1962)        0       0   \n1674                              Sunchaser, The (1996)        0       0   \n1675                            War at Home, The (1996)        0       0   \n1676                               Sweet Nothing (1995)        0       0   \n1677                                  Mat' i syn (1997)        0       0   \n1678                                   B. Monkey (1998)        0       0   \n1680                                You So Crazy (1994)        0       0   \n1681          Scream of Stone (Schrei aus Stein) (1991)        0       0   \n\n      Adventure  Animation  Children  Comedy  Crime  Documentary  Drama  \\\n0             0          1         1       1      0            0      0   \n1             1          0         0       0      0            0      0   \n2             0          0         0       0      0            0      0   \n3             0          0         0       1      0            0      1   \n4             0          0         0       0      1            0      1   \n5             0          0         0       0      0            0      1   \n6             0          0         0       0      0            0      1   \n7             0          0         1       1      0            0      1   \n8             0          0         0       0      0            0      1   \n9             0          0         0       0      0            0      1   \n10            0          0         0       0      1            0      0   \n11            0          0         0       0      1            0      0   \n12            0          0         0       1      0            0      0   \n13            0          0         0       0      0            0      1   \n14            0          0         0       0      0            0      1   \n15            0          0         0       1      0            0      0   \n16            0          0         0       1      1            0      0   \n17            0          0         0       0      0            0      1   \n18            0          0         0       0      0            0      1   \n19            0          0         0       0      0            0      1   \n20            1          0         0       1      0            0      0   \n21            0          0         0       0      0            0      1   \n22            0          0         0       0      0            0      1   \n23            1          0         0       0      1            0      0   \n24            0          0         0       1      0            0      0   \n25            0          0         0       1      0            0      0   \n26            0          0         0       0      0            0      0   \n27            0          0         0       0      0            0      1   \n28            1          0         0       1      1            0      0   \n29            0          0         0       0      0            0      1   \n...         ...        ...       ...     ...    ...          ...    ...   \n1648          0          0         0       1      0            1      0   \n1650          0          0         0       0      0            0      1   \n1651          0          0         0       0      0            0      0   \n1652          0          0         0       0      0            0      1   \n1654          0          0         0       1      0            0      0   \n1655          0          0         0       1      0            0      0   \n1656          0          0         0       0      0            0      1   \n1658          0          0         0       1      0            0      0   \n1659          0          0         0       0      0            0      1   \n1660          0          0         0       0      0            0      1   \n1661          0          0         0       0      0            0      1   \n1662          0          0         0       0      0            0      1   \n1663          0          0         0       1      0            0      0   \n1664          0          0         0       0      0            0      1   \n1665          0          0         0       0      0            0      1   \n1666          0          0         0       0      0            0      1   \n1667          0          0         0       1      0            0      0   \n1668          0          0         0       0      1            0      1   \n1669          0          0         0       1      0            0      0   \n1670          0          0         0       0      0            0      1   \n1671          0          0         0       0      0            0      1   \n1672          0          0         0       0      0            0      0   \n1673          0          0         0       0      0            0      1   \n1674          0          0         0       0      0            0      1   \n1675          0          0         0       0      0            0      1   \n1676          0          0         0       0      0            0      1   \n1677          0          0         0       0      0            0      1   \n1678          0          0         0       0      0            0      0   \n1680          0          0         0       1      0            0      0   \n1681          0          0         0       0      0            0      1   \n\n        ...     FilmNoir  Horror  Musical  Mystery  Romance  SciFi  Thriller  \\\n0       ...            0       0        0        0        0      0         0   \n1       ...            0       0        0        0        0      0         1   \n2       ...            0       0        0        0        0      0         1   \n3       ...            0       0        0        0        0      0         0   \n4       ...            0       0        0        0        0      0         1   \n5       ...            0       0        0        0        0      0         0   \n6       ...            0       0        0        0        0      1         0   \n7       ...            0       0        0        0        0      0         0   \n8       ...            0       0        0        0        0      0         0   \n9       ...            0       0        0        0        0      0         0   \n10      ...            0       0        0        0        0      0         1   \n11      ...            0       0        0        0        0      0         1   \n12      ...            0       0        0        0        0      0         0   \n13      ...            0       0        0        0        1      0         0   \n14      ...            0       0        0        0        0      0         0   \n15      ...            0       0        0        0        1      0         0   \n16      ...            0       1        0        0        0      0         1   \n17      ...            0       0        0        0        0      0         0   \n18      ...            0       0        0        0        0      0         0   \n19      ...            0       0        0        0        1      0         0   \n20      ...            0       0        1        0        0      0         1   \n21      ...            0       0        0        0        0      0         0   \n22      ...            0       0        0        0        0      0         1   \n23      ...            0       0        0        0        0      0         0   \n24      ...            0       0        0        0        0      0         0   \n25      ...            0       0        0        0        0      0         0   \n26      ...            0       0        0        0        0      0         0   \n27      ...            0       0        0        0        0      0         1   \n28      ...            0       0        0        0        0      0         0   \n29      ...            0       0        0        0        0      0         0   \n...     ...          ...     ...      ...      ...      ...    ...       ...   \n1648    ...            0       0        0        0        0      0         0   \n1650    ...            0       0        0        0        0      0         1   \n1651    ...            0       0        0        0        1      0         0   \n1652    ...            0       0        0        0        0      0         0   \n1654    ...            0       0        0        0        1      0         0   \n1655    ...            0       0        0        0        1      0         0   \n1656    ...            0       0        0        0        0      0         0   \n1658    ...            0       0        0        0        0      0         0   \n1659    ...            0       0        0        0        0      0         0   \n1660    ...            0       0        0        0        0      0         0   \n1661    ...            0       0        0        0        1      0         0   \n1662    ...            0       0        0        0        0      0         0   \n1663    ...            0       0        0        0        0      0         0   \n1664    ...            0       0        0        0        0      0         0   \n1665    ...            0       0        0        0        0      0         0   \n1666    ...            0       0        0        0        0      0         0   \n1667    ...            0       0        0        0        0      0         0   \n1668    ...            0       0        0        1        0      0         0   \n1669    ...            0       0        0        0        0      0         1   \n1670    ...            0       0        0        0        0      0         0   \n1671    ...            0       0        0        0        0      0         0   \n1672    ...            0       0        0        0        0      0         1   \n1673    ...            0       0        0        0        0      0         0   \n1674    ...            0       0        0        0        0      0         0   \n1675    ...            0       0        0        0        0      0         0   \n1676    ...            0       0        0        0        0      0         0   \n1677    ...            0       0        0        0        0      0         0   \n1678    ...            0       0        0        0        1      0         1   \n1680    ...            0       0        0        0        0      0         0   \n1681    ...            0       0        0        0        0      0         0   \n\n      War  Western  clusters  \n0       0        0         6  \n1       0        0         3  \n2       0        0         7  \n3       0        0         0  \n4       0        0         4  \n5       0        0         9  \n6       0        0         2  \n7       0        0         6  \n8       0        0         9  \n9       1        0         8  \n10      0        0         7  \n11      0        0         7  \n12      0        0         0  \n13      0        0         5  \n14      0        0         9  \n15      0        0         0  \n16      0        0         4  \n17      0        0         9  \n18      0        0         9  \n19      0        0         5  \n20      0        0         0  \n21      1        0         8  \n22      0        0         7  \n23      0        0         4  \n24      0        0         0  \n25      0        0         0  \n26      0        0         2  \n27      0        0         2  \n28      0        0         4  \n29      0        0         9  \n...   ...      ...       ...  \n1648    0        0         1  \n1650    0        0         7  \n1651    0        0         5  \n1652    0        0         9  \n1654    0        0         0  \n1655    0        0         0  \n1656    0        0         2  \n1658    0        0         0  \n1659    0        0         9  \n1660    0        0         9  \n1661    0        0         5  \n1662    1        0         8  \n1663    0        0         0  \n1664    0        0         9  \n1665    0        0         9  \n1666    0        0         9  \n1667    0        0         0  \n1668    0        0         7  \n1669    0        0         7  \n1670    0        0         9  \n1671    0        0         9  \n1672    0        0         2  \n1673    0        0         9  \n1674    0        0         9  \n1675    0        0         9  \n1676    0        0         9  \n1677    0        0         9  \n1678    0        0         5  \n1680    0        0         0  \n1681    0        0         9  \n\n[1664 rows x 21 columns]"
          },
          "metadata": {}
        }
      ]
    },
    {
      "metadata": {
        "trusted": true
      },
      "cell_type": "code",
      "source": "movies.groupby(by='clusters').mean()",
      "execution_count": 79,
      "outputs": [
        {
          "output_type": "execute_result",
          "execution_count": 79,
          "data": {
            "text/html": "<div>\n<style scoped>\n    .dataframe tbody tr th:only-of-type {\n        vertical-align: middle;\n    }\n\n    .dataframe tbody tr th {\n        vertical-align: top;\n    }\n\n    .dataframe thead th {\n        text-align: right;\n    }\n</style>\n<table border=\"1\" class=\"dataframe\">\n  <thead>\n    <tr style=\"text-align: right;\">\n      <th></th>\n      <th>Unknown</th>\n      <th>Action</th>\n      <th>Adventure</th>\n      <th>Animation</th>\n      <th>Children</th>\n      <th>Comedy</th>\n      <th>Crime</th>\n      <th>Documentary</th>\n      <th>Drama</th>\n      <th>Fantasy</th>\n      <th>FilmNoir</th>\n      <th>Horror</th>\n      <th>Musical</th>\n      <th>Mystery</th>\n      <th>Romance</th>\n      <th>SciFi</th>\n      <th>Thriller</th>\n      <th>War</th>\n      <th>Western</th>\n    </tr>\n    <tr>\n      <th>clusters</th>\n      <th></th>\n      <th></th>\n      <th></th>\n      <th></th>\n      <th></th>\n      <th></th>\n      <th></th>\n      <th></th>\n      <th></th>\n      <th></th>\n      <th></th>\n      <th></th>\n      <th></th>\n      <th></th>\n      <th></th>\n      <th></th>\n      <th></th>\n      <th></th>\n      <th></th>\n    </tr>\n  </thead>\n  <tbody>\n    <tr>\n      <th>0</th>\n      <td>0.000000</td>\n      <td>0.064665</td>\n      <td>0.027714</td>\n      <td>0.000000</td>\n      <td>0.009238</td>\n      <td>0.921478</td>\n      <td>0.002309</td>\n      <td>0.000000</td>\n      <td>0.210162</td>\n      <td>0.000000</td>\n      <td>0.000000</td>\n      <td>0.004619</td>\n      <td>0.080831</td>\n      <td>0.000000</td>\n      <td>0.207852</td>\n      <td>0.006928</td>\n      <td>0.002309</td>\n      <td>0.004619</td>\n      <td>0.055427</td>\n    </tr>\n    <tr>\n      <th>1</th>\n      <td>0.000000</td>\n      <td>0.000000</td>\n      <td>0.000000</td>\n      <td>0.000000</td>\n      <td>0.000000</td>\n      <td>0.092437</td>\n      <td>0.000000</td>\n      <td>0.411765</td>\n      <td>0.067227</td>\n      <td>0.000000</td>\n      <td>0.000000</td>\n      <td>0.588235</td>\n      <td>0.000000</td>\n      <td>0.000000</td>\n      <td>0.016807</td>\n      <td>0.000000</td>\n      <td>0.092437</td>\n      <td>0.000000</td>\n      <td>0.000000</td>\n    </tr>\n    <tr>\n      <th>2</th>\n      <td>0.000000</td>\n      <td>0.794521</td>\n      <td>0.027397</td>\n      <td>0.006849</td>\n      <td>0.000000</td>\n      <td>0.061644</td>\n      <td>0.047945</td>\n      <td>0.000000</td>\n      <td>0.212329</td>\n      <td>0.000000</td>\n      <td>0.000000</td>\n      <td>0.095890</td>\n      <td>0.000000</td>\n      <td>0.000000</td>\n      <td>0.000000</td>\n      <td>0.369863</td>\n      <td>0.383562</td>\n      <td>0.027397</td>\n      <td>0.000000</td>\n    </tr>\n    <tr>\n      <th>3</th>\n      <td>0.020833</td>\n      <td>0.510417</td>\n      <td>0.968750</td>\n      <td>0.041667</td>\n      <td>0.364583</td>\n      <td>0.010417</td>\n      <td>0.000000</td>\n      <td>0.000000</td>\n      <td>0.104167</td>\n      <td>0.093750</td>\n      <td>0.000000</td>\n      <td>0.000000</td>\n      <td>0.031250</td>\n      <td>0.020833</td>\n      <td>0.000000</td>\n      <td>0.270833</td>\n      <td>0.197917</td>\n      <td>0.000000</td>\n      <td>0.020833</td>\n    </tr>\n    <tr>\n      <th>4</th>\n      <td>0.000000</td>\n      <td>0.202899</td>\n      <td>0.086957</td>\n      <td>0.000000</td>\n      <td>0.000000</td>\n      <td>0.173913</td>\n      <td>1.000000</td>\n      <td>0.000000</td>\n      <td>0.478261</td>\n      <td>0.000000</td>\n      <td>0.000000</td>\n      <td>0.028986</td>\n      <td>0.000000</td>\n      <td>0.014493</td>\n      <td>0.057971</td>\n      <td>0.014493</td>\n      <td>0.202899</td>\n      <td>0.000000</td>\n      <td>0.000000</td>\n    </tr>\n    <tr>\n      <th>5</th>\n      <td>0.000000</td>\n      <td>0.173554</td>\n      <td>0.107438</td>\n      <td>0.000000</td>\n      <td>0.008264</td>\n      <td>0.016529</td>\n      <td>0.016529</td>\n      <td>0.000000</td>\n      <td>0.595041</td>\n      <td>0.000000</td>\n      <td>0.008264</td>\n      <td>0.000000</td>\n      <td>0.000000</td>\n      <td>0.000000</td>\n      <td>1.000000</td>\n      <td>0.024793</td>\n      <td>0.099174</td>\n      <td>0.033058</td>\n      <td>0.000000</td>\n    </tr>\n    <tr>\n      <th>6</th>\n      <td>0.000000</td>\n      <td>0.034091</td>\n      <td>0.022727</td>\n      <td>0.409091</td>\n      <td>0.875000</td>\n      <td>0.454545</td>\n      <td>0.011364</td>\n      <td>0.000000</td>\n      <td>0.159091</td>\n      <td>0.136364</td>\n      <td>0.000000</td>\n      <td>0.000000</td>\n      <td>0.204545</td>\n      <td>0.000000</td>\n      <td>0.045455</td>\n      <td>0.045455</td>\n      <td>0.011364</td>\n      <td>0.000000</td>\n      <td>0.000000</td>\n    </tr>\n    <tr>\n      <th>7</th>\n      <td>0.000000</td>\n      <td>0.037267</td>\n      <td>0.000000</td>\n      <td>0.000000</td>\n      <td>0.012422</td>\n      <td>0.111801</td>\n      <td>0.167702</td>\n      <td>0.000000</td>\n      <td>0.316770</td>\n      <td>0.006211</td>\n      <td>0.142857</td>\n      <td>0.012422</td>\n      <td>0.000000</td>\n      <td>0.354037</td>\n      <td>0.068323</td>\n      <td>0.037267</td>\n      <td>0.801242</td>\n      <td>0.000000</td>\n      <td>0.000000</td>\n    </tr>\n    <tr>\n      <th>8</th>\n      <td>0.000000</td>\n      <td>0.196721</td>\n      <td>0.049180</td>\n      <td>0.016393</td>\n      <td>0.016393</td>\n      <td>0.163934</td>\n      <td>0.000000</td>\n      <td>0.016393</td>\n      <td>0.590164</td>\n      <td>0.000000</td>\n      <td>0.000000</td>\n      <td>0.000000</td>\n      <td>0.000000</td>\n      <td>0.000000</td>\n      <td>0.196721</td>\n      <td>0.049180</td>\n      <td>0.081967</td>\n      <td>1.000000</td>\n      <td>0.016393</td>\n    </tr>\n    <tr>\n      <th>9</th>\n      <td>0.000000</td>\n      <td>0.000000</td>\n      <td>0.000000</td>\n      <td>0.000000</td>\n      <td>0.000000</td>\n      <td>0.000000</td>\n      <td>0.000000</td>\n      <td>0.000000</td>\n      <td>1.000000</td>\n      <td>0.000000</td>\n      <td>0.000000</td>\n      <td>0.000000</td>\n      <td>0.000000</td>\n      <td>0.000000</td>\n      <td>0.000000</td>\n      <td>0.000000</td>\n      <td>0.000000</td>\n      <td>0.000000</td>\n      <td>0.000000</td>\n    </tr>\n  </tbody>\n</table>\n</div>",
            "text/plain": "           Unknown    Action  Adventure  Animation  Children    Comedy  \\\nclusters                                                                 \n0         0.000000  0.064665   0.027714   0.000000  0.009238  0.921478   \n1         0.000000  0.000000   0.000000   0.000000  0.000000  0.092437   \n2         0.000000  0.794521   0.027397   0.006849  0.000000  0.061644   \n3         0.020833  0.510417   0.968750   0.041667  0.364583  0.010417   \n4         0.000000  0.202899   0.086957   0.000000  0.000000  0.173913   \n5         0.000000  0.173554   0.107438   0.000000  0.008264  0.016529   \n6         0.000000  0.034091   0.022727   0.409091  0.875000  0.454545   \n7         0.000000  0.037267   0.000000   0.000000  0.012422  0.111801   \n8         0.000000  0.196721   0.049180   0.016393  0.016393  0.163934   \n9         0.000000  0.000000   0.000000   0.000000  0.000000  0.000000   \n\n             Crime  Documentary     Drama   Fantasy  FilmNoir    Horror  \\\nclusters                                                                  \n0         0.002309     0.000000  0.210162  0.000000  0.000000  0.004619   \n1         0.000000     0.411765  0.067227  0.000000  0.000000  0.588235   \n2         0.047945     0.000000  0.212329  0.000000  0.000000  0.095890   \n3         0.000000     0.000000  0.104167  0.093750  0.000000  0.000000   \n4         1.000000     0.000000  0.478261  0.000000  0.000000  0.028986   \n5         0.016529     0.000000  0.595041  0.000000  0.008264  0.000000   \n6         0.011364     0.000000  0.159091  0.136364  0.000000  0.000000   \n7         0.167702     0.000000  0.316770  0.006211  0.142857  0.012422   \n8         0.000000     0.016393  0.590164  0.000000  0.000000  0.000000   \n9         0.000000     0.000000  1.000000  0.000000  0.000000  0.000000   \n\n           Musical   Mystery   Romance     SciFi  Thriller       War   Western  \nclusters                                                                        \n0         0.080831  0.000000  0.207852  0.006928  0.002309  0.004619  0.055427  \n1         0.000000  0.000000  0.016807  0.000000  0.092437  0.000000  0.000000  \n2         0.000000  0.000000  0.000000  0.369863  0.383562  0.027397  0.000000  \n3         0.031250  0.020833  0.000000  0.270833  0.197917  0.000000  0.020833  \n4         0.000000  0.014493  0.057971  0.014493  0.202899  0.000000  0.000000  \n5         0.000000  0.000000  1.000000  0.024793  0.099174  0.033058  0.000000  \n6         0.204545  0.000000  0.045455  0.045455  0.011364  0.000000  0.000000  \n7         0.000000  0.354037  0.068323  0.037267  0.801242  0.000000  0.000000  \n8         0.000000  0.000000  0.196721  0.049180  0.081967  1.000000  0.016393  \n9         0.000000  0.000000  0.000000  0.000000  0.000000  0.000000  0.000000  "
          },
          "metadata": {}
        }
      ]
    },
    {
      "metadata": {
        "trusted": true
      },
      "cell_type": "code",
      "source": "movies.groupby(['clusters','Romance'])['clusters'].count()",
      "execution_count": 80,
      "outputs": [
        {
          "output_type": "execute_result",
          "execution_count": 80,
          "data": {
            "text/plain": "clusters  Romance\n0         0          343\n          1           90\n1         0          117\n          1            2\n2         0          146\n3         0           96\n4         0           65\n          1            4\n5         1          121\n6         0           84\n          1            4\n7         0          150\n          1           11\n8         0           49\n          1           12\n9         0          370\nName: clusters, dtype: int64"
          },
          "metadata": {}
        }
      ]
    },
    {
      "metadata": {
        "trusted": true
      },
      "cell_type": "code",
      "source": "movies[movies.Title.str.contains('Men in Black')]['clusters']",
      "execution_count": 81,
      "outputs": [
        {
          "output_type": "execute_result",
          "execution_count": 81,
          "data": {
            "text/plain": "256    0\nName: clusters, dtype: int64"
          },
          "metadata": {}
        }
      ]
    },
    {
      "metadata": {
        "trusted": true
      },
      "cell_type": "code",
      "source": "movies[movies['clusters']==0]['Title'].iloc[0:10]",
      "execution_count": 82,
      "outputs": [
        {
          "output_type": "execute_result",
          "execution_count": 82,
          "data": {
            "text/plain": "3                                     Get Shorty (1995)\n12                              Mighty Aphrodite (1995)\n15                   French Twist (Gazon maudit) (1995)\n20                        Muppet Treasure Island (1996)\n24                                 Birdcage, The (1996)\n25                        Brothers McMullen, The (1995)\n33                          Doom Generation, The (1995)\n39    To Wong Foo, Thanks for Everything! Julie Newm...\n40                                 Billy Madison (1995)\n41                                        Clerks (1994)\nName: Title, dtype: object"
          },
          "metadata": {}
        }
      ]
    },
    {
      "metadata": {
        "trusted": true
      },
      "cell_type": "code",
      "source": "km = kmeans(n_clusters=10,random_state=42)",
      "execution_count": 83,
      "outputs": []
    },
    {
      "metadata": {
        "trusted": true
      },
      "cell_type": "code",
      "source": "km.fit(movies.iloc[:,1:20])",
      "execution_count": 84,
      "outputs": [
        {
          "output_type": "execute_result",
          "execution_count": 84,
          "data": {
            "text/plain": "KMeans(algorithm='auto', copy_x=True, init='k-means++', max_iter=300,\n    n_clusters=10, n_init=10, n_jobs=None, precompute_distances='auto',\n    random_state=42, tol=0.0001, verbose=0)"
          },
          "metadata": {}
        }
      ]
    },
    {
      "metadata": {
        "trusted": true
      },
      "cell_type": "code",
      "source": "km.labels_",
      "execution_count": 85,
      "outputs": [
        {
          "output_type": "execute_result",
          "execution_count": 85,
          "data": {
            "text/plain": "array([8, 0, 5, ..., 5, 2, 1], dtype=int32)"
          },
          "metadata": {}
        }
      ]
    },
    {
      "metadata": {
        "trusted": true
      },
      "cell_type": "code",
      "source": "movies['kmeansclust'] = km.labels_",
      "execution_count": 86,
      "outputs": []
    },
    {
      "metadata": {
        "trusted": true
      },
      "cell_type": "code",
      "source": "km.n_iter_,km.max_iter",
      "execution_count": 87,
      "outputs": [
        {
          "output_type": "execute_result",
          "execution_count": 87,
          "data": {
            "text/plain": "(7, 300)"
          },
          "metadata": {}
        }
      ]
    },
    {
      "metadata": {
        "trusted": true
      },
      "cell_type": "code",
      "source": "km.inertia_",
      "execution_count": 88,
      "outputs": [
        {
          "output_type": "execute_result",
          "execution_count": 88,
          "data": {
            "text/plain": "910.9015174253699"
          },
          "metadata": {}
        }
      ]
    },
    {
      "metadata": {},
      "cell_type": "markdown",
      "source": "###### movies.head(2)"
    },
    {
      "metadata": {
        "trusted": true
      },
      "cell_type": "code",
      "source": "pd.Series(km.labels_).value_counts().sort_index()",
      "execution_count": 89,
      "outputs": [
        {
          "output_type": "execute_result",
          "execution_count": 89,
          "data": {
            "text/plain": "0    189\n1    511\n2    305\n3     64\n4    131\n5    168\n6     50\n7     86\n8     82\n9     78\ndtype: int64"
          },
          "metadata": {}
        }
      ]
    },
    {
      "metadata": {
        "trusted": true
      },
      "cell_type": "code",
      "source": "km.cluster_centers_",
      "execution_count": 90,
      "outputs": [
        {
          "output_type": "execute_result",
          "execution_count": 90,
          "data": {
            "text/plain": "array([[ 2.81892565e-18,  1.00000000e+00,  3.49206349e-01,\n         1.05820106e-02,  2.64550265e-02,  5.82010582e-02,\n         8.99470899e-02,  3.46944695e-17,  5.82010582e-02,\n         5.29100529e-03, -1.73472348e-17,  4.76190476e-02,\n         1.05820106e-02,  3.70370370e-02,  8.46560847e-02,\n         2.75132275e-01,  4.39153439e-01,  6.34920635e-02,\n         1.05820106e-02],\n       [-6.50521303e-18,  4.89236791e-02,  7.82778865e-03,\n        -2.74086309e-16,  2.34833659e-02,  1.49880108e-15,\n         5.67514677e-02,  1.83880688e-16,  1.00000000e+00,\n         7.82778865e-03,  3.91389432e-03,  9.78473581e-03,\n         1.56555773e-02,  1.56555773e-02,  1.02695630e-15,\n         1.36986301e-02,  6.65362035e-02,  5.28375734e-02,\n         7.82778865e-03],\n       [ 3.46944695e-18,  4.91803279e-02,  3.27868852e-03,\n         1.31147541e-02,  9.18032787e-02,  1.00000000e+00,\n         2.62295082e-02,  1.21430643e-16, -1.83186799e-15,\n         1.31147541e-02, -3.46944695e-17,  3.60655738e-02,\n         3.27868852e-02,  1.63934426e-02,  2.22044605e-16,\n         2.29508197e-02,  1.63934426e-02,  2.62295082e-02,\n         2.29508197e-02],\n       [ 0.00000000e+00,  6.25000000e-02, -6.93889390e-17,\n         2.08166817e-17, -4.16333634e-17,  5.55111512e-17,\n         1.38777878e-17,  3.81639165e-17,  6.66133815e-16,\n        -6.93889390e-18,  2.25514052e-17,  1.00000000e+00,\n        -5.55111512e-17,  1.56250000e-02,  3.12500000e-02,\n         6.25000000e-02,  2.03125000e-01,  3.46944695e-17,\n        -1.38777878e-17],\n       [ 2.16840434e-18,  1.52671756e-02,  4.58015267e-02,\n         7.63358779e-03,  7.63358779e-03,  7.32824427e-01,\n        -1.94289029e-16, -6.59194921e-17,  8.39694656e-02,\n         7.63358779e-03,  3.64291930e-17,  9.02056208e-17,\n         8.39694656e-02,  1.52671756e-02,  1.00000000e+00,\n         7.63358779e-03,  3.05343511e-02,  3.05343511e-02,\n         2.42861287e-17],\n       [ 1.19047619e-02, -2.22044605e-16,  1.78571429e-02,\n         2.38095238e-02, -2.63677968e-16,  1.19047619e-02,\n         2.67857143e-01,  3.46944695e-18,  6.54761905e-02,\n         5.95238095e-03,  1.30952381e-01,  5.95238095e-03,\n         2.97619048e-02,  1.96428571e-01,  3.57142857e-02,\n         1.30952381e-01,  6.13095238e-01,  3.57142857e-02,\n         7.73809524e-02],\n       [-8.67361738e-19, -1.11022302e-16,  1.38777878e-17,\n         1.73472348e-17,  1.38777878e-17,  2.00000000e-02,\n         1.38777878e-17,  1.00000000e+00,  6.00000000e-02,\n        -6.93889390e-18,  1.38777878e-17,  1.38777878e-17,\n        -4.16333634e-17,  6.93889390e-18,  1.94289029e-16,\n         6.93889390e-17, -8.32667268e-17,  2.00000000e-02,\n        -1.38777878e-17],\n       [ 1.08420217e-18,  8.13953488e-02,  2.32558140e-02,\n         2.42861287e-17, -1.38777878e-16, -2.22044605e-16,\n         4.65116279e-02, -1.04083409e-17,  1.00000000e+00,\n         6.93889390e-18,  2.94902991e-17,  6.93889390e-17,\n        -6.93889390e-17,  3.48837209e-02,  1.00000000e+00,\n         1.16279070e-02,  5.81395349e-02,  9.30232558e-02,\n         1.16279070e-02],\n       [ 8.67361738e-19,  4.87804878e-02,  6.09756098e-01,\n         3.78048780e-01,  8.78048780e-01,  1.09756098e-01,\n        -8.32667268e-17, -3.46944695e-18,  6.09756098e-02,\n         1.34146341e-01,  2.77555756e-17,  6.24500451e-17,\n         2.31707317e-01, -6.24500451e-17,  3.65853659e-02,\n         7.31707317e-02, -8.32667268e-17,  3.65853659e-02,\n         6.93889390e-18],\n       [ 8.67361738e-19,  3.84615385e-02,  1.28205128e-02,\n         2.42861287e-17,  2.56410256e-02,  1.00000000e+00,\n         5.12820513e-02,  6.93889390e-18,  1.00000000e+00,\n        -3.46944695e-18,  2.60208521e-17,  6.24500451e-17,\n         1.28205128e-02,  1.28205128e-02,  2.49800181e-16,\n         1.38777878e-17,  1.28205128e-02,  2.56410256e-02,\n         3.46944695e-18]])"
          },
          "metadata": {}
        }
      ]
    },
    {
      "metadata": {
        "trusted": true
      },
      "cell_type": "code",
      "source": "pd.DataFrame(km.cluster_centers_.round(2),columns=movies.columns[1:20],index=['Act-Adv-Scifi-Thr','Drama','Comedy','Horror','Rom-Com','Cri-Mys-Thr','Documentary','Rom-Drama','Adv-Anim-Child','Com-Drama'])",
      "execution_count": 91,
      "outputs": [
        {
          "output_type": "execute_result",
          "execution_count": 91,
          "data": {
            "text/html": "<div>\n<style scoped>\n    .dataframe tbody tr th:only-of-type {\n        vertical-align: middle;\n    }\n\n    .dataframe tbody tr th {\n        vertical-align: top;\n    }\n\n    .dataframe thead th {\n        text-align: right;\n    }\n</style>\n<table border=\"1\" class=\"dataframe\">\n  <thead>\n    <tr style=\"text-align: right;\">\n      <th></th>\n      <th>Unknown</th>\n      <th>Action</th>\n      <th>Adventure</th>\n      <th>Animation</th>\n      <th>Children</th>\n      <th>Comedy</th>\n      <th>Crime</th>\n      <th>Documentary</th>\n      <th>Drama</th>\n      <th>Fantasy</th>\n      <th>FilmNoir</th>\n      <th>Horror</th>\n      <th>Musical</th>\n      <th>Mystery</th>\n      <th>Romance</th>\n      <th>SciFi</th>\n      <th>Thriller</th>\n      <th>War</th>\n      <th>Western</th>\n    </tr>\n  </thead>\n  <tbody>\n    <tr>\n      <th>Act-Adv-Scifi-Thr</th>\n      <td>0.00</td>\n      <td>1.00</td>\n      <td>0.35</td>\n      <td>0.01</td>\n      <td>0.03</td>\n      <td>0.06</td>\n      <td>0.09</td>\n      <td>0.0</td>\n      <td>0.06</td>\n      <td>0.01</td>\n      <td>-0.00</td>\n      <td>0.05</td>\n      <td>0.01</td>\n      <td>0.04</td>\n      <td>0.08</td>\n      <td>0.28</td>\n      <td>0.44</td>\n      <td>0.06</td>\n      <td>0.01</td>\n    </tr>\n    <tr>\n      <th>Drama</th>\n      <td>-0.00</td>\n      <td>0.05</td>\n      <td>0.01</td>\n      <td>-0.00</td>\n      <td>0.02</td>\n      <td>0.00</td>\n      <td>0.06</td>\n      <td>0.0</td>\n      <td>1.00</td>\n      <td>0.01</td>\n      <td>0.00</td>\n      <td>0.01</td>\n      <td>0.02</td>\n      <td>0.02</td>\n      <td>0.00</td>\n      <td>0.01</td>\n      <td>0.07</td>\n      <td>0.05</td>\n      <td>0.01</td>\n    </tr>\n    <tr>\n      <th>Comedy</th>\n      <td>0.00</td>\n      <td>0.05</td>\n      <td>0.00</td>\n      <td>0.01</td>\n      <td>0.09</td>\n      <td>1.00</td>\n      <td>0.03</td>\n      <td>0.0</td>\n      <td>-0.00</td>\n      <td>0.01</td>\n      <td>-0.00</td>\n      <td>0.04</td>\n      <td>0.03</td>\n      <td>0.02</td>\n      <td>0.00</td>\n      <td>0.02</td>\n      <td>0.02</td>\n      <td>0.03</td>\n      <td>0.02</td>\n    </tr>\n    <tr>\n      <th>Horror</th>\n      <td>0.00</td>\n      <td>0.06</td>\n      <td>-0.00</td>\n      <td>0.00</td>\n      <td>-0.00</td>\n      <td>0.00</td>\n      <td>0.00</td>\n      <td>0.0</td>\n      <td>0.00</td>\n      <td>-0.00</td>\n      <td>0.00</td>\n      <td>1.00</td>\n      <td>-0.00</td>\n      <td>0.02</td>\n      <td>0.03</td>\n      <td>0.06</td>\n      <td>0.20</td>\n      <td>0.00</td>\n      <td>-0.00</td>\n    </tr>\n    <tr>\n      <th>Rom-Com</th>\n      <td>0.00</td>\n      <td>0.02</td>\n      <td>0.05</td>\n      <td>0.01</td>\n      <td>0.01</td>\n      <td>0.73</td>\n      <td>-0.00</td>\n      <td>-0.0</td>\n      <td>0.08</td>\n      <td>0.01</td>\n      <td>0.00</td>\n      <td>0.00</td>\n      <td>0.08</td>\n      <td>0.02</td>\n      <td>1.00</td>\n      <td>0.01</td>\n      <td>0.03</td>\n      <td>0.03</td>\n      <td>0.00</td>\n    </tr>\n    <tr>\n      <th>Cri-Mys-Thr</th>\n      <td>0.01</td>\n      <td>-0.00</td>\n      <td>0.02</td>\n      <td>0.02</td>\n      <td>-0.00</td>\n      <td>0.01</td>\n      <td>0.27</td>\n      <td>0.0</td>\n      <td>0.07</td>\n      <td>0.01</td>\n      <td>0.13</td>\n      <td>0.01</td>\n      <td>0.03</td>\n      <td>0.20</td>\n      <td>0.04</td>\n      <td>0.13</td>\n      <td>0.61</td>\n      <td>0.04</td>\n      <td>0.08</td>\n    </tr>\n    <tr>\n      <th>Documentary</th>\n      <td>-0.00</td>\n      <td>-0.00</td>\n      <td>0.00</td>\n      <td>0.00</td>\n      <td>0.00</td>\n      <td>0.02</td>\n      <td>0.00</td>\n      <td>1.0</td>\n      <td>0.06</td>\n      <td>-0.00</td>\n      <td>0.00</td>\n      <td>0.00</td>\n      <td>-0.00</td>\n      <td>0.00</td>\n      <td>0.00</td>\n      <td>0.00</td>\n      <td>-0.00</td>\n      <td>0.02</td>\n      <td>-0.00</td>\n    </tr>\n    <tr>\n      <th>Rom-Drama</th>\n      <td>0.00</td>\n      <td>0.08</td>\n      <td>0.02</td>\n      <td>0.00</td>\n      <td>-0.00</td>\n      <td>-0.00</td>\n      <td>0.05</td>\n      <td>-0.0</td>\n      <td>1.00</td>\n      <td>0.00</td>\n      <td>0.00</td>\n      <td>0.00</td>\n      <td>-0.00</td>\n      <td>0.03</td>\n      <td>1.00</td>\n      <td>0.01</td>\n      <td>0.06</td>\n      <td>0.09</td>\n      <td>0.01</td>\n    </tr>\n    <tr>\n      <th>Adv-Anim-Child</th>\n      <td>0.00</td>\n      <td>0.05</td>\n      <td>0.61</td>\n      <td>0.38</td>\n      <td>0.88</td>\n      <td>0.11</td>\n      <td>-0.00</td>\n      <td>-0.0</td>\n      <td>0.06</td>\n      <td>0.13</td>\n      <td>0.00</td>\n      <td>0.00</td>\n      <td>0.23</td>\n      <td>-0.00</td>\n      <td>0.04</td>\n      <td>0.07</td>\n      <td>-0.00</td>\n      <td>0.04</td>\n      <td>0.00</td>\n    </tr>\n    <tr>\n      <th>Com-Drama</th>\n      <td>0.00</td>\n      <td>0.04</td>\n      <td>0.01</td>\n      <td>0.00</td>\n      <td>0.03</td>\n      <td>1.00</td>\n      <td>0.05</td>\n      <td>0.0</td>\n      <td>1.00</td>\n      <td>-0.00</td>\n      <td>0.00</td>\n      <td>0.00</td>\n      <td>0.01</td>\n      <td>0.01</td>\n      <td>0.00</td>\n      <td>0.00</td>\n      <td>0.01</td>\n      <td>0.03</td>\n      <td>0.00</td>\n    </tr>\n  </tbody>\n</table>\n</div>",
            "text/plain": "                   Unknown  Action  Adventure  Animation  Children  Comedy  \\\nAct-Adv-Scifi-Thr     0.00    1.00       0.35       0.01      0.03    0.06   \nDrama                -0.00    0.05       0.01      -0.00      0.02    0.00   \nComedy                0.00    0.05       0.00       0.01      0.09    1.00   \nHorror                0.00    0.06      -0.00       0.00     -0.00    0.00   \nRom-Com               0.00    0.02       0.05       0.01      0.01    0.73   \nCri-Mys-Thr           0.01   -0.00       0.02       0.02     -0.00    0.01   \nDocumentary          -0.00   -0.00       0.00       0.00      0.00    0.02   \nRom-Drama             0.00    0.08       0.02       0.00     -0.00   -0.00   \nAdv-Anim-Child        0.00    0.05       0.61       0.38      0.88    0.11   \nCom-Drama             0.00    0.04       0.01       0.00      0.03    1.00   \n\n                   Crime  Documentary  Drama  Fantasy  FilmNoir  Horror  \\\nAct-Adv-Scifi-Thr   0.09          0.0   0.06     0.01     -0.00    0.05   \nDrama               0.06          0.0   1.00     0.01      0.00    0.01   \nComedy              0.03          0.0  -0.00     0.01     -0.00    0.04   \nHorror              0.00          0.0   0.00    -0.00      0.00    1.00   \nRom-Com            -0.00         -0.0   0.08     0.01      0.00    0.00   \nCri-Mys-Thr         0.27          0.0   0.07     0.01      0.13    0.01   \nDocumentary         0.00          1.0   0.06    -0.00      0.00    0.00   \nRom-Drama           0.05         -0.0   1.00     0.00      0.00    0.00   \nAdv-Anim-Child     -0.00         -0.0   0.06     0.13      0.00    0.00   \nCom-Drama           0.05          0.0   1.00    -0.00      0.00    0.00   \n\n                   Musical  Mystery  Romance  SciFi  Thriller   War  Western  \nAct-Adv-Scifi-Thr     0.01     0.04     0.08   0.28      0.44  0.06     0.01  \nDrama                 0.02     0.02     0.00   0.01      0.07  0.05     0.01  \nComedy                0.03     0.02     0.00   0.02      0.02  0.03     0.02  \nHorror               -0.00     0.02     0.03   0.06      0.20  0.00    -0.00  \nRom-Com               0.08     0.02     1.00   0.01      0.03  0.03     0.00  \nCri-Mys-Thr           0.03     0.20     0.04   0.13      0.61  0.04     0.08  \nDocumentary          -0.00     0.00     0.00   0.00     -0.00  0.02    -0.00  \nRom-Drama            -0.00     0.03     1.00   0.01      0.06  0.09     0.01  \nAdv-Anim-Child        0.23    -0.00     0.04   0.07     -0.00  0.04     0.00  \nCom-Drama             0.01     0.01     0.00   0.00      0.01  0.03     0.00  "
          },
          "metadata": {}
        }
      ]
    },
    {
      "metadata": {
        "trusted": true
      },
      "cell_type": "code",
      "source": "movies[movies.Title.str.contains('Men in Black')]['kmeansclust']",
      "execution_count": 92,
      "outputs": [
        {
          "output_type": "execute_result",
          "execution_count": 92,
          "data": {
            "text/plain": "256    0\nName: kmeansclust, dtype: int32"
          },
          "metadata": {}
        }
      ]
    },
    {
      "metadata": {
        "trusted": true
      },
      "cell_type": "code",
      "source": "movies[movies['kmeansclust']==0]['Title'].iloc[0:10]",
      "execution_count": 93,
      "outputs": [
        {
          "output_type": "execute_result",
          "execution_count": 93,
          "data": {
            "text/plain": "1                  GoldenEye (1995)\n16       From Dusk Till Dawn (1996)\n20    Muppet Treasure Island (1996)\n23       Rumble in the Bronx (1995)\n26                  Bad Boys (1995)\n27                 Apollo 13 (1995)\n28            Batman Forever (1995)\n32                 Desperado (1995)\n38              Strange Days (1995)\n49                 Star Wars (1977)\nName: Title, dtype: object"
          },
          "metadata": {}
        }
      ]
    },
    {
      "metadata": {
        "trusted": true
      },
      "cell_type": "code",
      "source": "withinss = []\nfor i in range(2,10):\n    km=kmeans(n_clusters=i,n_init=10,random_state=42)\n    withinss.append(km.fit(movies.iloc[:,1:20]),km.inertia_)",
      "execution_count": 96,
      "outputs": [
        {
          "output_type": "error",
          "ename": "AttributeError",
          "evalue": "'KMeans' object has no attribute 'inertia_'",
          "traceback": [
            "\u001b[0;31m---------------------------------------------------------------------------\u001b[0m",
            "\u001b[0;31mAttributeError\u001b[0m                            Traceback (most recent call last)",
            "\u001b[0;32m<ipython-input-96-e8ec72ce8f2e>\u001b[0m in \u001b[0;36m<module>\u001b[0;34m\u001b[0m\n\u001b[1;32m      2\u001b[0m \u001b[0;32mfor\u001b[0m \u001b[0mi\u001b[0m \u001b[0;32min\u001b[0m \u001b[0mrange\u001b[0m\u001b[0;34m(\u001b[0m\u001b[0;36m2\u001b[0m\u001b[0;34m,\u001b[0m\u001b[0;36m10\u001b[0m\u001b[0;34m)\u001b[0m\u001b[0;34m:\u001b[0m\u001b[0;34m\u001b[0m\u001b[0m\n\u001b[1;32m      3\u001b[0m     \u001b[0mkm\u001b[0m\u001b[0;34m=\u001b[0m\u001b[0mkmeans\u001b[0m\u001b[0;34m(\u001b[0m\u001b[0mn_clusters\u001b[0m\u001b[0;34m=\u001b[0m\u001b[0mi\u001b[0m\u001b[0;34m,\u001b[0m\u001b[0mn_init\u001b[0m\u001b[0;34m=\u001b[0m\u001b[0;36m10\u001b[0m\u001b[0;34m,\u001b[0m\u001b[0mrandom_state\u001b[0m\u001b[0;34m=\u001b[0m\u001b[0;36m42\u001b[0m\u001b[0;34m)\u001b[0m\u001b[0;34m\u001b[0m\u001b[0m\n\u001b[0;32m----> 4\u001b[0;31m     \u001b[0mwithinss\u001b[0m\u001b[0;34m.\u001b[0m\u001b[0mappend\u001b[0m\u001b[0;34m(\u001b[0m\u001b[0mkm\u001b[0m\u001b[0;34m.\u001b[0m\u001b[0mfit\u001b[0m\u001b[0;34m(\u001b[0m\u001b[0mmovies\u001b[0m\u001b[0;34m.\u001b[0m\u001b[0miloc\u001b[0m\u001b[0;34m[\u001b[0m\u001b[0;34m:\u001b[0m\u001b[0;34m,\u001b[0m\u001b[0;36m1\u001b[0m\u001b[0;34m:\u001b[0m\u001b[0;36m20\u001b[0m\u001b[0;34m]\u001b[0m\u001b[0;34m,\u001b[0m\u001b[0mkm\u001b[0m\u001b[0;34m.\u001b[0m\u001b[0minertia_\u001b[0m\u001b[0;34m)\u001b[0m\u001b[0;34m)\u001b[0m\u001b[0;34m\u001b[0m\u001b[0m\n\u001b[0m",
            "\u001b[0;31mAttributeError\u001b[0m: 'KMeans' object has no attribute 'inertia_'"
          ]
        }
      ]
    },
    {
      "metadata": {
        "trusted": true
      },
      "cell_type": "code",
      "source": "plt.plot(range(2,10),withinss,'-o')\nplt.xlabel(\"Num of Clusters\")\nplt.ylabel(\"Total Within SS\")\nplt.xlim(1,22)",
      "execution_count": null,
      "outputs": []
    }
  ],
  "metadata": {
    "kernelspec": {
      "name": "python36",
      "display_name": "Python 3.6",
      "language": "python"
    },
    "language_info": {
      "mimetype": "text/x-python",
      "nbconvert_exporter": "python",
      "name": "python",
      "pygments_lexer": "ipython3",
      "version": "3.6.6",
      "file_extension": ".py",
      "codemirror_mode": {
        "version": 3,
        "name": "ipython"
      }
    }
  },
  "nbformat": 4,
  "nbformat_minor": 2
}