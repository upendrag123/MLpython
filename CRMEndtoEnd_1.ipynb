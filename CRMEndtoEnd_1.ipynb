{
  "cells": [
    {
      "metadata": {},
      "cell_type": "markdown",
      "source": "# Credit Risk Modelling"
    },
    {
      "metadata": {},
      "cell_type": "markdown",
      "source": "**Description:**\nIn this competition, you must explore and cleanse a dataset consisting of over 111,000 loan records to determine the best way to predict whether a loan applicant will fully repay or default on a loan. You must then build a machine learning model that returns the unique loan ID and a loan status label that indicates whether the loan will be fully paid or charged off."
    },
    {
      "metadata": {},
      "cell_type": "markdown",
      "source": "### Getting all the Dependencies"
    },
    {
      "metadata": {
        "trusted": true
      },
      "cell_type": "code",
      "source": "# Installing dependencies\n!pip install --upgrade pip\n!pip install numpy --upgrade --user\n!pip install pandas --upgrade --user\n!pip install scikit-learn --upgrade --user",
      "execution_count": 5,
      "outputs": [
        {
          "output_type": "stream",
          "text": "Collecting pip\n\u001b[?25l  Downloading https://files.pythonhosted.org/packages/00/b6/9cfa56b4081ad13874b0c6f96af8ce16cfbc1cb06bedf8e9164ce5551ec1/pip-19.3.1-py2.py3-none-any.whl (1.4MB)\n\u001b[K     |████████████████████████████████| 1.4MB 838kB/s eta 0:00:01\n\u001b[?25hInstalling collected packages: pip\n  Found existing installation: pip 19.2.2\n    Uninstalling pip-19.2.2:\n      Successfully uninstalled pip-19.2.2\nSuccessfully installed pip-19.3.1\nCollecting numpy\n\u001b[?25l  Downloading https://files.pythonhosted.org/packages/0e/46/ae6773894f7eacf53308086287897ec568eac9768918d913d5b9d366c5db/numpy-1.17.3-cp36-cp36m-manylinux1_x86_64.whl (20.0MB)\n\u001b[K     |████████████████████████████████| 20.0MB 7.1kB/s eta 0:00:01     |█████████████████               | 10.7MB 4.4MB/s eta 0:00:03\n\u001b[31mERROR: azureml-train-automl 1.0.57 has requirement numpy<=1.16.2,>=1.11.0, but you'll have numpy 1.17.3 which is incompatible.\u001b[0m\n\u001b[31mERROR: azureml-train-automl 1.0.57 has requirement onnxmltools==1.4.1, but you'll have onnxmltools 1.5.0 which is incompatible.\u001b[0m\n\u001b[31mERROR: azureml-opendatasets 1.0.57 has requirement numpy<=1.16.2,>=1.11.0, but you'll have numpy 1.17.3 which is incompatible.\u001b[0m\n\u001b[31mERROR: azureml-automl-core 1.0.57 has requirement numpy<=1.16.2,>=1.11.0, but you'll have numpy 1.17.3 which is incompatible.\u001b[0m\n\u001b[31mERROR: azureml-automl-core 1.0.57 has requirement onnxmltools==1.4.1, but you'll have onnxmltools 1.5.0 which is incompatible.\u001b[0m\n\u001b[?25hInstalling collected packages: numpy\nSuccessfully installed numpy-1.17.3\nCollecting pandas\n\u001b[?25l  Downloading https://files.pythonhosted.org/packages/52/3f/f6a428599e0d4497e1595030965b5ba455fd8ade6e977e3c819973c4b41d/pandas-0.25.3-cp36-cp36m-manylinux1_x86_64.whl (10.4MB)\n\u001b[K     |████████████████████████████████| 10.4MB 124kB/s eta 0:00:01    |█▏                              | 389kB 1.2MB/s eta 0:00:09     |██████████████████████████████▌ | 9.9MB 5.2MB/s eta 0:00:01\n\u001b[?25hRequirement already satisfied, skipping upgrade: numpy>=1.13.3 in /home/nbuser/.local/lib/python3.6/site-packages (from pandas) (1.17.3)\nRequirement already satisfied, skipping upgrade: python-dateutil>=2.6.1 in /home/nbuser/anaconda3_501/lib/python3.6/site-packages (from pandas) (2.8.0)\nRequirement already satisfied, skipping upgrade: pytz>=2017.2 in /home/nbuser/anaconda3_501/lib/python3.6/site-packages (from pandas) (2018.7)\nRequirement already satisfied, skipping upgrade: six>=1.5 in /home/nbuser/anaconda3_501/lib/python3.6/site-packages (from python-dateutil>=2.6.1->pandas) (1.11.0)\n\u001b[31mERROR: azureml-train-automl 1.0.57 has requirement numpy<=1.16.2,>=1.11.0, but you'll have numpy 1.17.3 which is incompatible.\u001b[0m\n\u001b[31mERROR: azureml-train-automl 1.0.57 has requirement onnxmltools==1.4.1, but you'll have onnxmltools 1.5.0 which is incompatible.\u001b[0m\n\u001b[31mERROR: azureml-train-automl 1.0.57 has requirement pandas<=0.23.4,>=0.21.0, but you'll have pandas 0.25.3 which is incompatible.\u001b[0m\n\u001b[31mERROR: azureml-opendatasets 1.0.57 has requirement numpy<=1.16.2,>=1.11.0, but you'll have numpy 1.17.3 which is incompatible.\u001b[0m\n\u001b[31mERROR: azureml-opendatasets 1.0.57 has requirement pandas<=0.23.4,>=0.21.0, but you'll have pandas 0.25.3 which is incompatible.\u001b[0m\n\u001b[31mERROR: azureml-automl-core 1.0.57 has requirement numpy<=1.16.2,>=1.11.0, but you'll have numpy 1.17.3 which is incompatible.\u001b[0m\n\u001b[31mERROR: azureml-automl-core 1.0.57 has requirement onnxmltools==1.4.1, but you'll have onnxmltools 1.5.0 which is incompatible.\u001b[0m\n\u001b[31mERROR: azureml-automl-core 1.0.57 has requirement pandas<=0.23.4,>=0.21.0, but you'll have pandas 0.25.3 which is incompatible.\u001b[0m\nInstalling collected packages: pandas\nSuccessfully installed pandas-0.25.3\nCollecting scikit-learn\n\u001b[?25l  Downloading https://files.pythonhosted.org/packages/a0/c5/d2238762d780dde84a20b8c761f563fe882b88c5a5fb03c056547c442a19/scikit_learn-0.21.3-cp36-cp36m-manylinux1_x86_64.whl (6.7MB)\n\u001b[K     |████████████████████████████████| 6.7MB 130kB/s eta 0:00:01\n\u001b[?25hRequirement already satisfied, skipping upgrade: scipy>=0.17.0 in /home/nbuser/anaconda3_501/lib/python3.6/site-packages (from scikit-learn) (1.1.0)\nRequirement already satisfied, skipping upgrade: numpy>=1.11.0 in /home/nbuser/.local/lib/python3.6/site-packages (from scikit-learn) (1.17.3)\nRequirement already satisfied, skipping upgrade: joblib>=0.11 in /home/nbuser/anaconda3_501/lib/python3.6/site-packages (from scikit-learn) (0.13.2)\n\u001b[31mERROR: azureml-train-automl 1.0.57 has requirement numpy<=1.16.2,>=1.11.0, but you'll have numpy 1.17.3 which is incompatible.\u001b[0m\n\u001b[31mERROR: azureml-train-automl 1.0.57 has requirement onnxmltools==1.4.1, but you'll have onnxmltools 1.5.0 which is incompatible.\u001b[0m\n\u001b[31mERROR: azureml-train-automl 1.0.57 has requirement pandas<=0.23.4,>=0.21.0, but you'll have pandas 0.25.3 which is incompatible.\u001b[0m\n\u001b[31mERROR: azureml-train-automl 1.0.57 has requirement scikit-learn<=0.20.3,>=0.19.0, but you'll have scikit-learn 0.21.3 which is incompatible.\u001b[0m\n\u001b[31mERROR: azureml-automl-core 1.0.57 has requirement numpy<=1.16.2,>=1.11.0, but you'll have numpy 1.17.3 which is incompatible.\u001b[0m\n\u001b[31mERROR: azureml-automl-core 1.0.57 has requirement onnxmltools==1.4.1, but you'll have onnxmltools 1.5.0 which is incompatible.\u001b[0m\n\u001b[31mERROR: azureml-automl-core 1.0.57 has requirement pandas<=0.23.4,>=0.21.0, but you'll have pandas 0.25.3 which is incompatible.\u001b[0m\n\u001b[31mERROR: azureml-automl-core 1.0.57 has requirement scikit-learn<=0.20.3,>=0.19.0, but you'll have scikit-learn 0.21.3 which is incompatible.\u001b[0m\nInstalling collected packages: scikit-learn\nSuccessfully installed scikit-learn-0.21.3\n",
          "name": "stdout"
        }
      ]
    },
    {
      "metadata": {
        "trusted": true
      },
      "cell_type": "code",
      "source": "# Avoiding Warnings\nimport warnings\nwarnings.simplefilter(action='ignore', category=UserWarning)\nwarnings.simplefilter(action='ignore', category=FutureWarning)",
      "execution_count": 11,
      "outputs": []
    },
    {
      "metadata": {
        "trusted": true,
        "scrolled": true
      },
      "cell_type": "code",
      "source": "# Importing Dependencies\nimport numpy as np\nimport pandas as pd\nimport matplotlib.pyplot as plt\nimport seaborn as sns\nimport re\nfrom sklearn.experimental import enable_iterative_imputer\nfrom sklearn.impute import IterativeImputer\n%matplotlib inline\npd.options.display.float_format = '{:.3f}'.format",
      "execution_count": 1,
      "outputs": []
    },
    {
      "metadata": {},
      "cell_type": "markdown",
      "source": "### Loading the Data"
    },
    {
      "metadata": {
        "trusted": true
      },
      "cell_type": "code",
      "source": "# Importing Dataset\ntrain = pd.read_csv(\"https://dim-mlpython.s3.amazonaws.com/CreditRiskModeling/train.csv\", low_memory=False)\ntest = pd.read_csv(\"https://dim-mlpython.s3.amazonaws.com/CreditRiskModeling/test.csv\", low_memory=False)",
      "execution_count": 2,
      "outputs": []
    },
    {
      "metadata": {},
      "cell_type": "markdown",
      "source": "### Describing the data"
    },
    {
      "metadata": {
        "trusted": true
      },
      "cell_type": "code",
      "source": "# For each column heading we replace \" \" and convert the heading in lowercase \ncleancolumn = []\nfor i in range(len(train.columns)):\n    cleancolumn.append(train.columns[i].replace(' ', '_').lower())\ntrain.columns = cleancolumn",
      "execution_count": 3,
      "outputs": []
    },
    {
      "metadata": {
        "trusted": true
      },
      "cell_type": "code",
      "source": "train.head()",
      "execution_count": null,
      "outputs": []
    },
    {
      "metadata": {
        "trusted": true,
        "scrolled": true
      },
      "cell_type": "code",
      "source": "print(train.shape)\ntrain.describe()",
      "execution_count": null,
      "outputs": []
    },
    {
      "metadata": {
        "trusted": true
      },
      "cell_type": "code",
      "source": "train.info()",
      "execution_count": null,
      "outputs": []
    },
    {
      "metadata": {},
      "cell_type": "markdown",
      "source": "### Removing the duplicates"
    },
    {
      "metadata": {},
      "cell_type": "markdown",
      "source": "Loan ID is unique for every loan process so we will use Loan ID to remove duplicates"
    },
    {
      "metadata": {
        "trusted": true,
        "scrolled": true
      },
      "cell_type": "code",
      "source": "# Check the unique values, to see if there is any duplicates\nunique_loanid=train['loan_id'].unique().tolist()\nprint(\"Total samples in data:\", str(train.shape[0]))\nprint(\"Total unique samples in data:\", str(len(unique_loanid)))\nprint(\"Duplicate samples in data:\", str(train.shape[0] - len(unique_loanid)))",
      "execution_count": 4,
      "outputs": [
        {
          "output_type": "stream",
          "text": "Total samples in data: 77823\nTotal unique samples in data: 62237\nDuplicate samples in data: 15586\n",
          "name": "stdout"
        }
      ]
    },
    {
      "metadata": {
        "trusted": true
      },
      "cell_type": "code",
      "source": "# Drop the duplicates\ntrain = train.drop_duplicates()\nprint(\"Total samples in data:\", str(train.shape[0]))\nprint(\"Total unique samples in data:\", str(len(unique_loanid)))\nprint(\"Duplicate samples in data:\", str(train.shape[0] - len(unique_loanid)))",
      "execution_count": 5,
      "outputs": [
        {
          "output_type": "stream",
          "text": "Total samples in data: 69076\nTotal unique samples in data: 62237\nDuplicate samples in data: 6839\n",
          "name": "stdout"
        }
      ]
    },
    {
      "metadata": {
        "trusted": true,
        "scrolled": false
      },
      "cell_type": "code",
      "source": "#Get the duplicates\ndup_loanid=train[train.duplicated(['loan_id'],keep=False)]\nprint(dup_loanid.shape)\ndup_loanid.describe()",
      "execution_count": 6,
      "outputs": [
        {
          "output_type": "stream",
          "text": "(13678, 19)\n",
          "name": "stdout"
        },
        {
          "output_type": "execute_result",
          "execution_count": 6,
          "data": {
            "text/html": "<div>\n<style scoped>\n    .dataframe tbody tr th:only-of-type {\n        vertical-align: middle;\n    }\n\n    .dataframe tbody tr th {\n        vertical-align: top;\n    }\n\n    .dataframe thead th {\n        text-align: right;\n    }\n</style>\n<table border=\"1\" class=\"dataframe\">\n  <thead>\n    <tr style=\"text-align: right;\">\n      <th></th>\n      <th>current_loan_amount</th>\n      <th>credit_score</th>\n      <th>annual_income</th>\n      <th>years_of_credit_history</th>\n      <th>months_since_last_delinquent</th>\n      <th>number_of_open_accounts</th>\n      <th>number_of_credit_problems</th>\n      <th>current_credit_balance</th>\n      <th>bankruptcies</th>\n      <th>tax_liens</th>\n    </tr>\n  </thead>\n  <tbody>\n    <tr>\n      <th>count</th>\n      <td>13678.000</td>\n      <td>10003.000</td>\n      <td>10003.000</td>\n      <td>13678.000</td>\n      <td>7238.000</td>\n      <td>13678.000</td>\n      <td>13678.000</td>\n      <td>13678.000</td>\n      <td>13658.000</td>\n      <td>13676.000</td>\n    </tr>\n    <tr>\n      <th>mean</th>\n      <td>22734326.610</td>\n      <td>699.678</td>\n      <td>72329.080</td>\n      <td>17.805</td>\n      <td>34.127</td>\n      <td>11.254</td>\n      <td>0.207</td>\n      <td>15804.026</td>\n      <td>0.140</td>\n      <td>0.039</td>\n    </tr>\n    <tr>\n      <th>std</th>\n      <td>41899176.187</td>\n      <td>24.989</td>\n      <td>46577.155</td>\n      <td>7.000</td>\n      <td>21.766</td>\n      <td>5.186</td>\n      <td>0.533</td>\n      <td>18911.803</td>\n      <td>0.371</td>\n      <td>0.299</td>\n    </tr>\n    <tr>\n      <th>min</th>\n      <td>978.000</td>\n      <td>587.000</td>\n      <td>9756.000</td>\n      <td>3.700</td>\n      <td>0.000</td>\n      <td>1.000</td>\n      <td>0.000</td>\n      <td>0.000</td>\n      <td>0.000</td>\n      <td>0.000</td>\n    </tr>\n    <tr>\n      <th>25%</th>\n      <td>9793.000</td>\n      <td>690.000</td>\n      <td>44928.000</td>\n      <td>13.000</td>\n      <td>15.000</td>\n      <td>8.000</td>\n      <td>0.000</td>\n      <td>5755.250</td>\n      <td>0.000</td>\n      <td>0.000</td>\n    </tr>\n    <tr>\n      <th>50%</th>\n      <td>17797.500</td>\n      <td>708.000</td>\n      <td>61362.000</td>\n      <td>16.700</td>\n      <td>31.000</td>\n      <td>10.000</td>\n      <td>0.000</td>\n      <td>10962.000</td>\n      <td>0.000</td>\n      <td>0.000</td>\n    </tr>\n    <tr>\n      <th>75%</th>\n      <td>35046.500</td>\n      <td>718.000</td>\n      <td>87014.500</td>\n      <td>21.400</td>\n      <td>50.000</td>\n      <td>14.000</td>\n      <td>0.000</td>\n      <td>19879.750</td>\n      <td>0.000</td>\n      <td>0.000</td>\n    </tr>\n    <tr>\n      <th>max</th>\n      <td>99999999.000</td>\n      <td>725.000</td>\n      <td>934705.000</td>\n      <td>59.500</td>\n      <td>91.000</td>\n      <td>47.000</td>\n      <td>9.000</td>\n      <td>291341.000</td>\n      <td>4.000</td>\n      <td>9.000</td>\n    </tr>\n  </tbody>\n</table>\n</div>",
            "text/plain": "       current_loan_amount  credit_score  annual_income  \\\ncount            13678.000     10003.000      10003.000   \nmean          22734326.610       699.678      72329.080   \nstd           41899176.187        24.989      46577.155   \nmin                978.000       587.000       9756.000   \n25%               9793.000       690.000      44928.000   \n50%              17797.500       708.000      61362.000   \n75%              35046.500       718.000      87014.500   \nmax           99999999.000       725.000     934705.000   \n\n       years_of_credit_history  months_since_last_delinquent  \\\ncount                13678.000                      7238.000   \nmean                    17.805                        34.127   \nstd                      7.000                        21.766   \nmin                      3.700                         0.000   \n25%                     13.000                        15.000   \n50%                     16.700                        31.000   \n75%                     21.400                        50.000   \nmax                     59.500                        91.000   \n\n       number_of_open_accounts  number_of_credit_problems  \\\ncount                13678.000                  13678.000   \nmean                    11.254                      0.207   \nstd                      5.186                      0.533   \nmin                      1.000                      0.000   \n25%                      8.000                      0.000   \n50%                     10.000                      0.000   \n75%                     14.000                      0.000   \nmax                     47.000                      9.000   \n\n       current_credit_balance  bankruptcies  tax_liens  \ncount               13678.000     13658.000  13676.000  \nmean                15804.026         0.140      0.039  \nstd                 18911.803         0.371      0.299  \nmin                     0.000         0.000      0.000  \n25%                  5755.250         0.000      0.000  \n50%                 10962.000         0.000      0.000  \n75%                 19879.750         0.000      0.000  \nmax                291341.000         4.000      9.000  "
          },
          "metadata": {}
        }
      ]
    },
    {
      "metadata": {
        "trusted": true,
        "scrolled": true
      },
      "cell_type": "code",
      "source": "#Sort the duplicate dataframe in ascending order with NA's in last\nsorted_df=dup_loanid.sort_values(['current_loan_amount', 'credit_score'], ascending=True, na_position='last')\nsorted_df.head()",
      "execution_count": 7,
      "outputs": [
        {
          "output_type": "execute_result",
          "execution_count": 7,
          "data": {
            "text/html": "<div>\n<style scoped>\n    .dataframe tbody tr th:only-of-type {\n        vertical-align: middle;\n    }\n\n    .dataframe tbody tr th {\n        vertical-align: top;\n    }\n\n    .dataframe thead th {\n        text-align: right;\n    }\n</style>\n<table border=\"1\" class=\"dataframe\">\n  <thead>\n    <tr style=\"text-align: right;\">\n      <th></th>\n      <th>loan_id</th>\n      <th>customer_id</th>\n      <th>loan_status</th>\n      <th>current_loan_amount</th>\n      <th>term</th>\n      <th>credit_score</th>\n      <th>years_in_current_job</th>\n      <th>home_ownership</th>\n      <th>annual_income</th>\n      <th>purpose</th>\n      <th>monthly_debt</th>\n      <th>years_of_credit_history</th>\n      <th>months_since_last_delinquent</th>\n      <th>number_of_open_accounts</th>\n      <th>number_of_credit_problems</th>\n      <th>current_credit_balance</th>\n      <th>maximum_open_credit</th>\n      <th>bankruptcies</th>\n      <th>tax_liens</th>\n    </tr>\n  </thead>\n  <tbody>\n    <tr>\n      <th>58916</th>\n      <td>07f5fb21-82d8-4cd8-98eb-cef89b460348</td>\n      <td>90dcf223-324c-4579-9062-9e275d1a9ec0</td>\n      <td>Fully Paid</td>\n      <td>978</td>\n      <td>Short Term</td>\n      <td>718.000</td>\n      <td>NaN</td>\n      <td>Home Mortgage</td>\n      <td>74313.000</td>\n      <td>major_purchase</td>\n      <td>1226.16</td>\n      <td>34.800</td>\n      <td>10.000</td>\n      <td>10</td>\n      <td>0</td>\n      <td>16547</td>\n      <td>17603</td>\n      <td>0.000</td>\n      <td>0.000</td>\n    </tr>\n    <tr>\n      <th>5957</th>\n      <td>2bc65e92-50b3-453f-88f4-101aa3f7c631</td>\n      <td>85e53503-06fe-45f1-8c6e-48618b924167</td>\n      <td>Fully Paid</td>\n      <td>979</td>\n      <td>Short Term</td>\n      <td>711.000</td>\n      <td>10+ years</td>\n      <td>Rent</td>\n      <td>29367.000</td>\n      <td>Debt Consolidation</td>\n      <td>702.36</td>\n      <td>46.700</td>\n      <td>nan</td>\n      <td>11</td>\n      <td>0</td>\n      <td>14133</td>\n      <td>15181</td>\n      <td>0.000</td>\n      <td>0.000</td>\n    </tr>\n    <tr>\n      <th>62240</th>\n      <td>2bc65e92-50b3-453f-88f4-101aa3f7c631</td>\n      <td>85e53503-06fe-45f1-8c6e-48618b924167</td>\n      <td>Fully Paid</td>\n      <td>979</td>\n      <td>Short Term</td>\n      <td>nan</td>\n      <td>10+ years</td>\n      <td>Rent</td>\n      <td>nan</td>\n      <td>Debt Consolidation</td>\n      <td>702.36</td>\n      <td>46.700</td>\n      <td>nan</td>\n      <td>11</td>\n      <td>0</td>\n      <td>14133</td>\n      <td>15181</td>\n      <td>0.000</td>\n      <td>0.000</td>\n    </tr>\n    <tr>\n      <th>33249</th>\n      <td>38af5e3a-9d54-456a-b335-21e172018517</td>\n      <td>5c92cda7-7386-47b4-b3d6-56c0e278e56f</td>\n      <td>Fully Paid</td>\n      <td>982</td>\n      <td>Short Term</td>\n      <td>697.000</td>\n      <td>5 years</td>\n      <td>Home Mortgage</td>\n      <td>29472.000</td>\n      <td>Debt Consolidation</td>\n      <td>44.21</td>\n      <td>11.500</td>\n      <td>nan</td>\n      <td>3</td>\n      <td>0</td>\n      <td>2021</td>\n      <td>8456</td>\n      <td>0.000</td>\n      <td>0.000</td>\n    </tr>\n    <tr>\n      <th>56983</th>\n      <td>ae401455-a534-4d31-bafa-3b1e0474a35b</td>\n      <td>c8c64614-1c34-49d9-a608-64dc942cf447</td>\n      <td>Fully Paid</td>\n      <td>983</td>\n      <td>Short Term</td>\n      <td>698.000</td>\n      <td>&lt; 1 year</td>\n      <td>Rent</td>\n      <td>37343.000</td>\n      <td>Debt Consolidation</td>\n      <td>886.89</td>\n      <td>13.000</td>\n      <td>nan</td>\n      <td>11</td>\n      <td>0</td>\n      <td>17472</td>\n      <td>19074</td>\n      <td>0.000</td>\n      <td>0.000</td>\n    </tr>\n  </tbody>\n</table>\n</div>",
            "text/plain": "                                    loan_id  \\\n58916  07f5fb21-82d8-4cd8-98eb-cef89b460348   \n5957   2bc65e92-50b3-453f-88f4-101aa3f7c631   \n62240  2bc65e92-50b3-453f-88f4-101aa3f7c631   \n33249  38af5e3a-9d54-456a-b335-21e172018517   \n56983  ae401455-a534-4d31-bafa-3b1e0474a35b   \n\n                                customer_id loan_status  current_loan_amount  \\\n58916  90dcf223-324c-4579-9062-9e275d1a9ec0  Fully Paid                  978   \n5957   85e53503-06fe-45f1-8c6e-48618b924167  Fully Paid                  979   \n62240  85e53503-06fe-45f1-8c6e-48618b924167  Fully Paid                  979   \n33249  5c92cda7-7386-47b4-b3d6-56c0e278e56f  Fully Paid                  982   \n56983  c8c64614-1c34-49d9-a608-64dc942cf447  Fully Paid                  983   \n\n             term  credit_score years_in_current_job home_ownership  \\\n58916  Short Term       718.000                  NaN  Home Mortgage   \n5957   Short Term       711.000            10+ years           Rent   \n62240  Short Term           nan            10+ years           Rent   \n33249  Short Term       697.000              5 years  Home Mortgage   \n56983  Short Term       698.000             < 1 year           Rent   \n\n       annual_income             purpose monthly_debt  \\\n58916      74313.000      major_purchase      1226.16   \n5957       29367.000  Debt Consolidation       702.36   \n62240            nan  Debt Consolidation       702.36   \n33249      29472.000  Debt Consolidation        44.21   \n56983      37343.000  Debt Consolidation       886.89   \n\n       years_of_credit_history  months_since_last_delinquent  \\\n58916                   34.800                        10.000   \n5957                    46.700                           nan   \n62240                   46.700                           nan   \n33249                   11.500                           nan   \n56983                   13.000                           nan   \n\n       number_of_open_accounts  number_of_credit_problems  \\\n58916                       10                          0   \n5957                        11                          0   \n62240                       11                          0   \n33249                        3                          0   \n56983                       11                          0   \n\n       current_credit_balance maximum_open_credit  bankruptcies  tax_liens  \n58916                   16547               17603         0.000      0.000  \n5957                    14133               15181         0.000      0.000  \n62240                   14133               15181         0.000      0.000  \n33249                    2021                8456         0.000      0.000  \n56983                   17472               19074         0.000      0.000  "
          },
          "metadata": {}
        }
      ]
    },
    {
      "metadata": {
        "trusted": true,
        "scrolled": false
      },
      "cell_type": "code",
      "source": "#Considering samples which are genuine\ncorrect_df = sorted_df.drop_duplicates(['loan_id'], keep='first')\nprint(correct_df.shape)\ncorrect_df.head()",
      "execution_count": 8,
      "outputs": [
        {
          "output_type": "stream",
          "text": "(6839, 19)\n",
          "name": "stdout"
        },
        {
          "output_type": "execute_result",
          "execution_count": 8,
          "data": {
            "text/html": "<div>\n<style scoped>\n    .dataframe tbody tr th:only-of-type {\n        vertical-align: middle;\n    }\n\n    .dataframe tbody tr th {\n        vertical-align: top;\n    }\n\n    .dataframe thead th {\n        text-align: right;\n    }\n</style>\n<table border=\"1\" class=\"dataframe\">\n  <thead>\n    <tr style=\"text-align: right;\">\n      <th></th>\n      <th>loan_id</th>\n      <th>customer_id</th>\n      <th>loan_status</th>\n      <th>current_loan_amount</th>\n      <th>term</th>\n      <th>credit_score</th>\n      <th>years_in_current_job</th>\n      <th>home_ownership</th>\n      <th>annual_income</th>\n      <th>purpose</th>\n      <th>monthly_debt</th>\n      <th>years_of_credit_history</th>\n      <th>months_since_last_delinquent</th>\n      <th>number_of_open_accounts</th>\n      <th>number_of_credit_problems</th>\n      <th>current_credit_balance</th>\n      <th>maximum_open_credit</th>\n      <th>bankruptcies</th>\n      <th>tax_liens</th>\n    </tr>\n  </thead>\n  <tbody>\n    <tr>\n      <th>58916</th>\n      <td>07f5fb21-82d8-4cd8-98eb-cef89b460348</td>\n      <td>90dcf223-324c-4579-9062-9e275d1a9ec0</td>\n      <td>Fully Paid</td>\n      <td>978</td>\n      <td>Short Term</td>\n      <td>718.000</td>\n      <td>NaN</td>\n      <td>Home Mortgage</td>\n      <td>74313.000</td>\n      <td>major_purchase</td>\n      <td>1226.16</td>\n      <td>34.800</td>\n      <td>10.000</td>\n      <td>10</td>\n      <td>0</td>\n      <td>16547</td>\n      <td>17603</td>\n      <td>0.000</td>\n      <td>0.000</td>\n    </tr>\n    <tr>\n      <th>5957</th>\n      <td>2bc65e92-50b3-453f-88f4-101aa3f7c631</td>\n      <td>85e53503-06fe-45f1-8c6e-48618b924167</td>\n      <td>Fully Paid</td>\n      <td>979</td>\n      <td>Short Term</td>\n      <td>711.000</td>\n      <td>10+ years</td>\n      <td>Rent</td>\n      <td>29367.000</td>\n      <td>Debt Consolidation</td>\n      <td>702.36</td>\n      <td>46.700</td>\n      <td>nan</td>\n      <td>11</td>\n      <td>0</td>\n      <td>14133</td>\n      <td>15181</td>\n      <td>0.000</td>\n      <td>0.000</td>\n    </tr>\n    <tr>\n      <th>33249</th>\n      <td>38af5e3a-9d54-456a-b335-21e172018517</td>\n      <td>5c92cda7-7386-47b4-b3d6-56c0e278e56f</td>\n      <td>Fully Paid</td>\n      <td>982</td>\n      <td>Short Term</td>\n      <td>697.000</td>\n      <td>5 years</td>\n      <td>Home Mortgage</td>\n      <td>29472.000</td>\n      <td>Debt Consolidation</td>\n      <td>44.21</td>\n      <td>11.500</td>\n      <td>nan</td>\n      <td>3</td>\n      <td>0</td>\n      <td>2021</td>\n      <td>8456</td>\n      <td>0.000</td>\n      <td>0.000</td>\n    </tr>\n    <tr>\n      <th>56983</th>\n      <td>ae401455-a534-4d31-bafa-3b1e0474a35b</td>\n      <td>c8c64614-1c34-49d9-a608-64dc942cf447</td>\n      <td>Fully Paid</td>\n      <td>983</td>\n      <td>Short Term</td>\n      <td>698.000</td>\n      <td>&lt; 1 year</td>\n      <td>Rent</td>\n      <td>37343.000</td>\n      <td>Debt Consolidation</td>\n      <td>886.89</td>\n      <td>13.000</td>\n      <td>nan</td>\n      <td>11</td>\n      <td>0</td>\n      <td>17472</td>\n      <td>19074</td>\n      <td>0.000</td>\n      <td>0.000</td>\n    </tr>\n    <tr>\n      <th>47807</th>\n      <td>df1680ed-de74-4ec4-ab3c-cdacfd2a911e</td>\n      <td>b44395a3-4f94-41ff-ad65-8f1d8b06919d</td>\n      <td>Fully Paid</td>\n      <td>983</td>\n      <td>Short Term</td>\n      <td>714.000</td>\n      <td>5 years</td>\n      <td>Home Mortgage</td>\n      <td>44959.000</td>\n      <td>other</td>\n      <td>338.32</td>\n      <td>11.400</td>\n      <td>nan</td>\n      <td>9</td>\n      <td>0</td>\n      <td>8182</td>\n      <td>9245</td>\n      <td>0.000</td>\n      <td>0.000</td>\n    </tr>\n  </tbody>\n</table>\n</div>",
            "text/plain": "                                    loan_id  \\\n58916  07f5fb21-82d8-4cd8-98eb-cef89b460348   \n5957   2bc65e92-50b3-453f-88f4-101aa3f7c631   \n33249  38af5e3a-9d54-456a-b335-21e172018517   \n56983  ae401455-a534-4d31-bafa-3b1e0474a35b   \n47807  df1680ed-de74-4ec4-ab3c-cdacfd2a911e   \n\n                                customer_id loan_status  current_loan_amount  \\\n58916  90dcf223-324c-4579-9062-9e275d1a9ec0  Fully Paid                  978   \n5957   85e53503-06fe-45f1-8c6e-48618b924167  Fully Paid                  979   \n33249  5c92cda7-7386-47b4-b3d6-56c0e278e56f  Fully Paid                  982   \n56983  c8c64614-1c34-49d9-a608-64dc942cf447  Fully Paid                  983   \n47807  b44395a3-4f94-41ff-ad65-8f1d8b06919d  Fully Paid                  983   \n\n             term  credit_score years_in_current_job home_ownership  \\\n58916  Short Term       718.000                  NaN  Home Mortgage   \n5957   Short Term       711.000            10+ years           Rent   \n33249  Short Term       697.000              5 years  Home Mortgage   \n56983  Short Term       698.000             < 1 year           Rent   \n47807  Short Term       714.000              5 years  Home Mortgage   \n\n       annual_income             purpose monthly_debt  \\\n58916      74313.000      major_purchase      1226.16   \n5957       29367.000  Debt Consolidation       702.36   \n33249      29472.000  Debt Consolidation        44.21   \n56983      37343.000  Debt Consolidation       886.89   \n47807      44959.000               other       338.32   \n\n       years_of_credit_history  months_since_last_delinquent  \\\n58916                   34.800                        10.000   \n5957                    46.700                           nan   \n33249                   11.500                           nan   \n56983                   13.000                           nan   \n47807                   11.400                           nan   \n\n       number_of_open_accounts  number_of_credit_problems  \\\n58916                       10                          0   \n5957                        11                          0   \n33249                        3                          0   \n56983                       11                          0   \n47807                        9                          0   \n\n       current_credit_balance maximum_open_credit  bankruptcies  tax_liens  \n58916                   16547               17603         0.000      0.000  \n5957                    14133               15181         0.000      0.000  \n33249                    2021                8456         0.000      0.000  \n56983                   17472               19074         0.000      0.000  \n47807                    8182                9245         0.000      0.000  "
          },
          "metadata": {}
        }
      ]
    },
    {
      "metadata": {
        "trusted": true,
        "scrolled": true
      },
      "cell_type": "code",
      "source": "#Check if there is any such placeholder in duplicates\ncorrect_df[correct_df['current_loan_amount']==99999999]",
      "execution_count": 9,
      "outputs": [
        {
          "output_type": "execute_result",
          "execution_count": 9,
          "data": {
            "text/html": "<div>\n<style scoped>\n    .dataframe tbody tr th:only-of-type {\n        vertical-align: middle;\n    }\n\n    .dataframe tbody tr th {\n        vertical-align: top;\n    }\n\n    .dataframe thead th {\n        text-align: right;\n    }\n</style>\n<table border=\"1\" class=\"dataframe\">\n  <thead>\n    <tr style=\"text-align: right;\">\n      <th></th>\n      <th>loan_id</th>\n      <th>customer_id</th>\n      <th>loan_status</th>\n      <th>current_loan_amount</th>\n      <th>term</th>\n      <th>credit_score</th>\n      <th>years_in_current_job</th>\n      <th>home_ownership</th>\n      <th>annual_income</th>\n      <th>purpose</th>\n      <th>monthly_debt</th>\n      <th>years_of_credit_history</th>\n      <th>months_since_last_delinquent</th>\n      <th>number_of_open_accounts</th>\n      <th>number_of_credit_problems</th>\n      <th>current_credit_balance</th>\n      <th>maximum_open_credit</th>\n      <th>bankruptcies</th>\n      <th>tax_liens</th>\n    </tr>\n  </thead>\n  <tbody>\n  </tbody>\n</table>\n</div>",
            "text/plain": "Empty DataFrame\nColumns: [loan_id, customer_id, loan_status, current_loan_amount, term, credit_score, years_in_current_job, home_ownership, annual_income, purpose, monthly_debt, years_of_credit_history, months_since_last_delinquent, number_of_open_accounts, number_of_credit_problems, current_credit_balance, maximum_open_credit, bankruptcies, tax_liens]\nIndex: []"
          },
          "metadata": {}
        }
      ]
    },
    {
      "metadata": {
        "trusted": true,
        "scrolled": true
      },
      "cell_type": "code",
      "source": "#check if there is still Na's in duplicates\ncorrect_df[correct_df['credit_score'].isnull()]",
      "execution_count": 10,
      "outputs": [
        {
          "output_type": "execute_result",
          "execution_count": 10,
          "data": {
            "text/html": "<div>\n<style scoped>\n    .dataframe tbody tr th:only-of-type {\n        vertical-align: middle;\n    }\n\n    .dataframe tbody tr th {\n        vertical-align: top;\n    }\n\n    .dataframe thead th {\n        text-align: right;\n    }\n</style>\n<table border=\"1\" class=\"dataframe\">\n  <thead>\n    <tr style=\"text-align: right;\">\n      <th></th>\n      <th>loan_id</th>\n      <th>customer_id</th>\n      <th>loan_status</th>\n      <th>current_loan_amount</th>\n      <th>term</th>\n      <th>credit_score</th>\n      <th>years_in_current_job</th>\n      <th>home_ownership</th>\n      <th>annual_income</th>\n      <th>purpose</th>\n      <th>monthly_debt</th>\n      <th>years_of_credit_history</th>\n      <th>months_since_last_delinquent</th>\n      <th>number_of_open_accounts</th>\n      <th>number_of_credit_problems</th>\n      <th>current_credit_balance</th>\n      <th>maximum_open_credit</th>\n      <th>bankruptcies</th>\n      <th>tax_liens</th>\n    </tr>\n  </thead>\n  <tbody>\n  </tbody>\n</table>\n</div>",
            "text/plain": "Empty DataFrame\nColumns: [loan_id, customer_id, loan_status, current_loan_amount, term, credit_score, years_in_current_job, home_ownership, annual_income, purpose, monthly_debt, years_of_credit_history, months_since_last_delinquent, number_of_open_accounts, number_of_credit_problems, current_credit_balance, maximum_open_credit, bankruptcies, tax_liens]\nIndex: []"
          },
          "metadata": {}
        }
      ]
    },
    {
      "metadata": {
        "trusted": true
      },
      "cell_type": "code",
      "source": "# Droping the duplicate loan ID's \ntrain.drop_duplicates(['loan_id'], keep=False, inplace=True)",
      "execution_count": 11,
      "outputs": []
    },
    {
      "metadata": {
        "trusted": true
      },
      "cell_type": "code",
      "source": "train.shape",
      "execution_count": 12,
      "outputs": [
        {
          "output_type": "execute_result",
          "execution_count": 12,
          "data": {
            "text/plain": "(55398, 19)"
          },
          "metadata": {}
        }
      ]
    },
    {
      "metadata": {
        "trusted": true
      },
      "cell_type": "code",
      "source": "# Getting the final train data which is all genuine\ntrain = train.append(correct_df, ignore_index=True)\nprint(train.shape)\ntrain.describe()",
      "execution_count": 13,
      "outputs": [
        {
          "output_type": "stream",
          "text": "(62237, 19)\n",
          "name": "stdout"
        },
        {
          "output_type": "execute_result",
          "execution_count": 13,
          "data": {
            "text/html": "<div>\n<style scoped>\n    .dataframe tbody tr th:only-of-type {\n        vertical-align: middle;\n    }\n\n    .dataframe tbody tr th {\n        vertical-align: top;\n    }\n\n    .dataframe thead th {\n        text-align: right;\n    }\n</style>\n<table border=\"1\" class=\"dataframe\">\n  <thead>\n    <tr style=\"text-align: right;\">\n      <th></th>\n      <th>current_loan_amount</th>\n      <th>credit_score</th>\n      <th>annual_income</th>\n      <th>years_of_credit_history</th>\n      <th>months_since_last_delinquent</th>\n      <th>number_of_open_accounts</th>\n      <th>number_of_credit_problems</th>\n      <th>current_credit_balance</th>\n      <th>bankruptcies</th>\n      <th>tax_liens</th>\n    </tr>\n  </thead>\n  <tbody>\n    <tr>\n      <th>count</th>\n      <td>62237.000</td>\n      <td>50997.000</td>\n      <td>50997.000</td>\n      <td>62237.000</td>\n      <td>28203.000</td>\n      <td>62237.000</td>\n      <td>62237.000</td>\n      <td>62237.000</td>\n      <td>62112.000</td>\n      <td>62233.000</td>\n    </tr>\n    <tr>\n      <th>mean</th>\n      <td>9429888.029</td>\n      <td>1157.211</td>\n      <td>72470.303</td>\n      <td>18.316</td>\n      <td>35.066</td>\n      <td>11.105</td>\n      <td>0.162</td>\n      <td>15480.221</td>\n      <td>0.114</td>\n      <td>0.028</td>\n    </tr>\n    <tr>\n      <th>std</th>\n      <td>29202977.662</td>\n      <td>1614.569</td>\n      <td>60939.354</td>\n      <td>7.063</td>\n      <td>21.933</td>\n      <td>4.986</td>\n      <td>0.472</td>\n      <td>20276.316</td>\n      <td>0.345</td>\n      <td>0.249</td>\n    </tr>\n    <tr>\n      <th>min</th>\n      <td>885.000</td>\n      <td>585.000</td>\n      <td>4268.000</td>\n      <td>3.600</td>\n      <td>0.000</td>\n      <td>0.000</td>\n      <td>0.000</td>\n      <td>0.000</td>\n      <td>0.000</td>\n      <td>0.000</td>\n    </tr>\n    <tr>\n      <th>25%</th>\n      <td>8060.000</td>\n      <td>711.000</td>\n      <td>44681.000</td>\n      <td>13.500</td>\n      <td>16.000</td>\n      <td>8.000</td>\n      <td>0.000</td>\n      <td>5925.000</td>\n      <td>0.000</td>\n      <td>0.000</td>\n    </tr>\n    <tr>\n      <th>50%</th>\n      <td>13425.000</td>\n      <td>731.000</td>\n      <td>61708.000</td>\n      <td>17.000</td>\n      <td>32.000</td>\n      <td>10.000</td>\n      <td>0.000</td>\n      <td>11014.000</td>\n      <td>0.000</td>\n      <td>0.000</td>\n    </tr>\n    <tr>\n      <th>75%</th>\n      <td>21628.000</td>\n      <td>743.000</td>\n      <td>86912.000</td>\n      <td>21.800</td>\n      <td>51.000</td>\n      <td>14.000</td>\n      <td>0.000</td>\n      <td>19365.000</td>\n      <td>0.000</td>\n      <td>0.000</td>\n    </tr>\n    <tr>\n      <th>max</th>\n      <td>99999999.000</td>\n      <td>7510.000</td>\n      <td>8713547.000</td>\n      <td>62.500</td>\n      <td>176.000</td>\n      <td>76.000</td>\n      <td>12.000</td>\n      <td>1730472.000</td>\n      <td>7.000</td>\n      <td>11.000</td>\n    </tr>\n  </tbody>\n</table>\n</div>",
            "text/plain": "       current_loan_amount  credit_score  annual_income  \\\ncount            62237.000     50997.000      50997.000   \nmean           9429888.029      1157.211      72470.303   \nstd           29202977.662      1614.569      60939.354   \nmin                885.000       585.000       4268.000   \n25%               8060.000       711.000      44681.000   \n50%              13425.000       731.000      61708.000   \n75%              21628.000       743.000      86912.000   \nmax           99999999.000      7510.000    8713547.000   \n\n       years_of_credit_history  months_since_last_delinquent  \\\ncount                62237.000                     28203.000   \nmean                    18.316                        35.066   \nstd                      7.063                        21.933   \nmin                      3.600                         0.000   \n25%                     13.500                        16.000   \n50%                     17.000                        32.000   \n75%                     21.800                        51.000   \nmax                     62.500                       176.000   \n\n       number_of_open_accounts  number_of_credit_problems  \\\ncount                62237.000                  62237.000   \nmean                    11.105                      0.162   \nstd                      4.986                      0.472   \nmin                      0.000                      0.000   \n25%                      8.000                      0.000   \n50%                     10.000                      0.000   \n75%                     14.000                      0.000   \nmax                     76.000                     12.000   \n\n       current_credit_balance  bankruptcies  tax_liens  \ncount               62237.000     62112.000  62233.000  \nmean                15480.221         0.114      0.028  \nstd                 20276.316         0.345      0.249  \nmin                     0.000         0.000      0.000  \n25%                  5925.000         0.000      0.000  \n50%                 11014.000         0.000      0.000  \n75%                 19365.000         0.000      0.000  \nmax               1730472.000         7.000     11.000  "
          },
          "metadata": {}
        }
      ]
    },
    {
      "metadata": {},
      "cell_type": "markdown",
      "source": "### Preprocessing / Cleaning the data"
    },
    {
      "metadata": {},
      "cell_type": "markdown",
      "source": "#### Feature: Years in Current Job"
    },
    {
      "metadata": {},
      "cell_type": "markdown",
      "source": "Remove the special charachters and other words and make it numeric."
    },
    {
      "metadata": {
        "trusted": true,
        "scrolled": true
      },
      "cell_type": "code",
      "source": "train['years_in_current_job'].unique()",
      "execution_count": 14,
      "outputs": [
        {
          "output_type": "execute_result",
          "execution_count": 14,
          "data": {
            "text/plain": "array(['10+ years', '2 years', '7 years', '5 years', '< 1 year',\n       '4 years', '8 years', '1 year', '3 years', nan, '6 years',\n       '9 years'], dtype=object)"
          },
          "metadata": {}
        }
      ]
    },
    {
      "metadata": {
        "trusted": true
      },
      "cell_type": "code",
      "source": "train['years_in_current_job'] = [0 if str(x)=='< 1 year' else x if str(x)=='nan' else int(re.findall(r'\\d+', str(x))[0]) for x in train['years_in_current_job']]\ntrain['years_in_current_job'].unique()",
      "execution_count": 15,
      "outputs": [
        {
          "output_type": "execute_result",
          "execution_count": 15,
          "data": {
            "text/plain": "array([10.,  2.,  7.,  5.,  0.,  4.,  8.,  1.,  3., nan,  6.,  9.])"
          },
          "metadata": {}
        }
      ]
    },
    {
      "metadata": {},
      "cell_type": "markdown",
      "source": "#### Feature: Credit Score"
    },
    {
      "metadata": {},
      "cell_type": "markdown",
      "source": "Credit Score range is from 0 to 800 but there are some values greater than this basically this is some data error."
    },
    {
      "metadata": {
        "trusted": true
      },
      "cell_type": "code",
      "source": "train['credit_score'].head(10)",
      "execution_count": 16,
      "outputs": [
        {
          "output_type": "execute_result",
          "execution_count": 16,
          "data": {
            "text/plain": "0   6920.000\n1    721.000\n2    726.000\n3    707.000\n4    700.000\n5    733.000\n6    694.000\n7    724.000\n8   6950.000\n9        nan\nName: credit_score, dtype: float64"
          },
          "metadata": {}
        }
      ]
    },
    {
      "metadata": {
        "trusted": true
      },
      "cell_type": "code",
      "source": "# Function to bring credit score in range\ndef credit_range(x):\n    if x > 800:\n        return int(x/10)\n    elif str(x) == 'nan' : \n        return x\n    else:\n        return int(x)",
      "execution_count": 17,
      "outputs": []
    },
    {
      "metadata": {
        "trusted": true,
        "scrolled": false
      },
      "cell_type": "code",
      "source": "train['credit_score'] = train['credit_score'].map(credit_range)\ntrain['credit_score'].head(10)",
      "execution_count": 18,
      "outputs": [
        {
          "output_type": "execute_result",
          "execution_count": 18,
          "data": {
            "text/plain": "0   692.000\n1   721.000\n2   726.000\n3   707.000\n4   700.000\n5   733.000\n6   694.000\n7   724.000\n8   695.000\n9       nan\nName: credit_score, dtype: float64"
          },
          "metadata": {}
        }
      ]
    },
    {
      "metadata": {},
      "cell_type": "markdown",
      "source": "#### Feature: Maximum Open Credit"
    },
    {
      "metadata": {},
      "cell_type": "markdown",
      "source": "There is one data error which needs to be handled."
    },
    {
      "metadata": {
        "trusted": true
      },
      "cell_type": "code",
      "source": "print(train.shape)\ntrain[train['maximum_open_credit']=='#VALUE!']",
      "execution_count": 19,
      "outputs": [
        {
          "output_type": "stream",
          "text": "(62237, 19)\n",
          "name": "stdout"
        },
        {
          "output_type": "execute_result",
          "execution_count": 19,
          "data": {
            "text/html": "<div>\n<style scoped>\n    .dataframe tbody tr th:only-of-type {\n        vertical-align: middle;\n    }\n\n    .dataframe tbody tr th {\n        vertical-align: top;\n    }\n\n    .dataframe thead th {\n        text-align: right;\n    }\n</style>\n<table border=\"1\" class=\"dataframe\">\n  <thead>\n    <tr style=\"text-align: right;\">\n      <th></th>\n      <th>loan_id</th>\n      <th>customer_id</th>\n      <th>loan_status</th>\n      <th>current_loan_amount</th>\n      <th>term</th>\n      <th>credit_score</th>\n      <th>years_in_current_job</th>\n      <th>home_ownership</th>\n      <th>annual_income</th>\n      <th>purpose</th>\n      <th>monthly_debt</th>\n      <th>years_of_credit_history</th>\n      <th>months_since_last_delinquent</th>\n      <th>number_of_open_accounts</th>\n      <th>number_of_credit_problems</th>\n      <th>current_credit_balance</th>\n      <th>maximum_open_credit</th>\n      <th>bankruptcies</th>\n      <th>tax_liens</th>\n    </tr>\n  </thead>\n  <tbody>\n    <tr>\n      <th>35792</th>\n      <td>b798f46b-e27b-4823-af83-294b1ffc3490</td>\n      <td>f61890c5-e264-4b0f-a047-9cfa03b9d182</td>\n      <td>Charged Off</td>\n      <td>1470</td>\n      <td>Short Term</td>\n      <td>nan</td>\n      <td>2.000</td>\n      <td>Rent</td>\n      <td>nan</td>\n      <td>Debt Consolidation</td>\n      <td>506.34</td>\n      <td>15.300</td>\n      <td>26.000</td>\n      <td>3</td>\n      <td>0</td>\n      <td>0</td>\n      <td>#VALUE!</td>\n      <td>0.000</td>\n      <td>0.000</td>\n    </tr>\n  </tbody>\n</table>\n</div>",
            "text/plain": "                                    loan_id  \\\n35792  b798f46b-e27b-4823-af83-294b1ffc3490   \n\n                                customer_id  loan_status  current_loan_amount  \\\n35792  f61890c5-e264-4b0f-a047-9cfa03b9d182  Charged Off                 1470   \n\n             term  credit_score  years_in_current_job home_ownership  \\\n35792  Short Term           nan                 2.000           Rent   \n\n       annual_income             purpose monthly_debt  \\\n35792            nan  Debt Consolidation       506.34   \n\n       years_of_credit_history  months_since_last_delinquent  \\\n35792                   15.300                        26.000   \n\n       number_of_open_accounts  number_of_credit_problems  \\\n35792                        3                          0   \n\n       current_credit_balance maximum_open_credit  bankruptcies  tax_liens  \n35792                       0             #VALUE!         0.000      0.000  "
          },
          "metadata": {}
        }
      ]
    },
    {
      "metadata": {
        "trusted": true
      },
      "cell_type": "code",
      "source": "train = train[train['maximum_open_credit'] != '#VALUE!']\ntrain['maximum_open_credit']= pd.to_numeric(train['maximum_open_credit'])\ntrain.shape",
      "execution_count": 20,
      "outputs": [
        {
          "output_type": "execute_result",
          "execution_count": 20,
          "data": {
            "text/plain": "(62236, 19)"
          },
          "metadata": {}
        }
      ]
    },
    {
      "metadata": {},
      "cell_type": "markdown",
      "source": "#### Feature: Monthly Debt"
    },
    {
      "metadata": {},
      "cell_type": "markdown",
      "source": "Monthly debt has Currency symbol due to which its datatype is string, remove it and convert it to numeric."
    },
    {
      "metadata": {
        "trusted": true,
        "scrolled": true
      },
      "cell_type": "code",
      "source": "train['monthly_debt']=train['monthly_debt'].str.strip('$')\ntrain['monthly_debt']=pd.to_numeric(train['monthly_debt'])\ntrain['monthly_debt'].describe()",
      "execution_count": 21,
      "outputs": [
        {
          "output_type": "execute_result",
          "execution_count": 21,
          "data": {
            "text/plain": "count   62236.000\nmean      963.653\nstd       642.180\nmin         0.000\n25%       532.188\n50%       842.560\n75%      1250.362\nmax     22939.120\nName: monthly_debt, dtype: float64"
          },
          "metadata": {}
        }
      ]
    },
    {
      "metadata": {},
      "cell_type": "markdown",
      "source": "### Handling Missing Values and Outliers"
    },
    {
      "metadata": {},
      "cell_type": "markdown",
      "source": "Describe the data and check which feature has Missing Values and if there is any Outlier. "
    },
    {
      "metadata": {
        "trusted": true,
        "scrolled": false
      },
      "cell_type": "code",
      "source": "train.describe()",
      "execution_count": 22,
      "outputs": [
        {
          "output_type": "execute_result",
          "execution_count": 22,
          "data": {
            "text/html": "<div>\n<style scoped>\n    .dataframe tbody tr th:only-of-type {\n        vertical-align: middle;\n    }\n\n    .dataframe tbody tr th {\n        vertical-align: top;\n    }\n\n    .dataframe thead th {\n        text-align: right;\n    }\n</style>\n<table border=\"1\" class=\"dataframe\">\n  <thead>\n    <tr style=\"text-align: right;\">\n      <th></th>\n      <th>current_loan_amount</th>\n      <th>credit_score</th>\n      <th>years_in_current_job</th>\n      <th>annual_income</th>\n      <th>monthly_debt</th>\n      <th>years_of_credit_history</th>\n      <th>months_since_last_delinquent</th>\n      <th>number_of_open_accounts</th>\n      <th>number_of_credit_problems</th>\n      <th>current_credit_balance</th>\n      <th>maximum_open_credit</th>\n      <th>bankruptcies</th>\n      <th>tax_liens</th>\n    </tr>\n  </thead>\n  <tbody>\n    <tr>\n      <th>count</th>\n      <td>62236.000</td>\n      <td>50997.000</td>\n      <td>59559.000</td>\n      <td>50997.000</td>\n      <td>62236.000</td>\n      <td>62236.000</td>\n      <td>28202.000</td>\n      <td>62236.000</td>\n      <td>62236.000</td>\n      <td>62236.000</td>\n      <td>62236.000</td>\n      <td>62111.000</td>\n      <td>62232.000</td>\n    </tr>\n    <tr>\n      <th>mean</th>\n      <td>9430039.524</td>\n      <td>720.100</td>\n      <td>5.880</td>\n      <td>72470.303</td>\n      <td>963.653</td>\n      <td>18.316</td>\n      <td>35.066</td>\n      <td>11.105</td>\n      <td>0.162</td>\n      <td>15480.470</td>\n      <td>35785.109</td>\n      <td>0.114</td>\n      <td>0.028</td>\n    </tr>\n    <tr>\n      <th>std</th>\n      <td>29203187.823</td>\n      <td>27.891</td>\n      <td>3.627</td>\n      <td>60939.354</td>\n      <td>642.180</td>\n      <td>7.063</td>\n      <td>21.934</td>\n      <td>4.986</td>\n      <td>0.472</td>\n      <td>20276.384</td>\n      <td>372633.539</td>\n      <td>0.345</td>\n      <td>0.249</td>\n    </tr>\n    <tr>\n      <th>min</th>\n      <td>885.000</td>\n      <td>585.000</td>\n      <td>0.000</td>\n      <td>4268.000</td>\n      <td>0.000</td>\n      <td>3.600</td>\n      <td>0.000</td>\n      <td>0.000</td>\n      <td>0.000</td>\n      <td>0.000</td>\n      <td>0.000</td>\n      <td>0.000</td>\n      <td>0.000</td>\n    </tr>\n    <tr>\n      <th>25%</th>\n      <td>8060.000</td>\n      <td>708.000</td>\n      <td>3.000</td>\n      <td>44681.000</td>\n      <td>532.188</td>\n      <td>13.500</td>\n      <td>16.000</td>\n      <td>8.000</td>\n      <td>0.000</td>\n      <td>5925.750</td>\n      <td>12796.000</td>\n      <td>0.000</td>\n      <td>0.000</td>\n    </tr>\n    <tr>\n      <th>50%</th>\n      <td>13425.500</td>\n      <td>728.000</td>\n      <td>6.000</td>\n      <td>61708.000</td>\n      <td>842.560</td>\n      <td>17.000</td>\n      <td>32.000</td>\n      <td>10.000</td>\n      <td>0.000</td>\n      <td>11014.000</td>\n      <td>21813.500</td>\n      <td>0.000</td>\n      <td>0.000</td>\n    </tr>\n    <tr>\n      <th>75%</th>\n      <td>21628.000</td>\n      <td>741.000</td>\n      <td>10.000</td>\n      <td>86912.000</td>\n      <td>1250.362</td>\n      <td>21.800</td>\n      <td>51.000</td>\n      <td>14.000</td>\n      <td>0.000</td>\n      <td>19365.250</td>\n      <td>36476.000</td>\n      <td>0.000</td>\n      <td>0.000</td>\n    </tr>\n    <tr>\n      <th>max</th>\n      <td>99999999.000</td>\n      <td>751.000</td>\n      <td>10.000</td>\n      <td>8713547.000</td>\n      <td>22939.120</td>\n      <td>62.500</td>\n      <td>176.000</td>\n      <td>76.000</td>\n      <td>12.000</td>\n      <td>1730472.000</td>\n      <td>69988086.000</td>\n      <td>7.000</td>\n      <td>11.000</td>\n    </tr>\n  </tbody>\n</table>\n</div>",
            "text/plain": "       current_loan_amount  credit_score  years_in_current_job  annual_income  \\\ncount            62236.000     50997.000             59559.000      50997.000   \nmean           9430039.524       720.100                 5.880      72470.303   \nstd           29203187.823        27.891                 3.627      60939.354   \nmin                885.000       585.000                 0.000       4268.000   \n25%               8060.000       708.000                 3.000      44681.000   \n50%              13425.500       728.000                 6.000      61708.000   \n75%              21628.000       741.000                10.000      86912.000   \nmax           99999999.000       751.000                10.000    8713547.000   \n\n       monthly_debt  years_of_credit_history  months_since_last_delinquent  \\\ncount     62236.000                62236.000                     28202.000   \nmean        963.653                   18.316                        35.066   \nstd         642.180                    7.063                        21.934   \nmin           0.000                    3.600                         0.000   \n25%         532.188                   13.500                        16.000   \n50%         842.560                   17.000                        32.000   \n75%        1250.362                   21.800                        51.000   \nmax       22939.120                   62.500                       176.000   \n\n       number_of_open_accounts  number_of_credit_problems  \\\ncount                62236.000                  62236.000   \nmean                    11.105                      0.162   \nstd                      4.986                      0.472   \nmin                      0.000                      0.000   \n25%                      8.000                      0.000   \n50%                     10.000                      0.000   \n75%                     14.000                      0.000   \nmax                     76.000                     12.000   \n\n       current_credit_balance  maximum_open_credit  bankruptcies  tax_liens  \ncount               62236.000            62236.000     62111.000  62232.000  \nmean                15480.470            35785.109         0.114      0.028  \nstd                 20276.384           372633.539         0.345      0.249  \nmin                     0.000                0.000         0.000      0.000  \n25%                  5925.750            12796.000         0.000      0.000  \n50%                 11014.000            21813.500         0.000      0.000  \n75%                 19365.250            36476.000         0.000      0.000  \nmax               1730472.000         69988086.000         7.000     11.000  "
          },
          "metadata": {}
        }
      ]
    },
    {
      "metadata": {},
      "cell_type": "markdown",
      "source": "#### Outlier treatment: Current Loan Amount"
    },
    {
      "metadata": {
        "trusted": true
      },
      "cell_type": "code",
      "source": "ax = sns.boxplot(data=train['current_loan_amount'], orient=\"h\", palette=\"Set2\")",
      "execution_count": 23,
      "outputs": [
        {
          "output_type": "display_data",
          "data": {
            "image/png": "[encoded data removed]",
            "text/plain": "<Figure size 432x288 with 1 Axes>"
          },
          "metadata": {
            "needs_background": "light"
          }
        }
      ]
    },
    {
      "metadata": {
        "trusted": true
      },
      "cell_type": "code",
      "source": "# check the description their is a placeholder in max value\ntrain[train['current_loan_amount']==99999999.000]",
      "execution_count": 24,
      "outputs": [
        {
          "output_type": "execute_result",
          "execution_count": 24,
          "data": {
            "text/html": "<div>\n<style scoped>\n    .dataframe tbody tr th:only-of-type {\n        vertical-align: middle;\n    }\n\n    .dataframe tbody tr th {\n        vertical-align: top;\n    }\n\n    .dataframe thead th {\n        text-align: right;\n    }\n</style>\n<table border=\"1\" class=\"dataframe\">\n  <thead>\n    <tr style=\"text-align: right;\">\n      <th></th>\n      <th>loan_id</th>\n      <th>customer_id</th>\n      <th>loan_status</th>\n      <th>current_loan_amount</th>\n      <th>term</th>\n      <th>credit_score</th>\n      <th>years_in_current_job</th>\n      <th>home_ownership</th>\n      <th>annual_income</th>\n      <th>purpose</th>\n      <th>monthly_debt</th>\n      <th>years_of_credit_history</th>\n      <th>months_since_last_delinquent</th>\n      <th>number_of_open_accounts</th>\n      <th>number_of_credit_problems</th>\n      <th>current_credit_balance</th>\n      <th>maximum_open_credit</th>\n      <th>bankruptcies</th>\n      <th>tax_liens</th>\n    </tr>\n  </thead>\n  <tbody>\n    <tr>\n      <th>21</th>\n      <td>b4130876-c81b-423d-a69b-a7ab6aa76c68</td>\n      <td>6255b3d6-d167-48eb-8656-78747b31ae1e</td>\n      <td>Fully Paid</td>\n      <td>99999999</td>\n      <td>Short Term</td>\n      <td>746.000</td>\n      <td>10.000</td>\n      <td>Home Mortgage</td>\n      <td>178293.000</td>\n      <td>Debt Consolidation</td>\n      <td>1142.560</td>\n      <td>19.400</td>\n      <td>23.000</td>\n      <td>13</td>\n      <td>0</td>\n      <td>38966</td>\n      <td>347907</td>\n      <td>0.000</td>\n      <td>0.000</td>\n    </tr>\n    <tr>\n      <th>34</th>\n      <td>d140c39f-2a26-429e-a68e-874a58df778a</td>\n      <td>2868249d-856e-4206-a8f7-8adb2dae4db4</td>\n      <td>Fully Paid</td>\n      <td>99999999</td>\n      <td>Short Term</td>\n      <td>743.000</td>\n      <td>6.000</td>\n      <td>Rent</td>\n      <td>109175.000</td>\n      <td>Debt Consolidation</td>\n      <td>1401.080</td>\n      <td>21.500</td>\n      <td>nan</td>\n      <td>12</td>\n      <td>0</td>\n      <td>17466</td>\n      <td>37321</td>\n      <td>0.000</td>\n      <td>0.000</td>\n    </tr>\n    <tr>\n      <th>37</th>\n      <td>9b235251-b029-4fb8-b87e-75255f8660d7</td>\n      <td>81d48734-77cb-4379-9802-fcf77ad82088</td>\n      <td>Fully Paid</td>\n      <td>99999999</td>\n      <td>Short Term</td>\n      <td>735.000</td>\n      <td>10.000</td>\n      <td>Home Mortgage</td>\n      <td>84456.000</td>\n      <td>Debt Consolidation</td>\n      <td>1703.200</td>\n      <td>24.500</td>\n      <td>nan</td>\n      <td>18</td>\n      <td>0</td>\n      <td>21182</td>\n      <td>89373</td>\n      <td>0.000</td>\n      <td>0.000</td>\n    </tr>\n    <tr>\n      <th>44</th>\n      <td>45a1ec5e-20cc-40ed-aaf1-a5de6fbd19b1</td>\n      <td>6d4ad284-7311-4e34-86bb-cfa2a20de736</td>\n      <td>Fully Paid</td>\n      <td>99999999</td>\n      <td>Short Term</td>\n      <td>735.000</td>\n      <td>10.000</td>\n      <td>Home Mortgage</td>\n      <td>55363.000</td>\n      <td>Debt Consolidation</td>\n      <td>516.720</td>\n      <td>33.400</td>\n      <td>12.000</td>\n      <td>19</td>\n      <td>0</td>\n      <td>5827</td>\n      <td>41328</td>\n      <td>0.000</td>\n      <td>0.000</td>\n    </tr>\n    <tr>\n      <th>50</th>\n      <td>d1d847ee-43fc-49ac-b9a4-48ab3cc23f9a</td>\n      <td>97d23b9d-ddbe-4505-adfe-5898ecf1ba88</td>\n      <td>Fully Paid</td>\n      <td>99999999</td>\n      <td>Short Term</td>\n      <td>746.000</td>\n      <td>2.000</td>\n      <td>Home Mortgage</td>\n      <td>132626.000</td>\n      <td>Debt Consolidation</td>\n      <td>1801.500</td>\n      <td>14.000</td>\n      <td>nan</td>\n      <td>14</td>\n      <td>0</td>\n      <td>15754</td>\n      <td>21941</td>\n      <td>0.000</td>\n      <td>0.000</td>\n    </tr>\n    <tr>\n      <th>...</th>\n      <td>...</td>\n      <td>...</td>\n      <td>...</td>\n      <td>...</td>\n      <td>...</td>\n      <td>...</td>\n      <td>...</td>\n      <td>...</td>\n      <td>...</td>\n      <td>...</td>\n      <td>...</td>\n      <td>...</td>\n      <td>...</td>\n      <td>...</td>\n      <td>...</td>\n      <td>...</td>\n      <td>...</td>\n      <td>...</td>\n      <td>...</td>\n    </tr>\n    <tr>\n      <th>55362</th>\n      <td>9c28c63d-75b0-42df-8416-e88cc93ae0a7</td>\n      <td>3c273143-63ba-400d-810a-c4b80668db72</td>\n      <td>Fully Paid</td>\n      <td>99999999</td>\n      <td>Short Term</td>\n      <td>737.000</td>\n      <td>5.000</td>\n      <td>Home Mortgage</td>\n      <td>32210.000</td>\n      <td>Debt Consolidation</td>\n      <td>456.300</td>\n      <td>11.100</td>\n      <td>nan</td>\n      <td>5</td>\n      <td>0</td>\n      <td>4208</td>\n      <td>4530</td>\n      <td>0.000</td>\n      <td>0.000</td>\n    </tr>\n    <tr>\n      <th>55374</th>\n      <td>44bc349f-f21e-46c7-a6c3-1e20bd249e0c</td>\n      <td>c513cd75-e007-4cf2-b929-07df95b3f825</td>\n      <td>Fully Paid</td>\n      <td>99999999</td>\n      <td>Short Term</td>\n      <td>734.000</td>\n      <td>4.000</td>\n      <td>Home Mortgage</td>\n      <td>85803.000</td>\n      <td>Debt Consolidation</td>\n      <td>986.730</td>\n      <td>21.900</td>\n      <td>1.000</td>\n      <td>6</td>\n      <td>2</td>\n      <td>6426</td>\n      <td>10985</td>\n      <td>0.000</td>\n      <td>2.000</td>\n    </tr>\n    <tr>\n      <th>55381</th>\n      <td>13be0ed7-b712-4fb2-9d71-d50e77f3c44f</td>\n      <td>a88250e8-59b8-47ce-8e6b-e21446d31f5d</td>\n      <td>Fully Paid</td>\n      <td>99999999</td>\n      <td>Short Term</td>\n      <td>746.000</td>\n      <td>4.000</td>\n      <td>Rent</td>\n      <td>73185.000</td>\n      <td>Debt Consolidation</td>\n      <td>806.250</td>\n      <td>28.700</td>\n      <td>nan</td>\n      <td>10</td>\n      <td>0</td>\n      <td>18104</td>\n      <td>36796</td>\n      <td>0.000</td>\n      <td>0.000</td>\n    </tr>\n    <tr>\n      <th>55384</th>\n      <td>9821d891-5d7a-4141-95c5-65bc09d67f79</td>\n      <td>b1f6e895-158b-4e26-a35a-875ac7095c3d</td>\n      <td>Fully Paid</td>\n      <td>99999999</td>\n      <td>Short Term</td>\n      <td>746.000</td>\n      <td>2.000</td>\n      <td>Rent</td>\n      <td>58218.000</td>\n      <td>other</td>\n      <td>1135.250</td>\n      <td>16.400</td>\n      <td>19.000</td>\n      <td>17</td>\n      <td>0</td>\n      <td>53919</td>\n      <td>110489</td>\n      <td>0.000</td>\n      <td>0.000</td>\n    </tr>\n    <tr>\n      <th>55395</th>\n      <td>fa377e95-4a2b-4c42-b440-73f414d4a6d3</td>\n      <td>b0e415b2-1d35-45d3-8408-6e7d93bf52de</td>\n      <td>Fully Paid</td>\n      <td>99999999</td>\n      <td>Short Term</td>\n      <td>746.000</td>\n      <td>10.000</td>\n      <td>Rent</td>\n      <td>59754.000</td>\n      <td>Medical Bills</td>\n      <td>1304.630</td>\n      <td>27.000</td>\n      <td>nan</td>\n      <td>11</td>\n      <td>0</td>\n      <td>6833</td>\n      <td>43801</td>\n      <td>0.000</td>\n      <td>0.000</td>\n    </tr>\n  </tbody>\n</table>\n<p>5861 rows × 19 columns</p>\n</div>",
            "text/plain": "                                    loan_id  \\\n21     b4130876-c81b-423d-a69b-a7ab6aa76c68   \n34     d140c39f-2a26-429e-a68e-874a58df778a   \n37     9b235251-b029-4fb8-b87e-75255f8660d7   \n44     45a1ec5e-20cc-40ed-aaf1-a5de6fbd19b1   \n50     d1d847ee-43fc-49ac-b9a4-48ab3cc23f9a   \n...                                     ...   \n55362  9c28c63d-75b0-42df-8416-e88cc93ae0a7   \n55374  44bc349f-f21e-46c7-a6c3-1e20bd249e0c   \n55381  13be0ed7-b712-4fb2-9d71-d50e77f3c44f   \n55384  9821d891-5d7a-4141-95c5-65bc09d67f79   \n55395  fa377e95-4a2b-4c42-b440-73f414d4a6d3   \n\n                                customer_id loan_status  current_loan_amount  \\\n21     6255b3d6-d167-48eb-8656-78747b31ae1e  Fully Paid             99999999   \n34     2868249d-856e-4206-a8f7-8adb2dae4db4  Fully Paid             99999999   \n37     81d48734-77cb-4379-9802-fcf77ad82088  Fully Paid             99999999   \n44     6d4ad284-7311-4e34-86bb-cfa2a20de736  Fully Paid             99999999   \n50     97d23b9d-ddbe-4505-adfe-5898ecf1ba88  Fully Paid             99999999   \n...                                     ...         ...                  ...   \n55362  3c273143-63ba-400d-810a-c4b80668db72  Fully Paid             99999999   \n55374  c513cd75-e007-4cf2-b929-07df95b3f825  Fully Paid             99999999   \n55381  a88250e8-59b8-47ce-8e6b-e21446d31f5d  Fully Paid             99999999   \n55384  b1f6e895-158b-4e26-a35a-875ac7095c3d  Fully Paid             99999999   \n55395  b0e415b2-1d35-45d3-8408-6e7d93bf52de  Fully Paid             99999999   \n\n             term  credit_score  years_in_current_job home_ownership  \\\n21     Short Term       746.000                10.000  Home Mortgage   \n34     Short Term       743.000                 6.000           Rent   \n37     Short Term       735.000                10.000  Home Mortgage   \n44     Short Term       735.000                10.000  Home Mortgage   \n50     Short Term       746.000                 2.000  Home Mortgage   \n...           ...           ...                   ...            ...   \n55362  Short Term       737.000                 5.000  Home Mortgage   \n55374  Short Term       734.000                 4.000  Home Mortgage   \n55381  Short Term       746.000                 4.000           Rent   \n55384  Short Term       746.000                 2.000           Rent   \n55395  Short Term       746.000                10.000           Rent   \n\n       annual_income             purpose  monthly_debt  \\\n21        178293.000  Debt Consolidation      1142.560   \n34        109175.000  Debt Consolidation      1401.080   \n37         84456.000  Debt Consolidation      1703.200   \n44         55363.000  Debt Consolidation       516.720   \n50        132626.000  Debt Consolidation      1801.500   \n...              ...                 ...           ...   \n55362      32210.000  Debt Consolidation       456.300   \n55374      85803.000  Debt Consolidation       986.730   \n55381      73185.000  Debt Consolidation       806.250   \n55384      58218.000               other      1135.250   \n55395      59754.000       Medical Bills      1304.630   \n\n       years_of_credit_history  months_since_last_delinquent  \\\n21                      19.400                        23.000   \n34                      21.500                           nan   \n37                      24.500                           nan   \n44                      33.400                        12.000   \n50                      14.000                           nan   \n...                        ...                           ...   \n55362                   11.100                           nan   \n55374                   21.900                         1.000   \n55381                   28.700                           nan   \n55384                   16.400                        19.000   \n55395                   27.000                           nan   \n\n       number_of_open_accounts  number_of_credit_problems  \\\n21                          13                          0   \n34                          12                          0   \n37                          18                          0   \n44                          19                          0   \n50                          14                          0   \n...                        ...                        ...   \n55362                        5                          0   \n55374                        6                          2   \n55381                       10                          0   \n55384                       17                          0   \n55395                       11                          0   \n\n       current_credit_balance  maximum_open_credit  bankruptcies  tax_liens  \n21                      38966               347907         0.000      0.000  \n34                      17466                37321         0.000      0.000  \n37                      21182                89373         0.000      0.000  \n44                       5827                41328         0.000      0.000  \n50                      15754                21941         0.000      0.000  \n...                       ...                  ...           ...        ...  \n55362                    4208                 4530         0.000      0.000  \n55374                    6426                10985         0.000      2.000  \n55381                   18104                36796         0.000      0.000  \n55384                   53919               110489         0.000      0.000  \n55395                    6833                43801         0.000      0.000  \n\n[5861 rows x 19 columns]"
          },
          "metadata": {}
        }
      ]
    },
    {
      "metadata": {
        "trusted": true
      },
      "cell_type": "code",
      "source": "#There are such 5861 samples, which is not low so need to replace it by NA's\ntrain['current_loan_amount'] = [np.nan if int(x)==99999999 else x for x in train['current_loan_amount']]",
      "execution_count": 25,
      "outputs": []
    },
    {
      "metadata": {
        "trusted": true,
        "scrolled": true
      },
      "cell_type": "code",
      "source": "ax = sns.boxplot(data=train['current_loan_amount'], orient=\"h\", palette=\"Set2\")",
      "execution_count": 26,
      "outputs": [
        {
          "output_type": "display_data",
          "data": {
            "image/png": "[encoded data removed]",
            "text/plain": "<Figure size 432x288 with 1 Axes>"
          },
          "metadata": {
            "needs_background": "light"
          }
        }
      ]
    },
    {
      "metadata": {
        "trusted": true,
        "scrolled": true
      },
      "cell_type": "code",
      "source": "train.describe()",
      "execution_count": null,
      "outputs": []
    },
    {
      "metadata": {},
      "cell_type": "markdown",
      "source": "#### Outlier treatment: Annual Income"
    },
    {
      "metadata": {
        "trusted": true
      },
      "cell_type": "code",
      "source": "ax = sns.boxplot(data=train['annual_income'], orient=\"h\", palette=\"Set2\")",
      "execution_count": 27,
      "outputs": [
        {
          "output_type": "display_data",
          "data": {
            "image/png": "[encoded data removed]",
            "text/plain": "<Figure size 432x288 with 1 Axes>"
          },
          "metadata": {
            "needs_background": "light"
          }
        }
      ]
    },
    {
      "metadata": {
        "trusted": true,
        "scrolled": true
      },
      "cell_type": "code",
      "source": "train[train['annual_income']==8713547.000]",
      "execution_count": 28,
      "outputs": [
        {
          "output_type": "execute_result",
          "execution_count": 28,
          "data": {
            "text/html": "<div>\n<style scoped>\n    .dataframe tbody tr th:only-of-type {\n        vertical-align: middle;\n    }\n\n    .dataframe tbody tr th {\n        vertical-align: top;\n    }\n\n    .dataframe thead th {\n        text-align: right;\n    }\n</style>\n<table border=\"1\" class=\"dataframe\">\n  <thead>\n    <tr style=\"text-align: right;\">\n      <th></th>\n      <th>loan_id</th>\n      <th>customer_id</th>\n      <th>loan_status</th>\n      <th>current_loan_amount</th>\n      <th>term</th>\n      <th>credit_score</th>\n      <th>years_in_current_job</th>\n      <th>home_ownership</th>\n      <th>annual_income</th>\n      <th>purpose</th>\n      <th>monthly_debt</th>\n      <th>years_of_credit_history</th>\n      <th>months_since_last_delinquent</th>\n      <th>number_of_open_accounts</th>\n      <th>number_of_credit_problems</th>\n      <th>current_credit_balance</th>\n      <th>maximum_open_credit</th>\n      <th>bankruptcies</th>\n      <th>tax_liens</th>\n    </tr>\n  </thead>\n  <tbody>\n    <tr>\n      <th>1574</th>\n      <td>6dfd2f9c-b796-4cb3-8f71-04d6ae8a8f92</td>\n      <td>ceee183a-9b02-4b82-ae53-14ccd5f785fd</td>\n      <td>Charged Off</td>\n      <td>8006.000</td>\n      <td>Short Term</td>\n      <td>725.000</td>\n      <td>10.000</td>\n      <td>Home Mortgage</td>\n      <td>8713547.000</td>\n      <td>Debt Consolidation</td>\n      <td>798.740</td>\n      <td>16.000</td>\n      <td>nan</td>\n      <td>11</td>\n      <td>0</td>\n      <td>16462</td>\n      <td>30429</td>\n      <td>0.000</td>\n      <td>0.000</td>\n    </tr>\n  </tbody>\n</table>\n</div>",
            "text/plain": "                                   loan_id  \\\n1574  6dfd2f9c-b796-4cb3-8f71-04d6ae8a8f92   \n\n                               customer_id  loan_status  current_loan_amount  \\\n1574  ceee183a-9b02-4b82-ae53-14ccd5f785fd  Charged Off             8006.000   \n\n            term  credit_score  years_in_current_job home_ownership  \\\n1574  Short Term       725.000                10.000  Home Mortgage   \n\n      annual_income             purpose  monthly_debt  \\\n1574    8713547.000  Debt Consolidation       798.740   \n\n      years_of_credit_history  months_since_last_delinquent  \\\n1574                   16.000                           nan   \n\n      number_of_open_accounts  number_of_credit_problems  \\\n1574                       11                          0   \n\n      current_credit_balance  maximum_open_credit  bankruptcies  tax_liens  \n1574                   16462                30429         0.000      0.000  "
          },
          "metadata": {}
        }
      ]
    },
    {
      "metadata": {
        "trusted": true
      },
      "cell_type": "code",
      "source": "train = train[train['annual_income']!=8713547.000]\ntrain.shape",
      "execution_count": 29,
      "outputs": [
        {
          "output_type": "execute_result",
          "execution_count": 29,
          "data": {
            "text/plain": "(62235, 19)"
          },
          "metadata": {}
        }
      ]
    },
    {
      "metadata": {
        "trusted": true,
        "scrolled": false
      },
      "cell_type": "code",
      "source": "ax = sns.boxplot(data=train['annual_income'], orient=\"h\", palette=\"Set2\")",
      "execution_count": 33,
      "outputs": [
        {
          "output_type": "display_data",
          "data": {
            "image/png": "[encoded data removed]",
            "text/plain": "<Figure size 432x288 with 1 Axes>"
          },
          "metadata": {
            "needs_background": "light"
          }
        }
      ]
    },
    {
      "metadata": {
        "trusted": true,
        "scrolled": true
      },
      "cell_type": "code",
      "source": "train[train['annual_income']>1200000]",
      "execution_count": 31,
      "outputs": [
        {
          "output_type": "execute_result",
          "execution_count": 31,
          "data": {
            "text/html": "<div>\n<style scoped>\n    .dataframe tbody tr th:only-of-type {\n        vertical-align: middle;\n    }\n\n    .dataframe tbody tr th {\n        vertical-align: top;\n    }\n\n    .dataframe thead th {\n        text-align: right;\n    }\n</style>\n<table border=\"1\" class=\"dataframe\">\n  <thead>\n    <tr style=\"text-align: right;\">\n      <th></th>\n      <th>loan_id</th>\n      <th>customer_id</th>\n      <th>loan_status</th>\n      <th>current_loan_amount</th>\n      <th>term</th>\n      <th>credit_score</th>\n      <th>years_in_current_job</th>\n      <th>home_ownership</th>\n      <th>annual_income</th>\n      <th>purpose</th>\n      <th>monthly_debt</th>\n      <th>years_of_credit_history</th>\n      <th>months_since_last_delinquent</th>\n      <th>number_of_open_accounts</th>\n      <th>number_of_credit_problems</th>\n      <th>current_credit_balance</th>\n      <th>maximum_open_credit</th>\n      <th>bankruptcies</th>\n      <th>tax_liens</th>\n    </tr>\n  </thead>\n  <tbody>\n    <tr>\n      <th>3686</th>\n      <td>d728b670-7248-4c64-b99e-251d9e7b88a2</td>\n      <td>a0222c05-0157-4791-b2b9-c74d51774d16</td>\n      <td>Charged Off</td>\n      <td>34430.000</td>\n      <td>Long Term</td>\n      <td>739.000</td>\n      <td>0.000</td>\n      <td>Home Mortgage</td>\n      <td>1623105.000</td>\n      <td>Debt Consolidation</td>\n      <td>2637.550</td>\n      <td>14.700</td>\n      <td>17.000</td>\n      <td>15</td>\n      <td>0</td>\n      <td>26265</td>\n      <td>69668</td>\n      <td>0.000</td>\n      <td>0.000</td>\n    </tr>\n    <tr>\n      <th>11660</th>\n      <td>cbd2df62-ea45-4ae0-bbeb-1681d5655221</td>\n      <td>97b34fe1-09e4-4c27-b8cc-ec335ec29891</td>\n      <td>Charged Off</td>\n      <td>15928.000</td>\n      <td>Long Term</td>\n      <td>733.000</td>\n      <td>2.000</td>\n      <td>Home Mortgage</td>\n      <td>1262125.000</td>\n      <td>Debt Consolidation</td>\n      <td>22939.120</td>\n      <td>19.200</td>\n      <td>nan</td>\n      <td>10</td>\n      <td>0</td>\n      <td>48726</td>\n      <td>58565</td>\n      <td>0.000</td>\n      <td>0.000</td>\n    </tr>\n    <tr>\n      <th>46615</th>\n      <td>076e5ce5-cc5a-4c3e-8e11-91c31a4fa00e</td>\n      <td>ecc52a5d-a428-455c-9ae6-332cafac55b2</td>\n      <td>Fully Paid</td>\n      <td>28291.000</td>\n      <td>Short Term</td>\n      <td>747.000</td>\n      <td>6.000</td>\n      <td>Own Home</td>\n      <td>1919760.000</td>\n      <td>Debt Consolidation</td>\n      <td>335.960</td>\n      <td>11.200</td>\n      <td>nan</td>\n      <td>7</td>\n      <td>0</td>\n      <td>13889</td>\n      <td>25768</td>\n      <td>0.000</td>\n      <td>0.000</td>\n    </tr>\n  </tbody>\n</table>\n</div>",
            "text/plain": "                                    loan_id  \\\n3686   d728b670-7248-4c64-b99e-251d9e7b88a2   \n11660  cbd2df62-ea45-4ae0-bbeb-1681d5655221   \n46615  076e5ce5-cc5a-4c3e-8e11-91c31a4fa00e   \n\n                                customer_id  loan_status  current_loan_amount  \\\n3686   a0222c05-0157-4791-b2b9-c74d51774d16  Charged Off            34430.000   \n11660  97b34fe1-09e4-4c27-b8cc-ec335ec29891  Charged Off            15928.000   \n46615  ecc52a5d-a428-455c-9ae6-332cafac55b2   Fully Paid            28291.000   \n\n             term  credit_score  years_in_current_job home_ownership  \\\n3686    Long Term       739.000                 0.000  Home Mortgage   \n11660   Long Term       733.000                 2.000  Home Mortgage   \n46615  Short Term       747.000                 6.000       Own Home   \n\n       annual_income             purpose  monthly_debt  \\\n3686     1623105.000  Debt Consolidation      2637.550   \n11660    1262125.000  Debt Consolidation     22939.120   \n46615    1919760.000  Debt Consolidation       335.960   \n\n       years_of_credit_history  months_since_last_delinquent  \\\n3686                    14.700                        17.000   \n11660                   19.200                           nan   \n46615                   11.200                           nan   \n\n       number_of_open_accounts  number_of_credit_problems  \\\n3686                        15                          0   \n11660                       10                          0   \n46615                        7                          0   \n\n       current_credit_balance  maximum_open_credit  bankruptcies  tax_liens  \n3686                    26265                69668         0.000      0.000  \n11660                   48726                58565         0.000      0.000  \n46615                   13889                25768         0.000      0.000  "
          },
          "metadata": {}
        }
      ]
    },
    {
      "metadata": {
        "trusted": true
      },
      "cell_type": "code",
      "source": "train = train.drop([3686, 11660, 46615])",
      "execution_count": 32,
      "outputs": []
    },
    {
      "metadata": {
        "trusted": true
      },
      "cell_type": "code",
      "source": "ax = sns.distplot(train['annual_income'].dropna(), hist=True, kde=True, \n             color = 'darkblue', \n             hist_kws={'edgecolor':'black'},\n             kde_kws={'linewidth': 2})\nax.set(xlabel='Annual Income') \nplt.title('Annual Income frequency chart'); \nplt.show()",
      "execution_count": 34,
      "outputs": [
        {
          "output_type": "stream",
          "text": "/home/nbuser/anaconda3_501/lib/python3.6/site-packages/scipy/stats/stats.py:1713: FutureWarning: Using a non-tuple sequence for multidimensional indexing is deprecated; use `arr[tuple(seq)]` instead of `arr[seq]`. In the future this will be interpreted as an array index, `arr[np.array(seq)]`, which will result either in an error or a different result.\n  return np.add.reduce(sorted[indexer] * weights, axis=axis) / sumval\n",
          "name": "stderr"
        },
        {
          "output_type": "display_data",
          "data": {
            "image/png": "[encoded data removed]",
            "text/plain": "<Figure size 432x288 with 1 Axes>"
          },
          "metadata": {
            "needs_background": "light"
          }
        }
      ]
    },
    {
      "metadata": {
        "trusted": true,
        "scrolled": true
      },
      "cell_type": "code",
      "source": "train.describe()",
      "execution_count": null,
      "outputs": []
    },
    {
      "metadata": {},
      "cell_type": "markdown",
      "source": "#### Outlier Treatment: Years of Credit History"
    },
    {
      "metadata": {
        "trusted": true,
        "scrolled": true
      },
      "cell_type": "code",
      "source": "ax = sns.boxplot(data=train['years_of_credit_history'], orient=\"h\", palette=\"Set2\")",
      "execution_count": 35,
      "outputs": [
        {
          "output_type": "display_data",
          "data": {
            "image/png": "[encoded data removed]",
            "text/plain": "<Figure size 432x288 with 1 Axes>"
          },
          "metadata": {
            "needs_background": "light"
          }
        }
      ]
    },
    {
      "metadata": {
        "trusted": true,
        "scrolled": true
      },
      "cell_type": "code",
      "source": "train[train['years_of_credit_history']>58]",
      "execution_count": 36,
      "outputs": [
        {
          "output_type": "execute_result",
          "execution_count": 36,
          "data": {
            "text/html": "<div>\n<style scoped>\n    .dataframe tbody tr th:only-of-type {\n        vertical-align: middle;\n    }\n\n    .dataframe tbody tr th {\n        vertical-align: top;\n    }\n\n    .dataframe thead th {\n        text-align: right;\n    }\n</style>\n<table border=\"1\" class=\"dataframe\">\n  <thead>\n    <tr style=\"text-align: right;\">\n      <th></th>\n      <th>loan_id</th>\n      <th>customer_id</th>\n      <th>loan_status</th>\n      <th>current_loan_amount</th>\n      <th>term</th>\n      <th>credit_score</th>\n      <th>years_in_current_job</th>\n      <th>home_ownership</th>\n      <th>annual_income</th>\n      <th>purpose</th>\n      <th>monthly_debt</th>\n      <th>years_of_credit_history</th>\n      <th>months_since_last_delinquent</th>\n      <th>number_of_open_accounts</th>\n      <th>number_of_credit_problems</th>\n      <th>current_credit_balance</th>\n      <th>maximum_open_credit</th>\n      <th>bankruptcies</th>\n      <th>tax_liens</th>\n    </tr>\n  </thead>\n  <tbody>\n    <tr>\n      <th>1908</th>\n      <td>cd5ca817-ff39-41e1-8dcd-3a86346c4631</td>\n      <td>33dd7f5c-92fa-4dcf-b798-6565b8281f0d</td>\n      <td>Fully Paid</td>\n      <td>14829.000</td>\n      <td>Short Term</td>\n      <td>741.000</td>\n      <td>7.000</td>\n      <td>Home Mortgage</td>\n      <td>86008.000</td>\n      <td>Business Loan</td>\n      <td>860.800</td>\n      <td>59.900</td>\n      <td>nan</td>\n      <td>9</td>\n      <td>1</td>\n      <td>4558</td>\n      <td>9596</td>\n      <td>1.000</td>\n      <td>0.000</td>\n    </tr>\n    <tr>\n      <th>32096</th>\n      <td>433a4adf-886b-4df7-998a-a0e171fb98bc</td>\n      <td>7e068df8-61ed-4418-9e6f-9d7610f3238f</td>\n      <td>Fully Paid</td>\n      <td>14802.000</td>\n      <td>Short Term</td>\n      <td>nan</td>\n      <td>nan</td>\n      <td>Home Mortgage</td>\n      <td>nan</td>\n      <td>Debt Consolidation</td>\n      <td>821.020</td>\n      <td>62.500</td>\n      <td>24.000</td>\n      <td>8</td>\n      <td>0</td>\n      <td>7007</td>\n      <td>23593</td>\n      <td>0.000</td>\n      <td>0.000</td>\n    </tr>\n    <tr>\n      <th>45779</th>\n      <td>0ca8800a-36f0-48b3-9564-2cce86190862</td>\n      <td>b6d390e3-8cb6-44b7-981a-ce00be0ca85f</td>\n      <td>Charged Off</td>\n      <td>21197.000</td>\n      <td>Short Term</td>\n      <td>nan</td>\n      <td>10.000</td>\n      <td>Home Mortgage</td>\n      <td>nan</td>\n      <td>Debt Consolidation</td>\n      <td>1574.660</td>\n      <td>60.500</td>\n      <td>48.000</td>\n      <td>11</td>\n      <td>1</td>\n      <td>7928</td>\n      <td>19575</td>\n      <td>1.000</td>\n      <td>0.000</td>\n    </tr>\n    <tr>\n      <th>49017</th>\n      <td>133375dc-a8ef-481a-854e-2958fc7ca9f6</td>\n      <td>a23f7854-accc-48c6-8634-d9277f92c10b</td>\n      <td>Charged Off</td>\n      <td>20190.000</td>\n      <td>Short Term</td>\n      <td>710.000</td>\n      <td>10.000</td>\n      <td>Home Mortgage</td>\n      <td>46290.000</td>\n      <td>Home Improvements</td>\n      <td>690.490</td>\n      <td>59.700</td>\n      <td>nan</td>\n      <td>7</td>\n      <td>0</td>\n      <td>2865</td>\n      <td>7091</td>\n      <td>0.000</td>\n      <td>0.000</td>\n    </tr>\n    <tr>\n      <th>61832</th>\n      <td>7e687480-14cb-416e-bc82-faea0ccf2a71</td>\n      <td>0c401d4d-523a-4eb5-97b0-f5677fd34ade</td>\n      <td>Fully Paid</td>\n      <td>34192.000</td>\n      <td>Long Term</td>\n      <td>676.000</td>\n      <td>10.000</td>\n      <td>Home Mortgage</td>\n      <td>126509.000</td>\n      <td>Debt Consolidation</td>\n      <td>3478.990</td>\n      <td>59.500</td>\n      <td>nan</td>\n      <td>15</td>\n      <td>0</td>\n      <td>59003</td>\n      <td>71259</td>\n      <td>0.000</td>\n      <td>0.000</td>\n    </tr>\n  </tbody>\n</table>\n</div>",
            "text/plain": "                                    loan_id  \\\n1908   cd5ca817-ff39-41e1-8dcd-3a86346c4631   \n32096  433a4adf-886b-4df7-998a-a0e171fb98bc   \n45779  0ca8800a-36f0-48b3-9564-2cce86190862   \n49017  133375dc-a8ef-481a-854e-2958fc7ca9f6   \n61832  7e687480-14cb-416e-bc82-faea0ccf2a71   \n\n                                customer_id  loan_status  current_loan_amount  \\\n1908   33dd7f5c-92fa-4dcf-b798-6565b8281f0d   Fully Paid            14829.000   \n32096  7e068df8-61ed-4418-9e6f-9d7610f3238f   Fully Paid            14802.000   \n45779  b6d390e3-8cb6-44b7-981a-ce00be0ca85f  Charged Off            21197.000   \n49017  a23f7854-accc-48c6-8634-d9277f92c10b  Charged Off            20190.000   \n61832  0c401d4d-523a-4eb5-97b0-f5677fd34ade   Fully Paid            34192.000   \n\n             term  credit_score  years_in_current_job home_ownership  \\\n1908   Short Term       741.000                 7.000  Home Mortgage   \n32096  Short Term           nan                   nan  Home Mortgage   \n45779  Short Term           nan                10.000  Home Mortgage   \n49017  Short Term       710.000                10.000  Home Mortgage   \n61832   Long Term       676.000                10.000  Home Mortgage   \n\n       annual_income             purpose  monthly_debt  \\\n1908       86008.000       Business Loan       860.800   \n32096            nan  Debt Consolidation       821.020   \n45779            nan  Debt Consolidation      1574.660   \n49017      46290.000   Home Improvements       690.490   \n61832     126509.000  Debt Consolidation      3478.990   \n\n       years_of_credit_history  months_since_last_delinquent  \\\n1908                    59.900                           nan   \n32096                   62.500                        24.000   \n45779                   60.500                        48.000   \n49017                   59.700                           nan   \n61832                   59.500                           nan   \n\n       number_of_open_accounts  number_of_credit_problems  \\\n1908                         9                          1   \n32096                        8                          0   \n45779                       11                          1   \n49017                        7                          0   \n61832                       15                          0   \n\n       current_credit_balance  maximum_open_credit  bankruptcies  tax_liens  \n1908                     4558                 9596         1.000      0.000  \n32096                    7007                23593         0.000      0.000  \n45779                    7928                19575         1.000      0.000  \n49017                    2865                 7091         0.000      0.000  \n61832                   59003                71259         0.000      0.000  "
          },
          "metadata": {}
        }
      ]
    },
    {
      "metadata": {
        "trusted": true
      },
      "cell_type": "code",
      "source": "train = train.drop([1908, 32096, 45779, 49017, 61832])",
      "execution_count": 37,
      "outputs": []
    },
    {
      "metadata": {
        "trusted": true,
        "scrolled": true
      },
      "cell_type": "code",
      "source": "ax = sns.boxplot(data=train['years_of_credit_history'], orient=\"h\", palette=\"Set2\")",
      "execution_count": 38,
      "outputs": [
        {
          "output_type": "display_data",
          "data": {
            "image/png": "[encoded data removed]",
            "text/plain": "<Figure size 432x288 with 1 Axes>"
          },
          "metadata": {
            "needs_background": "light"
          }
        }
      ]
    },
    {
      "metadata": {
        "trusted": true,
        "scrolled": true
      },
      "cell_type": "code",
      "source": "train.describe()",
      "execution_count": null,
      "outputs": []
    },
    {
      "metadata": {},
      "cell_type": "markdown",
      "source": "#### Outlier treatment: Number of Open Accounts"
    },
    {
      "metadata": {
        "trusted": true,
        "scrolled": true
      },
      "cell_type": "code",
      "source": "ax = sns.boxplot(data=train['number_of_open_accounts'], orient=\"h\", palette=\"Set2\")",
      "execution_count": 39,
      "outputs": [
        {
          "output_type": "display_data",
          "data": {
            "image/png": "[encoded data removed]",
            "text/plain": "<Figure size 432x288 with 1 Axes>"
          },
          "metadata": {
            "needs_background": "light"
          }
        }
      ]
    },
    {
      "metadata": {
        "trusted": true,
        "scrolled": true
      },
      "cell_type": "code",
      "source": "train[train['number_of_open_accounts']>50]",
      "execution_count": 40,
      "outputs": [
        {
          "output_type": "execute_result",
          "execution_count": 40,
          "data": {
            "text/html": "<div>\n<style scoped>\n    .dataframe tbody tr th:only-of-type {\n        vertical-align: middle;\n    }\n\n    .dataframe tbody tr th {\n        vertical-align: top;\n    }\n\n    .dataframe thead th {\n        text-align: right;\n    }\n</style>\n<table border=\"1\" class=\"dataframe\">\n  <thead>\n    <tr style=\"text-align: right;\">\n      <th></th>\n      <th>loan_id</th>\n      <th>customer_id</th>\n      <th>loan_status</th>\n      <th>current_loan_amount</th>\n      <th>term</th>\n      <th>credit_score</th>\n      <th>years_in_current_job</th>\n      <th>home_ownership</th>\n      <th>annual_income</th>\n      <th>purpose</th>\n      <th>monthly_debt</th>\n      <th>years_of_credit_history</th>\n      <th>months_since_last_delinquent</th>\n      <th>number_of_open_accounts</th>\n      <th>number_of_credit_problems</th>\n      <th>current_credit_balance</th>\n      <th>maximum_open_credit</th>\n      <th>bankruptcies</th>\n      <th>tax_liens</th>\n    </tr>\n  </thead>\n  <tbody>\n    <tr>\n      <th>26502</th>\n      <td>7d000d90-1538-4d4d-b7c2-15724be2025e</td>\n      <td>080f449b-c0b7-4226-8a51-cdcc7e68954f</td>\n      <td>Fully Paid</td>\n      <td>6082.000</td>\n      <td>Short Term</td>\n      <td>742.000</td>\n      <td>10.000</td>\n      <td>Home Mortgage</td>\n      <td>71973.000</td>\n      <td>Debt Consolidation</td>\n      <td>422.840</td>\n      <td>18.700</td>\n      <td>nan</td>\n      <td>52</td>\n      <td>0</td>\n      <td>7234</td>\n      <td>164404</td>\n      <td>0.000</td>\n      <td>0.000</td>\n    </tr>\n    <tr>\n      <th>26637</th>\n      <td>4f8a7824-b9bd-4b8c-b2a1-6b7b196d2c0f</td>\n      <td>67a534d6-7038-4e0b-8d42-8aab6d220701</td>\n      <td>Fully Paid</td>\n      <td>28185.000</td>\n      <td>Long Term</td>\n      <td>744.000</td>\n      <td>2.000</td>\n      <td>Home Mortgage</td>\n      <td>201320.000</td>\n      <td>Debt Consolidation</td>\n      <td>4429.040</td>\n      <td>15.600</td>\n      <td>nan</td>\n      <td>55</td>\n      <td>0</td>\n      <td>34159</td>\n      <td>185646</td>\n      <td>0.000</td>\n      <td>0.000</td>\n    </tr>\n    <tr>\n      <th>27936</th>\n      <td>08dab131-9db3-4184-a32a-e12e48fd5d6c</td>\n      <td>907c2a89-76f8-4089-9a47-d410bb885339</td>\n      <td>Charged Off</td>\n      <td>18755.000</td>\n      <td>Long Term</td>\n      <td>670.000</td>\n      <td>7.000</td>\n      <td>Rent</td>\n      <td>46912.000</td>\n      <td>Debt Consolidation</td>\n      <td>1032.060</td>\n      <td>27.400</td>\n      <td>nan</td>\n      <td>76</td>\n      <td>0</td>\n      <td>22111</td>\n      <td>28131</td>\n      <td>0.000</td>\n      <td>0.000</td>\n    </tr>\n    <tr>\n      <th>39254</th>\n      <td>f4e0a453-a5ec-4011-9513-9d203ffe8e3c</td>\n      <td>3e62a9e2-a61b-472d-8e56-234e30061580</td>\n      <td>Charged Off</td>\n      <td>20426.000</td>\n      <td>Short Term</td>\n      <td>708.000</td>\n      <td>5.000</td>\n      <td>Home Mortgage</td>\n      <td>122556.000</td>\n      <td>Debt Consolidation</td>\n      <td>2195.800</td>\n      <td>15.700</td>\n      <td>nan</td>\n      <td>76</td>\n      <td>0</td>\n      <td>40606</td>\n      <td>121575</td>\n      <td>0.000</td>\n      <td>0.000</td>\n    </tr>\n  </tbody>\n</table>\n</div>",
            "text/plain": "                                    loan_id  \\\n26502  7d000d90-1538-4d4d-b7c2-15724be2025e   \n26637  4f8a7824-b9bd-4b8c-b2a1-6b7b196d2c0f   \n27936  08dab131-9db3-4184-a32a-e12e48fd5d6c   \n39254  f4e0a453-a5ec-4011-9513-9d203ffe8e3c   \n\n                                customer_id  loan_status  current_loan_amount  \\\n26502  080f449b-c0b7-4226-8a51-cdcc7e68954f   Fully Paid             6082.000   \n26637  67a534d6-7038-4e0b-8d42-8aab6d220701   Fully Paid            28185.000   \n27936  907c2a89-76f8-4089-9a47-d410bb885339  Charged Off            18755.000   \n39254  3e62a9e2-a61b-472d-8e56-234e30061580  Charged Off            20426.000   \n\n             term  credit_score  years_in_current_job home_ownership  \\\n26502  Short Term       742.000                10.000  Home Mortgage   \n26637   Long Term       744.000                 2.000  Home Mortgage   \n27936   Long Term       670.000                 7.000           Rent   \n39254  Short Term       708.000                 5.000  Home Mortgage   \n\n       annual_income             purpose  monthly_debt  \\\n26502      71973.000  Debt Consolidation       422.840   \n26637     201320.000  Debt Consolidation      4429.040   \n27936      46912.000  Debt Consolidation      1032.060   \n39254     122556.000  Debt Consolidation      2195.800   \n\n       years_of_credit_history  months_since_last_delinquent  \\\n26502                   18.700                           nan   \n26637                   15.600                           nan   \n27936                   27.400                           nan   \n39254                   15.700                           nan   \n\n       number_of_open_accounts  number_of_credit_problems  \\\n26502                       52                          0   \n26637                       55                          0   \n27936                       76                          0   \n39254                       76                          0   \n\n       current_credit_balance  maximum_open_credit  bankruptcies  tax_liens  \n26502                    7234               164404         0.000      0.000  \n26637                   34159               185646         0.000      0.000  \n27936                   22111                28131         0.000      0.000  \n39254                   40606               121575         0.000      0.000  "
          },
          "metadata": {}
        }
      ]
    },
    {
      "metadata": {
        "trusted": true
      },
      "cell_type": "code",
      "source": "train = train.drop([26502, 26637, 27936, 39254])",
      "execution_count": 41,
      "outputs": []
    },
    {
      "metadata": {
        "trusted": true,
        "scrolled": true
      },
      "cell_type": "code",
      "source": "ax = sns.boxplot(data=train['number_of_open_accounts'], orient=\"h\", palette=\"Set2\")",
      "execution_count": 42,
      "outputs": [
        {
          "output_type": "display_data",
          "data": {
            "image/png": "[encoded data removed]",
            "text/plain": "<Figure size 432x288 with 1 Axes>"
          },
          "metadata": {
            "needs_background": "light"
          }
        }
      ]
    },
    {
      "metadata": {
        "trusted": true,
        "scrolled": true
      },
      "cell_type": "code",
      "source": "#Capping the outliers\nIQR = train['number_of_open_accounts'].quantile(0.75) - train['number_of_open_accounts'].quantile(0.25)\nupper_limit = train['number_of_open_accounts'].quantile(0.75) + (IQR * 1.5)\nprint(\"Upper Limit:\", upper_limit)",
      "execution_count": 43,
      "outputs": [
        {
          "output_type": "stream",
          "text": "Upper Limit: 23.0\n",
          "name": "stdout"
        }
      ]
    },
    {
      "metadata": {
        "trusted": true,
        "scrolled": true
      },
      "cell_type": "code",
      "source": "train['number_of_open_accounts'] = [23.0 if ( x>23.0 and x!=np.nan) else x for x in train['number_of_open_accounts']]\nax = sns.boxplot(data=train['number_of_open_accounts'], orient=\"h\", palette=\"Set2\")",
      "execution_count": 44,
      "outputs": [
        {
          "output_type": "display_data",
          "data": {
            "image/png": "[encoded data removed]",
            "text/plain": "<Figure size 432x288 with 1 Axes>"
          },
          "metadata": {
            "needs_background": "light"
          }
        }
      ]
    },
    {
      "metadata": {
        "trusted": true,
        "scrolled": true
      },
      "cell_type": "code",
      "source": "print(train.shape)\ntrain.describe()",
      "execution_count": null,
      "outputs": []
    },
    {
      "metadata": {},
      "cell_type": "markdown",
      "source": "Now, all outliers has been handled so let's check the missing values."
    },
    {
      "metadata": {
        "trusted": true
      },
      "cell_type": "code",
      "source": "train.isnull().sum()",
      "execution_count": 45,
      "outputs": [
        {
          "output_type": "execute_result",
          "execution_count": 45,
          "data": {
            "text/plain": "loan_id                             0\ncustomer_id                         0\nloan_status                         0\ncurrent_loan_amount              5861\nterm                                0\ncredit_score                    11237\nyears_in_current_job             2676\nhome_ownership                      0\nannual_income                   11237\npurpose                             0\nmonthly_debt                        0\nyears_of_credit_history             0\nmonths_since_last_delinquent    34024\nnumber_of_open_accounts             0\nnumber_of_credit_problems           0\ncurrent_credit_balance              0\nmaximum_open_credit                 0\nbankruptcies                      125\ntax_liens                           4\ndtype: int64"
          },
          "metadata": {}
        }
      ]
    },
    {
      "metadata": {},
      "cell_type": "markdown",
      "source": "#### Missing Value Treatment: Bankruptcies & Tax Liens"
    },
    {
      "metadata": {},
      "cell_type": "markdown",
      "source": "Reference Link for Iterative Imputing:\nhttps://scikit-learn.org/stable/auto_examples/impute/plot_iterative_imputer_variants_comparison.html#sphx-glr-auto-examples-impute-plot-iterative-imputer-variants-comparison-py"
    },
    {
      "metadata": {
        "trusted": true
      },
      "cell_type": "code",
      "source": "# Since percentage value of Missing values in Bankruptcies and Tax Liens are very low we can delete the rows\ntrain = train.dropna(subset=['bankruptcies', 'tax_liens'])\nprint(train.shape)\ntrain.isnull().sum()\n",
      "execution_count": null,
      "outputs": []
    },
    {
      "metadata": {},
      "cell_type": "markdown",
      "source": "#### Missing Value Treatment: Months Since Last Delinquent"
    },
    {
      "metadata": {},
      "cell_type": "markdown",
      "source": "This feature describes the number of months since the credit is not paid, so NA's actually are the genuine customers so replacing it with 0."
    },
    {
      "metadata": {
        "trusted": true
      },
      "cell_type": "code",
      "source": "train[\"months_since_last_delinquent\"].fillna(0, inplace = True)\nprint(train.shape)\ntrain.isnull().sum()",
      "execution_count": null,
      "outputs": []
    },
    {
      "metadata": {},
      "cell_type": "markdown",
      "source": "#### Missing Value Treatment: Current Loan Amount, Credit Score, Years In Current Job, Annual Income"
    },
    {
      "metadata": {},
      "cell_type": "markdown",
      "source": "Applying **'Iterative Imputer'** using default estimator **'Bayesian Ridge'** which is **Regularized Linear Regression**."
    },
    {
      "metadata": {
        "trusted": true
      },
      "cell_type": "code",
      "source": "train.reset_index(drop=True, inplace=True)\nmy_imputer = IterativeImputer()\n#For this we need only numerical variables so filtering this\ntrain_numerical = train._get_numeric_data()\ntrain_numerical_columns = train_numerical.columns \nprint(train_numerical.shape)\ntrain_numerical.isnull().sum()",
      "execution_count": null,
      "outputs": []
    },
    {
      "metadata": {
        "trusted": true
      },
      "cell_type": "code",
      "source": "train_imputed = my_imputer.fit_transform(train_numerical)\n#Imputer will give the array as an object so need to convert it to Dataframe with columns\ntrain_imputed = pd.DataFrame(train_imputed, columns=train_numerical_columns)\ntrain_imputed.isnull().sum()",
      "execution_count": null,
      "outputs": []
    },
    {
      "metadata": {
        "trusted": true,
        "scrolled": true
      },
      "cell_type": "code",
      "source": "train_imputed.describe()",
      "execution_count": null,
      "outputs": []
    },
    {
      "metadata": {},
      "cell_type": "markdown",
      "source": "Plotting histogram to see the difference between without na values and after replacing na values with Iterative Imputer. <br>\ntrain_numerical is our Dataframe with NA's, while, train_imputed is our Dataframe without NA's."
    },
    {
      "metadata": {},
      "cell_type": "markdown",
      "source": "#### Histogram: Current Loan Amount"
    },
    {
      "metadata": {
        "trusted": true
      },
      "cell_type": "code",
      "source": "ax = sns.distplot(train_numerical['current_loan_amount'].dropna(), hist=True, kde=True, \n             bins=int(42740/1000), color = 'darkblue', \n             hist_kws={'edgecolor':'black'},\n             kde_kws={'linewidth': 2})\nax.set(xlabel='Current Loan Amount') \nplt.title('Current Loan Amount before Imputation'); \nplt.show()",
      "execution_count": null,
      "outputs": []
    },
    {
      "metadata": {
        "trusted": true,
        "scrolled": false
      },
      "cell_type": "code",
      "source": "ax = sns.distplot(train_imputed['current_loan_amount'], hist=True, kde=True, \n             bins=int(42740/1000), color = 'darkblue', \n             hist_kws={'edgecolor':'black'},\n             kde_kws={'linewidth': 2})\nax.set(xlabel='Current Loan Amount') \nplt.title('Current Loan Amount after Imputation'); \nplt.show()",
      "execution_count": null,
      "outputs": []
    },
    {
      "metadata": {
        "trusted": true
      },
      "cell_type": "code",
      "source": "temp = train_imputed[train_imputed['current_loan_amount']<40000]",
      "execution_count": null,
      "outputs": []
    },
    {
      "metadata": {
        "trusted": true,
        "scrolled": true
      },
      "cell_type": "code",
      "source": "ax = sns.distplot(temp['current_loan_amount'], hist=True, kde=True, \n             bins=int(42740/1000), color = 'darkblue', \n             hist_kws={'edgecolor':'black'},\n             kde_kws={'linewidth': 2})\nax.set(xlabel='Current Loan Amount') \nplt.title('Current Loan Amount after Imputation'); \nplt.show()",
      "execution_count": null,
      "outputs": []
    },
    {
      "metadata": {},
      "cell_type": "markdown",
      "source": "#### Histogram: Credit Score"
    },
    {
      "metadata": {
        "trusted": true,
        "scrolled": true
      },
      "cell_type": "code",
      "source": "ax = sns.distplot(train_numerical['credit_score'].dropna(), hist=True, kde=True, \n             bins=int(800/20), color = 'darkblue', \n             hist_kws={'edgecolor':'black'},\n             kde_kws={'linewidth': 2})\nax.set(xlabel='Credit Score') \nplt.title('Credit Score before Imputation'); \nplt.show()",
      "execution_count": null,
      "outputs": []
    },
    {
      "metadata": {
        "trusted": true,
        "scrolled": false
      },
      "cell_type": "code",
      "source": "ax = sns.distplot(train_imputed['credit_score'], hist=True, kde=True, \n             bins=int(800/20), color = 'darkblue', \n             hist_kws={'edgecolor':'black'},\n             kde_kws={'linewidth': 2})\nax.set(xlabel='Credit Score') \nplt.title('Credit Score after Imputation'); \nplt.show() ",
      "execution_count": null,
      "outputs": []
    },
    {
      "metadata": {},
      "cell_type": "markdown",
      "source": "#### Histogram: Annual Income"
    },
    {
      "metadata": {
        "trusted": true,
        "scrolled": true
      },
      "cell_type": "code",
      "source": "ax = sns.distplot(train_numerical['annual_income'].dropna(), hist=True, kde=True, \n             bins=int(215580/10000), color = 'darkblue', \n             hist_kws={'edgecolor':'black'},\n             kde_kws={'linewidth': 2})\nax.set(xlabel='Annual Income') \nplt.title('Annual Income before Imputation'); \nplt.show()",
      "execution_count": null,
      "outputs": []
    },
    {
      "metadata": {
        "trusted": true
      },
      "cell_type": "code",
      "source": "ax = sns.distplot(train_imputed['annual_income'], hist=True, kde=True, \n             bins=int(215580/10000), color = 'darkblue', \n             hist_kws={'edgecolor':'black'},\n             kde_kws={'linewidth': 2})\nax.set(xlabel='Annual Income') \nplt.title('Annual Income after Imputation'); \nplt.show()",
      "execution_count": null,
      "outputs": []
    },
    {
      "metadata": {},
      "cell_type": "markdown",
      "source": "#### Histogram: Years In Current Job"
    },
    {
      "metadata": {
        "trusted": true
      },
      "cell_type": "code",
      "source": "ax = sns.distplot(train_numerical['years_in_current_job'].dropna(), hist=True, kde=True, \n             bins=int(215580/10000), color = 'darkblue', \n             hist_kws={'edgecolor':'black'},\n             kde_kws={'linewidth': 2})\nax.set(xlabel='Years In Current Job') \nplt.title('Years In Current Job before Imputation'); \nplt.show()",
      "execution_count": null,
      "outputs": []
    },
    {
      "metadata": {
        "trusted": true
      },
      "cell_type": "code",
      "source": "ax = sns.distplot(train_imputed['years_in_current_job'], hist=True, kde=True, \n             bins=int(215580/10000), color = 'darkblue', \n             hist_kws={'edgecolor':'black'},\n             kde_kws={'linewidth': 2})\nax.set(xlabel='Years In Current Job') \nplt.title('Years In Current Job after Imputation'); \nplt.show()",
      "execution_count": null,
      "outputs": []
    },
    {
      "metadata": {},
      "cell_type": "markdown",
      "source": "Replacing the feature in Train dataframe by above Imputed dataframe."
    },
    {
      "metadata": {
        "trusted": true
      },
      "cell_type": "code",
      "source": "train_imputed.shape",
      "execution_count": null,
      "outputs": []
    },
    {
      "metadata": {
        "trusted": true
      },
      "cell_type": "code",
      "source": "train.shape",
      "execution_count": null,
      "outputs": []
    },
    {
      "metadata": {
        "trusted": true
      },
      "cell_type": "code",
      "source": "train['years_in_current_job'] = train_imputed['years_in_current_job']\ntrain['current_loan_amount'] = train_imputed['current_loan_amount']\ntrain['credit_score'] = train_imputed['credit_score']\ntrain['annual_income'] = train_imputed['annual_income']",
      "execution_count": null,
      "outputs": []
    },
    {
      "metadata": {
        "trusted": true
      },
      "cell_type": "code",
      "source": "print(train.shape)\ntrain.isnull().sum()",
      "execution_count": null,
      "outputs": []
    },
    {
      "metadata": {},
      "cell_type": "markdown",
      "source": "#### Converting Months since last delinquent into categories"
    },
    {
      "metadata": {
        "trusted": true
      },
      "cell_type": "code",
      "source": "train['months_since_last_delinquent'] = ['extreme_risk' if x>51 \n        else 'high_risk' if x>32 \n        else 'moderate_risk' if x>16 \n        else 'low_risk' if x>0 else 'no_risk' for x in train['months_since_last_delinquent']]",
      "execution_count": null,
      "outputs": []
    },
    {
      "metadata": {
        "trusted": true,
        "scrolled": true
      },
      "cell_type": "code",
      "source": "train['months_since_last_delinquent'].unique()",
      "execution_count": null,
      "outputs": []
    },
    {
      "metadata": {},
      "cell_type": "markdown",
      "source": "**Dropping of Loan ID and Customer ID as we have removed the duplicates and now it's not required further.**"
    },
    {
      "metadata": {
        "trusted": true
      },
      "cell_type": "code",
      "source": "train.drop(['loan_id', 'customer_id'], axis=1, inplace=True)",
      "execution_count": null,
      "outputs": []
    },
    {
      "metadata": {
        "trusted": true,
        "scrolled": false
      },
      "cell_type": "code",
      "source": "train.shape",
      "execution_count": null,
      "outputs": []
    },
    {
      "metadata": {},
      "cell_type": "markdown",
      "source": "### Handling Categorical Variables"
    },
    {
      "metadata": {},
      "cell_type": "markdown",
      "source": "We have 5 Categorical Variables in our data which are as below: <br>\n1. Term\n2. Home Ownership\n3. Purpose\n4. Months Since Last Delinquent\n5. Loan Status\n\nWe will apply Label Encoding to Loan Status as this is a dependent variable, while for other we will apply One Hot Encoding."
    },
    {
      "metadata": {
        "trusted": true
      },
      "cell_type": "code",
      "source": "# importing one hot encoder from sklearn \nfrom sklearn.preprocessing import LabelEncoder",
      "execution_count": null,
      "outputs": []
    },
    {
      "metadata": {
        "trusted": true
      },
      "cell_type": "code",
      "source": "#Applying Label Encoding to Loan Status\nle = LabelEncoder()\ntrain['loan_status'] = le.fit_transform(train.loan_status)\nprint(le.classes_)",
      "execution_count": null,
      "outputs": []
    },
    {
      "metadata": {
        "trusted": true
      },
      "cell_type": "code",
      "source": "train.loan_status.unique()",
      "execution_count": null,
      "outputs": []
    },
    {
      "metadata": {
        "trusted": true
      },
      "cell_type": "code",
      "source": "train.term.unique()",
      "execution_count": null,
      "outputs": []
    },
    {
      "metadata": {
        "trusted": true,
        "scrolled": false
      },
      "cell_type": "code",
      "source": "train.home_ownership.unique()",
      "execution_count": null,
      "outputs": []
    },
    {
      "metadata": {
        "trusted": true
      },
      "cell_type": "code",
      "source": "train['home_ownership'] = ['Mortgage' if 'Mortgage' in x else x for x in train['home_ownership']]",
      "execution_count": null,
      "outputs": []
    },
    {
      "metadata": {
        "trusted": true
      },
      "cell_type": "code",
      "source": "train.home_ownership.unique()",
      "execution_count": null,
      "outputs": []
    },
    {
      "metadata": {
        "trusted": true,
        "scrolled": true
      },
      "cell_type": "code",
      "source": "train.purpose.unique()",
      "execution_count": null,
      "outputs": []
    },
    {
      "metadata": {},
      "cell_type": "markdown",
      "source": "So if you see here there can be n number of purpose to take loan its define and its actually not needed to train the model so dropping this feature."
    },
    {
      "metadata": {
        "trusted": true
      },
      "cell_type": "code",
      "source": "train.drop(['purpose'], axis=1, inplace=True)",
      "execution_count": null,
      "outputs": []
    },
    {
      "metadata": {
        "trusted": true
      },
      "cell_type": "code",
      "source": "train.months_since_last_delinquent.unique()",
      "execution_count": null,
      "outputs": []
    },
    {
      "metadata": {
        "trusted": true
      },
      "cell_type": "code",
      "source": "cols_to_transform = ['term', 'months_since_last_delinquent', 'home_ownership' ]\ntrain_with_dummies = pd.get_dummies(train, prefix=cols_to_transform )",
      "execution_count": null,
      "outputs": []
    },
    {
      "metadata": {
        "trusted": true
      },
      "cell_type": "code",
      "source": "train_with_dummies",
      "execution_count": null,
      "outputs": []
    },
    {
      "metadata": {},
      "cell_type": "markdown",
      "source": "### EDA"
    },
    {
      "metadata": {},
      "cell_type": "markdown",
      "source": "#### Checking the distribution of Dependent Variable"
    },
    {
      "metadata": {
        "trusted": true,
        "scrolled": true
      },
      "cell_type": "code",
      "source": "# This give you the calulation of the target lebels. Which category of the target lebel is how many percentage.\ntotal_len = len(train_with_dummies['loan_status'])\npercentage_labels = (train_with_dummies['loan_status'].value_counts()/total_len)*100\npercentage_labels",
      "execution_count": null,
      "outputs": []
    },
    {
      "metadata": {
        "trusted": true
      },
      "cell_type": "code",
      "source": "# Graphical representation of the target label percentage.\nsns.set()\nsns.countplot(train_with_dummies.loan_status).set_title('Data Distribution')\nax = plt.gca()\nfor p in ax.patches:\n    height = p.get_height()\n    ax.text(p.get_x() + p.get_width()/2.,\n            height + 2,\n            '{:.2f}%'.format(100*(height/total_len)),\n            fontsize=14, ha='center', va='bottom')\nsns.set(font_scale=2)\nsns.set(rc={'figure.figsize':(8,8)})\nax.set_xlabel(\"Labels for Loan Status attribute\")\nax.set_ylabel(\"Numbers of records\")\nplt.show()",
      "execution_count": null,
      "outputs": []
    },
    {
      "metadata": {
        "trusted": true,
        "scrolled": true
      },
      "cell_type": "code",
      "source": "# Get the correlation of the training dataset\ncorrelation = train_with_dummies[1:].corr()\ncorrelation",
      "execution_count": null,
      "outputs": []
    },
    {
      "metadata": {
        "trusted": true
      },
      "cell_type": "code",
      "source": "sns.set(font_scale=0.8)\nsns.heatmap(train_with_dummies[1:].corr(),annot=True,fmt=\".1f\")\nsns.set(rc={'figure.figsize':(10,10)})\nplt.show()",
      "execution_count": null,
      "outputs": []
    },
    {
      "metadata": {},
      "cell_type": "markdown",
      "source": "### Feature Selection"
    },
    {
      "metadata": {
        "trusted": true
      },
      "cell_type": "code",
      "source": "X = train_with_dummies.drop('loan_status',axis=1)\ny = train_with_dummies.loan_status",
      "execution_count": null,
      "outputs": []
    },
    {
      "metadata": {
        "trusted": true
      },
      "cell_type": "code",
      "source": "features_label = X.columns",
      "execution_count": null,
      "outputs": []
    },
    {
      "metadata": {
        "trusted": true
      },
      "cell_type": "code",
      "source": "#Fitting Random Forest Classification to the Training set\nfrom sklearn.ensemble import RandomForestClassifier\nclassifier = RandomForestClassifier(n_estimators = 200, criterion = 'entropy', random_state = 0)\nclassifier.fit(X, y)\nimportances = classifier.feature_importances_\nprint(importances)",
      "execution_count": null,
      "outputs": []
    },
    {
      "metadata": {
        "trusted": true
      },
      "cell_type": "code",
      "source": "indices = np.argsort(importances)[::-1]\nfor i in range(X.shape[1]):\n    print (\"%2d) %-*s %f\" % (i + 1, 30, features_label[i],importances[indices[i]]))",
      "execution_count": null,
      "outputs": []
    },
    {
      "metadata": {
        "trusted": true
      },
      "cell_type": "code",
      "source": "plt.title('Feature Importances')\nplt.bar(range(X.shape[1]),importances[indices], color=\"green\", align=\"center\")\nplt.xticks(range(X.shape[1]),features_label, rotation=90)\nplt.xlim([-1, X.shape[1]])\nplt.show()",
      "execution_count": null,
      "outputs": []
    },
    {
      "metadata": {},
      "cell_type": "markdown",
      "source": "### Train and Build Baseline Model"
    },
    {
      "metadata": {
        "trusted": true
      },
      "cell_type": "code",
      "source": "from sklearn.ensemble import RandomForestClassifier\nfrom sklearn.model_selection  import train_test_split\nfrom sklearn.metrics import confusion_matrix\nfrom sklearn.metrics import classification_report\nfrom sklearn.metrics import roc_auc_score",
      "execution_count": null,
      "outputs": []
    },
    {
      "metadata": {
        "trusted": true
      },
      "cell_type": "code",
      "source": "X_train, X_test, y_train, y_test = train_test_split(X, y, test_size = 0.20, random_state = 42)",
      "execution_count": null,
      "outputs": []
    },
    {
      "metadata": {
        "trusted": true
      },
      "cell_type": "code",
      "source": "Random = RandomForestClassifier(n_estimators=10, criterion='gini', max_depth=None, min_samples_split=2,\n                               min_samples_leaf=1, min_weight_fraction_leaf=0.0, max_features='auto',\n                               max_leaf_nodes=None, bootstrap=True, oob_score=False, n_jobs=1, \n                               random_state=None, verbose=0)\n\nRandom.fit(X_train, y_train)",
      "execution_count": null,
      "outputs": []
    },
    {
      "metadata": {
        "trusted": true
      },
      "cell_type": "code",
      "source": "# Predicting the Test set results\ny_pred = Random.predict(X_test)\n\n# Making the Confusion Matrix \ncm = confusion_matrix(y_test, y_pred)\nnp.set_printoptions(precision=2)",
      "execution_count": null,
      "outputs": []
    },
    {
      "metadata": {
        "trusted": true
      },
      "cell_type": "code",
      "source": "cm",
      "execution_count": null,
      "outputs": []
    },
    {
      "metadata": {
        "trusted": true
      },
      "cell_type": "code",
      "source": "#Let's see how our model performed\nprint(classification_report(y_test, y_pred))",
      "execution_count": null,
      "outputs": []
    },
    {
      "metadata": {
        "trusted": true
      },
      "cell_type": "code",
      "source": "test_labels=Random.predict_proba(np.array(X_test.values))[:,1]\nroc_auc_score(y_test,test_labels , average='macro', sample_weight=None)",
      "execution_count": null,
      "outputs": []
    },
    {
      "metadata": {
        "trusted": true
      },
      "cell_type": "code",
      "source": "import matplotlib.pyplot as plt\nimport itertools",
      "execution_count": null,
      "outputs": []
    },
    {
      "metadata": {
        "trusted": true
      },
      "cell_type": "code",
      "source": "def plot_confusion_matrix(cm, classes,\n                          normalize=False,\n                          title='Confusion matrix',\n                          cmap=plt.cm.Blues):\n    \"\"\"\n    This function prints and plots the confusion matrix.\n    Normalization can be applied by setting `normalize=True`.\n    \"\"\"\n    if normalize:\n        cm = cm.astype('float') / cm.sum(axis=1)[:, np.newaxis]\n        print(\"Normalized confusion matrix\")\n    else:\n        print('Confusion matrix, without normalization')\n\n    print(cm)\n\n    plt.imshow(cm, interpolation='nearest', cmap=cmap)\n    plt.title(title)\n    plt.colorbar()\n    tick_marks = np.arange(len(classes))\n    plt.xticks(tick_marks, classes, rotation=45)\n    plt.yticks(tick_marks, classes)\n\n    fmt = '.2f' if normalize else 'd'\n    thresh = cm.max() / 2.\n    for i, j in itertools.product(range(cm.shape[0]), range(cm.shape[1])):\n        plt.text(j, i, format(cm[i, j], fmt),\n                 horizontalalignment=\"center\",\n                 color=\"white\" if cm[i, j] > thresh else \"black\")\n\n    plt.ylabel('True label')\n    plt.xlabel('Predicted label')\n    plt.tight_layout()",
      "execution_count": null,
      "outputs": []
    },
    {
      "metadata": {
        "trusted": true,
        "scrolled": false
      },
      "cell_type": "code",
      "source": "# Plot normalized confusion matrix\nplot_confusion_matrix(cm,classes=[0,1])\nsns.set(rc={'figure.figsize':(6,6)})\nplt.show()",
      "execution_count": null,
      "outputs": []
    },
    {
      "metadata": {},
      "cell_type": "markdown",
      "source": "#### Filtering Features"
    },
    {
      "metadata": {
        "trusted": true
      },
      "cell_type": "code",
      "source": "X_filter = X[['current_loan_amount', 'credit_score', 'years_in_current_job', 'annual_income', 'monthly_debt', 'years_of_credit_history',\n             'number_of_open_accounts', 'number_of_credit_problems', 'current_credit_balance']]",
      "execution_count": null,
      "outputs": []
    },
    {
      "metadata": {
        "trusted": true
      },
      "cell_type": "code",
      "source": "X_train, X_test, y_train, y_test = train_test_split(X_filter, y, test_size = 0.20, random_state = 42)",
      "execution_count": null,
      "outputs": []
    },
    {
      "metadata": {
        "trusted": true
      },
      "cell_type": "code",
      "source": "Random = RandomForestClassifier(n_estimators=10, criterion='gini', max_depth=None, min_samples_split=2,\n                               min_samples_leaf=1, min_weight_fraction_leaf=0.0, max_features='auto',\n                               max_leaf_nodes=None, bootstrap=True, oob_score=False, n_jobs=1, \n                               random_state=None, verbose=0)\n\nRandom.fit(X_train, y_train)",
      "execution_count": null,
      "outputs": []
    },
    {
      "metadata": {
        "trusted": true
      },
      "cell_type": "code",
      "source": "# Predicting the Test set results\ny_pred = Random.predict(X_test)\n\n# Making the Confusion Matrix \ncm = confusion_matrix(y_test, y_pred)\nnp.set_printoptions(precision=2)",
      "execution_count": null,
      "outputs": []
    },
    {
      "metadata": {
        "trusted": true,
        "scrolled": true
      },
      "cell_type": "code",
      "source": "cm",
      "execution_count": null,
      "outputs": []
    },
    {
      "metadata": {
        "trusted": true,
        "scrolled": false
      },
      "cell_type": "code",
      "source": "#Let's see how our model performed\nprint(classification_report(y_test, y_pred))",
      "execution_count": null,
      "outputs": []
    },
    {
      "metadata": {
        "trusted": true,
        "scrolled": true
      },
      "cell_type": "code",
      "source": "test_labels=Random.predict_proba(np.array(X_test.values))[:,1]\nroc_auc_score(y_test,test_labels , average='macro', sample_weight=None)",
      "execution_count": null,
      "outputs": []
    },
    {
      "metadata": {},
      "cell_type": "markdown",
      "source": "#### Hyperparameter Tuning"
    },
    {
      "metadata": {
        "trusted": true
      },
      "cell_type": "code",
      "source": "from sklearn.model_selection import RandomizedSearchCV",
      "execution_count": null,
      "outputs": []
    },
    {
      "metadata": {
        "trusted": true
      },
      "cell_type": "code",
      "source": "# Number of trees in random forest\nn_estimators = [int(x) for x in np.linspace(start = 150, stop = 200, num = 10)]\n# Number of features to consider at every split\nmax_features = ['auto']\n# Maximum number of levels in tree\nmax_depth = [int(x) for x in np.linspace(10, 110, num = 11)]\nmax_depth.append(None)\n# Minimum number of samples required to split a node\nmin_samples_split = [5, 10]\n# Minimum number of samples required at each leaf node\nmin_samples_leaf = [2, 4]\n# Method of selecting samples for training each tree\nbootstrap = [True, False]\n# Create the random grid\nrandom_grid = {'n_estimators': n_estimators,\n               'max_features': max_features,\n               'max_depth': max_depth,\n               'min_samples_split': min_samples_split,\n               'min_samples_leaf': min_samples_leaf,\n               'bootstrap': bootstrap}",
      "execution_count": null,
      "outputs": []
    },
    {
      "metadata": {
        "trusted": true
      },
      "cell_type": "code",
      "source": "# Number of trees in random forest\nn_estimators = [int(x) for x in np.linspace(start = 10, stop = 200, num = 10)]\n# Number of features to consider at every split\nmax_features = ['auto', 'sqrt']\n# Maximum number of levels in tree\nmax_depth = [int(x) for x in np.linspace(10, 110, num = 11)]\nmax_depth.append(None)\n# Minimum number of samples required to split a node\nmin_samples_split = [2, 5, 10]\n# Minimum number of samples required at each leaf node\nmin_samples_leaf = [1, 2, 4]\n# Method of selecting samples for training each tree\nbootstrap = [True, False]\n# Create the random grid\nrandom_grid = {'n_estimators': n_estimators,\n               'max_features': max_features,\n               'max_depth': max_depth,\n               'min_samples_split': min_samples_split,\n               'min_samples_leaf': min_samples_leaf,\n               'bootstrap': bootstrap}",
      "execution_count": null,
      "outputs": []
    },
    {
      "metadata": {
        "trusted": true
      },
      "cell_type": "code",
      "source": "# Use the random grid to search for best hyperparameters\n# First create the base model to tune\nrf = RandomForestClassifier()\n# Random search of parameters, using 3 fold cross validation, \n# search across 100 different combinations, and use all available cores\nrf_random = RandomizedSearchCV(estimator = rf, param_distributions = random_grid, n_iter = 100, cv = 3, verbose=2, random_state=42, n_jobs = -1)\n# Fit the random search model\nrf_random.fit(X_train, y_train)",
      "execution_count": null,
      "outputs": []
    },
    {
      "metadata": {
        "trusted": true
      },
      "cell_type": "code",
      "source": "#rf_random.best_params_\n#{'bootstrap': True,\n# 'max_depth': None,\n# 'max_features': 'auto',\n# 'min_samples_leaf': 2,\n# 'min_samples_split': 10,\n# 'n_estimators': 157}",
      "execution_count": null,
      "outputs": []
    },
    {
      "metadata": {
        "trusted": true
      },
      "cell_type": "code",
      "source": "X_train, X_test, y_train, y_test = train_test_split(X, y, test_size = 0.20, random_state = 42)",
      "execution_count": null,
      "outputs": []
    },
    {
      "metadata": {
        "trusted": true
      },
      "cell_type": "code",
      "source": "Random = RandomForestClassifier(n_estimators=157, criterion='gini', max_depth=None, min_samples_split=10,\n                               min_samples_leaf=2, min_weight_fraction_leaf=0.0, max_features='auto',\n                               max_leaf_nodes=None, bootstrap=True, oob_score=False, n_jobs=1, \n                               random_state=None, verbose=0)\n\nRandom.fit(X_train, y_train)",
      "execution_count": null,
      "outputs": []
    },
    {
      "metadata": {
        "trusted": true
      },
      "cell_type": "code",
      "source": "# Predicting the Test set results\ny_pred = Random.predict(X_test)\n\n# Making the Confusion Matrix \ncm = confusion_matrix(y_test, y_pred)\nnp.set_printoptions(precision=2)",
      "execution_count": null,
      "outputs": []
    },
    {
      "metadata": {
        "trusted": true
      },
      "cell_type": "code",
      "source": "cm",
      "execution_count": null,
      "outputs": []
    },
    {
      "metadata": {
        "trusted": true
      },
      "cell_type": "code",
      "source": "#Let's see how our model performed\nprint(classification_report(y_test, y_pred))",
      "execution_count": null,
      "outputs": []
    },
    {
      "metadata": {
        "trusted": true
      },
      "cell_type": "code",
      "source": "test_labels=Random.predict_proba(np.array(X_test.values))[:,1]\nroc_auc_score(y_test,test_labels , average='macro', sample_weight=None)",
      "execution_count": null,
      "outputs": []
    },
    {
      "metadata": {
        "trusted": true
      },
      "cell_type": "code",
      "source": "model = LogisticRegression()",
      "execution_count": null,
      "outputs": []
    },
    {
      "metadata": {
        "trusted": true
      },
      "cell_type": "code",
      "source": "model.fit(X_train,y_train) ",
      "execution_count": null,
      "outputs": []
    },
    {
      "metadata": {
        "trusted": true
      },
      "cell_type": "code",
      "source": "from sklearn.linear_model import LogisticRegression\nLogistic = LogisticRegression(penalty='l1', dual=False, tol=0.0001, C=1.0, fit_intercept=True,\n                            intercept_scaling=1, class_weight=None, \n                            random_state=None, solver='liblinear', max_iter=100,\n                            multi_class='ovr', verbose=2)\nLogistic.fit(X_train, y_train)\n",
      "execution_count": null,
      "outputs": []
    }
  ],
  "metadata": {
    "kernelspec": {
      "name": "python36",
      "display_name": "Python 3.6",
      "language": "python"
    },
    "language_info": {
      "mimetype": "text/x-python",
      "nbconvert_exporter": "python",
      "name": "python",
      "pygments_lexer": "ipython3",
      "version": "3.6.6",
      "file_extension": ".py",
      "codemirror_mode": {
        "version": 3,
        "name": "ipython"
      }
    }
  },
  "nbformat": 4,
  "nbformat_minor": 2
}