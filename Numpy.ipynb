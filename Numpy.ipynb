{
  "cells": [
    {
      "metadata": {},
      "cell_type": "markdown",
      "source": "<p style=\"font-family: Arial; font-size:3.75em;color:purple; font-style:bold\"><br>\nIntroduction to numpy:\n</p><br>\n\n<p style=\"font-family: Arial; font-size:1.25em;color:#2462C0; font-style:bold\"><br>\nPackage for scientific computing with Python\n</p><br>\n\nNumerical Python, or \"Numpy\" for short, is a foundational package on which many of the most common data science packages are built.  Numpy provides us with high performance multi-dimensional arrays which we can use as vectors or matrices.  \n\nThe key features of numpy are:\n\n- ndarrays: n-dimensional arrays of the same data type which are fast and space-efficient.  There are a number of built-in methods for ndarrays which allow for rapid processing of data without using loops (e.g., compute the mean).\n- Broadcasting: a useful tool which defines implicit behavior between multi-dimensional arrays of different sizes.\n- Vectorization: enables numeric operations on ndarrays.\n\n<b>Additional Recommended Resources:</b><br>\n<a href=\"https://docs.scipy.org/doc/numpy/reference/\">Numpy Documentation</a><br>\n\n\n"
    },
    {
      "metadata": {},
      "cell_type": "markdown",
      "source": "<p style=\"font-family: Arial; font-size:2.75em;color:purple; font-style:bold\"><br>\n\nGetting started with ndarray<br><br></p>\n\n**ndarrays** are time and space-efficient multidimensional arrays at the core of numpy.  Like the data structures in Week 2, let's get started by creating ndarrays using the numpy package."
    },
    {
      "metadata": {},
      "cell_type": "markdown",
      "source": "<p style=\"font-family: Arial; font-size:1.75em;color:#2462C0; font-style:bold\"><br>\n\nHow to create Rank 1 numpy arrays:\n</p>"
    },
    {
      "metadata": {},
      "cell_type": "markdown",
      "source": "### Installing numpy package through pip and conda"
    },
    {
      "metadata": {
        "trusted": false
      },
      "cell_type": "code",
      "source": "! pip install numpy",
      "execution_count": null,
      "outputs": []
    },
    {
      "metadata": {
        "trusted": false
      },
      "cell_type": "code",
      "source": "! conda install numpy -y",
      "execution_count": 1,
      "outputs": [
        {
          "name": "stdout",
          "output_type": "stream",
          "text": "Fetching package metadata .............\nSolving package specifications: .\n\nPackage plan for installation in environment /home/nbuser/anaconda3_420:\n\nThe following NEW packages will be INSTALLED:\n\n    mkl_fft:    1.0.4-py35h4414c95_1 \n    mkl_random: 1.0.1-py35h4414c95_1 \n    readline:   7.0-ha6073c6_4       \n\nThe following packages will be UPDATED:\n\n    conda:      4.3.31-py35_0         --> 4.5.11-py35_0        \n    conda-env:  2.6.0-h36134e3_1      --> 2.6.0-1              \n    libgcc-ng:  7.2.0-h7cc24e2_2      --> 8.2.0-hdf63c60_1     \n    numpy:      1.11.3-py35h1b885b7_9 --> 1.15.2-py35h1d66e8a_0\n    numpy-base: 1.11.3-py35h3dfced4_9 --> 1.15.2-py35h81de0dd_0\n    pycosat:    0.6.1-py35_1          --> 0.6.3-py35h14c3975_0 \n\nProceed ([y]/n)? ^C\n"
        }
      ]
    },
    {
      "metadata": {
        "trusted": true
      },
      "cell_type": "code",
      "source": "import numpy as np",
      "execution_count": 1,
      "outputs": []
    },
    {
      "metadata": {},
      "cell_type": "markdown",
      "source": "## Creating 1-D array"
    },
    {
      "metadata": {
        "trusted": true
      },
      "cell_type": "code",
      "source": "l = [1,2,3,4,5]\narr = np.array(l)\nprint(arr)\ntype(arr)",
      "execution_count": 2,
      "outputs": [
        {
          "output_type": "stream",
          "text": "[1 2 3 4 5]\n",
          "name": "stdout"
        },
        {
          "output_type": "execute_result",
          "execution_count": 2,
          "data": {
            "text/plain": "numpy.ndarray"
          },
          "metadata": {}
        }
      ]
    },
    {
      "metadata": {
        "trusted": true
      },
      "cell_type": "code",
      "source": "# test the shape of the array we just created, it should have just one dimension (Rank 1)\nprint(arr.shape)",
      "execution_count": 3,
      "outputs": [
        {
          "output_type": "stream",
          "text": "(5,)\n",
          "name": "stdout"
        }
      ]
    },
    {
      "metadata": {
        "trusted": true
      },
      "cell_type": "code",
      "source": "# because this is a 1-rank array, we need only one index to accesss each element\nprint(arr[0], arr[1], arr[2]) ",
      "execution_count": 4,
      "outputs": [
        {
          "output_type": "stream",
          "text": "1 2 3\n",
          "name": "stdout"
        }
      ]
    },
    {
      "metadata": {
        "trusted": true
      },
      "cell_type": "code",
      "source": "arr[0] = 8           # ndarrays are mutable, here we change an element of the array\nprint(arr)",
      "execution_count": 5,
      "outputs": [
        {
          "output_type": "stream",
          "text": "[8 2 3 4 5]\n",
          "name": "stdout"
        }
      ]
    },
    {
      "metadata": {
        "trusted": true
      },
      "cell_type": "code",
      "source": "arr1 = np.array([1,2.0,'c'])  # np.arrays are homogeneous in nature \nprint(arr1) ",
      "execution_count": 6,
      "outputs": [
        {
          "output_type": "stream",
          "text": "['1' '2.0' 'c']\n",
          "name": "stdout"
        }
      ]
    },
    {
      "metadata": {},
      "cell_type": "markdown",
      "source": "<p style=\"font-family: Arial; font-size:1.75em;color:#2462C0; font-style:bold\"><br>\n\nHow to create a Rank 2 numpy array:</p>\n\nA rank 2 **ndarray** is one with two dimensions.  Notice the format below of [ [row] , [row] ].  2 dimensional arrays are great for representing matrices which are often useful in data science."
    },
    {
      "metadata": {
        "trusted": true
      },
      "cell_type": "code",
      "source": "arr_twod = np.array([[11,12,13],[21,22,23]])   # Create a rank 2 array\n\nprint(arr_twod)  # print the array\n\nprint(\"The shape is 2 rows, 3 columns: \", arr_twod.shape)  # rows x columns                   \n\nprint(\"Accessing elements [0,0], [0,1], and [1,0] of the ndarray: \", arr_twod[0, 0], \", \",arr_twod[0, 1],\", \", arr_twod[1, 0])",
      "execution_count": 7,
      "outputs": [
        {
          "output_type": "stream",
          "text": "[[11 12 13]\n [21 22 23]]\nThe shape is 2 rows, 3 columns:  (2, 3)\nAccessing elements [0,0], [0,1], and [1,0] of the ndarray:  11 ,  12 ,  21\n",
          "name": "stdout"
        }
      ]
    },
    {
      "metadata": {
        "trusted": true
      },
      "cell_type": "code",
      "source": "# create an array of random floats between 0 and 1\n\n#np.random.seed(1)\n#ex5 = np.random.rand(3,3)  # Random numbers from a uniform distribution between 0 & 1\n#print(ex5)\n#plt.hist(ex5)\n\n#a1 = np.random.uniform(1,10,(2,2))  # Random numbers from a uniform distribution between 0 & 1\n#print(a1)\n\n#ex6 = np.random.randn(3,3) # Random numbers from a normal distribution \n#print(ex6)\n#plt.hist(ex6)\n\n#a2 = np.random.normal(0,2,(2,2))  # Random numbers from a normal distribution between 0 & 2\n#print(a2)\n\n#ex7 = np.random.randint(1,100,10)  # generate random integers numbers in the given range\n#print(ex7)\n\nex8 = np.random.randint(1,100,(3,3)) # generate random integers numbers in the given range for specified shape\nprint(ex8)\n",
      "execution_count": 14,
      "outputs": [
        {
          "output_type": "stream",
          "text": "[[35 11 24]\n [16 88 26]\n [72 93 75]]\n",
          "name": "stdout"
        }
      ]
    },
    {
      "metadata": {},
      "cell_type": "markdown",
      "source": "### Exercise 1 : Genearte a list of 20 random samples for a dice throw "
    },
    {
      "metadata": {
        "trusted": true
      },
      "cell_type": "code",
      "source": "dice_samples = np.random.randint(1,7,20)\ndice_samples",
      "execution_count": 15,
      "outputs": [
        {
          "output_type": "execute_result",
          "execution_count": 15,
          "data": {
            "text/plain": "array([1, 1, 2, 2, 6, 4, 1, 1, 6, 6, 5, 6, 3, 5, 4, 6, 4, 6, 1, 4])"
          },
          "metadata": {}
        }
      ]
    },
    {
      "metadata": {},
      "cell_type": "markdown",
      "source": "# Basics of NumPy Arrays\n\n## * Attributes of arrays\n## * Indexing of arrays\n## * Slicing of arrays\n## * Reshaping of arrays\n"
    },
    {
      "metadata": {},
      "cell_type": "markdown",
      "source": "# 1. Attributes of Arrays: \n### Determining the size, shape, data type and dimension of array"
    },
    {
      "metadata": {
        "trusted": true
      },
      "cell_type": "code",
      "source": "x1 = np.random.randint(10, size=6)\nx2 = np.random.randint(10, size=(3,4))\nx3 = np.random.randint(10, size=(3,4,5))\nprint('X1 array is : ' ,x1)\nprint('**********')\nprint('X2 array is : ', x2)\nprint('**********')\nprint('X3 array is : ')\nprint(x3)",
      "execution_count": 16,
      "outputs": [
        {
          "output_type": "stream",
          "text": "X1 array is :  [4 4 7 7 4 9]\n**********\nX2 array is :  [[0 2 0 7]\n [1 7 9 8]\n [4 0 1 9]]\n**********\nX3 array is : \n[[[8 2 3 1 2]\n  [7 2 6 0 9]\n  [2 6 6 2 7]\n  [7 0 6 5 1]]\n\n [[4 6 0 6 5]\n  [1 2 1 5 4]\n  [0 7 8 9 5]\n  [7 0 9 3 9]]\n\n [[1 4 4 6 8]\n  [8 9 2 7 5]\n  [5 4 5 8 5]\n  [8 1 1 8 7]]]\n",
          "name": "stdout"
        }
      ]
    },
    {
      "metadata": {
        "trusted": true
      },
      "cell_type": "code",
      "source": "print(\"dimension of x1 : \", x1.ndim)\nprint(\"Shape of x1 : \", x1.shape)\nprint(\"size of x1 : \", x1.size)\nprint(\"data type of x1 : \", x1.dtype)",
      "execution_count": 17,
      "outputs": [
        {
          "output_type": "stream",
          "text": "dimension of x1 :  1\nShape of x1 :  (6,)\nsize of x1 :  6\ndata type of x1 :  int64\n",
          "name": "stdout"
        }
      ]
    },
    {
      "metadata": {
        "trusted": true
      },
      "cell_type": "code",
      "source": "print(\"dimension of x2 : \", x2.ndim)\nprint(\"Shape of x2 : \", x2.shape)\nprint(\"size of x2 : \", x2.size)\nprint(\"data type of x2 : \", x2.dtype)",
      "execution_count": 11,
      "outputs": [
        {
          "output_type": "stream",
          "text": "dimension of x2 :  2\nShape of x2 :  (3, 4)\nsize of x2 :  12\ndata type of x2 :  int64\n",
          "name": "stdout"
        }
      ]
    },
    {
      "metadata": {
        "trusted": true
      },
      "cell_type": "code",
      "source": "print(\"dimension of x3 : \", x3.ndim)\nprint(\"Shape of x3 : \", x3.shape)\nprint(\"size of x3 : \", x3.size)\nprint(\"data type of x3 : \", x3.dtype)",
      "execution_count": 18,
      "outputs": [
        {
          "output_type": "stream",
          "text": "dimension of x3 :  3\nShape of x3 :  (3, 4, 5)\nsize of x3 :  60\ndata type of x3 :  int64\n",
          "name": "stdout"
        }
      ]
    },
    {
      "metadata": {},
      "cell_type": "markdown",
      "source": "<p style=\"font-family: Arial; font-size:2.75em;color:purple; font-style:bold\"><br>\n\nArray Indexing\n<br><br></p>"
    },
    {
      "metadata": {
        "trusted": true
      },
      "cell_type": "code",
      "source": "# Rank 2 array of shape (3, 4)\nP = np.array([[11,12,13,14], [21,22,23,24], [31,32,33,34]], dtype='int32')\nprint(P)\nP.shape",
      "execution_count": 19,
      "outputs": [
        {
          "output_type": "stream",
          "text": "[[11 12 13 14]\n [21 22 23 24]\n [31 32 33 34]]\n",
          "name": "stdout"
        },
        {
          "output_type": "execute_result",
          "execution_count": 19,
          "data": {
            "text/plain": "(3, 4)"
          },
          "metadata": {}
        }
      ]
    },
    {
      "metadata": {},
      "cell_type": "markdown",
      "source": "<p style=\"font-family: Arial; font-size:1.75em;color:#2462C0; font-style:bold\"><br>\nNormal indexing:\n</p>\n\nWe can use rows and cols index values to retrieve any element. "
    },
    {
      "metadata": {
        "trusted": true
      },
      "cell_type": "code",
      "source": "P[2,2]",
      "execution_count": 20,
      "outputs": [
        {
          "output_type": "execute_result",
          "execution_count": 20,
          "data": {
            "text/plain": "33"
          },
          "metadata": {}
        }
      ]
    },
    {
      "metadata": {
        "trusted": true
      },
      "cell_type": "code",
      "source": "P[2,2] = 50  # Normal indexing fetching an element present at the location 2,2",
      "execution_count": 21,
      "outputs": []
    },
    {
      "metadata": {
        "trusted": true
      },
      "cell_type": "code",
      "source": "P",
      "execution_count": 22,
      "outputs": [
        {
          "output_type": "execute_result",
          "execution_count": 22,
          "data": {
            "text/plain": "array([[11, 12, 13, 14],\n       [21, 22, 23, 24],\n       [31, 32, 50, 34]], dtype=int32)"
          },
          "metadata": {}
        }
      ]
    },
    {
      "metadata": {},
      "cell_type": "markdown",
      "source": "<p style=\"font-family: Arial; font-size:1.75em;color:#2462C0; font-style:bold\"><br>\nSlice indexing:\n</p>\n\nSimilar to the use of slice indexing with lists and strings, we can use slice indexing to pull out sub-regions of ndarrays."
    },
    {
      "metadata": {},
      "cell_type": "markdown",
      "source": "Use array slicing to get a subarray consisting of the first 2 rows x 2 columns."
    },
    {
      "metadata": {
        "trusted": true
      },
      "cell_type": "code",
      "source": "p_slice = P[0:2,0:2]\nprint(p_slice)\nprint(p_slice.shape)",
      "execution_count": 23,
      "outputs": [
        {
          "output_type": "stream",
          "text": "[[11 12]\n [21 22]]\n(2, 2)\n",
          "name": "stdout"
        }
      ]
    },
    {
      "metadata": {
        "trusted": true
      },
      "cell_type": "code",
      "source": "print(p_slice[0,0],p_slice[1,1])",
      "execution_count": 24,
      "outputs": [
        {
          "output_type": "stream",
          "text": "11 22\n",
          "name": "stdout"
        }
      ]
    },
    {
      "metadata": {
        "trusted": true
      },
      "cell_type": "code",
      "source": "p_slice[0,1] = 60\np_slice",
      "execution_count": 25,
      "outputs": [
        {
          "output_type": "execute_result",
          "execution_count": 25,
          "data": {
            "text/plain": "array([[11, 60],\n       [21, 22]], dtype=int32)"
          },
          "metadata": {}
        }
      ]
    },
    {
      "metadata": {
        "trusted": true
      },
      "cell_type": "code",
      "source": "P",
      "execution_count": 27,
      "outputs": [
        {
          "output_type": "execute_result",
          "execution_count": 27,
          "data": {
            "text/plain": "array([[11, 60, 13, 14],\n       [21, 22, 23, 24],\n       [31, 32, 50, 34]], dtype=int32)"
          },
          "metadata": {}
        }
      ]
    },
    {
      "metadata": {
        "scrolled": true,
        "trusted": true
      },
      "cell_type": "code",
      "source": "a_slice = P[:2, 1:3].copy()   # Creates a explicit copy\na_slice[0,0]=1000\nprint(P)\nprint(a_slice)",
      "execution_count": 28,
      "outputs": [
        {
          "output_type": "stream",
          "text": "[[11 60 13 14]\n [21 22 23 24]\n [31 32 50 34]]\n[[1000   13]\n [  22   23]]\n",
          "name": "stdout"
        }
      ]
    },
    {
      "metadata": {},
      "cell_type": "markdown",
      "source": "<p style=\"font-family: Arial; font-size:1.75em;color:#2462C0; font-style:bold\"><br>\n\nUse both normal indexing & slice indexing\n</p>\n\nWe can use combinations of integer scalar and slice indexing to create different shaped matrices."
    },
    {
      "metadata": {
        "trusted": true
      },
      "cell_type": "code",
      "source": "# Create a Rank 2 array of shape (3, 4)\nan_array = np.array([[11,12,13,14], [21,22,23,24], [31,32,33,34]])\nprint(an_array)",
      "execution_count": 29,
      "outputs": [
        {
          "output_type": "stream",
          "text": "[[11 12 13 14]\n [21 22 23 24]\n [31 32 33 34]]\n",
          "name": "stdout"
        }
      ]
    },
    {
      "metadata": {
        "trusted": true
      },
      "cell_type": "code",
      "source": "# Using both integer scalar & slicing generates an array of lower rank\nrow_rank1 = an_array[1,:]    # Rank 1 view \nprint(row_rank1, row_rank1.shape)  # notice only a single []",
      "execution_count": 30,
      "outputs": [
        {
          "output_type": "stream",
          "text": "[21 22 23 24] (4,)\n",
          "name": "stdout"
        }
      ]
    },
    {
      "metadata": {
        "trusted": true
      },
      "cell_type": "code",
      "source": "# Slicing alone: generates an array of the same rank as the an_array\nrow_rank2 = an_array[1:2, :]  # Rank 2 view \nprint(row_rank2, row_rank2.shape)   # Notice the [[ ]]",
      "execution_count": 32,
      "outputs": [
        {
          "output_type": "stream",
          "text": "[[21 22 23 24]] (1, 4)\n",
          "name": "stdout"
        }
      ]
    },
    {
      "metadata": {
        "trusted": true
      },
      "cell_type": "code",
      "source": "#We can do the same thing for columns of an array:\n\nprint()\ncol_rank1 = an_array[:, 1]\ncol_rank2 = an_array[:, 1:2]\n\nprint(col_rank1, col_rank1.shape)  # Rank 1\nprint()\nprint(col_rank2, col_rank2.shape)  # Rank 2\n",
      "execution_count": 33,
      "outputs": [
        {
          "output_type": "stream",
          "text": "\n[12 22 32] (3,)\n\n[[12]\n [22]\n [32]] (3, 1)\n",
          "name": "stdout"
        }
      ]
    },
    {
      "metadata": {},
      "cell_type": "markdown",
      "source": "<p style=\"font-family: Arial; font-size:1.75em;color:#2462C0; font-style:bold\"><br>\nInteger indexing:\n</p>\n\nThis mechanism helps in selecting any arbitrary item in an array based on its N-dimensional index.\nEach integer array represents the number of indexes into that dimension. \nIt is like simple indexing but we pass arrays of indices in place of single scalars. \nThis allows us to very quickly access and modify complicated subsets of an array's values. \n"
    },
    {
      "metadata": {
        "trusted": true
      },
      "cell_type": "code",
      "source": "x = np.array([[1,2,3], [4,5,6], [7,8,9]]) \nx",
      "execution_count": 34,
      "outputs": [
        {
          "output_type": "execute_result",
          "execution_count": 34,
          "data": {
            "text/plain": "array([[1, 2, 3],\n       [4, 5, 6],\n       [7, 8, 9]])"
          },
          "metadata": {}
        }
      ]
    },
    {
      "metadata": {
        "trusted": true
      },
      "cell_type": "code",
      "source": "y = x[[0,1,2], [0,1,0]]         # selects the elements at (0,0), (1,1) and (2,0) \nprint(y)",
      "execution_count": 35,
      "outputs": [
        {
          "output_type": "stream",
          "text": "[1 5 7]\n",
          "name": "stdout"
        }
      ]
    },
    {
      "metadata": {
        "trusted": true
      },
      "cell_type": "code",
      "source": "y[1] = 10",
      "execution_count": 36,
      "outputs": []
    },
    {
      "metadata": {
        "trusted": true
      },
      "cell_type": "code",
      "source": "y",
      "execution_count": 38,
      "outputs": [
        {
          "output_type": "execute_result",
          "execution_count": 38,
          "data": {
            "text/plain": "array([ 1, 10,  7])"
          },
          "metadata": {}
        }
      ]
    },
    {
      "metadata": {
        "trusted": true
      },
      "cell_type": "code",
      "source": "x",
      "execution_count": 39,
      "outputs": [
        {
          "output_type": "execute_result",
          "execution_count": 39,
          "data": {
            "text/plain": "array([[1, 2, 3],\n       [4, 5, 6],\n       [7, 8, 9]])"
          },
          "metadata": {}
        }
      ]
    },
    {
      "metadata": {},
      "cell_type": "markdown",
      "source": "### Exercise 2: Create a 3x3 array and write statements to retrieve its corner elements. "
    },
    {
      "metadata": {
        "trusted": true
      },
      "cell_type": "code",
      "source": "x = np.array([[1,2,3], [4,5,6], [7,8,9]]) \nx",
      "execution_count": 40,
      "outputs": [
        {
          "output_type": "execute_result",
          "execution_count": 40,
          "data": {
            "text/plain": "array([[1, 2, 3],\n       [4, 5, 6],\n       [7, 8, 9]])"
          },
          "metadata": {}
        }
      ]
    },
    {
      "metadata": {
        "trusted": true
      },
      "cell_type": "code",
      "source": "r = [0,0,2,2]\nc = [0,2,0,2]\na = x[r,c]\nprint(a)",
      "execution_count": 41,
      "outputs": [
        {
          "output_type": "stream",
          "text": "[1 3 7 9]\n",
          "name": "stdout"
        }
      ]
    },
    {
      "metadata": {
        "trusted": true
      },
      "cell_type": "code",
      "source": "rows = np.array([[0,0],[2,2]])\nprint(rows)\nprint('-----------')\ncols = np.array([[0,2],[0,2]]) \nprint(cols)\nprint('-----------')\ny = x[rows,cols] \nprint(y)                # prints the corner elements of the array. (0,0), (3,0) (0,2) and (3,2)",
      "execution_count": 42,
      "outputs": [
        {
          "output_type": "stream",
          "text": "[[0 0]\n [2 2]]\n-----------\n[[0 2]\n [0 2]]\n-----------\n[[1 3]\n [7 9]]\n",
          "name": "stdout"
        }
      ]
    },
    {
      "metadata": {},
      "cell_type": "markdown",
      "source": "<p style=\"font-family: Arial; font-size:2.75em;color:purple; font-style:bold\"><br>\nBoolean Indexing\n\n<br><br></p>\n<p style=\"font-family: Arial; font-size:1.75em;color:#2462C0; font-style:bold\"><br>\n\nArray Indexing for changing elements:\n</p>"
    },
    {
      "metadata": {
        "trusted": true
      },
      "cell_type": "code",
      "source": "# create a 3x2 array\nan_array = np.array([[11,12], [21, 22], [31, 32]])\nprint(an_array)",
      "execution_count": 43,
      "outputs": [
        {
          "output_type": "stream",
          "text": "[[11 12]\n [21 22]\n [31 32]]\n",
          "name": "stdout"
        }
      ]
    },
    {
      "metadata": {
        "trusted": true
      },
      "cell_type": "code",
      "source": "# create a filter which will be boolean values for whether each element meets this condition\nfilter1 = an_array < 15\nfilter1",
      "execution_count": 44,
      "outputs": [
        {
          "output_type": "execute_result",
          "execution_count": 44,
          "data": {
            "text/plain": "array([[ True,  True],\n       [False, False],\n       [False, False]])"
          },
          "metadata": {}
        }
      ]
    },
    {
      "metadata": {},
      "cell_type": "markdown",
      "source": "Notice that the filter is a same size ndarray as an_array which is filled with True for each element whose corresponding element in an_array which is greater than 15 and False for those elements whose value is less than 15."
    },
    {
      "metadata": {
        "trusted": true
      },
      "cell_type": "code",
      "source": "# we can now select just those elements which meet that criteria\nresult=an_array[filter1]\nresult",
      "execution_count": 46,
      "outputs": [
        {
          "output_type": "execute_result",
          "execution_count": 46,
          "data": {
            "text/plain": "array([11, 12])"
          },
          "metadata": {}
        }
      ]
    },
    {
      "metadata": {
        "trusted": true
      },
      "cell_type": "code",
      "source": "result[0]",
      "execution_count": 47,
      "outputs": [
        {
          "output_type": "execute_result",
          "execution_count": 47,
          "data": {
            "text/plain": "11"
          },
          "metadata": {}
        }
      ]
    },
    {
      "metadata": {
        "trusted": true
      },
      "cell_type": "code",
      "source": "result[0] = 100",
      "execution_count": 48,
      "outputs": []
    },
    {
      "metadata": {
        "trusted": true
      },
      "cell_type": "code",
      "source": "result",
      "execution_count": 49,
      "outputs": [
        {
          "output_type": "execute_result",
          "execution_count": 49,
          "data": {
            "text/plain": "array([100,  12])"
          },
          "metadata": {}
        }
      ]
    },
    {
      "metadata": {
        "trusted": true
      },
      "cell_type": "code",
      "source": "an_array",
      "execution_count": 50,
      "outputs": [
        {
          "output_type": "execute_result",
          "execution_count": 50,
          "data": {
            "text/plain": "array([[11, 12],\n       [21, 22],\n       [31, 32]])"
          },
          "metadata": {}
        }
      ]
    },
    {
      "metadata": {
        "trusted": true
      },
      "cell_type": "code",
      "source": "# Filter values which are more than 20 and less than 30\nres = (an_array>20) & (an_array<30)\nprint (res)\na_slice = an_array[res]\nprint(a_slice)\n",
      "execution_count": 51,
      "outputs": [
        {
          "output_type": "stream",
          "text": "[[False False]\n [ True  True]\n [False False]]\n[21 22]\n",
          "name": "stdout"
        }
      ]
    },
    {
      "metadata": {},
      "cell_type": "markdown",
      "source": "<p style=\"font-family: Arial; font-size:2.75em;color:purple; font-style:bold\">\nArray Operations\n<br>"
    },
    {
      "metadata": {},
      "cell_type": "markdown",
      "source": "<p style=\"font-family: Arial; font-size:1.75em;color:#2462C0; font-style:bold\">\nArithmetic Array Operations:\n\n</p>"
    },
    {
      "metadata": {
        "trusted": true
      },
      "cell_type": "code",
      "source": "import numpy as np",
      "execution_count": 52,
      "outputs": []
    },
    {
      "metadata": {
        "trusted": true
      },
      "cell_type": "code",
      "source": "x = np.array([[1,2],[3,4]], dtype=np.int)\ny = np.array([[1.0,2.0],[3.0,4.0]], dtype=np.float64)\nprint(x)\nprint()\nprint(y)\n",
      "execution_count": 53,
      "outputs": [
        {
          "output_type": "stream",
          "text": "[[1 2]\n [3 4]]\n\n[[1. 2.]\n [3. 4.]]\n",
          "name": "stdout"
        }
      ]
    },
    {
      "metadata": {
        "trusted": true
      },
      "cell_type": "code",
      "source": "print('Addition : ')\nprint(x+y)\nprint('Subtraction : ')\nprint(x-y)\nprint('Multiplication : ')\nprint(x*y)\nprint('Division : ')\nprint(x/y)",
      "execution_count": 54,
      "outputs": [
        {
          "output_type": "stream",
          "text": "Addition : \n[[2. 4.]\n [6. 8.]]\nSubtraction : \n[[0. 0.]\n [0. 0.]]\nMultiplication : \n[[ 1.  4.]\n [ 9. 16.]]\nDivision : \n[[1. 1.]\n [1. 1.]]\n",
          "name": "stdout"
        }
      ]
    },
    {
      "metadata": {
        "trusted": true
      },
      "cell_type": "code",
      "source": "print(np.add(x,y))           # vectorized methods \nprint(np.subtract(x,y))\nprint(np.multiply(x,y))\nprint(np.divide(x,y))",
      "execution_count": 55,
      "outputs": [
        {
          "output_type": "stream",
          "text": "[[2. 4.]\n [6. 8.]]\n[[0. 0.]\n [0. 0.]]\n[[ 1.  4.]\n [ 9. 16.]]\n[[1. 1.]\n [1. 1.]]\n",
          "name": "stdout"
        }
      ]
    },
    {
      "metadata": {},
      "cell_type": "markdown",
      "source": "<p style=\"font-family: Arial; font-size:1.75em;color:#2462C0; font-style:bold\">\nElement-wise Functions: </p>\n\nFor example, let's compare two arrays values to get the maximum of each."
    },
    {
      "metadata": {
        "trusted": true
      },
      "cell_type": "code",
      "source": "# random array\nnp.random.seed(1)\nx = np.random.randint(1,8,5)\nx",
      "execution_count": 56,
      "outputs": [
        {
          "output_type": "execute_result",
          "execution_count": 56,
          "data": {
            "text/plain": "array([6, 4, 5, 1, 2])"
          },
          "metadata": {}
        }
      ]
    },
    {
      "metadata": {
        "trusted": true
      },
      "cell_type": "code",
      "source": "# another random array\nnp.random.seed(2)\ny = np.random.randint(1,8,5)\ny",
      "execution_count": 57,
      "outputs": [
        {
          "output_type": "execute_result",
          "execution_count": 57,
          "data": {
            "text/plain": "array([1, 6, 1, 7, 4])"
          },
          "metadata": {}
        }
      ]
    },
    {
      "metadata": {
        "trusted": true
      },
      "cell_type": "code",
      "source": "# returns element wise maximum between two arrays\nprint(np.maximum(x,y))\nprint(np.minimum(x,y))\nprint(np.equal(x,y))",
      "execution_count": 58,
      "outputs": [
        {
          "output_type": "stream",
          "text": "[6 6 5 7 4]\n[1 4 1 1 2]\n[False False False False False]\n",
          "name": "stdout"
        }
      ]
    },
    {
      "metadata": {},
      "cell_type": "markdown",
      "source": "<p style=\"font-family: Arial; font-size:2.75em;color:purple; font-style:bold\">\nStatistical Methods\n<br>"
    },
    {
      "metadata": {},
      "cell_type": "markdown",
      "source": "<p style=\"font-family: Arial; font-size:1.75em;color:#2462C0; font-style:bold\">\nBasic Statistical Operations:\n</p>"
    },
    {
      "metadata": {
        "scrolled": true,
        "trusted": true
      },
      "cell_type": "code",
      "source": "np.random.seed(1)\n# setup a random 2 x 5 matrix\narr = np.random.randint(1,10,(2,5))\nprint(arr)\n#dir(np.random)\narr.shape",
      "execution_count": 59,
      "outputs": [
        {
          "output_type": "stream",
          "text": "[[6 9 6 1 1]\n [2 8 7 3 5]]\n",
          "name": "stdout"
        },
        {
          "output_type": "execute_result",
          "execution_count": 59,
          "data": {
            "text/plain": "(2, 5)"
          },
          "metadata": {}
        }
      ]
    },
    {
      "metadata": {
        "trusted": true
      },
      "cell_type": "code",
      "source": "# compute the mean for all elements\nprint(arr.mean())",
      "execution_count": 60,
      "outputs": [
        {
          "output_type": "stream",
          "text": "4.8\n",
          "name": "stdout"
        }
      ]
    },
    {
      "metadata": {
        "trusted": true
      },
      "cell_type": "code",
      "source": "# compute the means by row\nprint(arr.mean(axis = 1))\n",
      "execution_count": 61,
      "outputs": [
        {
          "output_type": "stream",
          "text": "[4.  8.5 6.5 2.  3. ]\n",
          "name": "stdout"
        }
      ]
    },
    {
      "metadata": {
        "trusted": true
      },
      "cell_type": "code",
      "source": "# compute the means by column\nprint(arr.mean(axis = 0))",
      "execution_count": 62,
      "outputs": [
        {
          "output_type": "stream",
          "text": "[4.  8.5 6.5 2.  3. ]\n",
          "name": "stdout"
        }
      ]
    },
    {
      "metadata": {
        "trusted": true
      },
      "cell_type": "code",
      "source": "# sum all the elements\nprint(arr.sum())   # sum of all elements\nprint('columns sum is : ', arr.sum(axis=0))    # colsum\nprint('row sum is : ', arr.sum(axis=1))    # row sum",
      "execution_count": 63,
      "outputs": [
        {
          "output_type": "stream",
          "text": "48\ncolumns sum is :  [ 8 17 13  4  6]\nrow sum is :  [23 25]\n",
          "name": "stdout"
        }
      ]
    },
    {
      "metadata": {},
      "cell_type": "markdown",
      "source": "<p style=\"font-family: Arial; font-size:1.75em;color:#2462C0; font-style:bold\">\nFinding Unique elements:\n</p>"
    },
    {
      "metadata": {
        "trusted": true
      },
      "cell_type": "code",
      "source": "array = np.array([1,2,1,4,2,1,4,2])\nprint(np.unique(array, return_counts=True))",
      "execution_count": 64,
      "outputs": [
        {
          "output_type": "stream",
          "text": "(array([1, 2, 4]), array([3, 3, 2]))\n",
          "name": "stdout"
        }
      ]
    },
    {
      "metadata": {},
      "cell_type": "markdown",
      "source": "<p style=\"font-family: Arial; font-size:2.75em;color:purple; font-style:bold\">\nBroadcasting:\n<br>"
    },
    {
      "metadata": {},
      "cell_type": "markdown",
      "source": "Introduction to broadcasting. <br>\nFor more details, please see: <br>\nhttps://docs.scipy.org/doc/numpy-1.10.1/user/basics.broadcasting.html\n\nBroadcasting in NumPy follows a strict set of rules to determine the interaction between the two arrays:\n\nRule 1: If the two arrays differ in their number of dimensions, the shape of the one with fewer dimensions is padded with ones on its leading (left) side. <br>\n\nRule 2: If the shape of the two arrays does not match in any dimension, the array with shape equal to 1 in that dimension is stretched to match the other shape. <br>\n\nRule 3: If in any dimension the sizes disagree and neither is equal to 1, an error is raised."
    },
    {
      "metadata": {
        "trusted": true
      },
      "cell_type": "code",
      "source": "a1 = np.array([[1,2,3],[4,5,6]])\nprint('shape of a1 : ',a1.shape)\nprint('dimension of a1 : ', a1.ndim)\nprint('array a1:',a1)",
      "execution_count": 65,
      "outputs": [
        {
          "output_type": "stream",
          "text": "shape of a1 :  (2, 3)\ndimension of a1 :  2\narray a1: [[1 2 3]\n [4 5 6]]\n",
          "name": "stdout"
        }
      ]
    },
    {
      "metadata": {
        "trusted": true
      },
      "cell_type": "code",
      "source": "a2 = np.array([1,2,1])\nprint('shape of a2:',a2.shape)\nprint('dimension of a2:', a2.ndim)\nprint('array a2:', a2)",
      "execution_count": 66,
      "outputs": [
        {
          "output_type": "stream",
          "text": "shape of a2: (3,)\ndimension of a2: 1\narray a2: [1 2 1]\n",
          "name": "stdout"
        }
      ]
    },
    {
      "metadata": {
        "trusted": true
      },
      "cell_type": "code",
      "source": "a3 = a1+a2\nprint(a3)",
      "execution_count": 67,
      "outputs": [
        {
          "output_type": "stream",
          "text": "[[2 4 4]\n [5 7 7]]\n",
          "name": "stdout"
        }
      ]
    },
    {
      "metadata": {
        "trusted": true
      },
      "cell_type": "code",
      "source": "start = np.zeros((4,3))\nprint(start)",
      "execution_count": 68,
      "outputs": [
        {
          "output_type": "stream",
          "text": "[[0. 0. 0.]\n [0. 0. 0.]\n [0. 0. 0.]\n [0. 0. 0.]]\n",
          "name": "stdout"
        }
      ]
    },
    {
      "metadata": {
        "trusted": true
      },
      "cell_type": "code",
      "source": "add_cols = np.array([[1],[2],[3],[4]])\nadd_cols",
      "execution_count": 69,
      "outputs": [
        {
          "output_type": "execute_result",
          "execution_count": 69,
          "data": {
            "text/plain": "array([[1],\n       [2],\n       [3],\n       [4]])"
          },
          "metadata": {}
        }
      ]
    },
    {
      "metadata": {
        "trusted": true
      },
      "cell_type": "code",
      "source": "start+add_cols",
      "execution_count": 70,
      "outputs": [
        {
          "output_type": "execute_result",
          "execution_count": 70,
          "data": {
            "text/plain": "array([[1., 1., 1.],\n       [2., 2., 2.],\n       [3., 3., 3.],\n       [4., 4., 4.]])"
          },
          "metadata": {}
        }
      ]
    },
    {
      "metadata": {
        "trusted": true
      },
      "cell_type": "code",
      "source": "# this will just broadcast in both dimensions\nadd_scalar = np.array([5])  \nprint(start+add_scalar)",
      "execution_count": 71,
      "outputs": [
        {
          "output_type": "stream",
          "text": "[[5. 5. 5.]\n [5. 5. 5.]\n [5. 5. 5.]\n [5. 5. 5.]]\n",
          "name": "stdout"
        }
      ]
    },
    {
      "metadata": {
        "trusted": true
      },
      "cell_type": "code",
      "source": "arr = np.ones((3,2))\nprint(arr.shape)\nprint(arr)",
      "execution_count": 72,
      "outputs": [
        {
          "output_type": "stream",
          "text": "(3, 2)\n[[1. 1.]\n [1. 1.]\n [1. 1.]]\n",
          "name": "stdout"
        }
      ]
    },
    {
      "metadata": {
        "trusted": true
      },
      "cell_type": "code",
      "source": "arr2 = np.arange(3)\nprint(arr2.shape)\nprint(arr2)",
      "execution_count": 73,
      "outputs": [
        {
          "output_type": "stream",
          "text": "(3,)\n[0 1 2]\n",
          "name": "stdout"
        }
      ]
    },
    {
      "metadata": {
        "trusted": true
      },
      "cell_type": "code",
      "source": "print(arr+arr2)",
      "execution_count": 74,
      "outputs": [
        {
          "output_type": "error",
          "ename": "ValueError",
          "evalue": "operands could not be broadcast together with shapes (3,2) (3,) ",
          "traceback": [
            "\u001b[0;31m---------------------------------------------------------------------------\u001b[0m",
            "\u001b[0;31mValueError\u001b[0m                                Traceback (most recent call last)",
            "\u001b[0;32m<ipython-input-74-ed61b1480d31>\u001b[0m in \u001b[0;36m<module>\u001b[0;34m()\u001b[0m\n\u001b[0;32m----> 1\u001b[0;31m \u001b[0mprint\u001b[0m\u001b[0;34m(\u001b[0m\u001b[0marr\u001b[0m\u001b[0;34m+\u001b[0m\u001b[0marr2\u001b[0m\u001b[0;34m)\u001b[0m\u001b[0;34m\u001b[0m\u001b[0m\n\u001b[0m",
            "\u001b[0;31mValueError\u001b[0m: operands could not be broadcast together with shapes (3,2) (3,) "
          ]
        }
      ]
    },
    {
      "metadata": {},
      "cell_type": "markdown",
      "source": "<p style=\"font-family: Arial; font-size:1.75em;color:#2462C0; font-style:bold\">\nReshaping array:\n</p>"
    },
    {
      "metadata": {
        "trusted": true
      },
      "cell_type": "code",
      "source": "# grab values from 0 through 19 in an array\narr = np.arange(0,20,1)\nprint(arr)",
      "execution_count": 75,
      "outputs": [
        {
          "output_type": "stream",
          "text": "[ 0  1  2  3  4  5  6  7  8  9 10 11 12 13 14 15 16 17 18 19]\n",
          "name": "stdout"
        }
      ]
    },
    {
      "metadata": {
        "trusted": true
      },
      "cell_type": "code",
      "source": "# reshape to be a 4 x 5 matrix\nnew_arr=arr.reshape(4,5)\nnew_arr",
      "execution_count": 76,
      "outputs": [
        {
          "output_type": "execute_result",
          "execution_count": 76,
          "data": {
            "text/plain": "array([[ 0,  1,  2,  3,  4],\n       [ 5,  6,  7,  8,  9],\n       [10, 11, 12, 13, 14],\n       [15, 16, 17, 18, 19]])"
          },
          "metadata": {}
        }
      ]
    },
    {
      "metadata": {
        "trusted": true
      },
      "cell_type": "code",
      "source": "new_arr.flatten()",
      "execution_count": 77,
      "outputs": [
        {
          "output_type": "execute_result",
          "execution_count": 77,
          "data": {
            "text/plain": "array([ 0,  1,  2,  3,  4,  5,  6,  7,  8,  9, 10, 11, 12, 13, 14, 15, 16,\n       17, 18, 19])"
          },
          "metadata": {}
        }
      ]
    },
    {
      "metadata": {},
      "cell_type": "markdown",
      "source": "<p style=\"font-family: Arial; font-size:1.75em;color:#2462C0; font-style:bold\">\nIndexing using where():</p>"
    },
    {
      "metadata": {
        "trusted": true
      },
      "cell_type": "code",
      "source": "x_1 = np.array([1,2,3,4,5])\n\ny_1 = np.array([11,22,33,44,55])\n",
      "execution_count": 78,
      "outputs": []
    },
    {
      "metadata": {
        "trusted": true
      },
      "cell_type": "code",
      "source": "out = np.where(x_1%2!=0,x_1,y_1)\nprint(out)",
      "execution_count": 79,
      "outputs": [
        {
          "output_type": "stream",
          "text": "[ 1 22  3 44  5]\n",
          "name": "stdout"
        }
      ]
    },
    {
      "metadata": {
        "trusted": true
      },
      "cell_type": "code",
      "source": "np.random.seed(1)\nmat = np.random.randint(1,10,25)\nmat.reshape(5,5)",
      "execution_count": 80,
      "outputs": [
        {
          "output_type": "execute_result",
          "execution_count": 80,
          "data": {
            "text/plain": "array([[6, 9, 6, 1, 1],\n       [2, 8, 7, 3, 5],\n       [6, 3, 5, 3, 5],\n       [8, 8, 2, 8, 1],\n       [7, 8, 7, 2, 1]])"
          },
          "metadata": {}
        }
      ]
    },
    {
      "metadata": {
        "trusted": true
      },
      "cell_type": "code",
      "source": "np.where( mat > 5, 1000,-1)",
      "execution_count": 81,
      "outputs": [
        {
          "output_type": "execute_result",
          "execution_count": 81,
          "data": {
            "text/plain": "array([1000, 1000, 1000,   -1,   -1,   -1, 1000, 1000,   -1,   -1, 1000,\n         -1,   -1,   -1,   -1, 1000, 1000,   -1, 1000,   -1, 1000, 1000,\n       1000,   -1,   -1])"
          },
          "metadata": {}
        }
      ]
    },
    {
      "metadata": {},
      "cell_type": "markdown",
      "source": "<p style=\"font-family: Arial; font-size:1.75em;color:#2462C0; font-style:bold\">\n\"any\" or \"all\" conditionals:</p>"
    },
    {
      "metadata": {
        "trusted": true
      },
      "cell_type": "code",
      "source": "arr_bools = np.array([ True, False, True, True, False ])\nb1 = np.array([ True, True, True, True, True ])\nb2 =  np.array([ False, False, False, False, False ])",
      "execution_count": 82,
      "outputs": []
    },
    {
      "metadata": {
        "trusted": true
      },
      "cell_type": "code",
      "source": "print(arr_bools.any())\nprint(b1.any())\nprint(b2.any()) ",
      "execution_count": 83,
      "outputs": [
        {
          "output_type": "stream",
          "text": "True\nTrue\nFalse\n",
          "name": "stdout"
        }
      ]
    },
    {
      "metadata": {
        "scrolled": true,
        "trusted": true
      },
      "cell_type": "code",
      "source": "print(arr_bools.all())\nprint(b1.all())\nprint(b2.all())",
      "execution_count": 84,
      "outputs": [
        {
          "output_type": "stream",
          "text": "False\nTrue\nFalse\n",
          "name": "stdout"
        }
      ]
    },
    {
      "metadata": {},
      "cell_type": "markdown",
      "source": "<p style=\"font-family: Arial; font-size:1.75em;color:#2462C0; font-style:bold\">\nMerging and Spliting data sets:\n</p>"
    },
    {
      "metadata": {
        "trusted": true
      },
      "cell_type": "code",
      "source": "K = np.random.randint(low=2,high=50,size=(2,2))\nprint(K)\n\nprint()\nM = np.random.randint(low=2,high=50,size=(2,2))\nprint(M)",
      "execution_count": 85,
      "outputs": [
        {
          "output_type": "stream",
          "text": "[[19 10]\n [26 15]]\n\n[[49 44]\n [10 32]]\n",
          "name": "stdout"
        }
      ]
    },
    {
      "metadata": {
        "trusted": true
      },
      "cell_type": "code",
      "source": "np.vstack((K,M))",
      "execution_count": 86,
      "outputs": [
        {
          "output_type": "execute_result",
          "execution_count": 86,
          "data": {
            "text/plain": "array([[19, 10],\n       [26, 15],\n       [49, 44],\n       [10, 32]])"
          },
          "metadata": {}
        }
      ]
    },
    {
      "metadata": {
        "trusted": true
      },
      "cell_type": "code",
      "source": "np.hstack((K,M))",
      "execution_count": 87,
      "outputs": [
        {
          "output_type": "execute_result",
          "execution_count": 87,
          "data": {
            "text/plain": "array([[19, 10, 49, 44],\n       [26, 15, 10, 32]])"
          },
          "metadata": {}
        }
      ]
    },
    {
      "metadata": {
        "trusted": true
      },
      "cell_type": "code",
      "source": "np.concatenate([K, M], axis = 0)",
      "execution_count": 88,
      "outputs": [
        {
          "output_type": "execute_result",
          "execution_count": 88,
          "data": {
            "text/plain": "array([[19, 10],\n       [26, 15],\n       [49, 44],\n       [10, 32]])"
          },
          "metadata": {}
        }
      ]
    },
    {
      "metadata": {
        "trusted": true
      },
      "cell_type": "code",
      "source": "np.concatenate([K, M], axis = 1)",
      "execution_count": 89,
      "outputs": [
        {
          "output_type": "execute_result",
          "execution_count": 89,
          "data": {
            "text/plain": "array([[19, 10, 49, 44],\n       [26, 15, 10, 32]])"
          },
          "metadata": {}
        }
      ]
    },
    {
      "metadata": {
        "trusted": true
      },
      "cell_type": "code",
      "source": "A = np.random.randint(1,21,size=(4,4))\nA",
      "execution_count": 90,
      "outputs": [
        {
          "output_type": "execute_result",
          "execution_count": 90,
          "data": {
            "text/plain": "array([[ 8,  4,  7, 18],\n       [ 4,  5, 18, 12],\n       [13, 17, 14, 20],\n       [10, 19, 16,  1]])"
          },
          "metadata": {}
        }
      ]
    },
    {
      "metadata": {
        "trusted": true
      },
      "cell_type": "code",
      "source": "B = np.split(A,4,axis=0)\nB",
      "execution_count": 91,
      "outputs": [
        {
          "output_type": "execute_result",
          "execution_count": 91,
          "data": {
            "text/plain": "[array([[ 8,  4,  7, 18]]),\n array([[ 4,  5, 18, 12]]),\n array([[13, 17, 14, 20]]),\n array([[10, 19, 16,  1]])]"
          },
          "metadata": {}
        }
      ]
    },
    {
      "metadata": {
        "trusted": true
      },
      "cell_type": "code",
      "source": "C = np.hsplit(A,2)\nC",
      "execution_count": 92,
      "outputs": [
        {
          "output_type": "execute_result",
          "execution_count": 92,
          "data": {
            "text/plain": "[array([[ 8,  4],\n        [ 4,  5],\n        [13, 17],\n        [10, 19]]), array([[ 7, 18],\n        [18, 12],\n        [14, 20],\n        [16,  1]])]"
          },
          "metadata": {}
        }
      ]
    },
    {
      "metadata": {
        "trusted": true
      },
      "cell_type": "code",
      "source": "D = np.vsplit(A,2)\nD ",
      "execution_count": 89,
      "outputs": [
        {
          "output_type": "execute_result",
          "execution_count": 89,
          "data": {
            "text/plain": "[array([[ 7, 12, 18, 11],\n        [10,  1,  7, 20]]), array([[ 3, 16, 10,  4],\n        [20, 20,  3, 13]])]"
          },
          "metadata": {}
        }
      ]
    }
  ],
  "metadata": {
    "kernelspec": {
      "name": "python3",
      "display_name": "Python 3",
      "language": "python"
    },
    "language_info": {
      "mimetype": "text/x-python",
      "nbconvert_exporter": "python",
      "name": "python",
      "file_extension": ".py",
      "version": "3.5.4",
      "pygments_lexer": "ipython3",
      "codemirror_mode": {
        "version": 3,
        "name": "ipython"
      }
    }
  },
  "nbformat": 4,
  "nbformat_minor": 2
}