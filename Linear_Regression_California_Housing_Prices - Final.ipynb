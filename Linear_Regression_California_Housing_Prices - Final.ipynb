{
  "cells": [
    {
      "metadata": {},
      "cell_type": "markdown",
      "source": "<p><h2><font color = DarkBlue> Load the Data Set </font></h2></p>"
    },
    {
      "metadata": {
        "trusted": true
      },
      "cell_type": "code",
      "source": "# load the libraries required for data processing\nimport pandas as pd\nimport numpy as np\nimport matplotlib.pyplot as plt",
      "execution_count": 1,
      "outputs": []
    },
    {
      "metadata": {
        "trusted": true
      },
      "cell_type": "code",
      "source": "#HTrain = pd.read_csv(\"housing_train.csv\")\nHTrain = pd.read_csv(\"https://storage.googleapis.com/dimensionless/ML_with_Python/Chapter2/Housing.csv\")\nHTrain.shape",
      "execution_count": 3,
      "outputs": [
        {
          "output_type": "execute_result",
          "execution_count": 3,
          "data": {
            "text/plain": "(20640, 10)"
          },
          "metadata": {}
        }
      ]
    },
    {
      "metadata": {
        "trusted": true
      },
      "cell_type": "code",
      "source": "HTrain.head()",
      "execution_count": 4,
      "outputs": [
        {
          "output_type": "execute_result",
          "execution_count": 4,
          "data": {
            "text/plain": "   longitude  latitude  housing_median_age  total_rooms  total_bedrooms  \\\n0    -122.23     37.88                41.0        880.0           129.0   \n1    -122.22     37.86                21.0       7099.0          1106.0   \n2    -122.24     37.85                52.0       1467.0           190.0   \n3    -122.25     37.85                52.0       1274.0           235.0   \n4    -122.25     37.85                52.0       1627.0           280.0   \n\n   population  households  median_income  median_house_value ocean_proximity  \n0       322.0       126.0         8.3252            452600.0        NEAR BAY  \n1      2401.0      1138.0         8.3014            358500.0        NEAR BAY  \n2       496.0       177.0         7.2574            352100.0        NEAR BAY  \n3       558.0       219.0         5.6431            341300.0        NEAR BAY  \n4       565.0       259.0         3.8462            342200.0        NEAR BAY  ",
            "text/html": "<div>\n<table border=\"1\" class=\"dataframe\">\n  <thead>\n    <tr style=\"text-align: right;\">\n      <th></th>\n      <th>longitude</th>\n      <th>latitude</th>\n      <th>housing_median_age</th>\n      <th>total_rooms</th>\n      <th>total_bedrooms</th>\n      <th>population</th>\n      <th>households</th>\n      <th>median_income</th>\n      <th>median_house_value</th>\n      <th>ocean_proximity</th>\n    </tr>\n  </thead>\n  <tbody>\n    <tr>\n      <th>0</th>\n      <td>-122.23</td>\n      <td>37.88</td>\n      <td>41.0</td>\n      <td>880.0</td>\n      <td>129.0</td>\n      <td>322.0</td>\n      <td>126.0</td>\n      <td>8.3252</td>\n      <td>452600.0</td>\n      <td>NEAR BAY</td>\n    </tr>\n    <tr>\n      <th>1</th>\n      <td>-122.22</td>\n      <td>37.86</td>\n      <td>21.0</td>\n      <td>7099.0</td>\n      <td>1106.0</td>\n      <td>2401.0</td>\n      <td>1138.0</td>\n      <td>8.3014</td>\n      <td>358500.0</td>\n      <td>NEAR BAY</td>\n    </tr>\n    <tr>\n      <th>2</th>\n      <td>-122.24</td>\n      <td>37.85</td>\n      <td>52.0</td>\n      <td>1467.0</td>\n      <td>190.0</td>\n      <td>496.0</td>\n      <td>177.0</td>\n      <td>7.2574</td>\n      <td>352100.0</td>\n      <td>NEAR BAY</td>\n    </tr>\n    <tr>\n      <th>3</th>\n      <td>-122.25</td>\n      <td>37.85</td>\n      <td>52.0</td>\n      <td>1274.0</td>\n      <td>235.0</td>\n      <td>558.0</td>\n      <td>219.0</td>\n      <td>5.6431</td>\n      <td>341300.0</td>\n      <td>NEAR BAY</td>\n    </tr>\n    <tr>\n      <th>4</th>\n      <td>-122.25</td>\n      <td>37.85</td>\n      <td>52.0</td>\n      <td>1627.0</td>\n      <td>280.0</td>\n      <td>565.0</td>\n      <td>259.0</td>\n      <td>3.8462</td>\n      <td>342200.0</td>\n      <td>NEAR BAY</td>\n    </tr>\n  </tbody>\n</table>\n</div>"
          },
          "metadata": {}
        }
      ]
    },
    {
      "metadata": {
        "trusted": true
      },
      "cell_type": "code",
      "source": "HTrain.describe()",
      "execution_count": 5,
      "outputs": [
        {
          "output_type": "execute_result",
          "execution_count": 5,
          "data": {
            "text/plain": "          longitude      latitude  housing_median_age   total_rooms  \\\ncount  20640.000000  20640.000000        20640.000000  20640.000000   \nmean    -119.569704     35.631861           28.639486   2635.763081   \nstd        2.003532      2.135952           12.585558   2181.615252   \nmin     -124.350000     32.540000            1.000000      2.000000   \n25%     -121.800000     33.930000           18.000000   1447.750000   \n50%     -118.490000     34.260000           29.000000   2127.000000   \n75%     -118.010000     37.710000           37.000000   3148.000000   \nmax     -114.310000     41.950000           52.000000  39320.000000   \n\n       total_bedrooms    population    households  median_income  \\\ncount    20433.000000  20640.000000  20640.000000   20640.000000   \nmean       537.870553   1425.476744    499.539680       3.870671   \nstd        421.385070   1132.462122    382.329753       1.899822   \nmin          1.000000      3.000000      1.000000       0.499900   \n25%        296.000000    787.000000    280.000000       2.563400   \n50%        435.000000   1166.000000    409.000000       3.534800   \n75%        647.000000   1725.000000    605.000000       4.743250   \nmax       6445.000000  35682.000000   6082.000000      15.000100   \n\n       median_house_value  \ncount        20640.000000  \nmean        206855.816909  \nstd         115395.615874  \nmin          14999.000000  \n25%         119600.000000  \n50%         179700.000000  \n75%         264725.000000  \nmax         500001.000000  ",
            "text/html": "<div>\n<table border=\"1\" class=\"dataframe\">\n  <thead>\n    <tr style=\"text-align: right;\">\n      <th></th>\n      <th>longitude</th>\n      <th>latitude</th>\n      <th>housing_median_age</th>\n      <th>total_rooms</th>\n      <th>total_bedrooms</th>\n      <th>population</th>\n      <th>households</th>\n      <th>median_income</th>\n      <th>median_house_value</th>\n    </tr>\n  </thead>\n  <tbody>\n    <tr>\n      <th>count</th>\n      <td>20640.000000</td>\n      <td>20640.000000</td>\n      <td>20640.000000</td>\n      <td>20640.000000</td>\n      <td>20433.000000</td>\n      <td>20640.000000</td>\n      <td>20640.000000</td>\n      <td>20640.000000</td>\n      <td>20640.000000</td>\n    </tr>\n    <tr>\n      <th>mean</th>\n      <td>-119.569704</td>\n      <td>35.631861</td>\n      <td>28.639486</td>\n      <td>2635.763081</td>\n      <td>537.870553</td>\n      <td>1425.476744</td>\n      <td>499.539680</td>\n      <td>3.870671</td>\n      <td>206855.816909</td>\n    </tr>\n    <tr>\n      <th>std</th>\n      <td>2.003532</td>\n      <td>2.135952</td>\n      <td>12.585558</td>\n      <td>2181.615252</td>\n      <td>421.385070</td>\n      <td>1132.462122</td>\n      <td>382.329753</td>\n      <td>1.899822</td>\n      <td>115395.615874</td>\n    </tr>\n    <tr>\n      <th>min</th>\n      <td>-124.350000</td>\n      <td>32.540000</td>\n      <td>1.000000</td>\n      <td>2.000000</td>\n      <td>1.000000</td>\n      <td>3.000000</td>\n      <td>1.000000</td>\n      <td>0.499900</td>\n      <td>14999.000000</td>\n    </tr>\n    <tr>\n      <th>25%</th>\n      <td>-121.800000</td>\n      <td>33.930000</td>\n      <td>18.000000</td>\n      <td>1447.750000</td>\n      <td>296.000000</td>\n      <td>787.000000</td>\n      <td>280.000000</td>\n      <td>2.563400</td>\n      <td>119600.000000</td>\n    </tr>\n    <tr>\n      <th>50%</th>\n      <td>-118.490000</td>\n      <td>34.260000</td>\n      <td>29.000000</td>\n      <td>2127.000000</td>\n      <td>435.000000</td>\n      <td>1166.000000</td>\n      <td>409.000000</td>\n      <td>3.534800</td>\n      <td>179700.000000</td>\n    </tr>\n    <tr>\n      <th>75%</th>\n      <td>-118.010000</td>\n      <td>37.710000</td>\n      <td>37.000000</td>\n      <td>3148.000000</td>\n      <td>647.000000</td>\n      <td>1725.000000</td>\n      <td>605.000000</td>\n      <td>4.743250</td>\n      <td>264725.000000</td>\n    </tr>\n    <tr>\n      <th>max</th>\n      <td>-114.310000</td>\n      <td>41.950000</td>\n      <td>52.000000</td>\n      <td>39320.000000</td>\n      <td>6445.000000</td>\n      <td>35682.000000</td>\n      <td>6082.000000</td>\n      <td>15.000100</td>\n      <td>500001.000000</td>\n    </tr>\n  </tbody>\n</table>\n</div>"
          },
          "metadata": {}
        }
      ]
    },
    {
      "metadata": {},
      "cell_type": "markdown",
      "source": "<p><h2><font color = DarkBlue> Apply Linear Regression Model </font></h2></p>"
    },
    {
      "metadata": {},
      "cell_type": "markdown",
      "source": "<p><h2><font color = Blue> 1. Simple Linear Regression: </font></h2></p>\n<p><h3><font color = 'orange'> \"median_income ~ median_house_value\" </font></h3></p>"
    },
    {
      "metadata": {},
      "cell_type": "markdown",
      "source": "<p><h3><font color = Purple> Quiz 1: Draw a scatter plot between median_income and median_house_value variables. What type of correlation exists between the variables? </font></h3></p>\n<p><h4><font color = purple>\n1. No Correlation <br><br>\n2. Strong Positive Correlation <br><br>\n3. Weak Positive Correlation <br><br>\n4. Weak Negative Correlation </font></h4></p>"
    },
    {
      "metadata": {
        "trusted": true
      },
      "cell_type": "code",
      "source": "# draw a scatter plot of median_income with median_house_value\nplt.scatter(HTrain[['median_income']],HTrain[['median_house_value']])\nplt.xlabel('Median Income')\nplt.ylabel('Median House Price')\nplt.title(\"correlation between Median Income and Median House Value\")",
      "execution_count": 6,
      "outputs": [
        {
          "output_type": "execute_result",
          "execution_count": 6,
          "data": {
            "text/plain": "Text(0.5,1,'correlation between Median Income and Median House Value')"
          },
          "metadata": {}
        },
        {
          "output_type": "display_data",
          "data": {
            "image/png": "[encoded data removed]",
            "text/plain": "<matplotlib.figure.Figure at 0x7ff5ad7b9c88>"
          },
          "metadata": {}
        }
      ]
    },
    {
      "metadata": {},
      "cell_type": "markdown",
      "source": "<p><h3><font color = purple>Quiz 2: What is the correlation between 'median_income' and 'median_house_value'? </font></h3></p>\n\n<p><h4><font color = purple>\n1. 0.80 <br><br>\n2. 0.42 <br><br>\n3. 0.96 <br><br>\n4. 0.69 </font></h4></p>\n"
    },
    {
      "metadata": {
        "trusted": false
      },
      "cell_type": "code",
      "source": "HTrain['median_income'].corr(HTrain['median_house_value'])",
      "execution_count": 13,
      "outputs": [
        {
          "data": {
            "text/plain": "0.6906466061467704"
          },
          "execution_count": 13,
          "metadata": {},
          "output_type": "execute_result"
        }
      ]
    },
    {
      "metadata": {
        "trusted": false
      },
      "cell_type": "code",
      "source": "from sklearn.linear_model import LinearRegression\nfrom sklearn.metrics import mean_squared_error",
      "execution_count": 8,
      "outputs": []
    },
    {
      "metadata": {
        "trusted": false
      },
      "cell_type": "code",
      "source": "lin_reg = LinearRegression()   # creating an instance of Linear Regression ",
      "execution_count": 63,
      "outputs": []
    },
    {
      "metadata": {
        "trusted": false
      },
      "cell_type": "code",
      "source": "lin_reg.fit(HTrain[['median_income']], HTrain['median_house_value'])   # build a linear regression model median_income vs median_house_value",
      "execution_count": 64,
      "outputs": [
        {
          "data": {
            "text/plain": "LinearRegression(copy_X=True, fit_intercept=True, n_jobs=None,\n         normalize=False)"
          },
          "execution_count": 64,
          "metadata": {},
          "output_type": "execute_result"
        }
      ]
    },
    {
      "metadata": {
        "trusted": false
      },
      "cell_type": "code",
      "source": "lin_reg.coef_     # The coefficient of medain_income (m or B1(beta))",
      "execution_count": 65,
      "outputs": [
        {
          "data": {
            "text/plain": "array([79664.90785833])"
          },
          "execution_count": 65,
          "metadata": {},
          "output_type": "execute_result"
        }
      ]
    },
    {
      "metadata": {
        "trusted": false
      },
      "cell_type": "code",
      "source": "lin_reg.intercept_    # The intercept (ie: c or B0(beta))",
      "execution_count": 66,
      "outputs": [
        {
          "data": {
            "text/plain": "206771.86405797795"
          },
          "execution_count": 66,
          "metadata": {},
          "output_type": "execute_result"
        }
      ]
    },
    {
      "metadata": {
        "trusted": false
      },
      "cell_type": "code",
      "source": "lin_reg.score(HTrain[['median_income']],HTrain['median_house_value'])",
      "execution_count": 67,
      "outputs": [
        {
          "data": {
            "text/plain": "0.47699273458205255"
          },
          "execution_count": 67,
          "metadata": {},
          "output_type": "execute_result"
        }
      ]
    },
    {
      "metadata": {
        "trusted": false
      },
      "cell_type": "code",
      "source": "y_pred_train = lin_reg.predict(HTrain[['median_income']])\ny_pred_train[:5]",
      "execution_count": 68,
      "outputs": [
        {
          "data": {
            "text/plain": "array([181147.30465315, 204332.52998299, 218749.38740458, 125916.23161656,\n       193501.01668457])"
          },
          "execution_count": 68,
          "metadata": {},
          "output_type": "execute_result"
        }
      ]
    },
    {
      "metadata": {
        "trusted": false
      },
      "cell_type": "code",
      "source": "lin_rmse = np.sqrt(mean_squared_error(HTrain['median_house_value'], y_pred_train))\nlin_rmse",
      "execution_count": 69,
      "outputs": [
        {
          "data": {
            "text/plain": "83614.87409655548"
          },
          "execution_count": 69,
          "metadata": {},
          "output_type": "execute_result"
        }
      ]
    },
    {
      "metadata": {
        "trusted": false
      },
      "cell_type": "code",
      "source": "plt.scatter(HTrain[['median_income']],HTrain['median_house_value'])\nplt.plot(HTrain[['median_income']],y_pred_train,'r')\nplt.axis([-2,6,0,550000])\nplt.xlabel('Median Income')\nplt.ylabel('Median House Price')\nplt.title('Linear Regression on median_income ~ median_house_value')",
      "execution_count": 70,
      "outputs": [
        {
          "data": {
            "text/plain": "Text(0.5, 1.0, 'Linear Regression on median_income ~ median_house_value')"
          },
          "execution_count": 70,
          "metadata": {},
          "output_type": "execute_result"
        },
        {
          "data": {
            "image/png": "[encoded data removed]",
            "text/plain": "<Figure size 432x288 with 1 Axes>"
          },
          "metadata": {
            "needs_background": "light"
          },
          "output_type": "display_data"
        }
      ]
    },
    {
      "metadata": {},
      "cell_type": "markdown",
      "source": "<p><h2><font color = DarkBlue> Best fit using Gradient Descent </font></h2></p>"
    },
    {
      "metadata": {
        "trusted": false
      },
      "cell_type": "code",
      "source": "from sklearn.linear_model import SGDRegressor",
      "execution_count": 71,
      "outputs": []
    },
    {
      "metadata": {
        "trusted": false
      },
      "cell_type": "code",
      "source": "gdreg = SGDRegressor()",
      "execution_count": 72,
      "outputs": []
    },
    {
      "metadata": {
        "trusted": false
      },
      "cell_type": "code",
      "source": "gdreg.fit(HTrain[['median_income']], HTrain['median_house_value'])",
      "execution_count": 73,
      "outputs": [
        {
          "name": "stderr",
          "output_type": "stream",
          "text": "D:\\DataScience\\Anaconda\\lib\\site-packages\\sklearn\\linear_model\\stochastic_gradient.py:166: FutureWarning: max_iter and tol parameters have been added in SGDRegressor in 0.19. If both are left unset, they default to max_iter=5 and tol=None. If tol is not None, max_iter defaults to max_iter=1000. From 0.21, default max_iter will be 1000, and default tol will be 1e-3.\n  FutureWarning)\n"
        },
        {
          "data": {
            "text/plain": "SGDRegressor(alpha=0.0001, average=False, early_stopping=False, epsilon=0.1,\n       eta0=0.01, fit_intercept=True, l1_ratio=0.15,\n       learning_rate='invscaling', loss='squared_loss', max_iter=None,\n       n_iter=None, n_iter_no_change=5, penalty='l2', power_t=0.25,\n       random_state=None, shuffle=True, tol=None, validation_fraction=0.1,\n       verbose=0, warm_start=False)"
          },
          "execution_count": 73,
          "metadata": {},
          "output_type": "execute_result"
        }
      ]
    },
    {
      "metadata": {
        "trusted": false
      },
      "cell_type": "code",
      "source": "gdreg.intercept_",
      "execution_count": 74,
      "outputs": [
        {
          "data": {
            "text/plain": "array([208026.66707831])"
          },
          "execution_count": 74,
          "metadata": {},
          "output_type": "execute_result"
        }
      ]
    },
    {
      "metadata": {
        "trusted": false
      },
      "cell_type": "code",
      "source": "gdreg.coef_",
      "execution_count": 75,
      "outputs": [
        {
          "data": {
            "text/plain": "array([80386.37897055])"
          },
          "execution_count": 75,
          "metadata": {},
          "output_type": "execute_result"
        }
      ]
    },
    {
      "metadata": {
        "trusted": false
      },
      "cell_type": "code",
      "source": "gdreg.score(HTrain[['median_income']], HTrain['median_house_value'])",
      "execution_count": 76,
      "outputs": [
        {
          "data": {
            "text/plain": "0.4768351076104672"
          },
          "execution_count": 76,
          "metadata": {},
          "output_type": "execute_result"
        }
      ]
    },
    {
      "metadata": {
        "trusted": false
      },
      "cell_type": "code",
      "source": "y_pred_gd = gdreg.predict(HTrain[['median_income']])",
      "execution_count": 77,
      "outputs": []
    },
    {
      "metadata": {
        "trusted": false
      },
      "cell_type": "code",
      "source": "plt.scatter(HTrain[['median_income']],HTrain['median_house_value'])\nplt.plot(HTrain[['median_income']],y_pred_gd,'r')\nplt.axis([-2,6,0,550000])\nplt.xlabel('Median Income')\nplt.ylabel('Median House Price')\nplt.title('Best fit using Gradient Descent')",
      "execution_count": 78,
      "outputs": [
        {
          "data": {
            "text/plain": "Text(0.5, 1.0, 'Best fit using Gradient Descent')"
          },
          "execution_count": 78,
          "metadata": {},
          "output_type": "execute_result"
        },
        {
          "data": {
            "image/png": "[encoded data removed]",
            "text/plain": "<Figure size 432x288 with 1 Axes>"
          },
          "metadata": {
            "needs_background": "light"
          },
          "output_type": "display_data"
        }
      ]
    },
    {
      "metadata": {},
      "cell_type": "markdown",
      "source": "<p><h2><font color = DarkBlue> 2. Multiple Linear Regression: </font></h2></p>"
    },
    {
      "metadata": {
        "trusted": false
      },
      "cell_type": "code",
      "source": "model_all = LinearRegression()",
      "execution_count": 128,
      "outputs": []
    },
    {
      "metadata": {
        "trusted": false
      },
      "cell_type": "code",
      "source": "HTrain.head()",
      "execution_count": 10,
      "outputs": [
        {
          "data": {
            "text/html": "<div>\n<style scoped>\n    .dataframe tbody tr th:only-of-type {\n        vertical-align: middle;\n    }\n\n    .dataframe tbody tr th {\n        vertical-align: top;\n    }\n\n    .dataframe thead th {\n        text-align: right;\n    }\n</style>\n<table border=\"1\" class=\"dataframe\">\n  <thead>\n    <tr style=\"text-align: right;\">\n      <th></th>\n      <th>longitude</th>\n      <th>latitude</th>\n      <th>housing_median_age</th>\n      <th>total_rooms</th>\n      <th>total_bedrooms</th>\n      <th>population</th>\n      <th>households</th>\n      <th>median_income</th>\n      <th>median_house_value</th>\n    </tr>\n  </thead>\n  <tbody>\n    <tr>\n      <th>0</th>\n      <td>1.267645</td>\n      <td>-1.367976</td>\n      <td>0.346478</td>\n      <td>0.224718</td>\n      <td>0.214986</td>\n      <td>0.772251</td>\n      <td>0.322924</td>\n      <td>-0.321654</td>\n      <td>103000.0</td>\n    </tr>\n    <tr>\n      <th>1</th>\n      <td>0.703627</td>\n      <td>-0.871699</td>\n      <td>1.617807</td>\n      <td>0.342065</td>\n      <td>0.596500</td>\n      <td>-0.098440</td>\n      <td>0.670799</td>\n      <td>-0.030620</td>\n      <td>382100.0</td>\n    </tr>\n    <tr>\n      <th>2</th>\n      <td>-0.454356</td>\n      <td>-0.455012</td>\n      <td>-1.957806</td>\n      <td>-0.338639</td>\n      <td>-0.490815</td>\n      <td>-0.450778</td>\n      <td>-0.427755</td>\n      <td>0.150349</td>\n      <td>172600.0</td>\n    </tr>\n    <tr>\n      <th>3</th>\n      <td>1.227714</td>\n      <td>-1.377340</td>\n      <td>0.584852</td>\n      <td>-0.556832</td>\n      <td>-0.404974</td>\n      <td>-0.006602</td>\n      <td>-0.378059</td>\n      <td>-1.014947</td>\n      <td>93400.0</td>\n    </tr>\n    <tr>\n      <th>4</th>\n      <td>-0.114948</td>\n      <td>0.537543</td>\n      <td>1.141059</td>\n      <td>-0.116322</td>\n      <td>-0.252369</td>\n      <td>-0.486983</td>\n      <td>-0.312669</td>\n      <td>-0.166583</td>\n      <td>96500.0</td>\n    </tr>\n  </tbody>\n</table>\n</div>",
            "text/plain": "   longitude  latitude  housing_median_age  total_rooms  total_bedrooms  \\\n0   1.267645 -1.367976            0.346478     0.224718        0.214986   \n1   0.703627 -0.871699            1.617807     0.342065        0.596500   \n2  -0.454356 -0.455012           -1.957806    -0.338639       -0.490815   \n3   1.227714 -1.377340            0.584852    -0.556832       -0.404974   \n4  -0.114948  0.537543            1.141059    -0.116322       -0.252369   \n\n   population  households  median_income  median_house_value  \n0    0.772251    0.322924      -0.321654            103000.0  \n1   -0.098440    0.670799      -0.030620            382100.0  \n2   -0.450778   -0.427755       0.150349            172600.0  \n3   -0.006602   -0.378059      -1.014947             93400.0  \n4   -0.486983   -0.312669      -0.166583             96500.0  "
          },
          "execution_count": 10,
          "metadata": {},
          "output_type": "execute_result"
        }
      ]
    },
    {
      "metadata": {
        "trusted": false
      },
      "cell_type": "code",
      "source": "X_train = HTrain.drop('median_house_value', axis = 1)\nX_train.head()\n                                           ",
      "execution_count": 11,
      "outputs": [
        {
          "data": {
            "text/html": "<div>\n<style scoped>\n    .dataframe tbody tr th:only-of-type {\n        vertical-align: middle;\n    }\n\n    .dataframe tbody tr th {\n        vertical-align: top;\n    }\n\n    .dataframe thead th {\n        text-align: right;\n    }\n</style>\n<table border=\"1\" class=\"dataframe\">\n  <thead>\n    <tr style=\"text-align: right;\">\n      <th></th>\n      <th>longitude</th>\n      <th>latitude</th>\n      <th>housing_median_age</th>\n      <th>total_rooms</th>\n      <th>total_bedrooms</th>\n      <th>population</th>\n      <th>households</th>\n      <th>median_income</th>\n    </tr>\n  </thead>\n  <tbody>\n    <tr>\n      <th>0</th>\n      <td>1.267645</td>\n      <td>-1.367976</td>\n      <td>0.346478</td>\n      <td>0.224718</td>\n      <td>0.214986</td>\n      <td>0.772251</td>\n      <td>0.322924</td>\n      <td>-0.321654</td>\n    </tr>\n    <tr>\n      <th>1</th>\n      <td>0.703627</td>\n      <td>-0.871699</td>\n      <td>1.617807</td>\n      <td>0.342065</td>\n      <td>0.596500</td>\n      <td>-0.098440</td>\n      <td>0.670799</td>\n      <td>-0.030620</td>\n    </tr>\n    <tr>\n      <th>2</th>\n      <td>-0.454356</td>\n      <td>-0.455012</td>\n      <td>-1.957806</td>\n      <td>-0.338639</td>\n      <td>-0.490815</td>\n      <td>-0.450778</td>\n      <td>-0.427755</td>\n      <td>0.150349</td>\n    </tr>\n    <tr>\n      <th>3</th>\n      <td>1.227714</td>\n      <td>-1.377340</td>\n      <td>0.584852</td>\n      <td>-0.556832</td>\n      <td>-0.404974</td>\n      <td>-0.006602</td>\n      <td>-0.378059</td>\n      <td>-1.014947</td>\n    </tr>\n    <tr>\n      <th>4</th>\n      <td>-0.114948</td>\n      <td>0.537543</td>\n      <td>1.141059</td>\n      <td>-0.116322</td>\n      <td>-0.252369</td>\n      <td>-0.486983</td>\n      <td>-0.312669</td>\n      <td>-0.166583</td>\n    </tr>\n  </tbody>\n</table>\n</div>",
            "text/plain": "   longitude  latitude  housing_median_age  total_rooms  total_bedrooms  \\\n0   1.267645 -1.367976            0.346478     0.224718        0.214986   \n1   0.703627 -0.871699            1.617807     0.342065        0.596500   \n2  -0.454356 -0.455012           -1.957806    -0.338639       -0.490815   \n3   1.227714 -1.377340            0.584852    -0.556832       -0.404974   \n4  -0.114948  0.537543            1.141059    -0.116322       -0.252369   \n\n   population  households  median_income  \n0    0.772251    0.322924      -0.321654  \n1   -0.098440    0.670799      -0.030620  \n2   -0.450778   -0.427755       0.150349  \n3   -0.006602   -0.378059      -1.014947  \n4   -0.486983   -0.312669      -0.166583  "
          },
          "execution_count": 11,
          "metadata": {},
          "output_type": "execute_result"
        }
      ]
    },
    {
      "metadata": {
        "trusted": false
      },
      "cell_type": "code",
      "source": "y_train = HTrain['median_house_value']\ny_train.head()",
      "execution_count": 12,
      "outputs": [
        {
          "data": {
            "text/plain": "0    103000.0\n1    382100.0\n2    172600.0\n3     93400.0\n4     96500.0\nName: median_house_value, dtype: float64"
          },
          "execution_count": 12,
          "metadata": {},
          "output_type": "execute_result"
        }
      ]
    },
    {
      "metadata": {
        "trusted": false
      },
      "cell_type": "code",
      "source": "model_all.fit(X_train,y_train)",
      "execution_count": 129,
      "outputs": [
        {
          "data": {
            "text/plain": "LinearRegression(copy_X=True, fit_intercept=True, n_jobs=None,\n         normalize=False)"
          },
          "execution_count": 129,
          "metadata": {},
          "output_type": "execute_result"
        }
      ]
    },
    {
      "metadata": {
        "trusted": false
      },
      "cell_type": "code",
      "source": "model_all.coef_",
      "execution_count": 130,
      "outputs": [
        {
          "data": {
            "text/plain": "array([-85413.28005747, -90669.136247  ,  14885.95835764, -17862.58294108,\n        48757.37209674, -43589.91735845,  17717.71485854,  77013.87535191])"
          },
          "execution_count": 130,
          "metadata": {},
          "output_type": "execute_result"
        }
      ]
    },
    {
      "metadata": {
        "trusted": false
      },
      "cell_type": "code",
      "source": "model_all.intercept_",
      "execution_count": 131,
      "outputs": [
        {
          "data": {
            "text/plain": "206640.6370318638"
          },
          "execution_count": 131,
          "metadata": {},
          "output_type": "execute_result"
        }
      ]
    },
    {
      "metadata": {
        "trusted": false
      },
      "cell_type": "code",
      "source": "model_all.score(X_train,y_train)",
      "execution_count": 132,
      "outputs": [
        {
          "data": {
            "text/plain": "0.6400947924305294"
          },
          "execution_count": 132,
          "metadata": {},
          "output_type": "execute_result"
        }
      ]
    },
    {
      "metadata": {
        "trusted": false
      },
      "cell_type": "code",
      "source": "y_pred_all = model_all.predict(X_train)",
      "execution_count": 133,
      "outputs": []
    },
    {
      "metadata": {
        "trusted": false
      },
      "cell_type": "code",
      "source": "rmse_all = np.sqrt(mean_squared_error(y_train, y_pred_all))\nrmse_all",
      "execution_count": 134,
      "outputs": [
        {
          "data": {
            "text/plain": "69362.34135238081"
          },
          "execution_count": 134,
          "metadata": {},
          "output_type": "execute_result"
        }
      ]
    },
    {
      "metadata": {},
      "cell_type": "markdown",
      "source": "<p><h2><font color = DarkBlue> Adding one by one all the features to understand Multiple Linear Regression </font></h2></p>"
    },
    {
      "metadata": {
        "trusted": false
      },
      "cell_type": "code",
      "source": "HTrain.corr()",
      "execution_count": 17,
      "outputs": [
        {
          "data": {
            "text/html": "<div>\n<style scoped>\n    .dataframe tbody tr th:only-of-type {\n        vertical-align: middle;\n    }\n\n    .dataframe tbody tr th {\n        vertical-align: top;\n    }\n\n    .dataframe thead th {\n        text-align: right;\n    }\n</style>\n<table border=\"1\" class=\"dataframe\">\n  <thead>\n    <tr style=\"text-align: right;\">\n      <th></th>\n      <th>longitude</th>\n      <th>latitude</th>\n      <th>housing_median_age</th>\n      <th>total_rooms</th>\n      <th>total_bedrooms</th>\n      <th>population</th>\n      <th>households</th>\n      <th>median_income</th>\n      <th>median_house_value</th>\n    </tr>\n  </thead>\n  <tbody>\n    <tr>\n      <th>longitude</th>\n      <td>1.000000</td>\n      <td>-0.924485</td>\n      <td>-0.101818</td>\n      <td>0.038676</td>\n      <td>0.063064</td>\n      <td>0.094276</td>\n      <td>0.049306</td>\n      <td>-0.017040</td>\n      <td>-0.046349</td>\n    </tr>\n    <tr>\n      <th>latitude</th>\n      <td>-0.924485</td>\n      <td>1.000000</td>\n      <td>0.005296</td>\n      <td>-0.029224</td>\n      <td>-0.059998</td>\n      <td>-0.102499</td>\n      <td>-0.064061</td>\n      <td>-0.076571</td>\n      <td>-0.142983</td>\n    </tr>\n    <tr>\n      <th>housing_median_age</th>\n      <td>-0.101818</td>\n      <td>0.005296</td>\n      <td>1.000000</td>\n      <td>-0.360922</td>\n      <td>-0.320624</td>\n      <td>-0.292283</td>\n      <td>-0.302796</td>\n      <td>-0.121711</td>\n      <td>0.103706</td>\n    </tr>\n    <tr>\n      <th>total_rooms</th>\n      <td>0.038676</td>\n      <td>-0.029224</td>\n      <td>-0.360922</td>\n      <td>1.000000</td>\n      <td>0.930489</td>\n      <td>0.857936</td>\n      <td>0.920482</td>\n      <td>0.198268</td>\n      <td>0.133989</td>\n    </tr>\n    <tr>\n      <th>total_bedrooms</th>\n      <td>0.063064</td>\n      <td>-0.059998</td>\n      <td>-0.320624</td>\n      <td>0.930489</td>\n      <td>1.000000</td>\n      <td>0.878932</td>\n      <td>0.980255</td>\n      <td>-0.009141</td>\n      <td>0.047980</td>\n    </tr>\n    <tr>\n      <th>population</th>\n      <td>0.094276</td>\n      <td>-0.102499</td>\n      <td>-0.292283</td>\n      <td>0.857936</td>\n      <td>0.878932</td>\n      <td>1.000000</td>\n      <td>0.907452</td>\n      <td>0.004122</td>\n      <td>-0.026032</td>\n    </tr>\n    <tr>\n      <th>households</th>\n      <td>0.049306</td>\n      <td>-0.064061</td>\n      <td>-0.302796</td>\n      <td>0.920482</td>\n      <td>0.980255</td>\n      <td>0.907452</td>\n      <td>1.000000</td>\n      <td>0.012776</td>\n      <td>0.063714</td>\n    </tr>\n    <tr>\n      <th>median_income</th>\n      <td>-0.017040</td>\n      <td>-0.076571</td>\n      <td>-0.121711</td>\n      <td>0.198268</td>\n      <td>-0.009141</td>\n      <td>0.004122</td>\n      <td>0.012776</td>\n      <td>1.000000</td>\n      <td>0.690647</td>\n    </tr>\n    <tr>\n      <th>median_house_value</th>\n      <td>-0.046349</td>\n      <td>-0.142983</td>\n      <td>0.103706</td>\n      <td>0.133989</td>\n      <td>0.047980</td>\n      <td>-0.026032</td>\n      <td>0.063714</td>\n      <td>0.690647</td>\n      <td>1.000000</td>\n    </tr>\n  </tbody>\n</table>\n</div>",
            "text/plain": "                    longitude  latitude  housing_median_age  total_rooms  \\\nlongitude            1.000000 -0.924485           -0.101818     0.038676   \nlatitude            -0.924485  1.000000            0.005296    -0.029224   \nhousing_median_age  -0.101818  0.005296            1.000000    -0.360922   \ntotal_rooms          0.038676 -0.029224           -0.360922     1.000000   \ntotal_bedrooms       0.063064 -0.059998           -0.320624     0.930489   \npopulation           0.094276 -0.102499           -0.292283     0.857936   \nhouseholds           0.049306 -0.064061           -0.302796     0.920482   \nmedian_income       -0.017040 -0.076571           -0.121711     0.198268   \nmedian_house_value  -0.046349 -0.142983            0.103706     0.133989   \n\n                    total_bedrooms  population  households  median_income  \\\nlongitude                 0.063064    0.094276    0.049306      -0.017040   \nlatitude                 -0.059998   -0.102499   -0.064061      -0.076571   \nhousing_median_age       -0.320624   -0.292283   -0.302796      -0.121711   \ntotal_rooms               0.930489    0.857936    0.920482       0.198268   \ntotal_bedrooms            1.000000    0.878932    0.980255      -0.009141   \npopulation                0.878932    1.000000    0.907452       0.004122   \nhouseholds                0.980255    0.907452    1.000000       0.012776   \nmedian_income            -0.009141    0.004122    0.012776       1.000000   \nmedian_house_value        0.047980   -0.026032    0.063714       0.690647   \n\n                    median_house_value  \nlongitude                    -0.046349  \nlatitude                     -0.142983  \nhousing_median_age            0.103706  \ntotal_rooms                   0.133989  \ntotal_bedrooms                0.047980  \npopulation                   -0.026032  \nhouseholds                    0.063714  \nmedian_income                 0.690647  \nmedian_house_value            1.000000  "
          },
          "execution_count": 17,
          "metadata": {},
          "output_type": "execute_result"
        }
      ]
    },
    {
      "metadata": {},
      "cell_type": "markdown",
      "source": "<p><h4><font color = DarkGreen> Model with 'logitude' variable </font></h4></p>"
    },
    {
      "metadata": {
        "trusted": false
      },
      "cell_type": "code",
      "source": "model1 = LinearRegression()",
      "execution_count": 18,
      "outputs": []
    },
    {
      "metadata": {
        "trusted": false
      },
      "cell_type": "code",
      "source": "model1.fit(X_train[['longitude']],y_train)",
      "execution_count": 19,
      "outputs": [
        {
          "data": {
            "text/plain": "LinearRegression(copy_X=True, fit_intercept=True, n_jobs=None,\n         normalize=False)"
          },
          "execution_count": 19,
          "metadata": {},
          "output_type": "execute_result"
        }
      ]
    },
    {
      "metadata": {
        "trusted": false
      },
      "cell_type": "code",
      "source": "model1.intercept_",
      "execution_count": 21,
      "outputs": [
        {
          "data": {
            "text/plain": "207161.06474598034"
          },
          "execution_count": 21,
          "metadata": {},
          "output_type": "execute_result"
        }
      ]
    },
    {
      "metadata": {
        "trusted": false
      },
      "cell_type": "code",
      "source": "model1.coef_",
      "execution_count": 20,
      "outputs": [
        {
          "data": {
            "text/plain": "array([-5353.18054039])"
          },
          "execution_count": 20,
          "metadata": {},
          "output_type": "execute_result"
        }
      ]
    },
    {
      "metadata": {
        "trusted": false
      },
      "cell_type": "code",
      "source": "model1.score(X_train[['longitude']],y_train)",
      "execution_count": 22,
      "outputs": [
        {
          "data": {
            "text/plain": "0.0021482189561508047"
          },
          "execution_count": 22,
          "metadata": {},
          "output_type": "execute_result"
        }
      ]
    },
    {
      "metadata": {},
      "cell_type": "markdown",
      "source": "<p><h4><font color = DarkGreen> Model with both 'logitude' and 'latitude' variables </font></h4></p>"
    },
    {
      "metadata": {
        "trusted": false
      },
      "cell_type": "code",
      "source": "model1.fit(X_train[['longitude','latitude']],y_train)",
      "execution_count": 24,
      "outputs": [
        {
          "data": {
            "text/plain": "LinearRegression(copy_X=True, fit_intercept=True, n_jobs=None,\n         normalize=False)"
          },
          "execution_count": 24,
          "metadata": {},
          "output_type": "execute_result"
        }
      ]
    },
    {
      "metadata": {
        "trusted": false
      },
      "cell_type": "code",
      "source": "model1.coef_",
      "execution_count": 25,
      "outputs": [
        {
          "data": {
            "text/plain": "array([-141889.12431787, -147795.69758896])"
          },
          "execution_count": 25,
          "metadata": {},
          "output_type": "execute_result"
        }
      ]
    },
    {
      "metadata": {
        "trusted": false
      },
      "cell_type": "code",
      "source": "model1.intercept_",
      "execution_count": 26,
      "outputs": [
        {
          "data": {
            "text/plain": "207084.4075166661"
          },
          "execution_count": 26,
          "metadata": {},
          "output_type": "execute_result"
        }
      ]
    },
    {
      "metadata": {
        "trusted": false
      },
      "cell_type": "code",
      "source": "model1.score(X_train[['longitude','latitude']],y_train)",
      "execution_count": 28,
      "outputs": [
        {
          "data": {
            "text/plain": "0.23977500440286748"
          },
          "execution_count": 28,
          "metadata": {},
          "output_type": "execute_result"
        }
      ]
    },
    {
      "metadata": {},
      "cell_type": "markdown",
      "source": "<p><h3><font color = Purple> Quiz 3: Build a model with the variables  'logitude' , 'latitude' and 'housing_median_age'. What is the coefficient of 'housing_median_age' variable? </font></h3></p>\n<p><h4><font color = purple>\n1. -143091.95 <br><br>\n2. -148898.94 <br><br>\n3. 5180.33 <br><br>\n4. -1803.02 </font></h4></p>"
    },
    {
      "metadata": {
        "trusted": false
      },
      "cell_type": "code",
      "source": "model1.fit(X_train[['longitude','latitude','housing_median_age']],y_train)",
      "execution_count": 29,
      "outputs": [
        {
          "data": {
            "text/plain": "LinearRegression(copy_X=True, fit_intercept=True, n_jobs=None,\n         normalize=False)"
          },
          "execution_count": 29,
          "metadata": {},
          "output_type": "execute_result"
        }
      ]
    },
    {
      "metadata": {
        "trusted": false
      },
      "cell_type": "code",
      "source": "model1.coef_",
      "execution_count": 30,
      "outputs": [
        {
          "data": {
            "text/plain": "array([-143091.95032316, -148898.94074324,   -1803.0265797 ])"
          },
          "execution_count": 30,
          "metadata": {},
          "output_type": "execute_result"
        }
      ]
    },
    {
      "metadata": {
        "trusted": false
      },
      "cell_type": "code",
      "source": "model1.intercept_",
      "execution_count": 31,
      "outputs": [
        {
          "data": {
            "text/plain": "207078.21161327386"
          },
          "execution_count": 31,
          "metadata": {},
          "output_type": "execute_result"
        }
      ]
    },
    {
      "metadata": {
        "trusted": false
      },
      "cell_type": "code",
      "source": "model1.score(X_train[['longitude','latitude','housing_median_age']],y_train)",
      "execution_count": 32,
      "outputs": [
        {
          "data": {
            "text/plain": "0.24000307748194905"
          },
          "execution_count": 32,
          "metadata": {},
          "output_type": "execute_result"
        }
      ]
    },
    {
      "metadata": {},
      "cell_type": "markdown",
      "source": "<p><h4><font color = DarkGreen> Model with logitude, latitude, housing_median_age and total_rooms variables </font></h4></p>"
    },
    {
      "metadata": {
        "trusted": false
      },
      "cell_type": "code",
      "source": "model1.fit(X_train[['longitude','latitude','housing_median_age','total_rooms']],y_train)\nprint(\"Coefficients : \",model1.coef_)\nprint(\"Intercept : \", model1.intercept_)\nmodel1.score(X_train[['longitude','latitude','housing_median_age','total_rooms']],y_train)",
      "execution_count": 39,
      "outputs": [
        {
          "name": "stdout",
          "output_type": "stream",
          "text": "Coefficients :  [-139918.19489232 -145458.44039198    5180.33149439   18588.32272379]\nIntercept :  207044.09690195063\n"
        },
        {
          "data": {
            "text/plain": "0.26221824117424786"
          },
          "execution_count": 39,
          "metadata": {},
          "output_type": "execute_result"
        }
      ]
    },
    {
      "metadata": {},
      "cell_type": "markdown",
      "source": "<p><h3><font color = Purple>Quiz 4: For the above model what is the interpretation of the coefficient of 'total_rooms'? </font></h3></p>\n<p><h4><font color = purple>\n1. For an increase of 1 in the 'median_house_value' the 'total_rooms' decreases by approximately 18588.32 <br><br>\n2. For an increase of 1 in 'total_rooms' the 'median_house_value' increases by approximately 18588.32 <br><br>\n3. For an increase of 1 in 'total_rooms' the 'median_house_value' decreases by approximately 18588.32 <br><br>\n4. For an increase of 1 in the 'median_house_value' the 'total_rooms' increases by approximately 18588.32 </font></h4></p>\n"
    },
    {
      "metadata": {},
      "cell_type": "markdown",
      "source": "<p><h4><font color = DarkGreen> Model with 'longitude','latitude','housing_median_age','total_rooms','total_bedrooms' varaibles </font></h4></p>"
    },
    {
      "metadata": {
        "scrolled": true,
        "trusted": false
      },
      "cell_type": "code",
      "source": "model1.fit(X_train[['longitude','latitude','housing_median_age','total_rooms','total_bedrooms']],y_train)\nprint(\"Coefficients : \",model1.coef_)\nprint(\"Intercept : \", model1.intercept_)\nmodel1.score(X_train[['longitude','latitude','housing_median_age','total_rooms','total_bedrooms']],y_train)",
      "execution_count": 41,
      "outputs": [
        {
          "name": "stdout",
          "output_type": "stream",
          "text": "Coefficients :  [-140821.79695263 -148740.880461      6374.50953443   88723.50645406\n  -74804.09155293]\nIntercept :  207153.79553383638\n"
        },
        {
          "data": {
            "text/plain": "0.31771834380202757"
          },
          "execution_count": 41,
          "metadata": {},
          "output_type": "execute_result"
        }
      ]
    },
    {
      "metadata": {},
      "cell_type": "markdown",
      "source": "<p><h3><font color = Purple> Quiz 5: Suppose we add 'population' variable to our previous model. Is it possible for the model R2 to decrease from 0.31 to 0.26? </font></h3></p>\n<p><h4><font color = purple>\n1. No, the model's R2 value can only decrease to 0.30 by adding new variable. <br><br>\n2. No, the model's R² value can not decrease at all by adding new variable. <br><br>\n3. Yes, the R² value could decrease to 0.26 </font></h4></p>"
    },
    {
      "metadata": {},
      "cell_type": "markdown",
      "source": "<p><h4><font color = DarkGreen> Model with' longitude','latitude','housing_median_age','total_rooms','total_bedrooms','population' </font></h4></p>"
    },
    {
      "metadata": {
        "trusted": false
      },
      "cell_type": "code",
      "source": "model1.fit(X_train[['longitude','latitude','housing_median_age','total_rooms','total_bedrooms','population']],y_train)\nprint(\"Coefficients : \",model1.coef_)\nprint(\"Intercept : \", model1.intercept_)\nmodel1.score(X_train[['longitude','latitude','housing_median_age','total_rooms','total_bedrooms','population']],y_train)",
      "execution_count": 45,
      "outputs": [
        {
          "name": "stdout",
          "output_type": "stream",
          "text": "Coefficients :  [-144389.62331851 -155699.63277662    6583.01551464  108502.58659167\n  -38029.63257305  -62562.8816911 ]\nIntercept :  207020.6342050893\n"
        },
        {
          "data": {
            "text/plain": "0.3801845000742566"
          },
          "execution_count": 45,
          "metadata": {},
          "output_type": "execute_result"
        }
      ]
    },
    {
      "metadata": {},
      "cell_type": "markdown",
      "source": "<p><h4><font color = DarkGreen> Model with 'longitude','latitude','housing_median_age','total_rooms','total_bedrooms','population','households' variables </font></h4></p>"
    },
    {
      "metadata": {
        "trusted": false
      },
      "cell_type": "code",
      "source": "model1.fit(X_train[['longitude','latitude','housing_median_age','total_rooms','total_bedrooms','population','households']],y_train)\nprint(\"Coefficients : \",model1.coef_)\nprint(\"Intercept : \", model1.intercept_)\nmodel1.score(X_train[['longitude','latitude','housing_median_age','total_rooms','total_bedrooms','population','households']],y_train)",
      "execution_count": 43,
      "outputs": [
        {
          "name": "stdout",
          "output_type": "stream",
          "text": "Coefficients :  [-139798.10182907 -151645.85741153    6391.26182068  108158.05257741\n  -72441.0594132   -71027.870383     43062.25888446]\nIntercept :  207121.53176075255\n"
        },
        {
          "data": {
            "text/plain": "0.3840491803301826"
          },
          "execution_count": 43,
          "metadata": {},
          "output_type": "execute_result"
        }
      ]
    },
    {
      "metadata": {},
      "cell_type": "markdown",
      "source": "<p><h4><font color = DarkGreen> Model with 'longitude','latitude','housing_median_age','total_rooms','total_bedrooms','population','households','median_income' variables </font></h4></p>"
    },
    {
      "metadata": {
        "scrolled": true,
        "trusted": false
      },
      "cell_type": "code",
      "source": "model1.fit(X_train[['longitude','latitude','housing_median_age','total_rooms','total_bedrooms','population','households','median_income']],y_train)\nprint(\"Coefficients : \",model1.coef_)\nprint(\"Intercept : \", model1.intercept_)\nmodel1.score(X_train[['longitude','latitude','housing_median_age','total_rooms','total_bedrooms','population','households','median_income']],y_train)",
      "execution_count": 44,
      "outputs": [
        {
          "name": "stdout",
          "output_type": "stream",
          "text": "Coefficients :  [-85413.28005747 -90669.136247    14885.95835764 -17862.58294108\n  48757.37209674 -43589.91735845  17717.71485854  77013.87535191]\nIntercept :  206640.6370318638\n"
        },
        {
          "data": {
            "text/plain": "0.6400947924305294"
          },
          "execution_count": 44,
          "metadata": {},
          "output_type": "execute_result"
        }
      ]
    },
    {
      "metadata": {},
      "cell_type": "markdown",
      "source": "<p><h2><font color = DarkBlue> Effect of adding variables on R2 </font></h2></p>\n\n<img src = \"images/R2Effect.png\">"
    },
    {
      "metadata": {},
      "cell_type": "markdown",
      "source": "<p><h2><font color = DarkBlue> Feature Selection Techniques </font></h2></p>"
    },
    {
      "metadata": {},
      "cell_type": "markdown",
      "source": "<p><h3><font color = Blue> 1. Applying SelectKBest Feature Selection Method </font></h3></p>"
    },
    {
      "metadata": {
        "trusted": false
      },
      "cell_type": "code",
      "source": "from sklearn.feature_selection import SelectKBest, f_regression",
      "execution_count": 85,
      "outputs": []
    },
    {
      "metadata": {
        "trusted": false
      },
      "cell_type": "code",
      "source": "select_feature = SelectKBest(f_regression,k=6).fit(X_train, y_train)",
      "execution_count": 86,
      "outputs": []
    },
    {
      "metadata": {
        "trusted": false
      },
      "cell_type": "code",
      "source": "select_feature.scores_",
      "execution_count": 87,
      "outputs": [
        {
          "data": {
            "text/plain": "array([3.55434501e+01, 3.44579030e+02, 1.79495552e+02, 3.01823325e+02,\n       3.80956840e+01, 1.11961694e+01, 6.72961323e+01, 1.50574391e+04])"
          },
          "execution_count": 87,
          "metadata": {},
          "output_type": "execute_result"
        }
      ]
    },
    {
      "metadata": {
        "trusted": false
      },
      "cell_type": "code",
      "source": "select_feature.pvalues_",
      "execution_count": 88,
      "outputs": [
        {
          "data": {
            "text/plain": "array([2.54505126e-09, 3.82179753e-76, 1.01919784e-40, 5.20398942e-67,\n       6.89318215e-10, 8.21491618e-04, 2.50682998e-16, 0.00000000e+00])"
          },
          "execution_count": 88,
          "metadata": {},
          "output_type": "execute_result"
        }
      ]
    },
    {
      "metadata": {
        "trusted": false
      },
      "cell_type": "code",
      "source": "selected_features_df = pd.DataFrame({'Feature':list(X_train.columns),\n                                     'P_values':select_feature.pvalues_})\nselected_features_df.sort_values(by='P_values', ascending=True)",
      "execution_count": 89,
      "outputs": [
        {
          "data": {
            "text/html": "<div>\n<style scoped>\n    .dataframe tbody tr th:only-of-type {\n        vertical-align: middle;\n    }\n\n    .dataframe tbody tr th {\n        vertical-align: top;\n    }\n\n    .dataframe thead th {\n        text-align: right;\n    }\n</style>\n<table border=\"1\" class=\"dataframe\">\n  <thead>\n    <tr style=\"text-align: right;\">\n      <th></th>\n      <th>Feature</th>\n      <th>P_values</th>\n    </tr>\n  </thead>\n  <tbody>\n    <tr>\n      <th>7</th>\n      <td>median_income</td>\n      <td>0.000000e+00</td>\n    </tr>\n    <tr>\n      <th>1</th>\n      <td>latitude</td>\n      <td>3.821798e-76</td>\n    </tr>\n    <tr>\n      <th>3</th>\n      <td>total_rooms</td>\n      <td>5.203989e-67</td>\n    </tr>\n    <tr>\n      <th>2</th>\n      <td>housing_median_age</td>\n      <td>1.019198e-40</td>\n    </tr>\n    <tr>\n      <th>6</th>\n      <td>households</td>\n      <td>2.506830e-16</td>\n    </tr>\n    <tr>\n      <th>4</th>\n      <td>total_bedrooms</td>\n      <td>6.893182e-10</td>\n    </tr>\n    <tr>\n      <th>0</th>\n      <td>longitude</td>\n      <td>2.545051e-09</td>\n    </tr>\n    <tr>\n      <th>5</th>\n      <td>population</td>\n      <td>8.214916e-04</td>\n    </tr>\n  </tbody>\n</table>\n</div>",
            "text/plain": "              Feature      P_values\n7       median_income  0.000000e+00\n1            latitude  3.821798e-76\n3         total_rooms  5.203989e-67\n2  housing_median_age  1.019198e-40\n6          households  2.506830e-16\n4      total_bedrooms  6.893182e-10\n0           longitude  2.545051e-09\n5          population  8.214916e-04"
          },
          "execution_count": 89,
          "metadata": {},
          "output_type": "execute_result"
        }
      ]
    },
    {
      "metadata": {
        "trusted": false
      },
      "cell_type": "code",
      "source": "X_train_new = select_feature.transform(X_train)\nX_train_new.shape",
      "execution_count": 91,
      "outputs": [
        {
          "data": {
            "text/plain": "(16512, 6)"
          },
          "execution_count": 91,
          "metadata": {},
          "output_type": "execute_result"
        }
      ]
    },
    {
      "metadata": {
        "trusted": false
      },
      "cell_type": "code",
      "source": "model_kbest = model_all.fit(X_train_new,y_train)",
      "execution_count": 92,
      "outputs": []
    },
    {
      "metadata": {
        "trusted": false
      },
      "cell_type": "code",
      "source": "model_kbest.coef_",
      "execution_count": 93,
      "outputs": [
        {
          "data": {
            "text/plain": "array([ -7201.82086955,  24397.45111862, -54757.3570668 ,  63885.16881336,\n          784.47820083,  93449.65845946])"
          },
          "execution_count": 93,
          "metadata": {},
          "output_type": "execute_result"
        }
      ]
    },
    {
      "metadata": {
        "trusted": false
      },
      "cell_type": "code",
      "source": "model_kbest.score(X_train_new,y_train)",
      "execution_count": 94,
      "outputs": [
        {
          "data": {
            "text/plain": "0.5540145192388106"
          },
          "execution_count": 94,
          "metadata": {},
          "output_type": "execute_result"
        }
      ]
    },
    {
      "metadata": {
        "trusted": false
      },
      "cell_type": "code",
      "source": "y_pred_kbest = model_kbest.predict(X_train_new)",
      "execution_count": 97,
      "outputs": []
    },
    {
      "metadata": {
        "trusted": false
      },
      "cell_type": "code",
      "source": "lin_rmse_kbest = np.sqrt(mean_squared_error(y_train, y_pred_kbest))\nlin_rmse_kbest",
      "execution_count": 99,
      "outputs": [
        {
          "data": {
            "text/plain": "77212.93113565829"
          },
          "execution_count": 99,
          "metadata": {},
          "output_type": "execute_result"
        }
      ]
    },
    {
      "metadata": {},
      "cell_type": "markdown",
      "source": "<p><h3><font color = Blue> 2. Applying Recursive Feature Elimination Method </font></h3></p>"
    },
    {
      "metadata": {
        "trusted": false
      },
      "cell_type": "code",
      "source": "from sklearn.feature_selection import RFE",
      "execution_count": 59,
      "outputs": []
    },
    {
      "metadata": {
        "trusted": false
      },
      "cell_type": "code",
      "source": "rfe = RFE(estimator=model_all, step=1)",
      "execution_count": 118,
      "outputs": []
    },
    {
      "metadata": {
        "trusted": false
      },
      "cell_type": "code",
      "source": "rfe.fit(X_train, y_train)",
      "execution_count": 119,
      "outputs": [
        {
          "data": {
            "text/plain": "RFE(estimator=LinearRegression(copy_X=True, fit_intercept=True, n_jobs=None,\n         normalize=False),\n  n_features_to_select=None, step=1, verbose=0)"
          },
          "execution_count": 119,
          "metadata": {},
          "output_type": "execute_result"
        }
      ]
    },
    {
      "metadata": {
        "trusted": false
      },
      "cell_type": "code",
      "source": "selected_rfe_features = pd.DataFrame({'Feature':list(X_train.columns),\n                                      'Ranking':rfe.ranking_})\nselected_rfe_features.sort_values(by='Ranking')",
      "execution_count": 120,
      "outputs": [
        {
          "data": {
            "text/html": "<div>\n<style scoped>\n    .dataframe tbody tr th:only-of-type {\n        vertical-align: middle;\n    }\n\n    .dataframe tbody tr th {\n        vertical-align: top;\n    }\n\n    .dataframe thead th {\n        text-align: right;\n    }\n</style>\n<table border=\"1\" class=\"dataframe\">\n  <thead>\n    <tr style=\"text-align: right;\">\n      <th></th>\n      <th>Feature</th>\n      <th>Ranking</th>\n    </tr>\n  </thead>\n  <tbody>\n    <tr>\n      <th>0</th>\n      <td>longitude</td>\n      <td>1</td>\n    </tr>\n    <tr>\n      <th>1</th>\n      <td>latitude</td>\n      <td>1</td>\n    </tr>\n    <tr>\n      <th>4</th>\n      <td>total_bedrooms</td>\n      <td>1</td>\n    </tr>\n    <tr>\n      <th>7</th>\n      <td>median_income</td>\n      <td>1</td>\n    </tr>\n    <tr>\n      <th>5</th>\n      <td>population</td>\n      <td>2</td>\n    </tr>\n    <tr>\n      <th>3</th>\n      <td>total_rooms</td>\n      <td>3</td>\n    </tr>\n    <tr>\n      <th>6</th>\n      <td>households</td>\n      <td>4</td>\n    </tr>\n    <tr>\n      <th>2</th>\n      <td>housing_median_age</td>\n      <td>5</td>\n    </tr>\n  </tbody>\n</table>\n</div>",
            "text/plain": "              Feature  Ranking\n0           longitude        1\n1            latitude        1\n4      total_bedrooms        1\n7       median_income        1\n5          population        2\n3         total_rooms        3\n6          households        4\n2  housing_median_age        5"
          },
          "execution_count": 120,
          "metadata": {},
          "output_type": "execute_result"
        }
      ]
    },
    {
      "metadata": {
        "trusted": false
      },
      "cell_type": "code",
      "source": "X_train_rfe = rfe.transform(X_train)\nX_train.shape",
      "execution_count": 121,
      "outputs": [
        {
          "data": {
            "text/plain": "(16512, 8)"
          },
          "execution_count": 121,
          "metadata": {},
          "output_type": "execute_result"
        }
      ]
    },
    {
      "metadata": {
        "trusted": false
      },
      "cell_type": "code",
      "source": "model_rfe = model_all.fit(X_train_rfe,y_train)",
      "execution_count": 122,
      "outputs": []
    },
    {
      "metadata": {
        "trusted": false
      },
      "cell_type": "code",
      "source": "model_rfe.coef_",
      "execution_count": 123,
      "outputs": [
        {
          "data": {
            "text/plain": "array([ -99769.10837052, -103067.90916562,    6308.59029907,\n         70148.4231635 ])"
          },
          "execution_count": 123,
          "metadata": {},
          "output_type": "execute_result"
        }
      ]
    },
    {
      "metadata": {
        "trusted": false
      },
      "cell_type": "code",
      "source": "model_rfe.intercept_",
      "execution_count": 124,
      "outputs": [
        {
          "data": {
            "text/plain": "206715.37035221973"
          },
          "execution_count": 124,
          "metadata": {},
          "output_type": "execute_result"
        }
      ]
    },
    {
      "metadata": {
        "trusted": false
      },
      "cell_type": "code",
      "source": "model_rfe.score(X_train_rfe,y_train)",
      "execution_count": 125,
      "outputs": [
        {
          "data": {
            "text/plain": "0.5901689024984468"
          },
          "execution_count": 125,
          "metadata": {},
          "output_type": "execute_result"
        }
      ]
    },
    {
      "metadata": {
        "trusted": false
      },
      "cell_type": "code",
      "source": "y_pred_rfe = model_rfe.predict(X_train_rfe)",
      "execution_count": 126,
      "outputs": []
    },
    {
      "metadata": {
        "trusted": false
      },
      "cell_type": "code",
      "source": "lin_rmse_rfe = np.sqrt(mean_squared_error(y_train, y_pred_rfe))\nlin_rmse_rfe",
      "execution_count": 127,
      "outputs": [
        {
          "data": {
            "text/plain": "74017.11164682292"
          },
          "execution_count": 127,
          "metadata": {},
          "output_type": "execute_result"
        }
      ]
    },
    {
      "metadata": {},
      "cell_type": "markdown",
      "source": "<p><h2><font color = DarkBlue> Predictions on Test Data </font></h2></p>"
    },
    {
      "metadata": {
        "trusted": false
      },
      "cell_type": "code",
      "source": "HTest = pd.read_csv(\"housing_test.csv\")",
      "execution_count": 9,
      "outputs": []
    },
    {
      "metadata": {
        "trusted": false
      },
      "cell_type": "code",
      "source": "HTest.head()",
      "execution_count": 11,
      "outputs": [
        {
          "data": {
            "text/html": "<div>\n<style scoped>\n    .dataframe tbody tr th:only-of-type {\n        vertical-align: middle;\n    }\n\n    .dataframe tbody tr th {\n        vertical-align: top;\n    }\n\n    .dataframe thead th {\n        text-align: right;\n    }\n</style>\n<table border=\"1\" class=\"dataframe\">\n  <thead>\n    <tr style=\"text-align: right;\">\n      <th></th>\n      <th>longitude</th>\n      <th>latitude</th>\n      <th>housing_median_age</th>\n      <th>total_rooms</th>\n      <th>total_bedrooms</th>\n      <th>population</th>\n      <th>households</th>\n      <th>median_income</th>\n      <th>median_house_value</th>\n    </tr>\n  </thead>\n  <tbody>\n    <tr>\n      <th>0</th>\n      <td>0.279366</td>\n      <td>0.200449</td>\n      <td>-0.289187</td>\n      <td>-0.518327</td>\n      <td>-0.242831</td>\n      <td>-0.029562</td>\n      <td>-0.367597</td>\n      <td>-1.152489</td>\n      <td>47700.0</td>\n    </tr>\n    <tr>\n      <th>1</th>\n      <td>0.054757</td>\n      <td>-0.230283</td>\n      <td>0.108104</td>\n      <td>0.140833</td>\n      <td>-0.242831</td>\n      <td>0.123206</td>\n      <td>0.220915</td>\n      <td>-0.705015</td>\n      <td>45800.0</td>\n    </tr>\n    <tr>\n      <th>2</th>\n      <td>-1.432653</td>\n      <td>1.015093</td>\n      <td>1.856182</td>\n      <td>0.547423</td>\n      <td>-0.242831</td>\n      <td>-0.101972</td>\n      <td>1.212230</td>\n      <td>-0.205588</td>\n      <td>500001.0</td>\n    </tr>\n    <tr>\n      <th>3</th>\n      <td>0.424114</td>\n      <td>-0.632923</td>\n      <td>-0.924851</td>\n      <td>0.190339</td>\n      <td>-0.242831</td>\n      <td>0.246834</td>\n      <td>-0.011874</td>\n      <td>0.982710</td>\n      <td>218600.0</td>\n    </tr>\n    <tr>\n      <th>4</th>\n      <td>-1.178096</td>\n      <td>0.462633</td>\n      <td>0.425936</td>\n      <td>-0.130532</td>\n      <td>-0.242831</td>\n      <td>-0.320086</td>\n      <td>-0.187120</td>\n      <td>-0.076678</td>\n      <td>278000.0</td>\n    </tr>\n  </tbody>\n</table>\n</div>",
            "text/plain": "   longitude  latitude  housing_median_age  total_rooms  total_bedrooms  \\\n0   0.279366  0.200449           -0.289187    -0.518327       -0.242831   \n1   0.054757 -0.230283            0.108104     0.140833       -0.242831   \n2  -1.432653  1.015093            1.856182     0.547423       -0.242831   \n3   0.424114 -0.632923           -0.924851     0.190339       -0.242831   \n4  -1.178096  0.462633            0.425936    -0.130532       -0.242831   \n\n   population  households  median_income  median_house_value  \n0   -0.029562   -0.367597      -1.152489             47700.0  \n1    0.123206    0.220915      -0.705015             45800.0  \n2   -0.101972    1.212230      -0.205588            500001.0  \n3    0.246834   -0.011874       0.982710            218600.0  \n4   -0.320086   -0.187120      -0.076678            278000.0  "
          },
          "execution_count": 11,
          "metadata": {},
          "output_type": "execute_result"
        }
      ]
    },
    {
      "metadata": {
        "trusted": false
      },
      "cell_type": "code",
      "source": "X_test = HTest.drop('median_house_value', axis = 1)\nX_test.head()",
      "execution_count": 139,
      "outputs": [
        {
          "data": {
            "text/html": "<div>\n<style scoped>\n    .dataframe tbody tr th:only-of-type {\n        vertical-align: middle;\n    }\n\n    .dataframe tbody tr th {\n        vertical-align: top;\n    }\n\n    .dataframe thead th {\n        text-align: right;\n    }\n</style>\n<table border=\"1\" class=\"dataframe\">\n  <thead>\n    <tr style=\"text-align: right;\">\n      <th></th>\n      <th>longitude</th>\n      <th>latitude</th>\n      <th>housing_median_age</th>\n      <th>total_rooms</th>\n      <th>total_bedrooms</th>\n      <th>population</th>\n      <th>households</th>\n      <th>median_income</th>\n    </tr>\n  </thead>\n  <tbody>\n    <tr>\n      <th>0</th>\n      <td>0.279366</td>\n      <td>0.200449</td>\n      <td>-0.289187</td>\n      <td>-0.518327</td>\n      <td>-0.242831</td>\n      <td>-0.029562</td>\n      <td>-0.367597</td>\n      <td>-1.152489</td>\n    </tr>\n    <tr>\n      <th>1</th>\n      <td>0.054757</td>\n      <td>-0.230283</td>\n      <td>0.108104</td>\n      <td>0.140833</td>\n      <td>-0.242831</td>\n      <td>0.123206</td>\n      <td>0.220915</td>\n      <td>-0.705015</td>\n    </tr>\n    <tr>\n      <th>2</th>\n      <td>-1.432653</td>\n      <td>1.015093</td>\n      <td>1.856182</td>\n      <td>0.547423</td>\n      <td>-0.242831</td>\n      <td>-0.101972</td>\n      <td>1.212230</td>\n      <td>-0.205588</td>\n    </tr>\n    <tr>\n      <th>3</th>\n      <td>0.424114</td>\n      <td>-0.632923</td>\n      <td>-0.924851</td>\n      <td>0.190339</td>\n      <td>-0.242831</td>\n      <td>0.246834</td>\n      <td>-0.011874</td>\n      <td>0.982710</td>\n    </tr>\n    <tr>\n      <th>4</th>\n      <td>-1.178096</td>\n      <td>0.462633</td>\n      <td>0.425936</td>\n      <td>-0.130532</td>\n      <td>-0.242831</td>\n      <td>-0.320086</td>\n      <td>-0.187120</td>\n      <td>-0.076678</td>\n    </tr>\n  </tbody>\n</table>\n</div>",
            "text/plain": "   longitude  latitude  housing_median_age  total_rooms  total_bedrooms  \\\n0   0.279366  0.200449           -0.289187    -0.518327       -0.242831   \n1   0.054757 -0.230283            0.108104     0.140833       -0.242831   \n2  -1.432653  1.015093            1.856182     0.547423       -0.242831   \n3   0.424114 -0.632923           -0.924851     0.190339       -0.242831   \n4  -1.178096  0.462633            0.425936    -0.130532       -0.242831   \n\n   population  households  median_income  \n0   -0.029562   -0.367597      -1.152489  \n1    0.123206    0.220915      -0.705015  \n2   -0.101972    1.212230      -0.205588  \n3    0.246834   -0.011874       0.982710  \n4   -0.320086   -0.187120      -0.076678  "
          },
          "execution_count": 139,
          "metadata": {},
          "output_type": "execute_result"
        }
      ]
    },
    {
      "metadata": {
        "trusted": false
      },
      "cell_type": "code",
      "source": "y_test = HTest['median_house_value']\ny_test.head()",
      "execution_count": 140,
      "outputs": [
        {
          "data": {
            "text/plain": "0     47700.0\n1     45800.0\n2    500001.0\n3    218600.0\n4    278000.0\nName: median_house_value, dtype: float64"
          },
          "execution_count": 140,
          "metadata": {},
          "output_type": "execute_result"
        }
      ]
    },
    {
      "metadata": {
        "trusted": false
      },
      "cell_type": "code",
      "source": "y_pred_test = model_all.predict(X_test)\nrmse_test = np.sqrt(mean_squared_error(y_test, y_pred_test))\nSSE = np.sum((y_pred_test-y_test)**2)\nSST = np.sum((y_test-np.mean(y_train))**2)\nr2_test = 1 - SSE/SST\nprint(\"Test RMSE : \", rmse_test)\nprint(\"Test SSE : \", SSE)\nprint(\"Test SST : \", SST)\nprint(\"Test R2 : \", r2_test)",
      "execution_count": 141,
      "outputs": [
        {
          "name": "stdout",
          "output_type": "stream",
          "text": "Test RMSE :  71133.17349286027\nTest SSE :  20887384316170.6\nTest SST :  54105533852322.5\nTest R2 :  0.6139510540052826\n"
        }
      ]
    }
  ],
  "metadata": {
    "kernelspec": {
      "name": "python3",
      "display_name": "Python 3",
      "language": "python"
    },
    "language_info": {
      "mimetype": "text/x-python",
      "nbconvert_exporter": "python",
      "name": "python",
      "file_extension": ".py",
      "version": "3.5.4",
      "pygments_lexer": "ipython3",
      "codemirror_mode": {
        "version": 3,
        "name": "ipython"
      }
    }
  },
  "nbformat": 4,
  "nbformat_minor": 2
}