{
  "cells": [
    {
      "metadata": {},
      "cell_type": "markdown",
      "source": "# Credit Risk Modelling"
    },
    {
      "metadata": {},
      "cell_type": "markdown",
      "source": "**Description:**\nIn this competition, you must explore and cleanse a dataset consisting of over 111,000 loan records to determine the best way to predict whether a loan applicant will fully repay or default on a loan. You must then build a machine learning model that returns the unique loan ID and a loan status label that indicates whether the loan will be fully paid or charged off."
    },
    {
      "metadata": {},
      "cell_type": "markdown",
      "source": "### Getting all the Dependencies"
    },
    {
      "metadata": {
        "trusted": true
      },
      "cell_type": "markdown",
      "source": "# Installing dependencies\n!pip install --upgrade pip\n!pip install numpy --upgrade --user\n!pip install pandas --upgrade --user\n!pip install scikit-learn --upgrade --user"
    },
    {
      "metadata": {
        "trusted": true
      },
      "cell_type": "code",
      "source": "# Avoiding Warnings\nimport warnings\nwarnings.simplefilter(action='ignore', category=UserWarning)\nwarnings.simplefilter(action='ignore', category=FutureWarning)",
      "execution_count": 1,
      "outputs": []
    },
    {
      "metadata": {
        "trusted": true,
        "scrolled": true
      },
      "cell_type": "code",
      "source": "# Importing Dependencies\nimport numpy as np\nimport pandas as pd\nimport matplotlib.pyplot as plt\nimport seaborn as sns\nimport re\nfrom sklearn.experimental import enable_iterative_imputer\nfrom sklearn.impute import IterativeImputer\n%matplotlib inline\npd.options.display.float_format = '{:.3f}'.format",
      "execution_count": 2,
      "outputs": [
        {
          "output_type": "error",
          "ename": "ModuleNotFoundError",
          "evalue": "No module named 'sklearn.experimental'",
          "traceback": [
            "\u001b[0;31m---------------------------------------------------------------------------\u001b[0m",
            "\u001b[0;31mModuleNotFoundError\u001b[0m                       Traceback (most recent call last)",
            "\u001b[0;32m<ipython-input-2-fb99e23d2460>\u001b[0m in \u001b[0;36m<module>\u001b[0;34m\u001b[0m\n\u001b[1;32m      5\u001b[0m \u001b[0;32mimport\u001b[0m \u001b[0mseaborn\u001b[0m \u001b[0;32mas\u001b[0m \u001b[0msns\u001b[0m\u001b[0;34m\u001b[0m\u001b[0m\n\u001b[1;32m      6\u001b[0m \u001b[0;32mimport\u001b[0m \u001b[0mre\u001b[0m\u001b[0;34m\u001b[0m\u001b[0m\n\u001b[0;32m----> 7\u001b[0;31m \u001b[0;32mfrom\u001b[0m \u001b[0msklearn\u001b[0m\u001b[0;34m.\u001b[0m\u001b[0mexperimental\u001b[0m \u001b[0;32mimport\u001b[0m \u001b[0menable_iterative_imputer\u001b[0m\u001b[0;34m\u001b[0m\u001b[0m\n\u001b[0m\u001b[1;32m      8\u001b[0m \u001b[0;32mfrom\u001b[0m \u001b[0msklearn\u001b[0m\u001b[0;34m.\u001b[0m\u001b[0mimpute\u001b[0m \u001b[0;32mimport\u001b[0m \u001b[0mIterativeImputer\u001b[0m\u001b[0;34m\u001b[0m\u001b[0m\n\u001b[1;32m      9\u001b[0m \u001b[0mget_ipython\u001b[0m\u001b[0;34m(\u001b[0m\u001b[0;34m)\u001b[0m\u001b[0;34m.\u001b[0m\u001b[0mrun_line_magic\u001b[0m\u001b[0;34m(\u001b[0m\u001b[0;34m'matplotlib'\u001b[0m\u001b[0;34m,\u001b[0m \u001b[0;34m'inline'\u001b[0m\u001b[0;34m)\u001b[0m\u001b[0;34m\u001b[0m\u001b[0m\n",
            "\u001b[0;31mModuleNotFoundError\u001b[0m: No module named 'sklearn.experimental'"
          ]
        }
      ]
    },
    {
      "metadata": {},
      "cell_type": "markdown",
      "source": "### Loading the Data"
    },
    {
      "metadata": {
        "trusted": true
      },
      "cell_type": "code",
      "source": "# Importing Dataset\ntrain = pd.read_csv(\"https://dim-mlpython.s3.amazonaws.com/CreditRiskModeling/train.csv\", low_memory=False)\ntest = pd.read_csv(\"https://dim-mlpython.s3.amazonaws.com/CreditRiskModeling/test.csv\", low_memory=False)",
      "execution_count": null,
      "outputs": []
    },
    {
      "metadata": {
        "trusted": true
      },
      "cell_type": "code",
      "source": "",
      "execution_count": null,
      "outputs": []
    },
    {
      "metadata": {},
      "cell_type": "markdown",
      "source": "### Describing the data"
    },
    {
      "metadata": {
        "trusted": true
      },
      "cell_type": "code",
      "source": "# For each column heading we replace \" \" and convert the heading in lowercase \ncleancolumn = []\nfor i in range(len(train.columns)):\n    cleancolumn.append(train.columns[i].replace(' ', '_').lower())\ntrain.columns = cleancolumn",
      "execution_count": null,
      "outputs": []
    },
    {
      "metadata": {
        "trusted": true
      },
      "cell_type": "code",
      "source": "train.head()",
      "execution_count": null,
      "outputs": []
    },
    {
      "metadata": {
        "trusted": true,
        "scrolled": true
      },
      "cell_type": "code",
      "source": "print(train.shape)\ntrain.describe()",
      "execution_count": null,
      "outputs": []
    },
    {
      "metadata": {
        "trusted": true
      },
      "cell_type": "code",
      "source": "train.info()",
      "execution_count": null,
      "outputs": []
    },
    {
      "metadata": {},
      "cell_type": "markdown",
      "source": "### Removing the duplicates"
    },
    {
      "metadata": {},
      "cell_type": "markdown",
      "source": "Loan ID is unique for every loan process so we will use Loan ID to remove duplicates"
    },
    {
      "metadata": {
        "trusted": true,
        "scrolled": true
      },
      "cell_type": "code",
      "source": "# Check the unique values, to see if there is any duplicates\nunique_loanid=train['loan_id'].unique().tolist()\nprint(\"Total samples in data:\", str(train.shape[0]))\nprint(\"Total unique samples in data:\", str(len(unique_loanid)))\nprint(\"Duplicate samples in data:\", str(train.shape[0] - len(unique_loanid)))",
      "execution_count": null,
      "outputs": []
    },
    {
      "metadata": {
        "trusted": true
      },
      "cell_type": "code",
      "source": "# Drop the duplicates\ntrain = train.drop_duplicates()\nprint(\"Total samples in data:\", str(train.shape[0]))\nprint(\"Total unique samples in data:\", str(len(unique_loanid)))\nprint(\"Duplicate samples in data:\", str(train.shape[0] - len(unique_loanid)))",
      "execution_count": null,
      "outputs": []
    },
    {
      "metadata": {
        "trusted": true,
        "scrolled": false
      },
      "cell_type": "code",
      "source": "#Get the duplicates\ndup_loanid=train[train.duplicated(['loan_id'],keep=False)]\nprint(dup_loanid.shape)\ndup_loanid.describe()",
      "execution_count": null,
      "outputs": []
    },
    {
      "metadata": {
        "trusted": true,
        "scrolled": true
      },
      "cell_type": "code",
      "source": "#Sort the duplicate dataframe in ascending order with NA's in last\nsorted_df=dup_loanid.sort_values(['current_loan_amount', 'credit_score'], ascending=True, na_position='last')\nsorted_df.head()",
      "execution_count": null,
      "outputs": []
    },
    {
      "metadata": {
        "trusted": true,
        "scrolled": false
      },
      "cell_type": "code",
      "source": "#Considering samples which are genuine\ncorrect_df = sorted_df.drop_duplicates(['loan_id'], keep='first')\nprint(correct_df.shape)\ncorrect_df.head()",
      "execution_count": null,
      "outputs": []
    },
    {
      "metadata": {
        "trusted": true,
        "scrolled": true
      },
      "cell_type": "code",
      "source": "#Check if there is any such placeholder in duplicates\ncorrect_df[correct_df['current_loan_amount']==99999999]",
      "execution_count": null,
      "outputs": []
    },
    {
      "metadata": {
        "trusted": true,
        "scrolled": true
      },
      "cell_type": "code",
      "source": "#check if there is still Na's in duplicates\ncorrect_df[correct_df['credit_score'].isnull()]",
      "execution_count": null,
      "outputs": []
    },
    {
      "metadata": {
        "trusted": true
      },
      "cell_type": "code",
      "source": "# Droping the duplicate loan ID's \ntrain.drop_duplicates(['loan_id'], keep=False, inplace=True)",
      "execution_count": null,
      "outputs": []
    },
    {
      "metadata": {
        "trusted": true
      },
      "cell_type": "code",
      "source": "train.shape",
      "execution_count": null,
      "outputs": []
    },
    {
      "metadata": {
        "trusted": true
      },
      "cell_type": "code",
      "source": "# Getting the final train data which is all genuine\ntrain = train.append(correct_df, ignore_index=True)\nprint(train.shape)\ntrain.describe()",
      "execution_count": null,
      "outputs": []
    },
    {
      "metadata": {},
      "cell_type": "markdown",
      "source": "### Preprocessing / Cleaning the data"
    },
    {
      "metadata": {},
      "cell_type": "markdown",
      "source": "#### Feature: Years in Current Job"
    },
    {
      "metadata": {},
      "cell_type": "markdown",
      "source": "Remove the special charachters and other words and make it numeric."
    },
    {
      "metadata": {
        "trusted": true,
        "scrolled": true
      },
      "cell_type": "code",
      "source": "train['years_in_current_job'].unique()",
      "execution_count": null,
      "outputs": []
    },
    {
      "metadata": {
        "trusted": true
      },
      "cell_type": "code",
      "source": "train['years_in_current_job'] = [0 if str(x)=='< 1 year' else x if str(x)=='nan' else int(re.findall(r'\\d+', str(x))[0]) for x in train['years_in_current_job']]\ntrain['years_in_current_job'].unique()",
      "execution_count": null,
      "outputs": []
    },
    {
      "metadata": {},
      "cell_type": "markdown",
      "source": "#### Feature: Credit Score"
    },
    {
      "metadata": {},
      "cell_type": "markdown",
      "source": "Credit Score range is from 0 to 800 but there are some values greater than this basically this is some data error."
    },
    {
      "metadata": {
        "trusted": true
      },
      "cell_type": "code",
      "source": "train['credit_score'].head(10)",
      "execution_count": null,
      "outputs": []
    },
    {
      "metadata": {
        "trusted": true
      },
      "cell_type": "code",
      "source": "# Function to bring credit score in range\ndef credit_range(x):\n    if x > 800:\n        return int(x/10)\n    elif str(x) == 'nan' : \n        return x\n    else:\n        return int(x)",
      "execution_count": null,
      "outputs": []
    },
    {
      "metadata": {
        "trusted": true,
        "scrolled": false
      },
      "cell_type": "code",
      "source": "train['credit_score'] = train['credit_score'].map(credit_range)\ntrain['credit_score'].head(10)",
      "execution_count": null,
      "outputs": []
    },
    {
      "metadata": {},
      "cell_type": "markdown",
      "source": "#### Feature: Maximum Open Credit"
    },
    {
      "metadata": {},
      "cell_type": "markdown",
      "source": "There is one data error which needs to be handled."
    },
    {
      "metadata": {
        "trusted": true
      },
      "cell_type": "code",
      "source": "print(train.shape)\ntrain[train['maximum_open_credit']=='#VALUE!']",
      "execution_count": null,
      "outputs": []
    },
    {
      "metadata": {
        "trusted": true
      },
      "cell_type": "code",
      "source": "train = train[train['maximum_open_credit'] != '#VALUE!']\ntrain['maximum_open_credit']= pd.to_numeric(train['maximum_open_credit'])\ntrain.shape",
      "execution_count": null,
      "outputs": []
    },
    {
      "metadata": {},
      "cell_type": "markdown",
      "source": "#### Feature: Monthly Debt"
    },
    {
      "metadata": {},
      "cell_type": "markdown",
      "source": "Monthly debt has Currency symbol due to which its datatype is string, remove it and convert it to numeric."
    },
    {
      "metadata": {
        "trusted": true,
        "scrolled": true
      },
      "cell_type": "code",
      "source": "train['monthly_debt']=train['monthly_debt'].str.strip('$')\ntrain['monthly_debt']=pd.to_numeric(train['monthly_debt'])\ntrain['monthly_debt'].describe()",
      "execution_count": null,
      "outputs": []
    },
    {
      "metadata": {},
      "cell_type": "markdown",
      "source": "### Handling Missing Values and Outliers"
    },
    {
      "metadata": {},
      "cell_type": "markdown",
      "source": "Describe the data and check which feature has Missing Values and if there is any Outlier. "
    },
    {
      "metadata": {
        "trusted": true,
        "scrolled": false
      },
      "cell_type": "code",
      "source": "train.describe()",
      "execution_count": null,
      "outputs": []
    },
    {
      "metadata": {},
      "cell_type": "markdown",
      "source": "#### Outlier treatment: Current Loan Amount"
    },
    {
      "metadata": {
        "trusted": true
      },
      "cell_type": "code",
      "source": "ax = sns.boxplot(data=train['current_loan_amount'], orient=\"h\", palette=\"Set2\")",
      "execution_count": null,
      "outputs": []
    },
    {
      "metadata": {
        "trusted": true
      },
      "cell_type": "code",
      "source": "# check the description their is a placeholder in max value\ntrain[train['current_loan_amount']==99999999.000]",
      "execution_count": null,
      "outputs": []
    },
    {
      "metadata": {
        "trusted": true
      },
      "cell_type": "code",
      "source": "#There are such 5861 samples, which is not low so need to replace it by NA's\ntrain['current_loan_amount'] = [np.nan if int(x)==99999999 else x for x in train['current_loan_amount']]",
      "execution_count": null,
      "outputs": []
    },
    {
      "metadata": {
        "trusted": true,
        "scrolled": true
      },
      "cell_type": "code",
      "source": "ax = sns.boxplot(data=train['current_loan_amount'], orient=\"h\", palette=\"Set2\")",
      "execution_count": null,
      "outputs": []
    },
    {
      "metadata": {
        "trusted": true,
        "scrolled": true
      },
      "cell_type": "code",
      "source": "train.describe()",
      "execution_count": null,
      "outputs": []
    },
    {
      "metadata": {},
      "cell_type": "markdown",
      "source": "#### Outlier treatment: Annual Income"
    },
    {
      "metadata": {
        "trusted": true
      },
      "cell_type": "code",
      "source": "ax = sns.boxplot(data=train['annual_income'], orient=\"h\", palette=\"Set2\")",
      "execution_count": null,
      "outputs": []
    },
    {
      "metadata": {
        "trusted": true,
        "scrolled": true
      },
      "cell_type": "code",
      "source": "train[train['annual_income']==8713547.000]",
      "execution_count": null,
      "outputs": []
    },
    {
      "metadata": {
        "trusted": true
      },
      "cell_type": "code",
      "source": "train = train[train['annual_income']!=8713547.000]\ntrain.shape",
      "execution_count": null,
      "outputs": []
    },
    {
      "metadata": {
        "trusted": true,
        "scrolled": false
      },
      "cell_type": "code",
      "source": "ax = sns.boxplot(data=train['annual_income'], orient=\"h\", palette=\"Set2\")",
      "execution_count": null,
      "outputs": []
    },
    {
      "metadata": {
        "trusted": true,
        "scrolled": true
      },
      "cell_type": "code",
      "source": "train[train['annual_income']>1200000]",
      "execution_count": null,
      "outputs": []
    },
    {
      "metadata": {
        "trusted": true
      },
      "cell_type": "code",
      "source": "train = train.drop([3686, 11660, 46615])",
      "execution_count": null,
      "outputs": []
    },
    {
      "metadata": {
        "trusted": true
      },
      "cell_type": "code",
      "source": "ax = sns.distplot(train['annual_income'].dropna(), hist=True, kde=True, \n             color = 'darkblue', \n             hist_kws={'edgecolor':'black'},\n             kde_kws={'linewidth': 2})\nax.set(xlabel='Annual Income') \nplt.title('Annual Income frequency chart'); \nplt.show()",
      "execution_count": null,
      "outputs": []
    },
    {
      "metadata": {
        "trusted": true,
        "scrolled": true
      },
      "cell_type": "code",
      "source": "train.describe()",
      "execution_count": null,
      "outputs": []
    },
    {
      "metadata": {},
      "cell_type": "markdown",
      "source": "#### Outlier Treatment: Years of Credit History"
    },
    {
      "metadata": {
        "trusted": true,
        "scrolled": true
      },
      "cell_type": "code",
      "source": "ax = sns.boxplot(data=train['years_of_credit_history'], orient=\"h\", palette=\"Set2\")",
      "execution_count": null,
      "outputs": []
    },
    {
      "metadata": {
        "trusted": true,
        "scrolled": true
      },
      "cell_type": "code",
      "source": "train[train['years_of_credit_history']>58]",
      "execution_count": null,
      "outputs": []
    },
    {
      "metadata": {
        "trusted": true
      },
      "cell_type": "code",
      "source": "train = train.drop([1908, 32096, 45779, 49017, 61832])",
      "execution_count": null,
      "outputs": []
    },
    {
      "metadata": {
        "trusted": true,
        "scrolled": true
      },
      "cell_type": "code",
      "source": "ax = sns.boxplot(data=train['years_of_credit_history'], orient=\"h\", palette=\"Set2\")",
      "execution_count": null,
      "outputs": []
    },
    {
      "metadata": {
        "trusted": true,
        "scrolled": true
      },
      "cell_type": "code",
      "source": "train.describe()",
      "execution_count": null,
      "outputs": []
    },
    {
      "metadata": {},
      "cell_type": "markdown",
      "source": "#### Outlier treatment: Number of Open Accounts"
    },
    {
      "metadata": {
        "trusted": true,
        "scrolled": true
      },
      "cell_type": "code",
      "source": "ax = sns.boxplot(data=train['number_of_open_accounts'], orient=\"h\", palette=\"Set2\")",
      "execution_count": null,
      "outputs": []
    },
    {
      "metadata": {
        "trusted": true,
        "scrolled": true
      },
      "cell_type": "code",
      "source": "train[train['number_of_open_accounts']>50]",
      "execution_count": null,
      "outputs": []
    },
    {
      "metadata": {
        "trusted": true
      },
      "cell_type": "code",
      "source": "train = train.drop([26502, 26637, 27936, 39254])",
      "execution_count": null,
      "outputs": []
    },
    {
      "metadata": {
        "trusted": true,
        "scrolled": true
      },
      "cell_type": "code",
      "source": "ax = sns.boxplot(data=train['number_of_open_accounts'], orient=\"h\", palette=\"Set2\")",
      "execution_count": null,
      "outputs": []
    },
    {
      "metadata": {
        "trusted": true,
        "scrolled": true
      },
      "cell_type": "code",
      "source": "#Capping the outliers\nIQR = train['number_of_open_accounts'].quantile(0.75) - train['number_of_open_accounts'].quantile(0.25)\nupper_limit = train['number_of_open_accounts'].quantile(0.75) + (IQR * 1.5)\nprint(\"Upper Limit:\", upper_limit)",
      "execution_count": null,
      "outputs": []
    },
    {
      "metadata": {
        "trusted": true,
        "scrolled": true
      },
      "cell_type": "code",
      "source": "train['number_of_open_accounts'] = [23.0 if ( x>23.0 and x!=np.nan) else x for x in train['number_of_open_accounts']]\nax = sns.boxplot(data=train['number_of_open_accounts'], orient=\"h\", palette=\"Set2\")",
      "execution_count": null,
      "outputs": []
    },
    {
      "metadata": {
        "trusted": true,
        "scrolled": true
      },
      "cell_type": "code",
      "source": "print(train.shape)\ntrain.describe()",
      "execution_count": null,
      "outputs": []
    },
    {
      "metadata": {},
      "cell_type": "markdown",
      "source": "Now, all outliers has been handled so let's check the missing values."
    },
    {
      "metadata": {
        "trusted": true
      },
      "cell_type": "code",
      "source": "train.isnull().sum()",
      "execution_count": null,
      "outputs": []
    },
    {
      "metadata": {},
      "cell_type": "markdown",
      "source": "#### Missing Value Treatment: Bankruptcies & Tax Liens"
    },
    {
      "metadata": {},
      "cell_type": "markdown",
      "source": "Reference Link for Iterative Imputing:\nhttps://scikit-learn.org/stable/auto_examples/impute/plot_iterative_imputer_variants_comparison.html#sphx-glr-auto-examples-impute-plot-iterative-imputer-variants-comparison-py"
    },
    {
      "metadata": {
        "trusted": true
      },
      "cell_type": "code",
      "source": "# Since percentage value of Missing values in Bankruptcies and Tax Liens are very low we can delete the rows\ntrain = train.dropna(subset=['bankruptcies', 'tax_liens'])\nprint(train.shape)\ntrain.isnull().sum()",
      "execution_count": null,
      "outputs": []
    },
    {
      "metadata": {},
      "cell_type": "markdown",
      "source": "#### Missing Value Treatment: Months Since Last Delinquent"
    },
    {
      "metadata": {},
      "cell_type": "markdown",
      "source": "This feature describes the number of months since the credit is not paid, so NA's actually are the genuine customers so replacing it with 0."
    },
    {
      "metadata": {
        "trusted": true
      },
      "cell_type": "code",
      "source": "train[\"months_since_last_delinquent\"].fillna(0, inplace = True)\nprint(train.shape)\ntrain.isnull().sum()",
      "execution_count": null,
      "outputs": []
    },
    {
      "metadata": {},
      "cell_type": "markdown",
      "source": "#### Missing Value Treatment: Current Loan Amount, Credit Score, Years In Current Job, Annual Income"
    },
    {
      "metadata": {},
      "cell_type": "markdown",
      "source": "Applying **'Iterative Imputer'** using default estimator **'Bayesian Ridge'** which is **Regularized Linear Regression**."
    },
    {
      "metadata": {
        "trusted": true
      },
      "cell_type": "code",
      "source": "train.reset_index(drop=True, inplace=True)\nmy_imputer = IterativeImputer()\n#For this we need only numerical variables so filtering this\ntrain_numerical = train._get_numeric_data()\ntrain_numerical_columns = train_numerical.columns \nprint(train_numerical.shape)\ntrain_numerical.isnull().sum()",
      "execution_count": null,
      "outputs": []
    },
    {
      "metadata": {
        "trusted": true
      },
      "cell_type": "code",
      "source": "train_imputed = my_imputer.fit_transform(train_numerical)\n#Imputer will give the array as an object so need to convert it to Dataframe with columns\ntrain_imputed = pd.DataFrame(train_imputed, columns=train_numerical_columns)\ntrain_imputed.isnull().sum()",
      "execution_count": null,
      "outputs": []
    },
    {
      "metadata": {
        "trusted": true,
        "scrolled": true
      },
      "cell_type": "code",
      "source": "train_imputed.describe()",
      "execution_count": null,
      "outputs": []
    },
    {
      "metadata": {},
      "cell_type": "markdown",
      "source": "Plotting histogram to see the difference between without na values and after replacing na values with Iterative Imputer. <br>\ntrain_numerical is our Dataframe with NA's, while, train_imputed is our Dataframe without NA's."
    },
    {
      "metadata": {},
      "cell_type": "markdown",
      "source": "#### Histogram: Current Loan Amount"
    },
    {
      "metadata": {
        "trusted": true
      },
      "cell_type": "code",
      "source": "ax = sns.distplot(train_numerical['current_loan_amount'].dropna(), hist=True, kde=True, \n             bins=int(42740/1000), color = 'darkblue', \n             hist_kws={'edgecolor':'black'},\n             kde_kws={'linewidth': 2})\nax.set(xlabel='Current Loan Amount') \nplt.title('Current Loan Amount before Imputation'); \nplt.show()",
      "execution_count": null,
      "outputs": []
    },
    {
      "metadata": {
        "trusted": true,
        "scrolled": false
      },
      "cell_type": "code",
      "source": "ax = sns.distplot(train_imputed['current_loan_amount'], hist=True, kde=True, \n             bins=int(42740/1000), color = 'darkblue', \n             hist_kws={'edgecolor':'black'},\n             kde_kws={'linewidth': 2})\nax.set(xlabel='Current Loan Amount') \nplt.title('Current Loan Amount after Imputation'); \nplt.show()",
      "execution_count": null,
      "outputs": []
    },
    {
      "metadata": {
        "trusted": true
      },
      "cell_type": "code",
      "source": "temp = train_imputed[train_imputed['current_loan_amount']<40000]",
      "execution_count": null,
      "outputs": []
    },
    {
      "metadata": {
        "trusted": true,
        "scrolled": true
      },
      "cell_type": "code",
      "source": "ax = sns.distplot(temp['current_loan_amount'], hist=True, kde=True, \n             bins=int(42740/1000), color = 'darkblue', \n             hist_kws={'edgecolor':'black'},\n             kde_kws={'linewidth': 2})\nax.set(xlabel='Current Loan Amount') \nplt.title('Current Loan Amount after Imputation'); \nplt.show()",
      "execution_count": null,
      "outputs": []
    },
    {
      "metadata": {},
      "cell_type": "markdown",
      "source": "#### Histogram: Credit Score"
    },
    {
      "metadata": {
        "trusted": true,
        "scrolled": true
      },
      "cell_type": "code",
      "source": "ax = sns.distplot(train_numerical['credit_score'].dropna(), hist=True, kde=True, \n             bins=int(800/20), color = 'darkblue', \n             hist_kws={'edgecolor':'black'},\n             kde_kws={'linewidth': 2})\nax.set(xlabel='Credit Score') \nplt.title('Credit Score before Imputation'); \nplt.show()",
      "execution_count": null,
      "outputs": []
    },
    {
      "metadata": {
        "trusted": true,
        "scrolled": false
      },
      "cell_type": "code",
      "source": "ax = sns.distplot(train_imputed['credit_score'], hist=True, kde=True, \n             bins=int(800/20), color = 'darkblue', \n             hist_kws={'edgecolor':'black'},\n             kde_kws={'linewidth': 2})\nax.set(xlabel='Credit Score') \nplt.title('Credit Score after Imputation'); \nplt.show() ",
      "execution_count": null,
      "outputs": []
    },
    {
      "metadata": {},
      "cell_type": "markdown",
      "source": "#### Histogram: Annual Income"
    },
    {
      "metadata": {
        "trusted": true,
        "scrolled": true
      },
      "cell_type": "code",
      "source": "ax = sns.distplot(train_numerical['annual_income'].dropna(), hist=True, kde=True, \n             bins=int(215580/10000), color = 'darkblue', \n             hist_kws={'edgecolor':'black'},\n             kde_kws={'linewidth': 2})\nax.set(xlabel='Annual Income') \nplt.title('Annual Income before Imputation'); \nplt.show()",
      "execution_count": null,
      "outputs": []
    },
    {
      "metadata": {
        "trusted": true
      },
      "cell_type": "code",
      "source": "ax = sns.distplot(train_imputed['annual_income'], hist=True, kde=True, \n             bins=int(215580/10000), color = 'darkblue', \n             hist_kws={'edgecolor':'black'},\n             kde_kws={'linewidth': 2})\nax.set(xlabel='Annual Income') \nplt.title('Annual Income after Imputation'); \nplt.show()",
      "execution_count": null,
      "outputs": []
    },
    {
      "metadata": {},
      "cell_type": "markdown",
      "source": "#### Histogram: Years In Current Job"
    },
    {
      "metadata": {
        "trusted": true
      },
      "cell_type": "code",
      "source": "ax = sns.distplot(train_numerical['years_in_current_job'].dropna(), hist=True, kde=True, \n             bins=int(215580/10000), color = 'darkblue', \n             hist_kws={'edgecolor':'black'},\n             kde_kws={'linewidth': 2})\nax.set(xlabel='Years In Current Job') \nplt.title('Years In Current Job before Imputation'); \nplt.show()",
      "execution_count": null,
      "outputs": []
    },
    {
      "metadata": {
        "trusted": true
      },
      "cell_type": "code",
      "source": "ax = sns.distplot(train_imputed['years_in_current_job'], hist=True, kde=True, \n             bins=int(215580/10000), color = 'darkblue', \n             hist_kws={'edgecolor':'black'},\n             kde_kws={'linewidth': 2})\nax.set(xlabel='Years In Current Job') \nplt.title('Years In Current Job after Imputation'); \nplt.show()",
      "execution_count": null,
      "outputs": []
    },
    {
      "metadata": {},
      "cell_type": "markdown",
      "source": "Replacing the feature in Train dataframe by above Imputed dataframe."
    },
    {
      "metadata": {
        "trusted": true
      },
      "cell_type": "code",
      "source": "train_imputed.shape",
      "execution_count": null,
      "outputs": []
    },
    {
      "metadata": {
        "trusted": true
      },
      "cell_type": "code",
      "source": "train.shape",
      "execution_count": null,
      "outputs": []
    },
    {
      "metadata": {
        "trusted": true
      },
      "cell_type": "code",
      "source": "train['years_in_current_job'] = train_imputed['years_in_current_job']\ntrain['current_loan_amount'] = train_imputed['current_loan_amount']\ntrain['credit_score'] = train_imputed['credit_score']\ntrain['annual_income'] = train_imputed['annual_income']",
      "execution_count": null,
      "outputs": []
    },
    {
      "metadata": {
        "trusted": true
      },
      "cell_type": "code",
      "source": "print(train.shape)\ntrain.isnull().sum()",
      "execution_count": null,
      "outputs": []
    },
    {
      "metadata": {},
      "cell_type": "markdown",
      "source": "#### Converting Months since last delinquent into categories"
    },
    {
      "metadata": {
        "trusted": true
      },
      "cell_type": "code",
      "source": "train['months_since_last_delinquent'] = ['extreme_risk' if x>51 \n        else 'high_risk' if x>32 \n        else 'moderate_risk' if x>16 \n        else 'low_risk' if x>0 else 'no_risk' for x in train['months_since_last_delinquent']]",
      "execution_count": null,
      "outputs": []
    },
    {
      "metadata": {
        "trusted": true
      },
      "cell_type": "code",
      "source": "train['months_since_last_delinquent'].unique()",
      "execution_count": null,
      "outputs": []
    },
    {
      "metadata": {
        "trusted": true
      },
      "cell_type": "code",
      "source": "# For each column heading we replace \" \" and convert the heading in lowercase \ncleancolumn = []\nfor i in range(len(test.columns)):\n    cleancolumn.append(test.columns[i].replace(' ', '_').lower())\ntest.columns = cleancolumn",
      "execution_count": null,
      "outputs": []
    },
    {
      "metadata": {
        "trusted": true
      },
      "cell_type": "code",
      "source": "test.head()",
      "execution_count": null,
      "outputs": []
    },
    {
      "metadata": {
        "trusted": true
      },
      "cell_type": "code",
      "source": "print(test.shape)\ntest.describe()",
      "execution_count": null,
      "outputs": []
    },
    {
      "metadata": {
        "trusted": true
      },
      "cell_type": "code",
      "source": "test.info()",
      "execution_count": null,
      "outputs": []
    },
    {
      "metadata": {
        "trusted": true
      },
      "cell_type": "code",
      "source": "# Check the unique values, to see if there is any duplicates\nunique_loanid_test=test['loan_id'].unique().tolist()\nprint(\"Total samples in data:\", str(test.shape[0]))\nprint(\"Total unique samples in data:\", str(len(unique_loanid_test)))\nprint(\"Duplicate samples in data:\", str(test.shape[0] - len(unique_loanid_test)))",
      "execution_count": null,
      "outputs": []
    },
    {
      "metadata": {
        "trusted": true
      },
      "cell_type": "code",
      "source": "# Drop the duplicates\ntest = test.drop_duplicates()\nprint(\"Total samples in data:\", str(test.shape[0]))\nprint(\"Total unique samples in data:\", str(len(unique_loanid_test)))\nprint(\"Duplicate samples in data:\", str(test.shape[0] - len(unique_loanid_test)))",
      "execution_count": null,
      "outputs": []
    },
    {
      "metadata": {
        "trusted": true
      },
      "cell_type": "code",
      "source": "test['years_in_current_job'].unique()",
      "execution_count": null,
      "outputs": []
    },
    {
      "metadata": {
        "trusted": true
      },
      "cell_type": "code",
      "source": "test['years_in_current_job'] = [1 if str(x)=='1 year' else x if str(x)=='nan' else int(re.findall(r'\\d+', str(x))[0]) for x in test['years_in_current_job']]\ntest['years_in_current_job'].unique()",
      "execution_count": null,
      "outputs": []
    },
    {
      "metadata": {
        "trusted": true
      },
      "cell_type": "code",
      "source": "test['credit_score'].head(10)",
      "execution_count": null,
      "outputs": []
    },
    {
      "metadata": {
        "trusted": true
      },
      "cell_type": "code",
      "source": "test['credit_score'] = test['credit_score'].map(credit_range)\ntest['credit_score'].head(10)",
      "execution_count": null,
      "outputs": []
    },
    {
      "metadata": {
        "trusted": true
      },
      "cell_type": "code",
      "source": "print(test.shape)\ntest[test['maximum_open_credit']=='#VALUE!']",
      "execution_count": null,
      "outputs": []
    },
    {
      "metadata": {
        "trusted": true
      },
      "cell_type": "code",
      "source": "test = test[test['maximum_open_credit'] != '#VALUE!']\ntest['maximum_open_credit']= pd.to_numeric(test['maximum_open_credit'])\ntest.shape",
      "execution_count": null,
      "outputs": []
    },
    {
      "metadata": {
        "trusted": true
      },
      "cell_type": "code",
      "source": "test['monthly_debt']=test['monthly_debt'].str.strip('$')\ntest['monthly_debt']=pd.to_numeric(test['monthly_debt'])\ntest['monthly_debt'].describe()",
      "execution_count": null,
      "outputs": []
    },
    {
      "metadata": {
        "trusted": true
      },
      "cell_type": "code",
      "source": "ax = sns.boxplot(data=test['current_loan_amount'], orient=\"h\", palette=\"Set2\")",
      "execution_count": null,
      "outputs": []
    },
    {
      "metadata": {
        "trusted": true
      },
      "cell_type": "code",
      "source": "test[test['current_loan_amount']==99999999.000]\n",
      "execution_count": null,
      "outputs": []
    },
    {
      "metadata": {
        "trusted": true
      },
      "cell_type": "code",
      "source": "test['current_loan_amount'] = [np.nan if int(x)==99999999 else x for x in test['current_loan_amount']]",
      "execution_count": null,
      "outputs": []
    },
    {
      "metadata": {
        "trusted": true
      },
      "cell_type": "code",
      "source": "ax = sns.boxplot(data=test['current_loan_amount'], orient=\"h\", palette=\"Set2\")",
      "execution_count": null,
      "outputs": []
    },
    {
      "metadata": {
        "trusted": true
      },
      "cell_type": "code",
      "source": "ax = sns.boxplot(data=test['annual_income'], orient=\"h\", palette=\"Set2\")",
      "execution_count": null,
      "outputs": []
    },
    {
      "metadata": {
        "trusted": true
      },
      "cell_type": "code",
      "source": "test.describe()",
      "execution_count": null,
      "outputs": []
    },
    {
      "metadata": {
        "trusted": true
      },
      "cell_type": "code",
      "source": "test[test['annual_income']==8713547.000]",
      "execution_count": null,
      "outputs": []
    },
    {
      "metadata": {
        "trusted": true
      },
      "cell_type": "code",
      "source": "test = test[test['annual_income']!=8713547.000]\ntrain.shape",
      "execution_count": null,
      "outputs": []
    },
    {
      "metadata": {
        "trusted": true
      },
      "cell_type": "code",
      "source": "ax = sns.boxplot(data=test['annual_income'], orient=\"h\", palette=\"Set2\")\n",
      "execution_count": null,
      "outputs": []
    },
    {
      "metadata": {
        "trusted": true
      },
      "cell_type": "code",
      "source": "test[test['annual_income']>1200000]\n",
      "execution_count": null,
      "outputs": []
    },
    {
      "metadata": {
        "trusted": true
      },
      "cell_type": "code",
      "source": "test = test.drop([9470,21777])",
      "execution_count": null,
      "outputs": []
    },
    {
      "metadata": {
        "trusted": true
      },
      "cell_type": "code",
      "source": "ax = sns.boxplot(data=test['annual_income'], orient=\"h\", palette=\"Set2\")",
      "execution_count": null,
      "outputs": []
    },
    {
      "metadata": {
        "trusted": true
      },
      "cell_type": "code",
      "source": "ax = sns.distplot(test['annual_income'].dropna(), hist=True, kde=True, \n             color = 'darkblue', \n             hist_kws={'edgecolor':'black'},\n             kde_kws={'linewidth': 2})\nax.set(xlabel='Annual Income') \nplt.title('Annual Income frequency chart'); \nplt.show()",
      "execution_count": null,
      "outputs": []
    },
    {
      "metadata": {
        "trusted": true
      },
      "cell_type": "code",
      "source": "ax = sns.boxplot(data=test['years_of_credit_history'], orient=\"h\", palette=\"Set2\")",
      "execution_count": null,
      "outputs": []
    },
    {
      "metadata": {
        "trusted": true
      },
      "cell_type": "code",
      "source": "test[test['years_of_credit_history']>58]",
      "execution_count": null,
      "outputs": []
    },
    {
      "metadata": {
        "trusted": true
      },
      "cell_type": "code",
      "source": "test = test.drop([4829,5060, 24164])",
      "execution_count": null,
      "outputs": []
    },
    {
      "metadata": {
        "trusted": true
      },
      "cell_type": "code",
      "source": "ax = sns.boxplot(data=test['years_of_credit_history'], orient=\"h\", palette=\"Set2\")",
      "execution_count": null,
      "outputs": []
    },
    {
      "metadata": {
        "trusted": true
      },
      "cell_type": "code",
      "source": "ax = sns.boxplot(data=test['number_of_open_accounts'], orient=\"h\", palette=\"Set2\")",
      "execution_count": null,
      "outputs": []
    },
    {
      "metadata": {
        "trusted": true
      },
      "cell_type": "code",
      "source": "test[test['number_of_open_accounts']>50]",
      "execution_count": null,
      "outputs": []
    },
    {
      "metadata": {
        "trusted": true
      },
      "cell_type": "code",
      "source": "test = test.drop([4935,18759])",
      "execution_count": null,
      "outputs": []
    },
    {
      "metadata": {
        "trusted": true
      },
      "cell_type": "code",
      "source": "ax = sns.boxplot(data=test['number_of_open_accounts'], orient=\"h\", palette=\"Set2\")",
      "execution_count": null,
      "outputs": []
    },
    {
      "metadata": {
        "trusted": true
      },
      "cell_type": "code",
      "source": "#Capping the outliers\nIQR = test['number_of_open_accounts'].quantile(0.75) - test['number_of_open_accounts'].quantile(0.25)\nupper_limit = test['number_of_open_accounts'].quantile(0.75) + (IQR * 1.5)\nprint(\"Upper Limit:\", upper_limit)",
      "execution_count": null,
      "outputs": []
    },
    {
      "metadata": {
        "trusted": true
      },
      "cell_type": "code",
      "source": "test['number_of_open_accounts'] = [23.0 if ( x>23.0 and x!=np.nan) else x for x in test['number_of_open_accounts']]\nax = sns.boxplot(data=train['number_of_open_accounts'], orient=\"h\", palette=\"Set2\")",
      "execution_count": null,
      "outputs": []
    },
    {
      "metadata": {
        "trusted": true
      },
      "cell_type": "code",
      "source": "test.isnull().sum()",
      "execution_count": null,
      "outputs": []
    },
    {
      "metadata": {
        "trusted": true
      },
      "cell_type": "code",
      "source": "test = test.dropna(subset=['bankruptcies', 'tax_liens'])\nprint(test.shape)\ntest.isnull().sum()",
      "execution_count": null,
      "outputs": []
    },
    {
      "metadata": {
        "trusted": true
      },
      "cell_type": "code",
      "source": "test[\"months_since_last_delinquent\"].fillna(0, inplace = True)\nprint(test.shape)\ntest.isnull().sum()",
      "execution_count": null,
      "outputs": []
    },
    {
      "metadata": {
        "trusted": true
      },
      "cell_type": "code",
      "source": "test.reset_index(drop=True, inplace=True)\nmy_imputer = IterativeImputer()\n#For this we need only numerical variables so filtering this\ntest_numerical = test._get_numeric_data()\ntest_numerical_columns = test_numerical.columns \nprint(test_numerical.shape)\ntest_numerical.isnull().sum()\n",
      "execution_count": null,
      "outputs": []
    },
    {
      "metadata": {
        "trusted": true
      },
      "cell_type": "code",
      "source": "test_imputed = my_imputer.fit_transform(test_numerical)\n#Imputer will give the array as an object so need to convert it to Dataframe with columns\ntest_imputed = pd.DataFrame(test_imputed, columns=test_numerical_columns)\ntest_imputed.isnull().sum()",
      "execution_count": null,
      "outputs": []
    },
    {
      "metadata": {
        "trusted": true
      },
      "cell_type": "code",
      "source": "test['years_in_current_job'] = test_imputed['years_in_current_job']\ntest['current_loan_amount'] = test_imputed['current_loan_amount']\ntest['credit_score'] = test_imputed['credit_score']\ntest['annual_income'] = test_imputed['annual_income']",
      "execution_count": null,
      "outputs": []
    },
    {
      "metadata": {
        "trusted": true
      },
      "cell_type": "code",
      "source": "test['months_since_last_delinquent'].unique()",
      "execution_count": null,
      "outputs": []
    },
    {
      "metadata": {
        "trusted": true
      },
      "cell_type": "code",
      "source": "test['months_since_last_delinquent'] = ['extreme_risk' if x>51 \n        else 'high_risk' if x>32 \n        else 'moderate_risk' if x>16 \n        else 'low_risk' if x>0 else 'no_risk' for x in test['months_since_last_delinquent']]",
      "execution_count": null,
      "outputs": []
    },
    {
      "metadata": {
        "trusted": true
      },
      "cell_type": "code",
      "source": "test.isnull().sum()",
      "execution_count": null,
      "outputs": []
    }
  ],
  "metadata": {
    "kernelspec": {
      "name": "python36",
      "display_name": "Python 3.6",
      "language": "python"
    },
    "language_info": {
      "mimetype": "text/x-python",
      "nbconvert_exporter": "python",
      "name": "python",
      "pygments_lexer": "ipython3",
      "version": "3.6.6",
      "file_extension": ".py",
      "codemirror_mode": {
        "version": 3,
        "name": "ipython"
      }
    }
  },
  "nbformat": 4,
  "nbformat_minor": 2
}