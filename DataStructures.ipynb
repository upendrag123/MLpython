{
  "cells": [
    {
      "metadata": {
        "collapsed": true
      },
      "cell_type": "markdown",
      "source": "## Data Structures:\nData structures deal with how the data is organized and held in the memory when a program processes it.\n\nBasic Data Structures:\n    1. Strings\n    2. Lists\n    3. Tuples\n    4. Dictionary"
    },
    {
      "metadata": {},
      "cell_type": "markdown",
      "source": "# 1. Strings: \nStrings are amongst the most popular types in Python. We can create them simply by enclosing characters in quotes. Python treats single quotes the same as double quotes."
    },
    {
      "metadata": {
        "trusted": true
      },
      "cell_type": "code",
      "source": "string1 = \"Learn to Program\"",
      "execution_count": 1,
      "outputs": []
    },
    {
      "metadata": {
        "trusted": true
      },
      "cell_type": "code",
      "source": "type(string1)",
      "execution_count": 2,
      "outputs": [
        {
          "output_type": "execute_result",
          "execution_count": 2,
          "data": {
            "text/plain": "str"
          },
          "metadata": {}
        }
      ]
    },
    {
      "metadata": {
        "trusted": true
      },
      "cell_type": "code",
      "source": "string1",
      "execution_count": 3,
      "outputs": [
        {
          "output_type": "execute_result",
          "execution_count": 3,
          "data": {
            "text/plain": "'Learn to Program'"
          },
          "metadata": {}
        }
      ]
    },
    {
      "metadata": {},
      "cell_type": "markdown",
      "source": "# Strings Indexing and slicing\n <h3>\n            Indexing\n        </h3>\n        <p>\n            An index is a position within the string. Positive indices count from the left-hand side with the first character at index 0, the second at index 1, and so on. Negative indices count from the right-hand side with the last character at index -1, the second last at index -2, and so on. For the string <code>\"Learn to Program\"</code>, the indices are:<br>\n            <img src=\"http://spark-public.s3.amazonaws.com/programming1/lecture_summaries/week4/index.png\">\n        </p>"
    },
    {
      "metadata": {
        "trusted": true
      },
      "cell_type": "code",
      "source": "# To access substrings, we use the square brackets\n\nstring1[3]",
      "execution_count": 4,
      "outputs": [
        {
          "output_type": "execute_result",
          "execution_count": 4,
          "data": {
            "text/plain": "'r'"
          },
          "metadata": {}
        }
      ]
    },
    {
      "metadata": {
        "trusted": true
      },
      "cell_type": "code",
      "source": "# Slicing a string object use ( : operator)\n\nstring1[2:7]           # left operand is the start value and right operand is the end value (upto but not including).",
      "execution_count": 5,
      "outputs": [
        {
          "output_type": "execute_result",
          "execution_count": 5,
          "data": {
            "text/plain": "'arn t'"
          },
          "metadata": {}
        }
      ]
    },
    {
      "metadata": {
        "trusted": true
      },
      "cell_type": "code",
      "source": "string1[:8]",
      "execution_count": 27,
      "outputs": [
        {
          "output_type": "execute_result",
          "execution_count": 27,
          "data": {
            "text/plain": "'Learn to'"
          },
          "metadata": {}
        }
      ]
    },
    {
      "metadata": {
        "trusted": true
      },
      "cell_type": "code",
      "source": "string1[3:]",
      "execution_count": 28,
      "outputs": [
        {
          "output_type": "execute_result",
          "execution_count": 28,
          "data": {
            "text/plain": "'rn to Program'"
          },
          "metadata": {}
        }
      ]
    },
    {
      "metadata": {
        "trusted": true
      },
      "cell_type": "code",
      "source": "string1[:]",
      "execution_count": 29,
      "outputs": [
        {
          "output_type": "execute_result",
          "execution_count": 29,
          "data": {
            "text/plain": "'Learn to Program'"
          },
          "metadata": {}
        }
      ]
    },
    {
      "metadata": {
        "trusted": true
      },
      "cell_type": "code",
      "source": "string1[-1]",
      "execution_count": 30,
      "outputs": [
        {
          "output_type": "execute_result",
          "execution_count": 30,
          "data": {
            "text/plain": "'m'"
          },
          "metadata": {}
        }
      ]
    },
    {
      "metadata": {
        "trusted": true
      },
      "cell_type": "code",
      "source": "string1[-6:-1]",
      "execution_count": 33,
      "outputs": [
        {
          "output_type": "execute_result",
          "execution_count": 33,
          "data": {
            "text/plain": "'rogra'"
          },
          "metadata": {}
        }
      ]
    },
    {
      "metadata": {
        "trusted": true
      },
      "cell_type": "code",
      "source": "string1[1:-8]",
      "execution_count": 7,
      "outputs": [
        {
          "output_type": "execute_result",
          "execution_count": 7,
          "data": {
            "text/plain": "'earn to'"
          },
          "metadata": {}
        }
      ]
    },
    {
      "metadata": {},
      "cell_type": "markdown",
      "source": "### Strings are immutable"
    },
    {
      "metadata": {
        "trusted": true
      },
      "cell_type": "code",
      "source": "string1[2]='b'",
      "execution_count": 8,
      "outputs": [
        {
          "output_type": "error",
          "ename": "TypeError",
          "evalue": "'str' object does not support item assignment",
          "traceback": [
            "\u001b[0;31m---------------------------------------------------------------------------\u001b[0m",
            "\u001b[0;31mTypeError\u001b[0m                                 Traceback (most recent call last)",
            "\u001b[0;32m<ipython-input-8-3f92f88af49d>\u001b[0m in \u001b[0;36m<module>\u001b[0;34m\u001b[0m\n\u001b[0;32m----> 1\u001b[0;31m \u001b[0mstring1\u001b[0m\u001b[0;34m[\u001b[0m\u001b[0;36m2\u001b[0m\u001b[0;34m]\u001b[0m\u001b[0;34m=\u001b[0m\u001b[0;34m'b'\u001b[0m\u001b[0;34m\u001b[0m\u001b[0m\n\u001b[0m",
            "\u001b[0;31mTypeError\u001b[0m: 'str' object does not support item assignment"
          ]
        }
      ]
    },
    {
      "metadata": {
        "trusted": true
      },
      "cell_type": "code",
      "source": "string2 = string1[4] + 'ote'\nstring2",
      "execution_count": 9,
      "outputs": [
        {
          "output_type": "execute_result",
          "execution_count": 9,
          "data": {
            "text/plain": "'note'"
          },
          "metadata": {}
        }
      ]
    },
    {
      "metadata": {},
      "cell_type": "markdown",
      "source": "### Built-in functions on strings"
    },
    {
      "metadata": {
        "trusted": true
      },
      "cell_type": "code",
      "source": "print(len(string1))\nprint(min(string1))\nprint(max(string1))",
      "execution_count": 10,
      "outputs": [
        {
          "output_type": "stream",
          "text": "16\n \nt\n",
          "name": "stdout"
        }
      ]
    },
    {
      "metadata": {},
      "cell_type": "markdown",
      "source": "### 'in' and 'not in' operators "
    },
    {
      "metadata": {
        "trusted": true
      },
      "cell_type": "code",
      "source": "'p' in string1",
      "execution_count": 14,
      "outputs": [
        {
          "output_type": "execute_result",
          "execution_count": 14,
          "data": {
            "text/plain": "False"
          },
          "metadata": {}
        }
      ]
    },
    {
      "metadata": {
        "trusted": true
      },
      "cell_type": "code",
      "source": "'z' not in string1",
      "execution_count": 40,
      "outputs": [
        {
          "output_type": "execute_result",
          "execution_count": 40,
          "data": {
            "text/plain": "True"
          },
          "metadata": {}
        }
      ]
    },
    {
      "metadata": {},
      "cell_type": "markdown",
      "source": "### loop through strings"
    },
    {
      "metadata": {
        "trusted": true
      },
      "cell_type": "code",
      "source": "for i in string1:\n    print(i)",
      "execution_count": 41,
      "outputs": [
        {
          "output_type": "stream",
          "text": "L\ne\na\nr\nn\n \nt\no\n \nP\nr\no\ng\nr\na\nm\n",
          "name": "stdout"
        }
      ]
    },
    {
      "metadata": {},
      "cell_type": "markdown",
      "source": "### Exercise 1: Find the number of 'a' present in string : \"Learn to Program\""
    },
    {
      "metadata": {
        "trusted": true
      },
      "cell_type": "code",
      "source": "cnt=0\nfor i in string1:\n    if i == 'a':\n        cnt +=1\nprint(cnt)",
      "execution_count": 15,
      "outputs": [
        {
          "output_type": "stream",
          "text": "2\n",
          "name": "stdout"
        }
      ]
    },
    {
      "metadata": {},
      "cell_type": "markdown",
      "source": "### String Comparision"
    },
    {
      "metadata": {
        "trusted": true
      },
      "cell_type": "code",
      "source": "word = 'pie'",
      "execution_count": 21,
      "outputs": []
    },
    {
      "metadata": {
        "trusted": true
      },
      "cell_type": "code",
      "source": "if word < 'banana':\n    print('Your word,' + word + ', comes before banana.')\nelif word > 'banana':\n    print('Your word,' + word + ', comes after banana.')\nelse:\n    print('All right, bananas.')",
      "execution_count": 20,
      "outputs": [
        {
          "output_type": "stream",
          "text": "Your word,apple, comes before banana.\n",
          "name": "stdout"
        }
      ]
    },
    {
      "metadata": {},
      "cell_type": "markdown",
      "source": "### String methods"
    },
    {
      "metadata": {
        "trusted": true
      },
      "cell_type": "code",
      "source": "dir(string1)",
      "execution_count": 22,
      "outputs": [
        {
          "output_type": "execute_result",
          "execution_count": 22,
          "data": {
            "text/plain": "['__add__',\n '__class__',\n '__contains__',\n '__delattr__',\n '__dir__',\n '__doc__',\n '__eq__',\n '__format__',\n '__ge__',\n '__getattribute__',\n '__getitem__',\n '__getnewargs__',\n '__gt__',\n '__hash__',\n '__init__',\n '__init_subclass__',\n '__iter__',\n '__le__',\n '__len__',\n '__lt__',\n '__mod__',\n '__mul__',\n '__ne__',\n '__new__',\n '__reduce__',\n '__reduce_ex__',\n '__repr__',\n '__rmod__',\n '__rmul__',\n '__setattr__',\n '__sizeof__',\n '__str__',\n '__subclasshook__',\n 'capitalize',\n 'casefold',\n 'center',\n 'count',\n 'encode',\n 'endswith',\n 'expandtabs',\n 'find',\n 'format',\n 'format_map',\n 'index',\n 'isalnum',\n 'isalpha',\n 'isdecimal',\n 'isdigit',\n 'isidentifier',\n 'islower',\n 'isnumeric',\n 'isprintable',\n 'isspace',\n 'istitle',\n 'isupper',\n 'join',\n 'ljust',\n 'lower',\n 'lstrip',\n 'maketrans',\n 'partition',\n 'replace',\n 'rfind',\n 'rindex',\n 'rjust',\n 'rpartition',\n 'rsplit',\n 'rstrip',\n 'split',\n 'splitlines',\n 'startswith',\n 'strip',\n 'swapcase',\n 'title',\n 'translate',\n 'upper',\n 'zfill']"
          },
          "metadata": {}
        }
      ]
    },
    {
      "metadata": {
        "trusted": true
      },
      "cell_type": "code",
      "source": "print(string1.lower())\nprint(string1.upper())\nprint(string1.capitalize())",
      "execution_count": 52,
      "outputs": [
        {
          "output_type": "stream",
          "text": "learn to program\nLEARN TO PROGRAM\nLearn to program\n",
          "name": "stdout"
        }
      ]
    },
    {
      "metadata": {},
      "cell_type": "markdown",
      "source": "### Some important methods "
    },
    {
      "metadata": {
        "trusted": true
      },
      "cell_type": "code",
      "source": "string1.replace('a','o', 1)",
      "execution_count": 24,
      "outputs": [
        {
          "output_type": "execute_result",
          "execution_count": 24,
          "data": {
            "text/plain": "'Leorn to Program'"
          },
          "metadata": {}
        }
      ]
    },
    {
      "metadata": {
        "trusted": true
      },
      "cell_type": "code",
      "source": "string1.count('a')",
      "execution_count": 54,
      "outputs": [
        {
          "output_type": "execute_result",
          "execution_count": 54,
          "data": {
            "text/plain": "2"
          },
          "metadata": {}
        }
      ]
    },
    {
      "metadata": {
        "trusted": true
      },
      "cell_type": "code",
      "source": "print(string1.startswith('learn'))\nprint(string1.endswith('m'))",
      "execution_count": 26,
      "outputs": [
        {
          "output_type": "stream",
          "text": "False\nTrue\n",
          "name": "stdout"
        }
      ]
    },
    {
      "metadata": {
        "trusted": true
      },
      "cell_type": "code",
      "source": "s1 = \"    Bad String#######\"",
      "execution_count": 31,
      "outputs": []
    },
    {
      "metadata": {
        "trusted": true
      },
      "cell_type": "code",
      "source": "print(s1.lstrip())\nprint(s1.rstrip('#'))\nprint(s1.strip('#'))",
      "execution_count": 34,
      "outputs": [
        {
          "output_type": "stream",
          "text": "Bad String#######\n    Bad String\n    Bad String\n",
          "name": "stdout"
        }
      ]
    },
    {
      "metadata": {
        "trusted": true
      },
      "cell_type": "code",
      "source": "string1='Learn to Program'\nstring1.split('-')",
      "execution_count": 38,
      "outputs": [
        {
          "output_type": "execute_result",
          "execution_count": 38,
          "data": {
            "text/plain": "['Learn to Program']"
          },
          "metadata": {}
        }
      ]
    },
    {
      "metadata": {
        "trusted": true
      },
      "cell_type": "code",
      "source": "string1.find('n')",
      "execution_count": 39,
      "outputs": [
        {
          "output_type": "execute_result",
          "execution_count": 39,
          "data": {
            "text/plain": "4"
          },
          "metadata": {}
        }
      ]
    },
    {
      "metadata": {
        "trusted": true
      },
      "cell_type": "code",
      "source": "string1.find('a',3)",
      "execution_count": 41,
      "outputs": [
        {
          "output_type": "execute_result",
          "execution_count": 41,
          "data": {
            "text/plain": "14"
          },
          "metadata": {}
        }
      ]
    },
    {
      "metadata": {},
      "cell_type": "markdown",
      "source": "### Excercise 1: Write a code to extract the string 'uct.ac.za' from the below string object:\n### data = 'From stephen.marquard@uct.ac.za Sat Jan 5 09:14:16 2008'"
    },
    {
      "metadata": {
        "trusted": true
      },
      "cell_type": "code",
      "source": "data = 'From stephen.marquard@uct.ac.za Sat Jan 5 09:14:16 2008'",
      "execution_count": 44,
      "outputs": []
    },
    {
      "metadata": {
        "trusted": true
      },
      "cell_type": "code",
      "source": "atpos = data.find('@')\natpos",
      "execution_count": 65,
      "outputs": [
        {
          "output_type": "execute_result",
          "execution_count": 65,
          "data": {
            "text/plain": "21"
          },
          "metadata": {}
        }
      ]
    },
    {
      "metadata": {
        "trusted": true
      },
      "cell_type": "code",
      "source": "sppos= data.find(\" \",atpos)\nsppos",
      "execution_count": 66,
      "outputs": [
        {
          "output_type": "execute_result",
          "execution_count": 66,
          "data": {
            "text/plain": "31"
          },
          "metadata": {}
        }
      ]
    },
    {
      "metadata": {
        "trusted": true
      },
      "cell_type": "code",
      "source": "result = data[atpos+1 : sppos]\nresult",
      "execution_count": 67,
      "outputs": [
        {
          "output_type": "execute_result",
          "execution_count": 67,
          "data": {
            "text/plain": "'uct.ac.za'"
          },
          "metadata": {}
        }
      ]
    },
    {
      "metadata": {},
      "cell_type": "markdown",
      "source": "### Escape sequences and raw string"
    },
    {
      "metadata": {
        "trusted": true
      },
      "cell_type": "code",
      "source": "string1 = 'Wow, you \\'re dripping wet.'",
      "execution_count": 59,
      "outputs": [
        {
          "output_type": "execute_result",
          "execution_count": 59,
          "data": {
            "text/plain": "\"Wow, you 're dripping wet.\""
          },
          "metadata": {}
        }
      ]
    },
    {
      "metadata": {
        "trusted": true
      },
      "cell_type": "code",
      "source": "string1",
      "execution_count": 50,
      "outputs": [
        {
          "output_type": "execute_result",
          "execution_count": 50,
          "data": {
            "text/plain": "\"Wow, you 're dripping wet.\""
          },
          "metadata": {}
        }
      ]
    },
    {
      "metadata": {
        "trusted": true
      },
      "cell_type": "code",
      "source": "path = \"c:\\\\Pranali\\\\newFolder\\\\toy\"",
      "execution_count": 54,
      "outputs": []
    },
    {
      "metadata": {
        "trusted": true
      },
      "cell_type": "code",
      "source": "print(path)",
      "execution_count": 55,
      "outputs": [
        {
          "output_type": "stream",
          "text": "c:\\Pranali\\newFolder\\toy\n",
          "name": "stdout"
        }
      ]
    },
    {
      "metadata": {
        "trusted": true
      },
      "cell_type": "code",
      "source": "path1 = r'c:\\Pranali\\newFolder\\toy'",
      "execution_count": 56,
      "outputs": []
    },
    {
      "metadata": {
        "trusted": true
      },
      "cell_type": "code",
      "source": "print(path1)",
      "execution_count": 57,
      "outputs": [
        {
          "output_type": "stream",
          "text": "c:\\Pranali\\newFolder\\toy\n",
          "name": "stdout"
        }
      ]
    },
    {
      "metadata": {
        "trusted": true
      },
      "cell_type": "code",
      "source": "string1 = 'hello\\nworld'\nstring1",
      "execution_count": 74,
      "outputs": [
        {
          "output_type": "execute_result",
          "execution_count": 74,
          "data": {
            "text/plain": "'hello\\nworld'"
          },
          "metadata": {}
        }
      ]
    },
    {
      "metadata": {
        "trusted": true
      },
      "cell_type": "code",
      "source": "print(string1)",
      "execution_count": 75,
      "outputs": [
        {
          "output_type": "stream",
          "text": "hello\nworld\n",
          "name": "stdout"
        }
      ]
    },
    {
      "metadata": {},
      "cell_type": "markdown",
      "source": "### String formatting operators"
    },
    {
      "metadata": {
        "trusted": true
      },
      "cell_type": "code",
      "source": "print(\"Hi this is %s class and we are studying %s data structure\" % ('Python','Strings'))\nprint(\"The student with roll %d, name %s have scored %f marks\" % (2,'Parth',98.56))",
      "execution_count": 76,
      "outputs": [
        {
          "output_type": "stream",
          "text": "Hi this is Python class and we are studying Strings data structure\nThe student with roll 2, name Parth have scored 98.560000 marks\n",
          "name": "stdout"
        }
      ]
    },
    {
      "metadata": {
        "trusted": true
      },
      "cell_type": "code",
      "source": "print(\"Hi this is {} class and we are studying {} data structure\".format('Python','Strings'))\nprint(\"The student with roll {}, name {} have scored {} marks\".format(2,'Parth',98.56))",
      "execution_count": 60,
      "outputs": [
        {
          "output_type": "stream",
          "text": "Hi this is Python class and we are studying Strings data structure\nThe student with roll 2, name Parth have scored 98.56 marks\n",
          "name": "stdout"
        }
      ]
    },
    {
      "metadata": {},
      "cell_type": "markdown",
      "source": "# 2. Lists:\n\nList is a collection of comma-separated values between square brackets."
    },
    {
      "metadata": {
        "trusted": true
      },
      "cell_type": "code",
      "source": "friends = ['Joseph','Glenn', 'Sally']",
      "execution_count": 68,
      "outputs": []
    },
    {
      "metadata": {
        "trusted": true
      },
      "cell_type": "code",
      "source": "type(friends)",
      "execution_count": 69,
      "outputs": [
        {
          "output_type": "execute_result",
          "execution_count": 69,
          "data": {
            "text/plain": "list"
          },
          "metadata": {}
        }
      ]
    },
    {
      "metadata": {
        "trusted": true
      },
      "cell_type": "code",
      "source": "lst1 = [10,20,30,40,50,60]\nlst1",
      "execution_count": 70,
      "outputs": [
        {
          "output_type": "execute_result",
          "execution_count": 70,
          "data": {
            "text/plain": "[10, 20, 30, 40, 50, 60]"
          },
          "metadata": {}
        }
      ]
    },
    {
      "metadata": {},
      "cell_type": "markdown",
      "source": "### List Indexing and Slicing"
    },
    {
      "metadata": {
        "trusted": true
      },
      "cell_type": "code",
      "source": "lst1[2]",
      "execution_count": 71,
      "outputs": [
        {
          "output_type": "execute_result",
          "execution_count": 71,
          "data": {
            "text/plain": "30"
          },
          "metadata": {}
        }
      ]
    },
    {
      "metadata": {
        "trusted": true
      },
      "cell_type": "code",
      "source": "lst1[2:5]",
      "execution_count": 72,
      "outputs": [
        {
          "output_type": "execute_result",
          "execution_count": 72,
          "data": {
            "text/plain": "[30, 40, 50]"
          },
          "metadata": {}
        }
      ]
    },
    {
      "metadata": {
        "trusted": true
      },
      "cell_type": "code",
      "source": "lst1[-1]",
      "execution_count": 73,
      "outputs": [
        {
          "output_type": "execute_result",
          "execution_count": 73,
          "data": {
            "text/plain": "60"
          },
          "metadata": {}
        }
      ]
    },
    {
      "metadata": {},
      "cell_type": "markdown",
      "source": "### Lists are mutable"
    },
    {
      "metadata": {
        "trusted": true
      },
      "cell_type": "code",
      "source": "lst1[4]=80",
      "execution_count": 74,
      "outputs": []
    },
    {
      "metadata": {
        "trusted": true
      },
      "cell_type": "code",
      "source": "lst1",
      "execution_count": 75,
      "outputs": [
        {
          "output_type": "execute_result",
          "execution_count": 75,
          "data": {
            "text/plain": "[10, 20, 30, 40, 80, 60]"
          },
          "metadata": {}
        }
      ]
    },
    {
      "metadata": {},
      "cell_type": "markdown",
      "source": "### Lists are heterogenous"
    },
    {
      "metadata": {
        "trusted": true
      },
      "cell_type": "code",
      "source": "l1 = [1,'parth',5.5,[78,69,89]]",
      "execution_count": 77,
      "outputs": []
    },
    {
      "metadata": {
        "trusted": true
      },
      "cell_type": "code",
      "source": "l1[3]",
      "execution_count": 82,
      "outputs": [
        {
          "output_type": "execute_result",
          "execution_count": 82,
          "data": {
            "text/plain": "[78, 69, 89]"
          },
          "metadata": {}
        }
      ]
    },
    {
      "metadata": {},
      "cell_type": "markdown",
      "source": "### Built-in Functions"
    },
    {
      "metadata": {
        "trusted": true
      },
      "cell_type": "code",
      "source": "print(len(lst1))\nprint(min(lst1))\nprint(max(lst1))\nprint(sum(lst1))",
      "execution_count": 83,
      "outputs": [
        {
          "output_type": "stream",
          "text": "6\n10\n80\n240\n",
          "name": "stdout"
        }
      ]
    },
    {
      "metadata": {},
      "cell_type": "markdown",
      "source": "### \"in\" and \"not in\" operators"
    },
    {
      "metadata": {
        "trusted": true
      },
      "cell_type": "code",
      "source": "10 in lst1",
      "execution_count": 85,
      "outputs": [
        {
          "output_type": "execute_result",
          "execution_count": 85,
          "data": {
            "text/plain": "True"
          },
          "metadata": {}
        }
      ]
    },
    {
      "metadata": {
        "trusted": true
      },
      "cell_type": "code",
      "source": "15 not in lst1",
      "execution_count": 86,
      "outputs": [
        {
          "output_type": "execute_result",
          "execution_count": 86,
          "data": {
            "text/plain": "True"
          },
          "metadata": {}
        }
      ]
    },
    {
      "metadata": {},
      "cell_type": "markdown",
      "source": "### loop through a list"
    },
    {
      "metadata": {
        "trusted": true
      },
      "cell_type": "code",
      "source": "for i in lst1:\n    print(i)",
      "execution_count": 92,
      "outputs": [
        {
          "output_type": "stream",
          "text": "10\n20\n30\n40\n80\n60\n",
          "name": "stdout"
        }
      ]
    },
    {
      "metadata": {},
      "cell_type": "markdown",
      "source": "### Use of range() for looping through list"
    },
    {
      "metadata": {
        "trusted": true
      },
      "cell_type": "code",
      "source": "range(1,10,2)",
      "execution_count": 84,
      "outputs": [
        {
          "output_type": "execute_result",
          "execution_count": 84,
          "data": {
            "text/plain": "range(0, 5)"
          },
          "metadata": {}
        }
      ]
    },
    {
      "metadata": {
        "trusted": true
      },
      "cell_type": "code",
      "source": "for i in range(1,10,2):\n    print(i)",
      "execution_count": 92,
      "outputs": [
        {
          "output_type": "stream",
          "text": "1\n3\n5\n7\n9\n",
          "name": "stdout"
        }
      ]
    },
    {
      "metadata": {
        "trusted": true
      },
      "cell_type": "code",
      "source": "list(range(6))",
      "execution_count": 93,
      "outputs": [
        {
          "output_type": "execute_result",
          "execution_count": 93,
          "data": {
            "text/plain": "[0, 1, 2, 3, 4, 5]"
          },
          "metadata": {}
        }
      ]
    },
    {
      "metadata": {
        "trusted": true
      },
      "cell_type": "code",
      "source": "for i in range(len(lst1)):\n    print(lst1[i])",
      "execution_count": 94,
      "outputs": [
        {
          "output_type": "stream",
          "text": "10\n20\n30\n40\n80\n60\n",
          "name": "stdout"
        }
      ]
    },
    {
      "metadata": {},
      "cell_type": "markdown",
      "source": "### Exercise 1: Create a list with the elements 1,2,3,4,5 and sqaure each element and store back it in a list."
    },
    {
      "metadata": {
        "trusted": true
      },
      "cell_type": "code",
      "source": "num = [1,2,3,4,5]\nfor i in range(len(num)):\n    num[i]=num[i]**2\nprint(num)",
      "execution_count": 95,
      "outputs": [
        {
          "output_type": "stream",
          "text": "[1, 4, 9, 16, 25]\n",
          "name": "stdout"
        }
      ]
    },
    {
      "metadata": {},
      "cell_type": "markdown",
      "source": "### List methods"
    },
    {
      "metadata": {
        "trusted": true
      },
      "cell_type": "code",
      "source": "list1 = []",
      "execution_count": 99,
      "outputs": []
    },
    {
      "metadata": {
        "trusted": true
      },
      "cell_type": "code",
      "source": "list1",
      "execution_count": 100,
      "outputs": [
        {
          "output_type": "execute_result",
          "execution_count": 100,
          "data": {
            "text/plain": "[]"
          },
          "metadata": {}
        }
      ]
    },
    {
      "metadata": {
        "trusted": true
      },
      "cell_type": "code",
      "source": "list1.append(10)",
      "execution_count": 105,
      "outputs": []
    },
    {
      "metadata": {
        "trusted": true
      },
      "cell_type": "code",
      "source": "list1",
      "execution_count": 106,
      "outputs": [
        {
          "output_type": "execute_result",
          "execution_count": 106,
          "data": {
            "text/plain": "[10, 20, 10]"
          },
          "metadata": {}
        }
      ]
    },
    {
      "metadata": {
        "trusted": true
      },
      "cell_type": "code",
      "source": "list1.count(10)",
      "execution_count": 107,
      "outputs": [
        {
          "output_type": "execute_result",
          "execution_count": 107,
          "data": {
            "text/plain": "2"
          },
          "metadata": {}
        }
      ]
    },
    {
      "metadata": {
        "trusted": true
      },
      "cell_type": "code",
      "source": "list1.insert(2,40)",
      "execution_count": 108,
      "outputs": []
    },
    {
      "metadata": {
        "trusted": true
      },
      "cell_type": "code",
      "source": "list1",
      "execution_count": 109,
      "outputs": [
        {
          "output_type": "execute_result",
          "execution_count": 109,
          "data": {
            "text/plain": "[10, 20, 40, 10]"
          },
          "metadata": {}
        }
      ]
    },
    {
      "metadata": {
        "trusted": true
      },
      "cell_type": "code",
      "source": "list1.pop()",
      "execution_count": 110,
      "outputs": [
        {
          "output_type": "execute_result",
          "execution_count": 110,
          "data": {
            "text/plain": "10"
          },
          "metadata": {}
        }
      ]
    },
    {
      "metadata": {
        "trusted": true
      },
      "cell_type": "code",
      "source": "list1.remove(40)",
      "execution_count": 111,
      "outputs": []
    },
    {
      "metadata": {
        "trusted": true
      },
      "cell_type": "code",
      "source": "list1",
      "execution_count": 112,
      "outputs": [
        {
          "output_type": "execute_result",
          "execution_count": 112,
          "data": {
            "text/plain": "[10, 20]"
          },
          "metadata": {}
        }
      ]
    },
    {
      "metadata": {
        "trusted": true
      },
      "cell_type": "code",
      "source": "list1.reverse()\nlist1",
      "execution_count": 113,
      "outputs": [
        {
          "output_type": "execute_result",
          "execution_count": 113,
          "data": {
            "text/plain": "[20, 10]"
          },
          "metadata": {}
        }
      ]
    },
    {
      "metadata": {
        "trusted": true
      },
      "cell_type": "code",
      "source": "list1.clear()\nlist1",
      "execution_count": 114,
      "outputs": [
        {
          "output_type": "execute_result",
          "execution_count": 114,
          "data": {
            "text/plain": "[]"
          },
          "metadata": {}
        }
      ]
    },
    {
      "metadata": {},
      "cell_type": "markdown",
      "source": "### Excercise 2: Extract 'uct.ac.za' from the following string object: \n### line = 'From stephen.marquard@uct.ac.za Sat Jan 5 09:14:16 2008'"
    },
    {
      "metadata": {
        "trusted": true
      },
      "cell_type": "code",
      "source": "line = 'From stephen.marquard@uct.ac.za Sat Jan 5 09:14:16 2008'",
      "execution_count": 115,
      "outputs": []
    },
    {
      "metadata": {
        "trusted": true
      },
      "cell_type": "code",
      "source": "words = line.split()\nprint(words)\nemail = words[1]\nhost = email.split('@')\nhost[1]",
      "execution_count": 116,
      "outputs": [
        {
          "output_type": "stream",
          "text": "['From', 'stephen.marquard@uct.ac.za', 'Sat', 'Jan', '5', '09:14:16', '2008']\n",
          "name": "stdout"
        },
        {
          "output_type": "execute_result",
          "execution_count": 116,
          "data": {
            "text/plain": "'uct.ac.za'"
          },
          "metadata": {}
        }
      ]
    },
    {
      "metadata": {
        "trusted": true
      },
      "cell_type": "code",
      "source": "host=line.split()[1].split('@')[1]\nhost",
      "execution_count": 119,
      "outputs": [
        {
          "output_type": "execute_result",
          "execution_count": 119,
          "data": {
            "text/plain": "'uct.ac.za'"
          },
          "metadata": {}
        }
      ]
    },
    {
      "metadata": {},
      "cell_type": "markdown",
      "source": "### Nested Lists"
    },
    {
      "metadata": {
        "trusted": true
      },
      "cell_type": "code",
      "source": "grades = [['Assignment 1', 80], ['Assignment 2', 90], ['Assignment 3', 70]]\nprint(grades[0])\nprint(grades[1])\nprint(grades[2])",
      "execution_count": 120,
      "outputs": [
        {
          "output_type": "stream",
          "text": "['Assignment 1', 80]\n['Assignment 2', 90]\n['Assignment 3', 70]\n",
          "name": "stdout"
        }
      ]
    },
    {
      "metadata": {
        "trusted": true
      },
      "cell_type": "code",
      "source": "sublist = grades[0]\nsublist",
      "execution_count": 123,
      "outputs": [
        {
          "output_type": "execute_result",
          "execution_count": 123,
          "data": {
            "text/plain": "['Assignment 1', 80]"
          },
          "metadata": {}
        }
      ]
    },
    {
      "metadata": {
        "trusted": true
      },
      "cell_type": "code",
      "source": "sublist[1]",
      "execution_count": 124,
      "outputs": [
        {
          "output_type": "execute_result",
          "execution_count": 124,
          "data": {
            "text/plain": "80"
          },
          "metadata": {}
        }
      ]
    },
    {
      "metadata": {
        "trusted": true
      },
      "cell_type": "code",
      "source": "sublist[1]",
      "execution_count": 127,
      "outputs": [
        {
          "output_type": "execute_result",
          "execution_count": 127,
          "data": {
            "text/plain": "70"
          },
          "metadata": {}
        }
      ]
    },
    {
      "metadata": {
        "trusted": true
      },
      "cell_type": "code",
      "source": "grades[0][0]",
      "execution_count": 128,
      "outputs": [
        {
          "output_type": "execute_result",
          "execution_count": 128,
          "data": {
            "text/plain": "'Assignment 1'"
          },
          "metadata": {}
        }
      ]
    },
    {
      "metadata": {
        "trusted": true
      },
      "cell_type": "code",
      "source": "grades[0][1]",
      "execution_count": 129,
      "outputs": [
        {
          "output_type": "execute_result",
          "execution_count": 129,
          "data": {
            "text/plain": "80"
          },
          "metadata": {}
        }
      ]
    },
    {
      "metadata": {
        "trusted": true
      },
      "cell_type": "code",
      "source": "print(grades[0])",
      "execution_count": 125,
      "outputs": [
        {
          "output_type": "stream",
          "text": "['Assignment 1', 80]\n",
          "name": "stdout"
        }
      ]
    },
    {
      "metadata": {},
      "cell_type": "markdown",
      "source": "### Assignment 2: For the given grades list grades = [[10,20,30],[40,50,60],[70,80,90]]. Calculate the average of each sublist and append it to new list averages.\n"
    },
    {
      "metadata": {
        "trusted": true
      },
      "cell_type": "code",
      "source": "grades = [[10,20,30],[40,50,60],[70,80,90]]",
      "execution_count": 1,
      "outputs": []
    },
    {
      "metadata": {
        "trusted": true
      },
      "cell_type": "code",
      "source": "averages = list()",
      "execution_count": 2,
      "outputs": []
    },
    {
      "metadata": {
        "trusted": true
      },
      "cell_type": "code",
      "source": "for grades_list in grades:\n        total = 0\n        for marks in grades_list:\n            total = total + marks\n        averages.append(total / len(grades_list))\nprint(averages)",
      "execution_count": 132,
      "outputs": [
        {
          "output_type": "stream",
          "text": "[20.0, 50.0, 80.0]\n",
          "name": "stdout"
        }
      ]
    },
    {
      "metadata": {
        "trusted": true
      },
      "cell_type": "code",
      "source": "for grade_list in grades:\n    averages.append(sum(grade_list)/len(grade_list))\nprint(averages)",
      "execution_count": 3,
      "outputs": [
        {
          "output_type": "stream",
          "text": "[20.0, 50.0, 80.0]\n",
          "name": "stdout"
        }
      ]
    },
    {
      "metadata": {},
      "cell_type": "markdown",
      "source": "# 3. Tuples:\nTuples are sequences, just like lists. The differences between tuples and lists are, the tuples are immutable ie: cannot be changed like lists and tuples use parentheses, whereas lists use square brackets."
    },
    {
      "metadata": {
        "trusted": true
      },
      "cell_type": "code",
      "source": "tup1 = (\"Glenn\",\"Sally\",\"Joseph\")",
      "execution_count": 126,
      "outputs": []
    },
    {
      "metadata": {
        "trusted": true
      },
      "cell_type": "code",
      "source": "type(tup1)",
      "execution_count": 127,
      "outputs": [
        {
          "output_type": "execute_result",
          "execution_count": 127,
          "data": {
            "text/plain": "tuple"
          },
          "metadata": {}
        }
      ]
    },
    {
      "metadata": {},
      "cell_type": "markdown",
      "source": "### Indexing and Slicing"
    },
    {
      "metadata": {
        "trusted": true
      },
      "cell_type": "code",
      "source": "tup1[2]",
      "execution_count": 128,
      "outputs": [
        {
          "output_type": "execute_result",
          "execution_count": 128,
          "data": {
            "text/plain": "'Joseph'"
          },
          "metadata": {}
        }
      ]
    },
    {
      "metadata": {
        "trusted": true
      },
      "cell_type": "code",
      "source": "tup1[1:3]",
      "execution_count": 129,
      "outputs": [
        {
          "output_type": "execute_result",
          "execution_count": 129,
          "data": {
            "text/plain": "('Sally', 'Joseph')"
          },
          "metadata": {}
        }
      ]
    },
    {
      "metadata": {},
      "cell_type": "markdown",
      "source": "### Tuples are immutable"
    },
    {
      "metadata": {
        "trusted": true
      },
      "cell_type": "code",
      "source": "tup1[1]='George'",
      "execution_count": 130,
      "outputs": [
        {
          "output_type": "error",
          "ename": "TypeError",
          "evalue": "'tuple' object does not support item assignment",
          "traceback": [
            "\u001b[0;31m---------------------------------------------------------------------------\u001b[0m",
            "\u001b[0;31mTypeError\u001b[0m                                 Traceback (most recent call last)",
            "\u001b[0;32m<ipython-input-130-aafd339523b5>\u001b[0m in \u001b[0;36m<module>\u001b[0;34m\u001b[0m\n\u001b[0;32m----> 1\u001b[0;31m \u001b[0mtup1\u001b[0m\u001b[0;34m[\u001b[0m\u001b[0;36m1\u001b[0m\u001b[0;34m]\u001b[0m\u001b[0;34m=\u001b[0m\u001b[0;34m'George'\u001b[0m\u001b[0;34m\u001b[0m\u001b[0m\n\u001b[0m",
            "\u001b[0;31mTypeError\u001b[0m: 'tuple' object does not support item assignment"
          ]
        }
      ]
    },
    {
      "metadata": {},
      "cell_type": "markdown",
      "source": "### Built-in functions"
    },
    {
      "metadata": {
        "trusted": true
      },
      "cell_type": "code",
      "source": "print(len(tup1))\nprint(max(tup1))\nprint(min(tup1))",
      "execution_count": 140,
      "outputs": [
        {
          "output_type": "stream",
          "text": "3\nSally\nGlenn\n",
          "name": "stdout"
        }
      ]
    },
    {
      "metadata": {},
      "cell_type": "markdown",
      "source": "### \"in\" and \"not in\" operator"
    },
    {
      "metadata": {
        "trusted": true
      },
      "cell_type": "code",
      "source": "'alice' in tup1",
      "execution_count": 131,
      "outputs": [
        {
          "output_type": "execute_result",
          "execution_count": 131,
          "data": {
            "text/plain": "False"
          },
          "metadata": {}
        }
      ]
    },
    {
      "metadata": {
        "trusted": true
      },
      "cell_type": "code",
      "source": "'Sally' not in tup1",
      "execution_count": 132,
      "outputs": [
        {
          "output_type": "execute_result",
          "execution_count": 132,
          "data": {
            "text/plain": "False"
          },
          "metadata": {}
        }
      ]
    },
    {
      "metadata": {},
      "cell_type": "markdown",
      "source": "### Loop through tuples"
    },
    {
      "metadata": {
        "trusted": true
      },
      "cell_type": "code",
      "source": "for i in tup1:\n    print(i)",
      "execution_count": 145,
      "outputs": [
        {
          "output_type": "stream",
          "text": "Glenn\nSally\nJoseph\n",
          "name": "stdout"
        }
      ]
    },
    {
      "metadata": {
        "trusted": true
      },
      "cell_type": "code",
      "source": "for i in range(len(tup1)):\n    print(tup1[i])",
      "execution_count": 146,
      "outputs": [
        {
          "output_type": "stream",
          "text": "Glenn\nSally\nJoseph\n",
          "name": "stdout"
        }
      ]
    },
    {
      "metadata": {},
      "cell_type": "markdown",
      "source": "### Tuples methods"
    },
    {
      "metadata": {
        "trusted": true
      },
      "cell_type": "code",
      "source": "t=(10,10,20,30,30,30)\nprint(t.count(30))\nprint(t.index(20))",
      "execution_count": 133,
      "outputs": [
        {
          "output_type": "stream",
          "text": "3\n2\n",
          "name": "stdout"
        }
      ]
    },
    {
      "metadata": {},
      "cell_type": "markdown",
      "source": "### Tuples comparision"
    },
    {
      "metadata": {
        "trusted": true
      },
      "cell_type": "code",
      "source": "(9,1,1,2)>(9,4,3,3,1)",
      "execution_count": 148,
      "outputs": [
        {
          "output_type": "execute_result",
          "execution_count": 148,
          "data": {
            "text/plain": "False"
          },
          "metadata": {}
        }
      ]
    },
    {
      "metadata": {
        "trusted": true
      },
      "cell_type": "code",
      "source": "(1,2,3)==(1,2,3)",
      "execution_count": 150,
      "outputs": [
        {
          "output_type": "execute_result",
          "execution_count": 150,
          "data": {
            "text/plain": "True"
          },
          "metadata": {}
        }
      ]
    },
    {
      "metadata": {},
      "cell_type": "markdown",
      "source": "# 4. Dictionary:\nDictionary is an unordered collection of elements where each element is represented as a \"key:value\" pair enclosed in { }.  "
    },
    {
      "metadata": {
        "trusted": true
      },
      "cell_type": "code",
      "source": "purse= dict()\npurse",
      "execution_count": 11,
      "outputs": [
        {
          "output_type": "execute_result",
          "execution_count": 11,
          "data": {
            "text/plain": "{}"
          },
          "metadata": {}
        }
      ]
    },
    {
      "metadata": {
        "trusted": true
      },
      "cell_type": "code",
      "source": "purse['money']=12",
      "execution_count": 12,
      "outputs": []
    },
    {
      "metadata": {
        "trusted": true
      },
      "cell_type": "code",
      "source": "purse['candy']= 5",
      "execution_count": 13,
      "outputs": []
    },
    {
      "metadata": {
        "trusted": true
      },
      "cell_type": "code",
      "source": "purse['tissues']=75",
      "execution_count": 14,
      "outputs": []
    },
    {
      "metadata": {
        "trusted": true
      },
      "cell_type": "code",
      "source": "purse",
      "execution_count": 15,
      "outputs": [
        {
          "output_type": "execute_result",
          "execution_count": 15,
          "data": {
            "text/plain": "{'money': 12, 'candy': 5, 'tissues': 75}"
          },
          "metadata": {}
        }
      ]
    },
    {
      "metadata": {},
      "cell_type": "markdown",
      "source": "### Indexing "
    },
    {
      "metadata": {
        "trusted": true
      },
      "cell_type": "code",
      "source": "purse[1]",
      "execution_count": 16,
      "outputs": [
        {
          "output_type": "error",
          "ename": "KeyError",
          "evalue": "1",
          "traceback": [
            "\u001b[0;31m---------------------------------------------------------------------------\u001b[0m",
            "\u001b[0;31mKeyError\u001b[0m                                  Traceback (most recent call last)",
            "\u001b[0;32m<ipython-input-16-f5dfe3d56754>\u001b[0m in \u001b[0;36m<module>\u001b[0;34m\u001b[0m\n\u001b[0;32m----> 1\u001b[0;31m \u001b[0mpurse\u001b[0m\u001b[0;34m[\u001b[0m\u001b[0;36m1\u001b[0m\u001b[0;34m]\u001b[0m\u001b[0;34m\u001b[0m\u001b[0m\n\u001b[0m",
            "\u001b[0;31mKeyError\u001b[0m: 1"
          ]
        }
      ]
    },
    {
      "metadata": {
        "trusted": true
      },
      "cell_type": "code",
      "source": "purse['candy']",
      "execution_count": 17,
      "outputs": [
        {
          "output_type": "execute_result",
          "execution_count": 17,
          "data": {
            "text/plain": "5"
          },
          "metadata": {}
        }
      ]
    },
    {
      "metadata": {},
      "cell_type": "markdown",
      "source": "### Properties of key:\n### 1. Keys are unique\n### 2. Keys are of immutable type ie: strings or int"
    },
    {
      "metadata": {
        "trusted": true
      },
      "cell_type": "code",
      "source": "purse['perfume']= 1 ",
      "execution_count": 18,
      "outputs": []
    },
    {
      "metadata": {
        "trusted": true
      },
      "cell_type": "code",
      "source": "purse",
      "execution_count": 19,
      "outputs": [
        {
          "output_type": "execute_result",
          "execution_count": 19,
          "data": {
            "text/plain": "{'money': 12, 'candy': 5, 'tissues': 75, 'perfume': 1}"
          },
          "metadata": {}
        }
      ]
    },
    {
      "metadata": {
        "trusted": true
      },
      "cell_type": "code",
      "source": "purse['candy'] = 10\npurse",
      "execution_count": 20,
      "outputs": [
        {
          "output_type": "execute_result",
          "execution_count": 20,
          "data": {
            "text/plain": "{'money': 12, 'candy': 10, 'tissues': 75, 'perfume': 1}"
          },
          "metadata": {}
        }
      ]
    },
    {
      "metadata": {
        "trusted": true
      },
      "cell_type": "code",
      "source": "purse[1]='coins'\npurse ",
      "execution_count": 21,
      "outputs": [
        {
          "output_type": "execute_result",
          "execution_count": 21,
          "data": {
            "text/plain": "{'money': 12, 'candy': 10, 'tissues': 75, 'perfume': 1, 1: 'coins'}"
          },
          "metadata": {}
        }
      ]
    },
    {
      "metadata": {},
      "cell_type": "markdown",
      "source": "### \"in\" and \"not in\" Operator"
    },
    {
      "metadata": {
        "trusted": true
      },
      "cell_type": "code",
      "source": "'candy' in purse",
      "execution_count": 161,
      "outputs": [
        {
          "output_type": "execute_result",
          "execution_count": 161,
          "data": {
            "text/plain": "True"
          },
          "metadata": {}
        }
      ]
    },
    {
      "metadata": {
        "trusted": true
      },
      "cell_type": "code",
      "source": "'coins' not in purse",
      "execution_count": 162,
      "outputs": [
        {
          "output_type": "execute_result",
          "execution_count": 162,
          "data": {
            "text/plain": "True"
          },
          "metadata": {}
        }
      ]
    },
    {
      "metadata": {},
      "cell_type": "markdown",
      "source": "### Dictionary methods"
    },
    {
      "metadata": {
        "trusted": true
      },
      "cell_type": "code",
      "source": "purse.keys()",
      "execution_count": 22,
      "outputs": [
        {
          "output_type": "execute_result",
          "execution_count": 22,
          "data": {
            "text/plain": "dict_keys(['money', 'candy', 'tissues', 'perfume', 1])"
          },
          "metadata": {}
        }
      ]
    },
    {
      "metadata": {
        "trusted": true
      },
      "cell_type": "code",
      "source": "purse.values()",
      "execution_count": 23,
      "outputs": [
        {
          "output_type": "execute_result",
          "execution_count": 23,
          "data": {
            "text/plain": "dict_values([12, 10, 75, 1, 'coins'])"
          },
          "metadata": {}
        }
      ]
    },
    {
      "metadata": {
        "trusted": true
      },
      "cell_type": "code",
      "source": "purse.items()",
      "execution_count": 24,
      "outputs": [
        {
          "output_type": "execute_result",
          "execution_count": 24,
          "data": {
            "text/plain": "dict_items([('money', 12), ('candy', 10), ('tissues', 75), ('perfume', 1), (1, 'coins')])"
          },
          "metadata": {}
        }
      ]
    },
    {
      "metadata": {},
      "cell_type": "markdown",
      "source": "### loop through dictionary"
    },
    {
      "metadata": {
        "trusted": true
      },
      "cell_type": "code",
      "source": "for i in purse:\n    print(i)",
      "execution_count": 25,
      "outputs": [
        {
          "output_type": "stream",
          "text": "money\ncandy\ntissues\nperfume\n1\n",
          "name": "stdout"
        }
      ]
    },
    {
      "metadata": {
        "trusted": true
      },
      "cell_type": "code",
      "source": "# use two iterative variable to iterate over keys and values in dictionary\n\nfor i,j in purse.items():\n    print('key = ',i)\n    print('value = ', j)",
      "execution_count": 26,
      "outputs": [
        {
          "output_type": "stream",
          "text": "key =  money\nvalue =  12\nkey =  candy\nvalue =  10\nkey =  tissues\nvalue =  75\nkey =  perfume\nvalue =  1\nkey =  1\nvalue =  coins\n",
          "name": "stdout"
        }
      ]
    },
    {
      "metadata": {},
      "cell_type": "markdown",
      "source": "### Creating word count dictionary for a list of names "
    },
    {
      "metadata": {
        "trusted": true
      },
      "cell_type": "code",
      "source": "names = ['Rahul','Priya','Rahul','Puja','Rahul','Priya']",
      "execution_count": 4,
      "outputs": []
    },
    {
      "metadata": {
        "trusted": true
      },
      "cell_type": "code",
      "source": "counts = dict()\ncounts",
      "execution_count": 5,
      "outputs": [
        {
          "output_type": "execute_result",
          "execution_count": 5,
          "data": {
            "text/plain": "{}"
          },
          "metadata": {}
        }
      ]
    },
    {
      "metadata": {
        "trusted": true
      },
      "cell_type": "code",
      "source": "counts = dict()\nfor i in names:\n    if i in counts:\n        counts[i]=counts[i]+1\n    else :\n        counts[i]=1\nprint(counts)",
      "execution_count": 10,
      "outputs": [
        {
          "output_type": "stream",
          "text": "{'Rahul': 3, 'Priya': 2, 'Puja': 1}\n",
          "name": "stdout"
        }
      ]
    },
    {
      "metadata": {},
      "cell_type": "markdown",
      "source": "### use of get() in dictionary"
    },
    {
      "metadata": {
        "trusted": true
      },
      "cell_type": "code",
      "source": "counts=dict()\nfor i in names:\n    counts[i]=counts.get(i,0)+1\nprint(counts)",
      "execution_count": 11,
      "outputs": [
        {
          "output_type": "stream",
          "text": "{'Rahul': 3, 'Priya': 2, 'Puja': 1}\n",
          "name": "stdout"
        }
      ]
    },
    {
      "metadata": {},
      "cell_type": "markdown",
      "source": "### Exercise 3: Take a text from the user and create a count dictionary for that text.\n\nEnter the following text:\n\n<b> \"the clown ran after the car and the car ran into the tent and the tent fell down on the clown and the car\""
    },
    {
      "metadata": {
        "trusted": true
      },
      "cell_type": "code",
      "source": "counts = dict()\ninptext = input(\"Enter the text : \")\ninptext_list = inptext.split()\nfor word in inptext_list:\n    counts[word]=counts.get(word,0)+1\nprint(counts)",
      "execution_count": 12,
      "outputs": [
        {
          "output_type": "stream",
          "name": "stdout",
          "text": "Enter the text : the clown ran after the car and the car ran into the tent and the tent fell down on the clown and the car\n{'the': 7, 'clown': 2, 'ran': 2, 'after': 1, 'car': 3, 'and': 3, 'into': 1, 'tent': 2, 'fell': 1, 'down': 1, 'on': 1}\n"
        }
      ]
    },
    {
      "metadata": {},
      "cell_type": "markdown",
      "source": "### Exercise 4: Find the word with maximum count in the dictionary created above."
    },
    {
      "metadata": {
        "trusted": true
      },
      "cell_type": "code",
      "source": "for i,j in counts.items():\n    if j == max(counts.values()):\n        print('key with max count is : ', i,j)",
      "execution_count": 16,
      "outputs": [
        {
          "output_type": "stream",
          "text": "key with max count is :  the 7\n",
          "name": "stdout"
        }
      ]
    },
    {
      "metadata": {},
      "cell_type": "markdown",
      "source": "### Inverting a dictionary"
    },
    {
      "metadata": {
        "trusted": true
      },
      "cell_type": "code",
      "source": "invertdict={}\nmydict = {'george':16,'amber':19}\nfor name in mydict:\n        invertdict[mydict[name]]=name\ninvertdict",
      "execution_count": 185,
      "outputs": [
        {
          "output_type": "execute_result",
          "execution_count": 185,
          "data": {
            "text/plain": "{16: 'george', 19: 'amber'}"
          },
          "metadata": {}
        }
      ]
    },
    {
      "metadata": {},
      "cell_type": "markdown",
      "source": "### Exercise 5: Invert the following dictionary:\n\nfruit_to_colour = {'watermelon': 'green', 'pomegranate': 'red',\n'peach': 'orange', 'cherry': 'red', 'pear': 'green',\n'banana': 'yellow', 'plum': 'purple', 'orange': 'orange'}\n"
    },
    {
      "metadata": {
        "trusted": true
      },
      "cell_type": "code",
      "source": "fruit_to_colour = {'watermelon': 'green', 'pomegranate': 'red',\n'peach': 'orange', 'cherry': 'red', 'pear': 'green',\n'banana': 'yellow', 'plum': 'purple', 'orange': 'orange'}\nfruit_to_colour",
      "execution_count": 186,
      "outputs": [
        {
          "output_type": "execute_result",
          "execution_count": 186,
          "data": {
            "text/plain": "{'watermelon': 'green',\n 'pomegranate': 'red',\n 'peach': 'orange',\n 'cherry': 'red',\n 'pear': 'green',\n 'banana': 'yellow',\n 'plum': 'purple',\n 'orange': 'orange'}"
          },
          "metadata": {}
        }
      ]
    },
    {
      "metadata": {
        "trusted": true
      },
      "cell_type": "code",
      "source": "colour_to_fruit={}\nfor fruit in fruit_to_colour:\n        colour_to_fruit[fruit_to_colour[fruit]]=fruit\ncolour_to_fruit",
      "execution_count": 187,
      "outputs": [
        {
          "output_type": "execute_result",
          "execution_count": 187,
          "data": {
            "text/plain": "{'green': 'pear',\n 'red': 'cherry',\n 'orange': 'orange',\n 'yellow': 'banana',\n 'purple': 'plum'}"
          },
          "metadata": {}
        }
      ]
    },
    {
      "metadata": {
        "trusted": true
      },
      "cell_type": "code",
      "source": "colour_to_fruit={}\nfor fruit in fruit_to_colour:\n    if fruit_to_colour[fruit] not in colour_to_fruit:\n        colour_to_fruit[fruit_to_colour[fruit]]= [fruit]\n    else:\n        colour_to_fruit[fruit_to_colour[fruit]].append(fruit)\ncolour_to_fruit",
      "execution_count": 188,
      "outputs": [
        {
          "output_type": "execute_result",
          "execution_count": 188,
          "data": {
            "text/plain": "{'green': ['watermelon', 'pear'],\n 'red': ['pomegranate', 'cherry'],\n 'orange': ['peach', 'orange'],\n 'yellow': ['banana'],\n 'purple': ['plum']}"
          },
          "metadata": {}
        }
      ]
    },
    {
      "metadata": {},
      "cell_type": "markdown",
      "source": "### Sorting list of tuples for a dictionary"
    },
    {
      "metadata": {
        "trusted": true
      },
      "cell_type": "code",
      "source": "sorted(counts.items())",
      "execution_count": 183,
      "outputs": [
        {
          "output_type": "execute_result",
          "execution_count": 183,
          "data": {
            "text/plain": "[('after', 1),\n ('and', 3),\n ('car', 3),\n ('clown', 2),\n ('down', 1),\n ('fell', 1),\n ('into', 1),\n ('on', 1),\n ('ran', 2),\n ('tent', 2),\n ('the', 7)]"
          },
          "metadata": {}
        }
      ]
    },
    {
      "metadata": {
        "trusted": true
      },
      "cell_type": "code",
      "source": "temp = {}\nfor a, b in counts.items():\n    temp[b]= a\nprint(temp)\nprint(temp.items())\nsorted(temp.items(),reverse = True)",
      "execution_count": 190,
      "outputs": [
        {
          "output_type": "stream",
          "text": "{7: 'the', 2: 'tent', 1: 'on', 3: 'and'}\ndict_items([(7, 'the'), (2, 'tent'), (1, 'on'), (3, 'and')])\n",
          "name": "stdout"
        },
        {
          "output_type": "execute_result",
          "execution_count": 190,
          "data": {
            "text/plain": "[(7, 'the'), (3, 'and'), (2, 'tent'), (1, 'on')]"
          },
          "metadata": {}
        }
      ]
    },
    {
      "metadata": {
        "trusted": true
      },
      "cell_type": "code",
      "source": "",
      "execution_count": null,
      "outputs": []
    }
  ],
  "metadata": {
    "kernelspec": {
      "name": "python36",
      "display_name": "Python 3.6",
      "language": "python"
    },
    "language_info": {
      "mimetype": "text/x-python",
      "nbconvert_exporter": "python",
      "name": "python",
      "pygments_lexer": "ipython3",
      "version": "3.6.6",
      "file_extension": ".py",
      "codemirror_mode": {
        "version": 3,
        "name": "ipython"
      }
    }
  },
  "nbformat": 4,
  "nbformat_minor": 2
}