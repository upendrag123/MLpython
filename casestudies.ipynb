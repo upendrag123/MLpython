{
  "cells": [
    {
      "metadata": {
        "trusted": true
      },
      "cell_type": "markdown",
      "source": "!pip install --upgrade pip\n!pip install numpy --upgrade --user\n!pip install pandas --upgrade --user\n!pip install scikit-learn --upgrade --user"
    },
    {
      "metadata": {
        "trusted": true
      },
      "cell_type": "code",
      "source": "import warnings\nwarnings.simplefilter(action='ignore',category=UserWarning)\nwarnings.simplefilter(action='ignore',category=FutureWarning)",
      "execution_count": 2,
      "outputs": []
    },
    {
      "metadata": {
        "trusted": true
      },
      "cell_type": "code",
      "source": "import numpy as np\nimport pandas as pd\nimport matplotlib.pyplot as plt\nimport seaborn as sns\nimport re\nfrom sklearn.experimental import enable_iterative_imputer\nfrom sklearn.impute import IterativeImputer\n%matplotlib inline\npd.options.display.float_format = '{:.3f}'.format",
      "execution_count": 3,
      "outputs": []
    },
    {
      "metadata": {
        "trusted": true
      },
      "cell_type": "code",
      "source": "train = pd.read_csv(\"https://dim-mlpython.s3.amazonaws.com/CreditRiskModeling/train.csv\", low_memory=False)\ntest = pd.read_csv(\"https://dim-mlpython.s3.amazonaws.com/CreditRiskModeling/test.csv\", low_memory=False)",
      "execution_count": 4,
      "outputs": []
    },
    {
      "metadata": {
        "trusted": true
      },
      "cell_type": "code",
      "source": "cleancolumn = []\nfor i in range(len(train.columns)):\n    cleancolumn.append(train.columns[i].replace(' ','_').lower())\ntrain.columns = cleancolumn",
      "execution_count": 30,
      "outputs": []
    },
    {
      "metadata": {
        "trusted": true
      },
      "cell_type": "code",
      "source": "train.head()",
      "execution_count": 31,
      "outputs": [
        {
          "output_type": "execute_result",
          "execution_count": 31,
          "data": {
            "text/html": "<div>\n<style scoped>\n    .dataframe tbody tr th:only-of-type {\n        vertical-align: middle;\n    }\n\n    .dataframe tbody tr th {\n        vertical-align: top;\n    }\n\n    .dataframe thead th {\n        text-align: right;\n    }\n</style>\n<table border=\"1\" class=\"dataframe\">\n  <thead>\n    <tr style=\"text-align: right;\">\n      <th></th>\n      <th>loan_id</th>\n      <th>customer_id</th>\n      <th>loan_status</th>\n      <th>current_loan_amount</th>\n      <th>term</th>\n      <th>credit_score</th>\n      <th>years_in_current_job</th>\n      <th>home_ownership</th>\n      <th>annual_income</th>\n      <th>purpose</th>\n      <th>monthly_debt</th>\n      <th>years_of_credit_history</th>\n      <th>months_since_last_delinquent</th>\n      <th>number_of_open_accounts</th>\n      <th>number_of_credit_problems</th>\n      <th>current_credit_balance</th>\n      <th>maximum_open_credit</th>\n      <th>bankruptcies</th>\n      <th>tax_liens</th>\n    </tr>\n  </thead>\n  <tbody>\n    <tr>\n      <th>0</th>\n      <td>a3fdf1db-e991-4293-976c-7d35564c0aec</td>\n      <td>74561f96-304a-492d-bc19-a6107d2afee9</td>\n      <td>Charged Off</td>\n      <td>10120</td>\n      <td>Long Term</td>\n      <td>6920.000</td>\n      <td>10+ years</td>\n      <td>Rent</td>\n      <td>47564.000</td>\n      <td>Debt Consolidation</td>\n      <td>990.92</td>\n      <td>21.800</td>\n      <td>28.000</td>\n      <td>10</td>\n      <td>0</td>\n      <td>3840</td>\n      <td>7694</td>\n      <td>0.000</td>\n      <td>0.000</td>\n    </tr>\n    <tr>\n      <th>1</th>\n      <td>c3f8006d-d1ef-4a94-ba55-c48034974205</td>\n      <td>b8e70101-dd49-4a39-84a6-5f92b390684c</td>\n      <td>Fully Paid</td>\n      <td>7144</td>\n      <td>Short Term</td>\n      <td>721.000</td>\n      <td>2 years</td>\n      <td>Home Mortgage</td>\n      <td>40820.000</td>\n      <td>Debt Consolidation</td>\n      <td>574.88</td>\n      <td>10.700</td>\n      <td>nan</td>\n      <td>6</td>\n      <td>0</td>\n      <td>13269</td>\n      <td>22565</td>\n      <td>0.000</td>\n      <td>0.000</td>\n    </tr>\n    <tr>\n      <th>2</th>\n      <td>076b722f-3658-47a8-a7f1-5179a9b45ade</td>\n      <td>0a28e046-9239-4ee0-8770-68a2f72bf2a0</td>\n      <td>Fully Paid</td>\n      <td>10100</td>\n      <td>Short Term</td>\n      <td>726.000</td>\n      <td>7 years</td>\n      <td>Own Home</td>\n      <td>54540.000</td>\n      <td>Debt Consolidation</td>\n      <td>577.22</td>\n      <td>37.300</td>\n      <td>nan</td>\n      <td>6</td>\n      <td>0</td>\n      <td>5373</td>\n      <td>8667</td>\n      <td>0.000</td>\n      <td>0.000</td>\n    </tr>\n    <tr>\n      <th>3</th>\n      <td>c2d68e37-572b-4a3b-afaa-b55a679c7d67</td>\n      <td>dc755ef2-1773-4d3b-8b6b-668bbae290c5</td>\n      <td>Fully Paid</td>\n      <td>30362</td>\n      <td>Long Term</td>\n      <td>708.000</td>\n      <td>1 year</td>\n      <td>Home Mortgage</td>\n      <td>63450.000</td>\n      <td>Debt Consolidation</td>\n      <td>1110.37</td>\n      <td>12.500</td>\n      <td>52.000</td>\n      <td>14</td>\n      <td>0</td>\n      <td>38329</td>\n      <td>57207</td>\n      <td>0.000</td>\n      <td>0.000</td>\n    </tr>\n    <tr>\n      <th>4</th>\n      <td>c02558d1-58cb-4b36-9569-ae55baeb328a</td>\n      <td>f0804ea2-249b-4e6c-ab2a-1554a7ff6a5b</td>\n      <td>Fully Paid</td>\n      <td>3571</td>\n      <td>Short Term</td>\n      <td>700.000</td>\n      <td>5 years</td>\n      <td>Home Mortgage</td>\n      <td>41370.000</td>\n      <td>Debt Consolidation</td>\n      <td>875.67</td>\n      <td>13.100</td>\n      <td>6.000</td>\n      <td>4</td>\n      <td>0</td>\n      <td>384</td>\n      <td>985</td>\n      <td>0.000</td>\n      <td>0.000</td>\n    </tr>\n  </tbody>\n</table>\n</div>",
            "text/plain": "                                loan_id                           customer_id  \\\n0  a3fdf1db-e991-4293-976c-7d35564c0aec  74561f96-304a-492d-bc19-a6107d2afee9   \n1  c3f8006d-d1ef-4a94-ba55-c48034974205  b8e70101-dd49-4a39-84a6-5f92b390684c   \n2  076b722f-3658-47a8-a7f1-5179a9b45ade  0a28e046-9239-4ee0-8770-68a2f72bf2a0   \n3  c2d68e37-572b-4a3b-afaa-b55a679c7d67  dc755ef2-1773-4d3b-8b6b-668bbae290c5   \n4  c02558d1-58cb-4b36-9569-ae55baeb328a  f0804ea2-249b-4e6c-ab2a-1554a7ff6a5b   \n\n   loan_status  current_loan_amount        term  credit_score  \\\n0  Charged Off                10120   Long Term      6920.000   \n1   Fully Paid                 7144  Short Term       721.000   \n2   Fully Paid                10100  Short Term       726.000   \n3   Fully Paid                30362   Long Term       708.000   \n4   Fully Paid                 3571  Short Term       700.000   \n\n  years_in_current_job home_ownership  annual_income             purpose  \\\n0            10+ years           Rent      47564.000  Debt Consolidation   \n1              2 years  Home Mortgage      40820.000  Debt Consolidation   \n2              7 years       Own Home      54540.000  Debt Consolidation   \n3               1 year  Home Mortgage      63450.000  Debt Consolidation   \n4              5 years  Home Mortgage      41370.000  Debt Consolidation   \n\n  monthly_debt  years_of_credit_history  months_since_last_delinquent  \\\n0       990.92                   21.800                        28.000   \n1       574.88                   10.700                           nan   \n2       577.22                   37.300                           nan   \n3      1110.37                   12.500                        52.000   \n4       875.67                   13.100                         6.000   \n\n   number_of_open_accounts  number_of_credit_problems  current_credit_balance  \\\n0                       10                          0                    3840   \n1                        6                          0                   13269   \n2                        6                          0                    5373   \n3                       14                          0                   38329   \n4                        4                          0                     384   \n\n  maximum_open_credit  bankruptcies  tax_liens  \n0                7694         0.000      0.000  \n1               22565         0.000      0.000  \n2                8667         0.000      0.000  \n3               57207         0.000      0.000  \n4                 985         0.000      0.000  "
          },
          "metadata": {}
        }
      ]
    },
    {
      "metadata": {
        "trusted": true
      },
      "cell_type": "code",
      "source": "print(train.shape)\ntrain.describe()",
      "execution_count": 32,
      "outputs": [
        {
          "output_type": "stream",
          "text": "(77823, 19)\n",
          "name": "stdout"
        },
        {
          "output_type": "execute_result",
          "execution_count": 32,
          "data": {
            "text/html": "<div>\n<style scoped>\n    .dataframe tbody tr th:only-of-type {\n        vertical-align: middle;\n    }\n\n    .dataframe tbody tr th {\n        vertical-align: top;\n    }\n\n    .dataframe thead th {\n        text-align: right;\n    }\n</style>\n<table border=\"1\" class=\"dataframe\">\n  <thead>\n    <tr style=\"text-align: right;\">\n      <th></th>\n      <th>current_loan_amount</th>\n      <th>credit_score</th>\n      <th>annual_income</th>\n      <th>years_of_credit_history</th>\n      <th>months_since_last_delinquent</th>\n      <th>number_of_open_accounts</th>\n      <th>number_of_credit_problems</th>\n      <th>current_credit_balance</th>\n      <th>bankruptcies</th>\n      <th>tax_liens</th>\n    </tr>\n  </thead>\n  <tbody>\n    <tr>\n      <th>count</th>\n      <td>77823.000</td>\n      <td>62908.000</td>\n      <td>62908.000</td>\n      <td>77823.000</td>\n      <td>36414.000</td>\n      <td>77823.000</td>\n      <td>77823.000</td>\n      <td>77823.000</td>\n      <td>77675.000</td>\n      <td>77818.000</td>\n    </tr>\n    <tr>\n      <th>mean</th>\n      <td>11537410.504</td>\n      <td>1070.662</td>\n      <td>72473.466</td>\n      <td>18.202</td>\n      <td>34.854</td>\n      <td>11.117</td>\n      <td>0.169</td>\n      <td>15529.053</td>\n      <td>0.119</td>\n      <td>0.029</td>\n    </tr>\n    <tr>\n      <th>std</th>\n      <td>31927864.472</td>\n      <td>1464.730</td>\n      <td>58417.419</td>\n      <td>7.030</td>\n      <td>21.889</td>\n      <td>5.013</td>\n      <td>0.483</td>\n      <td>20322.248</td>\n      <td>0.353</td>\n      <td>0.254</td>\n    </tr>\n    <tr>\n      <th>min</th>\n      <td>885.000</td>\n      <td>585.000</td>\n      <td>4268.000</td>\n      <td>3.600</td>\n      <td>0.000</td>\n      <td>0.000</td>\n      <td>0.000</td>\n      <td>0.000</td>\n      <td>0.000</td>\n      <td>0.000</td>\n    </tr>\n    <tr>\n      <th>25%</th>\n      <td>8149.500</td>\n      <td>705.000</td>\n      <td>44679.750</td>\n      <td>13.500</td>\n      <td>16.000</td>\n      <td>8.000</td>\n      <td>0.000</td>\n      <td>5879.000</td>\n      <td>0.000</td>\n      <td>0.000</td>\n    </tr>\n    <tr>\n      <th>50%</th>\n      <td>14213.000</td>\n      <td>724.000</td>\n      <td>61770.000</td>\n      <td>16.900</td>\n      <td>32.000</td>\n      <td>10.000</td>\n      <td>0.000</td>\n      <td>11008.000</td>\n      <td>0.000</td>\n      <td>0.000</td>\n    </tr>\n    <tr>\n      <th>75%</th>\n      <td>23861.500</td>\n      <td>741.000</td>\n      <td>86952.250</td>\n      <td>21.700</td>\n      <td>51.000</td>\n      <td>14.000</td>\n      <td>0.000</td>\n      <td>19427.500</td>\n      <td>0.000</td>\n      <td>0.000</td>\n    </tr>\n    <tr>\n      <th>max</th>\n      <td>99999999.000</td>\n      <td>7510.000</td>\n      <td>8713547.000</td>\n      <td>62.500</td>\n      <td>176.000</td>\n      <td>76.000</td>\n      <td>12.000</td>\n      <td>1730472.000</td>\n      <td>7.000</td>\n      <td>11.000</td>\n    </tr>\n  </tbody>\n</table>\n</div>",
            "text/plain": "       current_loan_amount  credit_score  annual_income  \\\ncount            77823.000     62908.000      62908.000   \nmean          11537410.504      1070.662      72473.466   \nstd           31927864.472      1464.730      58417.419   \nmin                885.000       585.000       4268.000   \n25%               8149.500       705.000      44679.750   \n50%              14213.000       724.000      61770.000   \n75%              23861.500       741.000      86952.250   \nmax           99999999.000      7510.000    8713547.000   \n\n       years_of_credit_history  months_since_last_delinquent  \\\ncount                77823.000                     36414.000   \nmean                    18.202                        34.854   \nstd                      7.030                        21.889   \nmin                      3.600                         0.000   \n25%                     13.500                        16.000   \n50%                     16.900                        32.000   \n75%                     21.700                        51.000   \nmax                     62.500                       176.000   \n\n       number_of_open_accounts  number_of_credit_problems  \\\ncount                77823.000                  77823.000   \nmean                    11.117                      0.169   \nstd                      5.013                      0.483   \nmin                      0.000                      0.000   \n25%                      8.000                      0.000   \n50%                     10.000                      0.000   \n75%                     14.000                      0.000   \nmax                     76.000                     12.000   \n\n       current_credit_balance  bankruptcies  tax_liens  \ncount               77823.000     77675.000  77818.000  \nmean                15529.053         0.119      0.029  \nstd                 20322.248         0.353      0.254  \nmin                     0.000         0.000      0.000  \n25%                  5879.000         0.000      0.000  \n50%                 11008.000         0.000      0.000  \n75%                 19427.500         0.000      0.000  \nmax               1730472.000         7.000     11.000  "
          },
          "metadata": {}
        }
      ]
    },
    {
      "metadata": {
        "trusted": true
      },
      "cell_type": "code",
      "source": "train.info()",
      "execution_count": 33,
      "outputs": [
        {
          "output_type": "stream",
          "text": "<class 'pandas.core.frame.DataFrame'>\nRangeIndex: 77823 entries, 0 to 77822\nData columns (total 19 columns):\nloan_id                         77823 non-null object\ncustomer_id                     77823 non-null object\nloan_status                     77823 non-null object\ncurrent_loan_amount             77823 non-null int64\nterm                            77823 non-null object\ncredit_score                    62908 non-null float64\nyears_in_current_job            74500 non-null object\nhome_ownership                  77823 non-null object\nannual_income                   62908 non-null float64\npurpose                         77823 non-null object\nmonthly_debt                    77823 non-null object\nyears_of_credit_history         77823 non-null float64\nmonths_since_last_delinquent    36414 non-null float64\nnumber_of_open_accounts         77823 non-null int64\nnumber_of_credit_problems       77823 non-null int64\ncurrent_credit_balance          77823 non-null int64\nmaximum_open_credit             77823 non-null object\nbankruptcies                    77675 non-null float64\ntax_liens                       77818 non-null float64\ndtypes: float64(6), int64(4), object(9)\nmemory usage: 11.3+ MB\n",
          "name": "stdout"
        }
      ]
    },
    {
      "metadata": {
        "trusted": true
      },
      "cell_type": "code",
      "source": "unique_loanid=train['loan_id'].unique().tolist()\nprint(\"Total samples in data:\",str(train.shape[0]))\nprint(\"Total unique samples in data:\",str(len(unique_loanid)))\nprint(\"Duplicate samples in data\",str(train.shape[0]-len(unique_loanid)))",
      "execution_count": 34,
      "outputs": [
        {
          "output_type": "stream",
          "text": "Total samples in data: 77823\nTotal unique samples in data: 62237\nDuplicate samples in data 15586\n",
          "name": "stdout"
        }
      ]
    },
    {
      "metadata": {
        "trusted": true
      },
      "cell_type": "code",
      "source": "train = train.drop_duplicates()\nprint(\"Total samples in data:\",str(train.shape[0]))\nprint(\"Total unique samples in data:\",str(len(unique_loanid)))\nprint(\"Duplicate samples in data\",str(train.shape[0]-len(unique_loanid)))",
      "execution_count": 35,
      "outputs": [
        {
          "output_type": "stream",
          "text": "Total samples in data: 69076\nTotal unique samples in data: 62237\nDuplicate samples in data 6839\n",
          "name": "stdout"
        }
      ]
    },
    {
      "metadata": {
        "trusted": true
      },
      "cell_type": "code",
      "source": "dup_loanid = train[train.duplicated(['loan_id'],keep=False)]\nprint(dup_loanid.shape)\ndup_loanid.describe()",
      "execution_count": 36,
      "outputs": [
        {
          "output_type": "stream",
          "text": "(13678, 19)\n",
          "name": "stdout"
        },
        {
          "output_type": "execute_result",
          "execution_count": 36,
          "data": {
            "text/html": "<div>\n<style scoped>\n    .dataframe tbody tr th:only-of-type {\n        vertical-align: middle;\n    }\n\n    .dataframe tbody tr th {\n        vertical-align: top;\n    }\n\n    .dataframe thead th {\n        text-align: right;\n    }\n</style>\n<table border=\"1\" class=\"dataframe\">\n  <thead>\n    <tr style=\"text-align: right;\">\n      <th></th>\n      <th>current_loan_amount</th>\n      <th>credit_score</th>\n      <th>annual_income</th>\n      <th>years_of_credit_history</th>\n      <th>months_since_last_delinquent</th>\n      <th>number_of_open_accounts</th>\n      <th>number_of_credit_problems</th>\n      <th>current_credit_balance</th>\n      <th>bankruptcies</th>\n      <th>tax_liens</th>\n    </tr>\n  </thead>\n  <tbody>\n    <tr>\n      <th>count</th>\n      <td>13678.000</td>\n      <td>10003.000</td>\n      <td>10003.000</td>\n      <td>13678.000</td>\n      <td>7238.000</td>\n      <td>13678.000</td>\n      <td>13678.000</td>\n      <td>13678.000</td>\n      <td>13658.000</td>\n      <td>13676.000</td>\n    </tr>\n    <tr>\n      <th>mean</th>\n      <td>22734326.610</td>\n      <td>699.678</td>\n      <td>72329.080</td>\n      <td>17.805</td>\n      <td>34.127</td>\n      <td>11.254</td>\n      <td>0.207</td>\n      <td>15804.026</td>\n      <td>0.140</td>\n      <td>0.039</td>\n    </tr>\n    <tr>\n      <th>std</th>\n      <td>41899176.187</td>\n      <td>24.989</td>\n      <td>46577.155</td>\n      <td>7.000</td>\n      <td>21.766</td>\n      <td>5.186</td>\n      <td>0.533</td>\n      <td>18911.803</td>\n      <td>0.371</td>\n      <td>0.299</td>\n    </tr>\n    <tr>\n      <th>min</th>\n      <td>978.000</td>\n      <td>587.000</td>\n      <td>9756.000</td>\n      <td>3.700</td>\n      <td>0.000</td>\n      <td>1.000</td>\n      <td>0.000</td>\n      <td>0.000</td>\n      <td>0.000</td>\n      <td>0.000</td>\n    </tr>\n    <tr>\n      <th>25%</th>\n      <td>9793.000</td>\n      <td>690.000</td>\n      <td>44928.000</td>\n      <td>13.000</td>\n      <td>15.000</td>\n      <td>8.000</td>\n      <td>0.000</td>\n      <td>5755.250</td>\n      <td>0.000</td>\n      <td>0.000</td>\n    </tr>\n    <tr>\n      <th>50%</th>\n      <td>17797.500</td>\n      <td>708.000</td>\n      <td>61362.000</td>\n      <td>16.700</td>\n      <td>31.000</td>\n      <td>10.000</td>\n      <td>0.000</td>\n      <td>10962.000</td>\n      <td>0.000</td>\n      <td>0.000</td>\n    </tr>\n    <tr>\n      <th>75%</th>\n      <td>35046.500</td>\n      <td>718.000</td>\n      <td>87014.500</td>\n      <td>21.400</td>\n      <td>50.000</td>\n      <td>14.000</td>\n      <td>0.000</td>\n      <td>19879.750</td>\n      <td>0.000</td>\n      <td>0.000</td>\n    </tr>\n    <tr>\n      <th>max</th>\n      <td>99999999.000</td>\n      <td>725.000</td>\n      <td>934705.000</td>\n      <td>59.500</td>\n      <td>91.000</td>\n      <td>47.000</td>\n      <td>9.000</td>\n      <td>291341.000</td>\n      <td>4.000</td>\n      <td>9.000</td>\n    </tr>\n  </tbody>\n</table>\n</div>",
            "text/plain": "       current_loan_amount  credit_score  annual_income  \\\ncount            13678.000     10003.000      10003.000   \nmean          22734326.610       699.678      72329.080   \nstd           41899176.187        24.989      46577.155   \nmin                978.000       587.000       9756.000   \n25%               9793.000       690.000      44928.000   \n50%              17797.500       708.000      61362.000   \n75%              35046.500       718.000      87014.500   \nmax           99999999.000       725.000     934705.000   \n\n       years_of_credit_history  months_since_last_delinquent  \\\ncount                13678.000                      7238.000   \nmean                    17.805                        34.127   \nstd                      7.000                        21.766   \nmin                      3.700                         0.000   \n25%                     13.000                        15.000   \n50%                     16.700                        31.000   \n75%                     21.400                        50.000   \nmax                     59.500                        91.000   \n\n       number_of_open_accounts  number_of_credit_problems  \\\ncount                13678.000                  13678.000   \nmean                    11.254                      0.207   \nstd                      5.186                      0.533   \nmin                      1.000                      0.000   \n25%                      8.000                      0.000   \n50%                     10.000                      0.000   \n75%                     14.000                      0.000   \nmax                     47.000                      9.000   \n\n       current_credit_balance  bankruptcies  tax_liens  \ncount               13678.000     13658.000  13676.000  \nmean                15804.026         0.140      0.039  \nstd                 18911.803         0.371      0.299  \nmin                     0.000         0.000      0.000  \n25%                  5755.250         0.000      0.000  \n50%                 10962.000         0.000      0.000  \n75%                 19879.750         0.000      0.000  \nmax                291341.000         4.000      9.000  "
          },
          "metadata": {}
        }
      ]
    },
    {
      "metadata": {
        "trusted": true
      },
      "cell_type": "code",
      "source": "sorted_df = dup_loanid.sort_values(['current_loan_amount','credit_score'],ascending=True,na_position='last')\nsorted_df.head()",
      "execution_count": 37,
      "outputs": [
        {
          "output_type": "execute_result",
          "execution_count": 37,
          "data": {
            "text/html": "<div>\n<style scoped>\n    .dataframe tbody tr th:only-of-type {\n        vertical-align: middle;\n    }\n\n    .dataframe tbody tr th {\n        vertical-align: top;\n    }\n\n    .dataframe thead th {\n        text-align: right;\n    }\n</style>\n<table border=\"1\" class=\"dataframe\">\n  <thead>\n    <tr style=\"text-align: right;\">\n      <th></th>\n      <th>loan_id</th>\n      <th>customer_id</th>\n      <th>loan_status</th>\n      <th>current_loan_amount</th>\n      <th>term</th>\n      <th>credit_score</th>\n      <th>years_in_current_job</th>\n      <th>home_ownership</th>\n      <th>annual_income</th>\n      <th>purpose</th>\n      <th>monthly_debt</th>\n      <th>years_of_credit_history</th>\n      <th>months_since_last_delinquent</th>\n      <th>number_of_open_accounts</th>\n      <th>number_of_credit_problems</th>\n      <th>current_credit_balance</th>\n      <th>maximum_open_credit</th>\n      <th>bankruptcies</th>\n      <th>tax_liens</th>\n    </tr>\n  </thead>\n  <tbody>\n    <tr>\n      <th>58916</th>\n      <td>07f5fb21-82d8-4cd8-98eb-cef89b460348</td>\n      <td>90dcf223-324c-4579-9062-9e275d1a9ec0</td>\n      <td>Fully Paid</td>\n      <td>978</td>\n      <td>Short Term</td>\n      <td>718.000</td>\n      <td>NaN</td>\n      <td>Home Mortgage</td>\n      <td>74313.000</td>\n      <td>major_purchase</td>\n      <td>1226.16</td>\n      <td>34.800</td>\n      <td>10.000</td>\n      <td>10</td>\n      <td>0</td>\n      <td>16547</td>\n      <td>17603</td>\n      <td>0.000</td>\n      <td>0.000</td>\n    </tr>\n    <tr>\n      <th>5957</th>\n      <td>2bc65e92-50b3-453f-88f4-101aa3f7c631</td>\n      <td>85e53503-06fe-45f1-8c6e-48618b924167</td>\n      <td>Fully Paid</td>\n      <td>979</td>\n      <td>Short Term</td>\n      <td>711.000</td>\n      <td>10+ years</td>\n      <td>Rent</td>\n      <td>29367.000</td>\n      <td>Debt Consolidation</td>\n      <td>702.36</td>\n      <td>46.700</td>\n      <td>nan</td>\n      <td>11</td>\n      <td>0</td>\n      <td>14133</td>\n      <td>15181</td>\n      <td>0.000</td>\n      <td>0.000</td>\n    </tr>\n    <tr>\n      <th>62240</th>\n      <td>2bc65e92-50b3-453f-88f4-101aa3f7c631</td>\n      <td>85e53503-06fe-45f1-8c6e-48618b924167</td>\n      <td>Fully Paid</td>\n      <td>979</td>\n      <td>Short Term</td>\n      <td>nan</td>\n      <td>10+ years</td>\n      <td>Rent</td>\n      <td>nan</td>\n      <td>Debt Consolidation</td>\n      <td>702.36</td>\n      <td>46.700</td>\n      <td>nan</td>\n      <td>11</td>\n      <td>0</td>\n      <td>14133</td>\n      <td>15181</td>\n      <td>0.000</td>\n      <td>0.000</td>\n    </tr>\n    <tr>\n      <th>33249</th>\n      <td>38af5e3a-9d54-456a-b335-21e172018517</td>\n      <td>5c92cda7-7386-47b4-b3d6-56c0e278e56f</td>\n      <td>Fully Paid</td>\n      <td>982</td>\n      <td>Short Term</td>\n      <td>697.000</td>\n      <td>5 years</td>\n      <td>Home Mortgage</td>\n      <td>29472.000</td>\n      <td>Debt Consolidation</td>\n      <td>44.21</td>\n      <td>11.500</td>\n      <td>nan</td>\n      <td>3</td>\n      <td>0</td>\n      <td>2021</td>\n      <td>8456</td>\n      <td>0.000</td>\n      <td>0.000</td>\n    </tr>\n    <tr>\n      <th>56983</th>\n      <td>ae401455-a534-4d31-bafa-3b1e0474a35b</td>\n      <td>c8c64614-1c34-49d9-a608-64dc942cf447</td>\n      <td>Fully Paid</td>\n      <td>983</td>\n      <td>Short Term</td>\n      <td>698.000</td>\n      <td>&lt; 1 year</td>\n      <td>Rent</td>\n      <td>37343.000</td>\n      <td>Debt Consolidation</td>\n      <td>886.89</td>\n      <td>13.000</td>\n      <td>nan</td>\n      <td>11</td>\n      <td>0</td>\n      <td>17472</td>\n      <td>19074</td>\n      <td>0.000</td>\n      <td>0.000</td>\n    </tr>\n  </tbody>\n</table>\n</div>",
            "text/plain": "                                    loan_id  \\\n58916  07f5fb21-82d8-4cd8-98eb-cef89b460348   \n5957   2bc65e92-50b3-453f-88f4-101aa3f7c631   \n62240  2bc65e92-50b3-453f-88f4-101aa3f7c631   \n33249  38af5e3a-9d54-456a-b335-21e172018517   \n56983  ae401455-a534-4d31-bafa-3b1e0474a35b   \n\n                                customer_id loan_status  current_loan_amount  \\\n58916  90dcf223-324c-4579-9062-9e275d1a9ec0  Fully Paid                  978   \n5957   85e53503-06fe-45f1-8c6e-48618b924167  Fully Paid                  979   \n62240  85e53503-06fe-45f1-8c6e-48618b924167  Fully Paid                  979   \n33249  5c92cda7-7386-47b4-b3d6-56c0e278e56f  Fully Paid                  982   \n56983  c8c64614-1c34-49d9-a608-64dc942cf447  Fully Paid                  983   \n\n             term  credit_score years_in_current_job home_ownership  \\\n58916  Short Term       718.000                  NaN  Home Mortgage   \n5957   Short Term       711.000            10+ years           Rent   \n62240  Short Term           nan            10+ years           Rent   \n33249  Short Term       697.000              5 years  Home Mortgage   \n56983  Short Term       698.000             < 1 year           Rent   \n\n       annual_income             purpose monthly_debt  \\\n58916      74313.000      major_purchase      1226.16   \n5957       29367.000  Debt Consolidation       702.36   \n62240            nan  Debt Consolidation       702.36   \n33249      29472.000  Debt Consolidation        44.21   \n56983      37343.000  Debt Consolidation       886.89   \n\n       years_of_credit_history  months_since_last_delinquent  \\\n58916                   34.800                        10.000   \n5957                    46.700                           nan   \n62240                   46.700                           nan   \n33249                   11.500                           nan   \n56983                   13.000                           nan   \n\n       number_of_open_accounts  number_of_credit_problems  \\\n58916                       10                          0   \n5957                        11                          0   \n62240                       11                          0   \n33249                        3                          0   \n56983                       11                          0   \n\n       current_credit_balance maximum_open_credit  bankruptcies  tax_liens  \n58916                   16547               17603         0.000      0.000  \n5957                    14133               15181         0.000      0.000  \n62240                   14133               15181         0.000      0.000  \n33249                    2021                8456         0.000      0.000  \n56983                   17472               19074         0.000      0.000  "
          },
          "metadata": {}
        }
      ]
    },
    {
      "metadata": {
        "trusted": true
      },
      "cell_type": "code",
      "source": "correct_df = sorted_df.drop_duplicates(['loan_id'],keep='first')\nprint(correct_df.shape)\ncorrect_df.head()",
      "execution_count": 38,
      "outputs": [
        {
          "output_type": "stream",
          "text": "(6839, 19)\n",
          "name": "stdout"
        },
        {
          "output_type": "execute_result",
          "execution_count": 38,
          "data": {
            "text/html": "<div>\n<style scoped>\n    .dataframe tbody tr th:only-of-type {\n        vertical-align: middle;\n    }\n\n    .dataframe tbody tr th {\n        vertical-align: top;\n    }\n\n    .dataframe thead th {\n        text-align: right;\n    }\n</style>\n<table border=\"1\" class=\"dataframe\">\n  <thead>\n    <tr style=\"text-align: right;\">\n      <th></th>\n      <th>loan_id</th>\n      <th>customer_id</th>\n      <th>loan_status</th>\n      <th>current_loan_amount</th>\n      <th>term</th>\n      <th>credit_score</th>\n      <th>years_in_current_job</th>\n      <th>home_ownership</th>\n      <th>annual_income</th>\n      <th>purpose</th>\n      <th>monthly_debt</th>\n      <th>years_of_credit_history</th>\n      <th>months_since_last_delinquent</th>\n      <th>number_of_open_accounts</th>\n      <th>number_of_credit_problems</th>\n      <th>current_credit_balance</th>\n      <th>maximum_open_credit</th>\n      <th>bankruptcies</th>\n      <th>tax_liens</th>\n    </tr>\n  </thead>\n  <tbody>\n    <tr>\n      <th>58916</th>\n      <td>07f5fb21-82d8-4cd8-98eb-cef89b460348</td>\n      <td>90dcf223-324c-4579-9062-9e275d1a9ec0</td>\n      <td>Fully Paid</td>\n      <td>978</td>\n      <td>Short Term</td>\n      <td>718.000</td>\n      <td>NaN</td>\n      <td>Home Mortgage</td>\n      <td>74313.000</td>\n      <td>major_purchase</td>\n      <td>1226.16</td>\n      <td>34.800</td>\n      <td>10.000</td>\n      <td>10</td>\n      <td>0</td>\n      <td>16547</td>\n      <td>17603</td>\n      <td>0.000</td>\n      <td>0.000</td>\n    </tr>\n    <tr>\n      <th>5957</th>\n      <td>2bc65e92-50b3-453f-88f4-101aa3f7c631</td>\n      <td>85e53503-06fe-45f1-8c6e-48618b924167</td>\n      <td>Fully Paid</td>\n      <td>979</td>\n      <td>Short Term</td>\n      <td>711.000</td>\n      <td>10+ years</td>\n      <td>Rent</td>\n      <td>29367.000</td>\n      <td>Debt Consolidation</td>\n      <td>702.36</td>\n      <td>46.700</td>\n      <td>nan</td>\n      <td>11</td>\n      <td>0</td>\n      <td>14133</td>\n      <td>15181</td>\n      <td>0.000</td>\n      <td>0.000</td>\n    </tr>\n    <tr>\n      <th>33249</th>\n      <td>38af5e3a-9d54-456a-b335-21e172018517</td>\n      <td>5c92cda7-7386-47b4-b3d6-56c0e278e56f</td>\n      <td>Fully Paid</td>\n      <td>982</td>\n      <td>Short Term</td>\n      <td>697.000</td>\n      <td>5 years</td>\n      <td>Home Mortgage</td>\n      <td>29472.000</td>\n      <td>Debt Consolidation</td>\n      <td>44.21</td>\n      <td>11.500</td>\n      <td>nan</td>\n      <td>3</td>\n      <td>0</td>\n      <td>2021</td>\n      <td>8456</td>\n      <td>0.000</td>\n      <td>0.000</td>\n    </tr>\n    <tr>\n      <th>56983</th>\n      <td>ae401455-a534-4d31-bafa-3b1e0474a35b</td>\n      <td>c8c64614-1c34-49d9-a608-64dc942cf447</td>\n      <td>Fully Paid</td>\n      <td>983</td>\n      <td>Short Term</td>\n      <td>698.000</td>\n      <td>&lt; 1 year</td>\n      <td>Rent</td>\n      <td>37343.000</td>\n      <td>Debt Consolidation</td>\n      <td>886.89</td>\n      <td>13.000</td>\n      <td>nan</td>\n      <td>11</td>\n      <td>0</td>\n      <td>17472</td>\n      <td>19074</td>\n      <td>0.000</td>\n      <td>0.000</td>\n    </tr>\n    <tr>\n      <th>47807</th>\n      <td>df1680ed-de74-4ec4-ab3c-cdacfd2a911e</td>\n      <td>b44395a3-4f94-41ff-ad65-8f1d8b06919d</td>\n      <td>Fully Paid</td>\n      <td>983</td>\n      <td>Short Term</td>\n      <td>714.000</td>\n      <td>5 years</td>\n      <td>Home Mortgage</td>\n      <td>44959.000</td>\n      <td>other</td>\n      <td>338.32</td>\n      <td>11.400</td>\n      <td>nan</td>\n      <td>9</td>\n      <td>0</td>\n      <td>8182</td>\n      <td>9245</td>\n      <td>0.000</td>\n      <td>0.000</td>\n    </tr>\n  </tbody>\n</table>\n</div>",
            "text/plain": "                                    loan_id  \\\n58916  07f5fb21-82d8-4cd8-98eb-cef89b460348   \n5957   2bc65e92-50b3-453f-88f4-101aa3f7c631   \n33249  38af5e3a-9d54-456a-b335-21e172018517   \n56983  ae401455-a534-4d31-bafa-3b1e0474a35b   \n47807  df1680ed-de74-4ec4-ab3c-cdacfd2a911e   \n\n                                customer_id loan_status  current_loan_amount  \\\n58916  90dcf223-324c-4579-9062-9e275d1a9ec0  Fully Paid                  978   \n5957   85e53503-06fe-45f1-8c6e-48618b924167  Fully Paid                  979   \n33249  5c92cda7-7386-47b4-b3d6-56c0e278e56f  Fully Paid                  982   \n56983  c8c64614-1c34-49d9-a608-64dc942cf447  Fully Paid                  983   \n47807  b44395a3-4f94-41ff-ad65-8f1d8b06919d  Fully Paid                  983   \n\n             term  credit_score years_in_current_job home_ownership  \\\n58916  Short Term       718.000                  NaN  Home Mortgage   \n5957   Short Term       711.000            10+ years           Rent   \n33249  Short Term       697.000              5 years  Home Mortgage   \n56983  Short Term       698.000             < 1 year           Rent   \n47807  Short Term       714.000              5 years  Home Mortgage   \n\n       annual_income             purpose monthly_debt  \\\n58916      74313.000      major_purchase      1226.16   \n5957       29367.000  Debt Consolidation       702.36   \n33249      29472.000  Debt Consolidation        44.21   \n56983      37343.000  Debt Consolidation       886.89   \n47807      44959.000               other       338.32   \n\n       years_of_credit_history  months_since_last_delinquent  \\\n58916                   34.800                        10.000   \n5957                    46.700                           nan   \n33249                   11.500                           nan   \n56983                   13.000                           nan   \n47807                   11.400                           nan   \n\n       number_of_open_accounts  number_of_credit_problems  \\\n58916                       10                          0   \n5957                        11                          0   \n33249                        3                          0   \n56983                       11                          0   \n47807                        9                          0   \n\n       current_credit_balance maximum_open_credit  bankruptcies  tax_liens  \n58916                   16547               17603         0.000      0.000  \n5957                    14133               15181         0.000      0.000  \n33249                    2021                8456         0.000      0.000  \n56983                   17472               19074         0.000      0.000  \n47807                    8182                9245         0.000      0.000  "
          },
          "metadata": {}
        }
      ]
    },
    {
      "metadata": {
        "trusted": true
      },
      "cell_type": "code",
      "source": "correct_df[correct_df['current_loan_amount']==99999999]",
      "execution_count": 39,
      "outputs": [
        {
          "output_type": "execute_result",
          "execution_count": 39,
          "data": {
            "text/html": "<div>\n<style scoped>\n    .dataframe tbody tr th:only-of-type {\n        vertical-align: middle;\n    }\n\n    .dataframe tbody tr th {\n        vertical-align: top;\n    }\n\n    .dataframe thead th {\n        text-align: right;\n    }\n</style>\n<table border=\"1\" class=\"dataframe\">\n  <thead>\n    <tr style=\"text-align: right;\">\n      <th></th>\n      <th>loan_id</th>\n      <th>customer_id</th>\n      <th>loan_status</th>\n      <th>current_loan_amount</th>\n      <th>term</th>\n      <th>credit_score</th>\n      <th>years_in_current_job</th>\n      <th>home_ownership</th>\n      <th>annual_income</th>\n      <th>purpose</th>\n      <th>monthly_debt</th>\n      <th>years_of_credit_history</th>\n      <th>months_since_last_delinquent</th>\n      <th>number_of_open_accounts</th>\n      <th>number_of_credit_problems</th>\n      <th>current_credit_balance</th>\n      <th>maximum_open_credit</th>\n      <th>bankruptcies</th>\n      <th>tax_liens</th>\n    </tr>\n  </thead>\n  <tbody>\n  </tbody>\n</table>\n</div>",
            "text/plain": "Empty DataFrame\nColumns: [loan_id, customer_id, loan_status, current_loan_amount, term, credit_score, years_in_current_job, home_ownership, annual_income, purpose, monthly_debt, years_of_credit_history, months_since_last_delinquent, number_of_open_accounts, number_of_credit_problems, current_credit_balance, maximum_open_credit, bankruptcies, tax_liens]\nIndex: []"
          },
          "metadata": {}
        }
      ]
    },
    {
      "metadata": {
        "trusted": true
      },
      "cell_type": "code",
      "source": "correct_df[correct_df['credit_score'].isnull()]",
      "execution_count": 40,
      "outputs": [
        {
          "output_type": "execute_result",
          "execution_count": 40,
          "data": {
            "text/html": "<div>\n<style scoped>\n    .dataframe tbody tr th:only-of-type {\n        vertical-align: middle;\n    }\n\n    .dataframe tbody tr th {\n        vertical-align: top;\n    }\n\n    .dataframe thead th {\n        text-align: right;\n    }\n</style>\n<table border=\"1\" class=\"dataframe\">\n  <thead>\n    <tr style=\"text-align: right;\">\n      <th></th>\n      <th>loan_id</th>\n      <th>customer_id</th>\n      <th>loan_status</th>\n      <th>current_loan_amount</th>\n      <th>term</th>\n      <th>credit_score</th>\n      <th>years_in_current_job</th>\n      <th>home_ownership</th>\n      <th>annual_income</th>\n      <th>purpose</th>\n      <th>monthly_debt</th>\n      <th>years_of_credit_history</th>\n      <th>months_since_last_delinquent</th>\n      <th>number_of_open_accounts</th>\n      <th>number_of_credit_problems</th>\n      <th>current_credit_balance</th>\n      <th>maximum_open_credit</th>\n      <th>bankruptcies</th>\n      <th>tax_liens</th>\n    </tr>\n  </thead>\n  <tbody>\n  </tbody>\n</table>\n</div>",
            "text/plain": "Empty DataFrame\nColumns: [loan_id, customer_id, loan_status, current_loan_amount, term, credit_score, years_in_current_job, home_ownership, annual_income, purpose, monthly_debt, years_of_credit_history, months_since_last_delinquent, number_of_open_accounts, number_of_credit_problems, current_credit_balance, maximum_open_credit, bankruptcies, tax_liens]\nIndex: []"
          },
          "metadata": {}
        }
      ]
    },
    {
      "metadata": {
        "trusted": true
      },
      "cell_type": "code",
      "source": "train.drop_duplicates(['loan_id'],keep=False,inplace=True)",
      "execution_count": 41,
      "outputs": []
    },
    {
      "metadata": {
        "trusted": true
      },
      "cell_type": "code",
      "source": "train.shape",
      "execution_count": 42,
      "outputs": [
        {
          "output_type": "execute_result",
          "execution_count": 42,
          "data": {
            "text/plain": "(55398, 19)"
          },
          "metadata": {}
        }
      ]
    },
    {
      "metadata": {
        "trusted": true
      },
      "cell_type": "code",
      "source": "train = train.append(correct_df,ignore_index=True)\nprint(train.shape)\ntrain.describe()",
      "execution_count": 43,
      "outputs": [
        {
          "output_type": "stream",
          "text": "(62237, 19)\n",
          "name": "stdout"
        },
        {
          "output_type": "execute_result",
          "execution_count": 43,
          "data": {
            "text/html": "<div>\n<style scoped>\n    .dataframe tbody tr th:only-of-type {\n        vertical-align: middle;\n    }\n\n    .dataframe tbody tr th {\n        vertical-align: top;\n    }\n\n    .dataframe thead th {\n        text-align: right;\n    }\n</style>\n<table border=\"1\" class=\"dataframe\">\n  <thead>\n    <tr style=\"text-align: right;\">\n      <th></th>\n      <th>current_loan_amount</th>\n      <th>credit_score</th>\n      <th>annual_income</th>\n      <th>years_of_credit_history</th>\n      <th>months_since_last_delinquent</th>\n      <th>number_of_open_accounts</th>\n      <th>number_of_credit_problems</th>\n      <th>current_credit_balance</th>\n      <th>bankruptcies</th>\n      <th>tax_liens</th>\n    </tr>\n  </thead>\n  <tbody>\n    <tr>\n      <th>count</th>\n      <td>62237.000</td>\n      <td>50997.000</td>\n      <td>50997.000</td>\n      <td>62237.000</td>\n      <td>28203.000</td>\n      <td>62237.000</td>\n      <td>62237.000</td>\n      <td>62237.000</td>\n      <td>62112.000</td>\n      <td>62233.000</td>\n    </tr>\n    <tr>\n      <th>mean</th>\n      <td>9429888.029</td>\n      <td>1157.211</td>\n      <td>72470.303</td>\n      <td>18.316</td>\n      <td>35.066</td>\n      <td>11.105</td>\n      <td>0.162</td>\n      <td>15480.221</td>\n      <td>0.114</td>\n      <td>0.028</td>\n    </tr>\n    <tr>\n      <th>std</th>\n      <td>29202977.662</td>\n      <td>1614.569</td>\n      <td>60939.354</td>\n      <td>7.063</td>\n      <td>21.933</td>\n      <td>4.986</td>\n      <td>0.472</td>\n      <td>20276.316</td>\n      <td>0.345</td>\n      <td>0.249</td>\n    </tr>\n    <tr>\n      <th>min</th>\n      <td>885.000</td>\n      <td>585.000</td>\n      <td>4268.000</td>\n      <td>3.600</td>\n      <td>0.000</td>\n      <td>0.000</td>\n      <td>0.000</td>\n      <td>0.000</td>\n      <td>0.000</td>\n      <td>0.000</td>\n    </tr>\n    <tr>\n      <th>25%</th>\n      <td>8060.000</td>\n      <td>711.000</td>\n      <td>44681.000</td>\n      <td>13.500</td>\n      <td>16.000</td>\n      <td>8.000</td>\n      <td>0.000</td>\n      <td>5925.000</td>\n      <td>0.000</td>\n      <td>0.000</td>\n    </tr>\n    <tr>\n      <th>50%</th>\n      <td>13425.000</td>\n      <td>731.000</td>\n      <td>61708.000</td>\n      <td>17.000</td>\n      <td>32.000</td>\n      <td>10.000</td>\n      <td>0.000</td>\n      <td>11014.000</td>\n      <td>0.000</td>\n      <td>0.000</td>\n    </tr>\n    <tr>\n      <th>75%</th>\n      <td>21628.000</td>\n      <td>743.000</td>\n      <td>86912.000</td>\n      <td>21.800</td>\n      <td>51.000</td>\n      <td>14.000</td>\n      <td>0.000</td>\n      <td>19365.000</td>\n      <td>0.000</td>\n      <td>0.000</td>\n    </tr>\n    <tr>\n      <th>max</th>\n      <td>99999999.000</td>\n      <td>7510.000</td>\n      <td>8713547.000</td>\n      <td>62.500</td>\n      <td>176.000</td>\n      <td>76.000</td>\n      <td>12.000</td>\n      <td>1730472.000</td>\n      <td>7.000</td>\n      <td>11.000</td>\n    </tr>\n  </tbody>\n</table>\n</div>",
            "text/plain": "       current_loan_amount  credit_score  annual_income  \\\ncount            62237.000     50997.000      50997.000   \nmean           9429888.029      1157.211      72470.303   \nstd           29202977.662      1614.569      60939.354   \nmin                885.000       585.000       4268.000   \n25%               8060.000       711.000      44681.000   \n50%              13425.000       731.000      61708.000   \n75%              21628.000       743.000      86912.000   \nmax           99999999.000      7510.000    8713547.000   \n\n       years_of_credit_history  months_since_last_delinquent  \\\ncount                62237.000                     28203.000   \nmean                    18.316                        35.066   \nstd                      7.063                        21.933   \nmin                      3.600                         0.000   \n25%                     13.500                        16.000   \n50%                     17.000                        32.000   \n75%                     21.800                        51.000   \nmax                     62.500                       176.000   \n\n       number_of_open_accounts  number_of_credit_problems  \\\ncount                62237.000                  62237.000   \nmean                    11.105                      0.162   \nstd                      4.986                      0.472   \nmin                      0.000                      0.000   \n25%                      8.000                      0.000   \n50%                     10.000                      0.000   \n75%                     14.000                      0.000   \nmax                     76.000                     12.000   \n\n       current_credit_balance  bankruptcies  tax_liens  \ncount               62237.000     62112.000  62233.000  \nmean                15480.221         0.114      0.028  \nstd                 20276.316         0.345      0.249  \nmin                     0.000         0.000      0.000  \n25%                  5925.000         0.000      0.000  \n50%                 11014.000         0.000      0.000  \n75%                 19365.000         0.000      0.000  \nmax               1730472.000         7.000     11.000  "
          },
          "metadata": {}
        }
      ]
    },
    {
      "metadata": {
        "trusted": true
      },
      "cell_type": "code",
      "source": "train['years_in_current_job'].unique()",
      "execution_count": 44,
      "outputs": [
        {
          "output_type": "execute_result",
          "execution_count": 44,
          "data": {
            "text/plain": "array(['10+ years', '2 years', '7 years', '5 years', '< 1 year',\n       '4 years', '8 years', '1 year', '3 years', nan, '6 years',\n       '9 years'], dtype=object)"
          },
          "metadata": {}
        }
      ]
    },
    {
      "metadata": {
        "trusted": true
      },
      "cell_type": "code",
      "source": "train['years_in_current_job']=[0 if str(x)=='< 1 year' else x if str(x)=='nan' else int(re.findall(r'\\d+', str(x))[0]) for x in train['years_in_current_job']]\ntrain['years_in_current_job'].unique()",
      "execution_count": 45,
      "outputs": [
        {
          "output_type": "execute_result",
          "execution_count": 45,
          "data": {
            "text/plain": "array([10.,  2.,  7.,  5.,  0.,  4.,  8.,  1.,  3., nan,  6.,  9.])"
          },
          "metadata": {}
        }
      ]
    },
    {
      "metadata": {
        "trusted": true
      },
      "cell_type": "code",
      "source": "train['credit_score'].head(10)",
      "execution_count": 46,
      "outputs": [
        {
          "output_type": "execute_result",
          "execution_count": 46,
          "data": {
            "text/plain": "0   6920.000\n1    721.000\n2    726.000\n3    707.000\n4    700.000\n5    733.000\n6    694.000\n7    724.000\n8   6950.000\n9        nan\nName: credit_score, dtype: float64"
          },
          "metadata": {}
        }
      ]
    },
    {
      "metadata": {
        "trusted": true
      },
      "cell_type": "code",
      "source": "def credit_range(x):\n    if x>800:\n        return int(x/10)\n    elif str(x) == 'nan':\n        return x\n    else:\n        return int(x)",
      "execution_count": 47,
      "outputs": []
    },
    {
      "metadata": {
        "trusted": true
      },
      "cell_type": "code",
      "source": "train['credit_score'] = train['credit_score'].map(credit_range)\ntrain['credit_score'].head(10)",
      "execution_count": 48,
      "outputs": [
        {
          "output_type": "execute_result",
          "execution_count": 48,
          "data": {
            "text/plain": "0   692.000\n1   721.000\n2   726.000\n3   707.000\n4   700.000\n5   733.000\n6   694.000\n7   724.000\n8   695.000\n9       nan\nName: credit_score, dtype: float64"
          },
          "metadata": {}
        }
      ]
    },
    {
      "metadata": {
        "trusted": true
      },
      "cell_type": "code",
      "source": "print(train.shape)\ntrain[train['maximum_open_credit']=='#VALUE!']",
      "execution_count": 49,
      "outputs": [
        {
          "output_type": "stream",
          "text": "(62237, 19)\n",
          "name": "stdout"
        },
        {
          "output_type": "execute_result",
          "execution_count": 49,
          "data": {
            "text/html": "<div>\n<style scoped>\n    .dataframe tbody tr th:only-of-type {\n        vertical-align: middle;\n    }\n\n    .dataframe tbody tr th {\n        vertical-align: top;\n    }\n\n    .dataframe thead th {\n        text-align: right;\n    }\n</style>\n<table border=\"1\" class=\"dataframe\">\n  <thead>\n    <tr style=\"text-align: right;\">\n      <th></th>\n      <th>loan_id</th>\n      <th>customer_id</th>\n      <th>loan_status</th>\n      <th>current_loan_amount</th>\n      <th>term</th>\n      <th>credit_score</th>\n      <th>years_in_current_job</th>\n      <th>home_ownership</th>\n      <th>annual_income</th>\n      <th>purpose</th>\n      <th>monthly_debt</th>\n      <th>years_of_credit_history</th>\n      <th>months_since_last_delinquent</th>\n      <th>number_of_open_accounts</th>\n      <th>number_of_credit_problems</th>\n      <th>current_credit_balance</th>\n      <th>maximum_open_credit</th>\n      <th>bankruptcies</th>\n      <th>tax_liens</th>\n    </tr>\n  </thead>\n  <tbody>\n    <tr>\n      <th>35792</th>\n      <td>b798f46b-e27b-4823-af83-294b1ffc3490</td>\n      <td>f61890c5-e264-4b0f-a047-9cfa03b9d182</td>\n      <td>Charged Off</td>\n      <td>1470</td>\n      <td>Short Term</td>\n      <td>nan</td>\n      <td>2.000</td>\n      <td>Rent</td>\n      <td>nan</td>\n      <td>Debt Consolidation</td>\n      <td>506.34</td>\n      <td>15.300</td>\n      <td>26.000</td>\n      <td>3</td>\n      <td>0</td>\n      <td>0</td>\n      <td>#VALUE!</td>\n      <td>0.000</td>\n      <td>0.000</td>\n    </tr>\n  </tbody>\n</table>\n</div>",
            "text/plain": "                                    loan_id  \\\n35792  b798f46b-e27b-4823-af83-294b1ffc3490   \n\n                                customer_id  loan_status  current_loan_amount  \\\n35792  f61890c5-e264-4b0f-a047-9cfa03b9d182  Charged Off                 1470   \n\n             term  credit_score  years_in_current_job home_ownership  \\\n35792  Short Term           nan                 2.000           Rent   \n\n       annual_income             purpose monthly_debt  \\\n35792            nan  Debt Consolidation       506.34   \n\n       years_of_credit_history  months_since_last_delinquent  \\\n35792                   15.300                        26.000   \n\n       number_of_open_accounts  number_of_credit_problems  \\\n35792                        3                          0   \n\n       current_credit_balance maximum_open_credit  bankruptcies  tax_liens  \n35792                       0             #VALUE!         0.000      0.000  "
          },
          "metadata": {}
        }
      ]
    },
    {
      "metadata": {
        "trusted": true
      },
      "cell_type": "code",
      "source": "train=train[train['maximum_open_credit']!='#VALUE!']\ntrain['maximum_open_credit']= pd.to_numeric(train['maximum_open_credit'])\ntrain.shape",
      "execution_count": 50,
      "outputs": [
        {
          "output_type": "execute_result",
          "execution_count": 50,
          "data": {
            "text/plain": "(62236, 19)"
          },
          "metadata": {}
        }
      ]
    },
    {
      "metadata": {
        "trusted": true
      },
      "cell_type": "code",
      "source": "train['monthly_debt']=train['monthly_debt'].str.strip('$')\ntrain['monthly_debt']=pd.to_numeric(train['monthly_debt'])\ntrain['monthly_debt'].describe()",
      "execution_count": 51,
      "outputs": [
        {
          "output_type": "execute_result",
          "execution_count": 51,
          "data": {
            "text/plain": "count   62236.000\nmean      963.653\nstd       642.180\nmin         0.000\n25%       532.188\n50%       842.560\n75%      1250.362\nmax     22939.120\nName: monthly_debt, dtype: float64"
          },
          "metadata": {}
        }
      ]
    },
    {
      "metadata": {
        "trusted": true
      },
      "cell_type": "code",
      "source": "ax = sns.boxplot(data=train['current_loan_amount'],orient='h',palette=\"Set2\")",
      "execution_count": 52,
      "outputs": [
        {
          "output_type": "display_data",
          "data": {
            "image/png": "[encoded data removed]",
            "text/plain": "<Figure size 432x288 with 1 Axes>"
          },
          "metadata": {
            "needs_background": "light"
          }
        }
      ]
    },
    {
      "metadata": {
        "trusted": true
      },
      "cell_type": "code",
      "source": "train['current_loan_amount'] =[np.nan if int(x) == 99999999 else x for x in train['current_loan_amount']]",
      "execution_count": 53,
      "outputs": []
    },
    {
      "metadata": {
        "trusted": true
      },
      "cell_type": "code",
      "source": "ax = sns.boxplot(data=train['current_loan_amount'],orient='h',palette=\"Set2\")",
      "execution_count": 54,
      "outputs": [
        {
          "output_type": "display_data",
          "data": {
            "image/png": "[encoded data removed]",
            "text/plain": "<Figure size 432x288 with 1 Axes>"
          },
          "metadata": {
            "needs_background": "light"
          }
        }
      ]
    },
    {
      "metadata": {
        "trusted": true
      },
      "cell_type": "code",
      "source": "train.describe()",
      "execution_count": 55,
      "outputs": [
        {
          "output_type": "execute_result",
          "execution_count": 55,
          "data": {
            "text/html": "<div>\n<style scoped>\n    .dataframe tbody tr th:only-of-type {\n        vertical-align: middle;\n    }\n\n    .dataframe tbody tr th {\n        vertical-align: top;\n    }\n\n    .dataframe thead th {\n        text-align: right;\n    }\n</style>\n<table border=\"1\" class=\"dataframe\">\n  <thead>\n    <tr style=\"text-align: right;\">\n      <th></th>\n      <th>current_loan_amount</th>\n      <th>credit_score</th>\n      <th>years_in_current_job</th>\n      <th>annual_income</th>\n      <th>monthly_debt</th>\n      <th>years_of_credit_history</th>\n      <th>months_since_last_delinquent</th>\n      <th>number_of_open_accounts</th>\n      <th>number_of_credit_problems</th>\n      <th>current_credit_balance</th>\n      <th>maximum_open_credit</th>\n      <th>bankruptcies</th>\n      <th>tax_liens</th>\n    </tr>\n  </thead>\n  <tbody>\n    <tr>\n      <th>count</th>\n      <td>56375.000</td>\n      <td>50997.000</td>\n      <td>59559.000</td>\n      <td>50997.000</td>\n      <td>62236.000</td>\n      <td>62236.000</td>\n      <td>28202.000</td>\n      <td>62236.000</td>\n      <td>62236.000</td>\n      <td>62236.000</td>\n      <td>62236.000</td>\n      <td>62111.000</td>\n      <td>62232.000</td>\n    </tr>\n    <tr>\n      <th>mean</th>\n      <td>13976.863</td>\n      <td>720.100</td>\n      <td>5.880</td>\n      <td>72470.303</td>\n      <td>963.653</td>\n      <td>18.316</td>\n      <td>35.066</td>\n      <td>11.105</td>\n      <td>0.162</td>\n      <td>15480.470</td>\n      <td>35785.109</td>\n      <td>0.114</td>\n      <td>0.028</td>\n    </tr>\n    <tr>\n      <th>std</th>\n      <td>8296.618</td>\n      <td>27.891</td>\n      <td>3.627</td>\n      <td>60939.354</td>\n      <td>642.180</td>\n      <td>7.063</td>\n      <td>21.934</td>\n      <td>4.986</td>\n      <td>0.472</td>\n      <td>20276.384</td>\n      <td>372633.539</td>\n      <td>0.345</td>\n      <td>0.249</td>\n    </tr>\n    <tr>\n      <th>min</th>\n      <td>885.000</td>\n      <td>585.000</td>\n      <td>0.000</td>\n      <td>4268.000</td>\n      <td>0.000</td>\n      <td>3.600</td>\n      <td>0.000</td>\n      <td>0.000</td>\n      <td>0.000</td>\n      <td>0.000</td>\n      <td>0.000</td>\n      <td>0.000</td>\n      <td>0.000</td>\n    </tr>\n    <tr>\n      <th>25%</th>\n      <td>7800.000</td>\n      <td>708.000</td>\n      <td>3.000</td>\n      <td>44681.000</td>\n      <td>532.188</td>\n      <td>13.500</td>\n      <td>16.000</td>\n      <td>8.000</td>\n      <td>0.000</td>\n      <td>5925.750</td>\n      <td>12796.000</td>\n      <td>0.000</td>\n      <td>0.000</td>\n    </tr>\n    <tr>\n      <th>50%</th>\n      <td>12060.000</td>\n      <td>728.000</td>\n      <td>6.000</td>\n      <td>61708.000</td>\n      <td>842.560</td>\n      <td>17.000</td>\n      <td>32.000</td>\n      <td>10.000</td>\n      <td>0.000</td>\n      <td>11014.000</td>\n      <td>21813.500</td>\n      <td>0.000</td>\n      <td>0.000</td>\n    </tr>\n    <tr>\n      <th>75%</th>\n      <td>19478.000</td>\n      <td>741.000</td>\n      <td>10.000</td>\n      <td>86912.000</td>\n      <td>1250.362</td>\n      <td>21.800</td>\n      <td>51.000</td>\n      <td>14.000</td>\n      <td>0.000</td>\n      <td>19365.250</td>\n      <td>36476.000</td>\n      <td>0.000</td>\n      <td>0.000</td>\n    </tr>\n    <tr>\n      <th>max</th>\n      <td>35875.000</td>\n      <td>751.000</td>\n      <td>10.000</td>\n      <td>8713547.000</td>\n      <td>22939.120</td>\n      <td>62.500</td>\n      <td>176.000</td>\n      <td>76.000</td>\n      <td>12.000</td>\n      <td>1730472.000</td>\n      <td>69988086.000</td>\n      <td>7.000</td>\n      <td>11.000</td>\n    </tr>\n  </tbody>\n</table>\n</div>",
            "text/plain": "       current_loan_amount  credit_score  years_in_current_job  annual_income  \\\ncount            56375.000     50997.000             59559.000      50997.000   \nmean             13976.863       720.100                 5.880      72470.303   \nstd               8296.618        27.891                 3.627      60939.354   \nmin                885.000       585.000                 0.000       4268.000   \n25%               7800.000       708.000                 3.000      44681.000   \n50%              12060.000       728.000                 6.000      61708.000   \n75%              19478.000       741.000                10.000      86912.000   \nmax              35875.000       751.000                10.000    8713547.000   \n\n       monthly_debt  years_of_credit_history  months_since_last_delinquent  \\\ncount     62236.000                62236.000                     28202.000   \nmean        963.653                   18.316                        35.066   \nstd         642.180                    7.063                        21.934   \nmin           0.000                    3.600                         0.000   \n25%         532.188                   13.500                        16.000   \n50%         842.560                   17.000                        32.000   \n75%        1250.362                   21.800                        51.000   \nmax       22939.120                   62.500                       176.000   \n\n       number_of_open_accounts  number_of_credit_problems  \\\ncount                62236.000                  62236.000   \nmean                    11.105                      0.162   \nstd                      4.986                      0.472   \nmin                      0.000                      0.000   \n25%                      8.000                      0.000   \n50%                     10.000                      0.000   \n75%                     14.000                      0.000   \nmax                     76.000                     12.000   \n\n       current_credit_balance  maximum_open_credit  bankruptcies  tax_liens  \ncount               62236.000            62236.000     62111.000  62232.000  \nmean                15480.470            35785.109         0.114      0.028  \nstd                 20276.384           372633.539         0.345      0.249  \nmin                     0.000                0.000         0.000      0.000  \n25%                  5925.750            12796.000         0.000      0.000  \n50%                 11014.000            21813.500         0.000      0.000  \n75%                 19365.250            36476.000         0.000      0.000  \nmax               1730472.000         69988086.000         7.000     11.000  "
          },
          "metadata": {}
        }
      ]
    },
    {
      "metadata": {
        "trusted": true
      },
      "cell_type": "code",
      "source": "ax = sns.boxplot(data=train['annual_income'],orient='h',palette=\"Set2\")",
      "execution_count": 56,
      "outputs": [
        {
          "output_type": "display_data",
          "data": {
            "image/png": "[encoded data removed]",
            "text/plain": "<Figure size 432x288 with 1 Axes>"
          },
          "metadata": {
            "needs_background": "light"
          }
        }
      ]
    },
    {
      "metadata": {
        "trusted": true
      },
      "cell_type": "code",
      "source": "train[train['annual_income']==8713547.000]",
      "execution_count": 57,
      "outputs": [
        {
          "output_type": "execute_result",
          "execution_count": 57,
          "data": {
            "text/html": "<div>\n<style scoped>\n    .dataframe tbody tr th:only-of-type {\n        vertical-align: middle;\n    }\n\n    .dataframe tbody tr th {\n        vertical-align: top;\n    }\n\n    .dataframe thead th {\n        text-align: right;\n    }\n</style>\n<table border=\"1\" class=\"dataframe\">\n  <thead>\n    <tr style=\"text-align: right;\">\n      <th></th>\n      <th>loan_id</th>\n      <th>customer_id</th>\n      <th>loan_status</th>\n      <th>current_loan_amount</th>\n      <th>term</th>\n      <th>credit_score</th>\n      <th>years_in_current_job</th>\n      <th>home_ownership</th>\n      <th>annual_income</th>\n      <th>purpose</th>\n      <th>monthly_debt</th>\n      <th>years_of_credit_history</th>\n      <th>months_since_last_delinquent</th>\n      <th>number_of_open_accounts</th>\n      <th>number_of_credit_problems</th>\n      <th>current_credit_balance</th>\n      <th>maximum_open_credit</th>\n      <th>bankruptcies</th>\n      <th>tax_liens</th>\n    </tr>\n  </thead>\n  <tbody>\n    <tr>\n      <th>1574</th>\n      <td>6dfd2f9c-b796-4cb3-8f71-04d6ae8a8f92</td>\n      <td>ceee183a-9b02-4b82-ae53-14ccd5f785fd</td>\n      <td>Charged Off</td>\n      <td>8006.000</td>\n      <td>Short Term</td>\n      <td>725.000</td>\n      <td>10.000</td>\n      <td>Home Mortgage</td>\n      <td>8713547.000</td>\n      <td>Debt Consolidation</td>\n      <td>798.740</td>\n      <td>16.000</td>\n      <td>nan</td>\n      <td>11</td>\n      <td>0</td>\n      <td>16462</td>\n      <td>30429</td>\n      <td>0.000</td>\n      <td>0.000</td>\n    </tr>\n  </tbody>\n</table>\n</div>",
            "text/plain": "                                   loan_id  \\\n1574  6dfd2f9c-b796-4cb3-8f71-04d6ae8a8f92   \n\n                               customer_id  loan_status  current_loan_amount  \\\n1574  ceee183a-9b02-4b82-ae53-14ccd5f785fd  Charged Off             8006.000   \n\n            term  credit_score  years_in_current_job home_ownership  \\\n1574  Short Term       725.000                10.000  Home Mortgage   \n\n      annual_income             purpose  monthly_debt  \\\n1574    8713547.000  Debt Consolidation       798.740   \n\n      years_of_credit_history  months_since_last_delinquent  \\\n1574                   16.000                           nan   \n\n      number_of_open_accounts  number_of_credit_problems  \\\n1574                       11                          0   \n\n      current_credit_balance  maximum_open_credit  bankruptcies  tax_liens  \n1574                   16462                30429         0.000      0.000  "
          },
          "metadata": {}
        }
      ]
    },
    {
      "metadata": {
        "trusted": true
      },
      "cell_type": "code",
      "source": "train = train[train['annual_income']!=8713547.000]\ntrain.shape",
      "execution_count": 59,
      "outputs": [
        {
          "output_type": "execute_result",
          "execution_count": 59,
          "data": {
            "text/plain": "(62235, 19)"
          },
          "metadata": {}
        }
      ]
    },
    {
      "metadata": {
        "trusted": true
      },
      "cell_type": "code",
      "source": "ax = sns.boxplot(data=train['annual_income'],orient='h',palette=\"Set2\")",
      "execution_count": 60,
      "outputs": [
        {
          "output_type": "display_data",
          "data": {
            "image/png": "[encoded data removed]",
            "text/plain": "<Figure size 432x288 with 1 Axes>"
          },
          "metadata": {
            "needs_background": "light"
          }
        }
      ]
    },
    {
      "metadata": {
        "trusted": true
      },
      "cell_type": "code",
      "source": "train[train['annual_income']>1200000]",
      "execution_count": 61,
      "outputs": [
        {
          "output_type": "execute_result",
          "execution_count": 61,
          "data": {
            "text/html": "<div>\n<style scoped>\n    .dataframe tbody tr th:only-of-type {\n        vertical-align: middle;\n    }\n\n    .dataframe tbody tr th {\n        vertical-align: top;\n    }\n\n    .dataframe thead th {\n        text-align: right;\n    }\n</style>\n<table border=\"1\" class=\"dataframe\">\n  <thead>\n    <tr style=\"text-align: right;\">\n      <th></th>\n      <th>loan_id</th>\n      <th>customer_id</th>\n      <th>loan_status</th>\n      <th>current_loan_amount</th>\n      <th>term</th>\n      <th>credit_score</th>\n      <th>years_in_current_job</th>\n      <th>home_ownership</th>\n      <th>annual_income</th>\n      <th>purpose</th>\n      <th>monthly_debt</th>\n      <th>years_of_credit_history</th>\n      <th>months_since_last_delinquent</th>\n      <th>number_of_open_accounts</th>\n      <th>number_of_credit_problems</th>\n      <th>current_credit_balance</th>\n      <th>maximum_open_credit</th>\n      <th>bankruptcies</th>\n      <th>tax_liens</th>\n    </tr>\n  </thead>\n  <tbody>\n    <tr>\n      <th>3686</th>\n      <td>d728b670-7248-4c64-b99e-251d9e7b88a2</td>\n      <td>a0222c05-0157-4791-b2b9-c74d51774d16</td>\n      <td>Charged Off</td>\n      <td>34430.000</td>\n      <td>Long Term</td>\n      <td>739.000</td>\n      <td>0.000</td>\n      <td>Home Mortgage</td>\n      <td>1623105.000</td>\n      <td>Debt Consolidation</td>\n      <td>2637.550</td>\n      <td>14.700</td>\n      <td>17.000</td>\n      <td>15</td>\n      <td>0</td>\n      <td>26265</td>\n      <td>69668</td>\n      <td>0.000</td>\n      <td>0.000</td>\n    </tr>\n    <tr>\n      <th>11660</th>\n      <td>cbd2df62-ea45-4ae0-bbeb-1681d5655221</td>\n      <td>97b34fe1-09e4-4c27-b8cc-ec335ec29891</td>\n      <td>Charged Off</td>\n      <td>15928.000</td>\n      <td>Long Term</td>\n      <td>733.000</td>\n      <td>2.000</td>\n      <td>Home Mortgage</td>\n      <td>1262125.000</td>\n      <td>Debt Consolidation</td>\n      <td>22939.120</td>\n      <td>19.200</td>\n      <td>nan</td>\n      <td>10</td>\n      <td>0</td>\n      <td>48726</td>\n      <td>58565</td>\n      <td>0.000</td>\n      <td>0.000</td>\n    </tr>\n    <tr>\n      <th>46615</th>\n      <td>076e5ce5-cc5a-4c3e-8e11-91c31a4fa00e</td>\n      <td>ecc52a5d-a428-455c-9ae6-332cafac55b2</td>\n      <td>Fully Paid</td>\n      <td>28291.000</td>\n      <td>Short Term</td>\n      <td>747.000</td>\n      <td>6.000</td>\n      <td>Own Home</td>\n      <td>1919760.000</td>\n      <td>Debt Consolidation</td>\n      <td>335.960</td>\n      <td>11.200</td>\n      <td>nan</td>\n      <td>7</td>\n      <td>0</td>\n      <td>13889</td>\n      <td>25768</td>\n      <td>0.000</td>\n      <td>0.000</td>\n    </tr>\n  </tbody>\n</table>\n</div>",
            "text/plain": "                                    loan_id  \\\n3686   d728b670-7248-4c64-b99e-251d9e7b88a2   \n11660  cbd2df62-ea45-4ae0-bbeb-1681d5655221   \n46615  076e5ce5-cc5a-4c3e-8e11-91c31a4fa00e   \n\n                                customer_id  loan_status  current_loan_amount  \\\n3686   a0222c05-0157-4791-b2b9-c74d51774d16  Charged Off            34430.000   \n11660  97b34fe1-09e4-4c27-b8cc-ec335ec29891  Charged Off            15928.000   \n46615  ecc52a5d-a428-455c-9ae6-332cafac55b2   Fully Paid            28291.000   \n\n             term  credit_score  years_in_current_job home_ownership  \\\n3686    Long Term       739.000                 0.000  Home Mortgage   \n11660   Long Term       733.000                 2.000  Home Mortgage   \n46615  Short Term       747.000                 6.000       Own Home   \n\n       annual_income             purpose  monthly_debt  \\\n3686     1623105.000  Debt Consolidation      2637.550   \n11660    1262125.000  Debt Consolidation     22939.120   \n46615    1919760.000  Debt Consolidation       335.960   \n\n       years_of_credit_history  months_since_last_delinquent  \\\n3686                    14.700                        17.000   \n11660                   19.200                           nan   \n46615                   11.200                           nan   \n\n       number_of_open_accounts  number_of_credit_problems  \\\n3686                        15                          0   \n11660                       10                          0   \n46615                        7                          0   \n\n       current_credit_balance  maximum_open_credit  bankruptcies  tax_liens  \n3686                    26265                69668         0.000      0.000  \n11660                   48726                58565         0.000      0.000  \n46615                   13889                25768         0.000      0.000  "
          },
          "metadata": {}
        }
      ]
    },
    {
      "metadata": {
        "trusted": true
      },
      "cell_type": "code",
      "source": "train = train.drop([3686,11660,46615])\ntrain.shape",
      "execution_count": 63,
      "outputs": [
        {
          "output_type": "execute_result",
          "execution_count": 63,
          "data": {
            "text/plain": "(62232, 19)"
          },
          "metadata": {}
        }
      ]
    },
    {
      "metadata": {
        "trusted": true
      },
      "cell_type": "code",
      "source": "ax = sns.distplot(train['annual_income'].dropna(), hist=True, kde=True, \n             color = 'darkblue', \n             hist_kws={'edgecolor':'black'},\n             kde_kws={'linewidth': 2})\nax.set(xlabel='Annual Income') \nplt.title('Annual Income frequency chart'); \nplt.show()",
      "execution_count": 64,
      "outputs": [
        {
          "output_type": "display_data",
          "data": {
            "image/png": "[encoded data removed]",
            "text/plain": "<Figure size 432x288 with 1 Axes>"
          },
          "metadata": {
            "needs_background": "light"
          }
        }
      ]
    },
    {
      "metadata": {
        "trusted": true
      },
      "cell_type": "code",
      "source": "train.describe()",
      "execution_count": 65,
      "outputs": [
        {
          "output_type": "execute_result",
          "execution_count": 65,
          "data": {
            "text/html": "<div>\n<style scoped>\n    .dataframe tbody tr th:only-of-type {\n        vertical-align: middle;\n    }\n\n    .dataframe tbody tr th {\n        vertical-align: top;\n    }\n\n    .dataframe thead th {\n        text-align: right;\n    }\n</style>\n<table border=\"1\" class=\"dataframe\">\n  <thead>\n    <tr style=\"text-align: right;\">\n      <th></th>\n      <th>current_loan_amount</th>\n      <th>credit_score</th>\n      <th>years_in_current_job</th>\n      <th>annual_income</th>\n      <th>monthly_debt</th>\n      <th>years_of_credit_history</th>\n      <th>months_since_last_delinquent</th>\n      <th>number_of_open_accounts</th>\n      <th>number_of_credit_problems</th>\n      <th>current_credit_balance</th>\n      <th>maximum_open_credit</th>\n      <th>bankruptcies</th>\n      <th>tax_liens</th>\n    </tr>\n  </thead>\n  <tbody>\n    <tr>\n      <th>count</th>\n      <td>56371.000</td>\n      <td>50993.000</td>\n      <td>59555.000</td>\n      <td>50993.000</td>\n      <td>62232.000</td>\n      <td>62232.000</td>\n      <td>28201.000</td>\n      <td>62232.000</td>\n      <td>62232.000</td>\n      <td>62232.000</td>\n      <td>62232.000</td>\n      <td>62107.000</td>\n      <td>62228.000</td>\n    </tr>\n    <tr>\n      <th>mean</th>\n      <td>13976.318</td>\n      <td>720.099</td>\n      <td>5.880</td>\n      <td>72210.882</td>\n      <td>963.286</td>\n      <td>18.316</td>\n      <td>35.067</td>\n      <td>11.105</td>\n      <td>0.162</td>\n      <td>15479.772</td>\n      <td>35784.446</td>\n      <td>0.114</td>\n      <td>0.028</td>\n    </tr>\n    <tr>\n      <th>std</th>\n      <td>8296.204</td>\n      <td>27.891</td>\n      <td>3.627</td>\n      <td>45909.542</td>\n      <td>636.089</td>\n      <td>7.064</td>\n      <td>21.934</td>\n      <td>4.986</td>\n      <td>0.472</td>\n      <td>20276.550</td>\n      <td>372645.476</td>\n      <td>0.345</td>\n      <td>0.249</td>\n    </tr>\n    <tr>\n      <th>min</th>\n      <td>885.000</td>\n      <td>585.000</td>\n      <td>0.000</td>\n      <td>4268.000</td>\n      <td>0.000</td>\n      <td>3.600</td>\n      <td>0.000</td>\n      <td>0.000</td>\n      <td>0.000</td>\n      <td>0.000</td>\n      <td>0.000</td>\n      <td>0.000</td>\n      <td>0.000</td>\n    </tr>\n    <tr>\n      <th>25%</th>\n      <td>7800.000</td>\n      <td>708.000</td>\n      <td>3.000</td>\n      <td>44681.000</td>\n      <td>532.188</td>\n      <td>13.500</td>\n      <td>16.000</td>\n      <td>8.000</td>\n      <td>0.000</td>\n      <td>5925.000</td>\n      <td>12795.750</td>\n      <td>0.000</td>\n      <td>0.000</td>\n    </tr>\n    <tr>\n      <th>50%</th>\n      <td>12060.000</td>\n      <td>728.000</td>\n      <td>6.000</td>\n      <td>61696.000</td>\n      <td>842.560</td>\n      <td>17.000</td>\n      <td>32.000</td>\n      <td>10.000</td>\n      <td>0.000</td>\n      <td>11013.500</td>\n      <td>21812.000</td>\n      <td>0.000</td>\n      <td>0.000</td>\n    </tr>\n    <tr>\n      <th>75%</th>\n      <td>19478.000</td>\n      <td>741.000</td>\n      <td>10.000</td>\n      <td>86887.000</td>\n      <td>1250.322</td>\n      <td>21.800</td>\n      <td>51.000</td>\n      <td>14.000</td>\n      <td>0.000</td>\n      <td>19364.250</td>\n      <td>36475.250</td>\n      <td>0.000</td>\n      <td>0.000</td>\n    </tr>\n    <tr>\n      <th>max</th>\n      <td>35875.000</td>\n      <td>751.000</td>\n      <td>10.000</td>\n      <td>986523.000</td>\n      <td>12055.680</td>\n      <td>62.500</td>\n      <td>176.000</td>\n      <td>76.000</td>\n      <td>12.000</td>\n      <td>1730472.000</td>\n      <td>69988086.000</td>\n      <td>7.000</td>\n      <td>11.000</td>\n    </tr>\n  </tbody>\n</table>\n</div>",
            "text/plain": "       current_loan_amount  credit_score  years_in_current_job  annual_income  \\\ncount            56371.000     50993.000             59555.000      50993.000   \nmean             13976.318       720.099                 5.880      72210.882   \nstd               8296.204        27.891                 3.627      45909.542   \nmin                885.000       585.000                 0.000       4268.000   \n25%               7800.000       708.000                 3.000      44681.000   \n50%              12060.000       728.000                 6.000      61696.000   \n75%              19478.000       741.000                10.000      86887.000   \nmax              35875.000       751.000                10.000     986523.000   \n\n       monthly_debt  years_of_credit_history  months_since_last_delinquent  \\\ncount     62232.000                62232.000                     28201.000   \nmean        963.286                   18.316                        35.067   \nstd         636.089                    7.064                        21.934   \nmin           0.000                    3.600                         0.000   \n25%         532.188                   13.500                        16.000   \n50%         842.560                   17.000                        32.000   \n75%        1250.322                   21.800                        51.000   \nmax       12055.680                   62.500                       176.000   \n\n       number_of_open_accounts  number_of_credit_problems  \\\ncount                62232.000                  62232.000   \nmean                    11.105                      0.162   \nstd                      4.986                      0.472   \nmin                      0.000                      0.000   \n25%                      8.000                      0.000   \n50%                     10.000                      0.000   \n75%                     14.000                      0.000   \nmax                     76.000                     12.000   \n\n       current_credit_balance  maximum_open_credit  bankruptcies  tax_liens  \ncount               62232.000            62232.000     62107.000  62228.000  \nmean                15479.772            35784.446         0.114      0.028  \nstd                 20276.550           372645.476         0.345      0.249  \nmin                     0.000                0.000         0.000      0.000  \n25%                  5925.000            12795.750         0.000      0.000  \n50%                 11013.500            21812.000         0.000      0.000  \n75%                 19364.250            36475.250         0.000      0.000  \nmax               1730472.000         69988086.000         7.000     11.000  "
          },
          "metadata": {}
        }
      ]
    },
    {
      "metadata": {
        "trusted": true
      },
      "cell_type": "code",
      "source": "ax = sns.boxplot(data=train['years_of_credit_history'],orient='h',palette=\"Set2\")",
      "execution_count": 67,
      "outputs": [
        {
          "output_type": "display_data",
          "data": {
            "image/png": "[encoded data removed]",
            "text/plain": "<Figure size 432x288 with 1 Axes>"
          },
          "metadata": {
            "needs_background": "light"
          }
        }
      ]
    },
    {
      "metadata": {
        "trusted": true
      },
      "cell_type": "code",
      "source": "ax = sns.boxplot(data=train['number_of_open_accounts'],orient='h',palette=\"Set2\")",
      "execution_count": 69,
      "outputs": [
        {
          "output_type": "display_data",
          "data": {
            "image/png": "[encoded data removed]",
            "text/plain": "<Figure size 432x288 with 1 Axes>"
          },
          "metadata": {
            "needs_background": "light"
          }
        }
      ]
    },
    {
      "metadata": {
        "trusted": true
      },
      "cell_type": "code",
      "source": "train[train['years_of_credit_history']>58]",
      "execution_count": 70,
      "outputs": [
        {
          "output_type": "execute_result",
          "execution_count": 70,
          "data": {
            "text/html": "<div>\n<style scoped>\n    .dataframe tbody tr th:only-of-type {\n        vertical-align: middle;\n    }\n\n    .dataframe tbody tr th {\n        vertical-align: top;\n    }\n\n    .dataframe thead th {\n        text-align: right;\n    }\n</style>\n<table border=\"1\" class=\"dataframe\">\n  <thead>\n    <tr style=\"text-align: right;\">\n      <th></th>\n      <th>loan_id</th>\n      <th>customer_id</th>\n      <th>loan_status</th>\n      <th>current_loan_amount</th>\n      <th>term</th>\n      <th>credit_score</th>\n      <th>years_in_current_job</th>\n      <th>home_ownership</th>\n      <th>annual_income</th>\n      <th>purpose</th>\n      <th>monthly_debt</th>\n      <th>years_of_credit_history</th>\n      <th>months_since_last_delinquent</th>\n      <th>number_of_open_accounts</th>\n      <th>number_of_credit_problems</th>\n      <th>current_credit_balance</th>\n      <th>maximum_open_credit</th>\n      <th>bankruptcies</th>\n      <th>tax_liens</th>\n    </tr>\n  </thead>\n  <tbody>\n    <tr>\n      <th>1908</th>\n      <td>cd5ca817-ff39-41e1-8dcd-3a86346c4631</td>\n      <td>33dd7f5c-92fa-4dcf-b798-6565b8281f0d</td>\n      <td>Fully Paid</td>\n      <td>14829.000</td>\n      <td>Short Term</td>\n      <td>741.000</td>\n      <td>7.000</td>\n      <td>Home Mortgage</td>\n      <td>86008.000</td>\n      <td>Business Loan</td>\n      <td>860.800</td>\n      <td>59.900</td>\n      <td>nan</td>\n      <td>9</td>\n      <td>1</td>\n      <td>4558</td>\n      <td>9596</td>\n      <td>1.000</td>\n      <td>0.000</td>\n    </tr>\n    <tr>\n      <th>32096</th>\n      <td>433a4adf-886b-4df7-998a-a0e171fb98bc</td>\n      <td>7e068df8-61ed-4418-9e6f-9d7610f3238f</td>\n      <td>Fully Paid</td>\n      <td>14802.000</td>\n      <td>Short Term</td>\n      <td>nan</td>\n      <td>nan</td>\n      <td>Home Mortgage</td>\n      <td>nan</td>\n      <td>Debt Consolidation</td>\n      <td>821.020</td>\n      <td>62.500</td>\n      <td>24.000</td>\n      <td>8</td>\n      <td>0</td>\n      <td>7007</td>\n      <td>23593</td>\n      <td>0.000</td>\n      <td>0.000</td>\n    </tr>\n    <tr>\n      <th>45779</th>\n      <td>0ca8800a-36f0-48b3-9564-2cce86190862</td>\n      <td>b6d390e3-8cb6-44b7-981a-ce00be0ca85f</td>\n      <td>Charged Off</td>\n      <td>21197.000</td>\n      <td>Short Term</td>\n      <td>nan</td>\n      <td>10.000</td>\n      <td>Home Mortgage</td>\n      <td>nan</td>\n      <td>Debt Consolidation</td>\n      <td>1574.660</td>\n      <td>60.500</td>\n      <td>48.000</td>\n      <td>11</td>\n      <td>1</td>\n      <td>7928</td>\n      <td>19575</td>\n      <td>1.000</td>\n      <td>0.000</td>\n    </tr>\n    <tr>\n      <th>49017</th>\n      <td>133375dc-a8ef-481a-854e-2958fc7ca9f6</td>\n      <td>a23f7854-accc-48c6-8634-d9277f92c10b</td>\n      <td>Charged Off</td>\n      <td>20190.000</td>\n      <td>Short Term</td>\n      <td>710.000</td>\n      <td>10.000</td>\n      <td>Home Mortgage</td>\n      <td>46290.000</td>\n      <td>Home Improvements</td>\n      <td>690.490</td>\n      <td>59.700</td>\n      <td>nan</td>\n      <td>7</td>\n      <td>0</td>\n      <td>2865</td>\n      <td>7091</td>\n      <td>0.000</td>\n      <td>0.000</td>\n    </tr>\n    <tr>\n      <th>61832</th>\n      <td>7e687480-14cb-416e-bc82-faea0ccf2a71</td>\n      <td>0c401d4d-523a-4eb5-97b0-f5677fd34ade</td>\n      <td>Fully Paid</td>\n      <td>34192.000</td>\n      <td>Long Term</td>\n      <td>676.000</td>\n      <td>10.000</td>\n      <td>Home Mortgage</td>\n      <td>126509.000</td>\n      <td>Debt Consolidation</td>\n      <td>3478.990</td>\n      <td>59.500</td>\n      <td>nan</td>\n      <td>15</td>\n      <td>0</td>\n      <td>59003</td>\n      <td>71259</td>\n      <td>0.000</td>\n      <td>0.000</td>\n    </tr>\n  </tbody>\n</table>\n</div>",
            "text/plain": "                                    loan_id  \\\n1908   cd5ca817-ff39-41e1-8dcd-3a86346c4631   \n32096  433a4adf-886b-4df7-998a-a0e171fb98bc   \n45779  0ca8800a-36f0-48b3-9564-2cce86190862   \n49017  133375dc-a8ef-481a-854e-2958fc7ca9f6   \n61832  7e687480-14cb-416e-bc82-faea0ccf2a71   \n\n                                customer_id  loan_status  current_loan_amount  \\\n1908   33dd7f5c-92fa-4dcf-b798-6565b8281f0d   Fully Paid            14829.000   \n32096  7e068df8-61ed-4418-9e6f-9d7610f3238f   Fully Paid            14802.000   \n45779  b6d390e3-8cb6-44b7-981a-ce00be0ca85f  Charged Off            21197.000   \n49017  a23f7854-accc-48c6-8634-d9277f92c10b  Charged Off            20190.000   \n61832  0c401d4d-523a-4eb5-97b0-f5677fd34ade   Fully Paid            34192.000   \n\n             term  credit_score  years_in_current_job home_ownership  \\\n1908   Short Term       741.000                 7.000  Home Mortgage   \n32096  Short Term           nan                   nan  Home Mortgage   \n45779  Short Term           nan                10.000  Home Mortgage   \n49017  Short Term       710.000                10.000  Home Mortgage   \n61832   Long Term       676.000                10.000  Home Mortgage   \n\n       annual_income             purpose  monthly_debt  \\\n1908       86008.000       Business Loan       860.800   \n32096            nan  Debt Consolidation       821.020   \n45779            nan  Debt Consolidation      1574.660   \n49017      46290.000   Home Improvements       690.490   \n61832     126509.000  Debt Consolidation      3478.990   \n\n       years_of_credit_history  months_since_last_delinquent  \\\n1908                    59.900                           nan   \n32096                   62.500                        24.000   \n45779                   60.500                        48.000   \n49017                   59.700                           nan   \n61832                   59.500                           nan   \n\n       number_of_open_accounts  number_of_credit_problems  \\\n1908                         9                          1   \n32096                        8                          0   \n45779                       11                          1   \n49017                        7                          0   \n61832                       15                          0   \n\n       current_credit_balance  maximum_open_credit  bankruptcies  tax_liens  \n1908                     4558                 9596         1.000      0.000  \n32096                    7007                23593         0.000      0.000  \n45779                    7928                19575         1.000      0.000  \n49017                    2865                 7091         0.000      0.000  \n61832                   59003                71259         0.000      0.000  "
          },
          "metadata": {}
        }
      ]
    },
    {
      "metadata": {
        "trusted": true
      },
      "cell_type": "code",
      "source": "train = train.drop([1908,32096,45779,49017,61832])",
      "execution_count": 71,
      "outputs": []
    },
    {
      "metadata": {
        "trusted": true
      },
      "cell_type": "code",
      "source": "train[train['number_of_open_accounts']>50]",
      "execution_count": 72,
      "outputs": [
        {
          "output_type": "execute_result",
          "execution_count": 72,
          "data": {
            "text/html": "<div>\n<style scoped>\n    .dataframe tbody tr th:only-of-type {\n        vertical-align: middle;\n    }\n\n    .dataframe tbody tr th {\n        vertical-align: top;\n    }\n\n    .dataframe thead th {\n        text-align: right;\n    }\n</style>\n<table border=\"1\" class=\"dataframe\">\n  <thead>\n    <tr style=\"text-align: right;\">\n      <th></th>\n      <th>loan_id</th>\n      <th>customer_id</th>\n      <th>loan_status</th>\n      <th>current_loan_amount</th>\n      <th>term</th>\n      <th>credit_score</th>\n      <th>years_in_current_job</th>\n      <th>home_ownership</th>\n      <th>annual_income</th>\n      <th>purpose</th>\n      <th>monthly_debt</th>\n      <th>years_of_credit_history</th>\n      <th>months_since_last_delinquent</th>\n      <th>number_of_open_accounts</th>\n      <th>number_of_credit_problems</th>\n      <th>current_credit_balance</th>\n      <th>maximum_open_credit</th>\n      <th>bankruptcies</th>\n      <th>tax_liens</th>\n    </tr>\n  </thead>\n  <tbody>\n    <tr>\n      <th>26502</th>\n      <td>7d000d90-1538-4d4d-b7c2-15724be2025e</td>\n      <td>080f449b-c0b7-4226-8a51-cdcc7e68954f</td>\n      <td>Fully Paid</td>\n      <td>6082.000</td>\n      <td>Short Term</td>\n      <td>742.000</td>\n      <td>10.000</td>\n      <td>Home Mortgage</td>\n      <td>71973.000</td>\n      <td>Debt Consolidation</td>\n      <td>422.840</td>\n      <td>18.700</td>\n      <td>nan</td>\n      <td>52</td>\n      <td>0</td>\n      <td>7234</td>\n      <td>164404</td>\n      <td>0.000</td>\n      <td>0.000</td>\n    </tr>\n    <tr>\n      <th>26637</th>\n      <td>4f8a7824-b9bd-4b8c-b2a1-6b7b196d2c0f</td>\n      <td>67a534d6-7038-4e0b-8d42-8aab6d220701</td>\n      <td>Fully Paid</td>\n      <td>28185.000</td>\n      <td>Long Term</td>\n      <td>744.000</td>\n      <td>2.000</td>\n      <td>Home Mortgage</td>\n      <td>201320.000</td>\n      <td>Debt Consolidation</td>\n      <td>4429.040</td>\n      <td>15.600</td>\n      <td>nan</td>\n      <td>55</td>\n      <td>0</td>\n      <td>34159</td>\n      <td>185646</td>\n      <td>0.000</td>\n      <td>0.000</td>\n    </tr>\n    <tr>\n      <th>27936</th>\n      <td>08dab131-9db3-4184-a32a-e12e48fd5d6c</td>\n      <td>907c2a89-76f8-4089-9a47-d410bb885339</td>\n      <td>Charged Off</td>\n      <td>18755.000</td>\n      <td>Long Term</td>\n      <td>670.000</td>\n      <td>7.000</td>\n      <td>Rent</td>\n      <td>46912.000</td>\n      <td>Debt Consolidation</td>\n      <td>1032.060</td>\n      <td>27.400</td>\n      <td>nan</td>\n      <td>76</td>\n      <td>0</td>\n      <td>22111</td>\n      <td>28131</td>\n      <td>0.000</td>\n      <td>0.000</td>\n    </tr>\n    <tr>\n      <th>39254</th>\n      <td>f4e0a453-a5ec-4011-9513-9d203ffe8e3c</td>\n      <td>3e62a9e2-a61b-472d-8e56-234e30061580</td>\n      <td>Charged Off</td>\n      <td>20426.000</td>\n      <td>Short Term</td>\n      <td>708.000</td>\n      <td>5.000</td>\n      <td>Home Mortgage</td>\n      <td>122556.000</td>\n      <td>Debt Consolidation</td>\n      <td>2195.800</td>\n      <td>15.700</td>\n      <td>nan</td>\n      <td>76</td>\n      <td>0</td>\n      <td>40606</td>\n      <td>121575</td>\n      <td>0.000</td>\n      <td>0.000</td>\n    </tr>\n  </tbody>\n</table>\n</div>",
            "text/plain": "                                    loan_id  \\\n26502  7d000d90-1538-4d4d-b7c2-15724be2025e   \n26637  4f8a7824-b9bd-4b8c-b2a1-6b7b196d2c0f   \n27936  08dab131-9db3-4184-a32a-e12e48fd5d6c   \n39254  f4e0a453-a5ec-4011-9513-9d203ffe8e3c   \n\n                                customer_id  loan_status  current_loan_amount  \\\n26502  080f449b-c0b7-4226-8a51-cdcc7e68954f   Fully Paid             6082.000   \n26637  67a534d6-7038-4e0b-8d42-8aab6d220701   Fully Paid            28185.000   \n27936  907c2a89-76f8-4089-9a47-d410bb885339  Charged Off            18755.000   \n39254  3e62a9e2-a61b-472d-8e56-234e30061580  Charged Off            20426.000   \n\n             term  credit_score  years_in_current_job home_ownership  \\\n26502  Short Term       742.000                10.000  Home Mortgage   \n26637   Long Term       744.000                 2.000  Home Mortgage   \n27936   Long Term       670.000                 7.000           Rent   \n39254  Short Term       708.000                 5.000  Home Mortgage   \n\n       annual_income             purpose  monthly_debt  \\\n26502      71973.000  Debt Consolidation       422.840   \n26637     201320.000  Debt Consolidation      4429.040   \n27936      46912.000  Debt Consolidation      1032.060   \n39254     122556.000  Debt Consolidation      2195.800   \n\n       years_of_credit_history  months_since_last_delinquent  \\\n26502                   18.700                           nan   \n26637                   15.600                           nan   \n27936                   27.400                           nan   \n39254                   15.700                           nan   \n\n       number_of_open_accounts  number_of_credit_problems  \\\n26502                       52                          0   \n26637                       55                          0   \n27936                       76                          0   \n39254                       76                          0   \n\n       current_credit_balance  maximum_open_credit  bankruptcies  tax_liens  \n26502                    7234               164404         0.000      0.000  \n26637                   34159               185646         0.000      0.000  \n27936                   22111                28131         0.000      0.000  \n39254                   40606               121575         0.000      0.000  "
          },
          "metadata": {}
        }
      ]
    },
    {
      "metadata": {
        "trusted": true
      },
      "cell_type": "code",
      "source": "train = train.drop([26502,26637,27936,39254])",
      "execution_count": 73,
      "outputs": []
    },
    {
      "metadata": {
        "trusted": true
      },
      "cell_type": "code",
      "source": "#Capping the outliers\nIQR = train['number_of_open_accounts'].quantile(0.75) - train['number_of_open_accounts'].quantile(0.25)\nupper_limit = train['number_of_open_accounts'].quantile(0.75) + (IQR * 1.5)\nprint(\"Upper Limit:\", upper_limit)",
      "execution_count": 74,
      "outputs": [
        {
          "output_type": "stream",
          "text": "Upper Limit: 23.0\n",
          "name": "stdout"
        }
      ]
    },
    {
      "metadata": {
        "trusted": true
      },
      "cell_type": "code",
      "source": "train['number_of_open_accounts'] = [23.0 if ( x>23.0 and x!=np.nan) else x for x in train['number_of_open_accounts']]\nax = sns.boxplot(data=train['number_of_open_accounts'], orient=\"h\", palette=\"Set2\")",
      "execution_count": 75,
      "outputs": [
        {
          "output_type": "display_data",
          "data": {
            "image/png": "[encoded data removed]",
            "text/plain": "<Figure size 432x288 with 1 Axes>"
          },
          "metadata": {
            "needs_background": "light"
          }
        }
      ]
    },
    {
      "metadata": {
        "trusted": true
      },
      "cell_type": "code",
      "source": "train.isnull().sum()",
      "execution_count": 80,
      "outputs": [
        {
          "output_type": "execute_result",
          "execution_count": 80,
          "data": {
            "text/plain": "loan_id                             0\ncustomer_id                         0\nloan_status                         0\ncurrent_loan_amount              5847\nterm                                0\ncredit_score                    11216\nyears_in_current_job             2676\nhome_ownership                      0\nannual_income                   11216\npurpose                             0\nmonthly_debt                        0\nyears_of_credit_history             0\nmonths_since_last_delinquent    34024\nnumber_of_open_accounts             0\nnumber_of_credit_problems           0\ncurrent_credit_balance              0\nmaximum_open_credit                 0\nbankruptcies                        0\ntax_liens                           0\ndtype: int64"
          },
          "metadata": {}
        }
      ]
    },
    {
      "metadata": {
        "trusted": true
      },
      "cell_type": "code",
      "source": "train = train.dropna(subset=['bankruptcies','tax_liens'])\n",
      "execution_count": 79,
      "outputs": []
    },
    {
      "metadata": {
        "trusted": true
      },
      "cell_type": "code",
      "source": "train[\"months_since_last_delinquent\"].fillna(0, inplace = True)\nprint(train.shape)\ntrain.isnull().sum()",
      "execution_count": 81,
      "outputs": [
        {
          "output_type": "stream",
          "text": "(62098, 19)\n",
          "name": "stdout"
        },
        {
          "output_type": "execute_result",
          "execution_count": 81,
          "data": {
            "text/plain": "loan_id                             0\ncustomer_id                         0\nloan_status                         0\ncurrent_loan_amount              5847\nterm                                0\ncredit_score                    11216\nyears_in_current_job             2676\nhome_ownership                      0\nannual_income                   11216\npurpose                             0\nmonthly_debt                        0\nyears_of_credit_history             0\nmonths_since_last_delinquent        0\nnumber_of_open_accounts             0\nnumber_of_credit_problems           0\ncurrent_credit_balance              0\nmaximum_open_credit                 0\nbankruptcies                        0\ntax_liens                           0\ndtype: int64"
          },
          "metadata": {}
        }
      ]
    },
    {
      "metadata": {
        "trusted": true
      },
      "cell_type": "code",
      "source": "train.reset_index(drop=True, inplace=True)\nmy_imputer = IterativeImputer()\n#For this we need only numerical variables so filtering this\ntrain_numerical = train._get_numeric_data()\ntrain_numerical_columns = train_numerical.columns \nprint(train_numerical.shape)\ntrain_numerical.isnull().sum()",
      "execution_count": 82,
      "outputs": [
        {
          "output_type": "stream",
          "text": "(62098, 13)\n",
          "name": "stdout"
        },
        {
          "output_type": "execute_result",
          "execution_count": 82,
          "data": {
            "text/plain": "current_loan_amount              5847\ncredit_score                    11216\nyears_in_current_job             2676\nannual_income                   11216\nmonthly_debt                        0\nyears_of_credit_history             0\nmonths_since_last_delinquent        0\nnumber_of_open_accounts             0\nnumber_of_credit_problems           0\ncurrent_credit_balance              0\nmaximum_open_credit                 0\nbankruptcies                        0\ntax_liens                           0\ndtype: int64"
          },
          "metadata": {}
        }
      ]
    },
    {
      "metadata": {
        "trusted": true
      },
      "cell_type": "code",
      "source": "train_imputed = my_imputer.fit_transform(train_numerical)\ntrain_imputed = pd.DataFrame(train_imputed,columns=train_numerical_columns)\ntrain_imputed.isnull().sum()",
      "execution_count": 83,
      "outputs": [
        {
          "output_type": "execute_result",
          "execution_count": 83,
          "data": {
            "text/plain": "current_loan_amount             0\ncredit_score                    0\nyears_in_current_job            0\nannual_income                   0\nmonthly_debt                    0\nyears_of_credit_history         0\nmonths_since_last_delinquent    0\nnumber_of_open_accounts         0\nnumber_of_credit_problems       0\ncurrent_credit_balance          0\nmaximum_open_credit             0\nbankruptcies                    0\ntax_liens                       0\ndtype: int64"
          },
          "metadata": {}
        }
      ]
    },
    {
      "metadata": {
        "trusted": true
      },
      "cell_type": "code",
      "source": "train_imputed.describe()",
      "execution_count": 84,
      "outputs": [
        {
          "output_type": "execute_result",
          "execution_count": 84,
          "data": {
            "text/html": "<div>\n<style scoped>\n    .dataframe tbody tr th:only-of-type {\n        vertical-align: middle;\n    }\n\n    .dataframe tbody tr th {\n        vertical-align: top;\n    }\n\n    .dataframe thead th {\n        text-align: right;\n    }\n</style>\n<table border=\"1\" class=\"dataframe\">\n  <thead>\n    <tr style=\"text-align: right;\">\n      <th></th>\n      <th>current_loan_amount</th>\n      <th>credit_score</th>\n      <th>years_in_current_job</th>\n      <th>annual_income</th>\n      <th>monthly_debt</th>\n      <th>years_of_credit_history</th>\n      <th>months_since_last_delinquent</th>\n      <th>number_of_open_accounts</th>\n      <th>number_of_credit_problems</th>\n      <th>current_credit_balance</th>\n      <th>maximum_open_credit</th>\n      <th>bankruptcies</th>\n      <th>tax_liens</th>\n    </tr>\n  </thead>\n  <tbody>\n    <tr>\n      <th>count</th>\n      <td>62098.000</td>\n      <td>62098.000</td>\n      <td>62098.000</td>\n      <td>62098.000</td>\n      <td>62098.000</td>\n      <td>62098.000</td>\n      <td>62098.000</td>\n      <td>62098.000</td>\n      <td>62098.000</td>\n      <td>62098.000</td>\n      <td>62098.000</td>\n      <td>62098.000</td>\n      <td>62098.000</td>\n    </tr>\n    <tr>\n      <th>mean</th>\n      <td>13856.079</td>\n      <td>720.194</td>\n      <td>5.902</td>\n      <td>72029.815</td>\n      <td>963.898</td>\n      <td>18.308</td>\n      <td>15.896</td>\n      <td>11.008</td>\n      <td>0.162</td>\n      <td>15483.161</td>\n      <td>35747.365</td>\n      <td>0.114</td>\n      <td>0.028</td>\n    </tr>\n    <tr>\n      <th>std</th>\n      <td>8031.639</td>\n      <td>25.476</td>\n      <td>3.556</td>\n      <td>43189.244</td>\n      <td>635.785</td>\n      <td>7.055</td>\n      <td>22.866</td>\n      <td>4.647</td>\n      <td>0.473</td>\n      <td>20273.467</td>\n      <td>372989.003</td>\n      <td>0.345</td>\n      <td>0.249</td>\n    </tr>\n    <tr>\n      <th>min</th>\n      <td>975.000</td>\n      <td>585.000</td>\n      <td>0.000</td>\n      <td>4268.000</td>\n      <td>0.000</td>\n      <td>3.600</td>\n      <td>0.000</td>\n      <td>0.000</td>\n      <td>0.000</td>\n      <td>0.000</td>\n      <td>0.000</td>\n      <td>0.000</td>\n      <td>0.000</td>\n    </tr>\n    <tr>\n      <th>25%</th>\n      <td>7973.000</td>\n      <td>711.000</td>\n      <td>3.000</td>\n      <td>45869.684</td>\n      <td>532.758</td>\n      <td>13.500</td>\n      <td>0.000</td>\n      <td>8.000</td>\n      <td>0.000</td>\n      <td>5935.250</td>\n      <td>12798.250</td>\n      <td>0.000</td>\n      <td>0.000</td>\n    </tr>\n    <tr>\n      <th>50%</th>\n      <td>12036.000</td>\n      <td>725.000</td>\n      <td>6.000</td>\n      <td>63011.000</td>\n      <td>843.110</td>\n      <td>17.000</td>\n      <td>0.000</td>\n      <td>10.000</td>\n      <td>0.000</td>\n      <td>11021.000</td>\n      <td>21812.000</td>\n      <td>0.000</td>\n      <td>0.000</td>\n    </tr>\n    <tr>\n      <th>75%</th>\n      <td>18418.000</td>\n      <td>739.000</td>\n      <td>10.000</td>\n      <td>86424.663</td>\n      <td>1251.043</td>\n      <td>21.800</td>\n      <td>28.000</td>\n      <td>14.000</td>\n      <td>0.000</td>\n      <td>19373.750</td>\n      <td>36466.000</td>\n      <td>0.000</td>\n      <td>0.000</td>\n    </tr>\n    <tr>\n      <th>max</th>\n      <td>91948.471</td>\n      <td>764.719</td>\n      <td>10.381</td>\n      <td>986523.000</td>\n      <td>12055.680</td>\n      <td>58.000</td>\n      <td>176.000</td>\n      <td>23.000</td>\n      <td>12.000</td>\n      <td>1730472.000</td>\n      <td>69988086.000</td>\n      <td>7.000</td>\n      <td>11.000</td>\n    </tr>\n  </tbody>\n</table>\n</div>",
            "text/plain": "       current_loan_amount  credit_score  years_in_current_job  annual_income  \\\ncount            62098.000     62098.000             62098.000      62098.000   \nmean             13856.079       720.194                 5.902      72029.815   \nstd               8031.639        25.476                 3.556      43189.244   \nmin                975.000       585.000                 0.000       4268.000   \n25%               7973.000       711.000                 3.000      45869.684   \n50%              12036.000       725.000                 6.000      63011.000   \n75%              18418.000       739.000                10.000      86424.663   \nmax              91948.471       764.719                10.381     986523.000   \n\n       monthly_debt  years_of_credit_history  months_since_last_delinquent  \\\ncount     62098.000                62098.000                     62098.000   \nmean        963.898                   18.308                        15.896   \nstd         635.785                    7.055                        22.866   \nmin           0.000                    3.600                         0.000   \n25%         532.758                   13.500                         0.000   \n50%         843.110                   17.000                         0.000   \n75%        1251.043                   21.800                        28.000   \nmax       12055.680                   58.000                       176.000   \n\n       number_of_open_accounts  number_of_credit_problems  \\\ncount                62098.000                  62098.000   \nmean                    11.008                      0.162   \nstd                      4.647                      0.473   \nmin                      0.000                      0.000   \n25%                      8.000                      0.000   \n50%                     10.000                      0.000   \n75%                     14.000                      0.000   \nmax                     23.000                     12.000   \n\n       current_credit_balance  maximum_open_credit  bankruptcies  tax_liens  \ncount               62098.000            62098.000     62098.000  62098.000  \nmean                15483.161            35747.365         0.114      0.028  \nstd                 20273.467           372989.003         0.345      0.249  \nmin                     0.000                0.000         0.000      0.000  \n25%                  5935.250            12798.250         0.000      0.000  \n50%                 11021.000            21812.000         0.000      0.000  \n75%                 19373.750            36466.000         0.000      0.000  \nmax               1730472.000         69988086.000         7.000     11.000  "
          },
          "metadata": {}
        }
      ]
    },
    {
      "metadata": {
        "trusted": true
      },
      "cell_type": "code",
      "source": "train_imputed.shape",
      "execution_count": 85,
      "outputs": [
        {
          "output_type": "execute_result",
          "execution_count": 85,
          "data": {
            "text/plain": "(62098, 13)"
          },
          "metadata": {}
        }
      ]
    },
    {
      "metadata": {
        "trusted": true
      },
      "cell_type": "code",
      "source": "train[''] = ",
      "execution_count": null,
      "outputs": []
    }
  ],
  "metadata": {
    "kernelspec": {
      "name": "python36",
      "display_name": "Python 3.6",
      "language": "python"
    },
    "language_info": {
      "mimetype": "text/x-python",
      "nbconvert_exporter": "python",
      "name": "python",
      "pygments_lexer": "ipython3",
      "version": "3.6.6",
      "file_extension": ".py",
      "codemirror_mode": {
        "version": 3,
        "name": "ipython"
      }
    }
  },
  "nbformat": 4,
  "nbformat_minor": 2
}